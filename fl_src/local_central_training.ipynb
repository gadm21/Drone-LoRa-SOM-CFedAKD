{
 "cells": [
  {
   "cell_type": "code",
   "execution_count": 1,
   "metadata": {},
   "outputs": [],
   "source": [
    "import os\n",
    "import errno\n",
    "import argparse\n",
    "import sys\n",
    "import pickle\n",
    "\n",
    "import numpy as np\n",
    "import pandas as pd\n",
    "from tensorflow.keras.models import load_model\n",
    "\n",
    "from data_utils import load_CIFAR_data, generate_partial_data, generate_bal_private_data, load_FEMNIST_data, load_MNIST_data\n",
    "from FedMD import FedMD\n",
    "from Neural_Networks import train_models, cnn_2layer_fc_model, cnn_3layer_fc_model\n",
    "\n",
    "import numpy as np\n",
    "from tensorflow.keras.models import clone_model, load_model\n",
    "from tensorflow.keras.callbacks import EarlyStopping\n",
    "import tensorflow as tf\n",
    "\n",
    "from utility import * \n",
    "from data_utils import generate_alignment_data\n",
    "from Neural_Networks import remove_last_layer"
   ]
  },
  {
   "attachments": {},
   "cell_type": "markdown",
   "metadata": {},
   "source": [
    "## Functions and Configurations"
   ]
  },
  {
   "cell_type": "code",
   "execution_count": 25,
   "metadata": {},
   "outputs": [],
   "source": [
    "# CIFAR-10 config\n",
    "\n",
    "CANDIDATE_MODELS = {\"2_layer_CNN\": cnn_2layer_fc_model, \n",
    "                    \"3_layer_CNN\": cnn_3layer_fc_model} \n",
    "\n",
    "conf_file = os.path.abspath(\"conf/CIFAR_balance_conf.json\")\n",
    "\n",
    "with open(conf_file, \"r\") as f:\n",
    "    conf_dict = eval(f.read())\n",
    "    \n",
    "    #n_classes = conf_dict[\"n_classes\"]\n",
    "    model_config = conf_dict[\"models\"]\n",
    "    pre_train_params = conf_dict[\"pre_train_params\"]\n",
    "    model_saved_dir = conf_dict[\"model_saved_dir\"]\n",
    "    model_saved_names = conf_dict[\"model_saved_names\"]\n",
    "    is_early_stopping = conf_dict[\"early_stopping\"]\n",
    "    public_classes = conf_dict[\"public_classes\"]\n",
    "    private_classes = conf_dict[\"private_classes\"]\n",
    "    n_classes = len(public_classes) + len(private_classes)\n",
    "    \n",
    "    emnist_data_dir = conf_dict[\"EMNIST_dir\"]    \n",
    "    N_parties = conf_dict[\"N_parties\"]\n",
    "    N_samples_per_class = conf_dict[\"N_samples_per_class\"]\n",
    "    \n",
    "    N_rounds = conf_dict[\"N_rounds\"]\n",
    "    N_alignment = conf_dict[\"N_alignment\"]\n",
    "    N_private_training_round = conf_dict[\"N_private_training_round\"]\n",
    "    private_training_batchsize = conf_dict[\"private_training_batchsize\"]\n",
    "    N_logits_matching_round = conf_dict[\"N_logits_matching_round\"]\n",
    "    logits_matching_batchsize = conf_dict[\"logits_matching_batchsize\"]\n",
    "    aug = conf_dict[\"aug\"]\n",
    "    compress = conf_dict[\"compress\"]\n",
    "    \n",
    "    \n",
    "    result_save_dir = conf_dict[\"result_save_dir\"]\n",
    "\n",
    "del conf_dict, conf_file"
   ]
  },
  {
   "cell_type": "code",
   "execution_count": 2,
   "metadata": {},
   "outputs": [],
   "source": [
    "#FEMNIST conifg\n",
    "\n",
    "CANDIDATE_MODELS = {\"2_layer_CNN\": cnn_2layer_fc_model, \n",
    "                    \"3_layer_CNN\": cnn_3layer_fc_model} \n",
    "\n",
    "conf_file = os.path.abspath(\"conf/EMNIST_balance_conf.json\")\n",
    "with open(conf_file, \"r\") as f:\n",
    "    conf_dict = eval(f.read())\n",
    "    \n",
    "    #n_classes = conf_dict[\"n_classes\"]\n",
    "    model_config = conf_dict[\"models\"]\n",
    "    pre_train_params = conf_dict[\"pre_train_params\"]\n",
    "    model_saved_dir = conf_dict[\"model_saved_dir\"]\n",
    "    model_saved_names = conf_dict[\"model_saved_names\"]\n",
    "    is_early_stopping = conf_dict[\"early_stopping\"]\n",
    "    public_classes = conf_dict[\"public_classes\"]\n",
    "    private_classes = conf_dict[\"private_classes\"]\n",
    "    n_classes = len(public_classes) + len(private_classes)\n",
    "    \n",
    "    emnist_data_dir = conf_dict[\"EMNIST_dir\"]    \n",
    "    N_parties = conf_dict[\"N_parties\"]\n",
    "    N_samples_per_class = conf_dict[\"N_samples_per_class\"]\n",
    "    \n",
    "    N_rounds = conf_dict[\"N_rounds\"]\n",
    "    N_alignment = conf_dict[\"N_alignment\"]\n",
    "    N_private_training_round = conf_dict[\"N_private_training_round\"]\n",
    "    private_training_batchsize = conf_dict[\"private_training_batchsize\"]\n",
    "    N_logits_matching_round = conf_dict[\"N_logits_matching_round\"]\n",
    "    logits_matching_batchsize = conf_dict[\"logits_matching_batchsize\"]\n",
    "    \n",
    "    \n",
    "    result_save_dir = conf_dict[\"result_save_dir\"]"
   ]
  },
  {
   "cell_type": "code",
   "execution_count": 28,
   "metadata": {},
   "outputs": [
    {
     "data": {
      "text/plain": [
       "5"
      ]
     },
     "execution_count": 28,
     "metadata": {},
     "output_type": "execute_result"
    }
   ],
   "source": [
    "N_samples_per_class"
   ]
  },
  {
   "attachments": {},
   "cell_type": "markdown",
   "metadata": {},
   "source": [
    "## Play \n"
   ]
  },
  {
   "cell_type": "markdown",
   "metadata": {},
   "source": [
    "## Load CIFAR10 data"
   ]
  },
  {
   "cell_type": "code",
   "execution_count": 3,
   "metadata": {},
   "outputs": [
    {
     "name": "stdout",
     "output_type": "stream",
     "text": [
      "X_train shape : (50000, 32, 32, 3)\n",
      "X_test shape : (10000, 32, 32, 3)\n",
      "y_train shape : (50000,)\n",
      "y_test shape : (10000,)\n",
      "X_train shape : (50000, 32, 32, 3)\n",
      "X_test shape : (10000, 32, 32, 3)\n",
      "y_train shape : (50000,)\n",
      "y_test shape : (10000,)\n",
      "X shape : (3000, 32, 32, 3)\n",
      "y shape : (3000,)\n",
      "X shape : (600, 32, 32, 3)\n",
      "y shape : (600,)\n",
      "10    500\n",
      "15    500\n",
      "14    500\n",
      "12    500\n",
      "13    500\n",
      "11    500\n",
      "dtype: int64\n",
      "============================================================\n",
      "============================================================\n",
      "X shape : (600, 32, 32, 3)\n",
      "y shape : (600,)\n",
      "Metal device set to: Apple M1\n",
      "\n",
      "systemMemory: 8.00 GB\n",
      "maxCacheSize: 2.67 GB\n",
      "\n"
     ]
    },
    {
     "name": "stderr",
     "output_type": "stream",
     "text": [
      "2023-08-01 17:57:27.940421: I tensorflow/core/common_runtime/pluggable_device/pluggable_device_factory.cc:305] Could not identify NUMA node of platform GPU ID 0, defaulting to 0. Your kernel may not have been built with NUMA support.\n",
      "2023-08-01 17:57:27.942579: I tensorflow/core/common_runtime/pluggable_device/pluggable_device_factory.cc:271] Created TensorFlow device (/job:localhost/replica:0/task:0/device:GPU:0 with 0 MB memory) -> physical PluggableDevice (device: 0, name: METAL, pci bus id: <undefined>)\n",
      "/Users/gadmohamed/miniforge3/envs/env_tf/lib/python3.9/site-packages/keras/optimizer_v2/adam.py:105: UserWarning: The `lr` argument is deprecated, use `learning_rate` instead.\n",
      "  super(Adam, self).__init__(name, **kwargs)\n"
     ]
    },
    {
     "name": "stdout",
     "output_type": "stream",
     "text": [
      "model 0 : CNN_128_256\n",
      "model 1 : CNN_128_384\n",
      "model 2 : CNN_128_512\n",
      "model 3 : CNN_256_256\n",
      "model 4 : CNN_256_512\n",
      "model 5 : CNN_64_128_256\n",
      "model 6 : CNN_64_128_192\n",
      "model 7 : CNN_128_192_256\n",
      "model 8 : CNN_128_128_128\n",
      "model 9 : CNN_128_128_192\n",
      "model 10 : CNN_128_256\n",
      "model 11 : CNN_128_384\n",
      "model 12 : CNN_128_512\n",
      "model 13 : CNN_256_256\n",
      "model 14 : CNN_256_512\n",
      "model 15 : CNN_64_128_256\n",
      "model 16 : CNN_64_128_192\n",
      "model 17 : CNN_128_192_256\n",
      "model 18 : CNN_128_128_128\n",
      "model 19 : CNN_128_128_192\n"
     ]
    }
   ],
   "source": [
    "\n",
    "\n",
    "X_train_CIFAR10, y_train_CIFAR10, X_test_CIFAR10, y_test_CIFAR10 \\\n",
    "= load_CIFAR_data(data_type=\"CIFAR10\", \n",
    "                    standarized = True, verbose = True)\n",
    "\n",
    "public_dataset = {\"X\": X_train_CIFAR10, \"y\": y_train_CIFAR10}\n",
    "\n",
    "\n",
    "X_train_CIFAR100, y_train_CIFAR100, X_test_CIFAR100, y_test_CIFAR100 \\\n",
    "= load_CIFAR_data(data_type=\"CIFAR100\",\n",
    "                    standarized = True, verbose = True)\n",
    "\n",
    "# only use those CIFAR100 data whose y_labels belong to private_classes\n",
    "X_train_CIFAR100, y_train_CIFAR100 \\\n",
    "= generate_partial_data(X = X_train_CIFAR100, y= y_train_CIFAR100,\n",
    "                        class_in_use = private_classes, \n",
    "                        verbose = True)\n",
    "\n",
    "\n",
    "X_test_CIFAR100, y_test_CIFAR100 \\\n",
    "= generate_partial_data(X = X_test_CIFAR100, y= y_test_CIFAR100,\n",
    "                        class_in_use = private_classes, \n",
    "                        verbose = True)\n",
    "\n",
    "# relabel the selected CIFAR100 data for future convenience\n",
    "for index, cls_ in enumerate(private_classes):        \n",
    "    y_train_CIFAR100[y_train_CIFAR100 == cls_] = index + len(public_classes)\n",
    "    y_test_CIFAR100[y_test_CIFAR100 == cls_] = index + len(public_classes)\n",
    "del index, cls_\n",
    "\n",
    "print(pd.Series(y_train_CIFAR100).value_counts())\n",
    "mod_private_classes = np.arange(len(private_classes)) + len(public_classes)\n",
    "\n",
    "print(\"=\"*60)\n",
    "#generate private data\n",
    "private_data, total_private_data\\\n",
    "=generate_bal_private_data(X_train_CIFAR100, y_train_CIFAR100,      \n",
    "                            N_parties = N_parties,           \n",
    "                            classes_in_use = mod_private_classes, \n",
    "                            N_samples_per_class = N_samples_per_class, \n",
    "                            data_overlap = False)\n",
    "\n",
    "print(\"=\"*60)\n",
    "X_tmp, y_tmp = generate_partial_data(X = X_test_CIFAR100, y= y_test_CIFAR100,\n",
    "                                        class_in_use = mod_private_classes, \n",
    "                                        verbose = True)\n",
    "private_test_data = {\"X\": X_tmp, \"y\": y_tmp}\n",
    "del X_tmp, y_tmp\n",
    "\n",
    "parties = []\n",
    "if model_saved_dir is None:\n",
    "    for i, item in enumerate(model_config):\n",
    "        model_name = item[\"model_type\"]\n",
    "        model_params = item[\"params\"]\n",
    "        tmp = CANDIDATE_MODELS[model_name](n_classes=n_classes, \n",
    "                                            input_shape=(32,32,3),\n",
    "                                            **model_params)\n",
    "        print(\"model {0} : {1}\".format(i, model_saved_names[i]))\n",
    "        # print(tmp.summary())\n",
    "        parties.append(tmp)\n"
   ]
  },
  {
   "cell_type": "markdown",
   "metadata": {},
   "source": [
    "## Load FASHION MNIST dataset"
   ]
  },
  {
   "cell_type": "code",
   "execution_count": 3,
   "metadata": {},
   "outputs": [
    {
     "name": "stdout",
     "output_type": "stream",
     "text": [
      "MNIST dataset ... \n",
      "X_train shape : (60000, 28, 28)\n",
      "X_test shape : (10000, 28, 28)\n",
      "y_train shape : (60000,)\n",
      "y_test shape : (10000,)\n",
      "shape: (60000,)\n",
      "unique: [0 1 2 3 4 5 6 7 8 9]\n",
      "EMNIST-letter dataset ... \n",
      "X_train shape : (60000, 28, 28)\n",
      "X_test shape : (10000, 28, 28)\n",
      "y_train shape : (60000,)\n",
      "y_test shape : (10000,)\n",
      "y train femnist unique: [ 9 10 11 12 13 14 15 16 17 18]\n",
      "y test femnist unique: [ 9 10 11 12 13 14 15 16 17 18]\n",
      "private classes: [10, 11, 12, 13, 14, 15]\n",
      "Metal device set to: Apple M1\n",
      "\n",
      "systemMemory: 8.00 GB\n",
      "maxCacheSize: 2.67 GB\n",
      "\n"
     ]
    },
    {
     "name": "stderr",
     "output_type": "stream",
     "text": [
      "2023-08-11 22:12:23.449555: I tensorflow/core/common_runtime/pluggable_device/pluggable_device_factory.cc:305] Could not identify NUMA node of platform GPU ID 0, defaulting to 0. Your kernel may not have been built with NUMA support.\n",
      "2023-08-11 22:12:23.449919: I tensorflow/core/common_runtime/pluggable_device/pluggable_device_factory.cc:271] Created TensorFlow device (/job:localhost/replica:0/task:0/device:GPU:0 with 0 MB memory) -> physical PluggableDevice (device: 0, name: METAL, pci bus id: <undefined>)\n",
      "/Users/gadmohamed/miniforge3/envs/env_tf/lib/python3.9/site-packages/keras/optimizer_v2/adam.py:105: UserWarning: The `lr` argument is deprecated, use `learning_rate` instead.\n",
      "  super(Adam, self).__init__(name, **kwargs)\n"
     ]
    }
   ],
   "source": [
    "\n",
    "X_train_MNIST, y_train_MNIST, X_test_MNIST, y_test_MNIST \\\n",
    "= load_MNIST_data(standarized = True, verbose = True)\n",
    "\n",
    "public_dataset = {\"X\": X_train_MNIST, \"y\": y_train_MNIST}\n",
    "\n",
    "\n",
    "X_train_EMNIST, y_train_EMNIST, X_test_EMNIST, y_test_EMNIST \\\n",
    "= load_FEMNIST_data(standarized = True, verbose = True)\n",
    "\n",
    "y_train_EMNIST = y_train_EMNIST + len(public_classes)\n",
    "y_test_EMNIST = y_test_EMNIST + len(public_classes)\n",
    "\n",
    "print(\"y train femnist unique:\", np.unique(y_train_EMNIST))\n",
    "print(\"y test femnist unique:\", np.unique(y_test_EMNIST)) \n",
    "print(\"private classes:\", private_classes)\n",
    "\n",
    "#generate private data\n",
    "private_data, total_private_data \\\n",
    "= generate_bal_private_data(X_train_EMNIST, y_train_EMNIST, \n",
    "                            N_parties = N_parties,             \n",
    "                            classes_in_use = private_classes, \n",
    "                            N_samples_per_class = N_samples_per_class, \n",
    "                            data_overlap = False)\n",
    "\n",
    "X_tmp, y_tmp = generate_partial_data(X = X_test_EMNIST, y= y_test_EMNIST, \n",
    "                                        class_in_use = private_classes, verbose = True)\n",
    "private_test_data = {\"X\": X_tmp, \"y\": y_tmp}\n",
    "del X_tmp, y_tmp\n",
    "\n",
    "parties = []\n",
    "if model_saved_dir is None:\n",
    "    for i in range(N_parties):\n",
    "\n",
    "        item = np.random.choice(model_config)\n",
    "        model_name = item[\"model_type\"]\n",
    "        model_params = item[\"params\"]\n",
    "        tmp = CANDIDATE_MODELS[model_name](n_classes=n_classes, \n",
    "                                            input_shape=(28,28),\n",
    "                                            **model_params)\n",
    "        # print(\"model {0} : {1}\".format(i, model_saved_names[i]))\n",
    "        # print(tmp.summary())\n",
    "        parties.append(tmp)\n",
    "        \n",
    "        del model_name, model_params, tmp\n",
    "    #END FOR LOOP\n",
    "#     pre_train_result = train_models(parties, \n",
    "#                                     X_train_MNIST, y_train_MNIST, \n",
    "#                                     X_test_MNIST, y_test_MNIST,\n",
    "#                                     save_dir = model_saved_dir, save_names = model_saved_names,\n",
    "#                                     early_stopping = is_early_stopping,\n",
    "#                                     **pre_train_params\n",
    "#                                    )\n",
    "else:\n",
    "    dpath = os.path.abspath(model_saved_dir)\n",
    "    model_names = os.listdir(dpath)\n",
    "    for name in model_names:\n",
    "        tmp = None\n",
    "        tmp = load_model(os.path.join(dpath ,name))\n",
    "        parties.append(tmp)\n"
   ]
  },
  {
   "cell_type": "code",
   "execution_count": null,
   "metadata": {},
   "outputs": [],
   "source": []
  },
  {
   "cell_type": "code",
   "execution_count": 4,
   "metadata": {},
   "outputs": [
    {
     "data": {
      "text/plain": [
       "(3136.0, 7914.496, 20)"
      ]
     },
     "execution_count": 4,
     "metadata": {},
     "output_type": "execute_result"
    }
   ],
   "source": [
    "size_of(public_dataset['X'][:500]), size_of(parties[0]), len(parties)"
   ]
  },
  {
   "cell_type": "markdown",
   "metadata": {},
   "source": [
    "# Training"
   ]
  },
  {
   "cell_type": "code",
   "execution_count": 18,
   "metadata": {},
   "outputs": [
    {
     "name": "stdout",
     "output_type": "stream",
     "text": [
      "(30, 28, 28) (600, 28, 28) (600, 28, 28)\n"
     ]
    }
   ],
   "source": [
    "new_total_private_data = {}\n",
    "new_total_private_data['X'] = np.concatenate([p['X'] for p in private_data ], axis = 0)\n",
    "new_total_private_data['y'] = np.concatenate([p['y'] for p in private_data ], axis = 0)\n",
    "\n",
    "print(private_data[0]['X'].shape, total_private_data['X'].shape, new_total_private_data['X'].shape)"
   ]
  },
  {
   "cell_type": "code",
   "execution_count": 5,
   "metadata": {},
   "outputs": [
    {
     "name": "stderr",
     "output_type": "stream",
     "text": [
      "/Users/gadmohamed/miniforge3/envs/env_tf/lib/python3.9/site-packages/keras/optimizer_v2/adam.py:105: UserWarning: The `lr` argument is deprecated, use `learning_rate` instead.\n",
      "  super(Adam, self).__init__(name, **kwargs)\n",
      "2023-08-11 22:13:30.311728: W tensorflow/core/platform/profile_utils/cpu_utils.cc:128] Failed to get CPU frequency: 0 Hz\n",
      "2023-08-11 22:13:30.721381: I tensorflow/core/grappler/optimizers/custom_graph_optimizer_registry.cc:113] Plugin optimizer for device_type GPU is enabled.\n",
      "2023-08-11 22:13:32.263793: I tensorflow/core/grappler/optimizers/custom_graph_optimizer_registry.cc:113] Plugin optimizer for device_type GPU is enabled.\n"
     ]
    },
    {
     "name": "stdout",
     "output_type": "stream",
     "text": [
      "final accuracy: 0.3738333284854889\n"
     ]
    },
    {
     "name": "stderr",
     "output_type": "stream",
     "text": [
      "2023-08-11 22:14:42.932857: I tensorflow/core/grappler/optimizers/custom_graph_optimizer_registry.cc:113] Plugin optimizer for device_type GPU is enabled.\n",
      "2023-08-11 22:14:44.216782: I tensorflow/core/grappler/optimizers/custom_graph_optimizer_registry.cc:113] Plugin optimizer for device_type GPU is enabled.\n"
     ]
    },
    {
     "name": "stdout",
     "output_type": "stream",
     "text": [
      "final accuracy: 0.47316667437553406\n"
     ]
    },
    {
     "name": "stderr",
     "output_type": "stream",
     "text": [
      "2023-08-11 22:16:29.173915: I tensorflow/core/grappler/optimizers/custom_graph_optimizer_registry.cc:113] Plugin optimizer for device_type GPU is enabled.\n",
      "2023-08-11 22:16:30.687625: I tensorflow/core/grappler/optimizers/custom_graph_optimizer_registry.cc:113] Plugin optimizer for device_type GPU is enabled.\n"
     ]
    },
    {
     "name": "stdout",
     "output_type": "stream",
     "text": [
      "final accuracy: 0.5299999713897705\n"
     ]
    },
    {
     "name": "stderr",
     "output_type": "stream",
     "text": [
      "2023-08-11 22:17:51.113109: I tensorflow/core/grappler/optimizers/custom_graph_optimizer_registry.cc:113] Plugin optimizer for device_type GPU is enabled.\n",
      "2023-08-11 22:17:51.716606: I tensorflow/core/grappler/optimizers/custom_graph_optimizer_registry.cc:113] Plugin optimizer for device_type GPU is enabled.\n"
     ]
    },
    {
     "name": "stdout",
     "output_type": "stream",
     "text": [
      "final accuracy: 0.4569999873638153\n"
     ]
    },
    {
     "name": "stderr",
     "output_type": "stream",
     "text": [
      "2023-08-11 22:19:26.758365: I tensorflow/core/grappler/optimizers/custom_graph_optimizer_registry.cc:113] Plugin optimizer for device_type GPU is enabled.\n",
      "2023-08-11 22:19:27.923400: I tensorflow/core/grappler/optimizers/custom_graph_optimizer_registry.cc:113] Plugin optimizer for device_type GPU is enabled.\n"
     ]
    },
    {
     "name": "stdout",
     "output_type": "stream",
     "text": [
      "final accuracy: 0.32883334159851074\n"
     ]
    },
    {
     "name": "stderr",
     "output_type": "stream",
     "text": [
      "2023-08-11 22:20:33.712263: I tensorflow/core/grappler/optimizers/custom_graph_optimizer_registry.cc:113] Plugin optimizer for device_type GPU is enabled.\n",
      "2023-08-11 22:20:34.301590: I tensorflow/core/grappler/optimizers/custom_graph_optimizer_registry.cc:113] Plugin optimizer for device_type GPU is enabled.\n"
     ]
    },
    {
     "name": "stdout",
     "output_type": "stream",
     "text": [
      "final accuracy: 0.3621666729450226\n"
     ]
    },
    {
     "name": "stderr",
     "output_type": "stream",
     "text": [
      "2023-08-11 22:22:04.189711: I tensorflow/core/grappler/optimizers/custom_graph_optimizer_registry.cc:113] Plugin optimizer for device_type GPU is enabled.\n",
      "2023-08-11 22:22:04.791776: I tensorflow/core/grappler/optimizers/custom_graph_optimizer_registry.cc:113] Plugin optimizer for device_type GPU is enabled.\n"
     ]
    },
    {
     "name": "stdout",
     "output_type": "stream",
     "text": [
      "final accuracy: 0.5366666913032532\n"
     ]
    },
    {
     "name": "stderr",
     "output_type": "stream",
     "text": [
      "2023-08-11 22:23:11.298539: I tensorflow/core/grappler/optimizers/custom_graph_optimizer_registry.cc:113] Plugin optimizer for device_type GPU is enabled.\n",
      "2023-08-11 22:23:11.907083: I tensorflow/core/grappler/optimizers/custom_graph_optimizer_registry.cc:113] Plugin optimizer for device_type GPU is enabled.\n"
     ]
    },
    {
     "name": "stdout",
     "output_type": "stream",
     "text": [
      "final accuracy: 0.5173333287239075\n"
     ]
    },
    {
     "name": "stderr",
     "output_type": "stream",
     "text": [
      "2023-08-11 22:24:48.351392: I tensorflow/core/grappler/optimizers/custom_graph_optimizer_registry.cc:113] Plugin optimizer for device_type GPU is enabled.\n",
      "2023-08-11 22:24:49.491230: I tensorflow/core/grappler/optimizers/custom_graph_optimizer_registry.cc:113] Plugin optimizer for device_type GPU is enabled.\n"
     ]
    },
    {
     "name": "stdout",
     "output_type": "stream",
     "text": [
      "final accuracy: 0.6244999766349792\n"
     ]
    },
    {
     "name": "stderr",
     "output_type": "stream",
     "text": [
      "2023-08-11 22:25:44.814058: I tensorflow/core/grappler/optimizers/custom_graph_optimizer_registry.cc:113] Plugin optimizer for device_type GPU is enabled.\n",
      "2023-08-11 22:25:46.124887: I tensorflow/core/grappler/optimizers/custom_graph_optimizer_registry.cc:113] Plugin optimizer for device_type GPU is enabled.\n"
     ]
    },
    {
     "name": "stdout",
     "output_type": "stream",
     "text": [
      "final accuracy: 0.4411666691303253\n"
     ]
    },
    {
     "name": "stderr",
     "output_type": "stream",
     "text": [
      "2023-08-11 22:27:25.968349: I tensorflow/core/grappler/optimizers/custom_graph_optimizer_registry.cc:113] Plugin optimizer for device_type GPU is enabled.\n",
      "2023-08-11 22:27:26.602980: I tensorflow/core/grappler/optimizers/custom_graph_optimizer_registry.cc:113] Plugin optimizer for device_type GPU is enabled.\n"
     ]
    },
    {
     "name": "stdout",
     "output_type": "stream",
     "text": [
      "final accuracy: 0.4698333442211151\n"
     ]
    },
    {
     "name": "stderr",
     "output_type": "stream",
     "text": [
      "2023-08-11 22:29:18.691751: I tensorflow/core/grappler/optimizers/custom_graph_optimizer_registry.cc:113] Plugin optimizer for device_type GPU is enabled.\n",
      "2023-08-11 22:29:19.262621: I tensorflow/core/grappler/optimizers/custom_graph_optimizer_registry.cc:113] Plugin optimizer for device_type GPU is enabled.\n"
     ]
    },
    {
     "name": "stdout",
     "output_type": "stream",
     "text": [
      "final accuracy: 0.5770000219345093\n"
     ]
    },
    {
     "name": "stderr",
     "output_type": "stream",
     "text": [
      "2023-08-11 22:30:36.101371: I tensorflow/core/grappler/optimizers/custom_graph_optimizer_registry.cc:113] Plugin optimizer for device_type GPU is enabled.\n",
      "2023-08-11 22:30:37.261508: I tensorflow/core/grappler/optimizers/custom_graph_optimizer_registry.cc:113] Plugin optimizer for device_type GPU is enabled.\n"
     ]
    },
    {
     "name": "stdout",
     "output_type": "stream",
     "text": [
      "final accuracy: 0.35899999737739563\n"
     ]
    },
    {
     "name": "stderr",
     "output_type": "stream",
     "text": [
      "2023-08-11 22:31:36.428143: I tensorflow/core/grappler/optimizers/custom_graph_optimizer_registry.cc:113] Plugin optimizer for device_type GPU is enabled.\n",
      "2023-08-11 22:31:36.980460: I tensorflow/core/grappler/optimizers/custom_graph_optimizer_registry.cc:113] Plugin optimizer for device_type GPU is enabled.\n"
     ]
    },
    {
     "name": "stdout",
     "output_type": "stream",
     "text": [
      "final accuracy: 0.4101666808128357\n"
     ]
    },
    {
     "name": "stderr",
     "output_type": "stream",
     "text": [
      "2023-08-11 22:32:53.837465: I tensorflow/core/grappler/optimizers/custom_graph_optimizer_registry.cc:113] Plugin optimizer for device_type GPU is enabled.\n",
      "2023-08-11 22:32:54.421759: I tensorflow/core/grappler/optimizers/custom_graph_optimizer_registry.cc:113] Plugin optimizer for device_type GPU is enabled.\n"
     ]
    },
    {
     "name": "stdout",
     "output_type": "stream",
     "text": [
      "final accuracy: 0.46016666293144226\n"
     ]
    },
    {
     "name": "stderr",
     "output_type": "stream",
     "text": [
      "2023-08-11 22:34:07.514523: I tensorflow/core/grappler/optimizers/custom_graph_optimizer_registry.cc:113] Plugin optimizer for device_type GPU is enabled.\n",
      "2023-08-11 22:34:07.986119: I tensorflow/core/grappler/optimizers/custom_graph_optimizer_registry.cc:113] Plugin optimizer for device_type GPU is enabled.\n"
     ]
    },
    {
     "name": "stdout",
     "output_type": "stream",
     "text": [
      "final accuracy: 0.5331666469573975\n"
     ]
    },
    {
     "name": "stderr",
     "output_type": "stream",
     "text": [
      "2023-08-11 22:35:20.062641: I tensorflow/core/grappler/optimizers/custom_graph_optimizer_registry.cc:113] Plugin optimizer for device_type GPU is enabled.\n",
      "2023-08-11 22:35:21.238670: I tensorflow/core/grappler/optimizers/custom_graph_optimizer_registry.cc:113] Plugin optimizer for device_type GPU is enabled.\n"
     ]
    },
    {
     "name": "stdout",
     "output_type": "stream",
     "text": [
      "final accuracy: 0.2601666748523712\n"
     ]
    },
    {
     "name": "stderr",
     "output_type": "stream",
     "text": [
      "2023-08-11 22:36:56.939733: I tensorflow/core/grappler/optimizers/custom_graph_optimizer_registry.cc:113] Plugin optimizer for device_type GPU is enabled.\n",
      "2023-08-11 22:36:57.384239: I tensorflow/core/grappler/optimizers/custom_graph_optimizer_registry.cc:113] Plugin optimizer for device_type GPU is enabled.\n"
     ]
    },
    {
     "name": "stdout",
     "output_type": "stream",
     "text": [
      "final accuracy: 0.5133333206176758\n"
     ]
    },
    {
     "name": "stderr",
     "output_type": "stream",
     "text": [
      "2023-08-11 22:39:01.666266: I tensorflow/core/grappler/optimizers/custom_graph_optimizer_registry.cc:113] Plugin optimizer for device_type GPU is enabled.\n",
      "2023-08-11 22:39:02.108028: I tensorflow/core/grappler/optimizers/custom_graph_optimizer_registry.cc:113] Plugin optimizer for device_type GPU is enabled.\n"
     ]
    },
    {
     "name": "stdout",
     "output_type": "stream",
     "text": [
      "final accuracy: 0.42933332920074463\n"
     ]
    },
    {
     "name": "stderr",
     "output_type": "stream",
     "text": [
      "2023-08-11 22:40:36.900499: I tensorflow/core/grappler/optimizers/custom_graph_optimizer_registry.cc:113] Plugin optimizer for device_type GPU is enabled.\n",
      "2023-08-11 22:40:37.319651: I tensorflow/core/grappler/optimizers/custom_graph_optimizer_registry.cc:113] Plugin optimizer for device_type GPU is enabled.\n"
     ]
    },
    {
     "name": "stdout",
     "output_type": "stream",
     "text": [
      "final accuracy: 0.3894999921321869\n"
     ]
    }
   ],
   "source": [
    "input_shape = private_data[0][\"X\"].shape[1:]\n",
    "# [0.5483333468437195, 0.5421666502952576, 0.6263333559036255, 0.4596666693687439, 0.5808333158493042, 0.6393333077430725, 0.6313333511352539, 0.5663333535194397, 0.5171666741371155, 0.503333330154419]\n",
    "\n",
    "local_accuracies = [] \n",
    "for i in range(len(private_data)):\n",
    "\n",
    "    tf.keras.backend.clear_session()\n",
    "    item = model_config[0]\n",
    "    model_name = item[\"model_type\"]\n",
    "    model_params = item[\"params\"]\n",
    "    model_ub = CANDIDATE_MODELS[model_name](n_classes=n_classes, \n",
    "                                        input_shape=input_shape,\n",
    "                                        **model_params)\n",
    "    model_ub.compile(optimizer=tf.keras.optimizers.Adam(lr = 1e-3),\n",
    "                        loss = \"sparse_categorical_crossentropy\", \n",
    "                        metrics = [\"accuracy\"])\n",
    "    ub_history = model_ub.fit(private_data[i]['X'], private_data[i]['y'],\n",
    "                    batch_size = 30, epochs = 30, shuffle=True, verbose = False, \n",
    "                    validation_data = [private_test_data[\"X\"], private_test_data[\"y\"]],\n",
    "                    callbacks=[EarlyStopping(monitor=\"val_accuracy\", min_delta=0.001, patience=7, restore_best_weights=True)])\n",
    "\n",
    "    local_accuracies.append(ub_history.history[\"val_accuracy\"])\n",
    "    print(\"final accuracy:\", ub_history.history[\"val_accuracy\"][-1])\n"
   ]
  },
  {
   "cell_type": "code",
   "execution_count": 13,
   "metadata": {},
   "outputs": [
    {
     "data": {
      "text/plain": [
       "0.4523166656494141"
      ]
     },
     "execution_count": 13,
     "metadata": {},
     "output_type": "execute_result"
    }
   ],
   "source": [
    "np.mean([acc[-1] for acc in local_accuracies])"
   ]
  },
  {
   "cell_type": "code",
   "execution_count": 25,
   "metadata": {},
   "outputs": [
    {
     "name": "stdout",
     "output_type": "stream",
     "text": [
      "average: 0.4523166656494141\n"
     ]
    },
    {
     "data": {
      "image/png": "[encoded data removed]",
      "text/plain": [
       "<Figure size 576x360 with 1 Axes>"
      ]
     },
     "metadata": {
      "needs_background": "light"
     },
     "output_type": "display_data"
    }
   ],
   "source": [
    "import matplotlib.pyplot as plt\n",
    "\n",
    "# Data for the bar plot\n",
    "accuracies = [0.5483333468437195, 0.5421666502952576, 0.6263333559036255, 0.4596666693687439, 0.5808333158493042, 0.6393333077430725, 0.6313333511352539, 0.5663333535194397, 0.5171666741371155, 0.503333330154419]\n",
    "accuracies = [acc[-1] for acc in local_accuracies]\n",
    "# Clients for the x-axis (assuming one accuracy value per client)\n",
    "clients = range(1, len(accuracies) + 1)\n",
    "\n",
    "# Create a figure and axes for the plot\n",
    "fig, ax = plt.subplots(figsize=(8, 5))\n",
    "\n",
    "# Plot the bar chart with custom colors, edgecolor, and width\n",
    "bars = ax.bar(clients, accuracies, color='steelblue', edgecolor='black', width=0.5, label = 'Local Accuracy')\n",
    "\n",
    "# Add values on top of the bars\n",
    "for bar in bars:\n",
    "    height = bar.get_height()\n",
    "    ax.annotate(f'{height:.3f}', xy=(bar.get_x() + bar.get_width() / 2, height), xytext=(0, 3),\n",
    "                textcoords=\"offset points\", ha='center', va='bottom', fontsize=10)\n",
    "\n",
    "# Set x and y axis labels and title\n",
    "ax.set_xlabel('Clients')\n",
    "ax.set_ylabel('Final Accuracy')\n",
    "ax.set_title('Accuracies of Clients\\' Local Training')\n",
    "\n",
    "# Add a horizontal line at accuracy 70 to mark it as the central accuracy\n",
    "central_avg_acc = np.mean([acc[-1] for acc in central_trials])\n",
    "ax.axhline(y=central_avg_acc, color='red', linestyle='--', label='Central Accuracy')\n",
    "\n",
    "# Add a horizontal line for the average accuracy local \n",
    "ax.axhline(y=sum(accuracies)/len(accuracies), color='green', linestyle='--', label='Average Local Accuracy')\n",
    "\n",
    "print(\"average:\", sum(accuracies)/len(accuracies))\n",
    "# Add a grid to the plot\n",
    "ax.grid(axis='y', linestyle='dotted')\n",
    "\n",
    "# Adjust the layout to avoid cutting off labels\n",
    "plt.tight_layout()\n",
    "\n",
    "# Add a legend with position right bottom\n",
    "plt.legend(loc='lower right')\n",
    "\n",
    "# Save the plot as a high-quality PDF\n",
    "plt.savefig('local_central.pdf', dpi=300)\n",
    "\n",
    "# Show the plot\n",
    "plt.show()\n"
   ]
  },
  {
   "cell_type": "code",
   "execution_count": 21,
   "metadata": {},
   "outputs": [
    {
     "name": "stderr",
     "output_type": "stream",
     "text": [
      "/Users/gadmohamed/miniforge3/envs/env_tf/lib/python3.9/site-packages/keras/optimizer_v2/adam.py:105: UserWarning: The `lr` argument is deprecated, use `learning_rate` instead.\n",
      "  super(Adam, self).__init__(name, **kwargs)\n"
     ]
    },
    {
     "name": "stdout",
     "output_type": "stream",
     "text": [
      "shpae of private data: (30, 28, 28)\n",
      "Epoch 1/40\n"
     ]
    },
    {
     "name": "stderr",
     "output_type": "stream",
     "text": [
      "2023-08-11 22:50:34.505245: I tensorflow/core/grappler/optimizers/custom_graph_optimizer_registry.cc:113] Plugin optimizer for device_type GPU is enabled.\n"
     ]
    },
    {
     "name": "stdout",
     "output_type": "stream",
     "text": [
      "20/20 [==============================] - ETA: 0s - loss: 3.9085 - accuracy: 0.5383"
     ]
    },
    {
     "name": "stderr",
     "output_type": "stream",
     "text": [
      "2023-08-11 22:50:38.372358: I tensorflow/core/grappler/optimizers/custom_graph_optimizer_registry.cc:113] Plugin optimizer for device_type GPU is enabled.\n"
     ]
    },
    {
     "name": "stdout",
     "output_type": "stream",
     "text": [
      "20/20 [==============================] - 10s 459ms/step - loss: 3.9085 - accuracy: 0.5383 - val_loss: 1.4930 - val_accuracy: 0.5148\n",
      "Epoch 2/40\n",
      "20/20 [==============================] - 10s 496ms/step - loss: 1.3443 - accuracy: 0.7967 - val_loss: 2.3889 - val_accuracy: 0.2138\n",
      "Epoch 3/40\n",
      "20/20 [==============================] - 8s 419ms/step - loss: 0.8844 - accuracy: 0.8250 - val_loss: 2.7279 - val_accuracy: 0.1667\n",
      "Epoch 4/40\n",
      "20/20 [==============================] - 8s 418ms/step - loss: 0.5324 - accuracy: 0.8650 - val_loss: 3.4125 - val_accuracy: 0.1667\n",
      "Epoch 5/40\n",
      "20/20 [==============================] - 9s 450ms/step - loss: 0.4867 - accuracy: 0.8933 - val_loss: 4.1790 - val_accuracy: 0.1667\n",
      "Epoch 6/40\n",
      "20/20 [==============================] - 8s 422ms/step - loss: 0.4392 - accuracy: 0.9067 - val_loss: 5.4352 - val_accuracy: 0.1667\n",
      "Epoch 7/40\n",
      "20/20 [==============================] - 8s 402ms/step - loss: 0.3335 - accuracy: 0.9133 - val_loss: 5.6761 - val_accuracy: 0.1667\n",
      "Epoch 8/40\n",
      "20/20 [==============================] - 5s 248ms/step - loss: 0.2438 - accuracy: 0.9417 - val_loss: 5.4221 - val_accuracy: 0.1667\n",
      "Epoch 9/40\n",
      "20/20 [==============================] - 6s 302ms/step - loss: 0.2126 - accuracy: 0.9467 - val_loss: 5.2660 - val_accuracy: 0.2052\n",
      "Epoch 10/40\n",
      "20/20 [==============================] - 7s 339ms/step - loss: 0.1905 - accuracy: 0.9467 - val_loss: 5.0477 - val_accuracy: 0.1667\n",
      "Epoch 11/40\n",
      "20/20 [==============================] - 8s 427ms/step - loss: 0.1762 - accuracy: 0.9650 - val_loss: 4.8122 - val_accuracy: 0.2053\n",
      "Epoch 12/40\n",
      "20/20 [==============================] - 6s 307ms/step - loss: 0.2327 - accuracy: 0.9450 - val_loss: 6.1612 - val_accuracy: 0.1667\n",
      "Epoch 13/40\n",
      "20/20 [==============================] - 5s 281ms/step - loss: 0.1661 - accuracy: 0.9633 - val_loss: 5.7107 - val_accuracy: 0.1670\n",
      "Epoch 14/40\n",
      "20/20 [==============================] - 5s 267ms/step - loss: 0.1253 - accuracy: 0.9717 - val_loss: 5.3254 - val_accuracy: 0.1665\n",
      "Epoch 15/40\n",
      "20/20 [==============================] - 7s 342ms/step - loss: 0.1537 - accuracy: 0.9667 - val_loss: 3.6748 - val_accuracy: 0.2135\n",
      "Epoch 16/40\n",
      "20/20 [==============================] - 6s 330ms/step - loss: 0.2006 - accuracy: 0.9583 - val_loss: 2.8733 - val_accuracy: 0.3987\n",
      "Epoch 17/40\n",
      "20/20 [==============================] - 7s 346ms/step - loss: 0.2529 - accuracy: 0.9533 - val_loss: 3.0856 - val_accuracy: 0.3668\n",
      "Epoch 18/40\n",
      "20/20 [==============================] - 7s 345ms/step - loss: 0.1444 - accuracy: 0.9750 - val_loss: 2.2733 - val_accuracy: 0.4303\n",
      "Epoch 19/40\n",
      "20/20 [==============================] - 6s 310ms/step - loss: 0.1559 - accuracy: 0.9667 - val_loss: 1.5530 - val_accuracy: 0.5625\n",
      "Epoch 20/40\n",
      "20/20 [==============================] - 9s 442ms/step - loss: 0.2960 - accuracy: 0.9400 - val_loss: 1.1912 - val_accuracy: 0.6355\n",
      "Epoch 21/40\n",
      "20/20 [==============================] - 5s 246ms/step - loss: 0.2009 - accuracy: 0.9650 - val_loss: 1.3169 - val_accuracy: 0.6215\n",
      "Epoch 22/40\n",
      "20/20 [==============================] - 6s 310ms/step - loss: 0.1556 - accuracy: 0.9733 - val_loss: 1.1928 - val_accuracy: 0.6727\n",
      "Epoch 23/40\n",
      "20/20 [==============================] - 9s 445ms/step - loss: 0.1027 - accuracy: 0.9767 - val_loss: 0.9621 - val_accuracy: 0.7497\n",
      "Epoch 24/40\n",
      "20/20 [==============================] - 6s 310ms/step - loss: 0.0819 - accuracy: 0.9800 - val_loss: 1.5466 - val_accuracy: 0.6792\n",
      "Epoch 25/40\n",
      "20/20 [==============================] - 8s 436ms/step - loss: 0.0755 - accuracy: 0.9917 - val_loss: 1.3422 - val_accuracy: 0.7103\n",
      "Epoch 26/40\n",
      "20/20 [==============================] - 7s 361ms/step - loss: 0.0780 - accuracy: 0.9900 - val_loss: 1.1549 - val_accuracy: 0.7528\n",
      "Epoch 27/40\n",
      "20/20 [==============================] - 5s 273ms/step - loss: 0.1028 - accuracy: 0.9900 - val_loss: 1.7465 - val_accuracy: 0.6465\n",
      "Epoch 28/40\n",
      "20/20 [==============================] - 6s 290ms/step - loss: 0.0549 - accuracy: 0.9983 - val_loss: 1.2984 - val_accuracy: 0.7542\n",
      "Epoch 29/40\n",
      "20/20 [==============================] - 5s 267ms/step - loss: 0.0475 - accuracy: 0.9933 - val_loss: 1.1823 - val_accuracy: 0.7942\n",
      "Epoch 30/40\n",
      "20/20 [==============================] - 6s 314ms/step - loss: 0.0488 - accuracy: 0.9967 - val_loss: 1.2497 - val_accuracy: 0.7937\n",
      "Epoch 31/40\n",
      "20/20 [==============================] - 7s 349ms/step - loss: 0.0397 - accuracy: 1.0000 - val_loss: 1.2931 - val_accuracy: 0.8072\n",
      "Epoch 32/40\n",
      "20/20 [==============================] - 8s 434ms/step - loss: 0.0374 - accuracy: 1.0000 - val_loss: 1.3880 - val_accuracy: 0.8110\n",
      "Epoch 33/40\n",
      "20/20 [==============================] - 6s 329ms/step - loss: 0.0375 - accuracy: 1.0000 - val_loss: 1.4624 - val_accuracy: 0.8112\n",
      "Epoch 34/40\n",
      "20/20 [==============================] - 6s 294ms/step - loss: 0.0359 - accuracy: 1.0000 - val_loss: 1.5126 - val_accuracy: 0.8165\n",
      "Epoch 35/40\n",
      "20/20 [==============================] - 6s 294ms/step - loss: 0.0357 - accuracy: 1.0000 - val_loss: 1.5669 - val_accuracy: 0.8195\n",
      "Epoch 36/40\n",
      "20/20 [==============================] - 7s 363ms/step - loss: 0.0360 - accuracy: 1.0000 - val_loss: 1.6552 - val_accuracy: 0.8117\n",
      "Epoch 37/40\n",
      "20/20 [==============================] - 7s 345ms/step - loss: 0.0356 - accuracy: 1.0000 - val_loss: 1.6859 - val_accuracy: 0.8205\n",
      "Epoch 38/40\n",
      "20/20 [==============================] - 7s 362ms/step - loss: 0.0345 - accuracy: 1.0000 - val_loss: 1.7817 - val_accuracy: 0.8150\n",
      "Epoch 39/40\n",
      "20/20 [==============================] - 7s 340ms/step - loss: 0.0334 - accuracy: 1.0000 - val_loss: 1.7795 - val_accuracy: 0.8243\n",
      "Epoch 40/40\n",
      "20/20 [==============================] - 7s 351ms/step - loss: 0.0332 - accuracy: 1.0000 - val_loss: 1.8079 - val_accuracy: 0.8218\n",
      "final accuracy: 0.8218333125114441\n",
      "shpae of private data: (30, 28, 28)\n",
      "Epoch 1/40\n"
     ]
    },
    {
     "name": "stderr",
     "output_type": "stream",
     "text": [
      "2023-08-11 22:55:07.323244: I tensorflow/core/grappler/optimizers/custom_graph_optimizer_registry.cc:113] Plugin optimizer for device_type GPU is enabled.\n"
     ]
    },
    {
     "name": "stdout",
     "output_type": "stream",
     "text": [
      "20/20 [==============================] - ETA: 0s - loss: 3.6706 - accuracy: 0.5500"
     ]
    },
    {
     "name": "stderr",
     "output_type": "stream",
     "text": [
      "2023-08-11 22:55:09.818225: I tensorflow/core/grappler/optimizers/custom_graph_optimizer_registry.cc:113] Plugin optimizer for device_type GPU is enabled.\n"
     ]
    },
    {
     "name": "stdout",
     "output_type": "stream",
     "text": [
      "20/20 [==============================] - 9s 425ms/step - loss: 3.6706 - accuracy: 0.5500 - val_loss: 1.4718 - val_accuracy: 0.3995\n",
      "Epoch 2/40\n",
      "20/20 [==============================] - 5s 260ms/step - loss: 1.2722 - accuracy: 0.7483 - val_loss: 2.5147 - val_accuracy: 0.1867\n",
      "Epoch 3/40\n",
      "20/20 [==============================] - 7s 382ms/step - loss: 1.1319 - accuracy: 0.8300 - val_loss: 4.0447 - val_accuracy: 0.1667\n",
      "Epoch 4/40\n",
      "20/20 [==============================] - 8s 407ms/step - loss: 0.7634 - accuracy: 0.8583 - val_loss: 4.8695 - val_accuracy: 0.1905\n",
      "Epoch 5/40\n",
      "20/20 [==============================] - 7s 367ms/step - loss: 0.5466 - accuracy: 0.8983 - val_loss: 4.5242 - val_accuracy: 0.2132\n",
      "Epoch 6/40\n",
      "20/20 [==============================] - 8s 409ms/step - loss: 0.3399 - accuracy: 0.9200 - val_loss: 6.2862 - val_accuracy: 0.1667\n",
      "Epoch 7/40\n",
      "20/20 [==============================] - 6s 285ms/step - loss: 0.3756 - accuracy: 0.9083 - val_loss: 5.5360 - val_accuracy: 0.2318\n",
      "Epoch 8/40\n",
      "20/20 [==============================] - 5s 254ms/step - loss: 0.3788 - accuracy: 0.9233 - val_loss: 6.2084 - val_accuracy: 0.1737\n",
      "Epoch 9/40\n",
      "20/20 [==============================] - 5s 280ms/step - loss: 0.3774 - accuracy: 0.9183 - val_loss: 7.5437 - val_accuracy: 0.2132\n",
      "Epoch 10/40\n",
      "20/20 [==============================] - 9s 445ms/step - loss: 0.3523 - accuracy: 0.9400 - val_loss: 7.2632 - val_accuracy: 0.1863\n",
      "Epoch 11/40\n",
      "20/20 [==============================] - 10s 519ms/step - loss: 0.3832 - accuracy: 0.9200 - val_loss: 10.7492 - val_accuracy: 0.1667\n",
      "Epoch 12/40\n",
      "20/20 [==============================] - 8s 406ms/step - loss: 0.2539 - accuracy: 0.9450 - val_loss: 9.0182 - val_accuracy: 0.2508\n",
      "Epoch 13/40\n",
      "20/20 [==============================] - 10s 533ms/step - loss: 0.1745 - accuracy: 0.9583 - val_loss: 8.7132 - val_accuracy: 0.1677\n",
      "Epoch 14/40\n",
      "20/20 [==============================] - 10s 524ms/step - loss: 0.1375 - accuracy: 0.9667 - val_loss: 8.4498 - val_accuracy: 0.1777\n",
      "Epoch 15/40\n",
      "20/20 [==============================] - 10s 532ms/step - loss: 0.1154 - accuracy: 0.9800 - val_loss: 6.4193 - val_accuracy: 0.2628\n",
      "Epoch 16/40\n",
      "20/20 [==============================] - 8s 420ms/step - loss: 0.0866 - accuracy: 0.9850 - val_loss: 6.9319 - val_accuracy: 0.2363\n",
      "Epoch 17/40\n",
      "20/20 [==============================] - 10s 514ms/step - loss: 0.0678 - accuracy: 0.9883 - val_loss: 5.6020 - val_accuracy: 0.3943\n",
      "Epoch 18/40\n",
      "20/20 [==============================] - 10s 531ms/step - loss: 0.0916 - accuracy: 0.9850 - val_loss: 5.4497 - val_accuracy: 0.4210\n",
      "Epoch 19/40\n",
      "20/20 [==============================] - 10s 515ms/step - loss: 0.0968 - accuracy: 0.9817 - val_loss: 5.0721 - val_accuracy: 0.4020\n",
      "Epoch 20/40\n",
      "20/20 [==============================] - 10s 532ms/step - loss: 0.0583 - accuracy: 0.9867 - val_loss: 5.2788 - val_accuracy: 0.3900\n",
      "Epoch 21/40\n",
      "20/20 [==============================] - 10s 525ms/step - loss: 0.0719 - accuracy: 0.9900 - val_loss: 3.9588 - val_accuracy: 0.5265\n",
      "Epoch 22/40\n",
      "20/20 [==============================] - 9s 473ms/step - loss: 0.0524 - accuracy: 0.9933 - val_loss: 4.1873 - val_accuracy: 0.4943\n",
      "Epoch 23/40\n",
      "20/20 [==============================] - 8s 420ms/step - loss: 0.0676 - accuracy: 0.9850 - val_loss: 2.9443 - val_accuracy: 0.6197\n",
      "Epoch 24/40\n",
      "20/20 [==============================] - 9s 462ms/step - loss: 0.1025 - accuracy: 0.9800 - val_loss: 2.4087 - val_accuracy: 0.5923\n",
      "Epoch 25/40\n",
      "20/20 [==============================] - 9s 452ms/step - loss: 0.1026 - accuracy: 0.9833 - val_loss: 1.6915 - val_accuracy: 0.6553\n",
      "Epoch 26/40\n",
      "20/20 [==============================] - 8s 435ms/step - loss: 0.0849 - accuracy: 0.9850 - val_loss: 1.3508 - val_accuracy: 0.7163\n",
      "Epoch 27/40\n",
      "20/20 [==============================] - 9s 465ms/step - loss: 0.0699 - accuracy: 0.9833 - val_loss: 1.3495 - val_accuracy: 0.7518\n",
      "Epoch 28/40\n",
      "20/20 [==============================] - 8s 399ms/step - loss: 0.1115 - accuracy: 0.9750 - val_loss: 1.3093 - val_accuracy: 0.7785\n",
      "Epoch 29/40\n",
      "20/20 [==============================] - 11s 583ms/step - loss: 0.0696 - accuracy: 0.9867 - val_loss: 1.2028 - val_accuracy: 0.7977\n",
      "Epoch 30/40\n",
      "20/20 [==============================] - 10s 538ms/step - loss: 0.0541 - accuracy: 0.9967 - val_loss: 1.3057 - val_accuracy: 0.7968\n",
      "Epoch 31/40\n",
      "20/20 [==============================] - 11s 565ms/step - loss: 0.0717 - accuracy: 0.9900 - val_loss: 1.3385 - val_accuracy: 0.8167\n",
      "Epoch 32/40\n",
      "20/20 [==============================] - 9s 470ms/step - loss: 0.0804 - accuracy: 0.9817 - val_loss: 1.6474 - val_accuracy: 0.7973\n",
      "Epoch 33/40\n",
      "20/20 [==============================] - 10s 521ms/step - loss: 0.0835 - accuracy: 0.9883 - val_loss: 1.3625 - val_accuracy: 0.8125\n",
      "Epoch 34/40\n",
      "20/20 [==============================] - 9s 485ms/step - loss: 0.0832 - accuracy: 0.9883 - val_loss: 1.5288 - val_accuracy: 0.8077\n",
      "Epoch 35/40\n",
      "20/20 [==============================] - 10s 495ms/step - loss: 0.0569 - accuracy: 0.9917 - val_loss: 1.5517 - val_accuracy: 0.8147\n",
      "Epoch 36/40\n",
      "20/20 [==============================] - 9s 450ms/step - loss: 0.0469 - accuracy: 0.9967 - val_loss: 1.7058 - val_accuracy: 0.8093\n",
      "Epoch 37/40\n",
      "20/20 [==============================] - 9s 479ms/step - loss: 0.0548 - accuracy: 0.9967 - val_loss: 1.7561 - val_accuracy: 0.8087\n",
      "Epoch 38/40\n",
      "20/20 [==============================] - 3042s 160s/step - loss: 0.0433 - accuracy: 0.9933 - val_loss: 1.6862 - val_accuracy: 0.8180\n",
      "Epoch 39/40\n",
      "20/20 [==============================] - 2975s 157s/step - loss: 0.0493 - accuracy: 0.9950 - val_loss: 1.9252 - val_accuracy: 0.8065\n",
      "Epoch 40/40\n",
      "20/20 [==============================] - 1917s 101s/step - loss: 0.0501 - accuracy: 0.9950 - val_loss: 1.8301 - val_accuracy: 0.8197\n",
      "final accuracy: 0.8196666836738586\n",
      "shpae of private data: (30, 28, 28)\n",
      "Epoch 1/40\n"
     ]
    },
    {
     "name": "stderr",
     "output_type": "stream",
     "text": [
      "2023-08-12 01:12:47.953607: I tensorflow/core/grappler/optimizers/custom_graph_optimizer_registry.cc:113] Plugin optimizer for device_type GPU is enabled.\n"
     ]
    },
    {
     "name": "stdout",
     "output_type": "stream",
     "text": [
      "20/20 [==============================] - ETA: 0s - loss: 2.4880 - accuracy: 0.6000"
     ]
    },
    {
     "name": "stderr",
     "output_type": "stream",
     "text": [
      "2023-08-12 01:12:51.363178: I tensorflow/core/grappler/optimizers/custom_graph_optimizer_registry.cc:113] Plugin optimizer for device_type GPU is enabled.\n"
     ]
    },
    {
     "name": "stdout",
     "output_type": "stream",
     "text": [
      "20/20 [==============================] - 2824s 149s/step - loss: 2.4880 - accuracy: 0.6000 - val_loss: 1.5098 - val_accuracy: 0.3105\n",
      "Epoch 2/40\n",
      "20/20 [==============================] - 2091s 110s/step - loss: 0.9515 - accuracy: 0.7950 - val_loss: 2.1577 - val_accuracy: 0.2213\n",
      "Epoch 3/40\n",
      "20/20 [==============================] - 1985s 104s/step - loss: 0.8149 - accuracy: 0.8500 - val_loss: 3.6286 - val_accuracy: 0.1667\n",
      "Epoch 4/40\n",
      "20/20 [==============================] - 3100s 163s/step - loss: 0.8642 - accuracy: 0.8367 - val_loss: 4.4426 - val_accuracy: 0.1667\n",
      "Epoch 5/40\n",
      "20/20 [==============================] - 3095s 163s/step - loss: 0.9958 - accuracy: 0.8617 - val_loss: 4.9547 - val_accuracy: 0.1667\n",
      "Epoch 6/40\n",
      "20/20 [==============================] - 1937s 102s/step - loss: 0.5672 - accuracy: 0.8967 - val_loss: 6.0699 - val_accuracy: 0.1667\n",
      "Epoch 7/40\n",
      "20/20 [==============================] - 1864s 98s/step - loss: 0.5100 - accuracy: 0.9150 - val_loss: 5.4612 - val_accuracy: 0.1667\n",
      "Epoch 8/40\n",
      "20/20 [==============================] - 1927s 101s/step - loss: 0.3975 - accuracy: 0.9167 - val_loss: 7.7953 - val_accuracy: 0.1667\n",
      "Epoch 9/40\n",
      "20/20 [==============================] - 2704s 142s/step - loss: 0.2761 - accuracy: 0.9417 - val_loss: 8.7354 - val_accuracy: 0.1667\n",
      "Epoch 10/40\n",
      "20/20 [==============================] - 1088s 57s/step - loss: 0.1657 - accuracy: 0.9633 - val_loss: 8.9828 - val_accuracy: 0.1667\n",
      "Epoch 11/40\n",
      "20/20 [==============================] - 2845s 101s/step - loss: 0.1419 - accuracy: 0.9683 - val_loss: 8.9928 - val_accuracy: 0.1667\n",
      "Epoch 12/40\n",
      "20/20 [==============================] - 2192s 115s/step - loss: 0.1456 - accuracy: 0.9800 - val_loss: 7.3763 - val_accuracy: 0.1667\n",
      "Epoch 13/40\n",
      "20/20 [==============================] - 10s 516ms/step - loss: 0.1030 - accuracy: 0.9767 - val_loss: 6.1077 - val_accuracy: 0.1698\n",
      "Epoch 14/40\n",
      "20/20 [==============================] - 8s 434ms/step - loss: 0.1531 - accuracy: 0.9733 - val_loss: 6.4194 - val_accuracy: 0.1743\n",
      "Epoch 15/40\n",
      "20/20 [==============================] - 6s 290ms/step - loss: 0.1453 - accuracy: 0.9733 - val_loss: 5.1295 - val_accuracy: 0.2057\n",
      "Epoch 16/40\n",
      "20/20 [==============================] - 6s 291ms/step - loss: 0.1210 - accuracy: 0.9817 - val_loss: 5.0389 - val_accuracy: 0.3130\n",
      "Epoch 17/40\n",
      "20/20 [==============================] - 7s 373ms/step - loss: 0.0861 - accuracy: 0.9917 - val_loss: 4.2154 - val_accuracy: 0.3062\n",
      "Epoch 18/40\n",
      "20/20 [==============================] - 7s 375ms/step - loss: 0.0671 - accuracy: 0.9917 - val_loss: 4.0820 - val_accuracy: 0.3482\n",
      "Epoch 19/40\n",
      "20/20 [==============================] - 7s 386ms/step - loss: 0.0929 - accuracy: 0.9800 - val_loss: 2.3456 - val_accuracy: 0.5113\n",
      "Epoch 20/40\n",
      "20/20 [==============================] - 8s 391ms/step - loss: 0.0966 - accuracy: 0.9850 - val_loss: 2.3239 - val_accuracy: 0.4917\n",
      "Epoch 21/40\n",
      "20/20 [==============================] - 8s 397ms/step - loss: 0.0702 - accuracy: 0.9850 - val_loss: 2.0603 - val_accuracy: 0.5522\n",
      "Epoch 22/40\n",
      "20/20 [==============================] - 6s 294ms/step - loss: 0.0779 - accuracy: 0.9850 - val_loss: 1.5788 - val_accuracy: 0.6113\n",
      "Epoch 23/40\n",
      "20/20 [==============================] - 7s 383ms/step - loss: 0.0663 - accuracy: 0.9883 - val_loss: 1.5817 - val_accuracy: 0.6460\n",
      "Epoch 24/40\n",
      "20/20 [==============================] - 6s 323ms/step - loss: 0.0957 - accuracy: 0.9867 - val_loss: 1.7770 - val_accuracy: 0.6645\n",
      "Epoch 25/40\n",
      "20/20 [==============================] - 6s 291ms/step - loss: 0.0987 - accuracy: 0.9850 - val_loss: 1.5266 - val_accuracy: 0.7328\n",
      "Epoch 26/40\n",
      "20/20 [==============================] - 7s 357ms/step - loss: 0.0853 - accuracy: 0.9900 - val_loss: 1.3448 - val_accuracy: 0.7523\n",
      "Epoch 27/40\n",
      "20/20 [==============================] - 6s 290ms/step - loss: 0.0627 - accuracy: 0.9883 - val_loss: 1.0904 - val_accuracy: 0.7997\n",
      "Epoch 28/40\n",
      "20/20 [==============================] - 5s 262ms/step - loss: 0.0672 - accuracy: 0.9883 - val_loss: 1.1683 - val_accuracy: 0.7850\n",
      "Epoch 29/40\n",
      "20/20 [==============================] - 3s 175ms/step - loss: 0.0971 - accuracy: 0.9850 - val_loss: 1.2890 - val_accuracy: 0.7842\n",
      "Epoch 30/40\n",
      "20/20 [==============================] - 4s 209ms/step - loss: 0.0802 - accuracy: 0.9850 - val_loss: 1.3079 - val_accuracy: 0.8068\n",
      "Epoch 31/40\n",
      "20/20 [==============================] - 4s 227ms/step - loss: 0.0597 - accuracy: 0.9900 - val_loss: 1.5248 - val_accuracy: 0.7937\n",
      "Epoch 32/40\n",
      "20/20 [==============================] - 6s 308ms/step - loss: 0.0693 - accuracy: 0.9850 - val_loss: 1.4653 - val_accuracy: 0.8020\n",
      "Epoch 33/40\n",
      "20/20 [==============================] - 4s 217ms/step - loss: 0.1148 - accuracy: 0.9783 - val_loss: 2.0134 - val_accuracy: 0.7572\n",
      "Epoch 34/40\n",
      "20/20 [==============================] - 4s 192ms/step - loss: 0.1604 - accuracy: 0.9667 - val_loss: 2.0154 - val_accuracy: 0.8030\n",
      "Epoch 35/40\n",
      "20/20 [==============================] - 4s 195ms/step - loss: 0.1154 - accuracy: 0.9767 - val_loss: 2.0149 - val_accuracy: 0.8100\n",
      "Epoch 36/40\n",
      "20/20 [==============================] - 4s 225ms/step - loss: 0.1167 - accuracy: 0.9817 - val_loss: 2.0711 - val_accuracy: 0.8002\n",
      "Epoch 37/40\n",
      "20/20 [==============================] - 5s 235ms/step - loss: 0.1451 - accuracy: 0.9683 - val_loss: 2.3085 - val_accuracy: 0.7970\n",
      "Epoch 38/40\n",
      "20/20 [==============================] - 4s 234ms/step - loss: 0.1390 - accuracy: 0.9683 - val_loss: 2.6042 - val_accuracy: 0.7935\n",
      "Epoch 39/40\n",
      "20/20 [==============================] - 5s 247ms/step - loss: 0.2309 - accuracy: 0.9567 - val_loss: 2.2505 - val_accuracy: 0.8220\n",
      "Epoch 40/40\n",
      "20/20 [==============================] - 4s 189ms/step - loss: 0.2176 - accuracy: 0.9733 - val_loss: 2.7653 - val_accuracy: 0.8118\n",
      "final accuracy: 0.8118333220481873\n",
      "shpae of private data: (30, 28, 28)\n",
      "Epoch 1/40\n"
     ]
    },
    {
     "name": "stderr",
     "output_type": "stream",
     "text": [
      "2023-08-12 08:56:20.828556: I tensorflow/core/grappler/optimizers/custom_graph_optimizer_registry.cc:113] Plugin optimizer for device_type GPU is enabled.\n"
     ]
    },
    {
     "name": "stdout",
     "output_type": "stream",
     "text": [
      "20/20 [==============================] - ETA: 0s - loss: 2.5176 - accuracy: 0.6000"
     ]
    },
    {
     "name": "stderr",
     "output_type": "stream",
     "text": [
      "2023-08-12 08:56:22.745402: I tensorflow/core/grappler/optimizers/custom_graph_optimizer_registry.cc:113] Plugin optimizer for device_type GPU is enabled.\n"
     ]
    },
    {
     "name": "stdout",
     "output_type": "stream",
     "text": [
      "20/20 [==============================] - 7s 273ms/step - loss: 2.5176 - accuracy: 0.6000 - val_loss: 1.6214 - val_accuracy: 0.4685\n",
      "Epoch 2/40\n",
      "20/20 [==============================] - 4s 191ms/step - loss: 1.4839 - accuracy: 0.7817 - val_loss: 2.5155 - val_accuracy: 0.1770\n",
      "Epoch 3/40\n",
      "20/20 [==============================] - 4s 187ms/step - loss: 1.1037 - accuracy: 0.8217 - val_loss: 3.0551 - val_accuracy: 0.2020\n",
      "Epoch 4/40\n",
      "20/20 [==============================] - 5s 251ms/step - loss: 0.7116 - accuracy: 0.8750 - val_loss: 3.6250 - val_accuracy: 0.2733\n",
      "Epoch 5/40\n",
      "20/20 [==============================] - 5s 253ms/step - loss: 0.6313 - accuracy: 0.9017 - val_loss: 4.2772 - val_accuracy: 0.1667\n",
      "Epoch 6/40\n",
      "20/20 [==============================] - 4s 194ms/step - loss: 0.3591 - accuracy: 0.9217 - val_loss: 4.5837 - val_accuracy: 0.1668\n",
      "Epoch 7/40\n",
      "20/20 [==============================] - 5s 262ms/step - loss: 0.2742 - accuracy: 0.9267 - val_loss: 5.1891 - val_accuracy: 0.1667\n",
      "Epoch 8/40\n",
      "20/20 [==============================] - 5s 235ms/step - loss: 0.3542 - accuracy: 0.9367 - val_loss: 5.2607 - val_accuracy: 0.1668\n",
      "Epoch 9/40\n",
      "20/20 [==============================] - 4s 198ms/step - loss: 0.4301 - accuracy: 0.9150 - val_loss: 6.2938 - val_accuracy: 0.1667\n",
      "Epoch 10/40\n",
      "20/20 [==============================] - 3s 174ms/step - loss: 0.4270 - accuracy: 0.9217 - val_loss: 5.5582 - val_accuracy: 0.1667\n",
      "Epoch 11/40\n",
      "20/20 [==============================] - 4s 186ms/step - loss: 0.2103 - accuracy: 0.9567 - val_loss: 4.7789 - val_accuracy: 0.2647\n",
      "Epoch 12/40\n",
      "20/20 [==============================] - 3s 167ms/step - loss: 0.1896 - accuracy: 0.9633 - val_loss: 5.2819 - val_accuracy: 0.1713\n",
      "Epoch 13/40\n",
      "20/20 [==============================] - 4s 206ms/step - loss: 0.1679 - accuracy: 0.9717 - val_loss: 4.4299 - val_accuracy: 0.2040\n",
      "Epoch 14/40\n",
      "20/20 [==============================] - 4s 231ms/step - loss: 0.1398 - accuracy: 0.9700 - val_loss: 4.8068 - val_accuracy: 0.2578\n",
      "Epoch 15/40\n",
      "20/20 [==============================] - 5s 244ms/step - loss: 0.1023 - accuracy: 0.9833 - val_loss: 4.8203 - val_accuracy: 0.1712\n",
      "Epoch 16/40\n",
      "20/20 [==============================] - 5s 262ms/step - loss: 0.0684 - accuracy: 0.9933 - val_loss: 3.7249 - val_accuracy: 0.2247\n",
      "Epoch 17/40\n",
      "20/20 [==============================] - 4s 211ms/step - loss: 0.0648 - accuracy: 0.9900 - val_loss: 3.6170 - val_accuracy: 0.3097\n",
      "Epoch 18/40\n",
      "20/20 [==============================] - 4s 191ms/step - loss: 0.1038 - accuracy: 0.9817 - val_loss: 3.2312 - val_accuracy: 0.3638\n",
      "Epoch 19/40\n",
      "20/20 [==============================] - 4s 194ms/step - loss: 0.1019 - accuracy: 0.9817 - val_loss: 2.8562 - val_accuracy: 0.4193\n",
      "Epoch 20/40\n",
      "20/20 [==============================] - 4s 204ms/step - loss: 0.0859 - accuracy: 0.9900 - val_loss: 2.1537 - val_accuracy: 0.4918\n",
      "Epoch 21/40\n",
      "20/20 [==============================] - 4s 230ms/step - loss: 0.0565 - accuracy: 0.9933 - val_loss: 2.2552 - val_accuracy: 0.4858\n",
      "Epoch 22/40\n",
      "20/20 [==============================] - 5s 250ms/step - loss: 0.0576 - accuracy: 0.9950 - val_loss: 1.3551 - val_accuracy: 0.6380\n",
      "Epoch 23/40\n",
      "20/20 [==============================] - 5s 243ms/step - loss: 0.0542 - accuracy: 0.9950 - val_loss: 1.3744 - val_accuracy: 0.6685\n",
      "Epoch 24/40\n",
      "20/20 [==============================] - 4s 227ms/step - loss: 0.0841 - accuracy: 0.9933 - val_loss: 1.2234 - val_accuracy: 0.7055\n",
      "Epoch 25/40\n",
      "20/20 [==============================] - 4s 216ms/step - loss: 0.0428 - accuracy: 1.0000 - val_loss: 1.1107 - val_accuracy: 0.7445\n",
      "Epoch 26/40\n",
      "20/20 [==============================] - 5s 263ms/step - loss: 0.0425 - accuracy: 0.9983 - val_loss: 1.1457 - val_accuracy: 0.7592\n",
      "Epoch 27/40\n",
      "20/20 [==============================] - 4s 212ms/step - loss: 0.0427 - accuracy: 0.9983 - val_loss: 1.0408 - val_accuracy: 0.7985\n",
      "Epoch 28/40\n",
      "20/20 [==============================] - 4s 188ms/step - loss: 0.0399 - accuracy: 0.9983 - val_loss: 1.2411 - val_accuracy: 0.7750\n",
      "Epoch 29/40\n",
      "20/20 [==============================] - 4s 228ms/step - loss: 0.0373 - accuracy: 1.0000 - val_loss: 1.1231 - val_accuracy: 0.8048\n",
      "Epoch 30/40\n",
      "20/20 [==============================] - 5s 264ms/step - loss: 0.0361 - accuracy: 1.0000 - val_loss: 1.1867 - val_accuracy: 0.8077\n",
      "Epoch 31/40\n",
      "20/20 [==============================] - 4s 202ms/step - loss: 0.0356 - accuracy: 1.0000 - val_loss: 1.3185 - val_accuracy: 0.7893\n",
      "Epoch 32/40\n",
      "20/20 [==============================] - 5s 252ms/step - loss: 0.0461 - accuracy: 0.9967 - val_loss: 1.5277 - val_accuracy: 0.7960\n",
      "Epoch 33/40\n",
      "20/20 [==============================] - 5s 272ms/step - loss: 0.0694 - accuracy: 0.9967 - val_loss: 1.5395 - val_accuracy: 0.7883\n",
      "Epoch 34/40\n",
      "20/20 [==============================] - 4s 209ms/step - loss: 0.0524 - accuracy: 0.9950 - val_loss: 1.5977 - val_accuracy: 0.8118\n",
      "Epoch 35/40\n",
      "20/20 [==============================] - 4s 194ms/step - loss: 0.0607 - accuracy: 0.9900 - val_loss: 1.5080 - val_accuracy: 0.8197\n",
      "Epoch 36/40\n",
      "20/20 [==============================] - 4s 204ms/step - loss: 0.0595 - accuracy: 0.9900 - val_loss: 1.9396 - val_accuracy: 0.7950\n",
      "Epoch 37/40\n",
      "20/20 [==============================] - 4s 193ms/step - loss: 0.0863 - accuracy: 0.9867 - val_loss: 1.5613 - val_accuracy: 0.8052\n",
      "Epoch 38/40\n",
      "20/20 [==============================] - 7s 383ms/step - loss: 0.0717 - accuracy: 0.9900 - val_loss: 1.7859 - val_accuracy: 0.8062\n",
      "Epoch 39/40\n",
      "20/20 [==============================] - 7s 383ms/step - loss: 0.0635 - accuracy: 0.9883 - val_loss: 1.8475 - val_accuracy: 0.8070\n",
      "Epoch 40/40\n",
      "20/20 [==============================] - 6s 337ms/step - loss: 0.0846 - accuracy: 0.9817 - val_loss: 2.3753 - val_accuracy: 0.7892\n",
      "final accuracy: 0.7891666889190674\n",
      "shpae of private data: (30, 28, 28)\n",
      "Epoch 1/40\n"
     ]
    },
    {
     "name": "stderr",
     "output_type": "stream",
     "text": [
      "2023-08-12 08:59:20.285116: I tensorflow/core/grappler/optimizers/custom_graph_optimizer_registry.cc:113] Plugin optimizer for device_type GPU is enabled.\n"
     ]
    },
    {
     "name": "stdout",
     "output_type": "stream",
     "text": [
      "20/20 [==============================] - ETA: 0s - loss: 3.0497 - accuracy: 0.5833"
     ]
    },
    {
     "name": "stderr",
     "output_type": "stream",
     "text": [
      "2023-08-12 08:59:22.285031: I tensorflow/core/grappler/optimizers/custom_graph_optimizer_registry.cc:113] Plugin optimizer for device_type GPU is enabled.\n"
     ]
    },
    {
     "name": "stdout",
     "output_type": "stream",
     "text": [
      "20/20 [==============================] - 8s 413ms/step - loss: 3.0497 - accuracy: 0.5833 - val_loss: 1.5370 - val_accuracy: 0.4047\n",
      "Epoch 2/40\n",
      "20/20 [==============================] - 8s 393ms/step - loss: 1.6674 - accuracy: 0.7667 - val_loss: 3.1496 - val_accuracy: 0.2217\n",
      "Epoch 3/40\n",
      "20/20 [==============================] - 6s 298ms/step - loss: 1.1046 - accuracy: 0.8217 - val_loss: 3.1573 - val_accuracy: 0.1667\n",
      "Epoch 4/40\n",
      "20/20 [==============================] - 8s 413ms/step - loss: 0.8991 - accuracy: 0.8333 - val_loss: 3.7584 - val_accuracy: 0.2215\n",
      "Epoch 5/40\n",
      "20/20 [==============================] - 8s 424ms/step - loss: 0.4868 - accuracy: 0.8983 - val_loss: 4.6733 - val_accuracy: 0.1993\n",
      "Epoch 6/40\n",
      "20/20 [==============================] - 8s 411ms/step - loss: 0.4236 - accuracy: 0.9067 - val_loss: 5.3082 - val_accuracy: 0.1678\n",
      "Epoch 7/40\n",
      "20/20 [==============================] - 8s 424ms/step - loss: 0.3033 - accuracy: 0.9317 - val_loss: 5.8970 - val_accuracy: 0.2035\n",
      "Epoch 8/40\n",
      "20/20 [==============================] - 8s 402ms/step - loss: 0.2170 - accuracy: 0.9450 - val_loss: 6.6775 - val_accuracy: 0.1718\n",
      "Epoch 9/40\n",
      "20/20 [==============================] - 6s 308ms/step - loss: 0.2975 - accuracy: 0.9300 - val_loss: 6.3074 - val_accuracy: 0.1745\n",
      "Epoch 10/40\n",
      "20/20 [==============================] - 7s 342ms/step - loss: 0.2094 - accuracy: 0.9550 - val_loss: 6.2363 - val_accuracy: 0.2535\n",
      "Epoch 11/40\n",
      "20/20 [==============================] - 6s 331ms/step - loss: 0.1418 - accuracy: 0.9583 - val_loss: 5.9630 - val_accuracy: 0.1713\n",
      "Epoch 12/40\n",
      "20/20 [==============================] - 6s 325ms/step - loss: 0.1047 - accuracy: 0.9733 - val_loss: 6.6635 - val_accuracy: 0.2590\n",
      "Epoch 13/40\n",
      "20/20 [==============================] - 7s 343ms/step - loss: 0.1387 - accuracy: 0.9683 - val_loss: 7.6108 - val_accuracy: 0.1858\n",
      "Epoch 14/40\n",
      "20/20 [==============================] - 6s 300ms/step - loss: 0.1822 - accuracy: 0.9717 - val_loss: 5.7681 - val_accuracy: 0.1805\n",
      "Epoch 15/40\n",
      "20/20 [==============================] - 8s 411ms/step - loss: 0.1299 - accuracy: 0.9717 - val_loss: 5.6298 - val_accuracy: 0.1662\n",
      "Epoch 16/40\n",
      "20/20 [==============================] - 8s 396ms/step - loss: 0.1028 - accuracy: 0.9750 - val_loss: 5.6398 - val_accuracy: 0.1750\n",
      "Epoch 17/40\n",
      "20/20 [==============================] - 7s 367ms/step - loss: 0.1598 - accuracy: 0.9750 - val_loss: 6.1434 - val_accuracy: 0.2427\n",
      "Epoch 18/40\n",
      "20/20 [==============================] - 8s 409ms/step - loss: 0.0744 - accuracy: 0.9900 - val_loss: 6.0932 - val_accuracy: 0.1768\n",
      "Epoch 19/40\n",
      "20/20 [==============================] - 8s 407ms/step - loss: 0.0699 - accuracy: 0.9883 - val_loss: 5.0320 - val_accuracy: 0.2368\n",
      "Epoch 20/40\n",
      "20/20 [==============================] - 7s 388ms/step - loss: 0.0952 - accuracy: 0.9850 - val_loss: 3.8505 - val_accuracy: 0.3280\n",
      "Epoch 21/40\n",
      "20/20 [==============================] - 6s 315ms/step - loss: 0.0503 - accuracy: 0.9967 - val_loss: 2.7491 - val_accuracy: 0.4470\n",
      "Epoch 22/40\n",
      "20/20 [==============================] - 7s 375ms/step - loss: 0.0700 - accuracy: 0.9917 - val_loss: 2.4476 - val_accuracy: 0.4895\n",
      "Epoch 23/40\n",
      "20/20 [==============================] - 8s 394ms/step - loss: 0.0867 - accuracy: 0.9883 - val_loss: 1.9372 - val_accuracy: 0.5760\n",
      "Epoch 24/40\n",
      "20/20 [==============================] - 8s 399ms/step - loss: 0.0706 - accuracy: 0.9867 - val_loss: 1.5071 - val_accuracy: 0.6408\n",
      "Epoch 25/40\n",
      "20/20 [==============================] - 6s 325ms/step - loss: 0.0692 - accuracy: 0.9867 - val_loss: 1.2362 - val_accuracy: 0.7118\n",
      "Epoch 26/40\n",
      "20/20 [==============================] - 6s 315ms/step - loss: 0.0572 - accuracy: 0.9900 - val_loss: 1.7519 - val_accuracy: 0.6305\n",
      "Epoch 27/40\n",
      "20/20 [==============================] - 7s 383ms/step - loss: 0.0847 - accuracy: 0.9783 - val_loss: 1.0537 - val_accuracy: 0.7710\n",
      "Epoch 28/40\n",
      "20/20 [==============================] - 8s 411ms/step - loss: 0.0771 - accuracy: 0.9833 - val_loss: 1.2344 - val_accuracy: 0.7672\n",
      "Epoch 29/40\n",
      "20/20 [==============================] - 8s 422ms/step - loss: 0.1075 - accuracy: 0.9783 - val_loss: 1.5432 - val_accuracy: 0.7803\n",
      "Epoch 30/40\n",
      "20/20 [==============================] - 8s 405ms/step - loss: 0.3802 - accuracy: 0.9350 - val_loss: 1.6153 - val_accuracy: 0.7852\n",
      "Epoch 31/40\n",
      "20/20 [==============================] - 8s 390ms/step - loss: 0.3209 - accuracy: 0.9483 - val_loss: 1.7719 - val_accuracy: 0.8058\n",
      "Epoch 32/40\n",
      "20/20 [==============================] - 8s 390ms/step - loss: 0.2557 - accuracy: 0.9667 - val_loss: 2.1179 - val_accuracy: 0.7825\n",
      "Epoch 33/40\n",
      "20/20 [==============================] - 7s 342ms/step - loss: 0.2981 - accuracy: 0.9517 - val_loss: 2.6749 - val_accuracy: 0.7942\n",
      "Epoch 34/40\n",
      "20/20 [==============================] - 6s 312ms/step - loss: 0.4231 - accuracy: 0.9450 - val_loss: 2.8537 - val_accuracy: 0.7710\n",
      "Epoch 35/40\n",
      "20/20 [==============================] - 7s 379ms/step - loss: 0.2103 - accuracy: 0.9650 - val_loss: 2.5351 - val_accuracy: 0.7967\n",
      "Epoch 36/40\n",
      "20/20 [==============================] - 7s 363ms/step - loss: 0.0980 - accuracy: 0.9883 - val_loss: 2.4784 - val_accuracy: 0.8085\n",
      "Epoch 37/40\n",
      "20/20 [==============================] - 10s 527ms/step - loss: 0.0650 - accuracy: 0.9950 - val_loss: 2.4232 - val_accuracy: 0.8095\n",
      "Epoch 38/40\n",
      "20/20 [==============================] - 8s 404ms/step - loss: 0.0806 - accuracy: 0.9917 - val_loss: 2.3313 - val_accuracy: 0.8143\n",
      "Epoch 39/40\n",
      "20/20 [==============================] - 8s 410ms/step - loss: 0.0562 - accuracy: 0.9967 - val_loss: 2.2365 - val_accuracy: 0.8137\n",
      "Epoch 40/40\n",
      "20/20 [==============================] - 8s 427ms/step - loss: 0.0854 - accuracy: 0.9900 - val_loss: 2.4674 - val_accuracy: 0.8065\n",
      "final accuracy: 0.8065000176429749\n"
     ]
    }
   ],
   "source": [
    "    \n",
    "central_trials = [] \n",
    "for i in range(5) : \n",
    "    tf.keras.backend.clear_session()\n",
    "    input_shape = private_data[0][\"X\"].shape[1:]\n",
    "\n",
    "    cbs = [EarlyStopping(monitor=\"val_accuracy\", min_delta=0.001, patience=7, restore_best_weights=True)]\n",
    "    cbs = [] \n",
    "\n",
    "    item = model_config[0]\n",
    "    model_name = item[\"model_type\"]\n",
    "    model_params = item[\"params\"]\n",
    "    model_ub = CANDIDATE_MODELS[model_name](n_classes=n_classes, \n",
    "                                        input_shape=input_shape,\n",
    "                                        **model_params)\n",
    "    model_ub.compile(optimizer=tf.keras.optimizers.Adam(lr = 1e-3),\n",
    "                        loss = \"sparse_categorical_crossentropy\", \n",
    "                        metrics = [\"accuracy\"])\n",
    "    print(\"shpae of private data:\", private_data[0][\"X\"].shape)\n",
    "    ub_history = model_ub.fit(new_total_private_data['X'], new_total_private_data['y'],\n",
    "                    batch_size = 30, epochs = 40, shuffle=True, verbose = True, \n",
    "                    validation_data = [private_test_data[\"X\"], private_test_data[\"y\"]],\n",
    "                    callbacks=[cbs])\n",
    "\n",
    "    central_trials.append(ub_history.history[\"val_accuracy\"])\n",
    "    print(\"final accuracy:\", ub_history.history[\"val_accuracy\"][-1])\n"
   ]
  },
  {
   "cell_type": "code",
   "execution_count": 24,
   "metadata": {},
   "outputs": [
    {
     "data": {
      "text/plain": [
       "(0.8098000049591064,\n",
       " [0.8218333125114441,\n",
       "  0.8196666836738586,\n",
       "  0.8118333220481873,\n",
       "  0.7891666889190674,\n",
       "  0.8065000176429749])"
      ]
     },
     "execution_count": 24,
     "metadata": {},
     "output_type": "execute_result"
    }
   ],
   "source": [
    "np.mean([acc[-1] for acc in central_trials]), [acc[-1] for acc in central_trials]"
   ]
  },
  {
   "cell_type": "code",
   "execution_count": 7,
   "metadata": {},
   "outputs": [
    {
     "ename": "NameError",
     "evalue": "name 'local_trials' is not defined",
     "output_type": "error",
     "traceback": [
      "\u001b[0;31m---------------------------------------------------------------------------\u001b[0m",
      "\u001b[0;31mNameError\u001b[0m                                 Traceback (most recent call last)",
      "\u001b[1;32m/Users/gadmohamed/Desktop/live repos/Drone-LoRa-SOM-CFedAKD/fl_src/local_central_training.ipynb Cell 18\u001b[0m in \u001b[0;36m<cell line: 1>\u001b[0;34m()\u001b[0m\n\u001b[0;32m----> <a href='vscode-notebook-cell:/Users/gadmohamed/Desktop/live%20repos/Drone-LoRa-SOM-CFedAKD/fl_src/local_central_training.ipynb#X23sZmlsZQ%3D%3D?line=0'>1</a>\u001b[0m np\u001b[39m.\u001b[39mmean(local_trials), np\u001b[39m.\u001b[39mstd(local_trials)\n",
      "\u001b[0;31mNameError\u001b[0m: name 'local_trials' is not defined"
     ]
    }
   ],
   "source": [
    "np.mean(local_trials), np.std(local_trials)"
   ]
  },
  {
   "cell_type": "code",
   "execution_count": 23,
   "metadata": {},
   "outputs": [
    {
     "data": {
      "text/plain": [
       "(0.49766083560884,\n",
       " 0.27189877306606575,\n",
       " [[0.5148333311080933,\n",
       "   0.21383333206176758,\n",
       "   0.1666666716337204,\n",
       "   0.1666666716337204,\n",
       "   0.1666666716337204,\n",
       "   0.1666666716337204,\n",
       "   0.1666666716337204,\n",
       "   0.1666666716337204,\n",
       "   0.20516666769981384,\n",
       "   0.1666666716337204,\n",
       "   0.20533333718776703,\n",
       "   0.1666666716337204,\n",
       "   0.16699999570846558,\n",
       "   0.1665000021457672,\n",
       "   0.2134999930858612,\n",
       "   0.3986666798591614,\n",
       "   0.36683332920074463,\n",
       "   0.43033334612846375,\n",
       "   0.5625,\n",
       "   0.6355000138282776,\n",
       "   0.6215000152587891,\n",
       "   0.6726666688919067,\n",
       "   0.749666690826416,\n",
       "   0.6791666746139526,\n",
       "   0.7103333473205566,\n",
       "   0.7528333067893982,\n",
       "   0.6464999914169312,\n",
       "   0.7541666626930237,\n",
       "   0.7941666841506958,\n",
       "   0.793666660785675,\n",
       "   0.8071666955947876,\n",
       "   0.8109999895095825,\n",
       "   0.8111666440963745,\n",
       "   0.8165000081062317,\n",
       "   0.8195000290870667,\n",
       "   0.8116666674613953,\n",
       "   0.8205000162124634,\n",
       "   0.8149999976158142,\n",
       "   0.8243333101272583,\n",
       "   0.8218333125114441],\n",
       "  [0.3995000123977661,\n",
       "   0.18666666746139526,\n",
       "   0.1666666716337204,\n",
       "   0.19050000607967377,\n",
       "   0.21316666901111603,\n",
       "   0.1666666716337204,\n",
       "   0.2318333387374878,\n",
       "   0.17366667091846466,\n",
       "   0.21316666901111603,\n",
       "   0.1863333284854889,\n",
       "   0.1666666716337204,\n",
       "   0.25083333253860474,\n",
       "   0.16766667366027832,\n",
       "   0.17766666412353516,\n",
       "   0.2628333270549774,\n",
       "   0.23633334040641785,\n",
       "   0.3943333327770233,\n",
       "   0.42100000381469727,\n",
       "   0.4020000100135803,\n",
       "   0.38999998569488525,\n",
       "   0.5264999866485596,\n",
       "   0.49433332681655884,\n",
       "   0.6196666955947876,\n",
       "   0.5923333168029785,\n",
       "   0.6553333401679993,\n",
       "   0.7163333296775818,\n",
       "   0.7518333196640015,\n",
       "   0.7785000205039978,\n",
       "   0.7976666688919067,\n",
       "   0.796833336353302,\n",
       "   0.8166666626930237,\n",
       "   0.7973333597183228,\n",
       "   0.8125,\n",
       "   0.8076666593551636,\n",
       "   0.8146666884422302,\n",
       "   0.809333324432373,\n",
       "   0.8086666464805603,\n",
       "   0.8180000185966492,\n",
       "   0.8065000176429749,\n",
       "   0.8196666836738586],\n",
       "  [0.31049999594688416,\n",
       "   0.2213333398103714,\n",
       "   0.1666666716337204,\n",
       "   0.1666666716337204,\n",
       "   0.1666666716337204,\n",
       "   0.1666666716337204,\n",
       "   0.1666666716337204,\n",
       "   0.1666666716337204,\n",
       "   0.1666666716337204,\n",
       "   0.1666666716337204,\n",
       "   0.1666666716337204,\n",
       "   0.1666666716337204,\n",
       "   0.16983333230018616,\n",
       "   0.1743333339691162,\n",
       "   0.2056666612625122,\n",
       "   0.31299999356269836,\n",
       "   0.3061666786670685,\n",
       "   0.34816667437553406,\n",
       "   0.5113333463668823,\n",
       "   0.49166667461395264,\n",
       "   0.5521666407585144,\n",
       "   0.6113333106040955,\n",
       "   0.6460000276565552,\n",
       "   0.6644999980926514,\n",
       "   0.7328333258628845,\n",
       "   0.7523333430290222,\n",
       "   0.7996666431427002,\n",
       "   0.7850000262260437,\n",
       "   0.784166693687439,\n",
       "   0.8068333268165588,\n",
       "   0.793666660785675,\n",
       "   0.8019999861717224,\n",
       "   0.7571666836738586,\n",
       "   0.8029999732971191,\n",
       "   0.8100000023841858,\n",
       "   0.800166666507721,\n",
       "   0.796999990940094,\n",
       "   0.7935000061988831,\n",
       "   0.8220000267028809,\n",
       "   0.8118333220481873],\n",
       "  [0.4684999883174896,\n",
       "   0.1770000010728836,\n",
       "   0.20200000703334808,\n",
       "   0.273333340883255,\n",
       "   0.1666666716337204,\n",
       "   0.1668333262205124,\n",
       "   0.1666666716337204,\n",
       "   0.1668333262205124,\n",
       "   0.1666666716337204,\n",
       "   0.1666666716337204,\n",
       "   0.26466667652130127,\n",
       "   0.17133332788944244,\n",
       "   0.20399999618530273,\n",
       "   0.257833331823349,\n",
       "   0.17116667330265045,\n",
       "   0.22466666996479034,\n",
       "   0.3096666634082794,\n",
       "   0.36383333802223206,\n",
       "   0.4193333387374878,\n",
       "   0.49183332920074463,\n",
       "   0.4858333468437195,\n",
       "   0.6380000114440918,\n",
       "   0.6685000061988831,\n",
       "   0.7055000066757202,\n",
       "   0.7444999814033508,\n",
       "   0.7591666579246521,\n",
       "   0.7985000014305115,\n",
       "   0.7749999761581421,\n",
       "   0.8048333525657654,\n",
       "   0.8076666593551636,\n",
       "   0.7893333435058594,\n",
       "   0.7960000038146973,\n",
       "   0.7883333563804626,\n",
       "   0.8118333220481873,\n",
       "   0.8196666836738586,\n",
       "   0.7950000166893005,\n",
       "   0.8051666617393494,\n",
       "   0.8061666488647461,\n",
       "   0.8069999814033508,\n",
       "   0.7891666889190674],\n",
       "  [0.4046666622161865,\n",
       "   0.22166666388511658,\n",
       "   0.1666666716337204,\n",
       "   0.2214999943971634,\n",
       "   0.1993333399295807,\n",
       "   0.1678333282470703,\n",
       "   0.20350000262260437,\n",
       "   0.171833336353302,\n",
       "   0.1745000034570694,\n",
       "   0.2535000145435333,\n",
       "   0.17133332788944244,\n",
       "   0.2590000033378601,\n",
       "   0.18583333492279053,\n",
       "   0.18050000071525574,\n",
       "   0.16616666316986084,\n",
       "   0.17499999701976776,\n",
       "   0.24266666173934937,\n",
       "   0.17683333158493042,\n",
       "   0.2368333339691162,\n",
       "   0.328000009059906,\n",
       "   0.44699999690055847,\n",
       "   0.4894999861717224,\n",
       "   0.5759999752044678,\n",
       "   0.64083331823349,\n",
       "   0.7118333578109741,\n",
       "   0.6305000185966492,\n",
       "   0.7710000276565552,\n",
       "   0.7671666741371155,\n",
       "   0.7803333401679993,\n",
       "   0.7851666808128357,\n",
       "   0.8058333396911621,\n",
       "   0.7825000286102295,\n",
       "   0.7941666841506958,\n",
       "   0.7710000276565552,\n",
       "   0.79666668176651,\n",
       "   0.8084999918937683,\n",
       "   0.809499979019165,\n",
       "   0.8143333196640015,\n",
       "   0.8136666417121887,\n",
       "   0.8065000176429749]])"
      ]
     },
     "execution_count": 23,
     "metadata": {},
     "output_type": "execute_result"
    }
   ],
   "source": [
    "np.mean(central_trials), np.std(central_trials), central_trials"
   ]
  },
  {
   "attachments": {},
   "cell_type": "markdown",
   "metadata": {},
   "source": []
  }
 ],
 "metadata": {
  "kernelspec": {
   "display_name": "env_tf",
   "language": "python",
   "name": "python3"
  },
  "language_info": {
   "codemirror_mode": {
    "name": "ipython",
    "version": 3
   },
   "file_extension": ".py",
   "mimetype": "text/x-python",
   "name": "python",
   "nbconvert_exporter": "python",
   "pygments_lexer": "ipython3",
   "version": "3.9.12"
  },
  "orig_nbformat": 4
 },
 "nbformat": 4,
 "nbformat_minor": 2
}
