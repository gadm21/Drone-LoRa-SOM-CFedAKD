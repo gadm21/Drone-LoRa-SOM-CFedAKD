{
 "cells": [
  {
   "cell_type": "code",
   "execution_count": 1,
   "metadata": {},
   "outputs": [],
   "source": [
    "import os\n",
    "import errno\n",
    "import argparse\n",
    "import sys\n",
    "import pickle\n",
    "\n",
    "import numpy as np\n",
    "import pandas as pd\n",
    "from tensorflow.keras.models import load_model\n",
    "\n",
    "from data_utils import load_CIFAR_data, generate_partial_data, generate_bal_private_data\n",
    "from FedMD import FedMD\n",
    "from Neural_Networks import train_models, cnn_2layer_fc_model, cnn_3layer_fc_model\n",
    "\n",
    "import numpy as np\n",
    "from tensorflow.keras.models import clone_model, load_model\n",
    "from tensorflow.keras.callbacks import EarlyStopping\n",
    "import tensorflow as tf\n",
    "\n",
    "from data_utils import generate_alignment_data\n",
    "from Neural_Networks import remove_last_layer"
   ]
  },
  {
   "attachments": {},
   "cell_type": "markdown",
   "metadata": {},
   "source": [
    "## Functions and Configurations"
   ]
  },
  {
   "cell_type": "code",
   "execution_count": 2,
   "metadata": {},
   "outputs": [],
   "source": [
    "\n",
    "\n",
    "CANDIDATE_MODELS = {\"2_layer_CNN\": cnn_2layer_fc_model, \n",
    "                    \"3_layer_CNN\": cnn_3layer_fc_model} \n",
    "\n",
    "conf_file = os.path.abspath(\"conf/CIFAR_balance_conf.json\")\n",
    "\n",
    "with open(conf_file, \"r\") as f:\n",
    "    conf_dict = eval(f.read())\n",
    "    \n",
    "    #n_classes = conf_dict[\"n_classes\"]\n",
    "    model_config = conf_dict[\"models\"]\n",
    "    pre_train_params = conf_dict[\"pre_train_params\"]\n",
    "    model_saved_dir = conf_dict[\"model_saved_dir\"]\n",
    "    model_saved_names = conf_dict[\"model_saved_names\"]\n",
    "    is_early_stopping = conf_dict[\"early_stopping\"]\n",
    "    public_classes = conf_dict[\"public_classes\"]\n",
    "    private_classes = conf_dict[\"private_classes\"]\n",
    "    n_classes = len(public_classes) + len(private_classes)\n",
    "    \n",
    "    emnist_data_dir = conf_dict[\"EMNIST_dir\"]    \n",
    "    N_parties = conf_dict[\"N_parties\"]\n",
    "    N_samples_per_class = conf_dict[\"N_samples_per_class\"]\n",
    "    \n",
    "    N_rounds = conf_dict[\"N_rounds\"]\n",
    "    N_alignment = conf_dict[\"N_alignment\"]\n",
    "    N_private_training_round = conf_dict[\"N_private_training_round\"]\n",
    "    private_training_batchsize = conf_dict[\"private_training_batchsize\"]\n",
    "    N_logits_matching_round = conf_dict[\"N_logits_matching_round\"]\n",
    "    logits_matching_batchsize = conf_dict[\"logits_matching_batchsize\"]\n",
    "    aug = conf_dict[\"aug\"]\n",
    "    compress = conf_dict[\"compress\"]\n",
    "    \n",
    "    \n",
    "    result_save_dir = conf_dict[\"result_save_dir\"]\n",
    "\n",
    "del conf_dict, conf_file"
   ]
  },
  {
   "attachments": {},
   "cell_type": "markdown",
   "metadata": {},
   "source": [
    "## Play \n"
   ]
  },
  {
   "cell_type": "code",
   "execution_count": 3,
   "metadata": {},
   "outputs": [
    {
     "name": "stdout",
     "output_type": "stream",
     "text": [
      "X_train shape : (50000, 32, 32, 3)\n",
      "X_test shape : (10000, 32, 32, 3)\n",
      "y_train shape : (50000,)\n",
      "y_test shape : (10000,)\n",
      "X_train shape : (50000, 32, 32, 3)\n",
      "X_test shape : (10000, 32, 32, 3)\n",
      "y_train shape : (50000,)\n",
      "y_test shape : (10000,)\n",
      "X shape : (3000, 32, 32, 3)\n",
      "y shape : (3000,)\n",
      "X shape : (600, 32, 32, 3)\n",
      "y shape : (600,)\n",
      "10    500\n",
      "15    500\n",
      "14    500\n",
      "12    500\n",
      "13    500\n",
      "11    500\n",
      "dtype: int64\n",
      "============================================================\n",
      "============================================================\n",
      "X shape : (600, 32, 32, 3)\n",
      "y shape : (600,)\n",
      "Metal device set to: Apple M1\n",
      "\n",
      "systemMemory: 8.00 GB\n",
      "maxCacheSize: 2.67 GB\n",
      "\n"
     ]
    },
    {
     "name": "stderr",
     "output_type": "stream",
     "text": [
      "2023-05-11 16:50:09.219360: I tensorflow/core/common_runtime/pluggable_device/pluggable_device_factory.cc:305] Could not identify NUMA node of platform GPU ID 0, defaulting to 0. Your kernel may not have been built with NUMA support.\n",
      "2023-05-11 16:50:09.220336: I tensorflow/core/common_runtime/pluggable_device/pluggable_device_factory.cc:271] Created TensorFlow device (/job:localhost/replica:0/task:0/device:GPU:0 with 0 MB memory) -> physical PluggableDevice (device: 0, name: METAL, pci bus id: <undefined>)\n",
      "/Users/gadmohamed/miniforge3/envs/env_tf/lib/python3.9/site-packages/keras/optimizer_v2/adam.py:105: UserWarning: The `lr` argument is deprecated, use `learning_rate` instead.\n",
      "  super(Adam, self).__init__(name, **kwargs)\n"
     ]
    },
    {
     "name": "stdout",
     "output_type": "stream",
     "text": [
      "model 0 : CNN_128_256\n",
      "model 1 : CNN_128_384\n",
      "model 2 : CNN_128_512\n",
      "model 3 : CNN_256_256\n",
      "model 4 : CNN_256_512\n",
      "model 5 : CNN_64_128_256\n",
      "model 6 : CNN_64_128_192\n",
      "model 7 : CNN_128_192_256\n",
      "model 8 : CNN_128_128_128\n",
      "model 9 : CNN_128_128_192\n",
      "model 10 : CNN_128_256\n",
      "model 11 : CNN_128_384\n",
      "model 12 : CNN_128_512\n",
      "model 13 : CNN_256_256\n",
      "model 14 : CNN_256_512\n",
      "model 15 : CNN_64_128_256\n",
      "model 16 : CNN_64_128_192\n",
      "model 17 : CNN_128_192_256\n",
      "model 18 : CNN_128_128_128\n",
      "model 19 : CNN_128_128_192\n"
     ]
    }
   ],
   "source": [
    "\n",
    "\n",
    "X_train_CIFAR10, y_train_CIFAR10, X_test_CIFAR10, y_test_CIFAR10 \\\n",
    "= load_CIFAR_data(data_type=\"CIFAR10\", \n",
    "                    standarized = True, verbose = True)\n",
    "\n",
    "public_dataset = {\"X\": X_train_CIFAR10, \"y\": y_train_CIFAR10}\n",
    "\n",
    "\n",
    "X_train_CIFAR100, y_train_CIFAR100, X_test_CIFAR100, y_test_CIFAR100 \\\n",
    "= load_CIFAR_data(data_type=\"CIFAR100\",\n",
    "                    standarized = True, verbose = True)\n",
    "\n",
    "# only use those CIFAR100 data whose y_labels belong to private_classes\n",
    "X_train_CIFAR100, y_train_CIFAR100 \\\n",
    "= generate_partial_data(X = X_train_CIFAR100, y= y_train_CIFAR100,\n",
    "                        class_in_use = private_classes, \n",
    "                        verbose = True)\n",
    "\n",
    "\n",
    "X_test_CIFAR100, y_test_CIFAR100 \\\n",
    "= generate_partial_data(X = X_test_CIFAR100, y= y_test_CIFAR100,\n",
    "                        class_in_use = private_classes, \n",
    "                        verbose = True)\n",
    "\n",
    "# relabel the selected CIFAR100 data for future convenience\n",
    "for index, cls_ in enumerate(private_classes):        \n",
    "    y_train_CIFAR100[y_train_CIFAR100 == cls_] = index + len(public_classes)\n",
    "    y_test_CIFAR100[y_test_CIFAR100 == cls_] = index + len(public_classes)\n",
    "del index, cls_\n",
    "\n",
    "print(pd.Series(y_train_CIFAR100).value_counts())\n",
    "mod_private_classes = np.arange(len(private_classes)) + len(public_classes)\n",
    "\n",
    "print(\"=\"*60)\n",
    "#generate private data\n",
    "private_data, total_private_data\\\n",
    "=generate_bal_private_data(X_train_CIFAR100, y_train_CIFAR100,      \n",
    "                            N_parties = N_parties,           \n",
    "                            classes_in_use = mod_private_classes, \n",
    "                            N_samples_per_class = N_samples_per_class, \n",
    "                            data_overlap = False)\n",
    "\n",
    "print(\"=\"*60)\n",
    "X_tmp, y_tmp = generate_partial_data(X = X_test_CIFAR100, y= y_test_CIFAR100,\n",
    "                                        class_in_use = mod_private_classes, \n",
    "                                        verbose = True)\n",
    "private_test_data = {\"X\": X_tmp, \"y\": y_tmp}\n",
    "del X_tmp, y_tmp\n",
    "\n",
    "parties = []\n",
    "if model_saved_dir is None:\n",
    "    for i, item in enumerate(model_config):\n",
    "        model_name = item[\"model_type\"]\n",
    "        model_params = item[\"params\"]\n",
    "        tmp = CANDIDATE_MODELS[model_name](n_classes=n_classes, \n",
    "                                            input_shape=(32,32,3),\n",
    "                                            **model_params)\n",
    "        print(\"model {0} : {1}\".format(i, model_saved_names[i]))\n",
    "        # print(tmp.summary())\n",
    "        parties.append(tmp)\n"
   ]
  },
  {
   "cell_type": "code",
   "execution_count": 4,
   "metadata": {},
   "outputs": [
    {
     "data": {
      "text/plain": [
       "((60, 32, 32, 3), (1200, 32, 32, 3))"
      ]
     },
     "execution_count": 4,
     "metadata": {},
     "output_type": "execute_result"
    }
   ],
   "source": [
    "private_data[0]['X'].shape, total_private_data['X'].shape"
   ]
  },
  {
   "cell_type": "code",
   "execution_count": 5,
   "metadata": {},
   "outputs": [
    {
     "name": "stdout",
     "output_type": "stream",
     "text": [
      "Epoch 1/50\n"
     ]
    },
    {
     "name": "stderr",
     "output_type": "stream",
     "text": [
      "2023-05-11 16:50:10.956318: W tensorflow/core/platform/profile_utils/cpu_utils.cc:128] Failed to get CPU frequency: 0 Hz\n",
      "2023-05-11 16:50:11.347627: I tensorflow/core/grappler/optimizers/custom_graph_optimizer_registry.cc:113] Plugin optimizer for device_type GPU is enabled.\n"
     ]
    },
    {
     "name": "stdout",
     "output_type": "stream",
     "text": [
      "38/38 [==============================] - ETA: 0s - loss: 2.8714 - accuracy: 0.0958"
     ]
    },
    {
     "name": "stderr",
     "output_type": "stream",
     "text": [
      "2023-05-11 16:50:12.791092: I tensorflow/core/grappler/optimizers/custom_graph_optimizer_registry.cc:113] Plugin optimizer for device_type GPU is enabled.\n"
     ]
    },
    {
     "name": "stdout",
     "output_type": "stream",
     "text": [
      "38/38 [==============================] - 2s 36ms/step - loss: 2.8714 - accuracy: 0.0958 - val_loss: 2.7440 - val_accuracy: 0.1200\n",
      "Epoch 2/50\n",
      "38/38 [==============================] - 1s 22ms/step - loss: 2.6799 - accuracy: 0.1383 - val_loss: 2.6817 - val_accuracy: 0.1267\n",
      "Epoch 3/50\n",
      "38/38 [==============================] - 1s 28ms/step - loss: 2.5289 - accuracy: 0.1617 - val_loss: 2.6074 - val_accuracy: 0.1500\n",
      "Epoch 4/50\n",
      "38/38 [==============================] - 1s 25ms/step - loss: 2.4266 - accuracy: 0.1867 - val_loss: 2.5249 - val_accuracy: 0.1833\n",
      "Epoch 5/50\n",
      "38/38 [==============================] - 1s 22ms/step - loss: 2.2976 - accuracy: 0.2008 - val_loss: 2.4373 - val_accuracy: 0.2017\n",
      "Epoch 6/50\n",
      "38/38 [==============================] - 1s 22ms/step - loss: 2.1920 - accuracy: 0.2333 - val_loss: 2.3466 - val_accuracy: 0.2117\n",
      "Epoch 7/50\n",
      "38/38 [==============================] - 1s 23ms/step - loss: 2.1201 - accuracy: 0.2458 - val_loss: 2.2528 - val_accuracy: 0.2550\n",
      "Epoch 8/50\n",
      "38/38 [==============================] - 1s 27ms/step - loss: 2.0149 - accuracy: 0.2958 - val_loss: 2.1597 - val_accuracy: 0.2900\n",
      "Epoch 9/50\n",
      "38/38 [==============================] - 1s 24ms/step - loss: 1.9766 - accuracy: 0.2883 - val_loss: 2.0682 - val_accuracy: 0.3417\n",
      "Epoch 10/50\n",
      "38/38 [==============================] - 1s 36ms/step - loss: 1.9207 - accuracy: 0.3033 - val_loss: 1.9791 - val_accuracy: 0.3567\n",
      "Epoch 11/50\n",
      "38/38 [==============================] - 1s 36ms/step - loss: 1.8743 - accuracy: 0.3292 - val_loss: 1.8953 - val_accuracy: 0.3967\n",
      "Epoch 12/50\n",
      "38/38 [==============================] - 1s 28ms/step - loss: 1.7829 - accuracy: 0.3467 - val_loss: 1.8179 - val_accuracy: 0.3967\n",
      "Epoch 13/50\n",
      "38/38 [==============================] - 1s 23ms/step - loss: 1.7305 - accuracy: 0.3750 - val_loss: 1.7492 - val_accuracy: 0.4150\n",
      "Epoch 14/50\n",
      "38/38 [==============================] - 1s 24ms/step - loss: 1.7355 - accuracy: 0.3808 - val_loss: 1.6883 - val_accuracy: 0.4300\n",
      "Epoch 15/50\n",
      "38/38 [==============================] - 1s 25ms/step - loss: 1.6811 - accuracy: 0.3967 - val_loss: 1.6360 - val_accuracy: 0.4467\n",
      "Epoch 16/50\n",
      "38/38 [==============================] - 1s 23ms/step - loss: 1.6553 - accuracy: 0.4158 - val_loss: 1.5899 - val_accuracy: 0.4600\n",
      "Epoch 17/50\n",
      "38/38 [==============================] - 1s 23ms/step - loss: 1.6049 - accuracy: 0.4083 - val_loss: 1.5486 - val_accuracy: 0.4700\n",
      "Epoch 18/50\n",
      "38/38 [==============================] - 1s 36ms/step - loss: 1.5518 - accuracy: 0.4483 - val_loss: 1.5124 - val_accuracy: 0.4750\n",
      "Epoch 19/50\n",
      "38/38 [==============================] - 1s 27ms/step - loss: 1.5527 - accuracy: 0.4492 - val_loss: 1.4791 - val_accuracy: 0.4867\n",
      "Epoch 20/50\n",
      "38/38 [==============================] - 1s 25ms/step - loss: 1.5222 - accuracy: 0.4575 - val_loss: 1.4487 - val_accuracy: 0.5033\n",
      "Epoch 21/50\n",
      "38/38 [==============================] - 1s 22ms/step - loss: 1.4828 - accuracy: 0.4750 - val_loss: 1.4211 - val_accuracy: 0.5150\n",
      "Epoch 22/50\n",
      "38/38 [==============================] - 1s 26ms/step - loss: 1.4787 - accuracy: 0.4875 - val_loss: 1.3957 - val_accuracy: 0.5250\n",
      "Epoch 23/50\n",
      "38/38 [==============================] - 1s 30ms/step - loss: 1.4477 - accuracy: 0.4925 - val_loss: 1.3719 - val_accuracy: 0.5333\n",
      "Epoch 24/50\n",
      "38/38 [==============================] - 1s 22ms/step - loss: 1.4328 - accuracy: 0.5158 - val_loss: 1.3500 - val_accuracy: 0.5433\n",
      "Epoch 25/50\n",
      "38/38 [==============================] - 1s 23ms/step - loss: 1.3866 - accuracy: 0.5258 - val_loss: 1.3295 - val_accuracy: 0.5483\n",
      "Epoch 26/50\n",
      "38/38 [==============================] - 1s 22ms/step - loss: 1.3925 - accuracy: 0.5200 - val_loss: 1.3094 - val_accuracy: 0.5567\n",
      "Epoch 27/50\n",
      "38/38 [==============================] - 1s 22ms/step - loss: 1.3802 - accuracy: 0.5183 - val_loss: 1.2910 - val_accuracy: 0.5650\n",
      "Epoch 28/50\n",
      "38/38 [==============================] - 1s 29ms/step - loss: 1.3533 - accuracy: 0.5442 - val_loss: 1.2736 - val_accuracy: 0.5750\n",
      "Epoch 29/50\n",
      "38/38 [==============================] - 1s 23ms/step - loss: 1.3395 - accuracy: 0.5392 - val_loss: 1.2570 - val_accuracy: 0.5867\n",
      "Epoch 30/50\n",
      "38/38 [==============================] - 1s 29ms/step - loss: 1.3086 - accuracy: 0.5508 - val_loss: 1.2403 - val_accuracy: 0.5950\n",
      "Epoch 31/50\n",
      "38/38 [==============================] - 1s 25ms/step - loss: 1.2983 - accuracy: 0.5508 - val_loss: 1.2256 - val_accuracy: 0.6017\n",
      "Epoch 32/50\n",
      "38/38 [==============================] - 1s 24ms/step - loss: 1.2992 - accuracy: 0.5483 - val_loss: 1.2110 - val_accuracy: 0.6083\n",
      "Epoch 33/50\n",
      "38/38 [==============================] - 1s 22ms/step - loss: 1.2693 - accuracy: 0.5650 - val_loss: 1.1975 - val_accuracy: 0.6183\n",
      "Epoch 34/50\n",
      "38/38 [==============================] - 1s 23ms/step - loss: 1.2717 - accuracy: 0.5558 - val_loss: 1.1844 - val_accuracy: 0.6250\n",
      "Epoch 35/50\n",
      "38/38 [==============================] - 1s 32ms/step - loss: 1.2549 - accuracy: 0.5550 - val_loss: 1.1723 - val_accuracy: 0.6383\n",
      "Epoch 36/50\n",
      "38/38 [==============================] - 1s 22ms/step - loss: 1.2197 - accuracy: 0.5950 - val_loss: 1.1603 - val_accuracy: 0.6383\n",
      "Epoch 37/50\n",
      "38/38 [==============================] - 1s 22ms/step - loss: 1.2231 - accuracy: 0.5708 - val_loss: 1.1486 - val_accuracy: 0.6383\n",
      "Epoch 38/50\n",
      "38/38 [==============================] - 1s 23ms/step - loss: 1.2273 - accuracy: 0.5750 - val_loss: 1.1376 - val_accuracy: 0.6400\n",
      "Epoch 39/50\n",
      "38/38 [==============================] - 1s 21ms/step - loss: 1.2048 - accuracy: 0.5833 - val_loss: 1.1275 - val_accuracy: 0.6417\n",
      "Epoch 40/50\n",
      "38/38 [==============================] - 1s 22ms/step - loss: 1.1906 - accuracy: 0.5958 - val_loss: 1.1175 - val_accuracy: 0.6450\n",
      "Epoch 41/50\n",
      "38/38 [==============================] - 1s 28ms/step - loss: 1.1824 - accuracy: 0.6100 - val_loss: 1.1072 - val_accuracy: 0.6467\n",
      "Epoch 42/50\n",
      "38/38 [==============================] - 1s 27ms/step - loss: 1.1862 - accuracy: 0.6017 - val_loss: 1.0979 - val_accuracy: 0.6517\n",
      "Epoch 43/50\n",
      "38/38 [==============================] - 1s 25ms/step - loss: 1.1649 - accuracy: 0.6033 - val_loss: 1.0895 - val_accuracy: 0.6617\n",
      "Epoch 44/50\n",
      "38/38 [==============================] - 1s 29ms/step - loss: 1.1481 - accuracy: 0.6175 - val_loss: 1.0802 - val_accuracy: 0.6650\n",
      "Epoch 45/50\n",
      "38/38 [==============================] - 1s 30ms/step - loss: 1.1289 - accuracy: 0.6125 - val_loss: 1.0717 - val_accuracy: 0.6683\n",
      "Epoch 46/50\n",
      "38/38 [==============================] - 1s 26ms/step - loss: 1.1271 - accuracy: 0.6350 - val_loss: 1.0638 - val_accuracy: 0.6717\n",
      "Epoch 47/50\n",
      "38/38 [==============================] - 1s 27ms/step - loss: 1.1384 - accuracy: 0.6117 - val_loss: 1.0562 - val_accuracy: 0.6700\n",
      "Epoch 48/50\n",
      "38/38 [==============================] - 1s 23ms/step - loss: 1.1276 - accuracy: 0.6217 - val_loss: 1.0483 - val_accuracy: 0.6750\n",
      "Epoch 49/50\n",
      "38/38 [==============================] - 1s 22ms/step - loss: 1.1074 - accuracy: 0.6400 - val_loss: 1.0410 - val_accuracy: 0.6733\n",
      "Epoch 50/50\n",
      "38/38 [==============================] - 1s 22ms/step - loss: 1.0901 - accuracy: 0.6317 - val_loss: 1.0344 - val_accuracy: 0.6750\n",
      "Epoch 1/50\n"
     ]
    },
    {
     "name": "stderr",
     "output_type": "stream",
     "text": [
      "2023-05-11 16:51:00.976536: I tensorflow/core/grappler/optimizers/custom_graph_optimizer_registry.cc:113] Plugin optimizer for device_type GPU is enabled.\n"
     ]
    },
    {
     "name": "stdout",
     "output_type": "stream",
     "text": [
      "38/38 [==============================] - ETA: 0s - loss: 3.4165 - accuracy: 0.0842"
     ]
    },
    {
     "name": "stderr",
     "output_type": "stream",
     "text": [
      "2023-05-11 16:51:02.077531: I tensorflow/core/grappler/optimizers/custom_graph_optimizer_registry.cc:113] Plugin optimizer for device_type GPU is enabled.\n"
     ]
    },
    {
     "name": "stdout",
     "output_type": "stream",
     "text": [
      "38/38 [==============================] - 2s 31ms/step - loss: 3.4165 - accuracy: 0.0842 - val_loss: 2.8036 - val_accuracy: 0.0550\n",
      "Epoch 2/50\n",
      "38/38 [==============================] - 1s 26ms/step - loss: 3.1444 - accuracy: 0.1108 - val_loss: 2.7692 - val_accuracy: 0.1067\n",
      "Epoch 3/50\n",
      "38/38 [==============================] - 1s 24ms/step - loss: 2.9486 - accuracy: 0.1425 - val_loss: 2.7114 - val_accuracy: 0.1467\n",
      "Epoch 4/50\n",
      "38/38 [==============================] - 1s 23ms/step - loss: 2.7449 - accuracy: 0.1950 - val_loss: 2.6365 - val_accuracy: 0.1717\n",
      "Epoch 5/50\n",
      "38/38 [==============================] - 1s 23ms/step - loss: 2.5601 - accuracy: 0.2367 - val_loss: 2.5511 - val_accuracy: 0.2150\n",
      "Epoch 6/50\n",
      "38/38 [==============================] - 1s 22ms/step - loss: 2.4567 - accuracy: 0.2433 - val_loss: 2.4596 - val_accuracy: 0.2517\n",
      "Epoch 7/50\n",
      "38/38 [==============================] - 1s 25ms/step - loss: 2.3121 - accuracy: 0.2708 - val_loss: 2.3646 - val_accuracy: 0.2750\n",
      "Epoch 8/50\n",
      "38/38 [==============================] - 1s 27ms/step - loss: 2.1956 - accuracy: 0.2992 - val_loss: 2.2661 - val_accuracy: 0.3117\n",
      "Epoch 9/50\n",
      "38/38 [==============================] - 1s 25ms/step - loss: 2.1350 - accuracy: 0.2983 - val_loss: 2.1675 - val_accuracy: 0.3333\n",
      "Epoch 10/50\n",
      "38/38 [==============================] - 1s 22ms/step - loss: 2.0287 - accuracy: 0.3275 - val_loss: 2.0696 - val_accuracy: 0.3783\n",
      "Epoch 11/50\n",
      "38/38 [==============================] - 1s 23ms/step - loss: 1.9553 - accuracy: 0.3583 - val_loss: 1.9745 - val_accuracy: 0.3917\n",
      "Epoch 12/50\n",
      "38/38 [==============================] - 1s 23ms/step - loss: 1.9010 - accuracy: 0.3658 - val_loss: 1.8857 - val_accuracy: 0.4100\n",
      "Epoch 13/50\n",
      "38/38 [==============================] - 1s 24ms/step - loss: 1.8415 - accuracy: 0.3850 - val_loss: 1.8045 - val_accuracy: 0.4433\n",
      "Epoch 14/50\n",
      "38/38 [==============================] - 1s 25ms/step - loss: 1.7815 - accuracy: 0.4042 - val_loss: 1.7322 - val_accuracy: 0.4600\n",
      "Epoch 15/50\n",
      "38/38 [==============================] - 1s 22ms/step - loss: 1.7289 - accuracy: 0.4125 - val_loss: 1.6683 - val_accuracy: 0.4767\n",
      "Epoch 16/50\n",
      "38/38 [==============================] - 1s 22ms/step - loss: 1.6904 - accuracy: 0.4175 - val_loss: 1.6108 - val_accuracy: 0.4833\n",
      "Epoch 17/50\n",
      "38/38 [==============================] - 1s 23ms/step - loss: 1.6397 - accuracy: 0.4467 - val_loss: 1.5613 - val_accuracy: 0.4983\n",
      "Epoch 18/50\n",
      "38/38 [==============================] - 1s 24ms/step - loss: 1.6153 - accuracy: 0.4425 - val_loss: 1.5175 - val_accuracy: 0.5050\n",
      "Epoch 19/50\n",
      "38/38 [==============================] - 1s 24ms/step - loss: 1.5667 - accuracy: 0.4558 - val_loss: 1.4778 - val_accuracy: 0.5217\n",
      "Epoch 20/50\n",
      "38/38 [==============================] - 1s 31ms/step - loss: 1.5407 - accuracy: 0.4625 - val_loss: 1.4437 - val_accuracy: 0.5333\n",
      "Epoch 21/50\n",
      "38/38 [==============================] - 1s 23ms/step - loss: 1.5102 - accuracy: 0.4700 - val_loss: 1.4122 - val_accuracy: 0.5467\n",
      "Epoch 22/50\n",
      "38/38 [==============================] - 1s 23ms/step - loss: 1.4804 - accuracy: 0.4675 - val_loss: 1.3835 - val_accuracy: 0.5483\n",
      "Epoch 23/50\n",
      "38/38 [==============================] - 1s 24ms/step - loss: 1.4492 - accuracy: 0.5033 - val_loss: 1.3575 - val_accuracy: 0.5633\n",
      "Epoch 24/50\n",
      "38/38 [==============================] - 1s 26ms/step - loss: 1.4319 - accuracy: 0.5125 - val_loss: 1.3338 - val_accuracy: 0.5733\n",
      "Epoch 25/50\n",
      "38/38 [==============================] - 1s 26ms/step - loss: 1.4025 - accuracy: 0.5217 - val_loss: 1.3112 - val_accuracy: 0.5817\n",
      "Epoch 26/50\n",
      "38/38 [==============================] - 1s 31ms/step - loss: 1.3917 - accuracy: 0.5133 - val_loss: 1.2900 - val_accuracy: 0.5883\n",
      "Epoch 27/50\n",
      "38/38 [==============================] - 1s 33ms/step - loss: 1.3789 - accuracy: 0.5133 - val_loss: 1.2699 - val_accuracy: 0.5917\n",
      "Epoch 28/50\n",
      "38/38 [==============================] - 1s 29ms/step - loss: 1.3464 - accuracy: 0.5333 - val_loss: 1.2513 - val_accuracy: 0.5983\n",
      "Epoch 29/50\n",
      "38/38 [==============================] - 1s 21ms/step - loss: 1.3228 - accuracy: 0.5533 - val_loss: 1.2340 - val_accuracy: 0.6017\n",
      "Epoch 30/50\n",
      "38/38 [==============================] - 1s 24ms/step - loss: 1.3056 - accuracy: 0.5617 - val_loss: 1.2174 - val_accuracy: 0.6083\n",
      "Epoch 31/50\n",
      "38/38 [==============================] - 1s 25ms/step - loss: 1.2888 - accuracy: 0.5583 - val_loss: 1.2017 - val_accuracy: 0.6183\n",
      "Epoch 32/50\n",
      "38/38 [==============================] - 1s 21ms/step - loss: 1.2748 - accuracy: 0.5742 - val_loss: 1.1868 - val_accuracy: 0.6267\n",
      "Epoch 33/50\n",
      "38/38 [==============================] - 1s 22ms/step - loss: 1.2723 - accuracy: 0.5658 - val_loss: 1.1729 - val_accuracy: 0.6283\n",
      "Epoch 34/50\n",
      "38/38 [==============================] - 1s 23ms/step - loss: 1.2424 - accuracy: 0.5825 - val_loss: 1.1594 - val_accuracy: 0.6350\n",
      "Epoch 35/50\n",
      "38/38 [==============================] - 1s 22ms/step - loss: 1.2276 - accuracy: 0.5767 - val_loss: 1.1460 - val_accuracy: 0.6400\n",
      "Epoch 36/50\n",
      "38/38 [==============================] - 2s 64ms/step - loss: 1.2498 - accuracy: 0.5675 - val_loss: 1.1335 - val_accuracy: 0.6450\n",
      "Epoch 37/50\n",
      "38/38 [==============================] - 2s 45ms/step - loss: 1.1971 - accuracy: 0.5850 - val_loss: 1.1224 - val_accuracy: 0.6483\n",
      "Epoch 38/50\n",
      "38/38 [==============================] - 1s 36ms/step - loss: 1.1990 - accuracy: 0.5950 - val_loss: 1.1110 - val_accuracy: 0.6533\n",
      "Epoch 39/50\n",
      "38/38 [==============================] - 1s 35ms/step - loss: 1.2012 - accuracy: 0.5925 - val_loss: 1.0999 - val_accuracy: 0.6567\n",
      "Epoch 40/50\n",
      "38/38 [==============================] - 2s 58ms/step - loss: 1.1876 - accuracy: 0.6075 - val_loss: 1.0899 - val_accuracy: 0.6583\n",
      "Epoch 41/50\n",
      "38/38 [==============================] - 4s 94ms/step - loss: 1.1848 - accuracy: 0.5925 - val_loss: 1.0797 - val_accuracy: 0.6617\n",
      "Epoch 42/50\n",
      "38/38 [==============================] - 3s 67ms/step - loss: 1.1455 - accuracy: 0.6033 - val_loss: 1.0707 - val_accuracy: 0.6600\n",
      "Epoch 43/50\n",
      "38/38 [==============================] - 2s 51ms/step - loss: 1.1486 - accuracy: 0.6142 - val_loss: 1.0613 - val_accuracy: 0.6633\n",
      "Epoch 44/50\n",
      "38/38 [==============================] - 2s 50ms/step - loss: 1.1344 - accuracy: 0.6275 - val_loss: 1.0524 - val_accuracy: 0.6633\n",
      "Epoch 45/50\n",
      "38/38 [==============================] - 2s 57ms/step - loss: 1.1378 - accuracy: 0.6158 - val_loss: 1.0447 - val_accuracy: 0.6633\n",
      "Epoch 46/50\n",
      "38/38 [==============================] - 1s 22ms/step - loss: 1.1438 - accuracy: 0.6008 - val_loss: 1.0359 - val_accuracy: 0.6683\n",
      "Epoch 47/50\n",
      "38/38 [==============================] - 1s 22ms/step - loss: 1.1186 - accuracy: 0.6133 - val_loss: 1.0283 - val_accuracy: 0.6700\n",
      "Epoch 48/50\n",
      "38/38 [==============================] - 1s 22ms/step - loss: 1.1028 - accuracy: 0.6367 - val_loss: 1.0212 - val_accuracy: 0.6650\n",
      "Epoch 49/50\n",
      "38/38 [==============================] - 1s 22ms/step - loss: 1.0790 - accuracy: 0.6433 - val_loss: 1.0137 - val_accuracy: 0.6750\n",
      "Epoch 50/50\n",
      "38/38 [==============================] - 1s 22ms/step - loss: 1.0832 - accuracy: 0.6475 - val_loss: 1.0061 - val_accuracy: 0.6783\n",
      "Epoch 1/50\n"
     ]
    },
    {
     "name": "stderr",
     "output_type": "stream",
     "text": [
      "2023-05-11 16:52:00.217620: I tensorflow/core/grappler/optimizers/custom_graph_optimizer_registry.cc:113] Plugin optimizer for device_type GPU is enabled.\n"
     ]
    },
    {
     "name": "stdout",
     "output_type": "stream",
     "text": [
      "38/38 [==============================] - ETA: 0s - loss: 3.2047 - accuracy: 0.0592"
     ]
    },
    {
     "name": "stderr",
     "output_type": "stream",
     "text": [
      "2023-05-11 16:52:01.308366: I tensorflow/core/grappler/optimizers/custom_graph_optimizer_registry.cc:113] Plugin optimizer for device_type GPU is enabled.\n"
     ]
    },
    {
     "name": "stdout",
     "output_type": "stream",
     "text": [
      "38/38 [==============================] - 2s 30ms/step - loss: 3.2047 - accuracy: 0.0592 - val_loss: 2.7934 - val_accuracy: 0.1367\n",
      "Epoch 2/50\n",
      "38/38 [==============================] - 1s 22ms/step - loss: 2.9851 - accuracy: 0.0883 - val_loss: 2.7579 - val_accuracy: 0.1717\n",
      "Epoch 3/50\n",
      "38/38 [==============================] - 1s 23ms/step - loss: 2.7951 - accuracy: 0.1217 - val_loss: 2.6996 - val_accuracy: 0.1800\n",
      "Epoch 4/50\n",
      "38/38 [==============================] - 1s 22ms/step - loss: 2.6327 - accuracy: 0.1442 - val_loss: 2.6252 - val_accuracy: 0.1900\n",
      "Epoch 5/50\n",
      "38/38 [==============================] - 1s 22ms/step - loss: 2.4844 - accuracy: 0.1950 - val_loss: 2.5420 - val_accuracy: 0.2017\n",
      "Epoch 6/50\n",
      "38/38 [==============================] - 1s 23ms/step - loss: 2.3736 - accuracy: 0.2067 - val_loss: 2.4557 - val_accuracy: 0.2200\n",
      "Epoch 7/50\n",
      "38/38 [==============================] - 1s 22ms/step - loss: 2.2740 - accuracy: 0.2400 - val_loss: 2.3669 - val_accuracy: 0.2383\n",
      "Epoch 8/50\n",
      "38/38 [==============================] - 1s 22ms/step - loss: 2.1711 - accuracy: 0.2692 - val_loss: 2.2766 - val_accuracy: 0.2633\n",
      "Epoch 9/50\n",
      "38/38 [==============================] - 1s 22ms/step - loss: 2.1014 - accuracy: 0.2842 - val_loss: 2.1866 - val_accuracy: 0.2950\n",
      "Epoch 10/50\n",
      "38/38 [==============================] - 1s 22ms/step - loss: 2.0449 - accuracy: 0.2925 - val_loss: 2.0963 - val_accuracy: 0.3417\n",
      "Epoch 11/50\n",
      "38/38 [==============================] - 1s 22ms/step - loss: 1.9503 - accuracy: 0.3067 - val_loss: 2.0074 - val_accuracy: 0.3650\n",
      "Epoch 12/50\n",
      "38/38 [==============================] - 1s 21ms/step - loss: 1.8877 - accuracy: 0.3375 - val_loss: 1.9222 - val_accuracy: 0.3967\n",
      "Epoch 13/50\n",
      "38/38 [==============================] - 1s 22ms/step - loss: 1.8501 - accuracy: 0.3408 - val_loss: 1.8409 - val_accuracy: 0.4200\n",
      "Epoch 14/50\n",
      "38/38 [==============================] - 1s 22ms/step - loss: 1.8057 - accuracy: 0.3517 - val_loss: 1.7681 - val_accuracy: 0.4383\n",
      "Epoch 15/50\n",
      "38/38 [==============================] - 1s 22ms/step - loss: 1.7464 - accuracy: 0.3867 - val_loss: 1.7026 - val_accuracy: 0.4533\n",
      "Epoch 16/50\n",
      "38/38 [==============================] - 1s 21ms/step - loss: 1.7201 - accuracy: 0.3908 - val_loss: 1.6454 - val_accuracy: 0.4733\n",
      "Epoch 17/50\n",
      "38/38 [==============================] - 1s 23ms/step - loss: 1.6788 - accuracy: 0.3983 - val_loss: 1.5952 - val_accuracy: 0.4900\n",
      "Epoch 18/50\n",
      "38/38 [==============================] - 1s 23ms/step - loss: 1.6299 - accuracy: 0.4417 - val_loss: 1.5523 - val_accuracy: 0.4983\n",
      "Epoch 19/50\n",
      "38/38 [==============================] - 1s 23ms/step - loss: 1.6056 - accuracy: 0.4450 - val_loss: 1.5135 - val_accuracy: 0.5033\n",
      "Epoch 20/50\n",
      "38/38 [==============================] - 1s 22ms/step - loss: 1.5653 - accuracy: 0.4475 - val_loss: 1.4797 - val_accuracy: 0.5217\n",
      "Epoch 21/50\n",
      "38/38 [==============================] - 1s 22ms/step - loss: 1.5411 - accuracy: 0.4767 - val_loss: 1.4487 - val_accuracy: 0.5367\n",
      "Epoch 22/50\n",
      "38/38 [==============================] - 1s 23ms/step - loss: 1.5080 - accuracy: 0.4883 - val_loss: 1.4215 - val_accuracy: 0.5483\n",
      "Epoch 23/50\n",
      "38/38 [==============================] - 1s 23ms/step - loss: 1.5037 - accuracy: 0.4758 - val_loss: 1.3958 - val_accuracy: 0.5550\n",
      "Epoch 24/50\n",
      "38/38 [==============================] - 1s 22ms/step - loss: 1.4705 - accuracy: 0.4992 - val_loss: 1.3720 - val_accuracy: 0.5667\n",
      "Epoch 25/50\n",
      "38/38 [==============================] - 1s 22ms/step - loss: 1.4448 - accuracy: 0.5042 - val_loss: 1.3499 - val_accuracy: 0.5767\n",
      "Epoch 26/50\n",
      "38/38 [==============================] - 1s 24ms/step - loss: 1.4189 - accuracy: 0.5233 - val_loss: 1.3292 - val_accuracy: 0.5800\n",
      "Epoch 27/50\n",
      "38/38 [==============================] - 1s 23ms/step - loss: 1.4154 - accuracy: 0.5258 - val_loss: 1.3094 - val_accuracy: 0.5833\n",
      "Epoch 28/50\n",
      "38/38 [==============================] - 1s 22ms/step - loss: 1.3781 - accuracy: 0.5408 - val_loss: 1.2913 - val_accuracy: 0.5850\n",
      "Epoch 29/50\n",
      "38/38 [==============================] - 1s 21ms/step - loss: 1.3902 - accuracy: 0.5208 - val_loss: 1.2740 - val_accuracy: 0.5933\n",
      "Epoch 30/50\n",
      "38/38 [==============================] - 1s 22ms/step - loss: 1.3538 - accuracy: 0.5325 - val_loss: 1.2575 - val_accuracy: 0.5983\n",
      "Epoch 31/50\n",
      "38/38 [==============================] - 1s 22ms/step - loss: 1.3335 - accuracy: 0.5542 - val_loss: 1.2419 - val_accuracy: 0.6033\n",
      "Epoch 32/50\n",
      "38/38 [==============================] - 1s 23ms/step - loss: 1.3262 - accuracy: 0.5567 - val_loss: 1.2269 - val_accuracy: 0.6083\n",
      "Epoch 33/50\n",
      "38/38 [==============================] - 1s 22ms/step - loss: 1.2983 - accuracy: 0.5608 - val_loss: 1.2132 - val_accuracy: 0.6150\n",
      "Epoch 34/50\n",
      "38/38 [==============================] - 1s 22ms/step - loss: 1.3021 - accuracy: 0.5508 - val_loss: 1.1994 - val_accuracy: 0.6183\n",
      "Epoch 35/50\n",
      "38/38 [==============================] - 1s 24ms/step - loss: 1.2668 - accuracy: 0.5725 - val_loss: 1.1865 - val_accuracy: 0.6217\n",
      "Epoch 36/50\n",
      "38/38 [==============================] - 1s 23ms/step - loss: 1.2492 - accuracy: 0.5700 - val_loss: 1.1743 - val_accuracy: 0.6200\n",
      "Epoch 37/50\n",
      "38/38 [==============================] - 1s 22ms/step - loss: 1.2411 - accuracy: 0.5792 - val_loss: 1.1626 - val_accuracy: 0.6233\n",
      "Epoch 38/50\n",
      "38/38 [==============================] - 1s 23ms/step - loss: 1.2321 - accuracy: 0.5817 - val_loss: 1.1515 - val_accuracy: 0.6267\n",
      "Epoch 39/50\n",
      "38/38 [==============================] - 1s 23ms/step - loss: 1.2438 - accuracy: 0.5917 - val_loss: 1.1402 - val_accuracy: 0.6283\n",
      "Epoch 40/50\n",
      "38/38 [==============================] - 1s 24ms/step - loss: 1.2118 - accuracy: 0.5958 - val_loss: 1.1300 - val_accuracy: 0.6383\n",
      "Epoch 41/50\n",
      "38/38 [==============================] - 1s 22ms/step - loss: 1.1818 - accuracy: 0.6058 - val_loss: 1.1199 - val_accuracy: 0.6383\n",
      "Epoch 42/50\n",
      "38/38 [==============================] - 1s 22ms/step - loss: 1.1851 - accuracy: 0.6033 - val_loss: 1.1103 - val_accuracy: 0.6400\n",
      "Epoch 43/50\n",
      "38/38 [==============================] - 1s 22ms/step - loss: 1.1761 - accuracy: 0.6067 - val_loss: 1.1006 - val_accuracy: 0.6383\n",
      "Epoch 44/50\n",
      "38/38 [==============================] - 1s 22ms/step - loss: 1.1682 - accuracy: 0.6117 - val_loss: 1.0918 - val_accuracy: 0.6400\n",
      "Epoch 45/50\n",
      "38/38 [==============================] - 1s 23ms/step - loss: 1.1545 - accuracy: 0.6033 - val_loss: 1.0828 - val_accuracy: 0.6433\n",
      "Epoch 46/50\n",
      "38/38 [==============================] - 1s 22ms/step - loss: 1.1545 - accuracy: 0.6175 - val_loss: 1.0747 - val_accuracy: 0.6500\n",
      "Epoch 47/50\n",
      "38/38 [==============================] - 1s 21ms/step - loss: 1.1341 - accuracy: 0.6192 - val_loss: 1.0668 - val_accuracy: 0.6533\n",
      "Epoch 48/50\n",
      "38/38 [==============================] - 1s 22ms/step - loss: 1.1255 - accuracy: 0.6208 - val_loss: 1.0590 - val_accuracy: 0.6550\n",
      "Epoch 49/50\n",
      "38/38 [==============================] - 1s 23ms/step - loss: 1.1203 - accuracy: 0.6208 - val_loss: 1.0515 - val_accuracy: 0.6567\n",
      "Epoch 50/50\n",
      "38/38 [==============================] - 1s 22ms/step - loss: 1.1129 - accuracy: 0.6175 - val_loss: 1.0441 - val_accuracy: 0.6617\n",
      "trials for model 0: 0.67166668176651\n",
      "Epoch 1/50\n"
     ]
    },
    {
     "name": "stderr",
     "output_type": "stream",
     "text": [
      "2023-05-11 16:52:43.580450: I tensorflow/core/grappler/optimizers/custom_graph_optimizer_registry.cc:113] Plugin optimizer for device_type GPU is enabled.\n"
     ]
    },
    {
     "name": "stdout",
     "output_type": "stream",
     "text": [
      "38/38 [==============================] - ETA: 0s - loss: 2.9427 - accuracy: 0.1008"
     ]
    },
    {
     "name": "stderr",
     "output_type": "stream",
     "text": [
      "2023-05-11 16:52:45.170013: I tensorflow/core/grappler/optimizers/custom_graph_optimizer_registry.cc:113] Plugin optimizer for device_type GPU is enabled.\n"
     ]
    },
    {
     "name": "stdout",
     "output_type": "stream",
     "text": [
      "38/38 [==============================] - 2s 45ms/step - loss: 2.9427 - accuracy: 0.1008 - val_loss: 2.7793 - val_accuracy: 0.0500\n",
      "Epoch 2/50\n",
      "38/38 [==============================] - 1s 34ms/step - loss: 2.6030 - accuracy: 0.1750 - val_loss: 2.7098 - val_accuracy: 0.1233\n",
      "Epoch 3/50\n",
      "38/38 [==============================] - 1s 37ms/step - loss: 2.3328 - accuracy: 0.2200 - val_loss: 2.6084 - val_accuracy: 0.2117\n",
      "Epoch 4/50\n",
      "38/38 [==============================] - 1s 35ms/step - loss: 2.1403 - accuracy: 0.2642 - val_loss: 2.4915 - val_accuracy: 0.2317\n",
      "Epoch 5/50\n",
      "38/38 [==============================] - 1s 34ms/step - loss: 1.9838 - accuracy: 0.3092 - val_loss: 2.3694 - val_accuracy: 0.2650\n",
      "Epoch 6/50\n",
      "38/38 [==============================] - 1s 34ms/step - loss: 1.8675 - accuracy: 0.3533 - val_loss: 2.2490 - val_accuracy: 0.2950\n",
      "Epoch 7/50\n",
      "38/38 [==============================] - 1s 34ms/step - loss: 1.7810 - accuracy: 0.3617 - val_loss: 2.1317 - val_accuracy: 0.3367\n",
      "Epoch 8/50\n",
      "38/38 [==============================] - 1s 34ms/step - loss: 1.6908 - accuracy: 0.4142 - val_loss: 2.0195 - val_accuracy: 0.3550\n",
      "Epoch 9/50\n",
      "38/38 [==============================] - 1s 34ms/step - loss: 1.6111 - accuracy: 0.4392 - val_loss: 1.9084 - val_accuracy: 0.4067\n",
      "Epoch 10/50\n",
      "38/38 [==============================] - 1s 34ms/step - loss: 1.5627 - accuracy: 0.4483 - val_loss: 1.7987 - val_accuracy: 0.4467\n",
      "Epoch 11/50\n",
      "38/38 [==============================] - 1s 34ms/step - loss: 1.5168 - accuracy: 0.4700 - val_loss: 1.6923 - val_accuracy: 0.4767\n",
      "Epoch 12/50\n",
      "38/38 [==============================] - 1s 34ms/step - loss: 1.4704 - accuracy: 0.4775 - val_loss: 1.5911 - val_accuracy: 0.5067\n",
      "Epoch 13/50\n",
      "38/38 [==============================] - 1s 37ms/step - loss: 1.4325 - accuracy: 0.4883 - val_loss: 1.4998 - val_accuracy: 0.5217\n",
      "Epoch 14/50\n",
      "38/38 [==============================] - 1s 35ms/step - loss: 1.3853 - accuracy: 0.5200 - val_loss: 1.4211 - val_accuracy: 0.5550\n",
      "Epoch 15/50\n",
      "38/38 [==============================] - 1s 34ms/step - loss: 1.3601 - accuracy: 0.5408 - val_loss: 1.3517 - val_accuracy: 0.5733\n",
      "Epoch 16/50\n",
      "38/38 [==============================] - 1s 34ms/step - loss: 1.3172 - accuracy: 0.5408 - val_loss: 1.2941 - val_accuracy: 0.6000\n",
      "Epoch 17/50\n",
      "38/38 [==============================] - 1s 36ms/step - loss: 1.3064 - accuracy: 0.5442 - val_loss: 1.2456 - val_accuracy: 0.6100\n",
      "Epoch 18/50\n",
      "38/38 [==============================] - 1s 34ms/step - loss: 1.2864 - accuracy: 0.5525 - val_loss: 1.2070 - val_accuracy: 0.6367\n",
      "Epoch 19/50\n",
      "38/38 [==============================] - 1s 34ms/step - loss: 1.2359 - accuracy: 0.5617 - val_loss: 1.1735 - val_accuracy: 0.6450\n",
      "Epoch 20/50\n",
      "38/38 [==============================] - 2s 43ms/step - loss: 1.2268 - accuracy: 0.5758 - val_loss: 1.1451 - val_accuracy: 0.6533\n",
      "Epoch 21/50\n",
      "38/38 [==============================] - 1s 33ms/step - loss: 1.1978 - accuracy: 0.5767 - val_loss: 1.1208 - val_accuracy: 0.6600\n",
      "Epoch 22/50\n",
      "38/38 [==============================] - 1s 34ms/step - loss: 1.1886 - accuracy: 0.5942 - val_loss: 1.0981 - val_accuracy: 0.6767\n",
      "Epoch 23/50\n",
      "38/38 [==============================] - 1s 34ms/step - loss: 1.1809 - accuracy: 0.5842 - val_loss: 1.0794 - val_accuracy: 0.6850\n",
      "Epoch 24/50\n",
      "38/38 [==============================] - 1s 37ms/step - loss: 1.1471 - accuracy: 0.6017 - val_loss: 1.0614 - val_accuracy: 0.6917\n",
      "Epoch 25/50\n",
      "38/38 [==============================] - 1s 34ms/step - loss: 1.1406 - accuracy: 0.6167 - val_loss: 1.0463 - val_accuracy: 0.6950\n",
      "Epoch 26/50\n",
      "38/38 [==============================] - 1s 35ms/step - loss: 1.1099 - accuracy: 0.6183 - val_loss: 1.0314 - val_accuracy: 0.6933\n",
      "Epoch 27/50\n",
      "38/38 [==============================] - 1s 34ms/step - loss: 1.1042 - accuracy: 0.6083 - val_loss: 1.0165 - val_accuracy: 0.6983\n",
      "Epoch 28/50\n",
      "38/38 [==============================] - 1s 35ms/step - loss: 1.0936 - accuracy: 0.6175 - val_loss: 1.0048 - val_accuracy: 0.7033\n",
      "Epoch 29/50\n",
      "38/38 [==============================] - 1s 37ms/step - loss: 1.0853 - accuracy: 0.6117 - val_loss: 0.9929 - val_accuracy: 0.7000\n",
      "Epoch 30/50\n",
      "38/38 [==============================] - 1s 34ms/step - loss: 1.0636 - accuracy: 0.6367 - val_loss: 0.9805 - val_accuracy: 0.7017\n",
      "Epoch 31/50\n",
      "38/38 [==============================] - 1s 34ms/step - loss: 1.0443 - accuracy: 0.6350 - val_loss: 0.9703 - val_accuracy: 0.7050\n",
      "Epoch 32/50\n",
      "38/38 [==============================] - 1s 37ms/step - loss: 1.0342 - accuracy: 0.6508 - val_loss: 0.9606 - val_accuracy: 0.7117\n",
      "Epoch 33/50\n",
      "38/38 [==============================] - 1s 33ms/step - loss: 1.0398 - accuracy: 0.6367 - val_loss: 0.9515 - val_accuracy: 0.7117\n",
      "Epoch 34/50\n",
      "38/38 [==============================] - 1s 35ms/step - loss: 1.0135 - accuracy: 0.6467 - val_loss: 0.9419 - val_accuracy: 0.7133\n",
      "Epoch 35/50\n",
      "38/38 [==============================] - 1s 34ms/step - loss: 1.0101 - accuracy: 0.6550 - val_loss: 0.9335 - val_accuracy: 0.7167\n",
      "Epoch 36/50\n",
      "38/38 [==============================] - 1s 34ms/step - loss: 0.9881 - accuracy: 0.6500 - val_loss: 0.9250 - val_accuracy: 0.7183\n",
      "Epoch 37/50\n",
      "38/38 [==============================] - 1s 34ms/step - loss: 0.9859 - accuracy: 0.6617 - val_loss: 0.9167 - val_accuracy: 0.7250\n",
      "Epoch 38/50\n",
      "38/38 [==============================] - 1s 35ms/step - loss: 0.9745 - accuracy: 0.6708 - val_loss: 0.9096 - val_accuracy: 0.7233\n",
      "Epoch 39/50\n",
      "38/38 [==============================] - 1s 34ms/step - loss: 0.9754 - accuracy: 0.6733 - val_loss: 0.9019 - val_accuracy: 0.7267\n",
      "Epoch 40/50\n",
      "38/38 [==============================] - 1s 35ms/step - loss: 0.9681 - accuracy: 0.6692 - val_loss: 0.8948 - val_accuracy: 0.7300\n",
      "Epoch 41/50\n",
      "38/38 [==============================] - 1s 37ms/step - loss: 0.9583 - accuracy: 0.6692 - val_loss: 0.8884 - val_accuracy: 0.7283\n",
      "Epoch 42/50\n",
      "38/38 [==============================] - 1s 33ms/step - loss: 0.9581 - accuracy: 0.6625 - val_loss: 0.8817 - val_accuracy: 0.7300\n",
      "Epoch 43/50\n",
      "38/38 [==============================] - 1s 34ms/step - loss: 0.9384 - accuracy: 0.6775 - val_loss: 0.8757 - val_accuracy: 0.7317\n",
      "Epoch 44/50\n",
      "38/38 [==============================] - 1s 34ms/step - loss: 0.9225 - accuracy: 0.6875 - val_loss: 0.8697 - val_accuracy: 0.7283\n",
      "Epoch 45/50\n",
      "38/38 [==============================] - 1s 34ms/step - loss: 0.9230 - accuracy: 0.7000 - val_loss: 0.8640 - val_accuracy: 0.7300\n",
      "Epoch 46/50\n",
      "38/38 [==============================] - 1s 34ms/step - loss: 0.9228 - accuracy: 0.6867 - val_loss: 0.8585 - val_accuracy: 0.7317\n",
      "Epoch 47/50\n",
      "38/38 [==============================] - 1s 34ms/step - loss: 0.8921 - accuracy: 0.6942 - val_loss: 0.8531 - val_accuracy: 0.7317\n",
      "Epoch 1/50\n"
     ]
    },
    {
     "name": "stderr",
     "output_type": "stream",
     "text": [
      "2023-05-11 16:53:46.200710: I tensorflow/core/grappler/optimizers/custom_graph_optimizer_registry.cc:113] Plugin optimizer for device_type GPU is enabled.\n"
     ]
    },
    {
     "name": "stdout",
     "output_type": "stream",
     "text": [
      "38/38 [==============================] - ETA: 0s - loss: 2.8266 - accuracy: 0.1233"
     ]
    },
    {
     "name": "stderr",
     "output_type": "stream",
     "text": [
      "2023-05-11 16:53:47.521007: I tensorflow/core/grappler/optimizers/custom_graph_optimizer_registry.cc:113] Plugin optimizer for device_type GPU is enabled.\n"
     ]
    },
    {
     "name": "stdout",
     "output_type": "stream",
     "text": [
      "38/38 [==============================] - 2s 38ms/step - loss: 2.8266 - accuracy: 0.1233 - val_loss: 2.7199 - val_accuracy: 0.1500\n",
      "Epoch 2/50\n",
      "38/38 [==============================] - 1s 32ms/step - loss: 2.5527 - accuracy: 0.1550 - val_loss: 2.6038 - val_accuracy: 0.1733\n",
      "Epoch 3/50\n",
      "38/38 [==============================] - 1s 34ms/step - loss: 2.3404 - accuracy: 0.1775 - val_loss: 2.4744 - val_accuracy: 0.1733\n",
      "Epoch 4/50\n",
      "38/38 [==============================] - 1s 36ms/step - loss: 2.1890 - accuracy: 0.2225 - val_loss: 2.3458 - val_accuracy: 0.1833\n",
      "Epoch 5/50\n",
      "38/38 [==============================] - 1s 34ms/step - loss: 2.0697 - accuracy: 0.2433 - val_loss: 2.2256 - val_accuracy: 0.1983\n",
      "Epoch 6/50\n",
      "38/38 [==============================] - 1s 34ms/step - loss: 1.9434 - accuracy: 0.2783 - val_loss: 2.1172 - val_accuracy: 0.2317\n",
      "Epoch 7/50\n",
      "38/38 [==============================] - 1s 34ms/step - loss: 1.8593 - accuracy: 0.2892 - val_loss: 2.0230 - val_accuracy: 0.2583\n",
      "Epoch 8/50\n",
      "38/38 [==============================] - 1s 34ms/step - loss: 1.7596 - accuracy: 0.3425 - val_loss: 1.9346 - val_accuracy: 0.2900\n",
      "Epoch 9/50\n",
      "38/38 [==============================] - 1s 34ms/step - loss: 1.6884 - accuracy: 0.3633 - val_loss: 1.8447 - val_accuracy: 0.3517\n",
      "Epoch 10/50\n",
      "38/38 [==============================] - 1s 34ms/step - loss: 1.6406 - accuracy: 0.3925 - val_loss: 1.7538 - val_accuracy: 0.4033\n",
      "Epoch 11/50\n",
      "38/38 [==============================] - 1s 34ms/step - loss: 1.5920 - accuracy: 0.4133 - val_loss: 1.6645 - val_accuracy: 0.4633\n",
      "Epoch 12/50\n",
      "38/38 [==============================] - 1s 33ms/step - loss: 1.5444 - accuracy: 0.4175 - val_loss: 1.5801 - val_accuracy: 0.4917\n",
      "Epoch 13/50\n",
      "38/38 [==============================] - 1s 34ms/step - loss: 1.4872 - accuracy: 0.4692 - val_loss: 1.5014 - val_accuracy: 0.5217\n",
      "Epoch 14/50\n",
      "38/38 [==============================] - 1s 37ms/step - loss: 1.4435 - accuracy: 0.4800 - val_loss: 1.4338 - val_accuracy: 0.5483\n",
      "Epoch 15/50\n",
      "38/38 [==============================] - 1s 34ms/step - loss: 1.4056 - accuracy: 0.5025 - val_loss: 1.3738 - val_accuracy: 0.5633\n",
      "Epoch 16/50\n",
      "38/38 [==============================] - 1s 34ms/step - loss: 1.3670 - accuracy: 0.5167 - val_loss: 1.3232 - val_accuracy: 0.5817\n",
      "Epoch 17/50\n",
      "38/38 [==============================] - 1s 36ms/step - loss: 1.3318 - accuracy: 0.5292 - val_loss: 1.2804 - val_accuracy: 0.5950\n",
      "Epoch 18/50\n",
      "38/38 [==============================] - 1s 34ms/step - loss: 1.3010 - accuracy: 0.5467 - val_loss: 1.2433 - val_accuracy: 0.6117\n",
      "Epoch 19/50\n",
      "38/38 [==============================] - 1s 36ms/step - loss: 1.2891 - accuracy: 0.5600 - val_loss: 1.2124 - val_accuracy: 0.6233\n",
      "Epoch 20/50\n",
      "38/38 [==============================] - 1s 34ms/step - loss: 1.2613 - accuracy: 0.5533 - val_loss: 1.1842 - val_accuracy: 0.6350\n",
      "Epoch 21/50\n",
      "38/38 [==============================] - 1s 37ms/step - loss: 1.2435 - accuracy: 0.5700 - val_loss: 1.1599 - val_accuracy: 0.6383\n",
      "Epoch 22/50\n",
      "38/38 [==============================] - 1s 34ms/step - loss: 1.2231 - accuracy: 0.5942 - val_loss: 1.1371 - val_accuracy: 0.6433\n",
      "Epoch 23/50\n",
      "38/38 [==============================] - 1s 36ms/step - loss: 1.1893 - accuracy: 0.5942 - val_loss: 1.1172 - val_accuracy: 0.6533\n",
      "Epoch 24/50\n",
      "38/38 [==============================] - 1s 34ms/step - loss: 1.1848 - accuracy: 0.5975 - val_loss: 1.0986 - val_accuracy: 0.6567\n",
      "Epoch 25/50\n",
      "38/38 [==============================] - 1s 34ms/step - loss: 1.1563 - accuracy: 0.6150 - val_loss: 1.0811 - val_accuracy: 0.6600\n",
      "Epoch 26/50\n",
      "38/38 [==============================] - 1s 33ms/step - loss: 1.1292 - accuracy: 0.6317 - val_loss: 1.0654 - val_accuracy: 0.6600\n",
      "Epoch 27/50\n",
      "38/38 [==============================] - 1s 34ms/step - loss: 1.1251 - accuracy: 0.6175 - val_loss: 1.0509 - val_accuracy: 0.6667\n",
      "Epoch 28/50\n",
      "38/38 [==============================] - 1s 34ms/step - loss: 1.1128 - accuracy: 0.6242 - val_loss: 1.0377 - val_accuracy: 0.6683\n",
      "Epoch 29/50\n",
      "38/38 [==============================] - 1s 34ms/step - loss: 1.1136 - accuracy: 0.6175 - val_loss: 1.0246 - val_accuracy: 0.6750\n",
      "Epoch 30/50\n",
      "38/38 [==============================] - 1s 34ms/step - loss: 1.0973 - accuracy: 0.6250 - val_loss: 1.0121 - val_accuracy: 0.6850\n",
      "Epoch 31/50\n",
      "38/38 [==============================] - 1s 34ms/step - loss: 1.0690 - accuracy: 0.6417 - val_loss: 1.0004 - val_accuracy: 0.6867\n",
      "Epoch 32/50\n",
      "38/38 [==============================] - 1s 38ms/step - loss: 1.0644 - accuracy: 0.6500 - val_loss: 0.9897 - val_accuracy: 0.6900\n",
      "Epoch 33/50\n",
      "38/38 [==============================] - 1s 36ms/step - loss: 1.0551 - accuracy: 0.6425 - val_loss: 0.9797 - val_accuracy: 0.6950\n",
      "Epoch 34/50\n",
      "38/38 [==============================] - 1s 34ms/step - loss: 1.0437 - accuracy: 0.6508 - val_loss: 0.9702 - val_accuracy: 0.6950\n",
      "Epoch 35/50\n",
      "38/38 [==============================] - 1s 35ms/step - loss: 1.0069 - accuracy: 0.6700 - val_loss: 0.9600 - val_accuracy: 0.7000\n",
      "Epoch 36/50\n",
      "38/38 [==============================] - 1s 36ms/step - loss: 1.0101 - accuracy: 0.6575 - val_loss: 0.9515 - val_accuracy: 0.7050\n",
      "Epoch 37/50\n",
      "38/38 [==============================] - 1s 34ms/step - loss: 1.0178 - accuracy: 0.6617 - val_loss: 0.9431 - val_accuracy: 0.7050\n",
      "Epoch 38/50\n",
      "38/38 [==============================] - 1s 36ms/step - loss: 1.0047 - accuracy: 0.6700 - val_loss: 0.9346 - val_accuracy: 0.7067\n",
      "Epoch 39/50\n",
      "38/38 [==============================] - 1s 33ms/step - loss: 0.9995 - accuracy: 0.6725 - val_loss: 0.9269 - val_accuracy: 0.7067\n",
      "Epoch 40/50\n",
      "38/38 [==============================] - 1s 34ms/step - loss: 0.9938 - accuracy: 0.6767 - val_loss: 0.9196 - val_accuracy: 0.7117\n",
      "Epoch 41/50\n",
      "38/38 [==============================] - 1s 34ms/step - loss: 0.9713 - accuracy: 0.6733 - val_loss: 0.9121 - val_accuracy: 0.7100\n",
      "Epoch 42/50\n",
      "38/38 [==============================] - 1s 37ms/step - loss: 0.9522 - accuracy: 0.6817 - val_loss: 0.9056 - val_accuracy: 0.7150\n",
      "Epoch 43/50\n",
      "38/38 [==============================] - 1s 34ms/step - loss: 0.9572 - accuracy: 0.6842 - val_loss: 0.9000 - val_accuracy: 0.7183\n",
      "Epoch 44/50\n",
      "38/38 [==============================] - 1s 35ms/step - loss: 0.9413 - accuracy: 0.6917 - val_loss: 0.8930 - val_accuracy: 0.7233\n",
      "Epoch 45/50\n",
      "38/38 [==============================] - 1s 35ms/step - loss: 0.9416 - accuracy: 0.6892 - val_loss: 0.8876 - val_accuracy: 0.7267\n",
      "Epoch 46/50\n",
      "38/38 [==============================] - 1s 33ms/step - loss: 0.9434 - accuracy: 0.6850 - val_loss: 0.8816 - val_accuracy: 0.7250\n",
      "Epoch 47/50\n",
      "38/38 [==============================] - 1s 34ms/step - loss: 0.9057 - accuracy: 0.7133 - val_loss: 0.8754 - val_accuracy: 0.7233\n",
      "Epoch 48/50\n",
      "38/38 [==============================] - 1s 34ms/step - loss: 0.9128 - accuracy: 0.6892 - val_loss: 0.8695 - val_accuracy: 0.7267\n",
      "Epoch 49/50\n",
      "38/38 [==============================] - 1s 34ms/step - loss: 0.9173 - accuracy: 0.6875 - val_loss: 0.8644 - val_accuracy: 0.7267\n",
      "Epoch 1/50\n"
     ]
    },
    {
     "name": "stderr",
     "output_type": "stream",
     "text": [
      "2023-05-11 16:54:51.081520: I tensorflow/core/grappler/optimizers/custom_graph_optimizer_registry.cc:113] Plugin optimizer for device_type GPU is enabled.\n"
     ]
    },
    {
     "name": "stdout",
     "output_type": "stream",
     "text": [
      "38/38 [==============================] - ETA: 0s - loss: 3.1043 - accuracy: 0.1158"
     ]
    },
    {
     "name": "stderr",
     "output_type": "stream",
     "text": [
      "2023-05-11 16:54:52.280653: I tensorflow/core/grappler/optimizers/custom_graph_optimizer_registry.cc:113] Plugin optimizer for device_type GPU is enabled.\n"
     ]
    },
    {
     "name": "stdout",
     "output_type": "stream",
     "text": [
      "38/38 [==============================] - 2s 35ms/step - loss: 3.1043 - accuracy: 0.1158 - val_loss: 2.7828 - val_accuracy: 0.0717\n",
      "Epoch 2/50\n",
      "38/38 [==============================] - 1s 35ms/step - loss: 2.6849 - accuracy: 0.1875 - val_loss: 2.7188 - val_accuracy: 0.0950\n",
      "Epoch 3/50\n",
      "38/38 [==============================] - 1s 34ms/step - loss: 2.3524 - accuracy: 0.2542 - val_loss: 2.6144 - val_accuracy: 0.2267\n",
      "Epoch 4/50\n",
      "38/38 [==============================] - 2s 41ms/step - loss: 2.0971 - accuracy: 0.3350 - val_loss: 2.4917 - val_accuracy: 0.2950\n",
      "Epoch 5/50\n",
      "38/38 [==============================] - 1s 34ms/step - loss: 1.9466 - accuracy: 0.3858 - val_loss: 2.3641 - val_accuracy: 0.3217\n",
      "Epoch 6/50\n",
      "38/38 [==============================] - 1s 37ms/step - loss: 1.8001 - accuracy: 0.4258 - val_loss: 2.2357 - val_accuracy: 0.3583\n",
      "Epoch 7/50\n",
      "38/38 [==============================] - 1s 34ms/step - loss: 1.7084 - accuracy: 0.4400 - val_loss: 2.1089 - val_accuracy: 0.3717\n",
      "Epoch 8/50\n",
      "38/38 [==============================] - 1s 34ms/step - loss: 1.6177 - accuracy: 0.4742 - val_loss: 1.9803 - val_accuracy: 0.4267\n",
      "Epoch 9/50\n",
      "38/38 [==============================] - 1s 34ms/step - loss: 1.5591 - accuracy: 0.5008 - val_loss: 1.8538 - val_accuracy: 0.4650\n",
      "Epoch 10/50\n",
      "38/38 [==============================] - 1s 34ms/step - loss: 1.4966 - accuracy: 0.5125 - val_loss: 1.7308 - val_accuracy: 0.5133\n",
      "Epoch 11/50\n",
      "38/38 [==============================] - 1s 34ms/step - loss: 1.4445 - accuracy: 0.5192 - val_loss: 1.6168 - val_accuracy: 0.5450\n",
      "Epoch 12/50\n",
      "38/38 [==============================] - 1s 37ms/step - loss: 1.4077 - accuracy: 0.5275 - val_loss: 1.5146 - val_accuracy: 0.5533\n",
      "Epoch 13/50\n",
      "38/38 [==============================] - 1s 34ms/step - loss: 1.3703 - accuracy: 0.5442 - val_loss: 1.4267 - val_accuracy: 0.5683\n",
      "Epoch 14/50\n",
      "38/38 [==============================] - 1s 36ms/step - loss: 1.3362 - accuracy: 0.5492 - val_loss: 1.3518 - val_accuracy: 0.5683\n",
      "Epoch 15/50\n",
      "38/38 [==============================] - 1s 36ms/step - loss: 1.3016 - accuracy: 0.5775 - val_loss: 1.2897 - val_accuracy: 0.5850\n",
      "Epoch 16/50\n",
      "38/38 [==============================] - 1s 34ms/step - loss: 1.2901 - accuracy: 0.5725 - val_loss: 1.2389 - val_accuracy: 0.5917\n",
      "Epoch 17/50\n",
      "38/38 [==============================] - 1s 34ms/step - loss: 1.2358 - accuracy: 0.5808 - val_loss: 1.1982 - val_accuracy: 0.6000\n",
      "Epoch 18/50\n",
      "38/38 [==============================] - 1s 34ms/step - loss: 1.2300 - accuracy: 0.5900 - val_loss: 1.1640 - val_accuracy: 0.6167\n",
      "Epoch 19/50\n",
      "38/38 [==============================] - 1s 35ms/step - loss: 1.1980 - accuracy: 0.6075 - val_loss: 1.1347 - val_accuracy: 0.6233\n",
      "Epoch 20/50\n",
      "38/38 [==============================] - 1s 34ms/step - loss: 1.2037 - accuracy: 0.5875 - val_loss: 1.1110 - val_accuracy: 0.6367\n",
      "Epoch 21/50\n",
      "38/38 [==============================] - 1s 39ms/step - loss: 1.1585 - accuracy: 0.6142 - val_loss: 1.0898 - val_accuracy: 0.6417\n",
      "Epoch 22/50\n",
      "38/38 [==============================] - 1s 36ms/step - loss: 1.1331 - accuracy: 0.6250 - val_loss: 1.0717 - val_accuracy: 0.6483\n",
      "Epoch 23/50\n",
      "38/38 [==============================] - 1s 34ms/step - loss: 1.1167 - accuracy: 0.6283 - val_loss: 1.0550 - val_accuracy: 0.6517\n",
      "Epoch 24/50\n",
      "38/38 [==============================] - 1s 36ms/step - loss: 1.1039 - accuracy: 0.6383 - val_loss: 1.0390 - val_accuracy: 0.6633\n",
      "Epoch 25/50\n",
      "38/38 [==============================] - 1s 34ms/step - loss: 1.1060 - accuracy: 0.6342 - val_loss: 1.0250 - val_accuracy: 0.6650\n",
      "Epoch 26/50\n",
      "38/38 [==============================] - 1s 34ms/step - loss: 1.0805 - accuracy: 0.6350 - val_loss: 1.0115 - val_accuracy: 0.6700\n",
      "Epoch 27/50\n",
      "38/38 [==============================] - 1s 34ms/step - loss: 1.0607 - accuracy: 0.6483 - val_loss: 0.9987 - val_accuracy: 0.6767\n",
      "Epoch 28/50\n",
      "38/38 [==============================] - 1s 34ms/step - loss: 1.0454 - accuracy: 0.6550 - val_loss: 0.9875 - val_accuracy: 0.6817\n",
      "Epoch 29/50\n",
      "38/38 [==============================] - 1s 34ms/step - loss: 1.0560 - accuracy: 0.6525 - val_loss: 0.9771 - val_accuracy: 0.6850\n",
      "Epoch 30/50\n",
      "38/38 [==============================] - 1s 37ms/step - loss: 1.0071 - accuracy: 0.6750 - val_loss: 0.9672 - val_accuracy: 0.6833\n",
      "Epoch 31/50\n",
      "38/38 [==============================] - 1s 33ms/step - loss: 1.0296 - accuracy: 0.6550 - val_loss: 0.9569 - val_accuracy: 0.6950\n",
      "Epoch 32/50\n",
      "38/38 [==============================] - 1s 34ms/step - loss: 1.0081 - accuracy: 0.6658 - val_loss: 0.9477 - val_accuracy: 0.7000\n",
      "Epoch 33/50\n",
      "38/38 [==============================] - 1s 34ms/step - loss: 0.9969 - accuracy: 0.6750 - val_loss: 0.9387 - val_accuracy: 0.7050\n",
      "Epoch 34/50\n",
      "38/38 [==============================] - 1s 34ms/step - loss: 0.9798 - accuracy: 0.6825 - val_loss: 0.9303 - val_accuracy: 0.7083\n",
      "Epoch 35/50\n",
      "38/38 [==============================] - 1s 34ms/step - loss: 0.9705 - accuracy: 0.6850 - val_loss: 0.9220 - val_accuracy: 0.7117\n",
      "Epoch 36/50\n",
      "38/38 [==============================] - 1s 34ms/step - loss: 0.9735 - accuracy: 0.6967 - val_loss: 0.9147 - val_accuracy: 0.7100\n",
      "Epoch 37/50\n",
      "38/38 [==============================] - 1s 34ms/step - loss: 0.9493 - accuracy: 0.6917 - val_loss: 0.9064 - val_accuracy: 0.7150\n",
      "Epoch 38/50\n",
      "38/38 [==============================] - 1s 34ms/step - loss: 0.9433 - accuracy: 0.6892 - val_loss: 0.8993 - val_accuracy: 0.7183\n",
      "Epoch 39/50\n",
      "38/38 [==============================] - 1s 34ms/step - loss: 0.9455 - accuracy: 0.6850 - val_loss: 0.8925 - val_accuracy: 0.7200\n",
      "Epoch 40/50\n",
      "38/38 [==============================] - 1s 38ms/step - loss: 0.9315 - accuracy: 0.6917 - val_loss: 0.8857 - val_accuracy: 0.7217\n",
      "Epoch 41/50\n",
      "38/38 [==============================] - 1s 35ms/step - loss: 0.9172 - accuracy: 0.6958 - val_loss: 0.8796 - val_accuracy: 0.7233\n",
      "Epoch 42/50\n",
      "38/38 [==============================] - 1s 35ms/step - loss: 0.9189 - accuracy: 0.6967 - val_loss: 0.8735 - val_accuracy: 0.7250\n",
      "Epoch 43/50\n",
      "38/38 [==============================] - 1s 34ms/step - loss: 0.8907 - accuracy: 0.7042 - val_loss: 0.8679 - val_accuracy: 0.7283\n",
      "Epoch 44/50\n",
      "38/38 [==============================] - 1s 34ms/step - loss: 0.8999 - accuracy: 0.7133 - val_loss: 0.8620 - val_accuracy: 0.7333\n",
      "Epoch 45/50\n",
      "38/38 [==============================] - 1s 34ms/step - loss: 0.8857 - accuracy: 0.7167 - val_loss: 0.8571 - val_accuracy: 0.7350\n",
      "Epoch 46/50\n",
      "38/38 [==============================] - 1s 34ms/step - loss: 0.8916 - accuracy: 0.7217 - val_loss: 0.8514 - val_accuracy: 0.7350\n",
      "Epoch 47/50\n",
      "38/38 [==============================] - 1s 34ms/step - loss: 0.8846 - accuracy: 0.7108 - val_loss: 0.8468 - val_accuracy: 0.7367\n",
      "Epoch 48/50\n",
      "38/38 [==============================] - 1s 36ms/step - loss: 0.8639 - accuracy: 0.7192 - val_loss: 0.8412 - val_accuracy: 0.7367\n",
      "Epoch 49/50\n",
      "38/38 [==============================] - 1s 35ms/step - loss: 0.8567 - accuracy: 0.7183 - val_loss: 0.8368 - val_accuracy: 0.7367\n",
      "Epoch 50/50\n",
      "38/38 [==============================] - 1s 34ms/step - loss: 0.8674 - accuracy: 0.7208 - val_loss: 0.8322 - val_accuracy: 0.7417\n",
      "trials for model 1: 0.7333333492279053\n",
      "Epoch 1/50\n"
     ]
    },
    {
     "name": "stderr",
     "output_type": "stream",
     "text": [
      "2023-05-11 16:55:57.344555: I tensorflow/core/grappler/optimizers/custom_graph_optimizer_registry.cc:113] Plugin optimizer for device_type GPU is enabled.\n"
     ]
    },
    {
     "name": "stdout",
     "output_type": "stream",
     "text": [
      "38/38 [==============================] - ETA: 0s - loss: 2.7891 - accuracy: 0.1058"
     ]
    },
    {
     "name": "stderr",
     "output_type": "stream",
     "text": [
      "2023-05-11 16:55:58.704924: I tensorflow/core/grappler/optimizers/custom_graph_optimizer_registry.cc:113] Plugin optimizer for device_type GPU is enabled.\n"
     ]
    },
    {
     "name": "stdout",
     "output_type": "stream",
     "text": [
      "38/38 [==============================] - 2s 39ms/step - loss: 2.7891 - accuracy: 0.1058 - val_loss: 2.7493 - val_accuracy: 0.1433\n",
      "Epoch 2/50\n",
      "38/38 [==============================] - 1s 33ms/step - loss: 2.4751 - accuracy: 0.1592 - val_loss: 2.6447 - val_accuracy: 0.1550\n",
      "Epoch 3/50\n",
      "38/38 [==============================] - 1s 35ms/step - loss: 2.2313 - accuracy: 0.2100 - val_loss: 2.5239 - val_accuracy: 0.1617\n",
      "Epoch 4/50\n",
      "38/38 [==============================] - 1s 37ms/step - loss: 2.0653 - accuracy: 0.2550 - val_loss: 2.4033 - val_accuracy: 0.1683\n",
      "Epoch 5/50\n",
      "38/38 [==============================] - 1s 34ms/step - loss: 1.8980 - accuracy: 0.3083 - val_loss: 2.2902 - val_accuracy: 0.1700\n",
      "Epoch 6/50\n",
      "38/38 [==============================] - 1s 35ms/step - loss: 1.8048 - accuracy: 0.3467 - val_loss: 2.1846 - val_accuracy: 0.1767\n",
      "Epoch 7/50\n",
      "38/38 [==============================] - 1s 35ms/step - loss: 1.7126 - accuracy: 0.3742 - val_loss: 2.0830 - val_accuracy: 0.2117\n",
      "Epoch 8/50\n",
      "38/38 [==============================] - 1s 34ms/step - loss: 1.6495 - accuracy: 0.4108 - val_loss: 1.9817 - val_accuracy: 0.2667\n",
      "Epoch 9/50\n",
      "38/38 [==============================] - 1s 36ms/step - loss: 1.5695 - accuracy: 0.4442 - val_loss: 1.8789 - val_accuracy: 0.3217\n",
      "Epoch 10/50\n",
      "38/38 [==============================] - 1s 37ms/step - loss: 1.5156 - accuracy: 0.4658 - val_loss: 1.7739 - val_accuracy: 0.3733\n",
      "Epoch 11/50\n",
      "38/38 [==============================] - 1s 34ms/step - loss: 1.4727 - accuracy: 0.4817 - val_loss: 1.6708 - val_accuracy: 0.4200\n",
      "Epoch 12/50\n",
      "38/38 [==============================] - 1s 34ms/step - loss: 1.4280 - accuracy: 0.5100 - val_loss: 1.5728 - val_accuracy: 0.4550\n",
      "Epoch 13/50\n",
      "38/38 [==============================] - 1s 34ms/step - loss: 1.3815 - accuracy: 0.5258 - val_loss: 1.4836 - val_accuracy: 0.5017\n",
      "Epoch 14/50\n",
      "38/38 [==============================] - 1s 34ms/step - loss: 1.3433 - accuracy: 0.5417 - val_loss: 1.4089 - val_accuracy: 0.5167\n",
      "Epoch 15/50\n",
      "38/38 [==============================] - 1s 34ms/step - loss: 1.2877 - accuracy: 0.5492 - val_loss: 1.3451 - val_accuracy: 0.5400\n",
      "Epoch 16/50\n",
      "38/38 [==============================] - 1s 34ms/step - loss: 1.2814 - accuracy: 0.5583 - val_loss: 1.2911 - val_accuracy: 0.5583\n",
      "Epoch 17/50\n",
      "38/38 [==============================] - 1s 34ms/step - loss: 1.2544 - accuracy: 0.5633 - val_loss: 1.2472 - val_accuracy: 0.5767\n",
      "Epoch 18/50\n",
      "38/38 [==============================] - 1s 37ms/step - loss: 1.2302 - accuracy: 0.5833 - val_loss: 1.2098 - val_accuracy: 0.5900\n",
      "Epoch 19/50\n",
      "38/38 [==============================] - 1s 34ms/step - loss: 1.2022 - accuracy: 0.5917 - val_loss: 1.1794 - val_accuracy: 0.5933\n",
      "Epoch 20/50\n",
      "38/38 [==============================] - 1s 34ms/step - loss: 1.1756 - accuracy: 0.6075 - val_loss: 1.1526 - val_accuracy: 0.6033\n",
      "Epoch 21/50\n",
      "38/38 [==============================] - 1s 34ms/step - loss: 1.1649 - accuracy: 0.6042 - val_loss: 1.1300 - val_accuracy: 0.6133\n",
      "Epoch 22/50\n",
      "38/38 [==============================] - 1s 35ms/step - loss: 1.1360 - accuracy: 0.6158 - val_loss: 1.1087 - val_accuracy: 0.6267\n",
      "Epoch 23/50\n",
      "38/38 [==============================] - 1s 34ms/step - loss: 1.1242 - accuracy: 0.6275 - val_loss: 1.0910 - val_accuracy: 0.6383\n",
      "Epoch 24/50\n",
      "38/38 [==============================] - 1s 34ms/step - loss: 1.1090 - accuracy: 0.6358 - val_loss: 1.0746 - val_accuracy: 0.6450\n",
      "Epoch 25/50\n",
      "38/38 [==============================] - 1s 38ms/step - loss: 1.1035 - accuracy: 0.6233 - val_loss: 1.0596 - val_accuracy: 0.6483\n",
      "Epoch 26/50\n",
      "38/38 [==============================] - 1s 34ms/step - loss: 1.0742 - accuracy: 0.6292 - val_loss: 1.0448 - val_accuracy: 0.6583\n",
      "Epoch 27/50\n",
      "38/38 [==============================] - 1s 36ms/step - loss: 1.0605 - accuracy: 0.6358 - val_loss: 1.0309 - val_accuracy: 0.6583\n",
      "Epoch 28/50\n",
      "38/38 [==============================] - 1s 34ms/step - loss: 1.0312 - accuracy: 0.6508 - val_loss: 1.0184 - val_accuracy: 0.6617\n",
      "Epoch 29/50\n",
      "38/38 [==============================] - 1s 34ms/step - loss: 1.0366 - accuracy: 0.6558 - val_loss: 1.0067 - val_accuracy: 0.6583\n",
      "Epoch 30/50\n",
      "38/38 [==============================] - 1s 34ms/step - loss: 1.0278 - accuracy: 0.6575 - val_loss: 0.9952 - val_accuracy: 0.6700\n",
      "Epoch 31/50\n",
      "38/38 [==============================] - 1s 34ms/step - loss: 1.0060 - accuracy: 0.6708 - val_loss: 0.9849 - val_accuracy: 0.6783\n",
      "Epoch 32/50\n",
      "38/38 [==============================] - 1s 34ms/step - loss: 1.0168 - accuracy: 0.6425 - val_loss: 0.9757 - val_accuracy: 0.6833\n",
      "Epoch 33/50\n",
      "38/38 [==============================] - 1s 34ms/step - loss: 1.0053 - accuracy: 0.6825 - val_loss: 0.9667 - val_accuracy: 0.6917\n",
      "Epoch 34/50\n",
      "38/38 [==============================] - 1s 34ms/step - loss: 0.9785 - accuracy: 0.6700 - val_loss: 0.9571 - val_accuracy: 0.7017\n",
      "Epoch 35/50\n",
      "38/38 [==============================] - 1s 34ms/step - loss: 0.9684 - accuracy: 0.6817 - val_loss: 0.9486 - val_accuracy: 0.7050\n",
      "Epoch 36/50\n",
      "38/38 [==============================] - 1s 36ms/step - loss: 0.9536 - accuracy: 0.6825 - val_loss: 0.9405 - val_accuracy: 0.7050\n",
      "Epoch 37/50\n",
      "38/38 [==============================] - 1s 34ms/step - loss: 0.9536 - accuracy: 0.6817 - val_loss: 0.9330 - val_accuracy: 0.7033\n",
      "Epoch 38/50\n",
      "38/38 [==============================] - 1s 34ms/step - loss: 0.9514 - accuracy: 0.6808 - val_loss: 0.9256 - val_accuracy: 0.7067\n",
      "Epoch 39/50\n",
      "38/38 [==============================] - 2s 40ms/step - loss: 0.9328 - accuracy: 0.7083 - val_loss: 0.9171 - val_accuracy: 0.7150\n",
      "Epoch 40/50\n",
      "38/38 [==============================] - 1s 35ms/step - loss: 0.9254 - accuracy: 0.6992 - val_loss: 0.9112 - val_accuracy: 0.7150\n",
      "Epoch 41/50\n",
      "38/38 [==============================] - 1s 35ms/step - loss: 0.9250 - accuracy: 0.6858 - val_loss: 0.9038 - val_accuracy: 0.7183\n",
      "Epoch 42/50\n",
      "38/38 [==============================] - 1s 34ms/step - loss: 0.8953 - accuracy: 0.7217 - val_loss: 0.8979 - val_accuracy: 0.7233\n",
      "Epoch 43/50\n",
      "38/38 [==============================] - 1s 34ms/step - loss: 0.9090 - accuracy: 0.6967 - val_loss: 0.8911 - val_accuracy: 0.7233\n",
      "Epoch 44/50\n",
      "38/38 [==============================] - 1s 34ms/step - loss: 0.8979 - accuracy: 0.7042 - val_loss: 0.8848 - val_accuracy: 0.7283\n",
      "Epoch 45/50\n",
      "38/38 [==============================] - 1s 38ms/step - loss: 0.8819 - accuracy: 0.7158 - val_loss: 0.8795 - val_accuracy: 0.7317\n",
      "Epoch 46/50\n",
      "38/38 [==============================] - 1s 35ms/step - loss: 0.8757 - accuracy: 0.7175 - val_loss: 0.8735 - val_accuracy: 0.7350\n",
      "Epoch 47/50\n",
      "38/38 [==============================] - 1s 34ms/step - loss: 0.8625 - accuracy: 0.7192 - val_loss: 0.8683 - val_accuracy: 0.7333\n",
      "Epoch 48/50\n",
      "38/38 [==============================] - 1s 35ms/step - loss: 0.8774 - accuracy: 0.7042 - val_loss: 0.8628 - val_accuracy: 0.7333\n",
      "Epoch 49/50\n",
      "38/38 [==============================] - 1s 36ms/step - loss: 0.8563 - accuracy: 0.7225 - val_loss: 0.8573 - val_accuracy: 0.7333\n",
      "Epoch 50/50\n",
      "38/38 [==============================] - 1s 34ms/step - loss: 0.8573 - accuracy: 0.7100 - val_loss: 0.8529 - val_accuracy: 0.7333\n",
      "Epoch 1/50\n"
     ]
    },
    {
     "name": "stderr",
     "output_type": "stream",
     "text": [
      "2023-05-11 16:57:03.720981: I tensorflow/core/grappler/optimizers/custom_graph_optimizer_registry.cc:113] Plugin optimizer for device_type GPU is enabled.\n"
     ]
    },
    {
     "name": "stdout",
     "output_type": "stream",
     "text": [
      "38/38 [==============================] - ETA: 0s - loss: 3.1484 - accuracy: 0.0675"
     ]
    },
    {
     "name": "stderr",
     "output_type": "stream",
     "text": [
      "2023-05-11 16:57:05.073063: I tensorflow/core/grappler/optimizers/custom_graph_optimizer_registry.cc:113] Plugin optimizer for device_type GPU is enabled.\n"
     ]
    },
    {
     "name": "stdout",
     "output_type": "stream",
     "text": [
      "38/38 [==============================] - 2s 39ms/step - loss: 3.1484 - accuracy: 0.0675 - val_loss: 2.7831 - val_accuracy: 0.0317\n",
      "Epoch 2/50\n",
      "38/38 [==============================] - 1s 32ms/step - loss: 2.7318 - accuracy: 0.1358 - val_loss: 2.7066 - val_accuracy: 0.1067\n",
      "Epoch 3/50\n",
      "38/38 [==============================] - 1s 34ms/step - loss: 2.4265 - accuracy: 0.2083 - val_loss: 2.5988 - val_accuracy: 0.1467\n",
      "Epoch 4/50\n",
      "38/38 [==============================] - 1s 37ms/step - loss: 2.2183 - accuracy: 0.2383 - val_loss: 2.4809 - val_accuracy: 0.1467\n",
      "Epoch 5/50\n",
      "38/38 [==============================] - 1s 36ms/step - loss: 2.0394 - accuracy: 0.2833 - val_loss: 2.3660 - val_accuracy: 0.1417\n",
      "Epoch 6/50\n",
      "38/38 [==============================] - 1s 34ms/step - loss: 1.9325 - accuracy: 0.3183 - val_loss: 2.2576 - val_accuracy: 0.1700\n",
      "Epoch 7/50\n",
      "38/38 [==============================] - 1s 34ms/step - loss: 1.8307 - accuracy: 0.3375 - val_loss: 2.1551 - val_accuracy: 0.2067\n",
      "Epoch 8/50\n",
      "38/38 [==============================] - 1s 35ms/step - loss: 1.7505 - accuracy: 0.3683 - val_loss: 2.0545 - val_accuracy: 0.2517\n",
      "Epoch 9/50\n",
      "38/38 [==============================] - 1s 34ms/step - loss: 1.6829 - accuracy: 0.4092 - val_loss: 1.9534 - val_accuracy: 0.3150\n",
      "Epoch 10/50\n",
      "38/38 [==============================] - 1s 34ms/step - loss: 1.6094 - accuracy: 0.4350 - val_loss: 1.8504 - val_accuracy: 0.3717\n",
      "Epoch 11/50\n",
      "38/38 [==============================] - 1s 35ms/step - loss: 1.5490 - accuracy: 0.4408 - val_loss: 1.7485 - val_accuracy: 0.4200\n",
      "Epoch 12/50\n",
      "38/38 [==============================] - 1s 34ms/step - loss: 1.4963 - accuracy: 0.4700 - val_loss: 1.6481 - val_accuracy: 0.4883\n",
      "Epoch 13/50\n",
      "38/38 [==============================] - 1s 34ms/step - loss: 1.4634 - accuracy: 0.4833 - val_loss: 1.5542 - val_accuracy: 0.5200\n",
      "Epoch 14/50\n",
      "38/38 [==============================] - 1s 35ms/step - loss: 1.4230 - accuracy: 0.5033 - val_loss: 1.4690 - val_accuracy: 0.5450\n",
      "Epoch 15/50\n",
      "38/38 [==============================] - 1s 36ms/step - loss: 1.3950 - accuracy: 0.5000 - val_loss: 1.3968 - val_accuracy: 0.5650\n",
      "Epoch 16/50\n",
      "38/38 [==============================] - 1s 35ms/step - loss: 1.3402 - accuracy: 0.5342 - val_loss: 1.3344 - val_accuracy: 0.5833\n",
      "Epoch 17/50\n",
      "38/38 [==============================] - 1s 35ms/step - loss: 1.3092 - accuracy: 0.5383 - val_loss: 1.2826 - val_accuracy: 0.5967\n",
      "Epoch 18/50\n",
      "38/38 [==============================] - 1s 36ms/step - loss: 1.2918 - accuracy: 0.5508 - val_loss: 1.2395 - val_accuracy: 0.6083\n",
      "Epoch 19/50\n",
      "38/38 [==============================] - 1s 37ms/step - loss: 1.2585 - accuracy: 0.5625 - val_loss: 1.2047 - val_accuracy: 0.6200\n",
      "Epoch 20/50\n",
      "38/38 [==============================] - 1s 34ms/step - loss: 1.2421 - accuracy: 0.5808 - val_loss: 1.1742 - val_accuracy: 0.6350\n",
      "Epoch 21/50\n",
      "38/38 [==============================] - 1s 38ms/step - loss: 1.2214 - accuracy: 0.5892 - val_loss: 1.1481 - val_accuracy: 0.6383\n",
      "Epoch 22/50\n",
      "38/38 [==============================] - 1s 33ms/step - loss: 1.1958 - accuracy: 0.5983 - val_loss: 1.1258 - val_accuracy: 0.6467\n",
      "Epoch 23/50\n",
      "38/38 [==============================] - 1s 34ms/step - loss: 1.1731 - accuracy: 0.6108 - val_loss: 1.1060 - val_accuracy: 0.6500\n",
      "Epoch 24/50\n",
      "38/38 [==============================] - 1s 36ms/step - loss: 1.1521 - accuracy: 0.6133 - val_loss: 1.0885 - val_accuracy: 0.6583\n",
      "Epoch 25/50\n",
      "38/38 [==============================] - 1s 35ms/step - loss: 1.1631 - accuracy: 0.6125 - val_loss: 1.0702 - val_accuracy: 0.6633\n",
      "Epoch 26/50\n",
      "38/38 [==============================] - 1s 34ms/step - loss: 1.1145 - accuracy: 0.6200 - val_loss: 1.0554 - val_accuracy: 0.6633\n",
      "Epoch 27/50\n",
      "38/38 [==============================] - 1s 36ms/step - loss: 1.1036 - accuracy: 0.6233 - val_loss: 1.0410 - val_accuracy: 0.6683\n",
      "Epoch 28/50\n",
      "38/38 [==============================] - 1s 34ms/step - loss: 1.0975 - accuracy: 0.6258 - val_loss: 1.0276 - val_accuracy: 0.6733\n",
      "Epoch 29/50\n",
      "38/38 [==============================] - 1s 34ms/step - loss: 1.0863 - accuracy: 0.6342 - val_loss: 1.0157 - val_accuracy: 0.6783\n",
      "Epoch 30/50\n",
      "38/38 [==============================] - 1s 36ms/step - loss: 1.0699 - accuracy: 0.6350 - val_loss: 1.0033 - val_accuracy: 0.6883\n",
      "Epoch 31/50\n",
      "38/38 [==============================] - 1s 33ms/step - loss: 1.0496 - accuracy: 0.6542 - val_loss: 0.9925 - val_accuracy: 0.6900\n",
      "Epoch 32/50\n",
      "38/38 [==============================] - 1s 34ms/step - loss: 1.0395 - accuracy: 0.6583 - val_loss: 0.9817 - val_accuracy: 0.6933\n",
      "Epoch 33/50\n",
      "38/38 [==============================] - 1s 34ms/step - loss: 1.0359 - accuracy: 0.6492 - val_loss: 0.9718 - val_accuracy: 0.6983\n",
      "Epoch 34/50\n",
      "38/38 [==============================] - 1s 34ms/step - loss: 1.0176 - accuracy: 0.6567 - val_loss: 0.9618 - val_accuracy: 0.7000\n",
      "Epoch 35/50\n",
      "38/38 [==============================] - 1s 34ms/step - loss: 1.0101 - accuracy: 0.6725 - val_loss: 0.9528 - val_accuracy: 0.7033\n",
      "Epoch 36/50\n",
      "38/38 [==============================] - 1s 34ms/step - loss: 1.0055 - accuracy: 0.6742 - val_loss: 0.9435 - val_accuracy: 0.7100\n",
      "Epoch 37/50\n",
      "38/38 [==============================] - 1s 34ms/step - loss: 0.9871 - accuracy: 0.6700 - val_loss: 0.9357 - val_accuracy: 0.7100\n",
      "Epoch 38/50\n",
      "38/38 [==============================] - 1s 34ms/step - loss: 0.9808 - accuracy: 0.6750 - val_loss: 0.9267 - val_accuracy: 0.7183\n",
      "Epoch 39/50\n",
      "38/38 [==============================] - 1s 34ms/step - loss: 0.9594 - accuracy: 0.6800 - val_loss: 0.9195 - val_accuracy: 0.7217\n",
      "Epoch 40/50\n",
      "38/38 [==============================] - 1s 38ms/step - loss: 0.9576 - accuracy: 0.6825 - val_loss: 0.9121 - val_accuracy: 0.7200\n",
      "Epoch 41/50\n",
      "38/38 [==============================] - 1s 34ms/step - loss: 0.9478 - accuracy: 0.6783 - val_loss: 0.9051 - val_accuracy: 0.7267\n",
      "Epoch 42/50\n",
      "38/38 [==============================] - 1s 34ms/step - loss: 0.9510 - accuracy: 0.6783 - val_loss: 0.8979 - val_accuracy: 0.7267\n",
      "Epoch 43/50\n",
      "38/38 [==============================] - 1s 34ms/step - loss: 0.9330 - accuracy: 0.6975 - val_loss: 0.8913 - val_accuracy: 0.7267\n",
      "Epoch 44/50\n",
      "38/38 [==============================] - 1s 34ms/step - loss: 0.9201 - accuracy: 0.6942 - val_loss: 0.8854 - val_accuracy: 0.7267\n",
      "Epoch 45/50\n",
      "38/38 [==============================] - 1s 34ms/step - loss: 0.9111 - accuracy: 0.6842 - val_loss: 0.8789 - val_accuracy: 0.7283\n",
      "Epoch 46/50\n",
      "38/38 [==============================] - 1s 34ms/step - loss: 0.9078 - accuracy: 0.6842 - val_loss: 0.8726 - val_accuracy: 0.7267\n",
      "Epoch 47/50\n",
      "38/38 [==============================] - 1s 34ms/step - loss: 0.8961 - accuracy: 0.7217 - val_loss: 0.8670 - val_accuracy: 0.7283\n",
      "Epoch 48/50\n",
      "38/38 [==============================] - 1s 38ms/step - loss: 0.9062 - accuracy: 0.6992 - val_loss: 0.8619 - val_accuracy: 0.7300\n",
      "Epoch 49/50\n",
      "38/38 [==============================] - 1s 33ms/step - loss: 0.8898 - accuracy: 0.7183 - val_loss: 0.8560 - val_accuracy: 0.7350\n",
      "Epoch 50/50\n",
      "38/38 [==============================] - 1s 34ms/step - loss: 0.8812 - accuracy: 0.7192 - val_loss: 0.8520 - val_accuracy: 0.7400\n",
      "Epoch 1/50\n"
     ]
    },
    {
     "name": "stderr",
     "output_type": "stream",
     "text": [
      "2023-05-11 16:58:09.948544: I tensorflow/core/grappler/optimizers/custom_graph_optimizer_registry.cc:113] Plugin optimizer for device_type GPU is enabled.\n"
     ]
    },
    {
     "name": "stdout",
     "output_type": "stream",
     "text": [
      "38/38 [==============================] - ETA: 0s - loss: 3.1570 - accuracy: 0.0683"
     ]
    },
    {
     "name": "stderr",
     "output_type": "stream",
     "text": [
      "2023-05-11 16:58:11.413003: I tensorflow/core/grappler/optimizers/custom_graph_optimizer_registry.cc:113] Plugin optimizer for device_type GPU is enabled.\n"
     ]
    },
    {
     "name": "stdout",
     "output_type": "stream",
     "text": [
      "38/38 [==============================] - 2s 42ms/step - loss: 3.1570 - accuracy: 0.0683 - val_loss: 2.7946 - val_accuracy: 0.0100\n",
      "Epoch 2/50\n",
      "38/38 [==============================] - 1s 32ms/step - loss: 2.7993 - accuracy: 0.1392 - val_loss: 2.7381 - val_accuracy: 0.0133\n",
      "Epoch 3/50\n",
      "38/38 [==============================] - 1s 34ms/step - loss: 2.5056 - accuracy: 0.2150 - val_loss: 2.6479 - val_accuracy: 0.0733\n",
      "Epoch 4/50\n",
      "38/38 [==============================] - 1s 34ms/step - loss: 2.3324 - accuracy: 0.2200 - val_loss: 2.5415 - val_accuracy: 0.1283\n",
      "Epoch 5/50\n",
      "38/38 [==============================] - 1s 34ms/step - loss: 2.1363 - accuracy: 0.2550 - val_loss: 2.4288 - val_accuracy: 0.1617\n",
      "Epoch 6/50\n",
      "38/38 [==============================] - 1s 34ms/step - loss: 2.0097 - accuracy: 0.2917 - val_loss: 2.3130 - val_accuracy: 0.1850\n",
      "Epoch 7/50\n",
      "38/38 [==============================] - 1s 34ms/step - loss: 1.8748 - accuracy: 0.3358 - val_loss: 2.1966 - val_accuracy: 0.2383\n",
      "Epoch 8/50\n",
      "38/38 [==============================] - 1s 34ms/step - loss: 1.7877 - accuracy: 0.3525 - val_loss: 2.0814 - val_accuracy: 0.2950\n",
      "Epoch 9/50\n",
      "38/38 [==============================] - 1s 37ms/step - loss: 1.7044 - accuracy: 0.3725 - val_loss: 1.9641 - val_accuracy: 0.3483\n",
      "Epoch 10/50\n",
      "38/38 [==============================] - 1s 34ms/step - loss: 1.6470 - accuracy: 0.4108 - val_loss: 1.8496 - val_accuracy: 0.4250\n",
      "Epoch 11/50\n",
      "38/38 [==============================] - 1s 34ms/step - loss: 1.5743 - accuracy: 0.4450 - val_loss: 1.7381 - val_accuracy: 0.4900\n",
      "Epoch 12/50\n",
      "38/38 [==============================] - 1s 34ms/step - loss: 1.5102 - accuracy: 0.4767 - val_loss: 1.6316 - val_accuracy: 0.5417\n",
      "Epoch 13/50\n",
      "38/38 [==============================] - 1s 34ms/step - loss: 1.4660 - accuracy: 0.4758 - val_loss: 1.5369 - val_accuracy: 0.5633\n",
      "Epoch 14/50\n",
      "38/38 [==============================] - 1s 34ms/step - loss: 1.4250 - accuracy: 0.4992 - val_loss: 1.4537 - val_accuracy: 0.5783\n",
      "Epoch 15/50\n",
      "38/38 [==============================] - 1s 33ms/step - loss: 1.3993 - accuracy: 0.5050 - val_loss: 1.3845 - val_accuracy: 0.5883\n",
      "Epoch 16/50\n",
      "38/38 [==============================] - 1s 34ms/step - loss: 1.3578 - accuracy: 0.5350 - val_loss: 1.3258 - val_accuracy: 0.6000\n",
      "Epoch 17/50\n",
      "38/38 [==============================] - 1s 33ms/step - loss: 1.3377 - accuracy: 0.5175 - val_loss: 1.2771 - val_accuracy: 0.6083\n",
      "Epoch 18/50\n",
      "38/38 [==============================] - 1s 34ms/step - loss: 1.2833 - accuracy: 0.5633 - val_loss: 1.2363 - val_accuracy: 0.6217\n",
      "Epoch 19/50\n",
      "38/38 [==============================] - 1s 36ms/step - loss: 1.2634 - accuracy: 0.5617 - val_loss: 1.2012 - val_accuracy: 0.6317\n",
      "Epoch 20/50\n",
      "38/38 [==============================] - 1s 34ms/step - loss: 1.2309 - accuracy: 0.5708 - val_loss: 1.1714 - val_accuracy: 0.6400\n",
      "Epoch 21/50\n",
      "38/38 [==============================] - 1s 34ms/step - loss: 1.2196 - accuracy: 0.5783 - val_loss: 1.1450 - val_accuracy: 0.6483\n",
      "Epoch 22/50\n",
      "38/38 [==============================] - 1s 34ms/step - loss: 1.1950 - accuracy: 0.5817 - val_loss: 1.1224 - val_accuracy: 0.6550\n",
      "Epoch 23/50\n",
      "38/38 [==============================] - 1s 34ms/step - loss: 1.1860 - accuracy: 0.6008 - val_loss: 1.1020 - val_accuracy: 0.6583\n",
      "Epoch 24/50\n",
      "38/38 [==============================] - 1s 34ms/step - loss: 1.1494 - accuracy: 0.6100 - val_loss: 1.0836 - val_accuracy: 0.6667\n",
      "Epoch 25/50\n",
      "38/38 [==============================] - 1s 34ms/step - loss: 1.1308 - accuracy: 0.6108 - val_loss: 1.0668 - val_accuracy: 0.6700\n",
      "Epoch 26/50\n",
      "38/38 [==============================] - 1s 33ms/step - loss: 1.1282 - accuracy: 0.6200 - val_loss: 1.0513 - val_accuracy: 0.6700\n",
      "Epoch 27/50\n",
      "38/38 [==============================] - 1s 34ms/step - loss: 1.1002 - accuracy: 0.6183 - val_loss: 1.0375 - val_accuracy: 0.6717\n",
      "Epoch 28/50\n",
      "38/38 [==============================] - 1s 34ms/step - loss: 1.0818 - accuracy: 0.6442 - val_loss: 1.0233 - val_accuracy: 0.6817\n",
      "Epoch 29/50\n",
      "38/38 [==============================] - 1s 36ms/step - loss: 1.0734 - accuracy: 0.6308 - val_loss: 1.0104 - val_accuracy: 0.6850\n",
      "Epoch 30/50\n",
      "38/38 [==============================] - 1s 33ms/step - loss: 1.0730 - accuracy: 0.6392 - val_loss: 0.9986 - val_accuracy: 0.6883\n",
      "Epoch 31/50\n",
      "38/38 [==============================] - 1s 33ms/step - loss: 1.0583 - accuracy: 0.6375 - val_loss: 0.9872 - val_accuracy: 0.6883\n",
      "Epoch 32/50\n",
      "38/38 [==============================] - 1s 34ms/step - loss: 1.0370 - accuracy: 0.6492 - val_loss: 0.9768 - val_accuracy: 0.6933\n",
      "Epoch 33/50\n",
      "38/38 [==============================] - 1s 34ms/step - loss: 1.0387 - accuracy: 0.6650 - val_loss: 0.9664 - val_accuracy: 0.6950\n",
      "Epoch 34/50\n",
      "38/38 [==============================] - 1s 33ms/step - loss: 1.0196 - accuracy: 0.6658 - val_loss: 0.9565 - val_accuracy: 0.6983\n",
      "Epoch 35/50\n",
      "38/38 [==============================] - 1s 34ms/step - loss: 1.0040 - accuracy: 0.6558 - val_loss: 0.9474 - val_accuracy: 0.7000\n",
      "Epoch 36/50\n",
      "38/38 [==============================] - 1s 35ms/step - loss: 0.9989 - accuracy: 0.6567 - val_loss: 0.9382 - val_accuracy: 0.7017\n",
      "Epoch 37/50\n",
      "38/38 [==============================] - 1s 34ms/step - loss: 0.9864 - accuracy: 0.6758 - val_loss: 0.9299 - val_accuracy: 0.7067\n",
      "Epoch 38/50\n",
      "38/38 [==============================] - 1s 38ms/step - loss: 0.9728 - accuracy: 0.6750 - val_loss: 0.9221 - val_accuracy: 0.7017\n",
      "Epoch 39/50\n",
      "38/38 [==============================] - 1s 35ms/step - loss: 0.9611 - accuracy: 0.6750 - val_loss: 0.9142 - val_accuracy: 0.7083\n",
      "Epoch 40/50\n",
      "38/38 [==============================] - 1s 35ms/step - loss: 0.9545 - accuracy: 0.6808 - val_loss: 0.9072 - val_accuracy: 0.7117\n",
      "Epoch 41/50\n",
      "38/38 [==============================] - 1s 40ms/step - loss: 0.9468 - accuracy: 0.6800 - val_loss: 0.9004 - val_accuracy: 0.7133\n",
      "Epoch 42/50\n",
      "38/38 [==============================] - 1s 35ms/step - loss: 0.9419 - accuracy: 0.6875 - val_loss: 0.8934 - val_accuracy: 0.7200\n",
      "Epoch 43/50\n",
      "38/38 [==============================] - 1s 35ms/step - loss: 0.9256 - accuracy: 0.7108 - val_loss: 0.8865 - val_accuracy: 0.7250\n",
      "Epoch 44/50\n",
      "38/38 [==============================] - 1s 36ms/step - loss: 0.9124 - accuracy: 0.6892 - val_loss: 0.8801 - val_accuracy: 0.7250\n",
      "Epoch 45/50\n",
      "38/38 [==============================] - 1s 36ms/step - loss: 0.9095 - accuracy: 0.7142 - val_loss: 0.8741 - val_accuracy: 0.7267\n",
      "Epoch 46/50\n",
      "38/38 [==============================] - 1s 34ms/step - loss: 0.8992 - accuracy: 0.7075 - val_loss: 0.8681 - val_accuracy: 0.7317\n",
      "Epoch 47/50\n",
      "38/38 [==============================] - 2s 43ms/step - loss: 0.8933 - accuracy: 0.7100 - val_loss: 0.8630 - val_accuracy: 0.7333\n",
      "Epoch 48/50\n",
      "38/38 [==============================] - 1s 34ms/step - loss: 0.8702 - accuracy: 0.7108 - val_loss: 0.8578 - val_accuracy: 0.7350\n",
      "Epoch 49/50\n",
      "38/38 [==============================] - 1s 34ms/step - loss: 0.8573 - accuracy: 0.7233 - val_loss: 0.8525 - val_accuracy: 0.7367\n",
      "Epoch 50/50\n",
      "38/38 [==============================] - 1s 34ms/step - loss: 0.8771 - accuracy: 0.7158 - val_loss: 0.8474 - val_accuracy: 0.7350\n",
      "trials for model 2: 0.7361111243565878\n",
      "Epoch 1/50\n"
     ]
    },
    {
     "name": "stderr",
     "output_type": "stream",
     "text": [
      "2023-05-11 16:59:16.337837: I tensorflow/core/grappler/optimizers/custom_graph_optimizer_registry.cc:113] Plugin optimizer for device_type GPU is enabled.\n"
     ]
    },
    {
     "name": "stdout",
     "output_type": "stream",
     "text": [
      "38/38 [==============================] - ETA: 0s - loss: 3.5999 - accuracy: 0.0267"
     ]
    },
    {
     "name": "stderr",
     "output_type": "stream",
     "text": [
      "2023-05-11 16:59:17.473439: I tensorflow/core/grappler/optimizers/custom_graph_optimizer_registry.cc:113] Plugin optimizer for device_type GPU is enabled.\n"
     ]
    },
    {
     "name": "stdout",
     "output_type": "stream",
     "text": [
      "38/38 [==============================] - 2s 31ms/step - loss: 3.5999 - accuracy: 0.0267 - val_loss: 2.8131 - val_accuracy: 0.1033\n",
      "Epoch 2/50\n",
      "38/38 [==============================] - 1s 22ms/step - loss: 3.3716 - accuracy: 0.0517 - val_loss: 2.7922 - val_accuracy: 0.1950\n",
      "Epoch 3/50\n",
      "38/38 [==============================] - 1s 23ms/step - loss: 3.1629 - accuracy: 0.0758 - val_loss: 2.7526 - val_accuracy: 0.2200\n",
      "Epoch 4/50\n",
      "38/38 [==============================] - 1s 22ms/step - loss: 2.9744 - accuracy: 0.1067 - val_loss: 2.6986 - val_accuracy: 0.2283\n",
      "Epoch 5/50\n",
      "38/38 [==============================] - 1s 22ms/step - loss: 2.7825 - accuracy: 0.1425 - val_loss: 2.6353 - val_accuracy: 0.2283\n",
      "Epoch 6/50\n",
      "38/38 [==============================] - 1s 23ms/step - loss: 2.6554 - accuracy: 0.1692 - val_loss: 2.5676 - val_accuracy: 0.2317\n",
      "Epoch 7/50\n",
      "38/38 [==============================] - 1s 23ms/step - loss: 2.5528 - accuracy: 0.1742 - val_loss: 2.4989 - val_accuracy: 0.2333\n",
      "Epoch 8/50\n",
      "38/38 [==============================] - 1s 22ms/step - loss: 2.4563 - accuracy: 0.1942 - val_loss: 2.4310 - val_accuracy: 0.2350\n",
      "Epoch 9/50\n",
      "38/38 [==============================] - 1s 22ms/step - loss: 2.3566 - accuracy: 0.2083 - val_loss: 2.3633 - val_accuracy: 0.2333\n",
      "Epoch 10/50\n",
      "38/38 [==============================] - 1s 22ms/step - loss: 2.2844 - accuracy: 0.2242 - val_loss: 2.2928 - val_accuracy: 0.2333\n",
      "Epoch 11/50\n",
      "38/38 [==============================] - 1s 22ms/step - loss: 2.2052 - accuracy: 0.2258 - val_loss: 2.2205 - val_accuracy: 0.2433\n",
      "Epoch 12/50\n",
      "38/38 [==============================] - 1s 22ms/step - loss: 2.1263 - accuracy: 0.2433 - val_loss: 2.1452 - val_accuracy: 0.2567\n",
      "Epoch 13/50\n",
      "38/38 [==============================] - 1s 22ms/step - loss: 2.0874 - accuracy: 0.2458 - val_loss: 2.0703 - val_accuracy: 0.2733\n",
      "Epoch 14/50\n",
      "38/38 [==============================] - 1s 22ms/step - loss: 2.0064 - accuracy: 0.2650 - val_loss: 1.9998 - val_accuracy: 0.2933\n",
      "Epoch 15/50\n",
      "38/38 [==============================] - 1s 22ms/step - loss: 1.9729 - accuracy: 0.2858 - val_loss: 1.9345 - val_accuracy: 0.3050\n",
      "Epoch 16/50\n",
      "38/38 [==============================] - 1s 22ms/step - loss: 1.9018 - accuracy: 0.2883 - val_loss: 1.8748 - val_accuracy: 0.3233\n",
      "Epoch 17/50\n",
      "38/38 [==============================] - 1s 22ms/step - loss: 1.8689 - accuracy: 0.3167 - val_loss: 1.8205 - val_accuracy: 0.3533\n",
      "Epoch 18/50\n",
      "38/38 [==============================] - 1s 21ms/step - loss: 1.8158 - accuracy: 0.3250 - val_loss: 1.7714 - val_accuracy: 0.3700\n",
      "Epoch 19/50\n",
      "38/38 [==============================] - 1s 22ms/step - loss: 1.7619 - accuracy: 0.3508 - val_loss: 1.7277 - val_accuracy: 0.3933\n",
      "Epoch 20/50\n",
      "38/38 [==============================] - 1s 23ms/step - loss: 1.7369 - accuracy: 0.3550 - val_loss: 1.6869 - val_accuracy: 0.4100\n",
      "Epoch 21/50\n",
      "38/38 [==============================] - 1s 22ms/step - loss: 1.7133 - accuracy: 0.3508 - val_loss: 1.6483 - val_accuracy: 0.4267\n",
      "Epoch 22/50\n",
      "38/38 [==============================] - 1s 23ms/step - loss: 1.6778 - accuracy: 0.3833 - val_loss: 1.6139 - val_accuracy: 0.4383\n",
      "Epoch 23/50\n",
      "38/38 [==============================] - 1s 23ms/step - loss: 1.6405 - accuracy: 0.3883 - val_loss: 1.5816 - val_accuracy: 0.4517\n",
      "Epoch 24/50\n",
      "38/38 [==============================] - 1s 22ms/step - loss: 1.6132 - accuracy: 0.4058 - val_loss: 1.5511 - val_accuracy: 0.4667\n",
      "Epoch 25/50\n",
      "38/38 [==============================] - 1s 23ms/step - loss: 1.5847 - accuracy: 0.4150 - val_loss: 1.5230 - val_accuracy: 0.4700\n",
      "Epoch 26/50\n",
      "38/38 [==============================] - 1s 22ms/step - loss: 1.5655 - accuracy: 0.4133 - val_loss: 1.4961 - val_accuracy: 0.4833\n",
      "Epoch 27/50\n",
      "38/38 [==============================] - 1s 22ms/step - loss: 1.5451 - accuracy: 0.4317 - val_loss: 1.4709 - val_accuracy: 0.4900\n",
      "Epoch 28/50\n",
      "38/38 [==============================] - 1s 22ms/step - loss: 1.5096 - accuracy: 0.4558 - val_loss: 1.4464 - val_accuracy: 0.5033\n",
      "Epoch 29/50\n",
      "38/38 [==============================] - 1s 22ms/step - loss: 1.4918 - accuracy: 0.4550 - val_loss: 1.4238 - val_accuracy: 0.5083\n",
      "Epoch 30/50\n",
      "38/38 [==============================] - 1s 22ms/step - loss: 1.4644 - accuracy: 0.4608 - val_loss: 1.4024 - val_accuracy: 0.5183\n",
      "Epoch 31/50\n",
      "38/38 [==============================] - 1s 22ms/step - loss: 1.4217 - accuracy: 0.4883 - val_loss: 1.3822 - val_accuracy: 0.5283\n",
      "Epoch 32/50\n",
      "38/38 [==============================] - 1s 23ms/step - loss: 1.4217 - accuracy: 0.4950 - val_loss: 1.3634 - val_accuracy: 0.5367\n",
      "Epoch 33/50\n",
      "38/38 [==============================] - 1s 22ms/step - loss: 1.4029 - accuracy: 0.5000 - val_loss: 1.3457 - val_accuracy: 0.5450\n",
      "Epoch 34/50\n",
      "38/38 [==============================] - 1s 22ms/step - loss: 1.3904 - accuracy: 0.5183 - val_loss: 1.3282 - val_accuracy: 0.5583\n",
      "Epoch 35/50\n",
      "38/38 [==============================] - 1s 22ms/step - loss: 1.3771 - accuracy: 0.5233 - val_loss: 1.3116 - val_accuracy: 0.5617\n",
      "Epoch 36/50\n",
      "38/38 [==============================] - 1s 22ms/step - loss: 1.3615 - accuracy: 0.5167 - val_loss: 1.2956 - val_accuracy: 0.5717\n",
      "Epoch 37/50\n",
      "38/38 [==============================] - 1s 22ms/step - loss: 1.3484 - accuracy: 0.5258 - val_loss: 1.2803 - val_accuracy: 0.5783\n",
      "Epoch 38/50\n",
      "38/38 [==============================] - 1s 22ms/step - loss: 1.3248 - accuracy: 0.5325 - val_loss: 1.2657 - val_accuracy: 0.5850\n",
      "Epoch 39/50\n",
      "38/38 [==============================] - 1s 23ms/step - loss: 1.3066 - accuracy: 0.5342 - val_loss: 1.2521 - val_accuracy: 0.5917\n",
      "Epoch 40/50\n",
      "38/38 [==============================] - 1s 22ms/step - loss: 1.3083 - accuracy: 0.5400 - val_loss: 1.2389 - val_accuracy: 0.5950\n",
      "Epoch 41/50\n",
      "38/38 [==============================] - 1s 22ms/step - loss: 1.2922 - accuracy: 0.5358 - val_loss: 1.2259 - val_accuracy: 0.6017\n",
      "Epoch 42/50\n",
      "38/38 [==============================] - 1s 22ms/step - loss: 1.2763 - accuracy: 0.5542 - val_loss: 1.2138 - val_accuracy: 0.6033\n",
      "Epoch 43/50\n",
      "38/38 [==============================] - 1s 22ms/step - loss: 1.2745 - accuracy: 0.5592 - val_loss: 1.2020 - val_accuracy: 0.6033\n",
      "Epoch 44/50\n",
      "38/38 [==============================] - 1s 22ms/step - loss: 1.2624 - accuracy: 0.5542 - val_loss: 1.1909 - val_accuracy: 0.6100\n",
      "Epoch 45/50\n",
      "38/38 [==============================] - 1s 23ms/step - loss: 1.2474 - accuracy: 0.5575 - val_loss: 1.1800 - val_accuracy: 0.6133\n",
      "Epoch 46/50\n",
      "38/38 [==============================] - 1s 22ms/step - loss: 1.2257 - accuracy: 0.5650 - val_loss: 1.1691 - val_accuracy: 0.6183\n",
      "Epoch 47/50\n",
      "38/38 [==============================] - 1s 22ms/step - loss: 1.2286 - accuracy: 0.5725 - val_loss: 1.1598 - val_accuracy: 0.6233\n",
      "Epoch 48/50\n",
      "38/38 [==============================] - 1s 22ms/step - loss: 1.2121 - accuracy: 0.5717 - val_loss: 1.1496 - val_accuracy: 0.6300\n",
      "Epoch 49/50\n",
      "38/38 [==============================] - 1s 22ms/step - loss: 1.1908 - accuracy: 0.5725 - val_loss: 1.1402 - val_accuracy: 0.6333\n",
      "Epoch 50/50\n",
      "38/38 [==============================] - 1s 23ms/step - loss: 1.1926 - accuracy: 0.5825 - val_loss: 1.1309 - val_accuracy: 0.6367\n",
      "Epoch 1/50\n"
     ]
    },
    {
     "name": "stderr",
     "output_type": "stream",
     "text": [
      "2023-05-11 16:59:59.684422: I tensorflow/core/grappler/optimizers/custom_graph_optimizer_registry.cc:113] Plugin optimizer for device_type GPU is enabled.\n"
     ]
    },
    {
     "name": "stdout",
     "output_type": "stream",
     "text": [
      "38/38 [==============================] - ETA: 0s - loss: 3.1066 - accuracy: 0.0533"
     ]
    },
    {
     "name": "stderr",
     "output_type": "stream",
     "text": [
      "2023-05-11 17:00:00.817941: I tensorflow/core/grappler/optimizers/custom_graph_optimizer_registry.cc:113] Plugin optimizer for device_type GPU is enabled.\n"
     ]
    },
    {
     "name": "stdout",
     "output_type": "stream",
     "text": [
      "38/38 [==============================] - 2s 33ms/step - loss: 3.1066 - accuracy: 0.0533 - val_loss: 2.7659 - val_accuracy: 0.0767\n",
      "Epoch 2/50\n",
      "38/38 [==============================] - 1s 24ms/step - loss: 2.9159 - accuracy: 0.0867 - val_loss: 2.6911 - val_accuracy: 0.1117\n",
      "Epoch 3/50\n",
      "38/38 [==============================] - 1s 23ms/step - loss: 2.7639 - accuracy: 0.1083 - val_loss: 2.6128 - val_accuracy: 0.1283\n",
      "Epoch 4/50\n",
      "38/38 [==============================] - 1s 22ms/step - loss: 2.5982 - accuracy: 0.1300 - val_loss: 2.5356 - val_accuracy: 0.1517\n",
      "Epoch 5/50\n",
      "38/38 [==============================] - 1s 23ms/step - loss: 2.4525 - accuracy: 0.1525 - val_loss: 2.4600 - val_accuracy: 0.1700\n",
      "Epoch 6/50\n",
      "38/38 [==============================] - 1s 23ms/step - loss: 2.3716 - accuracy: 0.1608 - val_loss: 2.3844 - val_accuracy: 0.1883\n",
      "Epoch 7/50\n",
      "38/38 [==============================] - 1s 22ms/step - loss: 2.2755 - accuracy: 0.1867 - val_loss: 2.3063 - val_accuracy: 0.2000\n",
      "Epoch 8/50\n",
      "38/38 [==============================] - 1s 22ms/step - loss: 2.1790 - accuracy: 0.2150 - val_loss: 2.2276 - val_accuracy: 0.2150\n",
      "Epoch 9/50\n",
      "38/38 [==============================] - 1s 24ms/step - loss: 2.0999 - accuracy: 0.2175 - val_loss: 2.1463 - val_accuracy: 0.2283\n",
      "Epoch 10/50\n",
      "38/38 [==============================] - 1s 23ms/step - loss: 2.0388 - accuracy: 0.2483 - val_loss: 2.0651 - val_accuracy: 0.2467\n",
      "Epoch 11/50\n",
      "38/38 [==============================] - 1s 23ms/step - loss: 1.9513 - accuracy: 0.2750 - val_loss: 1.9881 - val_accuracy: 0.2800\n",
      "Epoch 12/50\n",
      "38/38 [==============================] - 1s 22ms/step - loss: 1.9223 - accuracy: 0.2867 - val_loss: 1.9128 - val_accuracy: 0.3033\n",
      "Epoch 13/50\n",
      "38/38 [==============================] - 1s 22ms/step - loss: 1.8619 - accuracy: 0.3225 - val_loss: 1.8434 - val_accuracy: 0.3183\n",
      "Epoch 14/50\n",
      "38/38 [==============================] - 1s 23ms/step - loss: 1.8196 - accuracy: 0.3467 - val_loss: 1.7792 - val_accuracy: 0.3433\n",
      "Epoch 15/50\n",
      "38/38 [==============================] - 1s 23ms/step - loss: 1.7715 - accuracy: 0.3625 - val_loss: 1.7206 - val_accuracy: 0.3633\n",
      "Epoch 16/50\n",
      "38/38 [==============================] - 1s 24ms/step - loss: 1.7275 - accuracy: 0.3650 - val_loss: 1.6693 - val_accuracy: 0.3917\n",
      "Epoch 17/50\n",
      "38/38 [==============================] - 1s 22ms/step - loss: 1.6936 - accuracy: 0.3817 - val_loss: 1.6236 - val_accuracy: 0.4133\n",
      "Epoch 18/50\n",
      "38/38 [==============================] - 1s 22ms/step - loss: 1.6740 - accuracy: 0.3833 - val_loss: 1.5830 - val_accuracy: 0.4283\n",
      "Epoch 19/50\n",
      "38/38 [==============================] - 1s 22ms/step - loss: 1.6399 - accuracy: 0.3967 - val_loss: 1.5456 - val_accuracy: 0.4467\n",
      "Epoch 20/50\n",
      "38/38 [==============================] - 1s 21ms/step - loss: 1.5901 - accuracy: 0.4333 - val_loss: 1.5121 - val_accuracy: 0.4683\n",
      "Epoch 21/50\n",
      "38/38 [==============================] - 1s 22ms/step - loss: 1.5702 - accuracy: 0.4317 - val_loss: 1.4813 - val_accuracy: 0.4867\n",
      "Epoch 22/50\n",
      "38/38 [==============================] - 1s 22ms/step - loss: 1.5427 - accuracy: 0.4675 - val_loss: 1.4531 - val_accuracy: 0.5033\n",
      "Epoch 23/50\n",
      "38/38 [==============================] - 1s 22ms/step - loss: 1.5276 - accuracy: 0.4558 - val_loss: 1.4270 - val_accuracy: 0.5133\n",
      "Epoch 24/50\n",
      "38/38 [==============================] - 1s 21ms/step - loss: 1.4935 - accuracy: 0.4783 - val_loss: 1.4030 - val_accuracy: 0.5233\n",
      "Epoch 25/50\n",
      "38/38 [==============================] - 1s 23ms/step - loss: 1.4657 - accuracy: 0.4942 - val_loss: 1.3806 - val_accuracy: 0.5317\n",
      "Epoch 26/50\n",
      "38/38 [==============================] - 1s 22ms/step - loss: 1.4452 - accuracy: 0.4942 - val_loss: 1.3589 - val_accuracy: 0.5500\n",
      "Epoch 27/50\n",
      "38/38 [==============================] - 1s 22ms/step - loss: 1.4228 - accuracy: 0.5192 - val_loss: 1.3387 - val_accuracy: 0.5583\n",
      "Epoch 28/50\n",
      "38/38 [==============================] - 1s 22ms/step - loss: 1.4097 - accuracy: 0.5250 - val_loss: 1.3195 - val_accuracy: 0.5600\n",
      "Epoch 29/50\n",
      "38/38 [==============================] - 1s 25ms/step - loss: 1.4017 - accuracy: 0.5150 - val_loss: 1.3007 - val_accuracy: 0.5667\n",
      "Epoch 30/50\n",
      "38/38 [==============================] - 1s 22ms/step - loss: 1.3689 - accuracy: 0.5392 - val_loss: 1.2837 - val_accuracy: 0.5683\n",
      "Epoch 31/50\n",
      "38/38 [==============================] - 1s 22ms/step - loss: 1.3705 - accuracy: 0.5275 - val_loss: 1.2672 - val_accuracy: 0.5750\n",
      "Epoch 32/50\n",
      "38/38 [==============================] - 1s 22ms/step - loss: 1.3332 - accuracy: 0.5508 - val_loss: 1.2518 - val_accuracy: 0.5867\n",
      "Epoch 33/50\n",
      "38/38 [==============================] - 1s 22ms/step - loss: 1.3430 - accuracy: 0.5317 - val_loss: 1.2370 - val_accuracy: 0.5950\n",
      "Epoch 34/50\n",
      "38/38 [==============================] - 1s 23ms/step - loss: 1.3236 - accuracy: 0.5358 - val_loss: 1.2232 - val_accuracy: 0.6017\n",
      "Epoch 35/50\n",
      "38/38 [==============================] - 1s 22ms/step - loss: 1.3031 - accuracy: 0.5583 - val_loss: 1.2099 - val_accuracy: 0.6100\n",
      "Epoch 36/50\n",
      "38/38 [==============================] - 1s 22ms/step - loss: 1.2864 - accuracy: 0.5542 - val_loss: 1.1969 - val_accuracy: 0.6133\n",
      "Epoch 37/50\n",
      "38/38 [==============================] - 1s 22ms/step - loss: 1.2706 - accuracy: 0.5617 - val_loss: 1.1845 - val_accuracy: 0.6133\n",
      "Epoch 38/50\n",
      "38/38 [==============================] - 1s 22ms/step - loss: 1.2612 - accuracy: 0.5750 - val_loss: 1.1728 - val_accuracy: 0.6150\n",
      "Epoch 39/50\n",
      "38/38 [==============================] - 1s 22ms/step - loss: 1.2568 - accuracy: 0.5700 - val_loss: 1.1614 - val_accuracy: 0.6150\n",
      "Epoch 40/50\n",
      "38/38 [==============================] - 1s 22ms/step - loss: 1.2714 - accuracy: 0.5642 - val_loss: 1.1503 - val_accuracy: 0.6200\n",
      "Epoch 41/50\n",
      "38/38 [==============================] - 1s 22ms/step - loss: 1.2342 - accuracy: 0.5717 - val_loss: 1.1401 - val_accuracy: 0.6217\n",
      "Epoch 42/50\n",
      "38/38 [==============================] - 1s 23ms/step - loss: 1.2061 - accuracy: 0.5983 - val_loss: 1.1302 - val_accuracy: 0.6300\n",
      "Epoch 43/50\n",
      "38/38 [==============================] - 1s 22ms/step - loss: 1.2254 - accuracy: 0.5667 - val_loss: 1.1207 - val_accuracy: 0.6317\n",
      "Epoch 44/50\n",
      "38/38 [==============================] - 1s 22ms/step - loss: 1.1930 - accuracy: 0.5883 - val_loss: 1.1115 - val_accuracy: 0.6383\n",
      "Epoch 45/50\n",
      "38/38 [==============================] - 1s 22ms/step - loss: 1.2021 - accuracy: 0.5900 - val_loss: 1.1028 - val_accuracy: 0.6450\n",
      "Epoch 46/50\n",
      "38/38 [==============================] - 1s 23ms/step - loss: 1.1829 - accuracy: 0.6042 - val_loss: 1.0942 - val_accuracy: 0.6517\n",
      "Epoch 47/50\n",
      "38/38 [==============================] - 1s 22ms/step - loss: 1.1754 - accuracy: 0.5933 - val_loss: 1.0858 - val_accuracy: 0.6533\n",
      "Epoch 48/50\n",
      "38/38 [==============================] - 1s 22ms/step - loss: 1.1658 - accuracy: 0.5967 - val_loss: 1.0778 - val_accuracy: 0.6550\n",
      "Epoch 49/50\n",
      "38/38 [==============================] - 1s 22ms/step - loss: 1.1591 - accuracy: 0.6133 - val_loss: 1.0700 - val_accuracy: 0.6550\n",
      "Epoch 50/50\n",
      "38/38 [==============================] - 1s 22ms/step - loss: 1.1568 - accuracy: 0.6125 - val_loss: 1.0620 - val_accuracy: 0.6567\n",
      "Epoch 1/50\n"
     ]
    },
    {
     "name": "stderr",
     "output_type": "stream",
     "text": [
      "2023-05-11 17:00:43.388624: I tensorflow/core/grappler/optimizers/custom_graph_optimizer_registry.cc:113] Plugin optimizer for device_type GPU is enabled.\n"
     ]
    },
    {
     "name": "stdout",
     "output_type": "stream",
     "text": [
      "38/38 [==============================] - ETA: 0s - loss: 3.3411 - accuracy: 0.0392"
     ]
    },
    {
     "name": "stderr",
     "output_type": "stream",
     "text": [
      "2023-05-11 17:00:44.551360: I tensorflow/core/grappler/optimizers/custom_graph_optimizer_registry.cc:113] Plugin optimizer for device_type GPU is enabled.\n"
     ]
    },
    {
     "name": "stdout",
     "output_type": "stream",
     "text": [
      "38/38 [==============================] - 2s 32ms/step - loss: 3.3411 - accuracy: 0.0392 - val_loss: 2.7774 - val_accuracy: 0.0333\n",
      "Epoch 2/50\n",
      "38/38 [==============================] - 1s 23ms/step - loss: 3.0934 - accuracy: 0.0608 - val_loss: 2.7100 - val_accuracy: 0.0917\n",
      "Epoch 3/50\n",
      "38/38 [==============================] - 1s 22ms/step - loss: 2.8592 - accuracy: 0.1125 - val_loss: 2.6238 - val_accuracy: 0.1417\n",
      "Epoch 4/50\n",
      "38/38 [==============================] - 1s 22ms/step - loss: 2.6896 - accuracy: 0.1508 - val_loss: 2.5293 - val_accuracy: 0.1717\n",
      "Epoch 5/50\n",
      "38/38 [==============================] - 1s 24ms/step - loss: 2.5454 - accuracy: 0.1775 - val_loss: 2.4345 - val_accuracy: 0.1867\n",
      "Epoch 6/50\n",
      "38/38 [==============================] - 1s 22ms/step - loss: 2.4361 - accuracy: 0.2025 - val_loss: 2.3435 - val_accuracy: 0.2100\n",
      "Epoch 7/50\n",
      "38/38 [==============================] - 1s 22ms/step - loss: 2.3193 - accuracy: 0.2417 - val_loss: 2.2573 - val_accuracy: 0.2283\n",
      "Epoch 8/50\n",
      "38/38 [==============================] - 1s 22ms/step - loss: 2.2287 - accuracy: 0.2442 - val_loss: 2.1756 - val_accuracy: 0.2567\n",
      "Epoch 9/50\n",
      "38/38 [==============================] - 1s 22ms/step - loss: 2.1213 - accuracy: 0.2858 - val_loss: 2.0994 - val_accuracy: 0.2883\n",
      "Epoch 10/50\n",
      "38/38 [==============================] - 1s 22ms/step - loss: 2.0646 - accuracy: 0.2883 - val_loss: 2.0271 - val_accuracy: 0.3000\n",
      "Epoch 11/50\n",
      "38/38 [==============================] - 1s 22ms/step - loss: 1.9848 - accuracy: 0.2983 - val_loss: 1.9581 - val_accuracy: 0.3267\n",
      "Epoch 12/50\n",
      "38/38 [==============================] - 1s 22ms/step - loss: 1.9503 - accuracy: 0.3092 - val_loss: 1.8910 - val_accuracy: 0.3433\n",
      "Epoch 13/50\n",
      "38/38 [==============================] - 1s 22ms/step - loss: 1.8970 - accuracy: 0.3467 - val_loss: 1.8288 - val_accuracy: 0.3650\n",
      "Epoch 14/50\n",
      "38/38 [==============================] - 1s 22ms/step - loss: 1.8455 - accuracy: 0.3425 - val_loss: 1.7718 - val_accuracy: 0.3867\n",
      "Epoch 15/50\n",
      "38/38 [==============================] - 1s 22ms/step - loss: 1.7902 - accuracy: 0.3475 - val_loss: 1.7198 - val_accuracy: 0.4033\n",
      "Epoch 16/50\n",
      "38/38 [==============================] - 1s 22ms/step - loss: 1.7531 - accuracy: 0.3825 - val_loss: 1.6723 - val_accuracy: 0.4217\n",
      "Epoch 17/50\n",
      "38/38 [==============================] - 1s 22ms/step - loss: 1.7140 - accuracy: 0.3950 - val_loss: 1.6305 - val_accuracy: 0.4417\n",
      "Epoch 18/50\n",
      "38/38 [==============================] - 1s 22ms/step - loss: 1.6864 - accuracy: 0.4042 - val_loss: 1.5921 - val_accuracy: 0.4583\n",
      "Epoch 19/50\n",
      "38/38 [==============================] - 1s 22ms/step - loss: 1.6670 - accuracy: 0.4025 - val_loss: 1.5573 - val_accuracy: 0.4783\n",
      "Epoch 20/50\n",
      "38/38 [==============================] - 1s 22ms/step - loss: 1.6345 - accuracy: 0.4142 - val_loss: 1.5258 - val_accuracy: 0.4817\n",
      "Epoch 21/50\n",
      "38/38 [==============================] - 1s 22ms/step - loss: 1.5971 - accuracy: 0.4442 - val_loss: 1.4962 - val_accuracy: 0.4933\n",
      "Epoch 22/50\n",
      "38/38 [==============================] - 1s 25ms/step - loss: 1.5964 - accuracy: 0.4425 - val_loss: 1.4702 - val_accuracy: 0.5100\n",
      "Epoch 23/50\n",
      "38/38 [==============================] - 1s 22ms/step - loss: 1.5648 - accuracy: 0.4250 - val_loss: 1.4457 - val_accuracy: 0.5200\n",
      "Epoch 24/50\n",
      "38/38 [==============================] - 1s 22ms/step - loss: 1.5187 - accuracy: 0.4633 - val_loss: 1.4222 - val_accuracy: 0.5217\n",
      "Epoch 25/50\n",
      "38/38 [==============================] - 1s 22ms/step - loss: 1.5052 - accuracy: 0.4717 - val_loss: 1.3999 - val_accuracy: 0.5400\n",
      "Epoch 26/50\n",
      "38/38 [==============================] - 1s 22ms/step - loss: 1.4892 - accuracy: 0.4767 - val_loss: 1.3801 - val_accuracy: 0.5500\n",
      "Epoch 27/50\n",
      "38/38 [==============================] - 1s 22ms/step - loss: 1.4662 - accuracy: 0.4725 - val_loss: 1.3606 - val_accuracy: 0.5550\n",
      "Epoch 28/50\n",
      "38/38 [==============================] - 1s 22ms/step - loss: 1.4634 - accuracy: 0.4925 - val_loss: 1.3426 - val_accuracy: 0.5583\n",
      "Epoch 29/50\n",
      "38/38 [==============================] - 1s 22ms/step - loss: 1.4283 - accuracy: 0.5075 - val_loss: 1.3249 - val_accuracy: 0.5650\n",
      "Epoch 30/50\n",
      "38/38 [==============================] - 1s 22ms/step - loss: 1.4283 - accuracy: 0.4925 - val_loss: 1.3083 - val_accuracy: 0.5700\n",
      "Epoch 31/50\n",
      "38/38 [==============================] - 1s 24ms/step - loss: 1.4102 - accuracy: 0.5058 - val_loss: 1.2932 - val_accuracy: 0.5783\n",
      "Epoch 32/50\n",
      "38/38 [==============================] - 1s 22ms/step - loss: 1.3886 - accuracy: 0.5083 - val_loss: 1.2781 - val_accuracy: 0.5800\n",
      "Epoch 33/50\n",
      "38/38 [==============================] - 1s 22ms/step - loss: 1.3676 - accuracy: 0.5208 - val_loss: 1.2640 - val_accuracy: 0.5850\n",
      "Epoch 34/50\n",
      "38/38 [==============================] - 1s 22ms/step - loss: 1.3568 - accuracy: 0.5150 - val_loss: 1.2505 - val_accuracy: 0.5883\n",
      "Epoch 35/50\n",
      "38/38 [==============================] - 1s 23ms/step - loss: 1.3365 - accuracy: 0.5258 - val_loss: 1.2373 - val_accuracy: 0.5917\n",
      "Epoch 36/50\n",
      "38/38 [==============================] - 1s 22ms/step - loss: 1.3390 - accuracy: 0.5292 - val_loss: 1.2250 - val_accuracy: 0.5950\n",
      "Epoch 37/50\n",
      "38/38 [==============================] - 1s 22ms/step - loss: 1.3148 - accuracy: 0.5500 - val_loss: 1.2137 - val_accuracy: 0.6017\n",
      "Epoch 38/50\n",
      "38/38 [==============================] - 1s 22ms/step - loss: 1.3190 - accuracy: 0.5308 - val_loss: 1.2019 - val_accuracy: 0.6017\n",
      "Epoch 39/50\n",
      "38/38 [==============================] - 1s 22ms/step - loss: 1.2995 - accuracy: 0.5408 - val_loss: 1.1909 - val_accuracy: 0.6150\n",
      "Epoch 40/50\n",
      "38/38 [==============================] - 1s 21ms/step - loss: 1.2851 - accuracy: 0.5600 - val_loss: 1.1800 - val_accuracy: 0.6183\n",
      "Epoch 41/50\n",
      "38/38 [==============================] - 1s 22ms/step - loss: 1.2762 - accuracy: 0.5533 - val_loss: 1.1700 - val_accuracy: 0.6217\n",
      "Epoch 42/50\n",
      "38/38 [==============================] - 1s 22ms/step - loss: 1.2535 - accuracy: 0.5517 - val_loss: 1.1604 - val_accuracy: 0.6233\n",
      "Epoch 43/50\n",
      "38/38 [==============================] - 1s 22ms/step - loss: 1.2540 - accuracy: 0.5475 - val_loss: 1.1509 - val_accuracy: 0.6300\n",
      "Epoch 44/50\n",
      "38/38 [==============================] - 1s 22ms/step - loss: 1.2346 - accuracy: 0.5508 - val_loss: 1.1423 - val_accuracy: 0.6317\n",
      "Epoch 45/50\n",
      "38/38 [==============================] - 1s 23ms/step - loss: 1.2372 - accuracy: 0.5633 - val_loss: 1.1338 - val_accuracy: 0.6333\n",
      "Epoch 46/50\n",
      "38/38 [==============================] - 1s 22ms/step - loss: 1.2114 - accuracy: 0.5867 - val_loss: 1.1247 - val_accuracy: 0.6367\n",
      "Epoch 47/50\n",
      "38/38 [==============================] - 1s 23ms/step - loss: 1.2085 - accuracy: 0.5808 - val_loss: 1.1160 - val_accuracy: 0.6367\n",
      "Epoch 48/50\n",
      "38/38 [==============================] - 1s 23ms/step - loss: 1.1964 - accuracy: 0.5842 - val_loss: 1.1086 - val_accuracy: 0.6367\n",
      "Epoch 49/50\n",
      "38/38 [==============================] - 1s 22ms/step - loss: 1.1979 - accuracy: 0.5817 - val_loss: 1.1010 - val_accuracy: 0.6450\n",
      "Epoch 50/50\n",
      "38/38 [==============================] - 1s 23ms/step - loss: 1.1893 - accuracy: 0.5858 - val_loss: 1.0933 - val_accuracy: 0.6467\n",
      "trials for model 3: 0.646666685740153\n",
      "Epoch 1/50\n"
     ]
    },
    {
     "name": "stderr",
     "output_type": "stream",
     "text": [
      "2023-05-11 17:01:27.016295: I tensorflow/core/grappler/optimizers/custom_graph_optimizer_registry.cc:113] Plugin optimizer for device_type GPU is enabled.\n"
     ]
    },
    {
     "name": "stdout",
     "output_type": "stream",
     "text": [
      "38/38 [==============================] - ETA: 0s - loss: 3.3823 - accuracy: 0.0967"
     ]
    },
    {
     "name": "stderr",
     "output_type": "stream",
     "text": [
      "2023-05-11 17:01:28.163234: I tensorflow/core/grappler/optimizers/custom_graph_optimizer_registry.cc:113] Plugin optimizer for device_type GPU is enabled.\n"
     ]
    },
    {
     "name": "stdout",
     "output_type": "stream",
     "text": [
      "38/38 [==============================] - 2s 32ms/step - loss: 3.3823 - accuracy: 0.0967 - val_loss: 2.7892 - val_accuracy: 0.1533\n",
      "Epoch 2/50\n",
      "38/38 [==============================] - 1s 22ms/step - loss: 3.1659 - accuracy: 0.1150 - val_loss: 2.7417 - val_accuracy: 0.1750\n",
      "Epoch 3/50\n",
      "38/38 [==============================] - 1s 23ms/step - loss: 3.0071 - accuracy: 0.1400 - val_loss: 2.6826 - val_accuracy: 0.1833\n",
      "Epoch 4/50\n",
      "38/38 [==============================] - 1s 24ms/step - loss: 2.8562 - accuracy: 0.1617 - val_loss: 2.6166 - val_accuracy: 0.2000\n",
      "Epoch 5/50\n",
      "38/38 [==============================] - 1s 23ms/step - loss: 2.7252 - accuracy: 0.1658 - val_loss: 2.5471 - val_accuracy: 0.2100\n",
      "Epoch 6/50\n",
      "38/38 [==============================] - 1s 22ms/step - loss: 2.6018 - accuracy: 0.1900 - val_loss: 2.4760 - val_accuracy: 0.2100\n",
      "Epoch 7/50\n",
      "38/38 [==============================] - 1s 22ms/step - loss: 2.4839 - accuracy: 0.1967 - val_loss: 2.4042 - val_accuracy: 0.2283\n",
      "Epoch 8/50\n",
      "38/38 [==============================] - 1s 22ms/step - loss: 2.3628 - accuracy: 0.2200 - val_loss: 2.3299 - val_accuracy: 0.2683\n",
      "Epoch 9/50\n",
      "38/38 [==============================] - 1s 22ms/step - loss: 2.2920 - accuracy: 0.2233 - val_loss: 2.2525 - val_accuracy: 0.2767\n",
      "Epoch 10/50\n",
      "38/38 [==============================] - 1s 22ms/step - loss: 2.1987 - accuracy: 0.2475 - val_loss: 2.1729 - val_accuracy: 0.2967\n",
      "Epoch 11/50\n",
      "38/38 [==============================] - 1s 22ms/step - loss: 2.1128 - accuracy: 0.2517 - val_loss: 2.0923 - val_accuracy: 0.3067\n",
      "Epoch 12/50\n",
      "38/38 [==============================] - 1s 22ms/step - loss: 2.0425 - accuracy: 0.2692 - val_loss: 2.0136 - val_accuracy: 0.3150\n",
      "Epoch 13/50\n",
      "38/38 [==============================] - 1s 24ms/step - loss: 1.9819 - accuracy: 0.2817 - val_loss: 1.9361 - val_accuracy: 0.3283\n",
      "Epoch 14/50\n",
      "38/38 [==============================] - 1s 22ms/step - loss: 1.9123 - accuracy: 0.3100 - val_loss: 1.8645 - val_accuracy: 0.3417\n",
      "Epoch 15/50\n",
      "38/38 [==============================] - 1s 23ms/step - loss: 1.8621 - accuracy: 0.3217 - val_loss: 1.7982 - val_accuracy: 0.3600\n",
      "Epoch 16/50\n",
      "38/38 [==============================] - 1s 22ms/step - loss: 1.8053 - accuracy: 0.3383 - val_loss: 1.7378 - val_accuracy: 0.3850\n",
      "Epoch 17/50\n",
      "38/38 [==============================] - 1s 23ms/step - loss: 1.7432 - accuracy: 0.3550 - val_loss: 1.6828 - val_accuracy: 0.4050\n",
      "Epoch 18/50\n",
      "38/38 [==============================] - 1s 22ms/step - loss: 1.7107 - accuracy: 0.3867 - val_loss: 1.6325 - val_accuracy: 0.4300\n",
      "Epoch 19/50\n",
      "38/38 [==============================] - 1s 22ms/step - loss: 1.6742 - accuracy: 0.3850 - val_loss: 1.5862 - val_accuracy: 0.4350\n",
      "Epoch 20/50\n",
      "38/38 [==============================] - 1s 22ms/step - loss: 1.6212 - accuracy: 0.4142 - val_loss: 1.5451 - val_accuracy: 0.4633\n",
      "Epoch 21/50\n",
      "38/38 [==============================] - 1s 22ms/step - loss: 1.5863 - accuracy: 0.4283 - val_loss: 1.5070 - val_accuracy: 0.4800\n",
      "Epoch 22/50\n",
      "38/38 [==============================] - 1s 21ms/step - loss: 1.5524 - accuracy: 0.4600 - val_loss: 1.4720 - val_accuracy: 0.4967\n",
      "Epoch 23/50\n",
      "38/38 [==============================] - 1s 23ms/step - loss: 1.5297 - accuracy: 0.4508 - val_loss: 1.4390 - val_accuracy: 0.5200\n",
      "Epoch 24/50\n",
      "38/38 [==============================] - 1s 23ms/step - loss: 1.5011 - accuracy: 0.4667 - val_loss: 1.4094 - val_accuracy: 0.5367\n",
      "Epoch 25/50\n",
      "38/38 [==============================] - 1s 22ms/step - loss: 1.4544 - accuracy: 0.4892 - val_loss: 1.3819 - val_accuracy: 0.5583\n",
      "Epoch 26/50\n",
      "38/38 [==============================] - 1s 21ms/step - loss: 1.4195 - accuracy: 0.5217 - val_loss: 1.3563 - val_accuracy: 0.5717\n",
      "Epoch 27/50\n",
      "38/38 [==============================] - 1s 23ms/step - loss: 1.4030 - accuracy: 0.5042 - val_loss: 1.3325 - val_accuracy: 0.5817\n",
      "Epoch 28/50\n",
      "38/38 [==============================] - 1s 23ms/step - loss: 1.4057 - accuracy: 0.5300 - val_loss: 1.3102 - val_accuracy: 0.5967\n",
      "Epoch 29/50\n",
      "38/38 [==============================] - 1s 22ms/step - loss: 1.3580 - accuracy: 0.5317 - val_loss: 1.2885 - val_accuracy: 0.6083\n",
      "Epoch 30/50\n",
      "38/38 [==============================] - 1s 22ms/step - loss: 1.3391 - accuracy: 0.5458 - val_loss: 1.2693 - val_accuracy: 0.6167\n",
      "Epoch 31/50\n",
      "38/38 [==============================] - 1s 23ms/step - loss: 1.3260 - accuracy: 0.5583 - val_loss: 1.2505 - val_accuracy: 0.6233\n",
      "Epoch 32/50\n",
      "38/38 [==============================] - 1s 22ms/step - loss: 1.3305 - accuracy: 0.5292 - val_loss: 1.2330 - val_accuracy: 0.6317\n",
      "Epoch 33/50\n",
      "38/38 [==============================] - 1s 23ms/step - loss: 1.3083 - accuracy: 0.5508 - val_loss: 1.2165 - val_accuracy: 0.6333\n",
      "Epoch 34/50\n",
      "38/38 [==============================] - 1s 22ms/step - loss: 1.2562 - accuracy: 0.5817 - val_loss: 1.2007 - val_accuracy: 0.6400\n",
      "Epoch 35/50\n",
      "38/38 [==============================] - 1s 22ms/step - loss: 1.2656 - accuracy: 0.5742 - val_loss: 1.1856 - val_accuracy: 0.6433\n",
      "Epoch 36/50\n",
      "38/38 [==============================] - 1s 22ms/step - loss: 1.2372 - accuracy: 0.5933 - val_loss: 1.1717 - val_accuracy: 0.6483\n",
      "Epoch 37/50\n",
      "38/38 [==============================] - 1s 22ms/step - loss: 1.2288 - accuracy: 0.5942 - val_loss: 1.1577 - val_accuracy: 0.6517\n",
      "Epoch 38/50\n",
      "38/38 [==============================] - 1s 29ms/step - loss: 1.2138 - accuracy: 0.6008 - val_loss: 1.1455 - val_accuracy: 0.6583\n",
      "Epoch 39/50\n",
      "38/38 [==============================] - 1s 28ms/step - loss: 1.2032 - accuracy: 0.6042 - val_loss: 1.1329 - val_accuracy: 0.6617\n",
      "Epoch 40/50\n",
      "38/38 [==============================] - 1s 23ms/step - loss: 1.1963 - accuracy: 0.6100 - val_loss: 1.1209 - val_accuracy: 0.6600\n",
      "Epoch 41/50\n",
      "38/38 [==============================] - 1s 22ms/step - loss: 1.1866 - accuracy: 0.6133 - val_loss: 1.1098 - val_accuracy: 0.6650\n",
      "Epoch 42/50\n",
      "38/38 [==============================] - 1s 22ms/step - loss: 1.1652 - accuracy: 0.6233 - val_loss: 1.0996 - val_accuracy: 0.6683\n",
      "Epoch 43/50\n",
      "38/38 [==============================] - 1s 22ms/step - loss: 1.1563 - accuracy: 0.6175 - val_loss: 1.0894 - val_accuracy: 0.6700\n",
      "Epoch 44/50\n",
      "38/38 [==============================] - 1s 22ms/step - loss: 1.1507 - accuracy: 0.6225 - val_loss: 1.0795 - val_accuracy: 0.6683\n",
      "Epoch 45/50\n",
      "38/38 [==============================] - 1s 22ms/step - loss: 1.1641 - accuracy: 0.6267 - val_loss: 1.0698 - val_accuracy: 0.6733\n",
      "Epoch 46/50\n",
      "38/38 [==============================] - 1s 22ms/step - loss: 1.1312 - accuracy: 0.6267 - val_loss: 1.0606 - val_accuracy: 0.6767\n",
      "Epoch 47/50\n",
      "38/38 [==============================] - 1s 23ms/step - loss: 1.1269 - accuracy: 0.6333 - val_loss: 1.0518 - val_accuracy: 0.6767\n",
      "Epoch 48/50\n",
      "38/38 [==============================] - 1s 22ms/step - loss: 1.0966 - accuracy: 0.6533 - val_loss: 1.0437 - val_accuracy: 0.6817\n",
      "Epoch 49/50\n",
      "38/38 [==============================] - 1s 23ms/step - loss: 1.1062 - accuracy: 0.6325 - val_loss: 1.0355 - val_accuracy: 0.6833\n",
      "Epoch 50/50\n",
      "38/38 [==============================] - 1s 23ms/step - loss: 1.0993 - accuracy: 0.6283 - val_loss: 1.0278 - val_accuracy: 0.6867\n",
      "Epoch 1/50\n"
     ]
    },
    {
     "name": "stderr",
     "output_type": "stream",
     "text": [
      "2023-05-11 17:02:11.484290: I tensorflow/core/grappler/optimizers/custom_graph_optimizer_registry.cc:113] Plugin optimizer for device_type GPU is enabled.\n"
     ]
    },
    {
     "name": "stdout",
     "output_type": "stream",
     "text": [
      "38/38 [==============================] - ETA: 0s - loss: 3.1425 - accuracy: 0.0325"
     ]
    },
    {
     "name": "stderr",
     "output_type": "stream",
     "text": [
      "2023-05-11 17:02:12.635384: I tensorflow/core/grappler/optimizers/custom_graph_optimizer_registry.cc:113] Plugin optimizer for device_type GPU is enabled.\n"
     ]
    },
    {
     "name": "stdout",
     "output_type": "stream",
     "text": [
      "38/38 [==============================] - 2s 32ms/step - loss: 3.1425 - accuracy: 0.0325 - val_loss: 2.7900 - val_accuracy: 0.0067\n",
      "Epoch 2/50\n",
      "38/38 [==============================] - 1s 26ms/step - loss: 2.9320 - accuracy: 0.0667 - val_loss: 2.7445 - val_accuracy: 0.0100\n",
      "Epoch 3/50\n",
      "38/38 [==============================] - 1s 23ms/step - loss: 2.7394 - accuracy: 0.0967 - val_loss: 2.6805 - val_accuracy: 0.0167\n",
      "Epoch 4/50\n",
      "38/38 [==============================] - 1s 23ms/step - loss: 2.5908 - accuracy: 0.1358 - val_loss: 2.6033 - val_accuracy: 0.0383\n",
      "Epoch 5/50\n",
      "38/38 [==============================] - 1s 23ms/step - loss: 2.4227 - accuracy: 0.1742 - val_loss: 2.5200 - val_accuracy: 0.0667\n",
      "Epoch 6/50\n",
      "38/38 [==============================] - 1s 23ms/step - loss: 2.3121 - accuracy: 0.2000 - val_loss: 2.4342 - val_accuracy: 0.1200\n",
      "Epoch 7/50\n",
      "38/38 [==============================] - 1s 22ms/step - loss: 2.2204 - accuracy: 0.2308 - val_loss: 2.3498 - val_accuracy: 0.1633\n",
      "Epoch 8/50\n",
      "38/38 [==============================] - 1s 22ms/step - loss: 2.1275 - accuracy: 0.2383 - val_loss: 2.2657 - val_accuracy: 0.1983\n",
      "Epoch 9/50\n",
      "38/38 [==============================] - 1s 23ms/step - loss: 2.0573 - accuracy: 0.2742 - val_loss: 2.1824 - val_accuracy: 0.2150\n",
      "Epoch 10/50\n",
      "38/38 [==============================] - 1s 22ms/step - loss: 1.9649 - accuracy: 0.3067 - val_loss: 2.0980 - val_accuracy: 0.2283\n",
      "Epoch 11/50\n",
      "38/38 [==============================] - 1s 22ms/step - loss: 1.8956 - accuracy: 0.3058 - val_loss: 2.0120 - val_accuracy: 0.2550\n",
      "Epoch 12/50\n",
      "38/38 [==============================] - 1s 23ms/step - loss: 1.8605 - accuracy: 0.3258 - val_loss: 1.9260 - val_accuracy: 0.2983\n",
      "Epoch 13/50\n",
      "38/38 [==============================] - 1s 22ms/step - loss: 1.7969 - accuracy: 0.3417 - val_loss: 1.8445 - val_accuracy: 0.3483\n",
      "Epoch 14/50\n",
      "38/38 [==============================] - 1s 22ms/step - loss: 1.7631 - accuracy: 0.3475 - val_loss: 1.7703 - val_accuracy: 0.3650\n",
      "Epoch 15/50\n",
      "38/38 [==============================] - 1s 22ms/step - loss: 1.7099 - accuracy: 0.3725 - val_loss: 1.7043 - val_accuracy: 0.4017\n",
      "Epoch 16/50\n",
      "38/38 [==============================] - 1s 23ms/step - loss: 1.6753 - accuracy: 0.3842 - val_loss: 1.6456 - val_accuracy: 0.4317\n",
      "Epoch 17/50\n",
      "38/38 [==============================] - 1s 24ms/step - loss: 1.6349 - accuracy: 0.3992 - val_loss: 1.5950 - val_accuracy: 0.4450\n",
      "Epoch 18/50\n",
      "38/38 [==============================] - 1s 23ms/step - loss: 1.6030 - accuracy: 0.4083 - val_loss: 1.5517 - val_accuracy: 0.4583\n",
      "Epoch 19/50\n",
      "38/38 [==============================] - 1s 23ms/step - loss: 1.5714 - accuracy: 0.4258 - val_loss: 1.5133 - val_accuracy: 0.4717\n",
      "Epoch 20/50\n",
      "38/38 [==============================] - 1s 22ms/step - loss: 1.5334 - accuracy: 0.4467 - val_loss: 1.4789 - val_accuracy: 0.4867\n",
      "Epoch 21/50\n",
      "38/38 [==============================] - 1s 23ms/step - loss: 1.4987 - accuracy: 0.4542 - val_loss: 1.4482 - val_accuracy: 0.4917\n",
      "Epoch 22/50\n",
      "38/38 [==============================] - 1s 23ms/step - loss: 1.4713 - accuracy: 0.4650 - val_loss: 1.4194 - val_accuracy: 0.5167\n",
      "Epoch 23/50\n",
      "38/38 [==============================] - 1s 22ms/step - loss: 1.4514 - accuracy: 0.4842 - val_loss: 1.3932 - val_accuracy: 0.5367\n",
      "Epoch 24/50\n",
      "38/38 [==============================] - 1s 23ms/step - loss: 1.4409 - accuracy: 0.4742 - val_loss: 1.3688 - val_accuracy: 0.5450\n",
      "Epoch 25/50\n",
      "38/38 [==============================] - 1s 23ms/step - loss: 1.4262 - accuracy: 0.4958 - val_loss: 1.3461 - val_accuracy: 0.5550\n",
      "Epoch 26/50\n",
      "38/38 [==============================] - 1s 23ms/step - loss: 1.3957 - accuracy: 0.4917 - val_loss: 1.3249 - val_accuracy: 0.5633\n",
      "Epoch 27/50\n",
      "38/38 [==============================] - 1s 22ms/step - loss: 1.3861 - accuracy: 0.4925 - val_loss: 1.3052 - val_accuracy: 0.5667\n",
      "Epoch 28/50\n",
      "38/38 [==============================] - 1s 22ms/step - loss: 1.3741 - accuracy: 0.5000 - val_loss: 1.2868 - val_accuracy: 0.5767\n",
      "Epoch 29/50\n",
      "38/38 [==============================] - 1s 22ms/step - loss: 1.3472 - accuracy: 0.5350 - val_loss: 1.2686 - val_accuracy: 0.5800\n",
      "Epoch 30/50\n",
      "38/38 [==============================] - 1s 22ms/step - loss: 1.3317 - accuracy: 0.5125 - val_loss: 1.2518 - val_accuracy: 0.5900\n",
      "Epoch 31/50\n",
      "38/38 [==============================] - 1s 22ms/step - loss: 1.3158 - accuracy: 0.5467 - val_loss: 1.2355 - val_accuracy: 0.5950\n",
      "Epoch 32/50\n",
      "38/38 [==============================] - 1s 23ms/step - loss: 1.3082 - accuracy: 0.5417 - val_loss: 1.2202 - val_accuracy: 0.6033\n",
      "Epoch 33/50\n",
      "38/38 [==============================] - 1s 22ms/step - loss: 1.2957 - accuracy: 0.5500 - val_loss: 1.2057 - val_accuracy: 0.6133\n",
      "Epoch 34/50\n",
      "38/38 [==============================] - 1s 21ms/step - loss: 1.2810 - accuracy: 0.5533 - val_loss: 1.1920 - val_accuracy: 0.6133\n",
      "Epoch 35/50\n",
      "38/38 [==============================] - 1s 22ms/step - loss: 1.2555 - accuracy: 0.5558 - val_loss: 1.1790 - val_accuracy: 0.6233\n",
      "Epoch 36/50\n",
      "38/38 [==============================] - 1s 23ms/step - loss: 1.2469 - accuracy: 0.5717 - val_loss: 1.1663 - val_accuracy: 0.6233\n",
      "Epoch 37/50\n",
      "38/38 [==============================] - 1s 23ms/step - loss: 1.2522 - accuracy: 0.5592 - val_loss: 1.1541 - val_accuracy: 0.6267\n",
      "Epoch 38/50\n",
      "38/38 [==============================] - 1s 22ms/step - loss: 1.2153 - accuracy: 0.5658 - val_loss: 1.1427 - val_accuracy: 0.6300\n",
      "Epoch 39/50\n",
      "38/38 [==============================] - 1s 22ms/step - loss: 1.2134 - accuracy: 0.5867 - val_loss: 1.1315 - val_accuracy: 0.6367\n",
      "Epoch 40/50\n",
      "38/38 [==============================] - 1s 22ms/step - loss: 1.2086 - accuracy: 0.5800 - val_loss: 1.1212 - val_accuracy: 0.6367\n",
      "Epoch 41/50\n",
      "38/38 [==============================] - 1s 22ms/step - loss: 1.1960 - accuracy: 0.5758 - val_loss: 1.1108 - val_accuracy: 0.6383\n",
      "Epoch 42/50\n",
      "38/38 [==============================] - 1s 22ms/step - loss: 1.1765 - accuracy: 0.5925 - val_loss: 1.1007 - val_accuracy: 0.6400\n",
      "Epoch 43/50\n",
      "38/38 [==============================] - 1s 22ms/step - loss: 1.1724 - accuracy: 0.5967 - val_loss: 1.0909 - val_accuracy: 0.6400\n",
      "Epoch 44/50\n",
      "38/38 [==============================] - 1s 22ms/step - loss: 1.1598 - accuracy: 0.5808 - val_loss: 1.0817 - val_accuracy: 0.6450\n",
      "Epoch 45/50\n",
      "38/38 [==============================] - 1s 21ms/step - loss: 1.1498 - accuracy: 0.6092 - val_loss: 1.0732 - val_accuracy: 0.6483\n",
      "Epoch 46/50\n",
      "38/38 [==============================] - 1s 22ms/step - loss: 1.1645 - accuracy: 0.5983 - val_loss: 1.0643 - val_accuracy: 0.6550\n",
      "Epoch 47/50\n",
      "38/38 [==============================] - 1s 22ms/step - loss: 1.1316 - accuracy: 0.6017 - val_loss: 1.0567 - val_accuracy: 0.6550\n",
      "Epoch 48/50\n",
      "38/38 [==============================] - 1s 22ms/step - loss: 1.1148 - accuracy: 0.6000 - val_loss: 1.0489 - val_accuracy: 0.6583\n",
      "Epoch 49/50\n",
      "38/38 [==============================] - 1s 23ms/step - loss: 1.1174 - accuracy: 0.6108 - val_loss: 1.0413 - val_accuracy: 0.6617\n",
      "Epoch 50/50\n",
      "38/38 [==============================] - 1s 22ms/step - loss: 1.0965 - accuracy: 0.6275 - val_loss: 1.0340 - val_accuracy: 0.6633\n",
      "Epoch 1/50\n"
     ]
    },
    {
     "name": "stderr",
     "output_type": "stream",
     "text": [
      "2023-05-11 17:02:55.330434: I tensorflow/core/grappler/optimizers/custom_graph_optimizer_registry.cc:113] Plugin optimizer for device_type GPU is enabled.\n"
     ]
    },
    {
     "name": "stdout",
     "output_type": "stream",
     "text": [
      "38/38 [==============================] - ETA: 0s - loss: 2.8647 - accuracy: 0.1108"
     ]
    },
    {
     "name": "stderr",
     "output_type": "stream",
     "text": [
      "2023-05-11 17:02:56.536148: I tensorflow/core/grappler/optimizers/custom_graph_optimizer_registry.cc:113] Plugin optimizer for device_type GPU is enabled.\n"
     ]
    },
    {
     "name": "stdout",
     "output_type": "stream",
     "text": [
      "38/38 [==============================] - 2s 34ms/step - loss: 2.8647 - accuracy: 0.1108 - val_loss: 2.7857 - val_accuracy: 0.0333\n",
      "Epoch 2/50\n",
      "38/38 [==============================] - 1s 23ms/step - loss: 2.6787 - accuracy: 0.1425 - val_loss: 2.7497 - val_accuracy: 0.0567\n",
      "Epoch 3/50\n",
      "38/38 [==============================] - 1s 23ms/step - loss: 2.5345 - accuracy: 0.1583 - val_loss: 2.6933 - val_accuracy: 0.1067\n",
      "Epoch 4/50\n",
      "38/38 [==============================] - 1s 21ms/step - loss: 2.4041 - accuracy: 0.1925 - val_loss: 2.6246 - val_accuracy: 0.1283\n",
      "Epoch 5/50\n",
      "38/38 [==============================] - 1s 22ms/step - loss: 2.2841 - accuracy: 0.2208 - val_loss: 2.5480 - val_accuracy: 0.1550\n",
      "Epoch 6/50\n",
      "38/38 [==============================] - 1s 23ms/step - loss: 2.1986 - accuracy: 0.2483 - val_loss: 2.4666 - val_accuracy: 0.1800\n",
      "Epoch 7/50\n",
      "38/38 [==============================] - 1s 22ms/step - loss: 2.1380 - accuracy: 0.2550 - val_loss: 2.3793 - val_accuracy: 0.1983\n",
      "Epoch 8/50\n",
      "38/38 [==============================] - 1s 22ms/step - loss: 2.0445 - accuracy: 0.2692 - val_loss: 2.2856 - val_accuracy: 0.2417\n",
      "Epoch 9/50\n",
      "38/38 [==============================] - 1s 22ms/step - loss: 1.9864 - accuracy: 0.2933 - val_loss: 2.1854 - val_accuracy: 0.2600\n",
      "Epoch 10/50\n",
      "38/38 [==============================] - 1s 22ms/step - loss: 1.9232 - accuracy: 0.3058 - val_loss: 2.0823 - val_accuracy: 0.3033\n",
      "Epoch 11/50\n",
      "38/38 [==============================] - 1s 22ms/step - loss: 1.8598 - accuracy: 0.3117 - val_loss: 1.9800 - val_accuracy: 0.3467\n",
      "Epoch 12/50\n",
      "38/38 [==============================] - 1s 22ms/step - loss: 1.8285 - accuracy: 0.3242 - val_loss: 1.8854 - val_accuracy: 0.3617\n",
      "Epoch 13/50\n",
      "38/38 [==============================] - 1s 23ms/step - loss: 1.7820 - accuracy: 0.3217 - val_loss: 1.8004 - val_accuracy: 0.3850\n",
      "Epoch 14/50\n",
      "38/38 [==============================] - 1s 23ms/step - loss: 1.7107 - accuracy: 0.3417 - val_loss: 1.7275 - val_accuracy: 0.3900\n",
      "Epoch 15/50\n",
      "38/38 [==============================] - 1s 22ms/step - loss: 1.6837 - accuracy: 0.3808 - val_loss: 1.6650 - val_accuracy: 0.4100\n",
      "Epoch 16/50\n",
      "38/38 [==============================] - 1s 22ms/step - loss: 1.6515 - accuracy: 0.3933 - val_loss: 1.6120 - val_accuracy: 0.4200\n",
      "Epoch 17/50\n",
      "38/38 [==============================] - 1s 29ms/step - loss: 1.6222 - accuracy: 0.3958 - val_loss: 1.5663 - val_accuracy: 0.4350\n",
      "Epoch 18/50\n",
      "38/38 [==============================] - 1s 22ms/step - loss: 1.6048 - accuracy: 0.4125 - val_loss: 1.5264 - val_accuracy: 0.4500\n",
      "Epoch 19/50\n",
      "38/38 [==============================] - 1s 23ms/step - loss: 1.5562 - accuracy: 0.4458 - val_loss: 1.4915 - val_accuracy: 0.4717\n",
      "Epoch 20/50\n",
      "38/38 [==============================] - 1s 22ms/step - loss: 1.5254 - accuracy: 0.4442 - val_loss: 1.4597 - val_accuracy: 0.4917\n",
      "Epoch 21/50\n",
      "38/38 [==============================] - 1s 23ms/step - loss: 1.5137 - accuracy: 0.4467 - val_loss: 1.4312 - val_accuracy: 0.5000\n",
      "Epoch 22/50\n",
      "38/38 [==============================] - 1s 22ms/step - loss: 1.4701 - accuracy: 0.4692 - val_loss: 1.4053 - val_accuracy: 0.5100\n",
      "Epoch 23/50\n",
      "38/38 [==============================] - 1s 23ms/step - loss: 1.4465 - accuracy: 0.4742 - val_loss: 1.3809 - val_accuracy: 0.5233\n",
      "Epoch 24/50\n",
      "38/38 [==============================] - 1s 22ms/step - loss: 1.4272 - accuracy: 0.4767 - val_loss: 1.3574 - val_accuracy: 0.5383\n",
      "Epoch 25/50\n",
      "38/38 [==============================] - 1s 22ms/step - loss: 1.4238 - accuracy: 0.4967 - val_loss: 1.3358 - val_accuracy: 0.5467\n",
      "Epoch 26/50\n",
      "38/38 [==============================] - 1s 22ms/step - loss: 1.3929 - accuracy: 0.5042 - val_loss: 1.3155 - val_accuracy: 0.5550\n",
      "Epoch 27/50\n",
      "38/38 [==============================] - 1s 21ms/step - loss: 1.3669 - accuracy: 0.5125 - val_loss: 1.2962 - val_accuracy: 0.5583\n",
      "Epoch 28/50\n",
      "38/38 [==============================] - 1s 21ms/step - loss: 1.3365 - accuracy: 0.5233 - val_loss: 1.2778 - val_accuracy: 0.5683\n",
      "Epoch 29/50\n",
      "38/38 [==============================] - 1s 21ms/step - loss: 1.3306 - accuracy: 0.5458 - val_loss: 1.2614 - val_accuracy: 0.5733\n",
      "Epoch 30/50\n",
      "38/38 [==============================] - 1s 23ms/step - loss: 1.3200 - accuracy: 0.5325 - val_loss: 1.2449 - val_accuracy: 0.5767\n",
      "Epoch 31/50\n",
      "38/38 [==============================] - 1s 23ms/step - loss: 1.3085 - accuracy: 0.5433 - val_loss: 1.2292 - val_accuracy: 0.5850\n",
      "Epoch 32/50\n",
      "38/38 [==============================] - 1s 21ms/step - loss: 1.2860 - accuracy: 0.5500 - val_loss: 1.2146 - val_accuracy: 0.5917\n",
      "Epoch 33/50\n",
      "38/38 [==============================] - 1s 22ms/step - loss: 1.2793 - accuracy: 0.5592 - val_loss: 1.2002 - val_accuracy: 0.6017\n",
      "Epoch 34/50\n",
      "38/38 [==============================] - 1s 37ms/step - loss: 1.2560 - accuracy: 0.5767 - val_loss: 1.1867 - val_accuracy: 0.6083\n",
      "Epoch 35/50\n",
      "38/38 [==============================] - 2s 44ms/step - loss: 1.2610 - accuracy: 0.5583 - val_loss: 1.1735 - val_accuracy: 0.6200\n",
      "Epoch 36/50\n",
      "38/38 [==============================] - 1s 39ms/step - loss: 1.2315 - accuracy: 0.5717 - val_loss: 1.1611 - val_accuracy: 0.6250\n",
      "Epoch 37/50\n",
      "38/38 [==============================] - 1s 23ms/step - loss: 1.2240 - accuracy: 0.5750 - val_loss: 1.1496 - val_accuracy: 0.6283\n",
      "Epoch 38/50\n",
      "38/38 [==============================] - 1s 24ms/step - loss: 1.2192 - accuracy: 0.5733 - val_loss: 1.1383 - val_accuracy: 0.6367\n",
      "Epoch 39/50\n",
      "38/38 [==============================] - 1s 22ms/step - loss: 1.2244 - accuracy: 0.5858 - val_loss: 1.1276 - val_accuracy: 0.6367\n",
      "Epoch 40/50\n",
      "38/38 [==============================] - 1s 28ms/step - loss: 1.2062 - accuracy: 0.5867 - val_loss: 1.1168 - val_accuracy: 0.6433\n",
      "Epoch 41/50\n",
      "38/38 [==============================] - 1s 23ms/step - loss: 1.1792 - accuracy: 0.5983 - val_loss: 1.1070 - val_accuracy: 0.6467\n",
      "Epoch 42/50\n",
      "38/38 [==============================] - 1s 22ms/step - loss: 1.1750 - accuracy: 0.5933 - val_loss: 1.0972 - val_accuracy: 0.6517\n",
      "Epoch 43/50\n",
      "38/38 [==============================] - 1s 24ms/step - loss: 1.1668 - accuracy: 0.6033 - val_loss: 1.0881 - val_accuracy: 0.6583\n",
      "Epoch 44/50\n",
      "38/38 [==============================] - 1s 23ms/step - loss: 1.1779 - accuracy: 0.6033 - val_loss: 1.0787 - val_accuracy: 0.6617\n",
      "Epoch 45/50\n",
      "38/38 [==============================] - 1s 22ms/step - loss: 1.1417 - accuracy: 0.6100 - val_loss: 1.0701 - val_accuracy: 0.6667\n",
      "Epoch 46/50\n",
      "38/38 [==============================] - 1s 38ms/step - loss: 1.1188 - accuracy: 0.6308 - val_loss: 1.0620 - val_accuracy: 0.6683\n",
      "Epoch 47/50\n",
      "38/38 [==============================] - 1s 25ms/step - loss: 1.1459 - accuracy: 0.6000 - val_loss: 1.0539 - val_accuracy: 0.6717\n",
      "Epoch 48/50\n",
      "38/38 [==============================] - 1s 33ms/step - loss: 1.1207 - accuracy: 0.6217 - val_loss: 1.0463 - val_accuracy: 0.6750\n",
      "Epoch 49/50\n",
      "38/38 [==============================] - 2s 50ms/step - loss: 1.1098 - accuracy: 0.6167 - val_loss: 1.0388 - val_accuracy: 0.6783\n",
      "Epoch 50/50\n",
      "38/38 [==============================] - 1s 38ms/step - loss: 1.1110 - accuracy: 0.6158 - val_loss: 1.0313 - val_accuracy: 0.6800\n",
      "trials for model 4: 0.6766666769981384\n",
      "Epoch 1/50\n"
     ]
    },
    {
     "name": "stderr",
     "output_type": "stream",
     "text": [
      "2023-05-11 17:03:44.704674: I tensorflow/core/grappler/optimizers/custom_graph_optimizer_registry.cc:113] Plugin optimizer for device_type GPU is enabled.\n"
     ]
    },
    {
     "name": "stdout",
     "output_type": "stream",
     "text": [
      "38/38 [==============================] - ETA: 0s - loss: 3.1478 - accuracy: 0.0442"
     ]
    },
    {
     "name": "stderr",
     "output_type": "stream",
     "text": [
      "2023-05-11 17:03:46.715981: I tensorflow/core/grappler/optimizers/custom_graph_optimizer_registry.cc:113] Plugin optimizer for device_type GPU is enabled.\n"
     ]
    },
    {
     "name": "stdout",
     "output_type": "stream",
     "text": [
      "38/38 [==============================] - 3s 53ms/step - loss: 3.1478 - accuracy: 0.0442 - val_loss: 2.8032 - val_accuracy: 0.1000\n",
      "Epoch 2/50\n",
      "38/38 [==============================] - 2s 46ms/step - loss: 3.0449 - accuracy: 0.0600 - val_loss: 2.8000 - val_accuracy: 0.0950\n",
      "Epoch 3/50\n",
      "38/38 [==============================] - 2s 47ms/step - loss: 2.9722 - accuracy: 0.0717 - val_loss: 2.7905 - val_accuracy: 0.1083\n",
      "Epoch 4/50\n",
      "38/38 [==============================] - 2s 50ms/step - loss: 2.8414 - accuracy: 0.0975 - val_loss: 2.7707 - val_accuracy: 0.1183\n",
      "Epoch 5/50\n",
      "38/38 [==============================] - 2s 46ms/step - loss: 2.7936 - accuracy: 0.1058 - val_loss: 2.7391 - val_accuracy: 0.1333\n",
      "Epoch 6/50\n",
      "38/38 [==============================] - 2s 53ms/step - loss: 2.7010 - accuracy: 0.1217 - val_loss: 2.6977 - val_accuracy: 0.1683\n",
      "Epoch 7/50\n",
      "38/38 [==============================] - 2s 49ms/step - loss: 2.5963 - accuracy: 0.1725 - val_loss: 2.6466 - val_accuracy: 0.2033\n",
      "Epoch 8/50\n",
      "38/38 [==============================] - 1s 35ms/step - loss: 2.5373 - accuracy: 0.2017 - val_loss: 2.5856 - val_accuracy: 0.2350\n",
      "Epoch 9/50\n",
      "38/38 [==============================] - 2s 41ms/step - loss: 2.4601 - accuracy: 0.2067 - val_loss: 2.5146 - val_accuracy: 0.2650\n",
      "Epoch 10/50\n",
      "38/38 [==============================] - 1s 34ms/step - loss: 2.4036 - accuracy: 0.2433 - val_loss: 2.4374 - val_accuracy: 0.3067\n",
      "Epoch 11/50\n",
      "38/38 [==============================] - 1s 35ms/step - loss: 2.3279 - accuracy: 0.2792 - val_loss: 2.3592 - val_accuracy: 0.3517\n",
      "Epoch 12/50\n",
      "38/38 [==============================] - 1s 37ms/step - loss: 2.2740 - accuracy: 0.2933 - val_loss: 2.2828 - val_accuracy: 0.3783\n",
      "Epoch 13/50\n",
      "38/38 [==============================] - 1s 34ms/step - loss: 2.2288 - accuracy: 0.3083 - val_loss: 2.2061 - val_accuracy: 0.4083\n",
      "Epoch 14/50\n",
      "38/38 [==============================] - 1s 36ms/step - loss: 2.1658 - accuracy: 0.3492 - val_loss: 2.1326 - val_accuracy: 0.4300\n",
      "Epoch 15/50\n",
      "38/38 [==============================] - 1s 37ms/step - loss: 2.1158 - accuracy: 0.3658 - val_loss: 2.0650 - val_accuracy: 0.4550\n",
      "Epoch 16/50\n",
      "38/38 [==============================] - 1s 38ms/step - loss: 2.0549 - accuracy: 0.3908 - val_loss: 2.0016 - val_accuracy: 0.4767\n",
      "Epoch 17/50\n",
      "38/38 [==============================] - 1s 37ms/step - loss: 1.9997 - accuracy: 0.4092 - val_loss: 1.9430 - val_accuracy: 0.5083\n",
      "Epoch 18/50\n",
      "38/38 [==============================] - 1s 33ms/step - loss: 1.9577 - accuracy: 0.4350 - val_loss: 1.8888 - val_accuracy: 0.5117\n",
      "Epoch 19/50\n",
      "38/38 [==============================] - 1s 35ms/step - loss: 1.9055 - accuracy: 0.4608 - val_loss: 1.8391 - val_accuracy: 0.5233\n",
      "Epoch 20/50\n",
      "38/38 [==============================] - 1s 34ms/step - loss: 1.8800 - accuracy: 0.4483 - val_loss: 1.7933 - val_accuracy: 0.5367\n",
      "Epoch 21/50\n",
      "38/38 [==============================] - 2s 41ms/step - loss: 1.8247 - accuracy: 0.4842 - val_loss: 1.7530 - val_accuracy: 0.5483\n",
      "Epoch 22/50\n",
      "38/38 [==============================] - 1s 35ms/step - loss: 1.7822 - accuracy: 0.5025 - val_loss: 1.7134 - val_accuracy: 0.5600\n",
      "Epoch 23/50\n",
      "38/38 [==============================] - 1s 35ms/step - loss: 1.7774 - accuracy: 0.5058 - val_loss: 1.6770 - val_accuracy: 0.5667\n",
      "Epoch 24/50\n",
      "38/38 [==============================] - 1s 37ms/step - loss: 1.7381 - accuracy: 0.5208 - val_loss: 1.6427 - val_accuracy: 0.5783\n",
      "Epoch 25/50\n",
      "38/38 [==============================] - 1s 35ms/step - loss: 1.6957 - accuracy: 0.5317 - val_loss: 1.6111 - val_accuracy: 0.5917\n",
      "Epoch 26/50\n",
      "38/38 [==============================] - 1s 37ms/step - loss: 1.6754 - accuracy: 0.5300 - val_loss: 1.5813 - val_accuracy: 0.5950\n",
      "Epoch 27/50\n",
      "38/38 [==============================] - 1s 35ms/step - loss: 1.6250 - accuracy: 0.5600 - val_loss: 1.5536 - val_accuracy: 0.6000\n",
      "Epoch 28/50\n",
      "38/38 [==============================] - 1s 35ms/step - loss: 1.6282 - accuracy: 0.5617 - val_loss: 1.5271 - val_accuracy: 0.6033\n",
      "Epoch 29/50\n",
      "38/38 [==============================] - 1s 38ms/step - loss: 1.5779 - accuracy: 0.5608 - val_loss: 1.5007 - val_accuracy: 0.6100\n",
      "Epoch 30/50\n",
      "38/38 [==============================] - 1s 38ms/step - loss: 1.5686 - accuracy: 0.5708 - val_loss: 1.4761 - val_accuracy: 0.6133\n",
      "Epoch 31/50\n",
      "38/38 [==============================] - 1s 36ms/step - loss: 1.5206 - accuracy: 0.5967 - val_loss: 1.4532 - val_accuracy: 0.6233\n",
      "Epoch 32/50\n",
      "38/38 [==============================] - 1s 39ms/step - loss: 1.5144 - accuracy: 0.6033 - val_loss: 1.4315 - val_accuracy: 0.6250\n",
      "Epoch 33/50\n",
      "38/38 [==============================] - 1s 34ms/step - loss: 1.5010 - accuracy: 0.5958 - val_loss: 1.4104 - val_accuracy: 0.6250\n",
      "Epoch 34/50\n",
      "38/38 [==============================] - 1s 37ms/step - loss: 1.4636 - accuracy: 0.5942 - val_loss: 1.3900 - val_accuracy: 0.6267\n",
      "Epoch 35/50\n",
      "38/38 [==============================] - 1s 36ms/step - loss: 1.4385 - accuracy: 0.5958 - val_loss: 1.3707 - val_accuracy: 0.6333\n",
      "Epoch 36/50\n",
      "38/38 [==============================] - 1s 35ms/step - loss: 1.4354 - accuracy: 0.6083 - val_loss: 1.3519 - val_accuracy: 0.6400\n",
      "Epoch 37/50\n",
      "38/38 [==============================] - 2s 43ms/step - loss: 1.4339 - accuracy: 0.5967 - val_loss: 1.3335 - val_accuracy: 0.6450\n",
      "Epoch 38/50\n",
      "38/38 [==============================] - 1s 36ms/step - loss: 1.3743 - accuracy: 0.6283 - val_loss: 1.3174 - val_accuracy: 0.6467\n",
      "Epoch 39/50\n",
      "38/38 [==============================] - 1s 38ms/step - loss: 1.3734 - accuracy: 0.6183 - val_loss: 1.3006 - val_accuracy: 0.6483\n",
      "Epoch 40/50\n",
      "38/38 [==============================] - 1s 36ms/step - loss: 1.3676 - accuracy: 0.6350 - val_loss: 1.2842 - val_accuracy: 0.6517\n",
      "Epoch 41/50\n",
      "38/38 [==============================] - 1s 35ms/step - loss: 1.3645 - accuracy: 0.6308 - val_loss: 1.2686 - val_accuracy: 0.6583\n",
      "Epoch 42/50\n",
      "38/38 [==============================] - 2s 46ms/step - loss: 1.3294 - accuracy: 0.6342 - val_loss: 1.2548 - val_accuracy: 0.6600\n",
      "Epoch 43/50\n",
      "38/38 [==============================] - 1s 36ms/step - loss: 1.3100 - accuracy: 0.6350 - val_loss: 1.2398 - val_accuracy: 0.6633\n",
      "Epoch 44/50\n",
      "38/38 [==============================] - 1s 36ms/step - loss: 1.3017 - accuracy: 0.6325 - val_loss: 1.2256 - val_accuracy: 0.6650\n",
      "Epoch 45/50\n",
      "38/38 [==============================] - 1s 37ms/step - loss: 1.2722 - accuracy: 0.6550 - val_loss: 1.2123 - val_accuracy: 0.6650\n",
      "Epoch 46/50\n",
      "38/38 [==============================] - 2s 41ms/step - loss: 1.2565 - accuracy: 0.6492 - val_loss: 1.1999 - val_accuracy: 0.6700\n",
      "Epoch 47/50\n",
      "38/38 [==============================] - 1s 36ms/step - loss: 1.2543 - accuracy: 0.6592 - val_loss: 1.1869 - val_accuracy: 0.6683\n",
      "Epoch 48/50\n",
      "38/38 [==============================] - 1s 36ms/step - loss: 1.2326 - accuracy: 0.6625 - val_loss: 1.1758 - val_accuracy: 0.6750\n",
      "Epoch 49/50\n",
      "38/38 [==============================] - 1s 38ms/step - loss: 1.2261 - accuracy: 0.6575 - val_loss: 1.1640 - val_accuracy: 0.6767\n",
      "Epoch 50/50\n",
      "38/38 [==============================] - 1s 34ms/step - loss: 1.2276 - accuracy: 0.6458 - val_loss: 1.1527 - val_accuracy: 0.6750\n",
      "Epoch 1/50\n"
     ]
    },
    {
     "name": "stderr",
     "output_type": "stream",
     "text": [
      "2023-05-11 17:04:58.979773: I tensorflow/core/grappler/optimizers/custom_graph_optimizer_registry.cc:113] Plugin optimizer for device_type GPU is enabled.\n"
     ]
    },
    {
     "name": "stdout",
     "output_type": "stream",
     "text": [
      "38/38 [==============================] - ETA: 0s - loss: 3.0252 - accuracy: 0.1025"
     ]
    },
    {
     "name": "stderr",
     "output_type": "stream",
     "text": [
      "2023-05-11 17:05:00.772371: I tensorflow/core/grappler/optimizers/custom_graph_optimizer_registry.cc:113] Plugin optimizer for device_type GPU is enabled.\n"
     ]
    },
    {
     "name": "stdout",
     "output_type": "stream",
     "text": [
      "38/38 [==============================] - 3s 47ms/step - loss: 3.0252 - accuracy: 0.1025 - val_loss: 2.7691 - val_accuracy: 0.1150\n",
      "Epoch 2/50\n",
      "38/38 [==============================] - 1s 33ms/step - loss: 2.9821 - accuracy: 0.1133 - val_loss: 2.7366 - val_accuracy: 0.0967\n",
      "Epoch 3/50\n",
      "38/38 [==============================] - 2s 44ms/step - loss: 2.8994 - accuracy: 0.1283 - val_loss: 2.7057 - val_accuracy: 0.0900\n",
      "Epoch 4/50\n",
      "38/38 [==============================] - 1s 34ms/step - loss: 2.8109 - accuracy: 0.1317 - val_loss: 2.6768 - val_accuracy: 0.0883\n",
      "Epoch 5/50\n",
      "38/38 [==============================] - 1s 36ms/step - loss: 2.7273 - accuracy: 0.1525 - val_loss: 2.6508 - val_accuracy: 0.0867\n",
      "Epoch 1/50\n"
     ]
    },
    {
     "name": "stderr",
     "output_type": "stream",
     "text": [
      "2023-05-11 17:05:07.442134: I tensorflow/core/grappler/optimizers/custom_graph_optimizer_registry.cc:113] Plugin optimizer for device_type GPU is enabled.\n"
     ]
    },
    {
     "name": "stdout",
     "output_type": "stream",
     "text": [
      "38/38 [==============================] - ETA: 0s - loss: 3.4721 - accuracy: 0.0275"
     ]
    },
    {
     "name": "stderr",
     "output_type": "stream",
     "text": [
      "2023-05-11 17:05:09.080633: I tensorflow/core/grappler/optimizers/custom_graph_optimizer_registry.cc:113] Plugin optimizer for device_type GPU is enabled.\n"
     ]
    },
    {
     "name": "stdout",
     "output_type": "stream",
     "text": [
      "38/38 [==============================] - 2s 46ms/step - loss: 3.4721 - accuracy: 0.0275 - val_loss: 2.8091 - val_accuracy: 0.0000e+00\n",
      "Epoch 2/50\n",
      "38/38 [==============================] - 1s 36ms/step - loss: 3.3897 - accuracy: 0.0267 - val_loss: 2.8007 - val_accuracy: 0.0017\n",
      "Epoch 3/50\n",
      "38/38 [==============================] - 1s 35ms/step - loss: 3.3075 - accuracy: 0.0383 - val_loss: 2.7817 - val_accuracy: 0.0067\n",
      "Epoch 4/50\n",
      "38/38 [==============================] - 1s 35ms/step - loss: 3.1883 - accuracy: 0.0408 - val_loss: 2.7585 - val_accuracy: 0.0133\n",
      "Epoch 5/50\n",
      "38/38 [==============================] - 1s 35ms/step - loss: 3.1253 - accuracy: 0.0625 - val_loss: 2.7350 - val_accuracy: 0.0333\n",
      "Epoch 6/50\n",
      "38/38 [==============================] - 1s 35ms/step - loss: 3.0366 - accuracy: 0.0675 - val_loss: 2.7116 - val_accuracy: 0.0533\n",
      "Epoch 7/50\n",
      "38/38 [==============================] - 1s 37ms/step - loss: 2.9345 - accuracy: 0.0883 - val_loss: 2.6835 - val_accuracy: 0.0683\n",
      "Epoch 8/50\n",
      "38/38 [==============================] - 1s 39ms/step - loss: 2.8705 - accuracy: 0.1008 - val_loss: 2.6488 - val_accuracy: 0.0867\n",
      "Epoch 9/50\n",
      "38/38 [==============================] - 1s 36ms/step - loss: 2.7679 - accuracy: 0.1158 - val_loss: 2.6071 - val_accuracy: 0.0983\n",
      "Epoch 10/50\n",
      "38/38 [==============================] - 1s 35ms/step - loss: 2.7109 - accuracy: 0.1358 - val_loss: 2.5558 - val_accuracy: 0.1233\n",
      "Epoch 11/50\n",
      "38/38 [==============================] - 1s 34ms/step - loss: 2.6510 - accuracy: 0.1442 - val_loss: 2.4978 - val_accuracy: 0.1567\n",
      "Epoch 12/50\n",
      "38/38 [==============================] - 1s 34ms/step - loss: 2.5583 - accuracy: 0.1783 - val_loss: 2.4339 - val_accuracy: 0.1900\n",
      "Epoch 13/50\n",
      "38/38 [==============================] - 1s 38ms/step - loss: 2.4879 - accuracy: 0.1942 - val_loss: 2.3692 - val_accuracy: 0.2367\n",
      "Epoch 14/50\n",
      "38/38 [==============================] - 1s 37ms/step - loss: 2.4228 - accuracy: 0.2275 - val_loss: 2.3032 - val_accuracy: 0.2617\n",
      "Epoch 15/50\n",
      "38/38 [==============================] - 1s 39ms/step - loss: 2.3877 - accuracy: 0.2117 - val_loss: 2.2396 - val_accuracy: 0.2900\n",
      "Epoch 16/50\n",
      "38/38 [==============================] - 1s 36ms/step - loss: 2.2754 - accuracy: 0.2792 - val_loss: 2.1793 - val_accuracy: 0.3250\n",
      "Epoch 17/50\n",
      "38/38 [==============================] - 1s 34ms/step - loss: 2.2631 - accuracy: 0.2817 - val_loss: 2.1240 - val_accuracy: 0.3400\n",
      "Epoch 18/50\n",
      "38/38 [==============================] - 1s 39ms/step - loss: 2.1979 - accuracy: 0.3033 - val_loss: 2.0714 - val_accuracy: 0.3650\n",
      "Epoch 19/50\n",
      "38/38 [==============================] - 1s 33ms/step - loss: 2.1585 - accuracy: 0.3092 - val_loss: 2.0207 - val_accuracy: 0.3950\n",
      "Epoch 20/50\n",
      "38/38 [==============================] - 1s 37ms/step - loss: 2.0900 - accuracy: 0.3383 - val_loss: 1.9726 - val_accuracy: 0.4133\n",
      "Epoch 21/50\n",
      "38/38 [==============================] - 1s 37ms/step - loss: 2.0616 - accuracy: 0.3683 - val_loss: 1.9282 - val_accuracy: 0.4383\n",
      "Epoch 22/50\n",
      "38/38 [==============================] - 1s 37ms/step - loss: 2.0107 - accuracy: 0.3700 - val_loss: 1.8861 - val_accuracy: 0.4517\n",
      "Epoch 23/50\n",
      "38/38 [==============================] - 1s 34ms/step - loss: 1.9673 - accuracy: 0.3925 - val_loss: 1.8452 - val_accuracy: 0.4633\n",
      "Epoch 24/50\n",
      "38/38 [==============================] - 1s 36ms/step - loss: 1.9148 - accuracy: 0.4033 - val_loss: 1.8049 - val_accuracy: 0.4750\n",
      "Epoch 25/50\n",
      "38/38 [==============================] - 1s 35ms/step - loss: 1.9043 - accuracy: 0.4150 - val_loss: 1.7677 - val_accuracy: 0.4917\n",
      "Epoch 26/50\n",
      "38/38 [==============================] - 1s 35ms/step - loss: 1.8443 - accuracy: 0.4375 - val_loss: 1.7318 - val_accuracy: 0.5050\n",
      "Epoch 27/50\n",
      "38/38 [==============================] - 1s 38ms/step - loss: 1.8162 - accuracy: 0.4400 - val_loss: 1.6986 - val_accuracy: 0.5117\n",
      "Epoch 28/50\n",
      "38/38 [==============================] - 1s 34ms/step - loss: 1.7863 - accuracy: 0.4658 - val_loss: 1.6661 - val_accuracy: 0.5217\n",
      "Epoch 29/50\n",
      "38/38 [==============================] - 1s 39ms/step - loss: 1.7676 - accuracy: 0.4767 - val_loss: 1.6347 - val_accuracy: 0.5367\n",
      "Epoch 30/50\n",
      "38/38 [==============================] - 2s 64ms/step - loss: 1.7312 - accuracy: 0.4908 - val_loss: 1.6054 - val_accuracy: 0.5467\n",
      "Epoch 31/50\n",
      "38/38 [==============================] - 2s 50ms/step - loss: 1.6794 - accuracy: 0.5000 - val_loss: 1.5779 - val_accuracy: 0.5567\n",
      "Epoch 32/50\n",
      "38/38 [==============================] - 1s 34ms/step - loss: 1.6573 - accuracy: 0.5200 - val_loss: 1.5514 - val_accuracy: 0.5733\n",
      "Epoch 33/50\n",
      "38/38 [==============================] - 1s 34ms/step - loss: 1.6177 - accuracy: 0.5300 - val_loss: 1.5257 - val_accuracy: 0.5800\n",
      "Epoch 34/50\n",
      "38/38 [==============================] - 2s 49ms/step - loss: 1.6179 - accuracy: 0.5425 - val_loss: 1.5011 - val_accuracy: 0.5900\n",
      "Epoch 35/50\n",
      "38/38 [==============================] - 1s 35ms/step - loss: 1.5940 - accuracy: 0.5242 - val_loss: 1.4775 - val_accuracy: 0.5967\n",
      "Epoch 36/50\n",
      "38/38 [==============================] - 1s 38ms/step - loss: 1.5782 - accuracy: 0.5367 - val_loss: 1.4544 - val_accuracy: 0.5983\n",
      "Epoch 37/50\n",
      "38/38 [==============================] - 1s 39ms/step - loss: 1.5345 - accuracy: 0.5592 - val_loss: 1.4335 - val_accuracy: 0.6033\n",
      "Epoch 38/50\n",
      "38/38 [==============================] - 1s 37ms/step - loss: 1.5276 - accuracy: 0.5500 - val_loss: 1.4126 - val_accuracy: 0.6083\n",
      "Epoch 39/50\n",
      "38/38 [==============================] - 1s 34ms/step - loss: 1.4943 - accuracy: 0.5842 - val_loss: 1.3928 - val_accuracy: 0.6133\n",
      "Epoch 40/50\n",
      "38/38 [==============================] - 1s 38ms/step - loss: 1.4617 - accuracy: 0.5792 - val_loss: 1.3741 - val_accuracy: 0.6183\n",
      "Epoch 41/50\n",
      "38/38 [==============================] - 1s 36ms/step - loss: 1.4477 - accuracy: 0.5833 - val_loss: 1.3565 - val_accuracy: 0.6250\n",
      "Epoch 42/50\n",
      "38/38 [==============================] - 1s 36ms/step - loss: 1.4510 - accuracy: 0.5767 - val_loss: 1.3394 - val_accuracy: 0.6350\n",
      "Epoch 43/50\n",
      "38/38 [==============================] - 1s 38ms/step - loss: 1.4457 - accuracy: 0.5925 - val_loss: 1.3223 - val_accuracy: 0.6417\n",
      "Epoch 44/50\n",
      "38/38 [==============================] - 1s 39ms/step - loss: 1.4092 - accuracy: 0.5983 - val_loss: 1.3048 - val_accuracy: 0.6450\n",
      "Epoch 45/50\n",
      "38/38 [==============================] - 1s 34ms/step - loss: 1.3909 - accuracy: 0.5958 - val_loss: 1.2882 - val_accuracy: 0.6500\n",
      "Epoch 46/50\n",
      "38/38 [==============================] - 2s 40ms/step - loss: 1.3603 - accuracy: 0.6067 - val_loss: 1.2734 - val_accuracy: 0.6567\n",
      "Epoch 47/50\n",
      "38/38 [==============================] - 1s 35ms/step - loss: 1.3514 - accuracy: 0.6108 - val_loss: 1.2589 - val_accuracy: 0.6600\n",
      "Epoch 48/50\n",
      "38/38 [==============================] - 2s 40ms/step - loss: 1.3504 - accuracy: 0.6117 - val_loss: 1.2452 - val_accuracy: 0.6600\n",
      "Epoch 49/50\n",
      "38/38 [==============================] - 1s 39ms/step - loss: 1.3407 - accuracy: 0.6192 - val_loss: 1.2318 - val_accuracy: 0.6633\n",
      "Epoch 50/50\n",
      "38/38 [==============================] - 1s 33ms/step - loss: 1.3273 - accuracy: 0.6183 - val_loss: 1.2181 - val_accuracy: 0.6633\n",
      "trials for model 5: 0.4750000114242236\n",
      "Epoch 1/50\n"
     ]
    },
    {
     "name": "stderr",
     "output_type": "stream",
     "text": [
      "2023-05-11 17:06:19.769219: I tensorflow/core/grappler/optimizers/custom_graph_optimizer_registry.cc:113] Plugin optimizer for device_type GPU is enabled.\n"
     ]
    },
    {
     "name": "stdout",
     "output_type": "stream",
     "text": [
      "38/38 [==============================] - ETA: 0s - loss: 3.4433 - accuracy: 0.0425"
     ]
    },
    {
     "name": "stderr",
     "output_type": "stream",
     "text": [
      "2023-05-11 17:06:21.363571: I tensorflow/core/grappler/optimizers/custom_graph_optimizer_registry.cc:113] Plugin optimizer for device_type GPU is enabled.\n"
     ]
    },
    {
     "name": "stdout",
     "output_type": "stream",
     "text": [
      "38/38 [==============================] - 2s 43ms/step - loss: 3.4433 - accuracy: 0.0425 - val_loss: 2.8593 - val_accuracy: 0.0050\n",
      "Epoch 2/50\n",
      "38/38 [==============================] - 1s 33ms/step - loss: 3.3563 - accuracy: 0.0525 - val_loss: 2.8940 - val_accuracy: 0.0017\n",
      "Epoch 3/50\n",
      "38/38 [==============================] - 1s 34ms/step - loss: 3.3230 - accuracy: 0.0600 - val_loss: 2.9130 - val_accuracy: 0.0033\n",
      "Epoch 4/50\n",
      "38/38 [==============================] - 1s 38ms/step - loss: 3.2554 - accuracy: 0.0642 - val_loss: 2.9241 - val_accuracy: 0.0033\n",
      "Epoch 5/50\n",
      "38/38 [==============================] - 1s 33ms/step - loss: 3.1790 - accuracy: 0.0750 - val_loss: 2.9298 - val_accuracy: 0.0050\n",
      "Epoch 1/50\n"
     ]
    },
    {
     "name": "stderr",
     "output_type": "stream",
     "text": [
      "2023-05-11 17:06:27.729063: I tensorflow/core/grappler/optimizers/custom_graph_optimizer_registry.cc:113] Plugin optimizer for device_type GPU is enabled.\n"
     ]
    },
    {
     "name": "stdout",
     "output_type": "stream",
     "text": [
      "38/38 [==============================] - ETA: 0s - loss: 3.2648 - accuracy: 0.0475"
     ]
    },
    {
     "name": "stderr",
     "output_type": "stream",
     "text": [
      "2023-05-11 17:06:29.333796: I tensorflow/core/grappler/optimizers/custom_graph_optimizer_registry.cc:113] Plugin optimizer for device_type GPU is enabled.\n"
     ]
    },
    {
     "name": "stdout",
     "output_type": "stream",
     "text": [
      "38/38 [==============================] - 2s 44ms/step - loss: 3.2648 - accuracy: 0.0475 - val_loss: 2.8311 - val_accuracy: 0.0000e+00\n",
      "Epoch 2/50\n",
      "38/38 [==============================] - 1s 31ms/step - loss: 3.1796 - accuracy: 0.0492 - val_loss: 2.8579 - val_accuracy: 0.0000e+00\n",
      "Epoch 3/50\n",
      "38/38 [==============================] - 1s 34ms/step - loss: 3.1286 - accuracy: 0.0608 - val_loss: 2.8756 - val_accuracy: 0.0000e+00\n",
      "Epoch 4/50\n",
      "38/38 [==============================] - 1s 36ms/step - loss: 3.0169 - accuracy: 0.0633 - val_loss: 2.8815 - val_accuracy: 0.0000e+00\n",
      "Epoch 5/50\n",
      "38/38 [==============================] - 1s 32ms/step - loss: 2.9704 - accuracy: 0.0792 - val_loss: 2.8748 - val_accuracy: 0.0017\n",
      "Epoch 6/50\n",
      "38/38 [==============================] - 1s 32ms/step - loss: 2.9039 - accuracy: 0.0908 - val_loss: 2.8525 - val_accuracy: 0.0100\n",
      "Epoch 7/50\n",
      "38/38 [==============================] - 1s 35ms/step - loss: 2.8356 - accuracy: 0.1150 - val_loss: 2.8184 - val_accuracy: 0.0233\n",
      "Epoch 8/50\n",
      "38/38 [==============================] - 1s 33ms/step - loss: 2.7755 - accuracy: 0.1050 - val_loss: 2.7741 - val_accuracy: 0.0467\n",
      "Epoch 9/50\n",
      "38/38 [==============================] - 1s 32ms/step - loss: 2.7223 - accuracy: 0.1333 - val_loss: 2.7191 - val_accuracy: 0.0800\n",
      "Epoch 10/50\n",
      "38/38 [==============================] - 1s 36ms/step - loss: 2.6517 - accuracy: 0.1575 - val_loss: 2.6533 - val_accuracy: 0.1200\n",
      "Epoch 11/50\n",
      "38/38 [==============================] - 1s 34ms/step - loss: 2.5878 - accuracy: 0.1767 - val_loss: 2.5812 - val_accuracy: 0.1550\n",
      "Epoch 12/50\n",
      "38/38 [==============================] - 1s 32ms/step - loss: 2.5518 - accuracy: 0.1975 - val_loss: 2.5074 - val_accuracy: 0.1917\n",
      "Epoch 13/50\n",
      "38/38 [==============================] - 1s 34ms/step - loss: 2.4714 - accuracy: 0.2058 - val_loss: 2.4374 - val_accuracy: 0.2217\n",
      "Epoch 14/50\n",
      "38/38 [==============================] - 1s 34ms/step - loss: 2.4190 - accuracy: 0.2258 - val_loss: 2.3710 - val_accuracy: 0.2483\n",
      "Epoch 15/50\n",
      "38/38 [==============================] - 1s 33ms/step - loss: 2.3859 - accuracy: 0.2225 - val_loss: 2.3096 - val_accuracy: 0.2783\n",
      "Epoch 16/50\n",
      "38/38 [==============================] - 1s 34ms/step - loss: 2.3429 - accuracy: 0.2517 - val_loss: 2.2529 - val_accuracy: 0.2950\n",
      "Epoch 17/50\n",
      "38/38 [==============================] - 1s 32ms/step - loss: 2.2935 - accuracy: 0.2817 - val_loss: 2.2003 - val_accuracy: 0.3233\n",
      "Epoch 18/50\n",
      "38/38 [==============================] - 1s 33ms/step - loss: 2.2452 - accuracy: 0.3117 - val_loss: 2.1502 - val_accuracy: 0.3517\n",
      "Epoch 19/50\n",
      "38/38 [==============================] - 1s 32ms/step - loss: 2.1836 - accuracy: 0.3217 - val_loss: 2.1033 - val_accuracy: 0.3667\n",
      "Epoch 20/50\n",
      "38/38 [==============================] - 1s 38ms/step - loss: 2.1302 - accuracy: 0.3400 - val_loss: 2.0587 - val_accuracy: 0.3800\n",
      "Epoch 21/50\n",
      "38/38 [==============================] - 1s 32ms/step - loss: 2.0895 - accuracy: 0.3450 - val_loss: 2.0147 - val_accuracy: 0.4067\n",
      "Epoch 22/50\n",
      "38/38 [==============================] - 2s 44ms/step - loss: 2.0462 - accuracy: 0.3842 - val_loss: 1.9730 - val_accuracy: 0.4217\n",
      "Epoch 23/50\n",
      "38/38 [==============================] - 1s 34ms/step - loss: 2.0321 - accuracy: 0.3675 - val_loss: 1.9318 - val_accuracy: 0.4417\n",
      "Epoch 24/50\n",
      "38/38 [==============================] - 1s 36ms/step - loss: 1.9724 - accuracy: 0.3875 - val_loss: 1.8933 - val_accuracy: 0.4517\n",
      "Epoch 25/50\n",
      "38/38 [==============================] - 1s 32ms/step - loss: 1.9520 - accuracy: 0.4108 - val_loss: 1.8558 - val_accuracy: 0.4650\n",
      "Epoch 26/50\n",
      "38/38 [==============================] - 1s 37ms/step - loss: 1.9099 - accuracy: 0.4317 - val_loss: 1.8204 - val_accuracy: 0.4733\n",
      "Epoch 27/50\n",
      "38/38 [==============================] - 1s 32ms/step - loss: 1.8934 - accuracy: 0.4308 - val_loss: 1.7864 - val_accuracy: 0.4867\n",
      "Epoch 28/50\n",
      "38/38 [==============================] - 1s 35ms/step - loss: 1.8425 - accuracy: 0.4525 - val_loss: 1.7535 - val_accuracy: 0.5000\n",
      "Epoch 29/50\n",
      "38/38 [==============================] - 1s 33ms/step - loss: 1.8670 - accuracy: 0.4392 - val_loss: 1.7205 - val_accuracy: 0.5100\n",
      "Epoch 30/50\n",
      "38/38 [==============================] - 2s 43ms/step - loss: 1.7933 - accuracy: 0.4533 - val_loss: 1.6899 - val_accuracy: 0.5200\n",
      "Epoch 31/50\n",
      "38/38 [==============================] - 1s 34ms/step - loss: 1.7653 - accuracy: 0.4767 - val_loss: 1.6598 - val_accuracy: 0.5283\n",
      "Epoch 32/50\n",
      "38/38 [==============================] - 1s 34ms/step - loss: 1.7402 - accuracy: 0.5042 - val_loss: 1.6313 - val_accuracy: 0.5400\n",
      "Epoch 33/50\n",
      "38/38 [==============================] - 1s 38ms/step - loss: 1.7288 - accuracy: 0.5008 - val_loss: 1.6042 - val_accuracy: 0.5517\n",
      "Epoch 34/50\n",
      "38/38 [==============================] - 2s 65ms/step - loss: 1.6857 - accuracy: 0.5108 - val_loss: 1.5777 - val_accuracy: 0.5667\n",
      "Epoch 35/50\n",
      "38/38 [==============================] - 3s 68ms/step - loss: 1.6716 - accuracy: 0.5258 - val_loss: 1.5525 - val_accuracy: 0.5750\n",
      "Epoch 36/50\n",
      "38/38 [==============================] - 1s 34ms/step - loss: 1.6402 - accuracy: 0.5383 - val_loss: 1.5283 - val_accuracy: 0.5917\n",
      "Epoch 37/50\n",
      "38/38 [==============================] - 1s 37ms/step - loss: 1.6054 - accuracy: 0.5383 - val_loss: 1.5053 - val_accuracy: 0.6000\n",
      "Epoch 38/50\n",
      "38/38 [==============================] - 1s 32ms/step - loss: 1.5891 - accuracy: 0.5442 - val_loss: 1.4829 - val_accuracy: 0.6117\n",
      "Epoch 39/50\n",
      "38/38 [==============================] - 1s 34ms/step - loss: 1.5705 - accuracy: 0.5500 - val_loss: 1.4603 - val_accuracy: 0.6133\n",
      "Epoch 40/50\n",
      "38/38 [==============================] - 1s 34ms/step - loss: 1.5561 - accuracy: 0.5717 - val_loss: 1.4387 - val_accuracy: 0.6150\n",
      "Epoch 41/50\n",
      "38/38 [==============================] - 2s 40ms/step - loss: 1.5254 - accuracy: 0.5633 - val_loss: 1.4186 - val_accuracy: 0.6233\n",
      "Epoch 42/50\n",
      "38/38 [==============================] - 1s 33ms/step - loss: 1.5111 - accuracy: 0.5658 - val_loss: 1.3992 - val_accuracy: 0.6283\n",
      "Epoch 43/50\n",
      "38/38 [==============================] - 1s 37ms/step - loss: 1.4902 - accuracy: 0.5850 - val_loss: 1.3796 - val_accuracy: 0.6367\n",
      "Epoch 44/50\n",
      "38/38 [==============================] - 1s 34ms/step - loss: 1.4593 - accuracy: 0.6025 - val_loss: 1.3616 - val_accuracy: 0.6417\n",
      "Epoch 45/50\n",
      "38/38 [==============================] - 1s 33ms/step - loss: 1.4538 - accuracy: 0.5925 - val_loss: 1.3441 - val_accuracy: 0.6483\n",
      "Epoch 46/50\n",
      "38/38 [==============================] - 1s 35ms/step - loss: 1.4446 - accuracy: 0.5908 - val_loss: 1.3273 - val_accuracy: 0.6550\n",
      "Epoch 47/50\n",
      "38/38 [==============================] - 1s 32ms/step - loss: 1.4271 - accuracy: 0.5900 - val_loss: 1.3115 - val_accuracy: 0.6550\n",
      "Epoch 48/50\n",
      "38/38 [==============================] - 1s 37ms/step - loss: 1.3824 - accuracy: 0.6192 - val_loss: 1.2961 - val_accuracy: 0.6550\n",
      "Epoch 49/50\n",
      "38/38 [==============================] - 1s 34ms/step - loss: 1.3927 - accuracy: 0.6008 - val_loss: 1.2813 - val_accuracy: 0.6583\n",
      "Epoch 50/50\n",
      "38/38 [==============================] - 1s 33ms/step - loss: 1.3803 - accuracy: 0.6042 - val_loss: 1.2662 - val_accuracy: 0.6617\n",
      "Epoch 1/50\n"
     ]
    },
    {
     "name": "stderr",
     "output_type": "stream",
     "text": [
      "2023-05-11 17:07:37.389941: I tensorflow/core/grappler/optimizers/custom_graph_optimizer_registry.cc:113] Plugin optimizer for device_type GPU is enabled.\n"
     ]
    },
    {
     "name": "stdout",
     "output_type": "stream",
     "text": [
      "38/38 [==============================] - ETA: 0s - loss: 3.7871 - accuracy: 0.0150"
     ]
    },
    {
     "name": "stderr",
     "output_type": "stream",
     "text": [
      "2023-05-11 17:07:39.009512: I tensorflow/core/grappler/optimizers/custom_graph_optimizer_registry.cc:113] Plugin optimizer for device_type GPU is enabled.\n"
     ]
    },
    {
     "name": "stdout",
     "output_type": "stream",
     "text": [
      "38/38 [==============================] - 2s 44ms/step - loss: 3.7871 - accuracy: 0.0150 - val_loss: 2.8515 - val_accuracy: 0.0000e+00\n",
      "Epoch 2/50\n",
      "38/38 [==============================] - 1s 29ms/step - loss: 3.6848 - accuracy: 0.0183 - val_loss: 2.8833 - val_accuracy: 0.0000e+00\n",
      "Epoch 3/50\n",
      "38/38 [==============================] - 1s 33ms/step - loss: 3.6142 - accuracy: 0.0208 - val_loss: 2.9094 - val_accuracy: 0.0000e+00\n",
      "Epoch 4/50\n",
      "38/38 [==============================] - 1s 34ms/step - loss: 3.5487 - accuracy: 0.0283 - val_loss: 2.9284 - val_accuracy: 0.0000e+00\n",
      "Epoch 5/50\n",
      "38/38 [==============================] - 1s 33ms/step - loss: 3.4370 - accuracy: 0.0317 - val_loss: 2.9411 - val_accuracy: 0.0000e+00\n",
      "trials for model 6: 0.22222223039716482\n",
      "Epoch 1/50\n"
     ]
    },
    {
     "name": "stderr",
     "output_type": "stream",
     "text": [
      "2023-05-11 17:07:45.014392: I tensorflow/core/grappler/optimizers/custom_graph_optimizer_registry.cc:113] Plugin optimizer for device_type GPU is enabled.\n"
     ]
    },
    {
     "name": "stdout",
     "output_type": "stream",
     "text": [
      "38/38 [==============================] - ETA: 0s - loss: 3.3054 - accuracy: 0.0825"
     ]
    },
    {
     "name": "stderr",
     "output_type": "stream",
     "text": [
      "2023-05-11 17:07:46.675972: I tensorflow/core/grappler/optimizers/custom_graph_optimizer_registry.cc:113] Plugin optimizer for device_type GPU is enabled.\n"
     ]
    },
    {
     "name": "stdout",
     "output_type": "stream",
     "text": [
      "38/38 [==============================] - 3s 45ms/step - loss: 3.3054 - accuracy: 0.0825 - val_loss: 2.8017 - val_accuracy: 0.0450\n",
      "Epoch 2/50\n",
      "38/38 [==============================] - 1s 24ms/step - loss: 3.2541 - accuracy: 0.0892 - val_loss: 2.7950 - val_accuracy: 0.0483\n",
      "Epoch 3/50\n",
      "38/38 [==============================] - 1s 27ms/step - loss: 3.2231 - accuracy: 0.0850 - val_loss: 2.7897 - val_accuracy: 0.0633\n",
      "Epoch 4/50\n",
      "38/38 [==============================] - 1s 23ms/step - loss: 3.2035 - accuracy: 0.0958 - val_loss: 2.7864 - val_accuracy: 0.0850\n",
      "Epoch 5/50\n",
      "38/38 [==============================] - 1s 23ms/step - loss: 3.1404 - accuracy: 0.0950 - val_loss: 2.7846 - val_accuracy: 0.1050\n",
      "Epoch 6/50\n",
      "38/38 [==============================] - 1s 24ms/step - loss: 3.1112 - accuracy: 0.0975 - val_loss: 2.7835 - val_accuracy: 0.1167\n",
      "Epoch 7/50\n",
      "38/38 [==============================] - 1s 23ms/step - loss: 3.0862 - accuracy: 0.1000 - val_loss: 2.7806 - val_accuracy: 0.1183\n",
      "Epoch 8/50\n",
      "38/38 [==============================] - 1s 23ms/step - loss: 3.0396 - accuracy: 0.0967 - val_loss: 2.7774 - val_accuracy: 0.1150\n",
      "Epoch 9/50\n",
      "38/38 [==============================] - 1s 23ms/step - loss: 3.0143 - accuracy: 0.1158 - val_loss: 2.7702 - val_accuracy: 0.1183\n",
      "Epoch 10/50\n",
      "38/38 [==============================] - 1s 22ms/step - loss: 2.9653 - accuracy: 0.1075 - val_loss: 2.7593 - val_accuracy: 0.1267\n",
      "Epoch 11/50\n",
      "38/38 [==============================] - 1s 22ms/step - loss: 2.9610 - accuracy: 0.1083 - val_loss: 2.7442 - val_accuracy: 0.1317\n",
      "Epoch 12/50\n",
      "38/38 [==============================] - 1s 23ms/step - loss: 2.9352 - accuracy: 0.1133 - val_loss: 2.7300 - val_accuracy: 0.1317\n",
      "Epoch 13/50\n",
      "38/38 [==============================] - 1s 22ms/step - loss: 2.8777 - accuracy: 0.1333 - val_loss: 2.7194 - val_accuracy: 0.1400\n",
      "Epoch 14/50\n",
      "38/38 [==============================] - 1s 22ms/step - loss: 2.8780 - accuracy: 0.1217 - val_loss: 2.7091 - val_accuracy: 0.1450\n",
      "Epoch 15/50\n",
      "38/38 [==============================] - 1s 22ms/step - loss: 2.8077 - accuracy: 0.1475 - val_loss: 2.6972 - val_accuracy: 0.1467\n",
      "Epoch 16/50\n",
      "38/38 [==============================] - 1s 22ms/step - loss: 2.7917 - accuracy: 0.1467 - val_loss: 2.6823 - val_accuracy: 0.1483\n",
      "Epoch 17/50\n",
      "38/38 [==============================] - 1s 24ms/step - loss: 2.7815 - accuracy: 0.1450 - val_loss: 2.6645 - val_accuracy: 0.1500\n",
      "Epoch 18/50\n",
      "38/38 [==============================] - 1s 23ms/step - loss: 2.7515 - accuracy: 0.1500 - val_loss: 2.6441 - val_accuracy: 0.1550\n",
      "Epoch 19/50\n",
      "38/38 [==============================] - 1s 22ms/step - loss: 2.7178 - accuracy: 0.1542 - val_loss: 2.6223 - val_accuracy: 0.1650\n",
      "Epoch 20/50\n",
      "38/38 [==============================] - 1s 23ms/step - loss: 2.6923 - accuracy: 0.1675 - val_loss: 2.5990 - val_accuracy: 0.1717\n",
      "Epoch 21/50\n",
      "38/38 [==============================] - 1s 22ms/step - loss: 2.6679 - accuracy: 0.1617 - val_loss: 2.5734 - val_accuracy: 0.1783\n",
      "Epoch 22/50\n",
      "38/38 [==============================] - 1s 23ms/step - loss: 2.6383 - accuracy: 0.1600 - val_loss: 2.5468 - val_accuracy: 0.1867\n",
      "Epoch 23/50\n",
      "38/38 [==============================] - 1s 22ms/step - loss: 2.6187 - accuracy: 0.1650 - val_loss: 2.5207 - val_accuracy: 0.1983\n",
      "Epoch 24/50\n",
      "38/38 [==============================] - 1s 22ms/step - loss: 2.5753 - accuracy: 0.1767 - val_loss: 2.4942 - val_accuracy: 0.2050\n",
      "Epoch 25/50\n",
      "38/38 [==============================] - 1s 23ms/step - loss: 2.5386 - accuracy: 0.1792 - val_loss: 2.4681 - val_accuracy: 0.2150\n",
      "Epoch 26/50\n",
      "38/38 [==============================] - 1s 22ms/step - loss: 2.5019 - accuracy: 0.1958 - val_loss: 2.4419 - val_accuracy: 0.2233\n",
      "Epoch 27/50\n",
      "38/38 [==============================] - 1s 22ms/step - loss: 2.4798 - accuracy: 0.1883 - val_loss: 2.4167 - val_accuracy: 0.2317\n",
      "Epoch 28/50\n",
      "38/38 [==============================] - 1s 23ms/step - loss: 2.4853 - accuracy: 0.2067 - val_loss: 2.3910 - val_accuracy: 0.2367\n",
      "Epoch 29/50\n",
      "38/38 [==============================] - 1s 22ms/step - loss: 2.4345 - accuracy: 0.2225 - val_loss: 2.3657 - val_accuracy: 0.2500\n",
      "Epoch 30/50\n",
      "38/38 [==============================] - 1s 23ms/step - loss: 2.4375 - accuracy: 0.2008 - val_loss: 2.3423 - val_accuracy: 0.2567\n",
      "Epoch 31/50\n",
      "38/38 [==============================] - 1s 27ms/step - loss: 2.3985 - accuracy: 0.2242 - val_loss: 2.3183 - val_accuracy: 0.2683\n",
      "Epoch 32/50\n",
      "38/38 [==============================] - 1s 23ms/step - loss: 2.3762 - accuracy: 0.2408 - val_loss: 2.2940 - val_accuracy: 0.2783\n",
      "Epoch 33/50\n",
      "38/38 [==============================] - 1s 22ms/step - loss: 2.3498 - accuracy: 0.2325 - val_loss: 2.2707 - val_accuracy: 0.2833\n",
      "Epoch 34/50\n",
      "38/38 [==============================] - 1s 23ms/step - loss: 2.3264 - accuracy: 0.2483 - val_loss: 2.2481 - val_accuracy: 0.2883\n",
      "Epoch 35/50\n",
      "38/38 [==============================] - 1s 22ms/step - loss: 2.3176 - accuracy: 0.2542 - val_loss: 2.2255 - val_accuracy: 0.2933\n",
      "Epoch 36/50\n",
      "38/38 [==============================] - 1s 22ms/step - loss: 2.2815 - accuracy: 0.2625 - val_loss: 2.2039 - val_accuracy: 0.3000\n",
      "Epoch 37/50\n",
      "38/38 [==============================] - 1s 22ms/step - loss: 2.2529 - accuracy: 0.2675 - val_loss: 2.1820 - val_accuracy: 0.3033\n",
      "Epoch 38/50\n",
      "38/38 [==============================] - 1s 22ms/step - loss: 2.2525 - accuracy: 0.2700 - val_loss: 2.1604 - val_accuracy: 0.3150\n",
      "Epoch 39/50\n",
      "38/38 [==============================] - 1s 22ms/step - loss: 2.2218 - accuracy: 0.2775 - val_loss: 2.1394 - val_accuracy: 0.3217\n",
      "Epoch 40/50\n",
      "38/38 [==============================] - 1s 22ms/step - loss: 2.1956 - accuracy: 0.2950 - val_loss: 2.1194 - val_accuracy: 0.3267\n",
      "Epoch 41/50\n",
      "38/38 [==============================] - 1s 22ms/step - loss: 2.1617 - accuracy: 0.2958 - val_loss: 2.1002 - val_accuracy: 0.3333\n",
      "Epoch 42/50\n",
      "38/38 [==============================] - 1s 22ms/step - loss: 2.1443 - accuracy: 0.3000 - val_loss: 2.0804 - val_accuracy: 0.3417\n",
      "Epoch 43/50\n",
      "38/38 [==============================] - 1s 22ms/step - loss: 2.1499 - accuracy: 0.3083 - val_loss: 2.0614 - val_accuracy: 0.3500\n",
      "Epoch 44/50\n",
      "38/38 [==============================] - 1s 22ms/step - loss: 2.1260 - accuracy: 0.3033 - val_loss: 2.0415 - val_accuracy: 0.3517\n",
      "Epoch 45/50\n",
      "38/38 [==============================] - 1s 24ms/step - loss: 2.0984 - accuracy: 0.3258 - val_loss: 2.0239 - val_accuracy: 0.3617\n",
      "Epoch 46/50\n",
      "38/38 [==============================] - 1s 22ms/step - loss: 2.0669 - accuracy: 0.3433 - val_loss: 2.0055 - val_accuracy: 0.3683\n",
      "Epoch 47/50\n",
      "38/38 [==============================] - 1s 22ms/step - loss: 2.0767 - accuracy: 0.3342 - val_loss: 1.9871 - val_accuracy: 0.3700\n",
      "Epoch 48/50\n",
      "38/38 [==============================] - 1s 22ms/step - loss: 2.0419 - accuracy: 0.3275 - val_loss: 1.9694 - val_accuracy: 0.3767\n",
      "Epoch 49/50\n",
      "38/38 [==============================] - 1s 22ms/step - loss: 2.0382 - accuracy: 0.3375 - val_loss: 1.9518 - val_accuracy: 0.3800\n",
      "Epoch 50/50\n",
      "38/38 [==============================] - 1s 22ms/step - loss: 2.0171 - accuracy: 0.3442 - val_loss: 1.9344 - val_accuracy: 0.3933\n",
      "Epoch 1/50\n"
     ]
    },
    {
     "name": "stderr",
     "output_type": "stream",
     "text": [
      "2023-05-11 17:08:30.223826: I tensorflow/core/grappler/optimizers/custom_graph_optimizer_registry.cc:113] Plugin optimizer for device_type GPU is enabled.\n"
     ]
    },
    {
     "name": "stdout",
     "output_type": "stream",
     "text": [
      "38/38 [==============================] - ETA: 0s - loss: 3.2020 - accuracy: 0.0533"
     ]
    },
    {
     "name": "stderr",
     "output_type": "stream",
     "text": [
      "2023-05-11 17:08:31.718690: I tensorflow/core/grappler/optimizers/custom_graph_optimizer_registry.cc:113] Plugin optimizer for device_type GPU is enabled.\n"
     ]
    },
    {
     "name": "stdout",
     "output_type": "stream",
     "text": [
      "38/38 [==============================] - 2s 39ms/step - loss: 3.2020 - accuracy: 0.0533 - val_loss: 2.7714 - val_accuracy: 0.0050\n",
      "Epoch 2/50\n",
      "38/38 [==============================] - 1s 23ms/step - loss: 3.1431 - accuracy: 0.0517 - val_loss: 2.7455 - val_accuracy: 0.0000e+00\n",
      "Epoch 3/50\n",
      "38/38 [==============================] - 1s 25ms/step - loss: 3.0895 - accuracy: 0.0517 - val_loss: 2.7308 - val_accuracy: 0.0033\n",
      "Epoch 4/50\n",
      "38/38 [==============================] - 1s 23ms/step - loss: 3.0813 - accuracy: 0.0575 - val_loss: 2.7216 - val_accuracy: 0.0067\n",
      "Epoch 5/50\n",
      "38/38 [==============================] - 1s 24ms/step - loss: 3.0484 - accuracy: 0.0633 - val_loss: 2.7148 - val_accuracy: 0.0217\n",
      "Epoch 6/50\n",
      "38/38 [==============================] - 1s 23ms/step - loss: 3.0118 - accuracy: 0.0633 - val_loss: 2.7081 - val_accuracy: 0.0300\n",
      "Epoch 7/50\n",
      "38/38 [==============================] - 1s 24ms/step - loss: 2.9581 - accuracy: 0.0667 - val_loss: 2.6981 - val_accuracy: 0.0417\n",
      "Epoch 8/50\n",
      "38/38 [==============================] - 1s 23ms/step - loss: 2.9062 - accuracy: 0.0958 - val_loss: 2.6838 - val_accuracy: 0.0633\n",
      "Epoch 9/50\n",
      "38/38 [==============================] - 1s 22ms/step - loss: 2.9048 - accuracy: 0.0917 - val_loss: 2.6677 - val_accuracy: 0.0767\n",
      "Epoch 10/50\n",
      "38/38 [==============================] - 1s 23ms/step - loss: 2.8647 - accuracy: 0.1050 - val_loss: 2.6510 - val_accuracy: 0.0900\n",
      "Epoch 11/50\n",
      "38/38 [==============================] - 1s 23ms/step - loss: 2.8237 - accuracy: 0.1133 - val_loss: 2.6329 - val_accuracy: 0.1000\n",
      "Epoch 12/50\n",
      "38/38 [==============================] - 1s 23ms/step - loss: 2.8203 - accuracy: 0.1158 - val_loss: 2.6153 - val_accuracy: 0.1150\n",
      "Epoch 13/50\n",
      "38/38 [==============================] - 1s 22ms/step - loss: 2.7656 - accuracy: 0.1250 - val_loss: 2.5953 - val_accuracy: 0.1283\n",
      "Epoch 14/50\n",
      "38/38 [==============================] - 1s 22ms/step - loss: 2.7467 - accuracy: 0.1242 - val_loss: 2.5740 - val_accuracy: 0.1333\n",
      "Epoch 15/50\n",
      "38/38 [==============================] - 1s 24ms/step - loss: 2.7357 - accuracy: 0.1342 - val_loss: 2.5525 - val_accuracy: 0.1383\n",
      "Epoch 16/50\n",
      "38/38 [==============================] - 1s 23ms/step - loss: 2.6885 - accuracy: 0.1417 - val_loss: 2.5300 - val_accuracy: 0.1433\n",
      "Epoch 17/50\n",
      "38/38 [==============================] - 1s 23ms/step - loss: 2.6659 - accuracy: 0.1492 - val_loss: 2.5085 - val_accuracy: 0.1600\n",
      "Epoch 18/50\n",
      "38/38 [==============================] - 1s 22ms/step - loss: 2.6238 - accuracy: 0.1475 - val_loss: 2.4854 - val_accuracy: 0.1800\n",
      "Epoch 19/50\n",
      "38/38 [==============================] - 1s 22ms/step - loss: 2.5951 - accuracy: 0.1583 - val_loss: 2.4615 - val_accuracy: 0.2017\n",
      "Epoch 20/50\n",
      "38/38 [==============================] - 1s 22ms/step - loss: 2.5503 - accuracy: 0.1817 - val_loss: 2.4366 - val_accuracy: 0.2083\n",
      "Epoch 21/50\n",
      "38/38 [==============================] - 1s 23ms/step - loss: 2.5253 - accuracy: 0.1883 - val_loss: 2.4109 - val_accuracy: 0.2183\n",
      "Epoch 22/50\n",
      "38/38 [==============================] - 1s 24ms/step - loss: 2.5064 - accuracy: 0.1908 - val_loss: 2.3853 - val_accuracy: 0.2333\n",
      "Epoch 23/50\n",
      "38/38 [==============================] - 1s 22ms/step - loss: 2.4859 - accuracy: 0.2108 - val_loss: 2.3592 - val_accuracy: 0.2350\n",
      "Epoch 24/50\n",
      "38/38 [==============================] - 1s 22ms/step - loss: 2.4492 - accuracy: 0.2200 - val_loss: 2.3325 - val_accuracy: 0.2467\n",
      "Epoch 25/50\n",
      "38/38 [==============================] - 1s 22ms/step - loss: 2.4485 - accuracy: 0.2075 - val_loss: 2.3065 - val_accuracy: 0.2550\n",
      "Epoch 26/50\n",
      "38/38 [==============================] - 1s 22ms/step - loss: 2.4380 - accuracy: 0.2250 - val_loss: 2.2806 - val_accuracy: 0.2567\n",
      "Epoch 27/50\n",
      "38/38 [==============================] - 1s 22ms/step - loss: 2.3895 - accuracy: 0.2392 - val_loss: 2.2552 - val_accuracy: 0.2617\n",
      "Epoch 28/50\n",
      "38/38 [==============================] - 1s 23ms/step - loss: 2.3607 - accuracy: 0.2417 - val_loss: 2.2311 - val_accuracy: 0.2750\n",
      "Epoch 29/50\n",
      "38/38 [==============================] - 1s 22ms/step - loss: 2.3540 - accuracy: 0.2542 - val_loss: 2.2069 - val_accuracy: 0.2833\n",
      "Epoch 30/50\n",
      "38/38 [==============================] - 1s 22ms/step - loss: 2.3081 - accuracy: 0.2600 - val_loss: 2.1831 - val_accuracy: 0.2933\n",
      "Epoch 31/50\n",
      "38/38 [==============================] - 1s 22ms/step - loss: 2.2932 - accuracy: 0.2742 - val_loss: 2.1589 - val_accuracy: 0.3133\n",
      "Epoch 32/50\n",
      "38/38 [==============================] - 1s 22ms/step - loss: 2.2746 - accuracy: 0.2842 - val_loss: 2.1355 - val_accuracy: 0.3217\n",
      "Epoch 33/50\n",
      "38/38 [==============================] - 1s 23ms/step - loss: 2.2459 - accuracy: 0.2783 - val_loss: 2.1129 - val_accuracy: 0.3300\n",
      "Epoch 34/50\n",
      "38/38 [==============================] - 1s 23ms/step - loss: 2.2354 - accuracy: 0.2875 - val_loss: 2.0904 - val_accuracy: 0.3400\n",
      "Epoch 35/50\n",
      "38/38 [==============================] - 1s 22ms/step - loss: 2.1802 - accuracy: 0.3175 - val_loss: 2.0687 - val_accuracy: 0.3483\n",
      "Epoch 36/50\n",
      "38/38 [==============================] - 1s 24ms/step - loss: 2.1886 - accuracy: 0.3092 - val_loss: 2.0470 - val_accuracy: 0.3667\n",
      "Epoch 37/50\n",
      "38/38 [==============================] - 1s 22ms/step - loss: 2.1675 - accuracy: 0.3192 - val_loss: 2.0261 - val_accuracy: 0.3750\n",
      "Epoch 38/50\n",
      "38/38 [==============================] - 1s 22ms/step - loss: 2.1504 - accuracy: 0.3267 - val_loss: 2.0058 - val_accuracy: 0.3833\n",
      "Epoch 39/50\n",
      "38/38 [==============================] - 1s 22ms/step - loss: 2.1161 - accuracy: 0.3325 - val_loss: 1.9855 - val_accuracy: 0.3883\n",
      "Epoch 40/50\n",
      "38/38 [==============================] - 1s 22ms/step - loss: 2.1062 - accuracy: 0.3425 - val_loss: 1.9663 - val_accuracy: 0.4083\n",
      "Epoch 41/50\n",
      "38/38 [==============================] - 1s 22ms/step - loss: 2.1008 - accuracy: 0.3417 - val_loss: 1.9471 - val_accuracy: 0.4167\n",
      "Epoch 42/50\n",
      "38/38 [==============================] - 1s 22ms/step - loss: 2.0704 - accuracy: 0.3592 - val_loss: 1.9282 - val_accuracy: 0.4217\n",
      "Epoch 43/50\n",
      "38/38 [==============================] - 1s 22ms/step - loss: 2.0422 - accuracy: 0.3617 - val_loss: 1.9097 - val_accuracy: 0.4267\n",
      "Epoch 44/50\n",
      "38/38 [==============================] - 1s 23ms/step - loss: 2.0411 - accuracy: 0.3692 - val_loss: 1.8911 - val_accuracy: 0.4333\n",
      "Epoch 45/50\n",
      "38/38 [==============================] - 1s 23ms/step - loss: 2.0130 - accuracy: 0.3600 - val_loss: 1.8729 - val_accuracy: 0.4450\n",
      "Epoch 46/50\n",
      "38/38 [==============================] - 1s 24ms/step - loss: 1.9697 - accuracy: 0.3958 - val_loss: 1.8554 - val_accuracy: 0.4533\n",
      "Epoch 47/50\n",
      "38/38 [==============================] - 1s 22ms/step - loss: 1.9764 - accuracy: 0.3717 - val_loss: 1.8374 - val_accuracy: 0.4650\n",
      "Epoch 48/50\n",
      "38/38 [==============================] - 1s 23ms/step - loss: 1.9632 - accuracy: 0.4000 - val_loss: 1.8200 - val_accuracy: 0.4683\n",
      "Epoch 49/50\n",
      "38/38 [==============================] - 1s 24ms/step - loss: 1.9306 - accuracy: 0.4042 - val_loss: 1.8034 - val_accuracy: 0.4783\n",
      "Epoch 50/50\n",
      "38/38 [==============================] - 1s 22ms/step - loss: 1.9387 - accuracy: 0.4142 - val_loss: 1.7875 - val_accuracy: 0.4950\n",
      "Epoch 1/50\n"
     ]
    },
    {
     "name": "stderr",
     "output_type": "stream",
     "text": [
      "2023-05-11 17:09:15.301048: I tensorflow/core/grappler/optimizers/custom_graph_optimizer_registry.cc:113] Plugin optimizer for device_type GPU is enabled.\n"
     ]
    },
    {
     "name": "stdout",
     "output_type": "stream",
     "text": [
      "38/38 [==============================] - ETA: 0s - loss: 3.3840 - accuracy: 0.0467"
     ]
    },
    {
     "name": "stderr",
     "output_type": "stream",
     "text": [
      "2023-05-11 17:09:16.799896: I tensorflow/core/grappler/optimizers/custom_graph_optimizer_registry.cc:113] Plugin optimizer for device_type GPU is enabled.\n"
     ]
    },
    {
     "name": "stdout",
     "output_type": "stream",
     "text": [
      "38/38 [==============================] - 3s 39ms/step - loss: 3.3840 - accuracy: 0.0467 - val_loss: 2.8195 - val_accuracy: 0.0150\n",
      "Epoch 2/50\n",
      "38/38 [==============================] - 1s 23ms/step - loss: 3.3529 - accuracy: 0.0533 - val_loss: 2.8465 - val_accuracy: 0.0100\n",
      "Epoch 3/50\n",
      "38/38 [==============================] - 1s 23ms/step - loss: 3.3119 - accuracy: 0.0483 - val_loss: 2.8711 - val_accuracy: 0.0150\n",
      "Epoch 4/50\n",
      "38/38 [==============================] - 1s 22ms/step - loss: 3.2696 - accuracy: 0.0642 - val_loss: 2.8901 - val_accuracy: 0.0300\n",
      "Epoch 5/50\n",
      "38/38 [==============================] - 1s 23ms/step - loss: 3.2257 - accuracy: 0.0717 - val_loss: 2.9028 - val_accuracy: 0.0417\n",
      "Epoch 6/50\n",
      "38/38 [==============================] - 1s 23ms/step - loss: 3.1856 - accuracy: 0.0758 - val_loss: 2.9107 - val_accuracy: 0.0517\n",
      "Epoch 7/50\n",
      "38/38 [==============================] - 1s 25ms/step - loss: 3.1658 - accuracy: 0.0650 - val_loss: 2.9143 - val_accuracy: 0.0600\n",
      "Epoch 8/50\n",
      "38/38 [==============================] - 1s 22ms/step - loss: 3.1402 - accuracy: 0.0775 - val_loss: 2.9134 - val_accuracy: 0.0683\n",
      "Epoch 9/50\n",
      "38/38 [==============================] - 1s 22ms/step - loss: 3.0807 - accuracy: 0.0842 - val_loss: 2.9051 - val_accuracy: 0.0683\n",
      "Epoch 10/50\n",
      "38/38 [==============================] - 1s 21ms/step - loss: 3.0399 - accuracy: 0.0917 - val_loss: 2.8935 - val_accuracy: 0.0750\n",
      "Epoch 11/50\n",
      "38/38 [==============================] - 1s 23ms/step - loss: 3.0166 - accuracy: 0.1017 - val_loss: 2.8766 - val_accuracy: 0.0900\n",
      "Epoch 12/50\n",
      "38/38 [==============================] - 1s 21ms/step - loss: 3.0011 - accuracy: 0.0933 - val_loss: 2.8554 - val_accuracy: 0.1017\n",
      "Epoch 13/50\n",
      "38/38 [==============================] - 1s 21ms/step - loss: 2.9590 - accuracy: 0.1067 - val_loss: 2.8336 - val_accuracy: 0.1150\n",
      "Epoch 14/50\n",
      "38/38 [==============================] - 1s 23ms/step - loss: 2.9356 - accuracy: 0.1150 - val_loss: 2.8110 - val_accuracy: 0.1100\n",
      "Epoch 15/50\n",
      "38/38 [==============================] - 1s 23ms/step - loss: 2.8938 - accuracy: 0.0992 - val_loss: 2.7853 - val_accuracy: 0.1300\n",
      "Epoch 16/50\n",
      "38/38 [==============================] - 1s 22ms/step - loss: 2.8717 - accuracy: 0.1325 - val_loss: 2.7573 - val_accuracy: 0.1333\n",
      "Epoch 17/50\n",
      "38/38 [==============================] - 1s 22ms/step - loss: 2.8319 - accuracy: 0.1275 - val_loss: 2.7271 - val_accuracy: 0.1433\n",
      "Epoch 18/50\n",
      "38/38 [==============================] - 1s 22ms/step - loss: 2.8037 - accuracy: 0.1425 - val_loss: 2.6964 - val_accuracy: 0.1483\n",
      "Epoch 19/50\n",
      "38/38 [==============================] - 1s 23ms/step - loss: 2.7676 - accuracy: 0.1583 - val_loss: 2.6645 - val_accuracy: 0.1550\n",
      "Epoch 20/50\n",
      "38/38 [==============================] - 1s 22ms/step - loss: 2.7398 - accuracy: 0.1567 - val_loss: 2.6325 - val_accuracy: 0.1667\n",
      "Epoch 21/50\n",
      "38/38 [==============================] - 1s 22ms/step - loss: 2.6872 - accuracy: 0.1767 - val_loss: 2.6015 - val_accuracy: 0.1767\n",
      "Epoch 22/50\n",
      "38/38 [==============================] - 1s 23ms/step - loss: 2.6930 - accuracy: 0.1667 - val_loss: 2.5704 - val_accuracy: 0.1867\n",
      "Epoch 23/50\n",
      "38/38 [==============================] - 1s 23ms/step - loss: 2.6350 - accuracy: 0.1775 - val_loss: 2.5404 - val_accuracy: 0.2000\n",
      "Epoch 24/50\n",
      "38/38 [==============================] - 1s 22ms/step - loss: 2.5985 - accuracy: 0.2008 - val_loss: 2.5100 - val_accuracy: 0.2083\n",
      "Epoch 25/50\n",
      "38/38 [==============================] - 1s 22ms/step - loss: 2.6078 - accuracy: 0.1850 - val_loss: 2.4812 - val_accuracy: 0.2267\n",
      "Epoch 26/50\n",
      "38/38 [==============================] - 1s 22ms/step - loss: 2.5662 - accuracy: 0.2042 - val_loss: 2.4514 - val_accuracy: 0.2400\n",
      "Epoch 27/50\n",
      "38/38 [==============================] - 1s 22ms/step - loss: 2.5331 - accuracy: 0.2133 - val_loss: 2.4227 - val_accuracy: 0.2533\n",
      "Epoch 28/50\n",
      "38/38 [==============================] - 1s 23ms/step - loss: 2.4925 - accuracy: 0.2250 - val_loss: 2.3945 - val_accuracy: 0.2683\n",
      "Epoch 29/50\n",
      "38/38 [==============================] - 1s 23ms/step - loss: 2.4794 - accuracy: 0.2050 - val_loss: 2.3678 - val_accuracy: 0.2783\n",
      "Epoch 30/50\n",
      "38/38 [==============================] - 1s 22ms/step - loss: 2.4379 - accuracy: 0.2500 - val_loss: 2.3411 - val_accuracy: 0.2900\n",
      "Epoch 31/50\n",
      "38/38 [==============================] - 1s 22ms/step - loss: 2.4326 - accuracy: 0.2392 - val_loss: 2.3138 - val_accuracy: 0.3033\n",
      "Epoch 32/50\n",
      "38/38 [==============================] - 1s 22ms/step - loss: 2.3679 - accuracy: 0.2683 - val_loss: 2.2879 - val_accuracy: 0.3117\n",
      "Epoch 33/50\n",
      "38/38 [==============================] - 1s 22ms/step - loss: 2.3697 - accuracy: 0.2517 - val_loss: 2.2627 - val_accuracy: 0.3283\n",
      "Epoch 34/50\n",
      "38/38 [==============================] - 1s 22ms/step - loss: 2.3426 - accuracy: 0.2625 - val_loss: 2.2374 - val_accuracy: 0.3417\n",
      "Epoch 35/50\n",
      "38/38 [==============================] - 1s 23ms/step - loss: 2.3377 - accuracy: 0.2733 - val_loss: 2.2123 - val_accuracy: 0.3500\n",
      "Epoch 36/50\n",
      "38/38 [==============================] - 1s 22ms/step - loss: 2.2936 - accuracy: 0.2892 - val_loss: 2.1877 - val_accuracy: 0.3567\n",
      "Epoch 37/50\n",
      "38/38 [==============================] - 1s 22ms/step - loss: 2.2745 - accuracy: 0.2942 - val_loss: 2.1633 - val_accuracy: 0.3633\n",
      "Epoch 38/50\n",
      "38/38 [==============================] - 1s 22ms/step - loss: 2.2406 - accuracy: 0.2958 - val_loss: 2.1394 - val_accuracy: 0.3683\n",
      "Epoch 39/50\n",
      "38/38 [==============================] - 1s 23ms/step - loss: 2.2362 - accuracy: 0.3033 - val_loss: 2.1163 - val_accuracy: 0.3783\n",
      "Epoch 40/50\n",
      "38/38 [==============================] - 1s 22ms/step - loss: 2.2049 - accuracy: 0.3217 - val_loss: 2.0932 - val_accuracy: 0.3783\n",
      "Epoch 41/50\n",
      "38/38 [==============================] - 1s 22ms/step - loss: 2.1781 - accuracy: 0.3125 - val_loss: 2.0709 - val_accuracy: 0.3850\n",
      "Epoch 42/50\n",
      "38/38 [==============================] - 1s 22ms/step - loss: 2.1655 - accuracy: 0.3233 - val_loss: 2.0485 - val_accuracy: 0.3867\n",
      "Epoch 43/50\n",
      "38/38 [==============================] - 1s 22ms/step - loss: 2.1382 - accuracy: 0.3225 - val_loss: 2.0264 - val_accuracy: 0.3983\n",
      "Epoch 44/50\n",
      "38/38 [==============================] - 1s 22ms/step - loss: 2.1277 - accuracy: 0.3458 - val_loss: 2.0050 - val_accuracy: 0.4017\n",
      "Epoch 45/50\n",
      "38/38 [==============================] - 1s 22ms/step - loss: 2.1009 - accuracy: 0.3392 - val_loss: 1.9842 - val_accuracy: 0.4100\n",
      "Epoch 46/50\n",
      "38/38 [==============================] - 1s 22ms/step - loss: 2.0852 - accuracy: 0.3533 - val_loss: 1.9634 - val_accuracy: 0.4150\n",
      "Epoch 47/50\n",
      "38/38 [==============================] - 1s 21ms/step - loss: 2.0584 - accuracy: 0.3708 - val_loss: 1.9432 - val_accuracy: 0.4267\n",
      "Epoch 48/50\n",
      "38/38 [==============================] - 1s 21ms/step - loss: 2.0386 - accuracy: 0.3833 - val_loss: 1.9238 - val_accuracy: 0.4300\n",
      "Epoch 49/50\n",
      "38/38 [==============================] - 1s 22ms/step - loss: 2.0237 - accuracy: 0.3733 - val_loss: 1.9049 - val_accuracy: 0.4350\n",
      "Epoch 50/50\n",
      "38/38 [==============================] - 1s 22ms/step - loss: 1.9940 - accuracy: 0.4058 - val_loss: 1.8857 - val_accuracy: 0.4350\n",
      "trials for model 7: 0.44111111760139465\n",
      "Epoch 1/50\n"
     ]
    },
    {
     "name": "stderr",
     "output_type": "stream",
     "text": [
      "2023-05-11 17:09:59.476941: I tensorflow/core/grappler/optimizers/custom_graph_optimizer_registry.cc:113] Plugin optimizer for device_type GPU is enabled.\n"
     ]
    },
    {
     "name": "stdout",
     "output_type": "stream",
     "text": [
      "38/38 [==============================] - ETA: 0s - loss: 3.1494 - accuracy: 0.0983"
     ]
    },
    {
     "name": "stderr",
     "output_type": "stream",
     "text": [
      "2023-05-11 17:10:01.170182: I tensorflow/core/grappler/optimizers/custom_graph_optimizer_registry.cc:113] Plugin optimizer for device_type GPU is enabled.\n"
     ]
    },
    {
     "name": "stdout",
     "output_type": "stream",
     "text": [
      "38/38 [==============================] - 2s 45ms/step - loss: 3.1494 - accuracy: 0.0983 - val_loss: 2.7745 - val_accuracy: 0.1233\n",
      "Epoch 2/50\n",
      "38/38 [==============================] - 1s 26ms/step - loss: 3.0979 - accuracy: 0.0992 - val_loss: 2.7601 - val_accuracy: 0.1133\n",
      "Epoch 3/50\n",
      "38/38 [==============================] - 1s 26ms/step - loss: 3.0404 - accuracy: 0.1133 - val_loss: 2.7470 - val_accuracy: 0.0717\n",
      "Epoch 4/50\n",
      "38/38 [==============================] - 1s 32ms/step - loss: 3.0333 - accuracy: 0.1100 - val_loss: 2.7327 - val_accuracy: 0.0500\n",
      "Epoch 5/50\n",
      "38/38 [==============================] - 1s 30ms/step - loss: 2.9885 - accuracy: 0.1250 - val_loss: 2.7148 - val_accuracy: 0.0517\n",
      "Epoch 1/50\n"
     ]
    },
    {
     "name": "stderr",
     "output_type": "stream",
     "text": [
      "2023-05-11 17:10:06.607682: I tensorflow/core/grappler/optimizers/custom_graph_optimizer_registry.cc:113] Plugin optimizer for device_type GPU is enabled.\n"
     ]
    },
    {
     "name": "stdout",
     "output_type": "stream",
     "text": [
      "38/38 [==============================] - ETA: 0s - loss: 3.3110 - accuracy: 0.1025"
     ]
    },
    {
     "name": "stderr",
     "output_type": "stream",
     "text": [
      "2023-05-11 17:10:08.152773: I tensorflow/core/grappler/optimizers/custom_graph_optimizer_registry.cc:113] Plugin optimizer for device_type GPU is enabled.\n"
     ]
    },
    {
     "name": "stdout",
     "output_type": "stream",
     "text": [
      "38/38 [==============================] - 2s 42ms/step - loss: 3.3110 - accuracy: 0.1025 - val_loss: 2.7933 - val_accuracy: 0.0633\n",
      "Epoch 2/50\n",
      "38/38 [==============================] - 1s 26ms/step - loss: 3.2234 - accuracy: 0.1150 - val_loss: 2.7852 - val_accuracy: 0.0083\n",
      "Epoch 3/50\n",
      "38/38 [==============================] - 1s 26ms/step - loss: 3.1743 - accuracy: 0.1192 - val_loss: 2.7844 - val_accuracy: 0.0067\n",
      "Epoch 4/50\n",
      "38/38 [==============================] - 1s 26ms/step - loss: 3.1920 - accuracy: 0.1125 - val_loss: 2.7901 - val_accuracy: 0.0067\n",
      "Epoch 5/50\n",
      "38/38 [==============================] - 1s 25ms/step - loss: 3.1108 - accuracy: 0.1208 - val_loss: 2.7972 - val_accuracy: 0.0200\n",
      "Epoch 1/50\n"
     ]
    },
    {
     "name": "stderr",
     "output_type": "stream",
     "text": [
      "2023-05-11 17:10:13.448105: I tensorflow/core/grappler/optimizers/custom_graph_optimizer_registry.cc:113] Plugin optimizer for device_type GPU is enabled.\n"
     ]
    },
    {
     "name": "stdout",
     "output_type": "stream",
     "text": [
      "38/38 [==============================] - ETA: 0s - loss: 2.9625 - accuracy: 0.1042"
     ]
    },
    {
     "name": "stderr",
     "output_type": "stream",
     "text": [
      "2023-05-11 17:10:15.100563: I tensorflow/core/grappler/optimizers/custom_graph_optimizer_registry.cc:113] Plugin optimizer for device_type GPU is enabled.\n"
     ]
    },
    {
     "name": "stdout",
     "output_type": "stream",
     "text": [
      "38/38 [==============================] - 3s 45ms/step - loss: 2.9625 - accuracy: 0.1042 - val_loss: 2.7996 - val_accuracy: 0.0233\n",
      "Epoch 2/50\n",
      "38/38 [==============================] - 1s 30ms/step - loss: 2.9009 - accuracy: 0.1283 - val_loss: 2.7975 - val_accuracy: 0.0117\n",
      "Epoch 3/50\n",
      "38/38 [==============================] - 1s 29ms/step - loss: 2.8644 - accuracy: 0.1308 - val_loss: 2.7957 - val_accuracy: 0.0033\n",
      "Epoch 4/50\n",
      "38/38 [==============================] - 1s 28ms/step - loss: 2.8445 - accuracy: 0.1375 - val_loss: 2.7931 - val_accuracy: 0.0083\n",
      "Epoch 5/50\n",
      "38/38 [==============================] - 1s 31ms/step - loss: 2.8079 - accuracy: 0.1475 - val_loss: 2.7880 - val_accuracy: 0.0167\n",
      "trials for model 8: 0.02944444554547469\n",
      "Epoch 1/50\n"
     ]
    },
    {
     "name": "stderr",
     "output_type": "stream",
     "text": [
      "2023-05-11 17:10:20.788870: I tensorflow/core/grappler/optimizers/custom_graph_optimizer_registry.cc:113] Plugin optimizer for device_type GPU is enabled.\n"
     ]
    },
    {
     "name": "stdout",
     "output_type": "stream",
     "text": [
      "38/38 [==============================] - ETA: 0s - loss: 3.0761 - accuracy: 0.0758"
     ]
    },
    {
     "name": "stderr",
     "output_type": "stream",
     "text": [
      "2023-05-11 17:10:22.315418: I tensorflow/core/grappler/optimizers/custom_graph_optimizer_registry.cc:113] Plugin optimizer for device_type GPU is enabled.\n"
     ]
    },
    {
     "name": "stdout",
     "output_type": "stream",
     "text": [
      "38/38 [==============================] - 2s 41ms/step - loss: 3.0761 - accuracy: 0.0758 - val_loss: 2.8237 - val_accuracy: 0.0517\n",
      "Epoch 2/50\n",
      "38/38 [==============================] - 1s 24ms/step - loss: 3.0579 - accuracy: 0.0767 - val_loss: 2.8413 - val_accuracy: 0.0450\n",
      "Epoch 3/50\n",
      "38/38 [==============================] - 1s 25ms/step - loss: 2.9971 - accuracy: 0.1000 - val_loss: 2.8533 - val_accuracy: 0.0467\n",
      "Epoch 4/50\n",
      "38/38 [==============================] - 1s 23ms/step - loss: 2.9591 - accuracy: 0.0958 - val_loss: 2.8584 - val_accuracy: 0.0467\n",
      "Epoch 5/50\n",
      "38/38 [==============================] - 1s 23ms/step - loss: 2.9404 - accuracy: 0.1017 - val_loss: 2.8565 - val_accuracy: 0.0383\n",
      "Epoch 1/50\n"
     ]
    },
    {
     "name": "stderr",
     "output_type": "stream",
     "text": [
      "2023-05-11 17:10:27.034068: I tensorflow/core/grappler/optimizers/custom_graph_optimizer_registry.cc:113] Plugin optimizer for device_type GPU is enabled.\n"
     ]
    },
    {
     "name": "stdout",
     "output_type": "stream",
     "text": [
      "38/38 [==============================] - ETA: 0s - loss: 3.1972 - accuracy: 0.1192"
     ]
    },
    {
     "name": "stderr",
     "output_type": "stream",
     "text": [
      "2023-05-11 17:10:28.550191: I tensorflow/core/grappler/optimizers/custom_graph_optimizer_registry.cc:113] Plugin optimizer for device_type GPU is enabled.\n"
     ]
    },
    {
     "name": "stdout",
     "output_type": "stream",
     "text": [
      "38/38 [==============================] - 2s 40ms/step - loss: 3.1972 - accuracy: 0.1192 - val_loss: 2.7915 - val_accuracy: 0.1033\n",
      "Epoch 2/50\n",
      "38/38 [==============================] - 1s 24ms/step - loss: 3.1683 - accuracy: 0.1142 - val_loss: 2.7774 - val_accuracy: 0.1167\n",
      "Epoch 3/50\n",
      "38/38 [==============================] - 1s 23ms/step - loss: 3.1038 - accuracy: 0.1192 - val_loss: 2.7672 - val_accuracy: 0.1333\n",
      "Epoch 4/50\n",
      "38/38 [==============================] - 1s 23ms/step - loss: 3.0748 - accuracy: 0.1333 - val_loss: 2.7618 - val_accuracy: 0.1350\n",
      "Epoch 5/50\n",
      "38/38 [==============================] - 1s 22ms/step - loss: 3.0180 - accuracy: 0.1300 - val_loss: 2.7605 - val_accuracy: 0.1417\n",
      "Epoch 6/50\n",
      "38/38 [==============================] - 1s 25ms/step - loss: 2.9903 - accuracy: 0.1333 - val_loss: 2.7599 - val_accuracy: 0.1383\n",
      "Epoch 7/50\n",
      "38/38 [==============================] - 1s 23ms/step - loss: 2.9700 - accuracy: 0.1517 - val_loss: 2.7547 - val_accuracy: 0.1450\n",
      "Epoch 8/50\n",
      "38/38 [==============================] - 1s 25ms/step - loss: 2.9424 - accuracy: 0.1650 - val_loss: 2.7398 - val_accuracy: 0.1583\n",
      "Epoch 9/50\n",
      "38/38 [==============================] - 1s 22ms/step - loss: 2.8557 - accuracy: 0.1608 - val_loss: 2.7196 - val_accuracy: 0.1750\n",
      "Epoch 10/50\n",
      "38/38 [==============================] - 1s 24ms/step - loss: 2.8539 - accuracy: 0.1642 - val_loss: 2.6941 - val_accuracy: 0.1783\n",
      "Epoch 11/50\n",
      "38/38 [==============================] - 1s 23ms/step - loss: 2.8345 - accuracy: 0.1717 - val_loss: 2.6641 - val_accuracy: 0.2067\n",
      "Epoch 12/50\n",
      "38/38 [==============================] - 1s 22ms/step - loss: 2.7930 - accuracy: 0.1775 - val_loss: 2.6338 - val_accuracy: 0.2100\n",
      "Epoch 13/50\n",
      "38/38 [==============================] - 1s 23ms/step - loss: 2.7397 - accuracy: 0.1875 - val_loss: 2.6038 - val_accuracy: 0.2250\n",
      "Epoch 14/50\n",
      "38/38 [==============================] - 1s 22ms/step - loss: 2.7203 - accuracy: 0.1967 - val_loss: 2.5755 - val_accuracy: 0.2283\n",
      "Epoch 15/50\n",
      "38/38 [==============================] - 1s 21ms/step - loss: 2.6988 - accuracy: 0.1925 - val_loss: 2.5476 - val_accuracy: 0.2250\n",
      "Epoch 16/50\n",
      "38/38 [==============================] - 1s 22ms/step - loss: 2.6730 - accuracy: 0.1992 - val_loss: 2.5218 - val_accuracy: 0.2283\n",
      "Epoch 17/50\n",
      "38/38 [==============================] - 1s 22ms/step - loss: 2.6159 - accuracy: 0.2083 - val_loss: 2.4946 - val_accuracy: 0.2317\n",
      "Epoch 18/50\n",
      "38/38 [==============================] - 1s 22ms/step - loss: 2.6273 - accuracy: 0.2125 - val_loss: 2.4691 - val_accuracy: 0.2317\n",
      "Epoch 19/50\n",
      "38/38 [==============================] - 1s 22ms/step - loss: 2.5620 - accuracy: 0.2117 - val_loss: 2.4419 - val_accuracy: 0.2367\n",
      "Epoch 20/50\n",
      "38/38 [==============================] - 1s 22ms/step - loss: 2.5356 - accuracy: 0.2267 - val_loss: 2.4148 - val_accuracy: 0.2450\n",
      "Epoch 21/50\n",
      "38/38 [==============================] - 1s 23ms/step - loss: 2.5320 - accuracy: 0.2350 - val_loss: 2.3864 - val_accuracy: 0.2500\n",
      "Epoch 22/50\n",
      "38/38 [==============================] - 1s 23ms/step - loss: 2.5153 - accuracy: 0.2400 - val_loss: 2.3586 - val_accuracy: 0.2583\n",
      "Epoch 23/50\n",
      "38/38 [==============================] - 1s 24ms/step - loss: 2.4761 - accuracy: 0.2383 - val_loss: 2.3311 - val_accuracy: 0.2583\n",
      "Epoch 24/50\n",
      "38/38 [==============================] - 1s 22ms/step - loss: 2.4360 - accuracy: 0.2542 - val_loss: 2.3049 - val_accuracy: 0.2600\n",
      "Epoch 25/50\n",
      "38/38 [==============================] - 1s 22ms/step - loss: 2.3850 - accuracy: 0.2675 - val_loss: 2.2792 - val_accuracy: 0.2650\n",
      "Epoch 26/50\n",
      "38/38 [==============================] - 1s 23ms/step - loss: 2.3745 - accuracy: 0.2525 - val_loss: 2.2524 - val_accuracy: 0.2667\n",
      "Epoch 27/50\n",
      "38/38 [==============================] - 1s 22ms/step - loss: 2.3659 - accuracy: 0.2675 - val_loss: 2.2259 - val_accuracy: 0.2850\n",
      "Epoch 28/50\n",
      "38/38 [==============================] - 1s 22ms/step - loss: 2.3478 - accuracy: 0.2567 - val_loss: 2.2006 - val_accuracy: 0.2967\n",
      "Epoch 29/50\n",
      "38/38 [==============================] - 1s 22ms/step - loss: 2.3180 - accuracy: 0.2625 - val_loss: 2.1759 - val_accuracy: 0.3083\n",
      "Epoch 30/50\n",
      "38/38 [==============================] - 1s 23ms/step - loss: 2.2624 - accuracy: 0.3025 - val_loss: 2.1510 - val_accuracy: 0.3183\n",
      "Epoch 31/50\n",
      "38/38 [==============================] - 1s 22ms/step - loss: 2.2322 - accuracy: 0.2850 - val_loss: 2.1277 - val_accuracy: 0.3233\n",
      "Epoch 32/50\n",
      "38/38 [==============================] - 1s 22ms/step - loss: 2.2307 - accuracy: 0.2983 - val_loss: 2.1043 - val_accuracy: 0.3317\n",
      "Epoch 33/50\n",
      "38/38 [==============================] - 1s 22ms/step - loss: 2.2132 - accuracy: 0.2958 - val_loss: 2.0806 - val_accuracy: 0.3417\n",
      "Epoch 34/50\n",
      "38/38 [==============================] - 1s 23ms/step - loss: 2.1752 - accuracy: 0.3075 - val_loss: 2.0572 - val_accuracy: 0.3500\n",
      "Epoch 35/50\n",
      "38/38 [==============================] - 1s 22ms/step - loss: 2.1581 - accuracy: 0.3133 - val_loss: 2.0351 - val_accuracy: 0.3567\n",
      "Epoch 36/50\n",
      "38/38 [==============================] - 1s 23ms/step - loss: 2.1475 - accuracy: 0.3217 - val_loss: 2.0124 - val_accuracy: 0.3683\n",
      "Epoch 37/50\n",
      "38/38 [==============================] - 1s 22ms/step - loss: 2.1116 - accuracy: 0.3417 - val_loss: 1.9909 - val_accuracy: 0.3750\n",
      "Epoch 38/50\n",
      "38/38 [==============================] - 1s 22ms/step - loss: 2.1081 - accuracy: 0.3175 - val_loss: 1.9700 - val_accuracy: 0.3850\n",
      "Epoch 39/50\n",
      "38/38 [==============================] - 1s 22ms/step - loss: 2.0931 - accuracy: 0.3300 - val_loss: 1.9494 - val_accuracy: 0.3900\n",
      "Epoch 40/50\n",
      "38/38 [==============================] - 1s 22ms/step - loss: 2.0671 - accuracy: 0.3467 - val_loss: 1.9287 - val_accuracy: 0.3933\n",
      "Epoch 41/50\n",
      "38/38 [==============================] - 1s 22ms/step - loss: 2.0421 - accuracy: 0.3692 - val_loss: 1.9088 - val_accuracy: 0.3983\n",
      "Epoch 42/50\n",
      "38/38 [==============================] - 1s 22ms/step - loss: 2.0238 - accuracy: 0.3617 - val_loss: 1.8893 - val_accuracy: 0.4050\n",
      "Epoch 43/50\n",
      "38/38 [==============================] - 1s 22ms/step - loss: 2.0044 - accuracy: 0.3758 - val_loss: 1.8700 - val_accuracy: 0.4083\n",
      "Epoch 44/50\n",
      "38/38 [==============================] - 1s 22ms/step - loss: 1.9879 - accuracy: 0.3767 - val_loss: 1.8518 - val_accuracy: 0.4133\n",
      "Epoch 45/50\n",
      "38/38 [==============================] - 1s 22ms/step - loss: 1.9691 - accuracy: 0.3783 - val_loss: 1.8339 - val_accuracy: 0.4267\n",
      "Epoch 46/50\n",
      "38/38 [==============================] - 1s 23ms/step - loss: 1.9462 - accuracy: 0.3792 - val_loss: 1.8161 - val_accuracy: 0.4333\n",
      "Epoch 47/50\n",
      "38/38 [==============================] - 1s 23ms/step - loss: 1.9215 - accuracy: 0.3908 - val_loss: 1.7990 - val_accuracy: 0.4367\n",
      "Epoch 48/50\n",
      "38/38 [==============================] - 1s 22ms/step - loss: 1.9154 - accuracy: 0.3942 - val_loss: 1.7819 - val_accuracy: 0.4450\n",
      "Epoch 49/50\n",
      "38/38 [==============================] - 1s 22ms/step - loss: 1.8826 - accuracy: 0.4275 - val_loss: 1.7652 - val_accuracy: 0.4500\n",
      "Epoch 50/50\n",
      "38/38 [==============================] - 1s 24ms/step - loss: 1.8690 - accuracy: 0.4183 - val_loss: 1.7480 - val_accuracy: 0.4600\n",
      "Epoch 1/50\n"
     ]
    },
    {
     "name": "stderr",
     "output_type": "stream",
     "text": [
      "2023-05-11 17:11:11.994390: I tensorflow/core/grappler/optimizers/custom_graph_optimizer_registry.cc:113] Plugin optimizer for device_type GPU is enabled.\n"
     ]
    },
    {
     "name": "stdout",
     "output_type": "stream",
     "text": [
      "38/38 [==============================] - ETA: 0s - loss: 3.5378 - accuracy: 0.0367"
     ]
    },
    {
     "name": "stderr",
     "output_type": "stream",
     "text": [
      "2023-05-11 17:11:13.572823: I tensorflow/core/grappler/optimizers/custom_graph_optimizer_registry.cc:113] Plugin optimizer for device_type GPU is enabled.\n"
     ]
    },
    {
     "name": "stdout",
     "output_type": "stream",
     "text": [
      "38/38 [==============================] - 3s 42ms/step - loss: 3.5378 - accuracy: 0.0367 - val_loss: 2.8161 - val_accuracy: 0.1750\n",
      "Epoch 2/50\n",
      "38/38 [==============================] - 1s 24ms/step - loss: 3.4909 - accuracy: 0.0367 - val_loss: 2.8281 - val_accuracy: 0.1683\n",
      "Epoch 3/50\n",
      "38/38 [==============================] - 1s 23ms/step - loss: 3.4775 - accuracy: 0.0392 - val_loss: 2.8422 - val_accuracy: 0.1733\n",
      "Epoch 4/50\n",
      "38/38 [==============================] - 1s 23ms/step - loss: 3.4251 - accuracy: 0.0517 - val_loss: 2.8585 - val_accuracy: 0.1733\n",
      "Epoch 5/50\n",
      "38/38 [==============================] - 1s 23ms/step - loss: 3.3789 - accuracy: 0.0433 - val_loss: 2.8757 - val_accuracy: 0.1817\n",
      "Epoch 6/50\n",
      "38/38 [==============================] - 1s 22ms/step - loss: 3.3384 - accuracy: 0.0542 - val_loss: 2.8917 - val_accuracy: 0.1800\n",
      "Epoch 7/50\n",
      "38/38 [==============================] - 1s 22ms/step - loss: 3.2940 - accuracy: 0.0558 - val_loss: 2.9039 - val_accuracy: 0.1833\n",
      "Epoch 8/50\n",
      "38/38 [==============================] - 1s 22ms/step - loss: 3.2737 - accuracy: 0.0592 - val_loss: 2.9112 - val_accuracy: 0.1717\n",
      "Epoch 9/50\n",
      "38/38 [==============================] - 1s 22ms/step - loss: 3.2068 - accuracy: 0.0667 - val_loss: 2.9116 - val_accuracy: 0.1617\n",
      "Epoch 10/50\n",
      "38/38 [==============================] - 1s 22ms/step - loss: 3.1981 - accuracy: 0.0625 - val_loss: 2.9074 - val_accuracy: 0.1483\n",
      "Epoch 11/50\n",
      "38/38 [==============================] - 1s 22ms/step - loss: 3.1331 - accuracy: 0.0800 - val_loss: 2.8979 - val_accuracy: 0.1383\n",
      "trials for model 9: 0.21222222596406937\n",
      "Epoch 1/50\n"
     ]
    },
    {
     "name": "stderr",
     "output_type": "stream",
     "text": [
      "2023-05-11 17:11:23.218827: I tensorflow/core/grappler/optimizers/custom_graph_optimizer_registry.cc:113] Plugin optimizer for device_type GPU is enabled.\n"
     ]
    },
    {
     "name": "stdout",
     "output_type": "stream",
     "text": [
      "38/38 [==============================] - ETA: 0s - loss: 2.9522 - accuracy: 0.0883"
     ]
    },
    {
     "name": "stderr",
     "output_type": "stream",
     "text": [
      "2023-05-11 17:11:26.864958: I tensorflow/core/grappler/optimizers/custom_graph_optimizer_registry.cc:113] Plugin optimizer for device_type GPU is enabled.\n"
     ]
    },
    {
     "name": "stdout",
     "output_type": "stream",
     "text": [
      "38/38 [==============================] - 5s 106ms/step - loss: 2.9522 - accuracy: 0.0883 - val_loss: 2.7644 - val_accuracy: 0.1267\n",
      "Epoch 2/50\n",
      "38/38 [==============================] - 4s 95ms/step - loss: 2.3348 - accuracy: 0.1958 - val_loss: 2.6441 - val_accuracy: 0.1767\n",
      "Epoch 3/50\n",
      "38/38 [==============================] - 4s 94ms/step - loss: 1.9631 - accuracy: 0.3008 - val_loss: 2.4955 - val_accuracy: 0.2017\n",
      "Epoch 4/50\n",
      "38/38 [==============================] - 4s 118ms/step - loss: 1.7485 - accuracy: 0.3858 - val_loss: 2.3502 - val_accuracy: 0.2017\n",
      "Epoch 5/50\n",
      "38/38 [==============================] - 4s 98ms/step - loss: 1.6075 - accuracy: 0.4167 - val_loss: 2.2188 - val_accuracy: 0.2117\n",
      "Epoch 6/50\n",
      "38/38 [==============================] - 4s 98ms/step - loss: 1.5007 - accuracy: 0.4683 - val_loss: 2.1006 - val_accuracy: 0.2167\n",
      "Epoch 7/50\n",
      "38/38 [==============================] - 4s 95ms/step - loss: 1.4274 - accuracy: 0.5175 - val_loss: 1.9950 - val_accuracy: 0.2367\n",
      "Epoch 8/50\n",
      "38/38 [==============================] - 4s 94ms/step - loss: 1.3506 - accuracy: 0.5325 - val_loss: 1.8860 - val_accuracy: 0.2917\n",
      "Epoch 9/50\n",
      "38/38 [==============================] - 4s 94ms/step - loss: 1.2961 - accuracy: 0.5458 - val_loss: 1.7695 - val_accuracy: 0.3617\n",
      "Epoch 10/50\n",
      "38/38 [==============================] - 4s 95ms/step - loss: 1.2510 - accuracy: 0.5733 - val_loss: 1.6491 - val_accuracy: 0.4267\n",
      "Epoch 11/50\n",
      "38/38 [==============================] - 4s 101ms/step - loss: 1.2260 - accuracy: 0.5758 - val_loss: 1.5240 - val_accuracy: 0.4950\n",
      "Epoch 12/50\n",
      "38/38 [==============================] - 4s 100ms/step - loss: 1.1613 - accuracy: 0.6167 - val_loss: 1.4068 - val_accuracy: 0.5567\n",
      "Epoch 13/50\n",
      "38/38 [==============================] - 4s 97ms/step - loss: 1.1440 - accuracy: 0.6183 - val_loss: 1.2933 - val_accuracy: 0.6167\n",
      "Epoch 14/50\n",
      "38/38 [==============================] - 4s 101ms/step - loss: 1.1009 - accuracy: 0.6283 - val_loss: 1.1981 - val_accuracy: 0.6450\n",
      "Epoch 15/50\n",
      "38/38 [==============================] - 4s 99ms/step - loss: 1.0855 - accuracy: 0.6408 - val_loss: 1.1182 - val_accuracy: 0.6617\n",
      "Epoch 16/50\n",
      "38/38 [==============================] - 4s 98ms/step - loss: 1.0529 - accuracy: 0.6600 - val_loss: 1.0547 - val_accuracy: 0.6667\n",
      "Epoch 17/50\n",
      "38/38 [==============================] - 4s 96ms/step - loss: 1.0486 - accuracy: 0.6483 - val_loss: 1.0045 - val_accuracy: 0.6850\n",
      "Epoch 18/50\n",
      "38/38 [==============================] - 4s 96ms/step - loss: 1.0215 - accuracy: 0.6558 - val_loss: 0.9667 - val_accuracy: 0.7017\n",
      "Epoch 19/50\n",
      "38/38 [==============================] - 4s 96ms/step - loss: 0.9962 - accuracy: 0.6700 - val_loss: 0.9371 - val_accuracy: 0.7067\n",
      "Epoch 20/50\n",
      "38/38 [==============================] - 4s 96ms/step - loss: 0.9913 - accuracy: 0.6783 - val_loss: 0.9138 - val_accuracy: 0.7150\n",
      "Epoch 21/50\n",
      "38/38 [==============================] - 4s 95ms/step - loss: 0.9898 - accuracy: 0.6658 - val_loss: 0.8945 - val_accuracy: 0.7183\n",
      "Epoch 22/50\n",
      "38/38 [==============================] - 4s 96ms/step - loss: 0.9503 - accuracy: 0.6900 - val_loss: 0.8791 - val_accuracy: 0.7183\n",
      "Epoch 23/50\n",
      "38/38 [==============================] - 4s 94ms/step - loss: 0.9323 - accuracy: 0.6942 - val_loss: 0.8658 - val_accuracy: 0.7267\n",
      "Epoch 24/50\n",
      "38/38 [==============================] - 4s 98ms/step - loss: 0.9148 - accuracy: 0.6942 - val_loss: 0.8534 - val_accuracy: 0.7283\n",
      "Epoch 25/50\n",
      "38/38 [==============================] - 4s 94ms/step - loss: 0.9223 - accuracy: 0.7050 - val_loss: 0.8423 - val_accuracy: 0.7300\n",
      "Epoch 26/50\n",
      "38/38 [==============================] - 4s 95ms/step - loss: 0.8994 - accuracy: 0.6950 - val_loss: 0.8325 - val_accuracy: 0.7367\n",
      "Epoch 27/50\n",
      "38/38 [==============================] - 4s 96ms/step - loss: 0.8812 - accuracy: 0.7017 - val_loss: 0.8234 - val_accuracy: 0.7400\n",
      "Epoch 28/50\n",
      "38/38 [==============================] - 4s 93ms/step - loss: 0.8769 - accuracy: 0.7092 - val_loss: 0.8146 - val_accuracy: 0.7383\n",
      "Epoch 29/50\n",
      "38/38 [==============================] - 4s 106ms/step - loss: 0.8514 - accuracy: 0.7208 - val_loss: 0.8073 - val_accuracy: 0.7383\n",
      "Epoch 30/50\n",
      "38/38 [==============================] - 4s 99ms/step - loss: 0.8492 - accuracy: 0.7242 - val_loss: 0.8003 - val_accuracy: 0.7400\n",
      "Epoch 31/50\n",
      "38/38 [==============================] - 4s 95ms/step - loss: 0.8245 - accuracy: 0.7325 - val_loss: 0.7930 - val_accuracy: 0.7417\n",
      "Epoch 32/50\n",
      "38/38 [==============================] - 5s 132ms/step - loss: 0.8261 - accuracy: 0.7225 - val_loss: 0.7875 - val_accuracy: 0.7383\n",
      "Epoch 33/50\n",
      "38/38 [==============================] - 5s 129ms/step - loss: 0.8146 - accuracy: 0.7400 - val_loss: 0.7806 - val_accuracy: 0.7417\n",
      "Epoch 34/50\n",
      "38/38 [==============================] - 4s 102ms/step - loss: 0.7910 - accuracy: 0.7358 - val_loss: 0.7741 - val_accuracy: 0.7433\n",
      "Epoch 35/50\n",
      "38/38 [==============================] - 4s 99ms/step - loss: 0.8058 - accuracy: 0.7417 - val_loss: 0.7684 - val_accuracy: 0.7467\n",
      "Epoch 36/50\n",
      "38/38 [==============================] - 4s 117ms/step - loss: 0.7777 - accuracy: 0.7542 - val_loss: 0.7627 - val_accuracy: 0.7467\n",
      "Epoch 37/50\n",
      "38/38 [==============================] - 5s 124ms/step - loss: 0.7900 - accuracy: 0.7550 - val_loss: 0.7578 - val_accuracy: 0.7483\n",
      "Epoch 38/50\n",
      "38/38 [==============================] - 4s 115ms/step - loss: 0.7769 - accuracy: 0.7558 - val_loss: 0.7535 - val_accuracy: 0.7533\n",
      "Epoch 39/50\n",
      "38/38 [==============================] - 4s 116ms/step - loss: 0.7510 - accuracy: 0.7625 - val_loss: 0.7483 - val_accuracy: 0.7500\n",
      "Epoch 40/50\n",
      "38/38 [==============================] - 5s 123ms/step - loss: 0.7574 - accuracy: 0.7558 - val_loss: 0.7435 - val_accuracy: 0.7550\n",
      "Epoch 41/50\n",
      "38/38 [==============================] - 4s 102ms/step - loss: 0.7454 - accuracy: 0.7642 - val_loss: 0.7390 - val_accuracy: 0.7533\n",
      "Epoch 42/50\n",
      "38/38 [==============================] - 5s 142ms/step - loss: 0.7333 - accuracy: 0.7675 - val_loss: 0.7335 - val_accuracy: 0.7567\n",
      "Epoch 43/50\n",
      "38/38 [==============================] - 5s 145ms/step - loss: 0.7347 - accuracy: 0.7683 - val_loss: 0.7304 - val_accuracy: 0.7550\n",
      "Epoch 44/50\n",
      "38/38 [==============================] - 6s 152ms/step - loss: 0.7316 - accuracy: 0.7717 - val_loss: 0.7263 - val_accuracy: 0.7567\n",
      "Epoch 45/50\n",
      "38/38 [==============================] - 7s 185ms/step - loss: 0.7240 - accuracy: 0.7708 - val_loss: 0.7234 - val_accuracy: 0.7600\n",
      "Epoch 46/50\n",
      "38/38 [==============================] - 5s 138ms/step - loss: 0.7206 - accuracy: 0.7658 - val_loss: 0.7195 - val_accuracy: 0.7600\n",
      "Epoch 47/50\n",
      "38/38 [==============================] - 5s 138ms/step - loss: 0.7103 - accuracy: 0.7858 - val_loss: 0.7157 - val_accuracy: 0.7617\n",
      "Epoch 48/50\n",
      "38/38 [==============================] - 6s 152ms/step - loss: 0.6935 - accuracy: 0.7783 - val_loss: 0.7128 - val_accuracy: 0.7617\n",
      "Epoch 49/50\n",
      "38/38 [==============================] - 5s 122ms/step - loss: 0.6863 - accuracy: 0.7833 - val_loss: 0.7097 - val_accuracy: 0.7650\n",
      "Epoch 50/50\n",
      "38/38 [==============================] - 5s 127ms/step - loss: 0.6783 - accuracy: 0.7850 - val_loss: 0.7065 - val_accuracy: 0.7667\n",
      "Epoch 1/50\n"
     ]
    },
    {
     "name": "stderr",
     "output_type": "stream",
     "text": [
      "2023-05-11 17:14:53.463956: I tensorflow/core/grappler/optimizers/custom_graph_optimizer_registry.cc:113] Plugin optimizer for device_type GPU is enabled.\n"
     ]
    },
    {
     "name": "stdout",
     "output_type": "stream",
     "text": [
      "38/38 [==============================] - ETA: 0s - loss: 2.8017 - accuracy: 0.1383"
     ]
    },
    {
     "name": "stderr",
     "output_type": "stream",
     "text": [
      "2023-05-11 17:14:59.514908: I tensorflow/core/grappler/optimizers/custom_graph_optimizer_registry.cc:113] Plugin optimizer for device_type GPU is enabled.\n"
     ]
    },
    {
     "name": "stdout",
     "output_type": "stream",
     "text": [
      "38/38 [==============================] - 8s 175ms/step - loss: 2.8017 - accuracy: 0.1383 - val_loss: 2.7693 - val_accuracy: 0.1117\n",
      "Epoch 2/50\n",
      "38/38 [==============================] - 5s 131ms/step - loss: 2.2399 - accuracy: 0.2450 - val_loss: 2.6623 - val_accuracy: 0.1683\n",
      "Epoch 3/50\n",
      "38/38 [==============================] - 5s 120ms/step - loss: 1.9225 - accuracy: 0.3250 - val_loss: 2.5295 - val_accuracy: 0.1167\n",
      "Epoch 4/50\n",
      "38/38 [==============================] - 5s 141ms/step - loss: 1.7302 - accuracy: 0.3833 - val_loss: 2.3949 - val_accuracy: 0.1383\n",
      "Epoch 5/50\n",
      "38/38 [==============================] - 6s 156ms/step - loss: 1.5897 - accuracy: 0.4283 - val_loss: 2.2662 - val_accuracy: 0.1717\n",
      "Epoch 6/50\n",
      "38/38 [==============================] - 5s 138ms/step - loss: 1.4624 - accuracy: 0.4875 - val_loss: 2.1483 - val_accuracy: 0.1850\n",
      "Epoch 7/50\n",
      "38/38 [==============================] - 5s 126ms/step - loss: 1.3765 - accuracy: 0.5200 - val_loss: 2.0348 - val_accuracy: 0.2150\n",
      "Epoch 8/50\n",
      "38/38 [==============================] - 5s 127ms/step - loss: 1.3106 - accuracy: 0.5633 - val_loss: 1.9238 - val_accuracy: 0.2617\n",
      "Epoch 9/50\n",
      "38/38 [==============================] - 5s 135ms/step - loss: 1.2655 - accuracy: 0.5683 - val_loss: 1.8055 - val_accuracy: 0.3400\n",
      "Epoch 10/50\n",
      "38/38 [==============================] - 5s 141ms/step - loss: 1.2005 - accuracy: 0.6000 - val_loss: 1.6769 - val_accuracy: 0.4550\n",
      "Epoch 11/50\n",
      "38/38 [==============================] - 5s 120ms/step - loss: 1.1525 - accuracy: 0.6183 - val_loss: 1.5457 - val_accuracy: 0.5383\n",
      "Epoch 12/50\n",
      "38/38 [==============================] - 5s 121ms/step - loss: 1.1253 - accuracy: 0.6225 - val_loss: 1.4157 - val_accuracy: 0.5983\n",
      "Epoch 13/50\n",
      "38/38 [==============================] - 5s 142ms/step - loss: 1.0823 - accuracy: 0.6358 - val_loss: 1.2941 - val_accuracy: 0.6383\n",
      "Epoch 14/50\n",
      "38/38 [==============================] - 5s 139ms/step - loss: 1.0491 - accuracy: 0.6542 - val_loss: 1.1897 - val_accuracy: 0.6717\n",
      "Epoch 15/50\n",
      "38/38 [==============================] - 5s 121ms/step - loss: 1.0415 - accuracy: 0.6542 - val_loss: 1.1055 - val_accuracy: 0.6817\n",
      "Epoch 16/50\n",
      "38/38 [==============================] - 5s 126ms/step - loss: 1.0205 - accuracy: 0.6667 - val_loss: 1.0372 - val_accuracy: 0.6967\n",
      "Epoch 17/50\n",
      "38/38 [==============================] - 5s 129ms/step - loss: 0.9855 - accuracy: 0.6725 - val_loss: 0.9853 - val_accuracy: 0.7100\n",
      "Epoch 18/50\n",
      "38/38 [==============================] - 5s 141ms/step - loss: 0.9680 - accuracy: 0.6833 - val_loss: 0.9460 - val_accuracy: 0.7300\n",
      "Epoch 19/50\n",
      "38/38 [==============================] - 5s 123ms/step - loss: 0.9471 - accuracy: 0.7025 - val_loss: 0.9148 - val_accuracy: 0.7283\n",
      "Epoch 20/50\n",
      "38/38 [==============================] - 5s 136ms/step - loss: 0.9357 - accuracy: 0.6875 - val_loss: 0.8902 - val_accuracy: 0.7333\n",
      "Epoch 21/50\n",
      "38/38 [==============================] - 5s 130ms/step - loss: 0.9132 - accuracy: 0.7092 - val_loss: 0.8693 - val_accuracy: 0.7400\n",
      "Epoch 22/50\n",
      "38/38 [==============================] - 6s 171ms/step - loss: 0.9044 - accuracy: 0.7142 - val_loss: 0.8535 - val_accuracy: 0.7433\n",
      "Epoch 23/50\n",
      "38/38 [==============================] - 7s 192ms/step - loss: 0.8756 - accuracy: 0.7208 - val_loss: 0.8391 - val_accuracy: 0.7500\n",
      "Epoch 24/50\n",
      "38/38 [==============================] - 6s 152ms/step - loss: 0.8675 - accuracy: 0.7283 - val_loss: 0.8276 - val_accuracy: 0.7550\n",
      "Epoch 25/50\n",
      "38/38 [==============================] - 6s 153ms/step - loss: 0.8605 - accuracy: 0.7200 - val_loss: 0.8169 - val_accuracy: 0.7600\n",
      "Epoch 26/50\n",
      "38/38 [==============================] - 6s 150ms/step - loss: 0.8369 - accuracy: 0.7158 - val_loss: 0.8070 - val_accuracy: 0.7600\n",
      "Epoch 27/50\n",
      "38/38 [==============================] - 6s 152ms/step - loss: 0.8299 - accuracy: 0.7367 - val_loss: 0.7984 - val_accuracy: 0.7600\n",
      "Epoch 28/50\n",
      "38/38 [==============================] - 6s 154ms/step - loss: 0.8124 - accuracy: 0.7367 - val_loss: 0.7906 - val_accuracy: 0.7683\n",
      "Epoch 29/50\n",
      "38/38 [==============================] - 6s 154ms/step - loss: 0.8158 - accuracy: 0.7342 - val_loss: 0.7818 - val_accuracy: 0.7633\n",
      "Epoch 30/50\n",
      "38/38 [==============================] - 6s 156ms/step - loss: 0.7911 - accuracy: 0.7467 - val_loss: 0.7752 - val_accuracy: 0.7700\n",
      "Epoch 31/50\n",
      "38/38 [==============================] - 6s 158ms/step - loss: 0.7873 - accuracy: 0.7525 - val_loss: 0.7680 - val_accuracy: 0.7733\n",
      "Epoch 32/50\n",
      "38/38 [==============================] - 5s 132ms/step - loss: 0.7622 - accuracy: 0.7583 - val_loss: 0.7619 - val_accuracy: 0.7733\n",
      "Epoch 33/50\n",
      "38/38 [==============================] - 5s 141ms/step - loss: 0.7757 - accuracy: 0.7508 - val_loss: 0.7560 - val_accuracy: 0.7783\n",
      "Epoch 34/50\n",
      "38/38 [==============================] - 5s 139ms/step - loss: 0.7572 - accuracy: 0.7675 - val_loss: 0.7498 - val_accuracy: 0.7750\n",
      "Epoch 35/50\n",
      "38/38 [==============================] - 7s 171ms/step - loss: 0.7565 - accuracy: 0.7483 - val_loss: 0.7426 - val_accuracy: 0.7733\n",
      "Epoch 36/50\n",
      "38/38 [==============================] - 5s 135ms/step - loss: 0.7444 - accuracy: 0.7617 - val_loss: 0.7382 - val_accuracy: 0.7750\n",
      "Epoch 37/50\n",
      "38/38 [==============================] - 5s 139ms/step - loss: 0.7214 - accuracy: 0.7850 - val_loss: 0.7323 - val_accuracy: 0.7733\n",
      "Epoch 1/50\n"
     ]
    },
    {
     "name": "stderr",
     "output_type": "stream",
     "text": [
      "2023-05-11 17:18:16.062970: I tensorflow/core/grappler/optimizers/custom_graph_optimizer_registry.cc:113] Plugin optimizer for device_type GPU is enabled.\n"
     ]
    },
    {
     "name": "stdout",
     "output_type": "stream",
     "text": [
      "38/38 [==============================] - ETA: 0s - loss: 2.8426 - accuracy: 0.0967"
     ]
    },
    {
     "name": "stderr",
     "output_type": "stream",
     "text": [
      "2023-05-11 17:18:21.378654: I tensorflow/core/grappler/optimizers/custom_graph_optimizer_registry.cc:113] Plugin optimizer for device_type GPU is enabled.\n"
     ]
    },
    {
     "name": "stdout",
     "output_type": "stream",
     "text": [
      "38/38 [==============================] - 7s 158ms/step - loss: 2.8426 - accuracy: 0.0967 - val_loss: 2.7369 - val_accuracy: 0.1300\n",
      "Epoch 2/50\n",
      "38/38 [==============================] - 5s 137ms/step - loss: 2.2158 - accuracy: 0.2550 - val_loss: 2.5878 - val_accuracy: 0.1933\n",
      "Epoch 3/50\n",
      "38/38 [==============================] - 6s 147ms/step - loss: 1.8680 - accuracy: 0.3458 - val_loss: 2.4201 - val_accuracy: 0.1867\n",
      "Epoch 4/50\n",
      "38/38 [==============================] - 5s 124ms/step - loss: 1.6669 - accuracy: 0.4242 - val_loss: 2.2629 - val_accuracy: 0.2017\n",
      "Epoch 5/50\n",
      "38/38 [==============================] - 5s 136ms/step - loss: 1.5102 - accuracy: 0.5025 - val_loss: 2.1307 - val_accuracy: 0.2150\n",
      "Epoch 6/50\n",
      "38/38 [==============================] - 5s 126ms/step - loss: 1.4366 - accuracy: 0.4967 - val_loss: 2.0185 - val_accuracy: 0.2700\n",
      "Epoch 7/50\n",
      "38/38 [==============================] - 6s 149ms/step - loss: 1.3328 - accuracy: 0.5400 - val_loss: 1.9190 - val_accuracy: 0.3117\n",
      "Epoch 8/50\n",
      "38/38 [==============================] - 5s 137ms/step - loss: 1.2817 - accuracy: 0.5700 - val_loss: 1.8235 - val_accuracy: 0.3583\n",
      "Epoch 9/50\n",
      "38/38 [==============================] - 5s 122ms/step - loss: 1.2494 - accuracy: 0.5775 - val_loss: 1.7193 - val_accuracy: 0.3700\n",
      "Epoch 10/50\n",
      "38/38 [==============================] - 5s 122ms/step - loss: 1.1724 - accuracy: 0.5992 - val_loss: 1.6099 - val_accuracy: 0.4100\n",
      "Epoch 11/50\n",
      "38/38 [==============================] - 6s 151ms/step - loss: 1.1527 - accuracy: 0.6067 - val_loss: 1.4935 - val_accuracy: 0.4700\n",
      "Epoch 12/50\n",
      "38/38 [==============================] - 6s 152ms/step - loss: 1.0964 - accuracy: 0.6333 - val_loss: 1.3723 - val_accuracy: 0.5400\n",
      "Epoch 13/50\n",
      "38/38 [==============================] - 5s 130ms/step - loss: 1.0763 - accuracy: 0.6458 - val_loss: 1.2591 - val_accuracy: 0.5933\n",
      "Epoch 14/50\n",
      "38/38 [==============================] - 5s 121ms/step - loss: 1.0605 - accuracy: 0.6517 - val_loss: 1.1637 - val_accuracy: 0.6317\n",
      "Epoch 15/50\n",
      "38/38 [==============================] - 5s 136ms/step - loss: 1.0370 - accuracy: 0.6542 - val_loss: 1.0830 - val_accuracy: 0.6633\n",
      "Epoch 16/50\n",
      "38/38 [==============================] - 7s 180ms/step - loss: 1.0038 - accuracy: 0.6708 - val_loss: 1.0203 - val_accuracy: 0.6783\n",
      "Epoch 17/50\n",
      "38/38 [==============================] - 5s 119ms/step - loss: 0.9826 - accuracy: 0.6642 - val_loss: 0.9726 - val_accuracy: 0.6850\n",
      "Epoch 18/50\n",
      "38/38 [==============================] - 5s 130ms/step - loss: 0.9688 - accuracy: 0.6775 - val_loss: 0.9360 - val_accuracy: 0.7033\n",
      "Epoch 19/50\n",
      "38/38 [==============================] - 5s 127ms/step - loss: 0.9486 - accuracy: 0.6858 - val_loss: 0.9081 - val_accuracy: 0.7033\n",
      "Epoch 20/50\n",
      "38/38 [==============================] - 6s 168ms/step - loss: 0.9302 - accuracy: 0.6742 - val_loss: 0.8853 - val_accuracy: 0.7050\n",
      "Epoch 21/50\n",
      "38/38 [==============================] - 4s 118ms/step - loss: 0.9014 - accuracy: 0.7042 - val_loss: 0.8679 - val_accuracy: 0.7167\n",
      "Epoch 22/50\n",
      "38/38 [==============================] - 5s 134ms/step - loss: 0.9050 - accuracy: 0.7117 - val_loss: 0.8533 - val_accuracy: 0.7250\n",
      "Epoch 23/50\n",
      "38/38 [==============================] - 5s 144ms/step - loss: 0.8822 - accuracy: 0.7050 - val_loss: 0.8401 - val_accuracy: 0.7283\n",
      "Epoch 24/50\n",
      "38/38 [==============================] - 5s 137ms/step - loss: 0.8846 - accuracy: 0.7058 - val_loss: 0.8285 - val_accuracy: 0.7383\n",
      "Epoch 25/50\n",
      "38/38 [==============================] - 5s 122ms/step - loss: 0.8455 - accuracy: 0.7250 - val_loss: 0.8168 - val_accuracy: 0.7450\n",
      "Epoch 26/50\n",
      "38/38 [==============================] - 5s 126ms/step - loss: 0.8575 - accuracy: 0.7225 - val_loss: 0.8079 - val_accuracy: 0.7500\n",
      "Epoch 27/50\n",
      "38/38 [==============================] - 5s 133ms/step - loss: 0.8425 - accuracy: 0.7308 - val_loss: 0.7985 - val_accuracy: 0.7500\n",
      "Epoch 28/50\n",
      "38/38 [==============================] - 6s 145ms/step - loss: 0.8301 - accuracy: 0.7283 - val_loss: 0.7915 - val_accuracy: 0.7567\n",
      "Epoch 29/50\n",
      "38/38 [==============================] - 5s 136ms/step - loss: 0.8218 - accuracy: 0.7200 - val_loss: 0.7834 - val_accuracy: 0.7583\n",
      "Epoch 30/50\n",
      "38/38 [==============================] - 5s 129ms/step - loss: 0.8066 - accuracy: 0.7333 - val_loss: 0.7753 - val_accuracy: 0.7650\n",
      "Epoch 31/50\n",
      "38/38 [==============================] - 5s 143ms/step - loss: 0.7832 - accuracy: 0.7417 - val_loss: 0.7683 - val_accuracy: 0.7617\n",
      "Epoch 32/50\n",
      "38/38 [==============================] - 5s 133ms/step - loss: 0.7773 - accuracy: 0.7533 - val_loss: 0.7606 - val_accuracy: 0.7683\n",
      "Epoch 33/50\n",
      "38/38 [==============================] - 5s 129ms/step - loss: 0.7725 - accuracy: 0.7458 - val_loss: 0.7550 - val_accuracy: 0.7650\n",
      "Epoch 34/50\n",
      "38/38 [==============================] - 5s 136ms/step - loss: 0.7584 - accuracy: 0.7550 - val_loss: 0.7488 - val_accuracy: 0.7717\n",
      "Epoch 35/50\n",
      "38/38 [==============================] - 5s 136ms/step - loss: 0.7582 - accuracy: 0.7625 - val_loss: 0.7441 - val_accuracy: 0.7750\n",
      "Epoch 36/50\n",
      "38/38 [==============================] - 5s 133ms/step - loss: 0.7524 - accuracy: 0.7567 - val_loss: 0.7385 - val_accuracy: 0.7717\n",
      "Epoch 37/50\n",
      "38/38 [==============================] - 4s 119ms/step - loss: 0.7245 - accuracy: 0.7692 - val_loss: 0.7335 - val_accuracy: 0.7733\n",
      "Epoch 38/50\n",
      "38/38 [==============================] - 5s 131ms/step - loss: 0.7198 - accuracy: 0.7775 - val_loss: 0.7287 - val_accuracy: 0.7767\n",
      "Epoch 39/50\n",
      "38/38 [==============================] - 6s 147ms/step - loss: 0.7237 - accuracy: 0.7600 - val_loss: 0.7220 - val_accuracy: 0.7733\n",
      "Epoch 40/50\n",
      "38/38 [==============================] - 5s 143ms/step - loss: 0.6933 - accuracy: 0.7842 - val_loss: 0.7176 - val_accuracy: 0.7750\n",
      "Epoch 41/50\n",
      "38/38 [==============================] - 7s 179ms/step - loss: 0.6891 - accuracy: 0.7725 - val_loss: 0.7138 - val_accuracy: 0.7783\n",
      "Epoch 42/50\n",
      "38/38 [==============================] - 7s 189ms/step - loss: 0.6955 - accuracy: 0.7758 - val_loss: 0.7089 - val_accuracy: 0.7817\n",
      "Epoch 43/50\n",
      "38/38 [==============================] - 7s 175ms/step - loss: 0.6934 - accuracy: 0.7817 - val_loss: 0.7056 - val_accuracy: 0.7850\n",
      "Epoch 44/50\n",
      "38/38 [==============================] - 5s 141ms/step - loss: 0.6915 - accuracy: 0.7842 - val_loss: 0.7013 - val_accuracy: 0.7833\n",
      "Epoch 45/50\n",
      "38/38 [==============================] - 5s 145ms/step - loss: 0.6856 - accuracy: 0.7733 - val_loss: 0.6973 - val_accuracy: 0.7850\n",
      "Epoch 46/50\n",
      "38/38 [==============================] - 6s 152ms/step - loss: 0.6642 - accuracy: 0.8008 - val_loss: 0.6940 - val_accuracy: 0.7867\n",
      "Epoch 47/50\n",
      "38/38 [==============================] - 5s 129ms/step - loss: 0.6490 - accuracy: 0.8017 - val_loss: 0.6903 - val_accuracy: 0.7867\n",
      "Epoch 48/50\n",
      "38/38 [==============================] - 5s 132ms/step - loss: 0.6739 - accuracy: 0.7758 - val_loss: 0.6860 - val_accuracy: 0.7867\n",
      "Epoch 49/50\n",
      "38/38 [==============================] - 6s 147ms/step - loss: 0.6411 - accuracy: 0.8025 - val_loss: 0.6825 - val_accuracy: 0.7883\n",
      "Epoch 50/50\n",
      "38/38 [==============================] - 5s 143ms/step - loss: 0.6318 - accuracy: 0.8033 - val_loss: 0.6797 - val_accuracy: 0.7933\n",
      "trials for model 10: 0.7777778108914694\n",
      "Epoch 1/50\n"
     ]
    },
    {
     "name": "stderr",
     "output_type": "stream",
     "text": [
      "2023-05-11 17:22:48.178082: I tensorflow/core/grappler/optimizers/custom_graph_optimizer_registry.cc:113] Plugin optimizer for device_type GPU is enabled.\n"
     ]
    },
    {
     "name": "stdout",
     "output_type": "stream",
     "text": [
      "38/38 [==============================] - ETA: 0s - loss: 2.8876 - accuracy: 0.1150"
     ]
    },
    {
     "name": "stderr",
     "output_type": "stream",
     "text": [
      "2023-05-11 17:22:52.836091: I tensorflow/core/grappler/optimizers/custom_graph_optimizer_registry.cc:113] Plugin optimizer for device_type GPU is enabled.\n"
     ]
    },
    {
     "name": "stdout",
     "output_type": "stream",
     "text": [
      "38/38 [==============================] - 8s 98ms/step - loss: 2.8876 - accuracy: 0.1150 - val_loss: 2.7687 - val_accuracy: 0.1467\n",
      "Epoch 2/50\n",
      "38/38 [==============================] - 2s 47ms/step - loss: 2.5464 - accuracy: 0.1933 - val_loss: 2.6914 - val_accuracy: 0.1783\n",
      "Epoch 3/50\n",
      "38/38 [==============================] - 2s 50ms/step - loss: 2.3038 - accuracy: 0.2308 - val_loss: 2.5892 - val_accuracy: 0.1800\n",
      "Epoch 4/50\n",
      "38/38 [==============================] - 2s 45ms/step - loss: 2.1421 - accuracy: 0.2758 - val_loss: 2.4803 - val_accuracy: 0.1800\n",
      "Epoch 5/50\n",
      "38/38 [==============================] - 2s 53ms/step - loss: 1.9969 - accuracy: 0.3083 - val_loss: 2.3719 - val_accuracy: 0.1900\n",
      "Epoch 6/50\n",
      "38/38 [==============================] - 2s 56ms/step - loss: 1.8675 - accuracy: 0.3358 - val_loss: 2.2657 - val_accuracy: 0.2200\n",
      "Epoch 7/50\n",
      "38/38 [==============================] - 2s 54ms/step - loss: 1.7937 - accuracy: 0.3658 - val_loss: 2.1564 - val_accuracy: 0.2433\n",
      "Epoch 8/50\n",
      "38/38 [==============================] - 2s 55ms/step - loss: 1.7187 - accuracy: 0.3883 - val_loss: 2.0475 - val_accuracy: 0.2967\n",
      "Epoch 9/50\n",
      "38/38 [==============================] - 3s 71ms/step - loss: 1.6268 - accuracy: 0.4225 - val_loss: 1.9339 - val_accuracy: 0.3417\n",
      "Epoch 10/50\n",
      "38/38 [==============================] - 2s 61ms/step - loss: 1.5760 - accuracy: 0.4500 - val_loss: 1.8192 - val_accuracy: 0.3900\n",
      "Epoch 11/50\n",
      "38/38 [==============================] - 3s 68ms/step - loss: 1.5221 - accuracy: 0.4542 - val_loss: 1.7068 - val_accuracy: 0.4267\n",
      "Epoch 12/50\n",
      "38/38 [==============================] - 3s 68ms/step - loss: 1.4667 - accuracy: 0.4867 - val_loss: 1.6082 - val_accuracy: 0.4567\n",
      "Epoch 13/50\n",
      "38/38 [==============================] - 2s 53ms/step - loss: 1.4261 - accuracy: 0.5067 - val_loss: 1.5180 - val_accuracy: 0.5000\n",
      "Epoch 14/50\n",
      "38/38 [==============================] - 2s 51ms/step - loss: 1.3894 - accuracy: 0.5175 - val_loss: 1.4419 - val_accuracy: 0.5283\n",
      "Epoch 15/50\n",
      "38/38 [==============================] - 2s 44ms/step - loss: 1.3681 - accuracy: 0.5017 - val_loss: 1.3775 - val_accuracy: 0.5483\n",
      "Epoch 16/50\n",
      "38/38 [==============================] - 2s 50ms/step - loss: 1.3320 - accuracy: 0.5392 - val_loss: 1.3247 - val_accuracy: 0.5767\n",
      "Epoch 17/50\n",
      "38/38 [==============================] - 2s 46ms/step - loss: 1.3188 - accuracy: 0.5508 - val_loss: 1.2802 - val_accuracy: 0.5833\n",
      "Epoch 18/50\n",
      "38/38 [==============================] - 2s 55ms/step - loss: 1.2776 - accuracy: 0.5608 - val_loss: 1.2420 - val_accuracy: 0.5983\n",
      "Epoch 19/50\n",
      "38/38 [==============================] - 2s 62ms/step - loss: 1.2467 - accuracy: 0.5808 - val_loss: 1.2096 - val_accuracy: 0.6083\n",
      "Epoch 20/50\n",
      "38/38 [==============================] - 2s 64ms/step - loss: 1.2426 - accuracy: 0.5692 - val_loss: 1.1816 - val_accuracy: 0.6200\n",
      "Epoch 21/50\n",
      "38/38 [==============================] - 2s 53ms/step - loss: 1.2123 - accuracy: 0.5800 - val_loss: 1.1572 - val_accuracy: 0.6250\n",
      "Epoch 22/50\n",
      "38/38 [==============================] - 2s 60ms/step - loss: 1.1936 - accuracy: 0.5883 - val_loss: 1.1361 - val_accuracy: 0.6300\n",
      "Epoch 23/50\n",
      "38/38 [==============================] - 3s 83ms/step - loss: 1.1720 - accuracy: 0.6083 - val_loss: 1.1165 - val_accuracy: 0.6350\n",
      "Epoch 24/50\n",
      "38/38 [==============================] - 3s 76ms/step - loss: 1.1545 - accuracy: 0.6133 - val_loss: 1.0979 - val_accuracy: 0.6433\n",
      "Epoch 25/50\n",
      "38/38 [==============================] - 2s 59ms/step - loss: 1.1331 - accuracy: 0.6058 - val_loss: 1.0813 - val_accuracy: 0.6533\n",
      "Epoch 26/50\n",
      "38/38 [==============================] - 2s 54ms/step - loss: 1.1198 - accuracy: 0.6250 - val_loss: 1.0661 - val_accuracy: 0.6583\n",
      "Epoch 27/50\n",
      "38/38 [==============================] - 2s 55ms/step - loss: 1.1186 - accuracy: 0.6325 - val_loss: 1.0514 - val_accuracy: 0.6650\n",
      "Epoch 28/50\n",
      "38/38 [==============================] - 2s 48ms/step - loss: 1.0850 - accuracy: 0.6333 - val_loss: 1.0381 - val_accuracy: 0.6750\n",
      "Epoch 29/50\n",
      "38/38 [==============================] - 2s 43ms/step - loss: 1.0799 - accuracy: 0.6358 - val_loss: 1.0256 - val_accuracy: 0.6800\n",
      "Epoch 30/50\n",
      "38/38 [==============================] - 2s 49ms/step - loss: 1.0512 - accuracy: 0.6500 - val_loss: 1.0132 - val_accuracy: 0.6817\n",
      "Epoch 31/50\n",
      "38/38 [==============================] - 2s 45ms/step - loss: 1.0481 - accuracy: 0.6525 - val_loss: 1.0022 - val_accuracy: 0.6850\n",
      "Epoch 32/50\n",
      "38/38 [==============================] - 2s 54ms/step - loss: 1.0290 - accuracy: 0.6592 - val_loss: 0.9914 - val_accuracy: 0.6883\n",
      "Epoch 33/50\n",
      "38/38 [==============================] - 2s 45ms/step - loss: 1.0178 - accuracy: 0.6533 - val_loss: 0.9812 - val_accuracy: 0.6917\n",
      "Epoch 34/50\n",
      "38/38 [==============================] - 2s 53ms/step - loss: 1.0051 - accuracy: 0.6625 - val_loss: 0.9717 - val_accuracy: 0.6983\n",
      "Epoch 35/50\n",
      "38/38 [==============================] - 2s 48ms/step - loss: 0.9926 - accuracy: 0.6808 - val_loss: 0.9623 - val_accuracy: 0.6967\n",
      "Epoch 36/50\n",
      "38/38 [==============================] - 2s 51ms/step - loss: 0.9934 - accuracy: 0.6758 - val_loss: 0.9529 - val_accuracy: 0.6983\n",
      "Epoch 37/50\n",
      "38/38 [==============================] - 2s 60ms/step - loss: 0.9766 - accuracy: 0.6717 - val_loss: 0.9448 - val_accuracy: 0.7017\n",
      "Epoch 38/50\n",
      "38/38 [==============================] - 2s 59ms/step - loss: 0.9383 - accuracy: 0.6983 - val_loss: 0.9368 - val_accuracy: 0.7067\n",
      "Epoch 39/50\n",
      "38/38 [==============================] - 2s 51ms/step - loss: 0.9581 - accuracy: 0.6908 - val_loss: 0.9292 - val_accuracy: 0.7067\n",
      "Epoch 40/50\n",
      "38/38 [==============================] - 2s 45ms/step - loss: 0.9372 - accuracy: 0.6958 - val_loss: 0.9214 - val_accuracy: 0.7067\n",
      "Epoch 41/50\n",
      "38/38 [==============================] - 2s 53ms/step - loss: 0.9418 - accuracy: 0.7042 - val_loss: 0.9138 - val_accuracy: 0.7067\n",
      "Epoch 42/50\n",
      "38/38 [==============================] - 2s 44ms/step - loss: 0.9295 - accuracy: 0.6992 - val_loss: 0.9070 - val_accuracy: 0.7133\n",
      "Epoch 43/50\n",
      "38/38 [==============================] - 2s 51ms/step - loss: 0.9282 - accuracy: 0.6992 - val_loss: 0.9001 - val_accuracy: 0.7100\n",
      "Epoch 44/50\n",
      "38/38 [==============================] - 2s 52ms/step - loss: 0.9074 - accuracy: 0.7142 - val_loss: 0.8934 - val_accuracy: 0.7150\n",
      "Epoch 45/50\n",
      "38/38 [==============================] - 2s 63ms/step - loss: 0.8906 - accuracy: 0.7025 - val_loss: 0.8869 - val_accuracy: 0.7167\n",
      "Epoch 46/50\n",
      "38/38 [==============================] - 2s 57ms/step - loss: 0.9189 - accuracy: 0.6967 - val_loss: 0.8808 - val_accuracy: 0.7167\n",
      "Epoch 47/50\n",
      "38/38 [==============================] - 2s 47ms/step - loss: 0.8929 - accuracy: 0.7125 - val_loss: 0.8754 - val_accuracy: 0.7200\n",
      "Epoch 48/50\n",
      "38/38 [==============================] - 2s 46ms/step - loss: 0.9127 - accuracy: 0.7017 - val_loss: 0.8700 - val_accuracy: 0.7250\n",
      "Epoch 49/50\n",
      "38/38 [==============================] - 2s 55ms/step - loss: 0.8914 - accuracy: 0.7150 - val_loss: 0.8642 - val_accuracy: 0.7217\n",
      "Epoch 50/50\n",
      "38/38 [==============================] - 3s 68ms/step - loss: 0.8577 - accuracy: 0.7392 - val_loss: 0.8589 - val_accuracy: 0.7233\n",
      "Epoch 1/50\n"
     ]
    },
    {
     "name": "stderr",
     "output_type": "stream",
     "text": [
      "2023-05-11 17:24:39.310004: I tensorflow/core/grappler/optimizers/custom_graph_optimizer_registry.cc:113] Plugin optimizer for device_type GPU is enabled.\n"
     ]
    },
    {
     "name": "stdout",
     "output_type": "stream",
     "text": [
      "38/38 [==============================] - ETA: 0s - loss: 3.4471 - accuracy: 0.0392"
     ]
    },
    {
     "name": "stderr",
     "output_type": "stream",
     "text": [
      "2023-05-11 17:24:43.255835: I tensorflow/core/grappler/optimizers/custom_graph_optimizer_registry.cc:113] Plugin optimizer for device_type GPU is enabled.\n"
     ]
    },
    {
     "name": "stdout",
     "output_type": "stream",
     "text": [
      "38/38 [==============================] - 5s 107ms/step - loss: 3.4471 - accuracy: 0.0392 - val_loss: 2.8030 - val_accuracy: 0.0767\n",
      "Epoch 2/50\n",
      "38/38 [==============================] - 2s 49ms/step - loss: 2.9969 - accuracy: 0.1008 - val_loss: 2.7388 - val_accuracy: 0.1517\n",
      "Epoch 3/50\n",
      "38/38 [==============================] - 2s 46ms/step - loss: 2.6722 - accuracy: 0.1475 - val_loss: 2.6400 - val_accuracy: 0.1867\n",
      "Epoch 4/50\n",
      "38/38 [==============================] - 4s 96ms/step - loss: 2.4148 - accuracy: 0.1850 - val_loss: 2.5273 - val_accuracy: 0.2117\n",
      "Epoch 5/50\n",
      "38/38 [==============================] - 2s 60ms/step - loss: 2.2046 - accuracy: 0.2450 - val_loss: 2.4137 - val_accuracy: 0.2317\n",
      "Epoch 6/50\n",
      "38/38 [==============================] - 281s 8s/step - loss: 2.0719 - accuracy: 0.2658 - val_loss: 2.3014 - val_accuracy: 0.2683\n",
      "Epoch 7/50\n",
      "38/38 [==============================] - 4s 104ms/step - loss: 1.9281 - accuracy: 0.3183 - val_loss: 2.1925 - val_accuracy: 0.2917\n",
      "Epoch 8/50\n",
      "38/38 [==============================] - 4s 109ms/step - loss: 1.8166 - accuracy: 0.3500 - val_loss: 2.0844 - val_accuracy: 0.3317\n",
      "Epoch 9/50\n",
      "38/38 [==============================] - 2s 57ms/step - loss: 1.7503 - accuracy: 0.3667 - val_loss: 1.9725 - val_accuracy: 0.3683\n",
      "Epoch 10/50\n",
      "38/38 [==============================] - 3s 73ms/step - loss: 1.6546 - accuracy: 0.4033 - val_loss: 1.8619 - val_accuracy: 0.3917\n",
      "Epoch 11/50\n",
      "38/38 [==============================] - 83s 2s/step - loss: 1.5989 - accuracy: 0.4367 - val_loss: 1.7553 - val_accuracy: 0.4183\n",
      "Epoch 12/50\n",
      "38/38 [==============================] - 2s 48ms/step - loss: 1.5346 - accuracy: 0.4450 - val_loss: 1.6531 - val_accuracy: 0.4617\n",
      "Epoch 13/50\n",
      "38/38 [==============================] - 2s 59ms/step - loss: 1.4689 - accuracy: 0.4783 - val_loss: 1.5604 - val_accuracy: 0.4900\n",
      "Epoch 14/50\n",
      "38/38 [==============================] - 1s 40ms/step - loss: 1.4344 - accuracy: 0.5017 - val_loss: 1.4784 - val_accuracy: 0.5250\n",
      "Epoch 15/50\n",
      "38/38 [==============================] - 2s 43ms/step - loss: 1.3949 - accuracy: 0.5225 - val_loss: 1.4069 - val_accuracy: 0.5583\n",
      "Epoch 16/50\n",
      "38/38 [==============================] - 2s 42ms/step - loss: 1.3582 - accuracy: 0.5208 - val_loss: 1.3467 - val_accuracy: 0.5783\n",
      "Epoch 17/50\n",
      "38/38 [==============================] - 2s 47ms/step - loss: 1.3315 - accuracy: 0.5392 - val_loss: 1.2957 - val_accuracy: 0.5933\n",
      "Epoch 18/50\n",
      "38/38 [==============================] - 2s 44ms/step - loss: 1.3103 - accuracy: 0.5417 - val_loss: 1.2528 - val_accuracy: 0.5983\n",
      "Epoch 19/50\n",
      "38/38 [==============================] - 1s 39ms/step - loss: 1.2861 - accuracy: 0.5558 - val_loss: 1.2182 - val_accuracy: 0.6167\n",
      "Epoch 20/50\n",
      "38/38 [==============================] - 1s 37ms/step - loss: 1.2544 - accuracy: 0.5692 - val_loss: 1.1873 - val_accuracy: 0.6217\n",
      "Epoch 21/50\n",
      "38/38 [==============================] - 2s 44ms/step - loss: 1.2201 - accuracy: 0.5750 - val_loss: 1.1615 - val_accuracy: 0.6350\n",
      "Epoch 22/50\n",
      "38/38 [==============================] - 2s 46ms/step - loss: 1.1903 - accuracy: 0.5900 - val_loss: 1.1384 - val_accuracy: 0.6417\n",
      "Epoch 23/50\n",
      "38/38 [==============================] - 552s 15s/step - loss: 1.1821 - accuracy: 0.5975 - val_loss: 1.1183 - val_accuracy: 0.6500\n",
      "Epoch 24/50\n",
      "38/38 [==============================] - 2s 45ms/step - loss: 1.1548 - accuracy: 0.6267 - val_loss: 1.1001 - val_accuracy: 0.6517\n",
      "Epoch 25/50\n",
      "38/38 [==============================] - 2s 58ms/step - loss: 1.1407 - accuracy: 0.6233 - val_loss: 1.0829 - val_accuracy: 0.6583\n",
      "Epoch 26/50\n",
      "38/38 [==============================] - 3s 66ms/step - loss: 1.1194 - accuracy: 0.6167 - val_loss: 1.0675 - val_accuracy: 0.6633\n",
      "Epoch 27/50\n",
      "38/38 [==============================] - 2s 51ms/step - loss: 1.1114 - accuracy: 0.6225 - val_loss: 1.0526 - val_accuracy: 0.6667\n",
      "Epoch 28/50\n",
      "38/38 [==============================] - 2s 47ms/step - loss: 1.0931 - accuracy: 0.6242 - val_loss: 1.0396 - val_accuracy: 0.6717\n",
      "Epoch 29/50\n",
      "38/38 [==============================] - 934s 25s/step - loss: 1.0860 - accuracy: 0.6425 - val_loss: 1.0272 - val_accuracy: 0.6800\n",
      "Epoch 30/50\n",
      "38/38 [==============================] - 2s 60ms/step - loss: 1.0663 - accuracy: 0.6458 - val_loss: 1.0160 - val_accuracy: 0.6900\n",
      "Epoch 31/50\n",
      "38/38 [==============================] - 2s 46ms/step - loss: 1.0551 - accuracy: 0.6550 - val_loss: 1.0047 - val_accuracy: 0.6967\n",
      "Epoch 32/50\n",
      "38/38 [==============================] - 2s 44ms/step - loss: 1.0400 - accuracy: 0.6442 - val_loss: 0.9946 - val_accuracy: 0.6950\n",
      "Epoch 33/50\n",
      "38/38 [==============================] - 1054s 28s/step - loss: 1.0392 - accuracy: 0.6533 - val_loss: 0.9844 - val_accuracy: 0.7017\n",
      "Epoch 34/50\n",
      "38/38 [==============================] - 2s 47ms/step - loss: 1.0381 - accuracy: 0.6517 - val_loss: 0.9751 - val_accuracy: 0.7017\n",
      "Epoch 35/50\n",
      "38/38 [==============================] - 2s 46ms/step - loss: 1.0057 - accuracy: 0.6683 - val_loss: 0.9658 - val_accuracy: 0.7050\n",
      "Epoch 36/50\n",
      "38/38 [==============================] - 2s 44ms/step - loss: 0.9925 - accuracy: 0.6800 - val_loss: 0.9575 - val_accuracy: 0.7067\n",
      "Epoch 37/50\n",
      "38/38 [==============================] - 942s 25s/step - loss: 0.9955 - accuracy: 0.6617 - val_loss: 0.9490 - val_accuracy: 0.7150\n",
      "Epoch 38/50\n",
      "38/38 [==============================] - 2s 46ms/step - loss: 0.9780 - accuracy: 0.6900 - val_loss: 0.9424 - val_accuracy: 0.7200\n",
      "Epoch 39/50\n",
      "38/38 [==============================] - 2s 60ms/step - loss: 0.9740 - accuracy: 0.6700 - val_loss: 0.9334 - val_accuracy: 0.7217\n",
      "Epoch 40/50\n",
      "38/38 [==============================] - 1030s 28s/step - loss: 0.9749 - accuracy: 0.6808 - val_loss: 0.9264 - val_accuracy: 0.7250\n",
      "Epoch 41/50\n",
      "38/38 [==============================] - 2s 56ms/step - loss: 0.9551 - accuracy: 0.6692 - val_loss: 0.9189 - val_accuracy: 0.7283\n",
      "Epoch 42/50\n",
      "38/38 [==============================] - 2s 49ms/step - loss: 0.9418 - accuracy: 0.6867 - val_loss: 0.9127 - val_accuracy: 0.7267\n",
      "Epoch 43/50\n",
      "38/38 [==============================] - 921s 25s/step - loss: 0.9387 - accuracy: 0.6925 - val_loss: 0.9064 - val_accuracy: 0.7283\n",
      "Epoch 44/50\n",
      "38/38 [==============================] - 2s 63ms/step - loss: 0.9323 - accuracy: 0.6967 - val_loss: 0.8998 - val_accuracy: 0.7300\n",
      "Epoch 45/50\n",
      "38/38 [==============================] - 2s 59ms/step - loss: 0.9295 - accuracy: 0.6908 - val_loss: 0.8944 - val_accuracy: 0.7283\n",
      "Epoch 46/50\n",
      "38/38 [==============================] - 791s 21s/step - loss: 0.9127 - accuracy: 0.7067 - val_loss: 0.8888 - val_accuracy: 0.7283\n",
      "Epoch 47/50\n",
      "38/38 [==============================] - 2s 48ms/step - loss: 0.9124 - accuracy: 0.6967 - val_loss: 0.8834 - val_accuracy: 0.7317\n",
      "Epoch 48/50\n",
      "38/38 [==============================] - 2s 49ms/step - loss: 0.9099 - accuracy: 0.7100 - val_loss: 0.8782 - val_accuracy: 0.7333\n",
      "Epoch 49/50\n",
      "38/38 [==============================] - 2s 47ms/step - loss: 0.9042 - accuracy: 0.6900 - val_loss: 0.8723 - val_accuracy: 0.7350\n",
      "Epoch 50/50\n",
      "38/38 [==============================] - 2s 51ms/step - loss: 0.8947 - accuracy: 0.7042 - val_loss: 0.8676 - val_accuracy: 0.7317\n",
      "Epoch 1/50\n"
     ]
    },
    {
     "name": "stderr",
     "output_type": "stream",
     "text": [
      "2023-05-11 19:16:02.962222: I tensorflow/core/grappler/optimizers/custom_graph_optimizer_registry.cc:113] Plugin optimizer for device_type GPU is enabled.\n"
     ]
    },
    {
     "name": "stdout",
     "output_type": "stream",
     "text": [
      "38/38 [==============================] - ETA: 0s - loss: 3.1794 - accuracy: 0.0767"
     ]
    },
    {
     "name": "stderr",
     "output_type": "stream",
     "text": [
      "2023-05-11 19:16:06.118068: I tensorflow/core/grappler/optimizers/custom_graph_optimizer_registry.cc:113] Plugin optimizer for device_type GPU is enabled.\n"
     ]
    },
    {
     "name": "stdout",
     "output_type": "stream",
     "text": [
      "38/38 [==============================] - 5s 86ms/step - loss: 3.1794 - accuracy: 0.0767 - val_loss: 2.8010 - val_accuracy: 0.0517\n",
      "Epoch 2/50\n",
      "38/38 [==============================] - 14s 386ms/step - loss: 2.7487 - accuracy: 0.1433 - val_loss: 2.7509 - val_accuracy: 0.0650\n",
      "Epoch 3/50\n",
      "38/38 [==============================] - 2s 43ms/step - loss: 2.4263 - accuracy: 0.2150 - val_loss: 2.6582 - val_accuracy: 0.1617\n",
      "Epoch 4/50\n",
      "38/38 [==============================] - 2s 45ms/step - loss: 2.2410 - accuracy: 0.2542 - val_loss: 2.5439 - val_accuracy: 0.2517\n",
      "Epoch 5/50\n",
      "38/38 [==============================] - 1s 39ms/step - loss: 2.0616 - accuracy: 0.2892 - val_loss: 2.4221 - val_accuracy: 0.2767\n",
      "Epoch 6/50\n",
      "38/38 [==============================] - 2s 52ms/step - loss: 1.9507 - accuracy: 0.3275 - val_loss: 2.2987 - val_accuracy: 0.2950\n",
      "Epoch 7/50\n",
      "38/38 [==============================] - 16s 425ms/step - loss: 1.8439 - accuracy: 0.3342 - val_loss: 2.1766 - val_accuracy: 0.3250\n",
      "Epoch 8/50\n",
      "38/38 [==============================] - 2s 48ms/step - loss: 1.7526 - accuracy: 0.3692 - val_loss: 2.0568 - val_accuracy: 0.3700\n",
      "Epoch 9/50\n",
      "38/38 [==============================] - 2s 42ms/step - loss: 1.7027 - accuracy: 0.3925 - val_loss: 1.9378 - val_accuracy: 0.3983\n",
      "Epoch 10/50\n",
      "38/38 [==============================] - 2s 47ms/step - loss: 1.6090 - accuracy: 0.4108 - val_loss: 1.8237 - val_accuracy: 0.4367\n",
      "Epoch 11/50\n",
      "38/38 [==============================] - 2s 51ms/step - loss: 1.5552 - accuracy: 0.4492 - val_loss: 1.7180 - val_accuracy: 0.4667\n",
      "Epoch 12/50\n",
      "38/38 [==============================] - 30s 808ms/step - loss: 1.5392 - accuracy: 0.4475 - val_loss: 1.6155 - val_accuracy: 0.4883\n",
      "Epoch 13/50\n",
      "38/38 [==============================] - 2s 47ms/step - loss: 1.4694 - accuracy: 0.4833 - val_loss: 1.5245 - val_accuracy: 0.5217\n",
      "Epoch 14/50\n",
      "38/38 [==============================] - 1s 40ms/step - loss: 1.4320 - accuracy: 0.4917 - val_loss: 1.4481 - val_accuracy: 0.5417\n",
      "Epoch 15/50\n",
      "38/38 [==============================] - 2s 40ms/step - loss: 1.3965 - accuracy: 0.5150 - val_loss: 1.3831 - val_accuracy: 0.5567\n",
      "Epoch 16/50\n",
      "38/38 [==============================] - 2s 43ms/step - loss: 1.3775 - accuracy: 0.5083 - val_loss: 1.3296 - val_accuracy: 0.5700\n",
      "Epoch 17/50\n",
      "38/38 [==============================] - 23s 630ms/step - loss: 1.3122 - accuracy: 0.5425 - val_loss: 1.2853 - val_accuracy: 0.5800\n",
      "Epoch 18/50\n",
      "38/38 [==============================] - 2s 47ms/step - loss: 1.3201 - accuracy: 0.5242 - val_loss: 1.2467 - val_accuracy: 0.5900\n",
      "Epoch 19/50\n",
      "38/38 [==============================] - 2s 40ms/step - loss: 1.2906 - accuracy: 0.5625 - val_loss: 1.2144 - val_accuracy: 0.5967\n",
      "Epoch 20/50\n",
      "38/38 [==============================] - 1s 35ms/step - loss: 1.2561 - accuracy: 0.5658 - val_loss: 1.1872 - val_accuracy: 0.6033\n",
      "Epoch 21/50\n",
      "38/38 [==============================] - 1s 37ms/step - loss: 1.2452 - accuracy: 0.5692 - val_loss: 1.1631 - val_accuracy: 0.6100\n",
      "Epoch 22/50\n",
      "38/38 [==============================] - 1s 32ms/step - loss: 1.2136 - accuracy: 0.5942 - val_loss: 1.1420 - val_accuracy: 0.6217\n",
      "Epoch 23/50\n",
      "38/38 [==============================] - 1s 36ms/step - loss: 1.1922 - accuracy: 0.5808 - val_loss: 1.1232 - val_accuracy: 0.6283\n",
      "Epoch 24/50\n",
      "38/38 [==============================] - 22s 595ms/step - loss: 1.1843 - accuracy: 0.5800 - val_loss: 1.1054 - val_accuracy: 0.6317\n",
      "Epoch 25/50\n",
      "38/38 [==============================] - 1s 37ms/step - loss: 1.1483 - accuracy: 0.6050 - val_loss: 1.0901 - val_accuracy: 0.6317\n",
      "Epoch 26/50\n",
      "38/38 [==============================] - 1s 33ms/step - loss: 1.1515 - accuracy: 0.5983 - val_loss: 1.0751 - val_accuracy: 0.6383\n",
      "Epoch 27/50\n",
      "38/38 [==============================] - 1s 33ms/step - loss: 1.1360 - accuracy: 0.6150 - val_loss: 1.0609 - val_accuracy: 0.6467\n",
      "Epoch 28/50\n",
      "38/38 [==============================] - 1s 32ms/step - loss: 1.1167 - accuracy: 0.6250 - val_loss: 1.0479 - val_accuracy: 0.6533\n",
      "Epoch 29/50\n",
      "38/38 [==============================] - 1s 33ms/step - loss: 1.1034 - accuracy: 0.6233 - val_loss: 1.0366 - val_accuracy: 0.6533\n",
      "Epoch 30/50\n",
      "38/38 [==============================] - 1s 33ms/step - loss: 1.0894 - accuracy: 0.6233 - val_loss: 1.0250 - val_accuracy: 0.6583\n",
      "Epoch 31/50\n",
      "38/38 [==============================] - 23s 609ms/step - loss: 1.0789 - accuracy: 0.6358 - val_loss: 1.0135 - val_accuracy: 0.6583\n",
      "Epoch 32/50\n",
      "38/38 [==============================] - 1s 35ms/step - loss: 1.0715 - accuracy: 0.6350 - val_loss: 1.0031 - val_accuracy: 0.6683\n",
      "Epoch 33/50\n",
      "38/38 [==============================] - 1s 32ms/step - loss: 1.0474 - accuracy: 0.6592 - val_loss: 0.9927 - val_accuracy: 0.6733\n",
      "Epoch 34/50\n",
      "38/38 [==============================] - 1s 32ms/step - loss: 1.0508 - accuracy: 0.6575 - val_loss: 0.9832 - val_accuracy: 0.6733\n",
      "Epoch 35/50\n",
      "38/38 [==============================] - 1s 38ms/step - loss: 1.0299 - accuracy: 0.6550 - val_loss: 0.9740 - val_accuracy: 0.6767\n",
      "Epoch 36/50\n",
      "38/38 [==============================] - 1s 35ms/step - loss: 1.0219 - accuracy: 0.6517 - val_loss: 0.9660 - val_accuracy: 0.6850\n",
      "Epoch 37/50\n",
      "38/38 [==============================] - 1s 37ms/step - loss: 1.0084 - accuracy: 0.6683 - val_loss: 0.9581 - val_accuracy: 0.6867\n",
      "Epoch 38/50\n",
      "38/38 [==============================] - 23s 618ms/step - loss: 1.0272 - accuracy: 0.6533 - val_loss: 0.9500 - val_accuracy: 0.6883\n",
      "Epoch 39/50\n",
      "38/38 [==============================] - 1s 32ms/step - loss: 0.9992 - accuracy: 0.6583 - val_loss: 0.9430 - val_accuracy: 0.6900\n",
      "Epoch 40/50\n",
      "38/38 [==============================] - 1s 32ms/step - loss: 0.9908 - accuracy: 0.6708 - val_loss: 0.9352 - val_accuracy: 0.6967\n",
      "Epoch 41/50\n",
      "38/38 [==============================] - 1s 32ms/step - loss: 0.9735 - accuracy: 0.6808 - val_loss: 0.9285 - val_accuracy: 0.6950\n",
      "Epoch 42/50\n",
      "38/38 [==============================] - 1s 32ms/step - loss: 0.9802 - accuracy: 0.6758 - val_loss: 0.9217 - val_accuracy: 0.6983\n",
      "Epoch 43/50\n",
      "38/38 [==============================] - 1s 33ms/step - loss: 0.9636 - accuracy: 0.6850 - val_loss: 0.9150 - val_accuracy: 0.6983\n",
      "Epoch 44/50\n",
      "38/38 [==============================] - 1s 33ms/step - loss: 0.9522 - accuracy: 0.6717 - val_loss: 0.9088 - val_accuracy: 0.7000\n",
      "Epoch 45/50\n",
      "38/38 [==============================] - 23s 613ms/step - loss: 0.9630 - accuracy: 0.6775 - val_loss: 0.9027 - val_accuracy: 0.7050\n",
      "Epoch 46/50\n",
      "38/38 [==============================] - 1s 33ms/step - loss: 0.9586 - accuracy: 0.6850 - val_loss: 0.8968 - val_accuracy: 0.7050\n",
      "Epoch 47/50\n",
      "38/38 [==============================] - 1s 32ms/step - loss: 0.9561 - accuracy: 0.6850 - val_loss: 0.8917 - val_accuracy: 0.7067\n",
      "Epoch 48/50\n",
      "38/38 [==============================] - 1s 32ms/step - loss: 0.9288 - accuracy: 0.6875 - val_loss: 0.8866 - val_accuracy: 0.7067\n",
      "Epoch 49/50\n",
      "38/38 [==============================] - 1s 33ms/step - loss: 0.9266 - accuracy: 0.7017 - val_loss: 0.8809 - val_accuracy: 0.7117\n",
      "Epoch 50/50\n",
      "38/38 [==============================] - 1s 32ms/step - loss: 0.9070 - accuracy: 0.7133 - val_loss: 0.8763 - val_accuracy: 0.7083\n",
      "trials for model 11: 0.7211111386617025\n",
      "Epoch 1/50\n"
     ]
    },
    {
     "name": "stderr",
     "output_type": "stream",
     "text": [
      "2023-05-11 19:19:59.589260: I tensorflow/core/grappler/optimizers/custom_graph_optimizer_registry.cc:113] Plugin optimizer for device_type GPU is enabled.\n"
     ]
    },
    {
     "name": "stdout",
     "output_type": "stream",
     "text": [
      "38/38 [==============================] - ETA: 0s - loss: 3.1237 - accuracy: 0.0883"
     ]
    },
    {
     "name": "stderr",
     "output_type": "stream",
     "text": [
      "2023-05-11 19:20:05.599147: I tensorflow/core/grappler/optimizers/custom_graph_optimizer_registry.cc:113] Plugin optimizer for device_type GPU is enabled.\n"
     ]
    },
    {
     "name": "stdout",
     "output_type": "stream",
     "text": [
      "38/38 [==============================] - 7s 166ms/step - loss: 3.1237 - accuracy: 0.0883 - val_loss: 2.7626 - val_accuracy: 0.1633\n",
      "Epoch 2/50\n",
      "38/38 [==============================] - 1s 33ms/step - loss: 2.8127 - accuracy: 0.1167 - val_loss: 2.6730 - val_accuracy: 0.1783\n",
      "Epoch 3/50\n",
      "38/38 [==============================] - 1s 34ms/step - loss: 2.5708 - accuracy: 0.1300 - val_loss: 2.5620 - val_accuracy: 0.1667\n",
      "Epoch 4/50\n",
      "38/38 [==============================] - 1s 32ms/step - loss: 2.3562 - accuracy: 0.1725 - val_loss: 2.4446 - val_accuracy: 0.1783\n",
      "Epoch 5/50\n",
      "38/38 [==============================] - 1s 33ms/step - loss: 2.1910 - accuracy: 0.1992 - val_loss: 2.3305 - val_accuracy: 0.2083\n",
      "Epoch 6/50\n",
      "38/38 [==============================] - 1s 34ms/step - loss: 2.0508 - accuracy: 0.2417 - val_loss: 2.2227 - val_accuracy: 0.2483\n",
      "Epoch 7/50\n",
      "38/38 [==============================] - 10s 262ms/step - loss: 1.9483 - accuracy: 0.2567 - val_loss: 2.1215 - val_accuracy: 0.2817\n",
      "Epoch 8/50\n",
      "38/38 [==============================] - 1s 35ms/step - loss: 1.8436 - accuracy: 0.3042 - val_loss: 2.0234 - val_accuracy: 0.3433\n",
      "Epoch 9/50\n",
      "38/38 [==============================] - 1s 33ms/step - loss: 1.7663 - accuracy: 0.3325 - val_loss: 1.9233 - val_accuracy: 0.3883\n",
      "Epoch 10/50\n",
      "38/38 [==============================] - 1s 34ms/step - loss: 1.6619 - accuracy: 0.3867 - val_loss: 1.8225 - val_accuracy: 0.4317\n",
      "Epoch 11/50\n",
      "38/38 [==============================] - 1s 33ms/step - loss: 1.6154 - accuracy: 0.3967 - val_loss: 1.7201 - val_accuracy: 0.4867\n",
      "Epoch 12/50\n",
      "38/38 [==============================] - 1s 32ms/step - loss: 1.5555 - accuracy: 0.4358 - val_loss: 1.6211 - val_accuracy: 0.5367\n",
      "Epoch 13/50\n",
      "38/38 [==============================] - 1s 33ms/step - loss: 1.4915 - accuracy: 0.4683 - val_loss: 1.5241 - val_accuracy: 0.5867\n",
      "Epoch 14/50\n",
      "38/38 [==============================] - 102s 3s/step - loss: 1.4670 - accuracy: 0.4775 - val_loss: 1.4337 - val_accuracy: 0.6217\n",
      "Epoch 15/50\n",
      "38/38 [==============================] - 2s 41ms/step - loss: 1.4006 - accuracy: 0.5158 - val_loss: 1.3564 - val_accuracy: 0.6333\n",
      "Epoch 16/50\n",
      "38/38 [==============================] - 1s 32ms/step - loss: 1.3809 - accuracy: 0.5358 - val_loss: 1.2902 - val_accuracy: 0.6500\n",
      "Epoch 17/50\n",
      "38/38 [==============================] - 1s 32ms/step - loss: 1.3165 - accuracy: 0.5517 - val_loss: 1.2364 - val_accuracy: 0.6550\n",
      "Epoch 18/50\n",
      "38/38 [==============================] - 1s 32ms/step - loss: 1.3109 - accuracy: 0.5433 - val_loss: 1.1910 - val_accuracy: 0.6650\n",
      "Epoch 19/50\n",
      "38/38 [==============================] - 1s 36ms/step - loss: 1.2789 - accuracy: 0.5608 - val_loss: 1.1535 - val_accuracy: 0.6750\n",
      "Epoch 20/50\n",
      "38/38 [==============================] - 1s 32ms/step - loss: 1.2516 - accuracy: 0.5800 - val_loss: 1.1212 - val_accuracy: 0.6733\n",
      "Epoch 21/50\n",
      "38/38 [==============================] - 40s 1s/step - loss: 1.2268 - accuracy: 0.5892 - val_loss: 1.0938 - val_accuracy: 0.6750\n",
      "Epoch 22/50\n",
      "38/38 [==============================] - 2s 46ms/step - loss: 1.1792 - accuracy: 0.5983 - val_loss: 1.0705 - val_accuracy: 0.6767\n",
      "Epoch 23/50\n",
      "38/38 [==============================] - 1s 34ms/step - loss: 1.1748 - accuracy: 0.6108 - val_loss: 1.0496 - val_accuracy: 0.6867\n",
      "Epoch 24/50\n",
      "38/38 [==============================] - 2s 48ms/step - loss: 1.1540 - accuracy: 0.6117 - val_loss: 1.0309 - val_accuracy: 0.6983\n",
      "Epoch 25/50\n",
      "38/38 [==============================] - 1s 38ms/step - loss: 1.1482 - accuracy: 0.6142 - val_loss: 1.0134 - val_accuracy: 0.7017\n",
      "Epoch 26/50\n",
      "38/38 [==============================] - 1s 34ms/step - loss: 1.1261 - accuracy: 0.6217 - val_loss: 0.9973 - val_accuracy: 0.7033\n",
      "Epoch 27/50\n",
      "38/38 [==============================] - 1s 33ms/step - loss: 1.1041 - accuracy: 0.6283 - val_loss: 0.9831 - val_accuracy: 0.7050\n",
      "Epoch 28/50\n",
      "38/38 [==============================] - 1s 36ms/step - loss: 1.0872 - accuracy: 0.6508 - val_loss: 0.9691 - val_accuracy: 0.7100\n",
      "Epoch 29/50\n",
      "38/38 [==============================] - 1s 33ms/step - loss: 1.0665 - accuracy: 0.6450 - val_loss: 0.9558 - val_accuracy: 0.7083\n",
      "Epoch 30/50\n",
      "38/38 [==============================] - 1s 33ms/step - loss: 1.0780 - accuracy: 0.6425 - val_loss: 0.9443 - val_accuracy: 0.7117\n",
      "Epoch 31/50\n",
      "38/38 [==============================] - 1s 33ms/step - loss: 1.0589 - accuracy: 0.6567 - val_loss: 0.9329 - val_accuracy: 0.7150\n",
      "Epoch 32/50\n",
      "38/38 [==============================] - 1s 33ms/step - loss: 1.0334 - accuracy: 0.6525 - val_loss: 0.9224 - val_accuracy: 0.7150\n",
      "Epoch 33/50\n",
      "38/38 [==============================] - 1s 33ms/step - loss: 1.0226 - accuracy: 0.6708 - val_loss: 0.9123 - val_accuracy: 0.7167\n",
      "Epoch 34/50\n",
      "38/38 [==============================] - 1s 33ms/step - loss: 1.0237 - accuracy: 0.6725 - val_loss: 0.9029 - val_accuracy: 0.7167\n",
      "Epoch 35/50\n",
      "38/38 [==============================] - 1s 33ms/step - loss: 0.9909 - accuracy: 0.6700 - val_loss: 0.8937 - val_accuracy: 0.7217\n",
      "Epoch 36/50\n",
      "38/38 [==============================] - 1s 35ms/step - loss: 0.9886 - accuracy: 0.6617 - val_loss: 0.8853 - val_accuracy: 0.7267\n",
      "Epoch 37/50\n",
      "38/38 [==============================] - 1s 34ms/step - loss: 0.9701 - accuracy: 0.6750 - val_loss: 0.8770 - val_accuracy: 0.7267\n",
      "Epoch 38/50\n",
      "38/38 [==============================] - 1s 37ms/step - loss: 0.9747 - accuracy: 0.6783 - val_loss: 0.8687 - val_accuracy: 0.7283\n",
      "Epoch 39/50\n",
      "38/38 [==============================] - 1s 33ms/step - loss: 0.9490 - accuracy: 0.6967 - val_loss: 0.8614 - val_accuracy: 0.7250\n",
      "Epoch 40/50\n",
      "38/38 [==============================] - 1s 34ms/step - loss: 0.9549 - accuracy: 0.6825 - val_loss: 0.8538 - val_accuracy: 0.7300\n",
      "Epoch 41/50\n",
      "38/38 [==============================] - 1s 33ms/step - loss: 0.9453 - accuracy: 0.6950 - val_loss: 0.8470 - val_accuracy: 0.7367\n",
      "Epoch 42/50\n",
      "38/38 [==============================] - 1s 33ms/step - loss: 0.9229 - accuracy: 0.7008 - val_loss: 0.8405 - val_accuracy: 0.7383\n",
      "Epoch 43/50\n",
      "38/38 [==============================] - 1s 33ms/step - loss: 0.9306 - accuracy: 0.6950 - val_loss: 0.8337 - val_accuracy: 0.7417\n",
      "Epoch 44/50\n",
      "38/38 [==============================] - 2s 58ms/step - loss: 0.9180 - accuracy: 0.7050 - val_loss: 0.8275 - val_accuracy: 0.7450\n",
      "Epoch 45/50\n",
      "38/38 [==============================] - 1s 39ms/step - loss: 0.8956 - accuracy: 0.6983 - val_loss: 0.8220 - val_accuracy: 0.7467\n",
      "Epoch 46/50\n",
      "38/38 [==============================] - 1s 33ms/step - loss: 0.9076 - accuracy: 0.7050 - val_loss: 0.8162 - val_accuracy: 0.7467\n",
      "Epoch 47/50\n",
      "38/38 [==============================] - 2s 47ms/step - loss: 0.8903 - accuracy: 0.7208 - val_loss: 0.8111 - val_accuracy: 0.7450\n",
      "Epoch 48/50\n",
      "38/38 [==============================] - 2s 64ms/step - loss: 0.8866 - accuracy: 0.7100 - val_loss: 0.8051 - val_accuracy: 0.7483\n",
      "Epoch 49/50\n",
      "38/38 [==============================] - 2s 58ms/step - loss: 0.8797 - accuracy: 0.7117 - val_loss: 0.8004 - val_accuracy: 0.7450\n",
      "Epoch 50/50\n",
      "38/38 [==============================] - 2s 47ms/step - loss: 0.8642 - accuracy: 0.7258 - val_loss: 0.7958 - val_accuracy: 0.7467\n",
      "Epoch 1/50\n"
     ]
    },
    {
     "name": "stderr",
     "output_type": "stream",
     "text": [
      "2023-05-11 19:23:43.141062: I tensorflow/core/grappler/optimizers/custom_graph_optimizer_registry.cc:113] Plugin optimizer for device_type GPU is enabled.\n"
     ]
    },
    {
     "name": "stdout",
     "output_type": "stream",
     "text": [
      "38/38 [==============================] - ETA: 0s - loss: 2.5741 - accuracy: 0.1317"
     ]
    },
    {
     "name": "stderr",
     "output_type": "stream",
     "text": [
      "2023-05-11 19:23:45.330886: I tensorflow/core/grappler/optimizers/custom_graph_optimizer_registry.cc:113] Plugin optimizer for device_type GPU is enabled.\n"
     ]
    },
    {
     "name": "stdout",
     "output_type": "stream",
     "text": [
      "38/38 [==============================] - 4s 61ms/step - loss: 2.5741 - accuracy: 0.1317 - val_loss: 2.7440 - val_accuracy: 0.1700\n",
      "Epoch 2/50\n",
      "38/38 [==============================] - 1s 37ms/step - loss: 2.3015 - accuracy: 0.2033 - val_loss: 2.6425 - val_accuracy: 0.1717\n",
      "Epoch 3/50\n",
      "38/38 [==============================] - 1s 37ms/step - loss: 2.1021 - accuracy: 0.2650 - val_loss: 2.5255 - val_accuracy: 0.1733\n",
      "Epoch 4/50\n",
      "38/38 [==============================] - 1s 36ms/step - loss: 1.9261 - accuracy: 0.3183 - val_loss: 2.4105 - val_accuracy: 0.1783\n",
      "Epoch 5/50\n",
      "38/38 [==============================] - 1s 35ms/step - loss: 1.8187 - accuracy: 0.3433 - val_loss: 2.3027 - val_accuracy: 0.2000\n",
      "Epoch 6/50\n",
      "38/38 [==============================] - 1s 34ms/step - loss: 1.7499 - accuracy: 0.3825 - val_loss: 2.2054 - val_accuracy: 0.2250\n",
      "Epoch 7/50\n",
      "38/38 [==============================] - 1s 34ms/step - loss: 1.6566 - accuracy: 0.4192 - val_loss: 2.1112 - val_accuracy: 0.2417\n",
      "Epoch 8/50\n",
      "38/38 [==============================] - 2s 53ms/step - loss: 1.5872 - accuracy: 0.4308 - val_loss: 2.0134 - val_accuracy: 0.2917\n",
      "Epoch 9/50\n",
      "38/38 [==============================] - 2s 44ms/step - loss: 1.5220 - accuracy: 0.4783 - val_loss: 1.9087 - val_accuracy: 0.3500\n",
      "Epoch 10/50\n",
      "38/38 [==============================] - 1s 36ms/step - loss: 1.4638 - accuracy: 0.5042 - val_loss: 1.7943 - val_accuracy: 0.4133\n",
      "Epoch 11/50\n",
      "38/38 [==============================] - 2s 42ms/step - loss: 1.4365 - accuracy: 0.5033 - val_loss: 1.6777 - val_accuracy: 0.4667\n",
      "Epoch 12/50\n",
      "38/38 [==============================] - 2s 50ms/step - loss: 1.3955 - accuracy: 0.5425 - val_loss: 1.5625 - val_accuracy: 0.5100\n",
      "Epoch 13/50\n",
      "38/38 [==============================] - 1s 37ms/step - loss: 1.3641 - accuracy: 0.5417 - val_loss: 1.4584 - val_accuracy: 0.5467\n",
      "Epoch 14/50\n",
      "38/38 [==============================] - 1s 40ms/step - loss: 1.3052 - accuracy: 0.5458 - val_loss: 1.3714 - val_accuracy: 0.5750\n",
      "Epoch 15/50\n",
      "38/38 [==============================] - 2s 57ms/step - loss: 1.3000 - accuracy: 0.5642 - val_loss: 1.3009 - val_accuracy: 0.5833\n",
      "Epoch 16/50\n",
      "38/38 [==============================] - 2s 56ms/step - loss: 1.2691 - accuracy: 0.5608 - val_loss: 1.2432 - val_accuracy: 0.6033\n",
      "Epoch 17/50\n",
      "38/38 [==============================] - 2s 45ms/step - loss: 1.2334 - accuracy: 0.5958 - val_loss: 1.1966 - val_accuracy: 0.6333\n",
      "Epoch 18/50\n",
      "38/38 [==============================] - 2s 44ms/step - loss: 1.1996 - accuracy: 0.5992 - val_loss: 1.1593 - val_accuracy: 0.6400\n",
      "Epoch 19/50\n",
      "38/38 [==============================] - 3s 68ms/step - loss: 1.1902 - accuracy: 0.6142 - val_loss: 1.1289 - val_accuracy: 0.6517\n",
      "Epoch 20/50\n",
      "38/38 [==============================] - 2s 66ms/step - loss: 1.1578 - accuracy: 0.6142 - val_loss: 1.1035 - val_accuracy: 0.6583\n",
      "Epoch 21/50\n",
      "38/38 [==============================] - 1s 37ms/step - loss: 1.1473 - accuracy: 0.6292 - val_loss: 1.0819 - val_accuracy: 0.6667\n",
      "Epoch 22/50\n",
      "38/38 [==============================] - 1s 38ms/step - loss: 1.1300 - accuracy: 0.6342 - val_loss: 1.0634 - val_accuracy: 0.6717\n",
      "Epoch 23/50\n",
      "38/38 [==============================] - 1s 35ms/step - loss: 1.1244 - accuracy: 0.6175 - val_loss: 1.0464 - val_accuracy: 0.6767\n",
      "Epoch 24/50\n",
      "38/38 [==============================] - 1s 36ms/step - loss: 1.0868 - accuracy: 0.6450 - val_loss: 1.0312 - val_accuracy: 0.6867\n",
      "Epoch 25/50\n",
      "38/38 [==============================] - 1s 34ms/step - loss: 1.0788 - accuracy: 0.6525 - val_loss: 1.0169 - val_accuracy: 0.6933\n",
      "Epoch 26/50\n",
      "38/38 [==============================] - 1s 35ms/step - loss: 1.0789 - accuracy: 0.6433 - val_loss: 1.0041 - val_accuracy: 0.6933\n",
      "Epoch 27/50\n",
      "38/38 [==============================] - 1s 35ms/step - loss: 1.0492 - accuracy: 0.6625 - val_loss: 0.9915 - val_accuracy: 0.7000\n",
      "Epoch 28/50\n",
      "38/38 [==============================] - 1s 39ms/step - loss: 1.0376 - accuracy: 0.6525 - val_loss: 0.9801 - val_accuracy: 0.6967\n",
      "Epoch 29/50\n",
      "38/38 [==============================] - 1s 35ms/step - loss: 1.0178 - accuracy: 0.6625 - val_loss: 0.9698 - val_accuracy: 0.7050\n",
      "Epoch 30/50\n",
      "38/38 [==============================] - 1s 35ms/step - loss: 1.0244 - accuracy: 0.6725 - val_loss: 0.9599 - val_accuracy: 0.7083\n",
      "Epoch 31/50\n",
      "38/38 [==============================] - 1s 35ms/step - loss: 1.0117 - accuracy: 0.6775 - val_loss: 0.9505 - val_accuracy: 0.7100\n",
      "Epoch 32/50\n",
      "38/38 [==============================] - 1s 35ms/step - loss: 0.9844 - accuracy: 0.6883 - val_loss: 0.9412 - val_accuracy: 0.7117\n",
      "Epoch 33/50\n",
      "38/38 [==============================] - 1s 36ms/step - loss: 0.9775 - accuracy: 0.6925 - val_loss: 0.9322 - val_accuracy: 0.7133\n",
      "Epoch 34/50\n",
      "38/38 [==============================] - 1s 36ms/step - loss: 0.9699 - accuracy: 0.6850 - val_loss: 0.9238 - val_accuracy: 0.7150\n",
      "Epoch 35/50\n",
      "38/38 [==============================] - 1s 36ms/step - loss: 0.9589 - accuracy: 0.6867 - val_loss: 0.9163 - val_accuracy: 0.7167\n",
      "Epoch 36/50\n",
      "38/38 [==============================] - 1s 36ms/step - loss: 0.9672 - accuracy: 0.6792 - val_loss: 0.9087 - val_accuracy: 0.7167\n",
      "Epoch 37/50\n",
      "38/38 [==============================] - 1s 37ms/step - loss: 0.9504 - accuracy: 0.7042 - val_loss: 0.9016 - val_accuracy: 0.7183\n",
      "Epoch 38/50\n",
      "38/38 [==============================] - 1s 37ms/step - loss: 0.9374 - accuracy: 0.7008 - val_loss: 0.8945 - val_accuracy: 0.7233\n",
      "Epoch 39/50\n",
      "38/38 [==============================] - 2s 40ms/step - loss: 0.9172 - accuracy: 0.7050 - val_loss: 0.8883 - val_accuracy: 0.7267\n",
      "Epoch 40/50\n",
      "38/38 [==============================] - 1s 36ms/step - loss: 0.9155 - accuracy: 0.6975 - val_loss: 0.8820 - val_accuracy: 0.7283\n",
      "Epoch 41/50\n",
      "38/38 [==============================] - 1s 34ms/step - loss: 0.9032 - accuracy: 0.7133 - val_loss: 0.8758 - val_accuracy: 0.7300\n",
      "Epoch 42/50\n",
      "38/38 [==============================] - 1s 34ms/step - loss: 0.8925 - accuracy: 0.7050 - val_loss: 0.8702 - val_accuracy: 0.7283\n",
      "Epoch 43/50\n",
      "38/38 [==============================] - 1s 36ms/step - loss: 0.9056 - accuracy: 0.7100 - val_loss: 0.8646 - val_accuracy: 0.7317\n",
      "Epoch 44/50\n",
      "38/38 [==============================] - 1s 34ms/step - loss: 0.8899 - accuracy: 0.7092 - val_loss: 0.8591 - val_accuracy: 0.7350\n",
      "Epoch 45/50\n",
      "38/38 [==============================] - 1s 34ms/step - loss: 0.8871 - accuracy: 0.7175 - val_loss: 0.8532 - val_accuracy: 0.7350\n",
      "Epoch 46/50\n",
      "38/38 [==============================] - 1s 34ms/step - loss: 0.8620 - accuracy: 0.7275 - val_loss: 0.8483 - val_accuracy: 0.7383\n",
      "Epoch 47/50\n",
      "38/38 [==============================] - 1s 34ms/step - loss: 0.8468 - accuracy: 0.7300 - val_loss: 0.8432 - val_accuracy: 0.7350\n",
      "Epoch 48/50\n",
      "38/38 [==============================] - 1s 34ms/step - loss: 0.8534 - accuracy: 0.7342 - val_loss: 0.8383 - val_accuracy: 0.7317\n",
      "Epoch 49/50\n",
      "38/38 [==============================] - 1s 37ms/step - loss: 0.8376 - accuracy: 0.7333 - val_loss: 0.8337 - val_accuracy: 0.7383\n",
      "Epoch 50/50\n",
      "38/38 [==============================] - 1s 37ms/step - loss: 0.8593 - accuracy: 0.7383 - val_loss: 0.8285 - val_accuracy: 0.7383\n",
      "Epoch 1/50\n"
     ]
    },
    {
     "name": "stderr",
     "output_type": "stream",
     "text": [
      "2023-05-11 19:24:59.285183: I tensorflow/core/grappler/optimizers/custom_graph_optimizer_registry.cc:113] Plugin optimizer for device_type GPU is enabled.\n"
     ]
    },
    {
     "name": "stdout",
     "output_type": "stream",
     "text": [
      "38/38 [==============================] - ETA: 0s - loss: 2.8228 - accuracy: 0.1217"
     ]
    },
    {
     "name": "stderr",
     "output_type": "stream",
     "text": [
      "2023-05-11 19:25:01.077111: I tensorflow/core/grappler/optimizers/custom_graph_optimizer_registry.cc:113] Plugin optimizer for device_type GPU is enabled.\n"
     ]
    },
    {
     "name": "stdout",
     "output_type": "stream",
     "text": [
      "38/38 [==============================] - 3s 50ms/step - loss: 2.8228 - accuracy: 0.1217 - val_loss: 2.7687 - val_accuracy: 0.2150\n",
      "Epoch 2/50\n",
      "38/38 [==============================] - 1s 37ms/step - loss: 2.5011 - accuracy: 0.1683 - val_loss: 2.6938 - val_accuracy: 0.2450\n",
      "Epoch 3/50\n",
      "38/38 [==============================] - 1s 34ms/step - loss: 2.2470 - accuracy: 0.2408 - val_loss: 2.5954 - val_accuracy: 0.2550\n",
      "Epoch 4/50\n",
      "38/38 [==============================] - 1s 35ms/step - loss: 2.0732 - accuracy: 0.2608 - val_loss: 2.4878 - val_accuracy: 0.2550\n",
      "Epoch 5/50\n",
      "38/38 [==============================] - 1s 35ms/step - loss: 1.9250 - accuracy: 0.3233 - val_loss: 2.3775 - val_accuracy: 0.2767\n",
      "Epoch 6/50\n",
      "38/38 [==============================] - 1s 35ms/step - loss: 1.8178 - accuracy: 0.3517 - val_loss: 2.2662 - val_accuracy: 0.2900\n",
      "Epoch 7/50\n",
      "38/38 [==============================] - 1s 36ms/step - loss: 1.7416 - accuracy: 0.3833 - val_loss: 2.1550 - val_accuracy: 0.3200\n",
      "Epoch 8/50\n",
      "38/38 [==============================] - 1s 37ms/step - loss: 1.6461 - accuracy: 0.4208 - val_loss: 2.0407 - val_accuracy: 0.3550\n",
      "Epoch 9/50\n",
      "38/38 [==============================] - 1s 39ms/step - loss: 1.5760 - accuracy: 0.4392 - val_loss: 1.9228 - val_accuracy: 0.4067\n",
      "Epoch 10/50\n",
      "38/38 [==============================] - 1s 37ms/step - loss: 1.5241 - accuracy: 0.4508 - val_loss: 1.8062 - val_accuracy: 0.4617\n",
      "Epoch 11/50\n",
      "38/38 [==============================] - 1s 34ms/step - loss: 1.4611 - accuracy: 0.4967 - val_loss: 1.6901 - val_accuracy: 0.5117\n",
      "Epoch 12/50\n",
      "38/38 [==============================] - 1s 34ms/step - loss: 1.4154 - accuracy: 0.4967 - val_loss: 1.5833 - val_accuracy: 0.5317\n",
      "Epoch 13/50\n",
      "38/38 [==============================] - 2s 48ms/step - loss: 1.3710 - accuracy: 0.5267 - val_loss: 1.4843 - val_accuracy: 0.5500\n",
      "Epoch 14/50\n",
      "38/38 [==============================] - 2s 50ms/step - loss: 1.3461 - accuracy: 0.5183 - val_loss: 1.3979 - val_accuracy: 0.5783\n",
      "Epoch 15/50\n",
      "38/38 [==============================] - 2s 43ms/step - loss: 1.3219 - accuracy: 0.5417 - val_loss: 1.3259 - val_accuracy: 0.5850\n",
      "Epoch 16/50\n",
      "38/38 [==============================] - 2s 42ms/step - loss: 1.2629 - accuracy: 0.5600 - val_loss: 1.2659 - val_accuracy: 0.6117\n",
      "Epoch 17/50\n",
      "38/38 [==============================] - 2s 42ms/step - loss: 1.2459 - accuracy: 0.5775 - val_loss: 1.2169 - val_accuracy: 0.6167\n",
      "Epoch 18/50\n",
      "38/38 [==============================] - 2s 51ms/step - loss: 1.2332 - accuracy: 0.5633 - val_loss: 1.1790 - val_accuracy: 0.6233\n",
      "Epoch 19/50\n",
      "38/38 [==============================] - 2s 45ms/step - loss: 1.1945 - accuracy: 0.5942 - val_loss: 1.1479 - val_accuracy: 0.6317\n",
      "Epoch 20/50\n",
      "38/38 [==============================] - 2s 58ms/step - loss: 1.1828 - accuracy: 0.5942 - val_loss: 1.1220 - val_accuracy: 0.6333\n",
      "Epoch 21/50\n",
      "38/38 [==============================] - 1s 38ms/step - loss: 1.1664 - accuracy: 0.6033 - val_loss: 1.0993 - val_accuracy: 0.6367\n",
      "Epoch 22/50\n",
      "38/38 [==============================] - 2s 43ms/step - loss: 1.1481 - accuracy: 0.6042 - val_loss: 1.0797 - val_accuracy: 0.6433\n",
      "Epoch 23/50\n",
      "38/38 [==============================] - 1s 36ms/step - loss: 1.1222 - accuracy: 0.6100 - val_loss: 1.0627 - val_accuracy: 0.6450\n",
      "Epoch 24/50\n",
      "38/38 [==============================] - 1s 37ms/step - loss: 1.1202 - accuracy: 0.6158 - val_loss: 1.0480 - val_accuracy: 0.6400\n",
      "Epoch 25/50\n",
      "38/38 [==============================] - 1s 38ms/step - loss: 1.0951 - accuracy: 0.6150 - val_loss: 1.0342 - val_accuracy: 0.6483\n",
      "Epoch 26/50\n",
      "38/38 [==============================] - 1s 34ms/step - loss: 1.0671 - accuracy: 0.6367 - val_loss: 1.0221 - val_accuracy: 0.6483\n",
      "Epoch 27/50\n",
      "38/38 [==============================] - 1s 36ms/step - loss: 1.0555 - accuracy: 0.6417 - val_loss: 1.0100 - val_accuracy: 0.6500\n",
      "Epoch 28/50\n",
      "38/38 [==============================] - 1s 37ms/step - loss: 1.0586 - accuracy: 0.6350 - val_loss: 0.9987 - val_accuracy: 0.6567\n",
      "Epoch 29/50\n",
      "38/38 [==============================] - 1s 38ms/step - loss: 1.0485 - accuracy: 0.6533 - val_loss: 0.9887 - val_accuracy: 0.6617\n",
      "Epoch 30/50\n",
      "38/38 [==============================] - 1s 34ms/step - loss: 1.0375 - accuracy: 0.6492 - val_loss: 0.9784 - val_accuracy: 0.6650\n",
      "Epoch 31/50\n",
      "38/38 [==============================] - 2s 44ms/step - loss: 1.0204 - accuracy: 0.6650 - val_loss: 0.9689 - val_accuracy: 0.6683\n",
      "Epoch 32/50\n",
      "38/38 [==============================] - 1s 39ms/step - loss: 1.0089 - accuracy: 0.6725 - val_loss: 0.9602 - val_accuracy: 0.6667\n",
      "Epoch 33/50\n",
      "38/38 [==============================] - 1s 35ms/step - loss: 0.9729 - accuracy: 0.6750 - val_loss: 0.9516 - val_accuracy: 0.6750\n",
      "Epoch 34/50\n",
      "38/38 [==============================] - 1s 37ms/step - loss: 0.9862 - accuracy: 0.6775 - val_loss: 0.9438 - val_accuracy: 0.6767\n",
      "Epoch 35/50\n",
      "38/38 [==============================] - 1s 37ms/step - loss: 0.9681 - accuracy: 0.6850 - val_loss: 0.9361 - val_accuracy: 0.6783\n",
      "Epoch 36/50\n",
      "38/38 [==============================] - 1s 39ms/step - loss: 0.9598 - accuracy: 0.6733 - val_loss: 0.9282 - val_accuracy: 0.6833\n",
      "Epoch 37/50\n",
      "38/38 [==============================] - 1s 39ms/step - loss: 0.9519 - accuracy: 0.6908 - val_loss: 0.9212 - val_accuracy: 0.6867\n",
      "Epoch 38/50\n",
      "38/38 [==============================] - 1s 35ms/step - loss: 0.9281 - accuracy: 0.7008 - val_loss: 0.9139 - val_accuracy: 0.6900\n",
      "Epoch 39/50\n",
      "38/38 [==============================] - 1s 35ms/step - loss: 0.9404 - accuracy: 0.6933 - val_loss: 0.9071 - val_accuracy: 0.6900\n",
      "Epoch 40/50\n",
      "38/38 [==============================] - 1s 34ms/step - loss: 0.9229 - accuracy: 0.6825 - val_loss: 0.9020 - val_accuracy: 0.6900\n",
      "Epoch 41/50\n",
      "38/38 [==============================] - 1s 38ms/step - loss: 0.9304 - accuracy: 0.6842 - val_loss: 0.8955 - val_accuracy: 0.6933\n",
      "Epoch 42/50\n",
      "38/38 [==============================] - 1s 34ms/step - loss: 0.9208 - accuracy: 0.6975 - val_loss: 0.8895 - val_accuracy: 0.6933\n",
      "Epoch 43/50\n",
      "38/38 [==============================] - 1s 35ms/step - loss: 0.9009 - accuracy: 0.7083 - val_loss: 0.8834 - val_accuracy: 0.6983\n",
      "Epoch 44/50\n",
      "38/38 [==============================] - 1s 35ms/step - loss: 0.9101 - accuracy: 0.6925 - val_loss: 0.8774 - val_accuracy: 0.7050\n",
      "Epoch 45/50\n",
      "38/38 [==============================] - 1s 35ms/step - loss: 0.8984 - accuracy: 0.7008 - val_loss: 0.8714 - val_accuracy: 0.7117\n",
      "Epoch 46/50\n",
      "38/38 [==============================] - 1s 38ms/step - loss: 0.8946 - accuracy: 0.7050 - val_loss: 0.8670 - val_accuracy: 0.7067\n",
      "Epoch 47/50\n",
      "38/38 [==============================] - 2s 61ms/step - loss: 0.8771 - accuracy: 0.7042 - val_loss: 0.8623 - val_accuracy: 0.7100\n",
      "Epoch 48/50\n",
      "38/38 [==============================] - 2s 48ms/step - loss: 0.8670 - accuracy: 0.7225 - val_loss: 0.8576 - val_accuracy: 0.7083\n",
      "Epoch 49/50\n",
      "38/38 [==============================] - 1s 37ms/step - loss: 0.8722 - accuracy: 0.7025 - val_loss: 0.8530 - val_accuracy: 0.7117\n",
      "trials for model 12: 0.7322222391764323\n",
      "Epoch 1/50\n"
     ]
    },
    {
     "name": "stderr",
     "output_type": "stream",
     "text": [
      "2023-05-11 19:26:13.561101: I tensorflow/core/grappler/optimizers/custom_graph_optimizer_registry.cc:113] Plugin optimizer for device_type GPU is enabled.\n"
     ]
    },
    {
     "name": "stdout",
     "output_type": "stream",
     "text": [
      "38/38 [==============================] - ETA: 0s - loss: 3.1956 - accuracy: 0.0975"
     ]
    },
    {
     "name": "stderr",
     "output_type": "stream",
     "text": [
      "2023-05-11 19:26:15.466384: I tensorflow/core/grappler/optimizers/custom_graph_optimizer_registry.cc:113] Plugin optimizer for device_type GPU is enabled.\n"
     ]
    },
    {
     "name": "stdout",
     "output_type": "stream",
     "text": [
      "38/38 [==============================] - 3s 48ms/step - loss: 3.1956 - accuracy: 0.0975 - val_loss: 2.7698 - val_accuracy: 0.1567\n",
      "Epoch 2/50\n",
      "38/38 [==============================] - 1s 26ms/step - loss: 3.0004 - accuracy: 0.1233 - val_loss: 2.7167 - val_accuracy: 0.1967\n",
      "Epoch 3/50\n",
      "38/38 [==============================] - 1s 23ms/step - loss: 2.8069 - accuracy: 0.1658 - val_loss: 2.6411 - val_accuracy: 0.2383\n",
      "Epoch 4/50\n",
      "38/38 [==============================] - 1s 24ms/step - loss: 2.6220 - accuracy: 0.1975 - val_loss: 2.5483 - val_accuracy: 0.2600\n",
      "Epoch 5/50\n",
      "38/38 [==============================] - 1s 23ms/step - loss: 2.4653 - accuracy: 0.2400 - val_loss: 2.4469 - val_accuracy: 0.2900\n",
      "Epoch 6/50\n",
      "38/38 [==============================] - 1s 24ms/step - loss: 2.3544 - accuracy: 0.2508 - val_loss: 2.3434 - val_accuracy: 0.2917\n",
      "Epoch 7/50\n",
      "38/38 [==============================] - 1s 27ms/step - loss: 2.2294 - accuracy: 0.2917 - val_loss: 2.2457 - val_accuracy: 0.3100\n",
      "Epoch 8/50\n",
      "38/38 [==============================] - 1s 24ms/step - loss: 2.1458 - accuracy: 0.2867 - val_loss: 2.1538 - val_accuracy: 0.3300\n",
      "Epoch 9/50\n",
      "38/38 [==============================] - 1s 30ms/step - loss: 2.0432 - accuracy: 0.3183 - val_loss: 2.0681 - val_accuracy: 0.3433\n",
      "Epoch 10/50\n",
      "38/38 [==============================] - 1s 23ms/step - loss: 2.0008 - accuracy: 0.3217 - val_loss: 1.9867 - val_accuracy: 0.3683\n",
      "Epoch 11/50\n",
      "38/38 [==============================] - 1s 23ms/step - loss: 1.8961 - accuracy: 0.3575 - val_loss: 1.9102 - val_accuracy: 0.3933\n",
      "Epoch 12/50\n",
      "38/38 [==============================] - 1s 24ms/step - loss: 1.8384 - accuracy: 0.3608 - val_loss: 1.8380 - val_accuracy: 0.4250\n",
      "Epoch 13/50\n",
      "38/38 [==============================] - 1s 24ms/step - loss: 1.7932 - accuracy: 0.3958 - val_loss: 1.7708 - val_accuracy: 0.4400\n",
      "Epoch 14/50\n",
      "38/38 [==============================] - 1s 23ms/step - loss: 1.7624 - accuracy: 0.4033 - val_loss: 1.7093 - val_accuracy: 0.4550\n",
      "Epoch 15/50\n",
      "38/38 [==============================] - 1s 34ms/step - loss: 1.7145 - accuracy: 0.4133 - val_loss: 1.6542 - val_accuracy: 0.4633\n",
      "Epoch 16/50\n",
      "38/38 [==============================] - 1s 33ms/step - loss: 1.6800 - accuracy: 0.4117 - val_loss: 1.6062 - val_accuracy: 0.4767\n",
      "Epoch 17/50\n",
      "38/38 [==============================] - 1s 25ms/step - loss: 1.6374 - accuracy: 0.4300 - val_loss: 1.5650 - val_accuracy: 0.4883\n",
      "Epoch 18/50\n",
      "38/38 [==============================] - 1s 23ms/step - loss: 1.5953 - accuracy: 0.4442 - val_loss: 1.5277 - val_accuracy: 0.5083\n",
      "Epoch 19/50\n",
      "38/38 [==============================] - 1s 23ms/step - loss: 1.5829 - accuracy: 0.4600 - val_loss: 1.4950 - val_accuracy: 0.5133\n",
      "Epoch 20/50\n",
      "38/38 [==============================] - 2s 48ms/step - loss: 1.5440 - accuracy: 0.4558 - val_loss: 1.4653 - val_accuracy: 0.5183\n",
      "Epoch 21/50\n",
      "38/38 [==============================] - 1s 38ms/step - loss: 1.5078 - accuracy: 0.4750 - val_loss: 1.4390 - val_accuracy: 0.5200\n",
      "Epoch 22/50\n",
      "38/38 [==============================] - 1s 23ms/step - loss: 1.4757 - accuracy: 0.4925 - val_loss: 1.4143 - val_accuracy: 0.5317\n",
      "Epoch 23/50\n",
      "38/38 [==============================] - 1s 23ms/step - loss: 1.4601 - accuracy: 0.4967 - val_loss: 1.3914 - val_accuracy: 0.5417\n",
      "Epoch 24/50\n",
      "38/38 [==============================] - 1s 25ms/step - loss: 1.4341 - accuracy: 0.5050 - val_loss: 1.3703 - val_accuracy: 0.5467\n",
      "Epoch 25/50\n",
      "38/38 [==============================] - 1s 23ms/step - loss: 1.4283 - accuracy: 0.5150 - val_loss: 1.3508 - val_accuracy: 0.5567\n",
      "Epoch 26/50\n",
      "38/38 [==============================] - 1s 23ms/step - loss: 1.4076 - accuracy: 0.5300 - val_loss: 1.3320 - val_accuracy: 0.5667\n",
      "Epoch 27/50\n",
      "38/38 [==============================] - 1s 23ms/step - loss: 1.3858 - accuracy: 0.5208 - val_loss: 1.3148 - val_accuracy: 0.5700\n",
      "Epoch 28/50\n",
      "38/38 [==============================] - 1s 24ms/step - loss: 1.3655 - accuracy: 0.5325 - val_loss: 1.2978 - val_accuracy: 0.5750\n",
      "Epoch 29/50\n",
      "38/38 [==============================] - 1s 23ms/step - loss: 1.3607 - accuracy: 0.5275 - val_loss: 1.2830 - val_accuracy: 0.5783\n",
      "Epoch 30/50\n",
      "38/38 [==============================] - 1s 24ms/step - loss: 1.3449 - accuracy: 0.5550 - val_loss: 1.2675 - val_accuracy: 0.5767\n",
      "Epoch 31/50\n",
      "38/38 [==============================] - 1s 22ms/step - loss: 1.3273 - accuracy: 0.5275 - val_loss: 1.2539 - val_accuracy: 0.5833\n",
      "Epoch 32/50\n",
      "38/38 [==============================] - 1s 23ms/step - loss: 1.3142 - accuracy: 0.5517 - val_loss: 1.2403 - val_accuracy: 0.5850\n",
      "Epoch 33/50\n",
      "38/38 [==============================] - 1s 22ms/step - loss: 1.2878 - accuracy: 0.5617 - val_loss: 1.2272 - val_accuracy: 0.5933\n",
      "Epoch 34/50\n",
      "38/38 [==============================] - 1s 22ms/step - loss: 1.2980 - accuracy: 0.5667 - val_loss: 1.2147 - val_accuracy: 0.5967\n",
      "Epoch 35/50\n",
      "38/38 [==============================] - 1s 22ms/step - loss: 1.2824 - accuracy: 0.5592 - val_loss: 1.2030 - val_accuracy: 0.6000\n",
      "Epoch 36/50\n",
      "38/38 [==============================] - 1s 23ms/step - loss: 1.2563 - accuracy: 0.5817 - val_loss: 1.1915 - val_accuracy: 0.6033\n",
      "Epoch 37/50\n",
      "38/38 [==============================] - 1s 22ms/step - loss: 1.2552 - accuracy: 0.5725 - val_loss: 1.1810 - val_accuracy: 0.6083\n",
      "Epoch 38/50\n",
      "38/38 [==============================] - 1s 22ms/step - loss: 1.2456 - accuracy: 0.5825 - val_loss: 1.1710 - val_accuracy: 0.6117\n",
      "Epoch 39/50\n",
      "38/38 [==============================] - 1s 23ms/step - loss: 1.2412 - accuracy: 0.5783 - val_loss: 1.1611 - val_accuracy: 0.6150\n",
      "Epoch 40/50\n",
      "38/38 [==============================] - 1s 22ms/step - loss: 1.1997 - accuracy: 0.5900 - val_loss: 1.1512 - val_accuracy: 0.6183\n",
      "Epoch 41/50\n",
      "38/38 [==============================] - 1s 22ms/step - loss: 1.2184 - accuracy: 0.6008 - val_loss: 1.1425 - val_accuracy: 0.6217\n",
      "Epoch 42/50\n",
      "38/38 [==============================] - 1s 23ms/step - loss: 1.2030 - accuracy: 0.5958 - val_loss: 1.1336 - val_accuracy: 0.6233\n",
      "Epoch 43/50\n",
      "38/38 [==============================] - 1s 22ms/step - loss: 1.1946 - accuracy: 0.5983 - val_loss: 1.1249 - val_accuracy: 0.6233\n",
      "Epoch 44/50\n",
      "38/38 [==============================] - 1s 22ms/step - loss: 1.1996 - accuracy: 0.5933 - val_loss: 1.1161 - val_accuracy: 0.6283\n",
      "Epoch 45/50\n",
      "38/38 [==============================] - 1s 23ms/step - loss: 1.1600 - accuracy: 0.6133 - val_loss: 1.1078 - val_accuracy: 0.6267\n",
      "Epoch 46/50\n",
      "38/38 [==============================] - 1s 22ms/step - loss: 1.1742 - accuracy: 0.6067 - val_loss: 1.1002 - val_accuracy: 0.6300\n",
      "Epoch 47/50\n",
      "38/38 [==============================] - 1s 24ms/step - loss: 1.1630 - accuracy: 0.6075 - val_loss: 1.0928 - val_accuracy: 0.6367\n",
      "Epoch 48/50\n",
      "38/38 [==============================] - 1s 22ms/step - loss: 1.1648 - accuracy: 0.6067 - val_loss: 1.0857 - val_accuracy: 0.6400\n",
      "Epoch 49/50\n",
      "38/38 [==============================] - 1s 22ms/step - loss: 1.1385 - accuracy: 0.6167 - val_loss: 1.0783 - val_accuracy: 0.6433\n",
      "Epoch 50/50\n",
      "38/38 [==============================] - 1s 22ms/step - loss: 1.1507 - accuracy: 0.6033 - val_loss: 1.0716 - val_accuracy: 0.6450\n",
      "Epoch 1/50\n"
     ]
    },
    {
     "name": "stderr",
     "output_type": "stream",
     "text": [
      "2023-05-11 19:27:02.379909: I tensorflow/core/grappler/optimizers/custom_graph_optimizer_registry.cc:113] Plugin optimizer for device_type GPU is enabled.\n"
     ]
    },
    {
     "name": "stdout",
     "output_type": "stream",
     "text": [
      "38/38 [==============================] - ETA: 0s - loss: 3.0467 - accuracy: 0.0733"
     ]
    },
    {
     "name": "stderr",
     "output_type": "stream",
     "text": [
      "2023-05-11 19:27:04.096607: I tensorflow/core/grappler/optimizers/custom_graph_optimizer_registry.cc:113] Plugin optimizer for device_type GPU is enabled.\n"
     ]
    },
    {
     "name": "stdout",
     "output_type": "stream",
     "text": [
      "38/38 [==============================] - 3s 49ms/step - loss: 3.0467 - accuracy: 0.0733 - val_loss: 2.7686 - val_accuracy: 0.1700\n",
      "Epoch 2/50\n",
      "38/38 [==============================] - 1s 25ms/step - loss: 2.8461 - accuracy: 0.1225 - val_loss: 2.7020 - val_accuracy: 0.2383\n",
      "Epoch 3/50\n",
      "38/38 [==============================] - 1s 24ms/step - loss: 2.6731 - accuracy: 0.1425 - val_loss: 2.6087 - val_accuracy: 0.2550\n",
      "Epoch 4/50\n",
      "38/38 [==============================] - 1s 24ms/step - loss: 2.5173 - accuracy: 0.1800 - val_loss: 2.5026 - val_accuracy: 0.2750\n",
      "Epoch 5/50\n",
      "38/38 [==============================] - 1s 23ms/step - loss: 2.3843 - accuracy: 0.2175 - val_loss: 2.3925 - val_accuracy: 0.2867\n",
      "Epoch 6/50\n",
      "38/38 [==============================] - 1s 23ms/step - loss: 2.2574 - accuracy: 0.2542 - val_loss: 2.2834 - val_accuracy: 0.3033\n",
      "Epoch 7/50\n",
      "38/38 [==============================] - 1s 25ms/step - loss: 2.1976 - accuracy: 0.2450 - val_loss: 2.1788 - val_accuracy: 0.3167\n",
      "Epoch 8/50\n",
      "38/38 [==============================] - 1s 23ms/step - loss: 2.1079 - accuracy: 0.2817 - val_loss: 2.0819 - val_accuracy: 0.3183\n",
      "Epoch 9/50\n",
      "38/38 [==============================] - 1s 23ms/step - loss: 2.0049 - accuracy: 0.2983 - val_loss: 1.9932 - val_accuracy: 0.3233\n",
      "Epoch 10/50\n",
      "38/38 [==============================] - 1s 23ms/step - loss: 1.9577 - accuracy: 0.3183 - val_loss: 1.9150 - val_accuracy: 0.3433\n",
      "Epoch 11/50\n",
      "38/38 [==============================] - 1s 25ms/step - loss: 1.9005 - accuracy: 0.3342 - val_loss: 1.8457 - val_accuracy: 0.3733\n",
      "Epoch 12/50\n",
      "38/38 [==============================] - 1s 23ms/step - loss: 1.8206 - accuracy: 0.3667 - val_loss: 1.7843 - val_accuracy: 0.3867\n",
      "Epoch 13/50\n",
      "38/38 [==============================] - 1s 23ms/step - loss: 1.7724 - accuracy: 0.3608 - val_loss: 1.7276 - val_accuracy: 0.4117\n",
      "Epoch 14/50\n",
      "38/38 [==============================] - 1s 23ms/step - loss: 1.7386 - accuracy: 0.3925 - val_loss: 1.6753 - val_accuracy: 0.4200\n",
      "Epoch 15/50\n",
      "38/38 [==============================] - 1s 22ms/step - loss: 1.6872 - accuracy: 0.3925 - val_loss: 1.6291 - val_accuracy: 0.4333\n",
      "Epoch 16/50\n",
      "38/38 [==============================] - 1s 23ms/step - loss: 1.6507 - accuracy: 0.4083 - val_loss: 1.5864 - val_accuracy: 0.4483\n",
      "Epoch 17/50\n",
      "38/38 [==============================] - 1s 25ms/step - loss: 1.6179 - accuracy: 0.4142 - val_loss: 1.5478 - val_accuracy: 0.4600\n",
      "Epoch 18/50\n",
      "38/38 [==============================] - 1s 23ms/step - loss: 1.5763 - accuracy: 0.4317 - val_loss: 1.5129 - val_accuracy: 0.4733\n",
      "Epoch 19/50\n",
      "38/38 [==============================] - 1s 24ms/step - loss: 1.5614 - accuracy: 0.4483 - val_loss: 1.4813 - val_accuracy: 0.4917\n",
      "Epoch 20/50\n",
      "38/38 [==============================] - 1s 25ms/step - loss: 1.5393 - accuracy: 0.4550 - val_loss: 1.4528 - val_accuracy: 0.4983\n",
      "Epoch 21/50\n",
      "38/38 [==============================] - 1s 23ms/step - loss: 1.4790 - accuracy: 0.4825 - val_loss: 1.4262 - val_accuracy: 0.5183\n",
      "Epoch 22/50\n",
      "38/38 [==============================] - 1s 22ms/step - loss: 1.4729 - accuracy: 0.4825 - val_loss: 1.4021 - val_accuracy: 0.5300\n",
      "Epoch 23/50\n",
      "38/38 [==============================] - 1s 23ms/step - loss: 1.4580 - accuracy: 0.4925 - val_loss: 1.3792 - val_accuracy: 0.5300\n",
      "Epoch 24/50\n",
      "38/38 [==============================] - 1s 23ms/step - loss: 1.4470 - accuracy: 0.4983 - val_loss: 1.3584 - val_accuracy: 0.5400\n",
      "Epoch 25/50\n",
      "38/38 [==============================] - 1s 22ms/step - loss: 1.4136 - accuracy: 0.4808 - val_loss: 1.3383 - val_accuracy: 0.5467\n",
      "Epoch 26/50\n",
      "38/38 [==============================] - 1s 23ms/step - loss: 1.3772 - accuracy: 0.5183 - val_loss: 1.3199 - val_accuracy: 0.5517\n",
      "Epoch 27/50\n",
      "38/38 [==============================] - 1s 24ms/step - loss: 1.3801 - accuracy: 0.5075 - val_loss: 1.3025 - val_accuracy: 0.5517\n",
      "Epoch 28/50\n",
      "38/38 [==============================] - 1s 22ms/step - loss: 1.3734 - accuracy: 0.5083 - val_loss: 1.2858 - val_accuracy: 0.5600\n",
      "Epoch 29/50\n",
      "38/38 [==============================] - 1s 25ms/step - loss: 1.3551 - accuracy: 0.5200 - val_loss: 1.2704 - val_accuracy: 0.5650\n",
      "Epoch 30/50\n",
      "38/38 [==============================] - 1s 24ms/step - loss: 1.3462 - accuracy: 0.5333 - val_loss: 1.2553 - val_accuracy: 0.5783\n",
      "Epoch 31/50\n",
      "38/38 [==============================] - 1s 23ms/step - loss: 1.3003 - accuracy: 0.5392 - val_loss: 1.2415 - val_accuracy: 0.5867\n",
      "Epoch 32/50\n",
      "38/38 [==============================] - 1s 24ms/step - loss: 1.3016 - accuracy: 0.5442 - val_loss: 1.2279 - val_accuracy: 0.5950\n",
      "Epoch 33/50\n",
      "38/38 [==============================] - 1s 28ms/step - loss: 1.3009 - accuracy: 0.5458 - val_loss: 1.2152 - val_accuracy: 0.5967\n",
      "Epoch 34/50\n",
      "38/38 [==============================] - 1s 23ms/step - loss: 1.2670 - accuracy: 0.5608 - val_loss: 1.2032 - val_accuracy: 0.5983\n",
      "Epoch 35/50\n",
      "38/38 [==============================] - 1s 23ms/step - loss: 1.2660 - accuracy: 0.5500 - val_loss: 1.1918 - val_accuracy: 0.6033\n",
      "Epoch 36/50\n",
      "38/38 [==============================] - 1s 23ms/step - loss: 1.2325 - accuracy: 0.5700 - val_loss: 1.1803 - val_accuracy: 0.6083\n",
      "Epoch 37/50\n",
      "38/38 [==============================] - 1s 22ms/step - loss: 1.2248 - accuracy: 0.5808 - val_loss: 1.1700 - val_accuracy: 0.6100\n",
      "Epoch 38/50\n",
      "38/38 [==============================] - 1s 31ms/step - loss: 1.2403 - accuracy: 0.5650 - val_loss: 1.1603 - val_accuracy: 0.6100\n",
      "Epoch 39/50\n",
      "38/38 [==============================] - 1s 31ms/step - loss: 1.2196 - accuracy: 0.5783 - val_loss: 1.1506 - val_accuracy: 0.6150\n",
      "Epoch 40/50\n",
      "38/38 [==============================] - 1s 25ms/step - loss: 1.2105 - accuracy: 0.5833 - val_loss: 1.1409 - val_accuracy: 0.6250\n",
      "Epoch 41/50\n",
      "38/38 [==============================] - 1s 23ms/step - loss: 1.2037 - accuracy: 0.5908 - val_loss: 1.1317 - val_accuracy: 0.6283\n",
      "Epoch 42/50\n",
      "38/38 [==============================] - 1s 28ms/step - loss: 1.1901 - accuracy: 0.5850 - val_loss: 1.1231 - val_accuracy: 0.6333\n",
      "Epoch 43/50\n",
      "38/38 [==============================] - 1s 26ms/step - loss: 1.1678 - accuracy: 0.5942 - val_loss: 1.1146 - val_accuracy: 0.6383\n",
      "Epoch 44/50\n",
      "38/38 [==============================] - 1s 25ms/step - loss: 1.1699 - accuracy: 0.5867 - val_loss: 1.1059 - val_accuracy: 0.6383\n",
      "Epoch 45/50\n",
      "38/38 [==============================] - 1s 23ms/step - loss: 1.1512 - accuracy: 0.6042 - val_loss: 1.0980 - val_accuracy: 0.6417\n",
      "Epoch 46/50\n",
      "38/38 [==============================] - 1s 23ms/step - loss: 1.1463 - accuracy: 0.6025 - val_loss: 1.0903 - val_accuracy: 0.6467\n",
      "Epoch 47/50\n",
      "38/38 [==============================] - 1s 22ms/step - loss: 1.1438 - accuracy: 0.6033 - val_loss: 1.0833 - val_accuracy: 0.6483\n",
      "Epoch 48/50\n",
      "38/38 [==============================] - 1s 22ms/step - loss: 1.1361 - accuracy: 0.6150 - val_loss: 1.0762 - val_accuracy: 0.6533\n",
      "Epoch 49/50\n",
      "38/38 [==============================] - 1s 22ms/step - loss: 1.1301 - accuracy: 0.6150 - val_loss: 1.0693 - val_accuracy: 0.6567\n",
      "Epoch 50/50\n",
      "38/38 [==============================] - 1s 22ms/step - loss: 1.1298 - accuracy: 0.5992 - val_loss: 1.0626 - val_accuracy: 0.6600\n",
      "Epoch 1/50\n"
     ]
    },
    {
     "name": "stderr",
     "output_type": "stream",
     "text": [
      "2023-05-11 19:27:50.184655: I tensorflow/core/grappler/optimizers/custom_graph_optimizer_registry.cc:113] Plugin optimizer for device_type GPU is enabled.\n"
     ]
    },
    {
     "name": "stdout",
     "output_type": "stream",
     "text": [
      "38/38 [==============================] - ETA: 0s - loss: 2.9433 - accuracy: 0.1275"
     ]
    },
    {
     "name": "stderr",
     "output_type": "stream",
     "text": [
      "2023-05-11 19:27:51.822298: I tensorflow/core/grappler/optimizers/custom_graph_optimizer_registry.cc:113] Plugin optimizer for device_type GPU is enabled.\n"
     ]
    },
    {
     "name": "stdout",
     "output_type": "stream",
     "text": [
      "38/38 [==============================] - 3s 45ms/step - loss: 2.9433 - accuracy: 0.1275 - val_loss: 2.7583 - val_accuracy: 0.1417\n",
      "Epoch 2/50\n",
      "38/38 [==============================] - 1s 25ms/step - loss: 2.7577 - accuracy: 0.1558 - val_loss: 2.6933 - val_accuracy: 0.1567\n",
      "Epoch 3/50\n",
      "38/38 [==============================] - 1s 23ms/step - loss: 2.5895 - accuracy: 0.1675 - val_loss: 2.6148 - val_accuracy: 0.1650\n",
      "Epoch 4/50\n",
      "38/38 [==============================] - 1s 24ms/step - loss: 2.5092 - accuracy: 0.1867 - val_loss: 2.5294 - val_accuracy: 0.1700\n",
      "Epoch 5/50\n",
      "38/38 [==============================] - 1s 23ms/step - loss: 2.3543 - accuracy: 0.2075 - val_loss: 2.4410 - val_accuracy: 0.1750\n",
      "Epoch 6/50\n",
      "38/38 [==============================] - 1s 23ms/step - loss: 2.2327 - accuracy: 0.2325 - val_loss: 2.3520 - val_accuracy: 0.1883\n",
      "Epoch 7/50\n",
      "38/38 [==============================] - 1s 30ms/step - loss: 2.1430 - accuracy: 0.2608 - val_loss: 2.2639 - val_accuracy: 0.2117\n",
      "Epoch 8/50\n",
      "38/38 [==============================] - 1s 25ms/step - loss: 2.0539 - accuracy: 0.2742 - val_loss: 2.1769 - val_accuracy: 0.2500\n",
      "Epoch 9/50\n",
      "38/38 [==============================] - 1s 25ms/step - loss: 1.9751 - accuracy: 0.2958 - val_loss: 2.0911 - val_accuracy: 0.2917\n",
      "Epoch 10/50\n",
      "38/38 [==============================] - 1s 25ms/step - loss: 1.9084 - accuracy: 0.3250 - val_loss: 2.0045 - val_accuracy: 0.3417\n",
      "Epoch 11/50\n",
      "38/38 [==============================] - 1s 23ms/step - loss: 1.8508 - accuracy: 0.3475 - val_loss: 1.9182 - val_accuracy: 0.3583\n",
      "Epoch 12/50\n",
      "38/38 [==============================] - 1s 24ms/step - loss: 1.7838 - accuracy: 0.3708 - val_loss: 1.8358 - val_accuracy: 0.3933\n",
      "Epoch 13/50\n",
      "38/38 [==============================] - 1s 23ms/step - loss: 1.7668 - accuracy: 0.3617 - val_loss: 1.7597 - val_accuracy: 0.4100\n",
      "Epoch 14/50\n",
      "38/38 [==============================] - 1s 25ms/step - loss: 1.7165 - accuracy: 0.3883 - val_loss: 1.6924 - val_accuracy: 0.4367\n",
      "Epoch 15/50\n",
      "38/38 [==============================] - 1s 23ms/step - loss: 1.6496 - accuracy: 0.4108 - val_loss: 1.6343 - val_accuracy: 0.4567\n",
      "Epoch 16/50\n",
      "38/38 [==============================] - 1s 24ms/step - loss: 1.6390 - accuracy: 0.4342 - val_loss: 1.5826 - val_accuracy: 0.4817\n",
      "Epoch 17/50\n",
      "38/38 [==============================] - 1s 23ms/step - loss: 1.5898 - accuracy: 0.4342 - val_loss: 1.5367 - val_accuracy: 0.4967\n",
      "Epoch 18/50\n",
      "38/38 [==============================] - 1s 24ms/step - loss: 1.5750 - accuracy: 0.4517 - val_loss: 1.4977 - val_accuracy: 0.5083\n",
      "Epoch 19/50\n",
      "38/38 [==============================] - 1s 23ms/step - loss: 1.5255 - accuracy: 0.4817 - val_loss: 1.4632 - val_accuracy: 0.5217\n",
      "Epoch 20/50\n",
      "38/38 [==============================] - 1s 23ms/step - loss: 1.5161 - accuracy: 0.4600 - val_loss: 1.4323 - val_accuracy: 0.5317\n",
      "Epoch 21/50\n",
      "38/38 [==============================] - 1s 23ms/step - loss: 1.4815 - accuracy: 0.4900 - val_loss: 1.4038 - val_accuracy: 0.5450\n",
      "Epoch 22/50\n",
      "38/38 [==============================] - 1s 23ms/step - loss: 1.4495 - accuracy: 0.4875 - val_loss: 1.3796 - val_accuracy: 0.5583\n",
      "Epoch 23/50\n",
      "38/38 [==============================] - 1s 25ms/step - loss: 1.4344 - accuracy: 0.5158 - val_loss: 1.3573 - val_accuracy: 0.5633\n",
      "Epoch 24/50\n",
      "38/38 [==============================] - 1s 23ms/step - loss: 1.4197 - accuracy: 0.5217 - val_loss: 1.3363 - val_accuracy: 0.5700\n",
      "Epoch 25/50\n",
      "38/38 [==============================] - 1s 24ms/step - loss: 1.3947 - accuracy: 0.5258 - val_loss: 1.3167 - val_accuracy: 0.5767\n",
      "Epoch 26/50\n",
      "38/38 [==============================] - 1s 22ms/step - loss: 1.3779 - accuracy: 0.5275 - val_loss: 1.2987 - val_accuracy: 0.5833\n",
      "Epoch 27/50\n",
      "38/38 [==============================] - 1s 23ms/step - loss: 1.3760 - accuracy: 0.5150 - val_loss: 1.2813 - val_accuracy: 0.5850\n",
      "Epoch 28/50\n",
      "38/38 [==============================] - 1s 23ms/step - loss: 1.3441 - accuracy: 0.5492 - val_loss: 1.2649 - val_accuracy: 0.5950\n",
      "Epoch 29/50\n",
      "38/38 [==============================] - 1s 22ms/step - loss: 1.3479 - accuracy: 0.5367 - val_loss: 1.2498 - val_accuracy: 0.6017\n",
      "Epoch 30/50\n",
      "38/38 [==============================] - 1s 22ms/step - loss: 1.3067 - accuracy: 0.5558 - val_loss: 1.2350 - val_accuracy: 0.6017\n",
      "Epoch 31/50\n",
      "38/38 [==============================] - 1s 24ms/step - loss: 1.2968 - accuracy: 0.5792 - val_loss: 1.2210 - val_accuracy: 0.6033\n",
      "Epoch 32/50\n",
      "38/38 [==============================] - 1s 23ms/step - loss: 1.2730 - accuracy: 0.5692 - val_loss: 1.2083 - val_accuracy: 0.6083\n",
      "Epoch 33/50\n",
      "38/38 [==============================] - 1s 23ms/step - loss: 1.2777 - accuracy: 0.5733 - val_loss: 1.1957 - val_accuracy: 0.6100\n",
      "Epoch 34/50\n",
      "38/38 [==============================] - 1s 22ms/step - loss: 1.2543 - accuracy: 0.5858 - val_loss: 1.1842 - val_accuracy: 0.6150\n",
      "Epoch 35/50\n",
      "38/38 [==============================] - 1s 22ms/step - loss: 1.2591 - accuracy: 0.5758 - val_loss: 1.1716 - val_accuracy: 0.6183\n",
      "Epoch 36/50\n",
      "38/38 [==============================] - 1s 22ms/step - loss: 1.2356 - accuracy: 0.5883 - val_loss: 1.1605 - val_accuracy: 0.6233\n",
      "Epoch 37/50\n",
      "38/38 [==============================] - 1s 22ms/step - loss: 1.2347 - accuracy: 0.5900 - val_loss: 1.1504 - val_accuracy: 0.6250\n",
      "Epoch 38/50\n",
      "38/38 [==============================] - 1s 24ms/step - loss: 1.2099 - accuracy: 0.5975 - val_loss: 1.1405 - val_accuracy: 0.6283\n",
      "Epoch 39/50\n",
      "38/38 [==============================] - 1s 23ms/step - loss: 1.2193 - accuracy: 0.5933 - val_loss: 1.1310 - val_accuracy: 0.6283\n",
      "Epoch 40/50\n",
      "38/38 [==============================] - 1s 24ms/step - loss: 1.2013 - accuracy: 0.5967 - val_loss: 1.1219 - val_accuracy: 0.6317\n",
      "Epoch 41/50\n",
      "38/38 [==============================] - 1s 22ms/step - loss: 1.1757 - accuracy: 0.6108 - val_loss: 1.1126 - val_accuracy: 0.6333\n",
      "Epoch 42/50\n",
      "38/38 [==============================] - 1s 23ms/step - loss: 1.1804 - accuracy: 0.6158 - val_loss: 1.1042 - val_accuracy: 0.6300\n",
      "Epoch 43/50\n",
      "38/38 [==============================] - 1s 24ms/step - loss: 1.1729 - accuracy: 0.5983 - val_loss: 1.0954 - val_accuracy: 0.6333\n",
      "Epoch 44/50\n",
      "38/38 [==============================] - 1s 25ms/step - loss: 1.1716 - accuracy: 0.6175 - val_loss: 1.0878 - val_accuracy: 0.6383\n",
      "Epoch 45/50\n",
      "38/38 [==============================] - 1s 24ms/step - loss: 1.1545 - accuracy: 0.6117 - val_loss: 1.0801 - val_accuracy: 0.6400\n",
      "Epoch 46/50\n",
      "38/38 [==============================] - 1s 23ms/step - loss: 1.1636 - accuracy: 0.6125 - val_loss: 1.0718 - val_accuracy: 0.6400\n",
      "Epoch 47/50\n",
      "38/38 [==============================] - 1s 23ms/step - loss: 1.1510 - accuracy: 0.6075 - val_loss: 1.0650 - val_accuracy: 0.6417\n",
      "Epoch 48/50\n",
      "38/38 [==============================] - 1s 23ms/step - loss: 1.1351 - accuracy: 0.6258 - val_loss: 1.0579 - val_accuracy: 0.6450\n",
      "Epoch 49/50\n",
      "38/38 [==============================] - 1s 22ms/step - loss: 1.1356 - accuracy: 0.6075 - val_loss: 1.0513 - val_accuracy: 0.6450\n",
      "Epoch 50/50\n",
      "38/38 [==============================] - 1s 23ms/step - loss: 1.1242 - accuracy: 0.6275 - val_loss: 1.0452 - val_accuracy: 0.6500\n",
      "trials for model 13: 0.6516667008399963\n",
      "Epoch 1/50\n"
     ]
    },
    {
     "name": "stderr",
     "output_type": "stream",
     "text": [
      "2023-05-11 19:28:36.470047: I tensorflow/core/grappler/optimizers/custom_graph_optimizer_registry.cc:113] Plugin optimizer for device_type GPU is enabled.\n"
     ]
    },
    {
     "name": "stdout",
     "output_type": "stream",
     "text": [
      "38/38 [==============================] - ETA: 0s - loss: 2.9264 - accuracy: 0.0858"
     ]
    },
    {
     "name": "stderr",
     "output_type": "stream",
     "text": [
      "2023-05-11 19:28:38.149384: I tensorflow/core/grappler/optimizers/custom_graph_optimizer_registry.cc:113] Plugin optimizer for device_type GPU is enabled.\n"
     ]
    },
    {
     "name": "stdout",
     "output_type": "stream",
     "text": [
      "38/38 [==============================] - 2s 47ms/step - loss: 2.9264 - accuracy: 0.0858 - val_loss: 2.7488 - val_accuracy: 0.1133\n",
      "Epoch 2/50\n",
      "38/38 [==============================] - 1s 27ms/step - loss: 2.7447 - accuracy: 0.1142 - val_loss: 2.6659 - val_accuracy: 0.1533\n",
      "Epoch 3/50\n",
      "38/38 [==============================] - 1s 27ms/step - loss: 2.5855 - accuracy: 0.1583 - val_loss: 2.5684 - val_accuracy: 0.2067\n",
      "Epoch 4/50\n",
      "38/38 [==============================] - 1s 24ms/step - loss: 2.4100 - accuracy: 0.2008 - val_loss: 2.4687 - val_accuracy: 0.2383\n",
      "Epoch 5/50\n",
      "38/38 [==============================] - 1s 24ms/step - loss: 2.3082 - accuracy: 0.2200 - val_loss: 2.3737 - val_accuracy: 0.2550\n",
      "Epoch 6/50\n",
      "38/38 [==============================] - 1s 24ms/step - loss: 2.1943 - accuracy: 0.2533 - val_loss: 2.2834 - val_accuracy: 0.2550\n",
      "Epoch 7/50\n",
      "38/38 [==============================] - 1s 23ms/step - loss: 2.1183 - accuracy: 0.2725 - val_loss: 2.1961 - val_accuracy: 0.2600\n",
      "Epoch 8/50\n",
      "38/38 [==============================] - 1s 23ms/step - loss: 2.0258 - accuracy: 0.3008 - val_loss: 2.1094 - val_accuracy: 0.2783\n",
      "Epoch 9/50\n",
      "38/38 [==============================] - 1s 23ms/step - loss: 1.9365 - accuracy: 0.3242 - val_loss: 2.0238 - val_accuracy: 0.3117\n",
      "Epoch 10/50\n",
      "38/38 [==============================] - 1s 23ms/step - loss: 1.8913 - accuracy: 0.3558 - val_loss: 1.9397 - val_accuracy: 0.3350\n",
      "Epoch 11/50\n",
      "38/38 [==============================] - 1s 23ms/step - loss: 1.8478 - accuracy: 0.3458 - val_loss: 1.8572 - val_accuracy: 0.3633\n",
      "Epoch 12/50\n",
      "38/38 [==============================] - 1s 22ms/step - loss: 1.7628 - accuracy: 0.3967 - val_loss: 1.7783 - val_accuracy: 0.3867\n",
      "Epoch 13/50\n",
      "38/38 [==============================] - 1s 22ms/step - loss: 1.7366 - accuracy: 0.3808 - val_loss: 1.7054 - val_accuracy: 0.4100\n",
      "Epoch 14/50\n",
      "38/38 [==============================] - 1s 23ms/step - loss: 1.6848 - accuracy: 0.4125 - val_loss: 1.6381 - val_accuracy: 0.4500\n",
      "Epoch 15/50\n",
      "38/38 [==============================] - 1s 23ms/step - loss: 1.6699 - accuracy: 0.4175 - val_loss: 1.5788 - val_accuracy: 0.4717\n",
      "Epoch 16/50\n",
      "38/38 [==============================] - 1s 23ms/step - loss: 1.6235 - accuracy: 0.4333 - val_loss: 1.5287 - val_accuracy: 0.4983\n",
      "Epoch 17/50\n",
      "38/38 [==============================] - 1s 22ms/step - loss: 1.5809 - accuracy: 0.4642 - val_loss: 1.4850 - val_accuracy: 0.5150\n",
      "Epoch 18/50\n",
      "38/38 [==============================] - 1s 22ms/step - loss: 1.5532 - accuracy: 0.4642 - val_loss: 1.4465 - val_accuracy: 0.5267\n",
      "Epoch 19/50\n",
      "38/38 [==============================] - 1s 24ms/step - loss: 1.5203 - accuracy: 0.4775 - val_loss: 1.4128 - val_accuracy: 0.5400\n",
      "Epoch 20/50\n",
      "38/38 [==============================] - 1s 23ms/step - loss: 1.5139 - accuracy: 0.4825 - val_loss: 1.3821 - val_accuracy: 0.5433\n",
      "Epoch 21/50\n",
      "38/38 [==============================] - 1s 23ms/step - loss: 1.4712 - accuracy: 0.4908 - val_loss: 1.3544 - val_accuracy: 0.5600\n",
      "Epoch 22/50\n",
      "38/38 [==============================] - 1s 23ms/step - loss: 1.4435 - accuracy: 0.5008 - val_loss: 1.3298 - val_accuracy: 0.5650\n",
      "Epoch 23/50\n",
      "38/38 [==============================] - 1s 23ms/step - loss: 1.4296 - accuracy: 0.5100 - val_loss: 1.3077 - val_accuracy: 0.5750\n",
      "Epoch 24/50\n",
      "38/38 [==============================] - 1s 23ms/step - loss: 1.4083 - accuracy: 0.5325 - val_loss: 1.2873 - val_accuracy: 0.5800\n",
      "Epoch 25/50\n",
      "38/38 [==============================] - 1s 22ms/step - loss: 1.4098 - accuracy: 0.5242 - val_loss: 1.2679 - val_accuracy: 0.5917\n",
      "Epoch 26/50\n",
      "38/38 [==============================] - 1s 22ms/step - loss: 1.3776 - accuracy: 0.5292 - val_loss: 1.2501 - val_accuracy: 0.5967\n",
      "Epoch 27/50\n",
      "38/38 [==============================] - 1s 23ms/step - loss: 1.3535 - accuracy: 0.5525 - val_loss: 1.2326 - val_accuracy: 0.6050\n",
      "Epoch 28/50\n",
      "38/38 [==============================] - 1s 22ms/step - loss: 1.3537 - accuracy: 0.5358 - val_loss: 1.2164 - val_accuracy: 0.6150\n",
      "Epoch 29/50\n",
      "38/38 [==============================] - 1s 22ms/step - loss: 1.3288 - accuracy: 0.5658 - val_loss: 1.2016 - val_accuracy: 0.6100\n",
      "Epoch 30/50\n",
      "38/38 [==============================] - 1s 22ms/step - loss: 1.3159 - accuracy: 0.5708 - val_loss: 1.1875 - val_accuracy: 0.6117\n",
      "Epoch 31/50\n",
      "38/38 [==============================] - 1s 22ms/step - loss: 1.2824 - accuracy: 0.5742 - val_loss: 1.1743 - val_accuracy: 0.6150\n",
      "Epoch 32/50\n",
      "38/38 [==============================] - 1s 22ms/step - loss: 1.2824 - accuracy: 0.5833 - val_loss: 1.1613 - val_accuracy: 0.6217\n",
      "Epoch 33/50\n",
      "38/38 [==============================] - 1s 22ms/step - loss: 1.2555 - accuracy: 0.5925 - val_loss: 1.1495 - val_accuracy: 0.6233\n",
      "Epoch 34/50\n",
      "38/38 [==============================] - 1s 22ms/step - loss: 1.2651 - accuracy: 0.5775 - val_loss: 1.1381 - val_accuracy: 0.6250\n",
      "Epoch 35/50\n",
      "38/38 [==============================] - 1s 23ms/step - loss: 1.2465 - accuracy: 0.5808 - val_loss: 1.1262 - val_accuracy: 0.6300\n",
      "Epoch 36/50\n",
      "38/38 [==============================] - 1s 22ms/step - loss: 1.2440 - accuracy: 0.5825 - val_loss: 1.1154 - val_accuracy: 0.6317\n",
      "Epoch 37/50\n",
      "38/38 [==============================] - 1s 23ms/step - loss: 1.2271 - accuracy: 0.5917 - val_loss: 1.1056 - val_accuracy: 0.6417\n",
      "Epoch 38/50\n",
      "38/38 [==============================] - 1s 22ms/step - loss: 1.2331 - accuracy: 0.5858 - val_loss: 1.0959 - val_accuracy: 0.6467\n",
      "Epoch 39/50\n",
      "38/38 [==============================] - 1s 22ms/step - loss: 1.2174 - accuracy: 0.5808 - val_loss: 1.0864 - val_accuracy: 0.6483\n",
      "Epoch 40/50\n",
      "38/38 [==============================] - 1s 22ms/step - loss: 1.2031 - accuracy: 0.5933 - val_loss: 1.0770 - val_accuracy: 0.6517\n",
      "Epoch 41/50\n",
      "38/38 [==============================] - 1s 24ms/step - loss: 1.1872 - accuracy: 0.6108 - val_loss: 1.0682 - val_accuracy: 0.6600\n",
      "Epoch 42/50\n",
      "38/38 [==============================] - 1s 23ms/step - loss: 1.1760 - accuracy: 0.6167 - val_loss: 1.0596 - val_accuracy: 0.6583\n",
      "Epoch 43/50\n",
      "38/38 [==============================] - 1s 22ms/step - loss: 1.1867 - accuracy: 0.6133 - val_loss: 1.0514 - val_accuracy: 0.6650\n",
      "Epoch 44/50\n",
      "38/38 [==============================] - 1s 23ms/step - loss: 1.1584 - accuracy: 0.6108 - val_loss: 1.0437 - val_accuracy: 0.6700\n",
      "Epoch 45/50\n",
      "38/38 [==============================] - 1s 22ms/step - loss: 1.1565 - accuracy: 0.6092 - val_loss: 1.0361 - val_accuracy: 0.6717\n",
      "Epoch 46/50\n",
      "38/38 [==============================] - 1s 23ms/step - loss: 1.1321 - accuracy: 0.6225 - val_loss: 1.0292 - val_accuracy: 0.6700\n",
      "Epoch 47/50\n",
      "38/38 [==============================] - 1s 23ms/step - loss: 1.1503 - accuracy: 0.6150 - val_loss: 1.0224 - val_accuracy: 0.6733\n",
      "Epoch 48/50\n",
      "38/38 [==============================] - 1s 22ms/step - loss: 1.1237 - accuracy: 0.6333 - val_loss: 1.0151 - val_accuracy: 0.6767\n",
      "Epoch 49/50\n",
      "38/38 [==============================] - 1s 22ms/step - loss: 1.1203 - accuracy: 0.6300 - val_loss: 1.0083 - val_accuracy: 0.6800\n",
      "Epoch 50/50\n",
      "38/38 [==============================] - 1s 23ms/step - loss: 1.1198 - accuracy: 0.6358 - val_loss: 1.0017 - val_accuracy: 0.6800\n",
      "Epoch 1/50\n"
     ]
    },
    {
     "name": "stderr",
     "output_type": "stream",
     "text": [
      "2023-05-11 19:29:21.835411: I tensorflow/core/grappler/optimizers/custom_graph_optimizer_registry.cc:113] Plugin optimizer for device_type GPU is enabled.\n"
     ]
    },
    {
     "name": "stdout",
     "output_type": "stream",
     "text": [
      "38/38 [==============================] - ETA: 0s - loss: 2.6222 - accuracy: 0.1483"
     ]
    },
    {
     "name": "stderr",
     "output_type": "stream",
     "text": [
      "2023-05-11 19:29:23.474341: I tensorflow/core/grappler/optimizers/custom_graph_optimizer_registry.cc:113] Plugin optimizer for device_type GPU is enabled.\n"
     ]
    },
    {
     "name": "stdout",
     "output_type": "stream",
     "text": [
      "38/38 [==============================] - 2s 45ms/step - loss: 2.6222 - accuracy: 0.1483 - val_loss: 2.7333 - val_accuracy: 0.1333\n",
      "Epoch 2/50\n",
      "38/38 [==============================] - 1s 26ms/step - loss: 2.4821 - accuracy: 0.1992 - val_loss: 2.6524 - val_accuracy: 0.1467\n",
      "Epoch 3/50\n",
      "38/38 [==============================] - 1s 24ms/step - loss: 2.3501 - accuracy: 0.2017 - val_loss: 2.5598 - val_accuracy: 0.1467\n",
      "Epoch 4/50\n",
      "38/38 [==============================] - 1s 23ms/step - loss: 2.2295 - accuracy: 0.2500 - val_loss: 2.4638 - val_accuracy: 0.1983\n",
      "Epoch 5/50\n",
      "38/38 [==============================] - 1s 23ms/step - loss: 2.1071 - accuracy: 0.2883 - val_loss: 2.3674 - val_accuracy: 0.2483\n",
      "Epoch 6/50\n",
      "38/38 [==============================] - 1s 23ms/step - loss: 2.0497 - accuracy: 0.2958 - val_loss: 2.2710 - val_accuracy: 0.2883\n",
      "Epoch 7/50\n",
      "38/38 [==============================] - 1s 23ms/step - loss: 1.9750 - accuracy: 0.3050 - val_loss: 2.1736 - val_accuracy: 0.3267\n",
      "Epoch 8/50\n",
      "38/38 [==============================] - 1s 23ms/step - loss: 1.8940 - accuracy: 0.3458 - val_loss: 2.0767 - val_accuracy: 0.3750\n",
      "Epoch 9/50\n",
      "38/38 [==============================] - 1s 24ms/step - loss: 1.8324 - accuracy: 0.3725 - val_loss: 1.9802 - val_accuracy: 0.3950\n",
      "Epoch 10/50\n",
      "38/38 [==============================] - 1s 25ms/step - loss: 1.8040 - accuracy: 0.3708 - val_loss: 1.8862 - val_accuracy: 0.4250\n",
      "Epoch 11/50\n",
      "38/38 [==============================] - 1s 24ms/step - loss: 1.7402 - accuracy: 0.3992 - val_loss: 1.7979 - val_accuracy: 0.4517\n",
      "Epoch 12/50\n",
      "38/38 [==============================] - 1s 23ms/step - loss: 1.6973 - accuracy: 0.3950 - val_loss: 1.7174 - val_accuracy: 0.4700\n",
      "Epoch 13/50\n",
      "38/38 [==============================] - 1s 22ms/step - loss: 1.6546 - accuracy: 0.4192 - val_loss: 1.6450 - val_accuracy: 0.4883\n",
      "Epoch 14/50\n",
      "38/38 [==============================] - 1s 23ms/step - loss: 1.6180 - accuracy: 0.4450 - val_loss: 1.5840 - val_accuracy: 0.5050\n",
      "Epoch 15/50\n",
      "38/38 [==============================] - 1s 26ms/step - loss: 1.6030 - accuracy: 0.4433 - val_loss: 1.5320 - val_accuracy: 0.5267\n",
      "Epoch 16/50\n",
      "38/38 [==============================] - 1s 24ms/step - loss: 1.5602 - accuracy: 0.4600 - val_loss: 1.4880 - val_accuracy: 0.5317\n",
      "Epoch 17/50\n",
      "38/38 [==============================] - 1s 23ms/step - loss: 1.5244 - accuracy: 0.4750 - val_loss: 1.4498 - val_accuracy: 0.5417\n",
      "Epoch 18/50\n",
      "38/38 [==============================] - 1s 23ms/step - loss: 1.5174 - accuracy: 0.4675 - val_loss: 1.4175 - val_accuracy: 0.5417\n",
      "Epoch 19/50\n",
      "38/38 [==============================] - 1s 23ms/step - loss: 1.4803 - accuracy: 0.4858 - val_loss: 1.3890 - val_accuracy: 0.5500\n",
      "Epoch 20/50\n",
      "38/38 [==============================] - 1s 24ms/step - loss: 1.4513 - accuracy: 0.5033 - val_loss: 1.3635 - val_accuracy: 0.5633\n",
      "Epoch 21/50\n",
      "38/38 [==============================] - 1s 22ms/step - loss: 1.4331 - accuracy: 0.5033 - val_loss: 1.3398 - val_accuracy: 0.5717\n",
      "Epoch 22/50\n",
      "38/38 [==============================] - 1s 23ms/step - loss: 1.4254 - accuracy: 0.5175 - val_loss: 1.3183 - val_accuracy: 0.5800\n",
      "Epoch 23/50\n",
      "38/38 [==============================] - 1s 22ms/step - loss: 1.4137 - accuracy: 0.5033 - val_loss: 1.2987 - val_accuracy: 0.5867\n",
      "Epoch 24/50\n",
      "38/38 [==============================] - 1s 22ms/step - loss: 1.3868 - accuracy: 0.5358 - val_loss: 1.2805 - val_accuracy: 0.5950\n",
      "Epoch 25/50\n",
      "38/38 [==============================] - 1s 22ms/step - loss: 1.3598 - accuracy: 0.5433 - val_loss: 1.2632 - val_accuracy: 0.6067\n",
      "Epoch 26/50\n",
      "38/38 [==============================] - 1s 23ms/step - loss: 1.3613 - accuracy: 0.5250 - val_loss: 1.2473 - val_accuracy: 0.6150\n",
      "Epoch 27/50\n",
      "38/38 [==============================] - 1s 23ms/step - loss: 1.3331 - accuracy: 0.5333 - val_loss: 1.2320 - val_accuracy: 0.6183\n",
      "Epoch 28/50\n",
      "38/38 [==============================] - 1s 23ms/step - loss: 1.3198 - accuracy: 0.5458 - val_loss: 1.2176 - val_accuracy: 0.6183\n",
      "Epoch 29/50\n",
      "38/38 [==============================] - 1s 24ms/step - loss: 1.3203 - accuracy: 0.5367 - val_loss: 1.2036 - val_accuracy: 0.6200\n",
      "Epoch 30/50\n",
      "38/38 [==============================] - 1s 22ms/step - loss: 1.3035 - accuracy: 0.5633 - val_loss: 1.1908 - val_accuracy: 0.6267\n",
      "Epoch 31/50\n",
      "38/38 [==============================] - 1s 24ms/step - loss: 1.2986 - accuracy: 0.5533 - val_loss: 1.1779 - val_accuracy: 0.6300\n",
      "Epoch 32/50\n",
      "38/38 [==============================] - 1s 22ms/step - loss: 1.2837 - accuracy: 0.5525 - val_loss: 1.1659 - val_accuracy: 0.6333\n",
      "Epoch 33/50\n",
      "38/38 [==============================] - 1s 23ms/step - loss: 1.2689 - accuracy: 0.5658 - val_loss: 1.1546 - val_accuracy: 0.6400\n",
      "Epoch 34/50\n",
      "38/38 [==============================] - 1s 23ms/step - loss: 1.2452 - accuracy: 0.5842 - val_loss: 1.1437 - val_accuracy: 0.6400\n",
      "Epoch 35/50\n",
      "38/38 [==============================] - 1s 23ms/step - loss: 1.2436 - accuracy: 0.5808 - val_loss: 1.1332 - val_accuracy: 0.6433\n",
      "Epoch 36/50\n",
      "38/38 [==============================] - 1s 24ms/step - loss: 1.2384 - accuracy: 0.5817 - val_loss: 1.1237 - val_accuracy: 0.6483\n",
      "Epoch 37/50\n",
      "38/38 [==============================] - 1s 22ms/step - loss: 1.2240 - accuracy: 0.5833 - val_loss: 1.1140 - val_accuracy: 0.6583\n",
      "Epoch 38/50\n",
      "38/38 [==============================] - 1s 23ms/step - loss: 1.2129 - accuracy: 0.5833 - val_loss: 1.1048 - val_accuracy: 0.6633\n",
      "Epoch 39/50\n",
      "38/38 [==============================] - 1s 23ms/step - loss: 1.1873 - accuracy: 0.5925 - val_loss: 1.0957 - val_accuracy: 0.6683\n",
      "Epoch 40/50\n",
      "38/38 [==============================] - 1s 23ms/step - loss: 1.1866 - accuracy: 0.6008 - val_loss: 1.0869 - val_accuracy: 0.6717\n",
      "Epoch 41/50\n",
      "38/38 [==============================] - 1s 23ms/step - loss: 1.1789 - accuracy: 0.5908 - val_loss: 1.0785 - val_accuracy: 0.6750\n",
      "Epoch 42/50\n",
      "38/38 [==============================] - 1s 23ms/step - loss: 1.1664 - accuracy: 0.6000 - val_loss: 1.0704 - val_accuracy: 0.6767\n",
      "Epoch 43/50\n",
      "38/38 [==============================] - 1s 24ms/step - loss: 1.1551 - accuracy: 0.6058 - val_loss: 1.0626 - val_accuracy: 0.6833\n",
      "Epoch 44/50\n",
      "38/38 [==============================] - 1s 23ms/step - loss: 1.1742 - accuracy: 0.6150 - val_loss: 1.0554 - val_accuracy: 0.6867\n",
      "Epoch 45/50\n",
      "38/38 [==============================] - 1s 23ms/step - loss: 1.1492 - accuracy: 0.6092 - val_loss: 1.0488 - val_accuracy: 0.6883\n",
      "Epoch 46/50\n",
      "38/38 [==============================] - 1s 26ms/step - loss: 1.1445 - accuracy: 0.6058 - val_loss: 1.0416 - val_accuracy: 0.6900\n",
      "Epoch 47/50\n",
      "38/38 [==============================] - 1s 22ms/step - loss: 1.1432 - accuracy: 0.6158 - val_loss: 1.0347 - val_accuracy: 0.6967\n",
      "Epoch 48/50\n",
      "38/38 [==============================] - 1s 22ms/step - loss: 1.1227 - accuracy: 0.6350 - val_loss: 1.0282 - val_accuracy: 0.6967\n",
      "Epoch 49/50\n",
      "38/38 [==============================] - 1s 22ms/step - loss: 1.1209 - accuracy: 0.6117 - val_loss: 1.0214 - val_accuracy: 0.7000\n",
      "Epoch 50/50\n",
      "38/38 [==============================] - 1s 23ms/step - loss: 1.1016 - accuracy: 0.6342 - val_loss: 1.0155 - val_accuracy: 0.7017\n",
      "Epoch 1/50\n"
     ]
    },
    {
     "name": "stderr",
     "output_type": "stream",
     "text": [
      "2023-05-11 19:30:08.205206: I tensorflow/core/grappler/optimizers/custom_graph_optimizer_registry.cc:113] Plugin optimizer for device_type GPU is enabled.\n"
     ]
    },
    {
     "name": "stdout",
     "output_type": "stream",
     "text": [
      "38/38 [==============================] - ETA: 0s - loss: 3.0515 - accuracy: 0.1133"
     ]
    },
    {
     "name": "stderr",
     "output_type": "stream",
     "text": [
      "2023-05-11 19:30:09.835055: I tensorflow/core/grappler/optimizers/custom_graph_optimizer_registry.cc:113] Plugin optimizer for device_type GPU is enabled.\n"
     ]
    },
    {
     "name": "stdout",
     "output_type": "stream",
     "text": [
      "38/38 [==============================] - 3s 45ms/step - loss: 3.0515 - accuracy: 0.1133 - val_loss: 2.7605 - val_accuracy: 0.1267\n",
      "Epoch 2/50\n",
      "38/38 [==============================] - 1s 26ms/step - loss: 2.8429 - accuracy: 0.1317 - val_loss: 2.6942 - val_accuracy: 0.1383\n",
      "Epoch 3/50\n",
      "38/38 [==============================] - 1s 23ms/step - loss: 2.6847 - accuracy: 0.1550 - val_loss: 2.6170 - val_accuracy: 0.1367\n",
      "Epoch 4/50\n",
      "38/38 [==============================] - 1s 24ms/step - loss: 2.5404 - accuracy: 0.1825 - val_loss: 2.5355 - val_accuracy: 0.1550\n",
      "Epoch 5/50\n",
      "38/38 [==============================] - 1s 23ms/step - loss: 2.4177 - accuracy: 0.2075 - val_loss: 2.4534 - val_accuracy: 0.1783\n",
      "Epoch 6/50\n",
      "38/38 [==============================] - 1s 25ms/step - loss: 2.2943 - accuracy: 0.2367 - val_loss: 2.3734 - val_accuracy: 0.1983\n",
      "Epoch 7/50\n",
      "38/38 [==============================] - 1s 24ms/step - loss: 2.2160 - accuracy: 0.2642 - val_loss: 2.2949 - val_accuracy: 0.2183\n",
      "Epoch 8/50\n",
      "38/38 [==============================] - 1s 24ms/step - loss: 2.1447 - accuracy: 0.2733 - val_loss: 2.2178 - val_accuracy: 0.2517\n",
      "Epoch 9/50\n",
      "38/38 [==============================] - 1s 24ms/step - loss: 2.0641 - accuracy: 0.2650 - val_loss: 2.1410 - val_accuracy: 0.2783\n",
      "Epoch 10/50\n",
      "38/38 [==============================] - 1s 24ms/step - loss: 1.9906 - accuracy: 0.3025 - val_loss: 2.0673 - val_accuracy: 0.3100\n",
      "Epoch 11/50\n",
      "38/38 [==============================] - 1s 24ms/step - loss: 1.9464 - accuracy: 0.3050 - val_loss: 1.9959 - val_accuracy: 0.3200\n",
      "Epoch 12/50\n",
      "38/38 [==============================] - 1s 25ms/step - loss: 1.8968 - accuracy: 0.3450 - val_loss: 1.9278 - val_accuracy: 0.3400\n",
      "Epoch 13/50\n",
      "38/38 [==============================] - 1s 23ms/step - loss: 1.8474 - accuracy: 0.3417 - val_loss: 1.8649 - val_accuracy: 0.3567\n",
      "Epoch 14/50\n",
      "38/38 [==============================] - 1s 23ms/step - loss: 1.8020 - accuracy: 0.3758 - val_loss: 1.8067 - val_accuracy: 0.3733\n",
      "Epoch 15/50\n",
      "38/38 [==============================] - 1s 22ms/step - loss: 1.7827 - accuracy: 0.3650 - val_loss: 1.7544 - val_accuracy: 0.3917\n",
      "Epoch 16/50\n",
      "38/38 [==============================] - 1s 23ms/step - loss: 1.7159 - accuracy: 0.3750 - val_loss: 1.7053 - val_accuracy: 0.4133\n",
      "Epoch 17/50\n",
      "38/38 [==============================] - 1s 22ms/step - loss: 1.7036 - accuracy: 0.3825 - val_loss: 1.6612 - val_accuracy: 0.4300\n",
      "Epoch 18/50\n",
      "38/38 [==============================] - 1s 23ms/step - loss: 1.6656 - accuracy: 0.4050 - val_loss: 1.6206 - val_accuracy: 0.4433\n",
      "Epoch 19/50\n",
      "38/38 [==============================] - 1s 23ms/step - loss: 1.6183 - accuracy: 0.4192 - val_loss: 1.5847 - val_accuracy: 0.4517\n",
      "Epoch 20/50\n",
      "38/38 [==============================] - 1s 22ms/step - loss: 1.6109 - accuracy: 0.4342 - val_loss: 1.5514 - val_accuracy: 0.4633\n",
      "Epoch 21/50\n",
      "38/38 [==============================] - 1s 23ms/step - loss: 1.5860 - accuracy: 0.4467 - val_loss: 1.5207 - val_accuracy: 0.4717\n",
      "Epoch 22/50\n",
      "38/38 [==============================] - 1s 22ms/step - loss: 1.5480 - accuracy: 0.4400 - val_loss: 1.4926 - val_accuracy: 0.4733\n",
      "Epoch 23/50\n",
      "38/38 [==============================] - 1s 23ms/step - loss: 1.5471 - accuracy: 0.4483 - val_loss: 1.4680 - val_accuracy: 0.4900\n",
      "Epoch 24/50\n",
      "38/38 [==============================] - 1s 23ms/step - loss: 1.5160 - accuracy: 0.4783 - val_loss: 1.4429 - val_accuracy: 0.5017\n",
      "Epoch 25/50\n",
      "38/38 [==============================] - 1s 22ms/step - loss: 1.4845 - accuracy: 0.4733 - val_loss: 1.4184 - val_accuracy: 0.5083\n",
      "Epoch 26/50\n",
      "38/38 [==============================] - 1s 24ms/step - loss: 1.4787 - accuracy: 0.4850 - val_loss: 1.3976 - val_accuracy: 0.5200\n",
      "Epoch 27/50\n",
      "38/38 [==============================] - 1s 38ms/step - loss: 1.4553 - accuracy: 0.4808 - val_loss: 1.3765 - val_accuracy: 0.5233\n",
      "Epoch 28/50\n",
      "38/38 [==============================] - 1s 23ms/step - loss: 1.4343 - accuracy: 0.5017 - val_loss: 1.3569 - val_accuracy: 0.5333\n",
      "Epoch 29/50\n",
      "38/38 [==============================] - 1s 23ms/step - loss: 1.4157 - accuracy: 0.5025 - val_loss: 1.3387 - val_accuracy: 0.5350\n",
      "Epoch 30/50\n",
      "38/38 [==============================] - 1s 24ms/step - loss: 1.3862 - accuracy: 0.5217 - val_loss: 1.3214 - val_accuracy: 0.5383\n",
      "Epoch 31/50\n",
      "38/38 [==============================] - 1s 23ms/step - loss: 1.3792 - accuracy: 0.5192 - val_loss: 1.3049 - val_accuracy: 0.5417\n",
      "Epoch 32/50\n",
      "38/38 [==============================] - 1s 23ms/step - loss: 1.3700 - accuracy: 0.5292 - val_loss: 1.2892 - val_accuracy: 0.5550\n",
      "Epoch 33/50\n",
      "38/38 [==============================] - 1s 23ms/step - loss: 1.3366 - accuracy: 0.5392 - val_loss: 1.2734 - val_accuracy: 0.5583\n",
      "Epoch 34/50\n",
      "38/38 [==============================] - 1s 22ms/step - loss: 1.3125 - accuracy: 0.5525 - val_loss: 1.2581 - val_accuracy: 0.5650\n",
      "Epoch 35/50\n",
      "38/38 [==============================] - 1s 23ms/step - loss: 1.3027 - accuracy: 0.5467 - val_loss: 1.2447 - val_accuracy: 0.5750\n",
      "Epoch 36/50\n",
      "38/38 [==============================] - 1s 24ms/step - loss: 1.2993 - accuracy: 0.5583 - val_loss: 1.2311 - val_accuracy: 0.5817\n",
      "Epoch 37/50\n",
      "38/38 [==============================] - 1s 25ms/step - loss: 1.2642 - accuracy: 0.5733 - val_loss: 1.2185 - val_accuracy: 0.5933\n",
      "Epoch 38/50\n",
      "38/38 [==============================] - 1s 25ms/step - loss: 1.2660 - accuracy: 0.5600 - val_loss: 1.2068 - val_accuracy: 0.5917\n",
      "Epoch 39/50\n",
      "38/38 [==============================] - 1s 23ms/step - loss: 1.2819 - accuracy: 0.5700 - val_loss: 1.1942 - val_accuracy: 0.5950\n",
      "Epoch 40/50\n",
      "38/38 [==============================] - 1s 22ms/step - loss: 1.2439 - accuracy: 0.5842 - val_loss: 1.1833 - val_accuracy: 0.6033\n",
      "Epoch 41/50\n",
      "38/38 [==============================] - 1s 23ms/step - loss: 1.2315 - accuracy: 0.5833 - val_loss: 1.1730 - val_accuracy: 0.6067\n",
      "Epoch 42/50\n",
      "38/38 [==============================] - 1s 24ms/step - loss: 1.2503 - accuracy: 0.5658 - val_loss: 1.1611 - val_accuracy: 0.6100\n",
      "Epoch 43/50\n",
      "38/38 [==============================] - 1s 22ms/step - loss: 1.2357 - accuracy: 0.5767 - val_loss: 1.1526 - val_accuracy: 0.6100\n",
      "Epoch 44/50\n",
      "38/38 [==============================] - 1s 22ms/step - loss: 1.2248 - accuracy: 0.5958 - val_loss: 1.1417 - val_accuracy: 0.6150\n",
      "Epoch 45/50\n",
      "38/38 [==============================] - 1s 23ms/step - loss: 1.2073 - accuracy: 0.5883 - val_loss: 1.1323 - val_accuracy: 0.6217\n",
      "Epoch 46/50\n",
      "38/38 [==============================] - 1s 23ms/step - loss: 1.1933 - accuracy: 0.5875 - val_loss: 1.1233 - val_accuracy: 0.6267\n",
      "Epoch 47/50\n",
      "38/38 [==============================] - 1s 23ms/step - loss: 1.1935 - accuracy: 0.6017 - val_loss: 1.1141 - val_accuracy: 0.6333\n",
      "Epoch 48/50\n",
      "38/38 [==============================] - 1s 22ms/step - loss: 1.1622 - accuracy: 0.6067 - val_loss: 1.1060 - val_accuracy: 0.6333\n",
      "Epoch 49/50\n",
      "38/38 [==============================] - 1s 22ms/step - loss: 1.1814 - accuracy: 0.6050 - val_loss: 1.0971 - val_accuracy: 0.6400\n",
      "Epoch 50/50\n",
      "38/38 [==============================] - 1s 23ms/step - loss: 1.1730 - accuracy: 0.6075 - val_loss: 1.0894 - val_accuracy: 0.6417\n",
      "trials for model 14: 0.6744444767634074\n",
      "Epoch 1/50\n"
     ]
    },
    {
     "name": "stderr",
     "output_type": "stream",
     "text": [
      "2023-05-11 19:30:54.965621: I tensorflow/core/grappler/optimizers/custom_graph_optimizer_registry.cc:113] Plugin optimizer for device_type GPU is enabled.\n"
     ]
    },
    {
     "name": "stdout",
     "output_type": "stream",
     "text": [
      "38/38 [==============================] - ETA: 0s - loss: 3.3030 - accuracy: 0.0700"
     ]
    },
    {
     "name": "stderr",
     "output_type": "stream",
     "text": [
      "2023-05-11 19:30:57.276417: I tensorflow/core/grappler/optimizers/custom_graph_optimizer_registry.cc:113] Plugin optimizer for device_type GPU is enabled.\n"
     ]
    },
    {
     "name": "stdout",
     "output_type": "stream",
     "text": [
      "38/38 [==============================] - 3s 63ms/step - loss: 3.3030 - accuracy: 0.0700 - val_loss: 2.8147 - val_accuracy: 0.0017\n",
      "Epoch 2/50\n",
      "38/38 [==============================] - 1s 34ms/step - loss: 3.1920 - accuracy: 0.0833 - val_loss: 2.8152 - val_accuracy: 0.0000e+00\n",
      "Epoch 3/50\n",
      "38/38 [==============================] - 1s 33ms/step - loss: 3.1115 - accuracy: 0.0850 - val_loss: 2.8066 - val_accuracy: 0.0033\n",
      "Epoch 4/50\n",
      "38/38 [==============================] - 1s 33ms/step - loss: 3.0300 - accuracy: 0.0958 - val_loss: 2.7903 - val_accuracy: 0.0067\n",
      "Epoch 5/50\n",
      "38/38 [==============================] - 1s 35ms/step - loss: 2.9383 - accuracy: 0.1017 - val_loss: 2.7675 - val_accuracy: 0.0167\n",
      "Epoch 6/50\n",
      "38/38 [==============================] - 1s 37ms/step - loss: 2.8518 - accuracy: 0.1258 - val_loss: 2.7394 - val_accuracy: 0.0417\n",
      "Epoch 7/50\n",
      "38/38 [==============================] - 1s 36ms/step - loss: 2.7863 - accuracy: 0.1475 - val_loss: 2.7074 - val_accuracy: 0.0650\n",
      "Epoch 8/50\n",
      "38/38 [==============================] - 1s 33ms/step - loss: 2.6872 - accuracy: 0.1608 - val_loss: 2.6674 - val_accuracy: 0.0933\n",
      "Epoch 9/50\n",
      "38/38 [==============================] - 1s 34ms/step - loss: 2.6275 - accuracy: 0.1900 - val_loss: 2.6203 - val_accuracy: 0.1333\n",
      "Epoch 10/50\n",
      "38/38 [==============================] - 1s 33ms/step - loss: 2.5448 - accuracy: 0.2083 - val_loss: 2.5644 - val_accuracy: 0.1750\n",
      "Epoch 11/50\n",
      "38/38 [==============================] - 1s 35ms/step - loss: 2.4710 - accuracy: 0.2400 - val_loss: 2.4991 - val_accuracy: 0.2117\n",
      "Epoch 12/50\n",
      "38/38 [==============================] - 1s 34ms/step - loss: 2.3901 - accuracy: 0.2467 - val_loss: 2.4246 - val_accuracy: 0.2633\n",
      "Epoch 13/50\n",
      "38/38 [==============================] - 1s 33ms/step - loss: 2.3431 - accuracy: 0.2908 - val_loss: 2.3469 - val_accuracy: 0.3083\n",
      "Epoch 14/50\n",
      "38/38 [==============================] - 1s 35ms/step - loss: 2.2635 - accuracy: 0.3150 - val_loss: 2.2688 - val_accuracy: 0.3400\n",
      "Epoch 15/50\n",
      "38/38 [==============================] - 1s 33ms/step - loss: 2.2252 - accuracy: 0.3175 - val_loss: 2.1923 - val_accuracy: 0.3533\n",
      "Epoch 16/50\n",
      "38/38 [==============================] - 1s 37ms/step - loss: 2.1699 - accuracy: 0.3283 - val_loss: 2.1214 - val_accuracy: 0.3933\n",
      "Epoch 17/50\n",
      "38/38 [==============================] - 1s 37ms/step - loss: 2.1144 - accuracy: 0.3633 - val_loss: 2.0556 - val_accuracy: 0.4183\n",
      "Epoch 18/50\n",
      "38/38 [==============================] - 1s 38ms/step - loss: 2.0728 - accuracy: 0.3825 - val_loss: 1.9952 - val_accuracy: 0.4250\n",
      "Epoch 19/50\n",
      "38/38 [==============================] - 1s 33ms/step - loss: 2.0062 - accuracy: 0.3833 - val_loss: 1.9384 - val_accuracy: 0.4483\n",
      "Epoch 20/50\n",
      "38/38 [==============================] - 1s 33ms/step - loss: 1.9770 - accuracy: 0.4200 - val_loss: 1.8857 - val_accuracy: 0.4667\n",
      "Epoch 21/50\n",
      "38/38 [==============================] - 1s 35ms/step - loss: 1.9255 - accuracy: 0.4275 - val_loss: 1.8378 - val_accuracy: 0.4767\n",
      "Epoch 22/50\n",
      "38/38 [==============================] - 1s 34ms/step - loss: 1.8747 - accuracy: 0.4483 - val_loss: 1.7932 - val_accuracy: 0.4917\n",
      "Epoch 23/50\n",
      "38/38 [==============================] - 1s 33ms/step - loss: 1.8455 - accuracy: 0.4592 - val_loss: 1.7514 - val_accuracy: 0.4983\n",
      "Epoch 24/50\n",
      "38/38 [==============================] - 1s 32ms/step - loss: 1.8088 - accuracy: 0.4692 - val_loss: 1.7126 - val_accuracy: 0.4983\n",
      "Epoch 25/50\n",
      "38/38 [==============================] - 1s 34ms/step - loss: 1.7433 - accuracy: 0.4792 - val_loss: 1.6759 - val_accuracy: 0.5150\n",
      "Epoch 26/50\n",
      "38/38 [==============================] - 1s 33ms/step - loss: 1.7195 - accuracy: 0.4933 - val_loss: 1.6418 - val_accuracy: 0.5317\n",
      "Epoch 27/50\n",
      "38/38 [==============================] - 1s 32ms/step - loss: 1.7056 - accuracy: 0.5050 - val_loss: 1.6092 - val_accuracy: 0.5450\n",
      "Epoch 28/50\n",
      "38/38 [==============================] - 1s 33ms/step - loss: 1.6526 - accuracy: 0.5308 - val_loss: 1.5773 - val_accuracy: 0.5517\n",
      "Epoch 29/50\n",
      "38/38 [==============================] - 1s 36ms/step - loss: 1.6299 - accuracy: 0.5392 - val_loss: 1.5476 - val_accuracy: 0.5567\n",
      "Epoch 30/50\n",
      "38/38 [==============================] - 1s 33ms/step - loss: 1.6087 - accuracy: 0.5383 - val_loss: 1.5206 - val_accuracy: 0.5667\n",
      "Epoch 31/50\n",
      "38/38 [==============================] - 1s 37ms/step - loss: 1.5845 - accuracy: 0.5350 - val_loss: 1.4940 - val_accuracy: 0.5767\n",
      "Epoch 32/50\n",
      "38/38 [==============================] - 1s 39ms/step - loss: 1.5551 - accuracy: 0.5567 - val_loss: 1.4688 - val_accuracy: 0.5867\n",
      "Epoch 33/50\n",
      "38/38 [==============================] - 1s 39ms/step - loss: 1.5210 - accuracy: 0.5550 - val_loss: 1.4454 - val_accuracy: 0.5900\n",
      "Epoch 34/50\n",
      "38/38 [==============================] - 1s 38ms/step - loss: 1.5089 - accuracy: 0.5650 - val_loss: 1.4211 - val_accuracy: 0.6000\n",
      "Epoch 35/50\n",
      "38/38 [==============================] - 2s 41ms/step - loss: 1.4900 - accuracy: 0.5633 - val_loss: 1.3989 - val_accuracy: 0.6067\n",
      "Epoch 36/50\n",
      "38/38 [==============================] - 1s 34ms/step - loss: 1.4647 - accuracy: 0.5642 - val_loss: 1.3772 - val_accuracy: 0.6117\n",
      "Epoch 37/50\n",
      "38/38 [==============================] - 1s 33ms/step - loss: 1.4530 - accuracy: 0.5933 - val_loss: 1.3569 - val_accuracy: 0.6167\n",
      "Epoch 38/50\n",
      "38/38 [==============================] - 1s 35ms/step - loss: 1.4120 - accuracy: 0.5917 - val_loss: 1.3373 - val_accuracy: 0.6217\n",
      "Epoch 39/50\n",
      "38/38 [==============================] - 1s 39ms/step - loss: 1.4066 - accuracy: 0.5850 - val_loss: 1.3194 - val_accuracy: 0.6283\n",
      "Epoch 40/50\n",
      "38/38 [==============================] - 1s 33ms/step - loss: 1.3959 - accuracy: 0.5975 - val_loss: 1.3015 - val_accuracy: 0.6367\n",
      "Epoch 41/50\n",
      "38/38 [==============================] - 1s 34ms/step - loss: 1.3691 - accuracy: 0.5950 - val_loss: 1.2849 - val_accuracy: 0.6400\n",
      "Epoch 42/50\n",
      "38/38 [==============================] - 1s 32ms/step - loss: 1.3511 - accuracy: 0.6100 - val_loss: 1.2681 - val_accuracy: 0.6433\n",
      "Epoch 43/50\n",
      "38/38 [==============================] - 1s 33ms/step - loss: 1.3262 - accuracy: 0.6167 - val_loss: 1.2525 - val_accuracy: 0.6533\n",
      "Epoch 44/50\n",
      "38/38 [==============================] - 1s 33ms/step - loss: 1.3177 - accuracy: 0.6108 - val_loss: 1.2375 - val_accuracy: 0.6567\n",
      "Epoch 45/50\n",
      "38/38 [==============================] - 1s 32ms/step - loss: 1.2972 - accuracy: 0.6242 - val_loss: 1.2234 - val_accuracy: 0.6567\n",
      "Epoch 46/50\n",
      "38/38 [==============================] - 1s 34ms/step - loss: 1.2788 - accuracy: 0.6275 - val_loss: 1.2087 - val_accuracy: 0.6617\n",
      "Epoch 47/50\n",
      "38/38 [==============================] - 1s 33ms/step - loss: 1.2807 - accuracy: 0.6317 - val_loss: 1.1952 - val_accuracy: 0.6617\n",
      "Epoch 48/50\n",
      "38/38 [==============================] - 1s 34ms/step - loss: 1.2547 - accuracy: 0.6425 - val_loss: 1.1822 - val_accuracy: 0.6783\n",
      "Epoch 49/50\n",
      "38/38 [==============================] - 1s 38ms/step - loss: 1.2502 - accuracy: 0.6375 - val_loss: 1.1689 - val_accuracy: 0.6817\n",
      "Epoch 50/50\n",
      "38/38 [==============================] - 1s 33ms/step - loss: 1.2326 - accuracy: 0.6308 - val_loss: 1.1571 - val_accuracy: 0.6850\n",
      "Epoch 1/50\n"
     ]
    },
    {
     "name": "stderr",
     "output_type": "stream",
     "text": [
      "2023-05-11 19:32:03.081613: I tensorflow/core/grappler/optimizers/custom_graph_optimizer_registry.cc:113] Plugin optimizer for device_type GPU is enabled.\n"
     ]
    },
    {
     "name": "stdout",
     "output_type": "stream",
     "text": [
      "38/38 [==============================] - ETA: 0s - loss: 3.2620 - accuracy: 0.0492"
     ]
    },
    {
     "name": "stderr",
     "output_type": "stream",
     "text": [
      "2023-05-11 19:32:05.171980: I tensorflow/core/grappler/optimizers/custom_graph_optimizer_registry.cc:113] Plugin optimizer for device_type GPU is enabled.\n"
     ]
    },
    {
     "name": "stdout",
     "output_type": "stream",
     "text": [
      "38/38 [==============================] - 3s 56ms/step - loss: 3.2620 - accuracy: 0.0492 - val_loss: 2.8470 - val_accuracy: 0.0067\n",
      "Epoch 2/50\n",
      "38/38 [==============================] - 1s 37ms/step - loss: 3.1978 - accuracy: 0.0517 - val_loss: 2.9011 - val_accuracy: 0.0017\n",
      "Epoch 3/50\n",
      "38/38 [==============================] - 1s 34ms/step - loss: 3.0686 - accuracy: 0.0667 - val_loss: 2.9570 - val_accuracy: 0.0000e+00\n",
      "Epoch 4/50\n",
      "38/38 [==============================] - 1s 33ms/step - loss: 2.9845 - accuracy: 0.0750 - val_loss: 3.0082 - val_accuracy: 0.0000e+00\n",
      "Epoch 5/50\n",
      "38/38 [==============================] - 1s 34ms/step - loss: 2.9095 - accuracy: 0.0900 - val_loss: 3.0458 - val_accuracy: 0.0000e+00\n",
      "Epoch 1/50\n"
     ]
    },
    {
     "name": "stderr",
     "output_type": "stream",
     "text": [
      "2023-05-11 19:32:11.744783: I tensorflow/core/grappler/optimizers/custom_graph_optimizer_registry.cc:113] Plugin optimizer for device_type GPU is enabled.\n"
     ]
    },
    {
     "name": "stdout",
     "output_type": "stream",
     "text": [
      "38/38 [==============================] - ETA: 0s - loss: 3.4267 - accuracy: 0.0308"
     ]
    },
    {
     "name": "stderr",
     "output_type": "stream",
     "text": [
      "2023-05-11 19:32:13.945594: I tensorflow/core/grappler/optimizers/custom_graph_optimizer_registry.cc:113] Plugin optimizer for device_type GPU is enabled.\n"
     ]
    },
    {
     "name": "stdout",
     "output_type": "stream",
     "text": [
      "38/38 [==============================] - 3s 62ms/step - loss: 3.4267 - accuracy: 0.0308 - val_loss: 2.8015 - val_accuracy: 0.0550\n",
      "Epoch 2/50\n",
      "38/38 [==============================] - 1s 37ms/step - loss: 3.3325 - accuracy: 0.0425 - val_loss: 2.7902 - val_accuracy: 0.1150\n",
      "Epoch 3/50\n",
      "38/38 [==============================] - 1s 34ms/step - loss: 3.2297 - accuracy: 0.0450 - val_loss: 2.7749 - val_accuracy: 0.1350\n",
      "Epoch 4/50\n",
      "38/38 [==============================] - 1s 33ms/step - loss: 3.1171 - accuracy: 0.0658 - val_loss: 2.7580 - val_accuracy: 0.1317\n",
      "Epoch 5/50\n",
      "38/38 [==============================] - 1s 33ms/step - loss: 3.0591 - accuracy: 0.0717 - val_loss: 2.7371 - val_accuracy: 0.1217\n",
      "Epoch 6/50\n",
      "38/38 [==============================] - 1s 34ms/step - loss: 2.9613 - accuracy: 0.0908 - val_loss: 2.7113 - val_accuracy: 0.1333\n",
      "Epoch 7/50\n",
      "38/38 [==============================] - 1s 38ms/step - loss: 2.8791 - accuracy: 0.1150 - val_loss: 2.6778 - val_accuracy: 0.1250\n",
      "trials for model 15: 0.2700000007947286\n",
      "Epoch 1/50\n"
     ]
    },
    {
     "name": "stderr",
     "output_type": "stream",
     "text": [
      "2023-05-11 19:32:23.711269: I tensorflow/core/grappler/optimizers/custom_graph_optimizer_registry.cc:113] Plugin optimizer for device_type GPU is enabled.\n"
     ]
    },
    {
     "name": "stdout",
     "output_type": "stream",
     "text": [
      "38/38 [==============================] - ETA: 0s - loss: 3.4785 - accuracy: 0.0183"
     ]
    },
    {
     "name": "stderr",
     "output_type": "stream",
     "text": [
      "2023-05-11 19:32:25.973654: I tensorflow/core/grappler/optimizers/custom_graph_optimizer_registry.cc:113] Plugin optimizer for device_type GPU is enabled.\n"
     ]
    },
    {
     "name": "stdout",
     "output_type": "stream",
     "text": [
      "38/38 [==============================] - 4s 60ms/step - loss: 3.4785 - accuracy: 0.0183 - val_loss: 2.8654 - val_accuracy: 0.0000e+00\n",
      "Epoch 2/50\n",
      "38/38 [==============================] - 1s 31ms/step - loss: 3.4080 - accuracy: 0.0233 - val_loss: 2.9227 - val_accuracy: 0.0000e+00\n",
      "Epoch 3/50\n",
      "38/38 [==============================] - 1s 39ms/step - loss: 3.3094 - accuracy: 0.0308 - val_loss: 2.9675 - val_accuracy: 0.0000e+00\n",
      "Epoch 4/50\n",
      "38/38 [==============================] - 1s 39ms/step - loss: 3.2536 - accuracy: 0.0375 - val_loss: 2.9961 - val_accuracy: 0.0000e+00\n",
      "Epoch 5/50\n",
      "38/38 [==============================] - 1s 33ms/step - loss: 3.1947 - accuracy: 0.0292 - val_loss: 3.0080 - val_accuracy: 0.0000e+00\n",
      "Epoch 1/50\n"
     ]
    },
    {
     "name": "stderr",
     "output_type": "stream",
     "text": [
      "2023-05-11 19:32:32.733775: I tensorflow/core/grappler/optimizers/custom_graph_optimizer_registry.cc:113] Plugin optimizer for device_type GPU is enabled.\n"
     ]
    },
    {
     "name": "stdout",
     "output_type": "stream",
     "text": [
      "38/38 [==============================] - ETA: 0s - loss: 3.3620 - accuracy: 0.0383"
     ]
    },
    {
     "name": "stderr",
     "output_type": "stream",
     "text": [
      "2023-05-11 19:32:34.912418: I tensorflow/core/grappler/optimizers/custom_graph_optimizer_registry.cc:113] Plugin optimizer for device_type GPU is enabled.\n"
     ]
    },
    {
     "name": "stdout",
     "output_type": "stream",
     "text": [
      "38/38 [==============================] - 3s 56ms/step - loss: 3.3620 - accuracy: 0.0383 - val_loss: 2.8281 - val_accuracy: 0.1150\n",
      "Epoch 2/50\n",
      "38/38 [==============================] - 1s 29ms/step - loss: 3.2873 - accuracy: 0.0533 - val_loss: 2.8512 - val_accuracy: 0.1083\n",
      "Epoch 3/50\n",
      "38/38 [==============================] - 1s 32ms/step - loss: 3.2252 - accuracy: 0.0567 - val_loss: 2.8676 - val_accuracy: 0.1050\n",
      "Epoch 4/50\n",
      "38/38 [==============================] - 1s 38ms/step - loss: 3.1357 - accuracy: 0.0708 - val_loss: 2.8742 - val_accuracy: 0.1117\n",
      "Epoch 5/50\n",
      "38/38 [==============================] - 1s 33ms/step - loss: 3.0667 - accuracy: 0.0917 - val_loss: 2.8710 - val_accuracy: 0.1383\n",
      "Epoch 6/50\n",
      "38/38 [==============================] - 1s 33ms/step - loss: 2.9934 - accuracy: 0.0858 - val_loss: 2.8558 - val_accuracy: 0.1600\n",
      "Epoch 7/50\n",
      "38/38 [==============================] - 1s 35ms/step - loss: 2.9332 - accuracy: 0.1117 - val_loss: 2.8306 - val_accuracy: 0.1600\n",
      "Epoch 8/50\n",
      "38/38 [==============================] - 1s 33ms/step - loss: 2.8600 - accuracy: 0.1158 - val_loss: 2.7966 - val_accuracy: 0.1767\n",
      "Epoch 9/50\n",
      "38/38 [==============================] - 1s 32ms/step - loss: 2.7755 - accuracy: 0.1450 - val_loss: 2.7547 - val_accuracy: 0.1883\n",
      "Epoch 10/50\n",
      "38/38 [==============================] - 1s 33ms/step - loss: 2.7210 - accuracy: 0.1550 - val_loss: 2.7014 - val_accuracy: 0.1967\n",
      "Epoch 11/50\n",
      "38/38 [==============================] - 1s 34ms/step - loss: 2.6713 - accuracy: 0.1592 - val_loss: 2.6392 - val_accuracy: 0.2117\n",
      "Epoch 12/50\n",
      "38/38 [==============================] - 1s 36ms/step - loss: 2.5959 - accuracy: 0.1958 - val_loss: 2.5692 - val_accuracy: 0.2333\n",
      "Epoch 13/50\n",
      "38/38 [==============================] - 1s 38ms/step - loss: 2.5656 - accuracy: 0.1917 - val_loss: 2.4951 - val_accuracy: 0.2500\n",
      "Epoch 14/50\n",
      "38/38 [==============================] - 1s 31ms/step - loss: 2.4743 - accuracy: 0.2258 - val_loss: 2.4236 - val_accuracy: 0.2750\n",
      "Epoch 15/50\n",
      "38/38 [==============================] - 1s 32ms/step - loss: 2.4162 - accuracy: 0.2417 - val_loss: 2.3569 - val_accuracy: 0.2900\n",
      "Epoch 16/50\n",
      "38/38 [==============================] - 1s 33ms/step - loss: 2.3674 - accuracy: 0.2633 - val_loss: 2.2951 - val_accuracy: 0.3117\n",
      "Epoch 17/50\n",
      "38/38 [==============================] - 1s 31ms/step - loss: 2.3024 - accuracy: 0.2925 - val_loss: 2.2371 - val_accuracy: 0.3383\n",
      "Epoch 18/50\n",
      "38/38 [==============================] - 1s 31ms/step - loss: 2.2748 - accuracy: 0.3075 - val_loss: 2.1832 - val_accuracy: 0.3517\n",
      "Epoch 19/50\n",
      "38/38 [==============================] - 1s 36ms/step - loss: 2.2332 - accuracy: 0.3183 - val_loss: 2.1333 - val_accuracy: 0.3733\n",
      "Epoch 20/50\n",
      "38/38 [==============================] - 1s 31ms/step - loss: 2.1928 - accuracy: 0.3400 - val_loss: 2.0864 - val_accuracy: 0.3983\n",
      "Epoch 21/50\n",
      "38/38 [==============================] - 2s 40ms/step - loss: 2.1522 - accuracy: 0.3558 - val_loss: 2.0410 - val_accuracy: 0.4167\n",
      "Epoch 22/50\n",
      "38/38 [==============================] - 2s 41ms/step - loss: 2.1089 - accuracy: 0.3642 - val_loss: 1.9991 - val_accuracy: 0.4317\n",
      "Epoch 23/50\n",
      "38/38 [==============================] - 1s 39ms/step - loss: 2.0453 - accuracy: 0.4067 - val_loss: 1.9592 - val_accuracy: 0.4433\n",
      "Epoch 24/50\n",
      "38/38 [==============================] - 2s 47ms/step - loss: 2.0247 - accuracy: 0.4117 - val_loss: 1.9205 - val_accuracy: 0.4517\n",
      "Epoch 25/50\n",
      "38/38 [==============================] - 2s 60ms/step - loss: 1.9780 - accuracy: 0.4300 - val_loss: 1.8839 - val_accuracy: 0.4617\n",
      "Epoch 26/50\n",
      "38/38 [==============================] - 2s 49ms/step - loss: 1.9490 - accuracy: 0.4475 - val_loss: 1.8488 - val_accuracy: 0.4783\n",
      "Epoch 27/50\n",
      "38/38 [==============================] - 1s 39ms/step - loss: 1.9266 - accuracy: 0.4533 - val_loss: 1.8146 - val_accuracy: 0.4950\n",
      "Epoch 28/50\n",
      "38/38 [==============================] - 1s 34ms/step - loss: 1.8862 - accuracy: 0.4558 - val_loss: 1.7826 - val_accuracy: 0.5150\n",
      "Epoch 29/50\n",
      "38/38 [==============================] - 2s 41ms/step - loss: 1.8480 - accuracy: 0.4742 - val_loss: 1.7513 - val_accuracy: 0.5250\n",
      "Epoch 30/50\n",
      "38/38 [==============================] - 1s 38ms/step - loss: 1.8276 - accuracy: 0.4900 - val_loss: 1.7212 - val_accuracy: 0.5367\n",
      "Epoch 31/50\n",
      "38/38 [==============================] - 2s 46ms/step - loss: 1.7970 - accuracy: 0.4942 - val_loss: 1.6928 - val_accuracy: 0.5450\n",
      "Epoch 32/50\n",
      "38/38 [==============================] - 2s 40ms/step - loss: 1.7418 - accuracy: 0.5308 - val_loss: 1.6657 - val_accuracy: 0.5617\n",
      "Epoch 33/50\n",
      "38/38 [==============================] - 1s 31ms/step - loss: 1.7427 - accuracy: 0.5075 - val_loss: 1.6394 - val_accuracy: 0.5733\n",
      "Epoch 34/50\n",
      "38/38 [==============================] - 1s 32ms/step - loss: 1.7072 - accuracy: 0.5192 - val_loss: 1.6133 - val_accuracy: 0.5833\n",
      "Epoch 35/50\n",
      "38/38 [==============================] - 1s 35ms/step - loss: 1.6900 - accuracy: 0.5258 - val_loss: 1.5902 - val_accuracy: 0.5883\n",
      "Epoch 36/50\n",
      "38/38 [==============================] - 1s 31ms/step - loss: 1.6782 - accuracy: 0.5317 - val_loss: 1.5679 - val_accuracy: 0.5933\n",
      "Epoch 37/50\n",
      "38/38 [==============================] - 1s 31ms/step - loss: 1.6428 - accuracy: 0.5308 - val_loss: 1.5439 - val_accuracy: 0.6033\n",
      "Epoch 38/50\n",
      "38/38 [==============================] - 1s 32ms/step - loss: 1.6084 - accuracy: 0.5525 - val_loss: 1.5229 - val_accuracy: 0.6033\n",
      "Epoch 39/50\n",
      "38/38 [==============================] - 1s 38ms/step - loss: 1.6173 - accuracy: 0.5458 - val_loss: 1.5017 - val_accuracy: 0.6100\n",
      "Epoch 40/50\n",
      "38/38 [==============================] - 1s 33ms/step - loss: 1.5748 - accuracy: 0.5675 - val_loss: 1.4817 - val_accuracy: 0.6167\n",
      "Epoch 41/50\n",
      "38/38 [==============================] - 2s 50ms/step - loss: 1.5570 - accuracy: 0.5825 - val_loss: 1.4617 - val_accuracy: 0.6200\n",
      "Epoch 42/50\n",
      "38/38 [==============================] - 1s 38ms/step - loss: 1.5395 - accuracy: 0.5842 - val_loss: 1.4433 - val_accuracy: 0.6250\n",
      "Epoch 43/50\n",
      "38/38 [==============================] - 1s 38ms/step - loss: 1.5294 - accuracy: 0.5867 - val_loss: 1.4257 - val_accuracy: 0.6283\n",
      "Epoch 44/50\n",
      "38/38 [==============================] - 1s 32ms/step - loss: 1.4820 - accuracy: 0.5933 - val_loss: 1.4078 - val_accuracy: 0.6350\n",
      "Epoch 45/50\n",
      "38/38 [==============================] - 1s 31ms/step - loss: 1.4908 - accuracy: 0.5942 - val_loss: 1.3910 - val_accuracy: 0.6383\n",
      "Epoch 46/50\n",
      "38/38 [==============================] - 1s 35ms/step - loss: 1.4933 - accuracy: 0.5833 - val_loss: 1.3745 - val_accuracy: 0.6400\n",
      "Epoch 47/50\n",
      "38/38 [==============================] - 1s 34ms/step - loss: 1.4559 - accuracy: 0.5942 - val_loss: 1.3589 - val_accuracy: 0.6417\n",
      "Epoch 48/50\n",
      "38/38 [==============================] - 1s 33ms/step - loss: 1.4526 - accuracy: 0.5900 - val_loss: 1.3435 - val_accuracy: 0.6500\n",
      "Epoch 49/50\n",
      "38/38 [==============================] - 1s 34ms/step - loss: 1.4149 - accuracy: 0.6100 - val_loss: 1.3297 - val_accuracy: 0.6517\n",
      "Epoch 50/50\n",
      "38/38 [==============================] - 1s 36ms/step - loss: 1.4029 - accuracy: 0.6092 - val_loss: 1.3149 - val_accuracy: 0.6550\n",
      "Epoch 1/50\n"
     ]
    },
    {
     "name": "stderr",
     "output_type": "stream",
     "text": [
      "2023-05-11 19:33:43.623596: I tensorflow/core/grappler/optimizers/custom_graph_optimizer_registry.cc:113] Plugin optimizer for device_type GPU is enabled.\n"
     ]
    },
    {
     "name": "stdout",
     "output_type": "stream",
     "text": [
      "38/38 [==============================] - ETA: 0s - loss: 3.2835 - accuracy: 0.0633"
     ]
    },
    {
     "name": "stderr",
     "output_type": "stream",
     "text": [
      "2023-05-11 19:33:45.635857: I tensorflow/core/grappler/optimizers/custom_graph_optimizer_registry.cc:113] Plugin optimizer for device_type GPU is enabled.\n"
     ]
    },
    {
     "name": "stdout",
     "output_type": "stream",
     "text": [
      "38/38 [==============================] - 3s 54ms/step - loss: 3.2835 - accuracy: 0.0633 - val_loss: 2.8036 - val_accuracy: 0.0050\n",
      "Epoch 2/50\n",
      "38/38 [==============================] - 1s 33ms/step - loss: 3.1773 - accuracy: 0.0658 - val_loss: 2.8017 - val_accuracy: 0.0033\n",
      "Epoch 3/50\n",
      "38/38 [==============================] - 1s 35ms/step - loss: 3.1199 - accuracy: 0.0825 - val_loss: 2.7974 - val_accuracy: 0.0067\n",
      "Epoch 4/50\n",
      "38/38 [==============================] - 1s 34ms/step - loss: 3.0256 - accuracy: 0.0983 - val_loss: 2.7909 - val_accuracy: 0.0233\n",
      "Epoch 5/50\n",
      "38/38 [==============================] - 1s 34ms/step - loss: 2.9708 - accuracy: 0.1042 - val_loss: 2.7804 - val_accuracy: 0.0350\n",
      "Epoch 6/50\n",
      "38/38 [==============================] - 1s 36ms/step - loss: 2.8989 - accuracy: 0.1183 - val_loss: 2.7694 - val_accuracy: 0.0500\n",
      "Epoch 7/50\n",
      "38/38 [==============================] - 1s 37ms/step - loss: 2.7990 - accuracy: 0.1400 - val_loss: 2.7592 - val_accuracy: 0.0600\n",
      "Epoch 8/50\n",
      "38/38 [==============================] - 1s 36ms/step - loss: 2.7568 - accuracy: 0.1492 - val_loss: 2.7458 - val_accuracy: 0.0733\n",
      "Epoch 9/50\n",
      "38/38 [==============================] - 2s 43ms/step - loss: 2.6991 - accuracy: 0.1625 - val_loss: 2.7256 - val_accuracy: 0.0917\n",
      "Epoch 10/50\n",
      "38/38 [==============================] - 1s 35ms/step - loss: 2.6449 - accuracy: 0.1800 - val_loss: 2.6916 - val_accuracy: 0.1150\n",
      "Epoch 11/50\n",
      "38/38 [==============================] - 1s 34ms/step - loss: 2.5637 - accuracy: 0.1825 - val_loss: 2.6417 - val_accuracy: 0.1417\n",
      "Epoch 12/50\n",
      "38/38 [==============================] - 1s 34ms/step - loss: 2.5201 - accuracy: 0.2075 - val_loss: 2.5802 - val_accuracy: 0.1667\n",
      "Epoch 13/50\n",
      "38/38 [==============================] - 1s 34ms/step - loss: 2.4800 - accuracy: 0.2250 - val_loss: 2.5072 - val_accuracy: 0.2033\n",
      "Epoch 14/50\n",
      "38/38 [==============================] - 1s 33ms/step - loss: 2.4237 - accuracy: 0.2475 - val_loss: 2.4289 - val_accuracy: 0.2283\n",
      "Epoch 15/50\n",
      "38/38 [==============================] - 1s 33ms/step - loss: 2.3576 - accuracy: 0.2675 - val_loss: 2.3530 - val_accuracy: 0.2733\n",
      "Epoch 16/50\n",
      "38/38 [==============================] - 1s 33ms/step - loss: 2.3363 - accuracy: 0.2750 - val_loss: 2.2794 - val_accuracy: 0.3167\n",
      "Epoch 17/50\n",
      "38/38 [==============================] - 1s 35ms/step - loss: 2.2558 - accuracy: 0.3067 - val_loss: 2.2119 - val_accuracy: 0.3400\n",
      "Epoch 18/50\n",
      "38/38 [==============================] - 1s 32ms/step - loss: 2.2192 - accuracy: 0.3200 - val_loss: 2.1515 - val_accuracy: 0.3550\n",
      "Epoch 19/50\n",
      "38/38 [==============================] - 1s 35ms/step - loss: 2.1884 - accuracy: 0.3242 - val_loss: 2.0952 - val_accuracy: 0.3767\n",
      "Epoch 20/50\n",
      "38/38 [==============================] - 1s 33ms/step - loss: 2.1397 - accuracy: 0.3258 - val_loss: 2.0433 - val_accuracy: 0.3967\n",
      "Epoch 21/50\n",
      "38/38 [==============================] - 1s 32ms/step - loss: 2.0957 - accuracy: 0.3658 - val_loss: 1.9960 - val_accuracy: 0.4250\n",
      "Epoch 22/50\n",
      "38/38 [==============================] - 1s 31ms/step - loss: 2.0398 - accuracy: 0.3758 - val_loss: 1.9517 - val_accuracy: 0.4550\n",
      "Epoch 23/50\n",
      "38/38 [==============================] - 1s 31ms/step - loss: 2.0082 - accuracy: 0.4000 - val_loss: 1.9102 - val_accuracy: 0.4667\n",
      "Epoch 24/50\n",
      "38/38 [==============================] - 1s 33ms/step - loss: 1.9736 - accuracy: 0.4092 - val_loss: 1.8708 - val_accuracy: 0.4783\n",
      "Epoch 25/50\n",
      "38/38 [==============================] - 1s 32ms/step - loss: 1.9525 - accuracy: 0.4167 - val_loss: 1.8340 - val_accuracy: 0.4900\n",
      "Epoch 26/50\n",
      "38/38 [==============================] - 1s 33ms/step - loss: 1.9095 - accuracy: 0.4525 - val_loss: 1.7995 - val_accuracy: 0.5000\n",
      "Epoch 27/50\n",
      "38/38 [==============================] - 1s 37ms/step - loss: 1.8851 - accuracy: 0.4400 - val_loss: 1.7664 - val_accuracy: 0.5150\n",
      "Epoch 28/50\n",
      "38/38 [==============================] - 1s 35ms/step - loss: 1.8614 - accuracy: 0.4583 - val_loss: 1.7350 - val_accuracy: 0.5217\n",
      "Epoch 29/50\n",
      "38/38 [==============================] - 1s 32ms/step - loss: 1.7994 - accuracy: 0.4717 - val_loss: 1.7040 - val_accuracy: 0.5300\n",
      "Epoch 30/50\n",
      "38/38 [==============================] - 1s 36ms/step - loss: 1.7804 - accuracy: 0.4692 - val_loss: 1.6756 - val_accuracy: 0.5450\n",
      "Epoch 31/50\n",
      "38/38 [==============================] - 1s 35ms/step - loss: 1.7490 - accuracy: 0.4942 - val_loss: 1.6481 - val_accuracy: 0.5567\n",
      "Epoch 32/50\n",
      "38/38 [==============================] - 1s 35ms/step - loss: 1.7222 - accuracy: 0.5050 - val_loss: 1.6226 - val_accuracy: 0.5633\n",
      "Epoch 33/50\n",
      "38/38 [==============================] - 2s 44ms/step - loss: 1.7215 - accuracy: 0.4850 - val_loss: 1.5965 - val_accuracy: 0.5717\n",
      "Epoch 34/50\n",
      "38/38 [==============================] - 2s 46ms/step - loss: 1.6848 - accuracy: 0.5092 - val_loss: 1.5713 - val_accuracy: 0.5767\n",
      "Epoch 35/50\n",
      "38/38 [==============================] - 2s 47ms/step - loss: 1.6635 - accuracy: 0.5217 - val_loss: 1.5481 - val_accuracy: 0.5833\n",
      "Epoch 36/50\n",
      "38/38 [==============================] - 1s 32ms/step - loss: 1.6179 - accuracy: 0.5433 - val_loss: 1.5257 - val_accuracy: 0.5917\n",
      "Epoch 37/50\n",
      "38/38 [==============================] - 1s 32ms/step - loss: 1.5926 - accuracy: 0.5233 - val_loss: 1.5032 - val_accuracy: 0.5917\n",
      "Epoch 38/50\n",
      "38/38 [==============================] - 1s 35ms/step - loss: 1.5897 - accuracy: 0.5433 - val_loss: 1.4813 - val_accuracy: 0.6000\n",
      "Epoch 39/50\n",
      "38/38 [==============================] - 1s 35ms/step - loss: 1.5596 - accuracy: 0.5483 - val_loss: 1.4618 - val_accuracy: 0.6050\n",
      "Epoch 40/50\n",
      "38/38 [==============================] - 1s 39ms/step - loss: 1.5473 - accuracy: 0.5517 - val_loss: 1.4421 - val_accuracy: 0.6083\n",
      "Epoch 41/50\n",
      "38/38 [==============================] - 1s 34ms/step - loss: 1.5129 - accuracy: 0.5417 - val_loss: 1.4236 - val_accuracy: 0.6100\n",
      "Epoch 42/50\n",
      "38/38 [==============================] - 1s 33ms/step - loss: 1.4998 - accuracy: 0.5525 - val_loss: 1.4061 - val_accuracy: 0.6183\n",
      "Epoch 43/50\n",
      "38/38 [==============================] - 1s 31ms/step - loss: 1.4929 - accuracy: 0.5692 - val_loss: 1.3880 - val_accuracy: 0.6183\n",
      "Epoch 44/50\n",
      "38/38 [==============================] - 1s 34ms/step - loss: 1.4696 - accuracy: 0.5650 - val_loss: 1.3706 - val_accuracy: 0.6217\n",
      "Epoch 45/50\n",
      "38/38 [==============================] - 1s 31ms/step - loss: 1.4539 - accuracy: 0.5900 - val_loss: 1.3541 - val_accuracy: 0.6283\n",
      "Epoch 46/50\n",
      "38/38 [==============================] - 1s 31ms/step - loss: 1.4335 - accuracy: 0.5733 - val_loss: 1.3386 - val_accuracy: 0.6333\n",
      "Epoch 47/50\n",
      "38/38 [==============================] - 1s 31ms/step - loss: 1.4163 - accuracy: 0.5733 - val_loss: 1.3228 - val_accuracy: 0.6350\n",
      "Epoch 48/50\n",
      "38/38 [==============================] - 1s 31ms/step - loss: 1.4001 - accuracy: 0.5900 - val_loss: 1.3081 - val_accuracy: 0.6367\n",
      "Epoch 49/50\n",
      "38/38 [==============================] - 1s 34ms/step - loss: 1.3751 - accuracy: 0.5967 - val_loss: 1.2935 - val_accuracy: 0.6400\n",
      "Epoch 50/50\n",
      "38/38 [==============================] - 1s 31ms/step - loss: 1.3829 - accuracy: 0.6067 - val_loss: 1.2796 - val_accuracy: 0.6417\n",
      "trials for model 16: 0.43222224712371826\n",
      "Epoch 1/50\n"
     ]
    },
    {
     "name": "stderr",
     "output_type": "stream",
     "text": [
      "2023-05-11 19:34:51.634353: I tensorflow/core/grappler/optimizers/custom_graph_optimizer_registry.cc:113] Plugin optimizer for device_type GPU is enabled.\n"
     ]
    },
    {
     "name": "stdout",
     "output_type": "stream",
     "text": [
      "38/38 [==============================] - ETA: 0s - loss: 3.5227 - accuracy: 0.0292"
     ]
    },
    {
     "name": "stderr",
     "output_type": "stream",
     "text": [
      "2023-05-11 19:34:53.563943: I tensorflow/core/grappler/optimizers/custom_graph_optimizer_registry.cc:113] Plugin optimizer for device_type GPU is enabled.\n"
     ]
    },
    {
     "name": "stdout",
     "output_type": "stream",
     "text": [
      "38/38 [==============================] - 3s 50ms/step - loss: 3.5227 - accuracy: 0.0292 - val_loss: 2.8176 - val_accuracy: 0.0633\n",
      "Epoch 2/50\n",
      "38/38 [==============================] - 1s 26ms/step - loss: 3.4994 - accuracy: 0.0308 - val_loss: 2.8309 - val_accuracy: 0.0267\n",
      "Epoch 3/50\n",
      "38/38 [==============================] - 1s 29ms/step - loss: 3.4315 - accuracy: 0.0333 - val_loss: 2.8468 - val_accuracy: 0.0183\n",
      "Epoch 4/50\n",
      "38/38 [==============================] - 1s 24ms/step - loss: 3.4087 - accuracy: 0.0408 - val_loss: 2.8612 - val_accuracy: 0.0200\n",
      "Epoch 5/50\n",
      "38/38 [==============================] - 1s 23ms/step - loss: 3.3563 - accuracy: 0.0417 - val_loss: 2.8715 - val_accuracy: 0.0367\n",
      "Epoch 1/50\n"
     ]
    },
    {
     "name": "stderr",
     "output_type": "stream",
     "text": [
      "2023-05-11 19:34:58.614669: I tensorflow/core/grappler/optimizers/custom_graph_optimizer_registry.cc:113] Plugin optimizer for device_type GPU is enabled.\n"
     ]
    },
    {
     "name": "stdout",
     "output_type": "stream",
     "text": [
      "38/38 [==============================] - ETA: 0s - loss: 3.4093 - accuracy: 0.0608"
     ]
    },
    {
     "name": "stderr",
     "output_type": "stream",
     "text": [
      "2023-05-11 19:35:00.476328: I tensorflow/core/grappler/optimizers/custom_graph_optimizer_registry.cc:113] Plugin optimizer for device_type GPU is enabled.\n"
     ]
    },
    {
     "name": "stdout",
     "output_type": "stream",
     "text": [
      "38/38 [==============================] - 3s 49ms/step - loss: 3.4093 - accuracy: 0.0608 - val_loss: 2.8122 - val_accuracy: 0.1383\n",
      "Epoch 2/50\n",
      "38/38 [==============================] - 1s 25ms/step - loss: 3.3810 - accuracy: 0.0675 - val_loss: 2.8201 - val_accuracy: 0.0733\n",
      "Epoch 3/50\n",
      "38/38 [==============================] - 1s 25ms/step - loss: 3.3010 - accuracy: 0.0808 - val_loss: 2.8345 - val_accuracy: 0.0450\n",
      "Epoch 4/50\n",
      "38/38 [==============================] - 1s 22ms/step - loss: 3.2564 - accuracy: 0.0917 - val_loss: 2.8536 - val_accuracy: 0.0367\n",
      "Epoch 5/50\n",
      "38/38 [==============================] - 1s 23ms/step - loss: 3.2249 - accuracy: 0.0858 - val_loss: 2.8734 - val_accuracy: 0.0383\n",
      "Epoch 1/50\n"
     ]
    },
    {
     "name": "stderr",
     "output_type": "stream",
     "text": [
      "2023-05-11 19:35:05.298254: I tensorflow/core/grappler/optimizers/custom_graph_optimizer_registry.cc:113] Plugin optimizer for device_type GPU is enabled.\n"
     ]
    },
    {
     "name": "stdout",
     "output_type": "stream",
     "text": [
      "38/38 [==============================] - ETA: 0s - loss: 3.3266 - accuracy: 0.0508"
     ]
    },
    {
     "name": "stderr",
     "output_type": "stream",
     "text": [
      "2023-05-11 19:35:07.267043: I tensorflow/core/grappler/optimizers/custom_graph_optimizer_registry.cc:113] Plugin optimizer for device_type GPU is enabled.\n"
     ]
    },
    {
     "name": "stdout",
     "output_type": "stream",
     "text": [
      "38/38 [==============================] - 3s 52ms/step - loss: 3.3266 - accuracy: 0.0508 - val_loss: 2.8150 - val_accuracy: 0.0067\n",
      "Epoch 2/50\n",
      "38/38 [==============================] - 1s 26ms/step - loss: 3.2730 - accuracy: 0.0533 - val_loss: 2.8366 - val_accuracy: 0.0017\n",
      "Epoch 3/50\n",
      "38/38 [==============================] - 1s 23ms/step - loss: 3.2582 - accuracy: 0.0575 - val_loss: 2.8479 - val_accuracy: 0.0017\n",
      "Epoch 4/50\n",
      "38/38 [==============================] - 1s 25ms/step - loss: 3.2273 - accuracy: 0.0558 - val_loss: 2.8499 - val_accuracy: 0.0117\n",
      "Epoch 5/50\n",
      "38/38 [==============================] - 1s 26ms/step - loss: 3.1685 - accuracy: 0.0642 - val_loss: 2.8446 - val_accuracy: 0.0250\n",
      "Epoch 6/50\n",
      "38/38 [==============================] - 1s 24ms/step - loss: 3.1278 - accuracy: 0.0675 - val_loss: 2.8350 - val_accuracy: 0.0433\n",
      "Epoch 7/50\n",
      "38/38 [==============================] - 1s 23ms/step - loss: 3.0771 - accuracy: 0.0700 - val_loss: 2.8229 - val_accuracy: 0.0567\n",
      "Epoch 8/50\n",
      "38/38 [==============================] - 1s 23ms/step - loss: 3.0553 - accuracy: 0.0708 - val_loss: 2.8089 - val_accuracy: 0.0617\n",
      "Epoch 9/50\n",
      "38/38 [==============================] - 1s 24ms/step - loss: 3.0126 - accuracy: 0.0758 - val_loss: 2.7981 - val_accuracy: 0.0700\n",
      "Epoch 10/50\n",
      "38/38 [==============================] - 1s 24ms/step - loss: 2.9767 - accuracy: 0.0783 - val_loss: 2.7879 - val_accuracy: 0.0783\n",
      "Epoch 11/50\n",
      "38/38 [==============================] - 1s 22ms/step - loss: 2.9683 - accuracy: 0.0833 - val_loss: 2.7759 - val_accuracy: 0.0900\n",
      "Epoch 12/50\n",
      "38/38 [==============================] - 1s 23ms/step - loss: 2.9176 - accuracy: 0.0867 - val_loss: 2.7582 - val_accuracy: 0.0950\n",
      "Epoch 13/50\n",
      "38/38 [==============================] - 1s 27ms/step - loss: 2.8751 - accuracy: 0.0950 - val_loss: 2.7359 - val_accuracy: 0.1000\n",
      "Epoch 14/50\n",
      "38/38 [==============================] - 1s 26ms/step - loss: 2.8394 - accuracy: 0.1058 - val_loss: 2.7073 - val_accuracy: 0.1033\n",
      "Epoch 15/50\n",
      "38/38 [==============================] - 1s 29ms/step - loss: 2.8036 - accuracy: 0.1217 - val_loss: 2.6755 - val_accuracy: 0.1133\n",
      "Epoch 16/50\n",
      "38/38 [==============================] - 1s 23ms/step - loss: 2.7879 - accuracy: 0.1200 - val_loss: 2.6413 - val_accuracy: 0.1200\n",
      "Epoch 17/50\n",
      "38/38 [==============================] - 1s 25ms/step - loss: 2.7364 - accuracy: 0.1275 - val_loss: 2.6047 - val_accuracy: 0.1350\n",
      "Epoch 18/50\n",
      "38/38 [==============================] - 1s 25ms/step - loss: 2.7144 - accuracy: 0.1392 - val_loss: 2.5694 - val_accuracy: 0.1550\n",
      "Epoch 19/50\n",
      "38/38 [==============================] - 1s 23ms/step - loss: 2.6574 - accuracy: 0.1583 - val_loss: 2.5351 - val_accuracy: 0.1700\n",
      "Epoch 20/50\n",
      "38/38 [==============================] - 1s 26ms/step - loss: 2.6508 - accuracy: 0.1617 - val_loss: 2.5027 - val_accuracy: 0.1750\n",
      "Epoch 21/50\n",
      "38/38 [==============================] - 1s 22ms/step - loss: 2.6385 - accuracy: 0.1533 - val_loss: 2.4701 - val_accuracy: 0.1850\n",
      "Epoch 22/50\n",
      "38/38 [==============================] - 1s 23ms/step - loss: 2.5790 - accuracy: 0.1767 - val_loss: 2.4384 - val_accuracy: 0.1967\n",
      "Epoch 23/50\n",
      "38/38 [==============================] - 1s 22ms/step - loss: 2.5553 - accuracy: 0.1792 - val_loss: 2.4072 - val_accuracy: 0.2133\n",
      "Epoch 24/50\n",
      "38/38 [==============================] - 1s 23ms/step - loss: 2.5390 - accuracy: 0.1842 - val_loss: 2.3771 - val_accuracy: 0.2283\n",
      "Epoch 25/50\n",
      "38/38 [==============================] - 1s 25ms/step - loss: 2.5125 - accuracy: 0.1967 - val_loss: 2.3482 - val_accuracy: 0.2450\n",
      "Epoch 26/50\n",
      "38/38 [==============================] - 1s 23ms/step - loss: 2.4494 - accuracy: 0.2100 - val_loss: 2.3193 - val_accuracy: 0.2533\n",
      "Epoch 27/50\n",
      "38/38 [==============================] - 1s 22ms/step - loss: 2.4627 - accuracy: 0.2233 - val_loss: 2.2912 - val_accuracy: 0.2633\n",
      "Epoch 28/50\n",
      "38/38 [==============================] - 1s 22ms/step - loss: 2.4065 - accuracy: 0.2367 - val_loss: 2.2631 - val_accuracy: 0.2750\n",
      "Epoch 29/50\n",
      "38/38 [==============================] - 1s 22ms/step - loss: 2.3771 - accuracy: 0.2408 - val_loss: 2.2369 - val_accuracy: 0.2883\n",
      "Epoch 30/50\n",
      "38/38 [==============================] - 1s 22ms/step - loss: 2.3713 - accuracy: 0.2433 - val_loss: 2.2095 - val_accuracy: 0.3033\n",
      "Epoch 31/50\n",
      "38/38 [==============================] - 1s 22ms/step - loss: 2.3231 - accuracy: 0.2700 - val_loss: 2.1831 - val_accuracy: 0.3167\n",
      "Epoch 32/50\n",
      "38/38 [==============================] - 1s 22ms/step - loss: 2.3102 - accuracy: 0.2450 - val_loss: 2.1581 - val_accuracy: 0.3350\n",
      "Epoch 33/50\n",
      "38/38 [==============================] - 1s 21ms/step - loss: 2.2854 - accuracy: 0.2700 - val_loss: 2.1340 - val_accuracy: 0.3500\n",
      "Epoch 34/50\n",
      "38/38 [==============================] - 1s 22ms/step - loss: 2.2416 - accuracy: 0.3142 - val_loss: 2.1092 - val_accuracy: 0.3583\n",
      "Epoch 35/50\n",
      "38/38 [==============================] - 1s 26ms/step - loss: 2.2491 - accuracy: 0.2942 - val_loss: 2.0863 - val_accuracy: 0.3700\n",
      "Epoch 36/50\n",
      "38/38 [==============================] - 1s 22ms/step - loss: 2.2193 - accuracy: 0.2983 - val_loss: 2.0623 - val_accuracy: 0.3867\n",
      "Epoch 37/50\n",
      "38/38 [==============================] - 1s 23ms/step - loss: 2.1896 - accuracy: 0.3275 - val_loss: 2.0398 - val_accuracy: 0.3933\n",
      "Epoch 38/50\n",
      "38/38 [==============================] - 1s 22ms/step - loss: 2.1729 - accuracy: 0.3275 - val_loss: 2.0176 - val_accuracy: 0.4067\n",
      "Epoch 39/50\n",
      "38/38 [==============================] - 1s 22ms/step - loss: 2.1464 - accuracy: 0.3450 - val_loss: 1.9954 - val_accuracy: 0.4133\n",
      "Epoch 40/50\n",
      "38/38 [==============================] - 1s 23ms/step - loss: 2.1276 - accuracy: 0.3508 - val_loss: 1.9738 - val_accuracy: 0.4283\n",
      "Epoch 41/50\n",
      "38/38 [==============================] - 1s 23ms/step - loss: 2.0865 - accuracy: 0.3583 - val_loss: 1.9539 - val_accuracy: 0.4383\n",
      "Epoch 42/50\n",
      "38/38 [==============================] - 1s 22ms/step - loss: 2.1076 - accuracy: 0.3650 - val_loss: 1.9334 - val_accuracy: 0.4500\n",
      "Epoch 43/50\n",
      "38/38 [==============================] - 1s 22ms/step - loss: 2.0584 - accuracy: 0.3792 - val_loss: 1.9135 - val_accuracy: 0.4583\n",
      "Epoch 44/50\n",
      "38/38 [==============================] - 1s 22ms/step - loss: 2.0718 - accuracy: 0.3792 - val_loss: 1.8936 - val_accuracy: 0.4700\n",
      "Epoch 45/50\n",
      "38/38 [==============================] - 1s 22ms/step - loss: 2.0389 - accuracy: 0.3842 - val_loss: 1.8749 - val_accuracy: 0.4817\n",
      "Epoch 46/50\n",
      "38/38 [==============================] - 1s 25ms/step - loss: 2.0156 - accuracy: 0.4083 - val_loss: 1.8568 - val_accuracy: 0.4867\n",
      "Epoch 47/50\n",
      "38/38 [==============================] - 1s 22ms/step - loss: 1.9795 - accuracy: 0.4233 - val_loss: 1.8384 - val_accuracy: 0.4933\n",
      "Epoch 48/50\n",
      "38/38 [==============================] - 1s 23ms/step - loss: 1.9803 - accuracy: 0.4233 - val_loss: 1.8207 - val_accuracy: 0.5033\n",
      "Epoch 49/50\n",
      "38/38 [==============================] - 1s 21ms/step - loss: 1.9503 - accuracy: 0.4283 - val_loss: 1.8030 - val_accuracy: 0.5183\n",
      "Epoch 50/50\n",
      "38/38 [==============================] - 1s 22ms/step - loss: 1.9567 - accuracy: 0.4383 - val_loss: 1.7854 - val_accuracy: 0.5250\n",
      "trials for model 17: 0.2000000129143397\n",
      "Epoch 1/50\n"
     ]
    },
    {
     "name": "stderr",
     "output_type": "stream",
     "text": [
      "2023-05-11 19:35:52.282560: I tensorflow/core/grappler/optimizers/custom_graph_optimizer_registry.cc:113] Plugin optimizer for device_type GPU is enabled.\n"
     ]
    },
    {
     "name": "stdout",
     "output_type": "stream",
     "text": [
      "38/38 [==============================] - ETA: 0s - loss: 2.9145 - accuracy: 0.1317"
     ]
    },
    {
     "name": "stderr",
     "output_type": "stream",
     "text": [
      "2023-05-11 19:35:54.499377: I tensorflow/core/grappler/optimizers/custom_graph_optimizer_registry.cc:113] Plugin optimizer for device_type GPU is enabled.\n"
     ]
    },
    {
     "name": "stdout",
     "output_type": "stream",
     "text": [
      "38/38 [==============================] - 3s 58ms/step - loss: 2.9145 - accuracy: 0.1317 - val_loss: 2.7743 - val_accuracy: 0.0750\n",
      "Epoch 2/50\n",
      "38/38 [==============================] - 1s 27ms/step - loss: 2.9034 - accuracy: 0.1375 - val_loss: 2.7499 - val_accuracy: 0.1267\n",
      "Epoch 3/50\n",
      "38/38 [==============================] - 1s 28ms/step - loss: 2.8638 - accuracy: 0.1350 - val_loss: 2.7308 - val_accuracy: 0.1483\n",
      "Epoch 4/50\n",
      "38/38 [==============================] - 2s 48ms/step - loss: 2.8236 - accuracy: 0.1500 - val_loss: 2.7173 - val_accuracy: 0.1767\n",
      "Epoch 5/50\n",
      "38/38 [==============================] - 2s 53ms/step - loss: 2.8106 - accuracy: 0.1583 - val_loss: 2.7101 - val_accuracy: 0.1833\n",
      "Epoch 6/50\n",
      "38/38 [==============================] - 1s 37ms/step - loss: 2.7616 - accuracy: 0.1575 - val_loss: 2.7067 - val_accuracy: 0.1983\n",
      "Epoch 7/50\n",
      "38/38 [==============================] - 1s 32ms/step - loss: 2.7304 - accuracy: 0.1625 - val_loss: 2.7033 - val_accuracy: 0.2067\n",
      "Epoch 8/50\n",
      "38/38 [==============================] - 1s 30ms/step - loss: 2.6828 - accuracy: 0.1717 - val_loss: 2.6956 - val_accuracy: 0.2017\n",
      "Epoch 9/50\n",
      "38/38 [==============================] - 2s 43ms/step - loss: 2.6634 - accuracy: 0.1758 - val_loss: 2.6810 - val_accuracy: 0.1983\n",
      "Epoch 10/50\n",
      "38/38 [==============================] - 2s 44ms/step - loss: 2.6243 - accuracy: 0.1958 - val_loss: 2.6570 - val_accuracy: 0.1883\n",
      "Epoch 11/50\n",
      "38/38 [==============================] - 2s 41ms/step - loss: 2.5998 - accuracy: 0.1825 - val_loss: 2.6226 - val_accuracy: 0.1933\n",
      "Epoch 1/50\n"
     ]
    },
    {
     "name": "stderr",
     "output_type": "stream",
     "text": [
      "2023-05-11 19:36:10.965087: I tensorflow/core/grappler/optimizers/custom_graph_optimizer_registry.cc:113] Plugin optimizer for device_type GPU is enabled.\n"
     ]
    },
    {
     "name": "stdout",
     "output_type": "stream",
     "text": [
      "38/38 [==============================] - ETA: 0s - loss: 3.0718 - accuracy: 0.0892"
     ]
    },
    {
     "name": "stderr",
     "output_type": "stream",
     "text": [
      "2023-05-11 19:36:13.295099: I tensorflow/core/grappler/optimizers/custom_graph_optimizer_registry.cc:113] Plugin optimizer for device_type GPU is enabled.\n"
     ]
    },
    {
     "name": "stdout",
     "output_type": "stream",
     "text": [
      "38/38 [==============================] - 3s 58ms/step - loss: 3.0718 - accuracy: 0.0892 - val_loss: 2.7689 - val_accuracy: 0.0733\n",
      "Epoch 2/50\n",
      "38/38 [==============================] - 1s 28ms/step - loss: 3.0355 - accuracy: 0.0933 - val_loss: 2.7310 - val_accuracy: 0.0583\n",
      "Epoch 3/50\n",
      "38/38 [==============================] - 1s 34ms/step - loss: 3.0032 - accuracy: 0.1075 - val_loss: 2.6973 - val_accuracy: 0.0600\n",
      "Epoch 4/50\n",
      "38/38 [==============================] - 1s 35ms/step - loss: 2.9678 - accuracy: 0.1125 - val_loss: 2.6681 - val_accuracy: 0.0667\n",
      "Epoch 5/50\n",
      "38/38 [==============================] - 1s 32ms/step - loss: 2.9442 - accuracy: 0.1267 - val_loss: 2.6433 - val_accuracy: 0.0783\n",
      "Epoch 6/50\n",
      "38/38 [==============================] - 1s 31ms/step - loss: 2.8931 - accuracy: 0.1258 - val_loss: 2.6252 - val_accuracy: 0.0950\n",
      "Epoch 7/50\n",
      "38/38 [==============================] - 1s 35ms/step - loss: 2.8616 - accuracy: 0.1408 - val_loss: 2.6134 - val_accuracy: 0.1100\n",
      "Epoch 8/50\n",
      "38/38 [==============================] - 1s 36ms/step - loss: 2.8157 - accuracy: 0.1475 - val_loss: 2.6074 - val_accuracy: 0.1200\n",
      "Epoch 9/50\n",
      "38/38 [==============================] - 1s 37ms/step - loss: 2.7825 - accuracy: 0.1417 - val_loss: 2.6050 - val_accuracy: 0.1167\n",
      "Epoch 10/50\n",
      "38/38 [==============================] - 1s 32ms/step - loss: 2.7409 - accuracy: 0.1700 - val_loss: 2.6019 - val_accuracy: 0.1333\n",
      "Epoch 11/50\n",
      "38/38 [==============================] - 1s 32ms/step - loss: 2.7107 - accuracy: 0.1692 - val_loss: 2.5918 - val_accuracy: 0.1450\n",
      "Epoch 12/50\n",
      "38/38 [==============================] - 1s 33ms/step - loss: 2.6991 - accuracy: 0.1667 - val_loss: 2.5730 - val_accuracy: 0.1533\n",
      "Epoch 13/50\n",
      "38/38 [==============================] - 1s 32ms/step - loss: 2.6597 - accuracy: 0.1883 - val_loss: 2.5483 - val_accuracy: 0.1750\n",
      "Epoch 14/50\n",
      "38/38 [==============================] - 1s 31ms/step - loss: 2.6140 - accuracy: 0.2100 - val_loss: 2.5181 - val_accuracy: 0.1917\n",
      "Epoch 15/50\n",
      "38/38 [==============================] - 1s 32ms/step - loss: 2.5627 - accuracy: 0.2300 - val_loss: 2.4874 - val_accuracy: 0.2350\n",
      "Epoch 16/50\n",
      "38/38 [==============================] - 1s 33ms/step - loss: 2.5643 - accuracy: 0.2183 - val_loss: 2.4547 - val_accuracy: 0.2517\n",
      "Epoch 17/50\n",
      "38/38 [==============================] - 1s 32ms/step - loss: 2.5183 - accuracy: 0.2358 - val_loss: 2.4226 - val_accuracy: 0.2783\n",
      "Epoch 18/50\n",
      "38/38 [==============================] - 1s 36ms/step - loss: 2.4962 - accuracy: 0.2675 - val_loss: 2.3905 - val_accuracy: 0.2917\n",
      "Epoch 19/50\n",
      "38/38 [==============================] - 1s 33ms/step - loss: 2.4599 - accuracy: 0.2717 - val_loss: 2.3592 - val_accuracy: 0.3083\n",
      "Epoch 20/50\n",
      "38/38 [==============================] - 1s 32ms/step - loss: 2.4292 - accuracy: 0.2683 - val_loss: 2.3287 - val_accuracy: 0.3150\n",
      "Epoch 21/50\n",
      "38/38 [==============================] - 1s 31ms/step - loss: 2.4142 - accuracy: 0.2742 - val_loss: 2.2991 - val_accuracy: 0.3300\n",
      "Epoch 22/50\n",
      "38/38 [==============================] - 1s 31ms/step - loss: 2.3702 - accuracy: 0.2950 - val_loss: 2.2708 - val_accuracy: 0.3350\n",
      "Epoch 23/50\n",
      "38/38 [==============================] - 1s 32ms/step - loss: 2.3624 - accuracy: 0.2992 - val_loss: 2.2424 - val_accuracy: 0.3500\n",
      "Epoch 24/50\n",
      "38/38 [==============================] - 1s 36ms/step - loss: 2.3208 - accuracy: 0.3042 - val_loss: 2.2165 - val_accuracy: 0.3550\n",
      "Epoch 25/50\n",
      "38/38 [==============================] - 1s 34ms/step - loss: 2.2917 - accuracy: 0.3192 - val_loss: 2.1905 - val_accuracy: 0.3700\n",
      "Epoch 26/50\n",
      "38/38 [==============================] - 1s 33ms/step - loss: 2.2904 - accuracy: 0.3233 - val_loss: 2.1654 - val_accuracy: 0.3833\n",
      "Epoch 27/50\n",
      "38/38 [==============================] - 1s 32ms/step - loss: 2.2538 - accuracy: 0.3250 - val_loss: 2.1409 - val_accuracy: 0.3867\n",
      "Epoch 28/50\n",
      "38/38 [==============================] - 2s 45ms/step - loss: 2.2400 - accuracy: 0.3308 - val_loss: 2.1162 - val_accuracy: 0.3967\n",
      "Epoch 29/50\n",
      "38/38 [==============================] - 1s 34ms/step - loss: 2.2246 - accuracy: 0.3500 - val_loss: 2.0921 - val_accuracy: 0.4067\n",
      "Epoch 30/50\n",
      "38/38 [==============================] - 1s 32ms/step - loss: 2.1521 - accuracy: 0.3850 - val_loss: 2.0699 - val_accuracy: 0.4183\n",
      "Epoch 31/50\n",
      "38/38 [==============================] - 1s 33ms/step - loss: 2.1745 - accuracy: 0.3517 - val_loss: 2.0487 - val_accuracy: 0.4217\n",
      "Epoch 32/50\n",
      "38/38 [==============================] - 1s 32ms/step - loss: 2.1364 - accuracy: 0.3675 - val_loss: 2.0273 - val_accuracy: 0.4233\n",
      "Epoch 33/50\n",
      "38/38 [==============================] - 1s 34ms/step - loss: 2.1392 - accuracy: 0.3633 - val_loss: 2.0074 - val_accuracy: 0.4300\n",
      "Epoch 34/50\n",
      "38/38 [==============================] - 1s 36ms/step - loss: 2.1160 - accuracy: 0.3825 - val_loss: 1.9867 - val_accuracy: 0.4400\n",
      "Epoch 35/50\n",
      "38/38 [==============================] - 1s 33ms/step - loss: 2.0698 - accuracy: 0.3783 - val_loss: 1.9663 - val_accuracy: 0.4450\n",
      "Epoch 36/50\n",
      "38/38 [==============================] - 1s 37ms/step - loss: 2.0563 - accuracy: 0.4017 - val_loss: 1.9462 - val_accuracy: 0.4550\n",
      "Epoch 37/50\n",
      "38/38 [==============================] - 1s 39ms/step - loss: 2.0686 - accuracy: 0.3908 - val_loss: 1.9271 - val_accuracy: 0.4550\n",
      "Epoch 38/50\n",
      "38/38 [==============================] - 1s 35ms/step - loss: 2.0154 - accuracy: 0.4017 - val_loss: 1.9074 - val_accuracy: 0.4617\n",
      "Epoch 39/50\n",
      "38/38 [==============================] - 1s 32ms/step - loss: 2.0080 - accuracy: 0.4092 - val_loss: 1.8889 - val_accuracy: 0.4650\n",
      "Epoch 40/50\n",
      "38/38 [==============================] - 1s 32ms/step - loss: 1.9878 - accuracy: 0.4108 - val_loss: 1.8706 - val_accuracy: 0.4683\n",
      "Epoch 41/50\n",
      "38/38 [==============================] - 1s 39ms/step - loss: 1.9588 - accuracy: 0.4233 - val_loss: 1.8531 - val_accuracy: 0.4683\n",
      "Epoch 42/50\n",
      "38/38 [==============================] - 1s 32ms/step - loss: 1.9578 - accuracy: 0.4208 - val_loss: 1.8361 - val_accuracy: 0.4717\n",
      "Epoch 43/50\n",
      "38/38 [==============================] - 1s 31ms/step - loss: 1.9430 - accuracy: 0.4217 - val_loss: 1.8188 - val_accuracy: 0.4767\n",
      "Epoch 44/50\n",
      "38/38 [==============================] - 1s 39ms/step - loss: 1.9038 - accuracy: 0.4433 - val_loss: 1.8025 - val_accuracy: 0.4833\n",
      "Epoch 45/50\n",
      "38/38 [==============================] - 1s 36ms/step - loss: 1.9193 - accuracy: 0.4342 - val_loss: 1.7860 - val_accuracy: 0.4883\n",
      "Epoch 46/50\n",
      "38/38 [==============================] - 1s 31ms/step - loss: 1.9222 - accuracy: 0.4150 - val_loss: 1.7706 - val_accuracy: 0.4950\n",
      "Epoch 47/50\n",
      "38/38 [==============================] - 1s 31ms/step - loss: 1.8625 - accuracy: 0.4392 - val_loss: 1.7545 - val_accuracy: 0.4983\n",
      "Epoch 48/50\n",
      "38/38 [==============================] - 1s 31ms/step - loss: 1.8622 - accuracy: 0.4508 - val_loss: 1.7383 - val_accuracy: 0.5000\n",
      "Epoch 49/50\n",
      "38/38 [==============================] - 1s 34ms/step - loss: 1.8470 - accuracy: 0.4567 - val_loss: 1.7233 - val_accuracy: 0.5050\n",
      "Epoch 50/50\n",
      "38/38 [==============================] - 1s 34ms/step - loss: 1.8287 - accuracy: 0.4533 - val_loss: 1.7088 - val_accuracy: 0.5083\n",
      "Epoch 1/50\n"
     ]
    },
    {
     "name": "stderr",
     "output_type": "stream",
     "text": [
      "2023-05-11 19:37:17.214200: I tensorflow/core/grappler/optimizers/custom_graph_optimizer_registry.cc:113] Plugin optimizer for device_type GPU is enabled.\n"
     ]
    },
    {
     "name": "stdout",
     "output_type": "stream",
     "text": [
      "38/38 [==============================] - ETA: 0s - loss: 3.2680 - accuracy: 0.1233"
     ]
    },
    {
     "name": "stderr",
     "output_type": "stream",
     "text": [
      "2023-05-11 19:37:19.228066: I tensorflow/core/grappler/optimizers/custom_graph_optimizer_registry.cc:113] Plugin optimizer for device_type GPU is enabled.\n"
     ]
    },
    {
     "name": "stdout",
     "output_type": "stream",
     "text": [
      "38/38 [==============================] - 3s 54ms/step - loss: 3.2680 - accuracy: 0.1233 - val_loss: 2.7997 - val_accuracy: 0.0733\n",
      "Epoch 2/50\n",
      "38/38 [==============================] - 1s 27ms/step - loss: 3.1831 - accuracy: 0.1367 - val_loss: 2.8204 - val_accuracy: 0.0550\n",
      "Epoch 3/50\n",
      "38/38 [==============================] - 1s 38ms/step - loss: 3.1308 - accuracy: 0.1417 - val_loss: 2.8456 - val_accuracy: 0.0683\n",
      "Epoch 4/50\n",
      "38/38 [==============================] - 1s 36ms/step - loss: 3.1249 - accuracy: 0.1400 - val_loss: 2.8729 - val_accuracy: 0.0850\n",
      "Epoch 5/50\n",
      "38/38 [==============================] - 1s 31ms/step - loss: 3.0938 - accuracy: 0.1400 - val_loss: 2.8957 - val_accuracy: 0.1050\n",
      "Epoch 6/50\n",
      "38/38 [==============================] - 1s 31ms/step - loss: 3.0500 - accuracy: 0.1442 - val_loss: 2.9054 - val_accuracy: 0.1233\n",
      "Epoch 7/50\n",
      "38/38 [==============================] - 1s 30ms/step - loss: 2.9909 - accuracy: 0.1708 - val_loss: 2.8956 - val_accuracy: 0.1400\n",
      "Epoch 8/50\n",
      "38/38 [==============================] - 1s 31ms/step - loss: 2.9677 - accuracy: 0.1608 - val_loss: 2.8644 - val_accuracy: 0.1417\n",
      "Epoch 9/50\n",
      "38/38 [==============================] - 1s 31ms/step - loss: 2.9247 - accuracy: 0.1708 - val_loss: 2.8146 - val_accuracy: 0.1467\n",
      "Epoch 10/50\n",
      "38/38 [==============================] - 1s 31ms/step - loss: 2.8679 - accuracy: 0.1858 - val_loss: 2.7569 - val_accuracy: 0.1617\n",
      "Epoch 11/50\n",
      "38/38 [==============================] - 1s 32ms/step - loss: 2.8429 - accuracy: 0.1867 - val_loss: 2.7012 - val_accuracy: 0.1717\n",
      "Epoch 12/50\n",
      "38/38 [==============================] - 1s 34ms/step - loss: 2.8175 - accuracy: 0.1808 - val_loss: 2.6561 - val_accuracy: 0.1833\n",
      "Epoch 13/50\n",
      "38/38 [==============================] - 1s 31ms/step - loss: 2.7954 - accuracy: 0.1950 - val_loss: 2.6154 - val_accuracy: 0.1983\n",
      "Epoch 14/50\n",
      "38/38 [==============================] - 1s 30ms/step - loss: 2.7343 - accuracy: 0.2042 - val_loss: 2.5774 - val_accuracy: 0.2117\n",
      "Epoch 15/50\n",
      "38/38 [==============================] - 1s 33ms/step - loss: 2.7175 - accuracy: 0.2142 - val_loss: 2.5429 - val_accuracy: 0.2217\n",
      "Epoch 16/50\n",
      "38/38 [==============================] - 1s 35ms/step - loss: 2.6658 - accuracy: 0.2142 - val_loss: 2.5090 - val_accuracy: 0.2383\n",
      "Epoch 17/50\n",
      "38/38 [==============================] - 1s 30ms/step - loss: 2.6283 - accuracy: 0.2242 - val_loss: 2.4786 - val_accuracy: 0.2483\n",
      "Epoch 18/50\n",
      "38/38 [==============================] - 1s 30ms/step - loss: 2.5857 - accuracy: 0.2300 - val_loss: 2.4485 - val_accuracy: 0.2617\n",
      "Epoch 19/50\n",
      "38/38 [==============================] - 1s 31ms/step - loss: 2.5690 - accuracy: 0.2308 - val_loss: 2.4196 - val_accuracy: 0.2733\n",
      "Epoch 20/50\n",
      "38/38 [==============================] - 1s 34ms/step - loss: 2.5323 - accuracy: 0.2408 - val_loss: 2.3892 - val_accuracy: 0.2850\n",
      "Epoch 21/50\n",
      "38/38 [==============================] - 1s 31ms/step - loss: 2.5107 - accuracy: 0.2558 - val_loss: 2.3609 - val_accuracy: 0.2900\n",
      "Epoch 22/50\n",
      "38/38 [==============================] - 1s 32ms/step - loss: 2.4824 - accuracy: 0.2475 - val_loss: 2.3307 - val_accuracy: 0.2967\n",
      "Epoch 23/50\n",
      "38/38 [==============================] - 1s 34ms/step - loss: 2.4375 - accuracy: 0.2633 - val_loss: 2.3012 - val_accuracy: 0.3067\n",
      "Epoch 24/50\n",
      "38/38 [==============================] - 1s 30ms/step - loss: 2.4044 - accuracy: 0.2783 - val_loss: 2.2726 - val_accuracy: 0.3133\n",
      "Epoch 25/50\n",
      "38/38 [==============================] - 1s 30ms/step - loss: 2.3710 - accuracy: 0.2717 - val_loss: 2.2438 - val_accuracy: 0.3200\n",
      "Epoch 26/50\n",
      "38/38 [==============================] - 1s 32ms/step - loss: 2.3364 - accuracy: 0.2867 - val_loss: 2.2153 - val_accuracy: 0.3317\n",
      "Epoch 27/50\n",
      "38/38 [==============================] - 1s 37ms/step - loss: 2.3187 - accuracy: 0.2950 - val_loss: 2.1869 - val_accuracy: 0.3467\n",
      "Epoch 28/50\n",
      "38/38 [==============================] - 1s 32ms/step - loss: 2.2819 - accuracy: 0.2875 - val_loss: 2.1605 - val_accuracy: 0.3650\n",
      "Epoch 29/50\n",
      "38/38 [==============================] - 1s 33ms/step - loss: 2.2653 - accuracy: 0.3083 - val_loss: 2.1336 - val_accuracy: 0.3717\n",
      "Epoch 30/50\n",
      "38/38 [==============================] - 1s 30ms/step - loss: 2.2508 - accuracy: 0.3275 - val_loss: 2.1073 - val_accuracy: 0.3817\n",
      "Epoch 31/50\n",
      "38/38 [==============================] - 1s 31ms/step - loss: 2.2328 - accuracy: 0.3292 - val_loss: 2.0818 - val_accuracy: 0.3900\n",
      "Epoch 32/50\n",
      "38/38 [==============================] - 1s 36ms/step - loss: 2.1880 - accuracy: 0.3325 - val_loss: 2.0567 - val_accuracy: 0.3983\n",
      "Epoch 33/50\n",
      "38/38 [==============================] - 2s 41ms/step - loss: 2.1581 - accuracy: 0.3517 - val_loss: 2.0317 - val_accuracy: 0.4100\n",
      "Epoch 34/50\n",
      "38/38 [==============================] - 1s 39ms/step - loss: 2.1306 - accuracy: 0.3650 - val_loss: 2.0078 - val_accuracy: 0.4233\n",
      "Epoch 35/50\n",
      "38/38 [==============================] - 1s 31ms/step - loss: 2.1103 - accuracy: 0.3650 - val_loss: 1.9849 - val_accuracy: 0.4267\n",
      "Epoch 36/50\n",
      "38/38 [==============================] - 2s 40ms/step - loss: 2.0942 - accuracy: 0.3642 - val_loss: 1.9614 - val_accuracy: 0.4400\n",
      "Epoch 37/50\n",
      "38/38 [==============================] - 1s 31ms/step - loss: 2.0613 - accuracy: 0.3883 - val_loss: 1.9391 - val_accuracy: 0.4517\n",
      "Epoch 38/50\n",
      "38/38 [==============================] - 1s 34ms/step - loss: 2.0386 - accuracy: 0.3908 - val_loss: 1.9172 - val_accuracy: 0.4633\n",
      "Epoch 39/50\n",
      "38/38 [==============================] - 1s 31ms/step - loss: 2.0476 - accuracy: 0.3900 - val_loss: 1.8962 - val_accuracy: 0.4767\n",
      "Epoch 40/50\n",
      "38/38 [==============================] - 1s 38ms/step - loss: 1.9779 - accuracy: 0.4033 - val_loss: 1.8758 - val_accuracy: 0.4800\n",
      "Epoch 41/50\n",
      "38/38 [==============================] - 1s 40ms/step - loss: 1.9650 - accuracy: 0.4233 - val_loss: 1.8560 - val_accuracy: 0.4867\n",
      "Epoch 42/50\n",
      "38/38 [==============================] - 2s 40ms/step - loss: 1.9579 - accuracy: 0.4242 - val_loss: 1.8369 - val_accuracy: 0.4950\n",
      "Epoch 43/50\n",
      "38/38 [==============================] - 1s 39ms/step - loss: 1.9339 - accuracy: 0.4342 - val_loss: 1.8173 - val_accuracy: 0.4983\n",
      "Epoch 44/50\n",
      "38/38 [==============================] - 1s 35ms/step - loss: 1.9283 - accuracy: 0.4300 - val_loss: 1.7988 - val_accuracy: 0.5067\n",
      "Epoch 45/50\n",
      "38/38 [==============================] - 2s 42ms/step - loss: 1.9107 - accuracy: 0.4317 - val_loss: 1.7795 - val_accuracy: 0.5117\n",
      "Epoch 46/50\n",
      "38/38 [==============================] - 2s 42ms/step - loss: 1.8876 - accuracy: 0.4425 - val_loss: 1.7629 - val_accuracy: 0.5167\n",
      "Epoch 47/50\n",
      "38/38 [==============================] - 2s 42ms/step - loss: 1.8747 - accuracy: 0.4408 - val_loss: 1.7453 - val_accuracy: 0.5183\n",
      "Epoch 48/50\n",
      "38/38 [==============================] - 2s 42ms/step - loss: 1.8276 - accuracy: 0.4700 - val_loss: 1.7283 - val_accuracy: 0.5283\n",
      "Epoch 49/50\n",
      "38/38 [==============================] - 2s 42ms/step - loss: 1.8284 - accuracy: 0.4558 - val_loss: 1.7112 - val_accuracy: 0.5333\n",
      "Epoch 50/50\n",
      "38/38 [==============================] - 1s 38ms/step - loss: 1.8154 - accuracy: 0.4592 - val_loss: 1.6949 - val_accuracy: 0.5417\n",
      "trials for model 18: 0.4144444515307744\n",
      "Epoch 1/50\n"
     ]
    },
    {
     "name": "stderr",
     "output_type": "stream",
     "text": [
      "2023-05-11 19:38:24.797146: I tensorflow/core/grappler/optimizers/custom_graph_optimizer_registry.cc:113] Plugin optimizer for device_type GPU is enabled.\n"
     ]
    },
    {
     "name": "stdout",
     "output_type": "stream",
     "text": [
      "38/38 [==============================] - ETA: 0s - loss: 3.4970 - accuracy: 0.0383"
     ]
    },
    {
     "name": "stderr",
     "output_type": "stream",
     "text": [
      "2023-05-11 19:38:26.732642: I tensorflow/core/grappler/optimizers/custom_graph_optimizer_registry.cc:113] Plugin optimizer for device_type GPU is enabled.\n"
     ]
    },
    {
     "name": "stdout",
     "output_type": "stream",
     "text": [
      "38/38 [==============================] - 3s 50ms/step - loss: 3.4970 - accuracy: 0.0383 - val_loss: 2.7855 - val_accuracy: 0.1700\n",
      "Epoch 2/50\n",
      "38/38 [==============================] - 1s 28ms/step - loss: 3.4497 - accuracy: 0.0425 - val_loss: 2.7638 - val_accuracy: 0.1783\n",
      "Epoch 3/50\n",
      "38/38 [==============================] - 1s 24ms/step - loss: 3.3705 - accuracy: 0.0525 - val_loss: 2.7512 - val_accuracy: 0.1783\n",
      "Epoch 4/50\n",
      "38/38 [==============================] - 1s 25ms/step - loss: 3.3728 - accuracy: 0.0483 - val_loss: 2.7469 - val_accuracy: 0.1800\n",
      "Epoch 5/50\n",
      "38/38 [==============================] - 1s 27ms/step - loss: 3.3204 - accuracy: 0.0442 - val_loss: 2.7502 - val_accuracy: 0.1883\n",
      "Epoch 6/50\n",
      "38/38 [==============================] - 1s 35ms/step - loss: 3.2619 - accuracy: 0.0533 - val_loss: 2.7595 - val_accuracy: 0.1783\n",
      "Epoch 7/50\n",
      "38/38 [==============================] - 1s 29ms/step - loss: 3.2136 - accuracy: 0.0725 - val_loss: 2.7703 - val_accuracy: 0.1800\n",
      "Epoch 8/50\n",
      "38/38 [==============================] - 1s 36ms/step - loss: 3.2261 - accuracy: 0.0642 - val_loss: 2.7784 - val_accuracy: 0.1617\n",
      "Epoch 9/50\n",
      "38/38 [==============================] - 1s 25ms/step - loss: 3.1752 - accuracy: 0.0700 - val_loss: 2.7833 - val_accuracy: 0.1650\n",
      "Epoch 1/50\n"
     ]
    },
    {
     "name": "stderr",
     "output_type": "stream",
     "text": [
      "2023-05-11 19:38:37.144242: I tensorflow/core/grappler/optimizers/custom_graph_optimizer_registry.cc:113] Plugin optimizer for device_type GPU is enabled.\n"
     ]
    },
    {
     "name": "stdout",
     "output_type": "stream",
     "text": [
      "38/38 [==============================] - ETA: 0s - loss: 3.1685 - accuracy: 0.0933"
     ]
    },
    {
     "name": "stderr",
     "output_type": "stream",
     "text": [
      "2023-05-11 19:38:39.504678: I tensorflow/core/grappler/optimizers/custom_graph_optimizer_registry.cc:113] Plugin optimizer for device_type GPU is enabled.\n"
     ]
    },
    {
     "name": "stdout",
     "output_type": "stream",
     "text": [
      "38/38 [==============================] - 4s 60ms/step - loss: 3.1685 - accuracy: 0.0933 - val_loss: 2.7946 - val_accuracy: 0.1317\n",
      "Epoch 2/50\n",
      "38/38 [==============================] - 1s 30ms/step - loss: 3.1307 - accuracy: 0.1033 - val_loss: 2.7993 - val_accuracy: 0.1433\n",
      "Epoch 3/50\n",
      "38/38 [==============================] - 1s 26ms/step - loss: 3.0736 - accuracy: 0.1108 - val_loss: 2.8020 - val_accuracy: 0.1517\n",
      "Epoch 4/50\n",
      "38/38 [==============================] - 2s 41ms/step - loss: 3.0615 - accuracy: 0.1042 - val_loss: 2.7996 - val_accuracy: 0.1600\n",
      "Epoch 5/50\n",
      "38/38 [==============================] - 2s 41ms/step - loss: 3.0000 - accuracy: 0.1167 - val_loss: 2.7935 - val_accuracy: 0.1617\n",
      "Epoch 6/50\n",
      "38/38 [==============================] - 1s 23ms/step - loss: 2.9767 - accuracy: 0.1133 - val_loss: 2.7849 - val_accuracy: 0.1633\n",
      "Epoch 7/50\n",
      "38/38 [==============================] - 1s 23ms/step - loss: 2.9380 - accuracy: 0.1275 - val_loss: 2.7725 - val_accuracy: 0.1700\n",
      "Epoch 8/50\n",
      "38/38 [==============================] - 1s 23ms/step - loss: 2.9151 - accuracy: 0.1108 - val_loss: 2.7567 - val_accuracy: 0.1700\n",
      "Epoch 9/50\n",
      "38/38 [==============================] - 1s 22ms/step - loss: 2.8620 - accuracy: 0.1267 - val_loss: 2.7367 - val_accuracy: 0.1717\n",
      "Epoch 10/50\n",
      "38/38 [==============================] - 1s 22ms/step - loss: 2.8545 - accuracy: 0.1192 - val_loss: 2.7088 - val_accuracy: 0.1700\n",
      "Epoch 11/50\n",
      "38/38 [==============================] - 1s 29ms/step - loss: 2.8045 - accuracy: 0.1358 - val_loss: 2.6746 - val_accuracy: 0.1783\n",
      "Epoch 12/50\n",
      "38/38 [==============================] - 1s 30ms/step - loss: 2.7829 - accuracy: 0.1408 - val_loss: 2.6366 - val_accuracy: 0.1667\n",
      "Epoch 13/50\n",
      "38/38 [==============================] - 1s 22ms/step - loss: 2.7264 - accuracy: 0.1442 - val_loss: 2.5984 - val_accuracy: 0.1683\n",
      "Epoch 14/50\n",
      "38/38 [==============================] - 1s 24ms/step - loss: 2.7016 - accuracy: 0.1592 - val_loss: 2.5632 - val_accuracy: 0.1867\n",
      "Epoch 15/50\n",
      "38/38 [==============================] - 1s 29ms/step - loss: 2.6645 - accuracy: 0.1575 - val_loss: 2.5291 - val_accuracy: 0.1900\n",
      "Epoch 16/50\n",
      "38/38 [==============================] - 1s 29ms/step - loss: 2.6227 - accuracy: 0.1725 - val_loss: 2.4967 - val_accuracy: 0.1883\n",
      "Epoch 17/50\n",
      "38/38 [==============================] - 1s 22ms/step - loss: 2.5902 - accuracy: 0.1758 - val_loss: 2.4640 - val_accuracy: 0.1950\n",
      "Epoch 18/50\n",
      "38/38 [==============================] - 1s 33ms/step - loss: 2.5705 - accuracy: 0.1817 - val_loss: 2.4323 - val_accuracy: 0.2117\n",
      "Epoch 19/50\n",
      "38/38 [==============================] - 1s 36ms/step - loss: 2.5274 - accuracy: 0.1975 - val_loss: 2.4008 - val_accuracy: 0.2200\n",
      "Epoch 20/50\n",
      "38/38 [==============================] - 1s 27ms/step - loss: 2.5085 - accuracy: 0.1992 - val_loss: 2.3702 - val_accuracy: 0.2283\n",
      "Epoch 21/50\n",
      "38/38 [==============================] - 1s 27ms/step - loss: 2.4907 - accuracy: 0.1975 - val_loss: 2.3414 - val_accuracy: 0.2433\n",
      "Epoch 22/50\n",
      "38/38 [==============================] - 1s 23ms/step - loss: 2.4636 - accuracy: 0.2050 - val_loss: 2.3105 - val_accuracy: 0.2550\n",
      "Epoch 23/50\n",
      "38/38 [==============================] - 1s 23ms/step - loss: 2.4214 - accuracy: 0.2233 - val_loss: 2.2805 - val_accuracy: 0.2667\n",
      "Epoch 24/50\n",
      "38/38 [==============================] - 1s 23ms/step - loss: 2.3918 - accuracy: 0.2342 - val_loss: 2.2506 - val_accuracy: 0.2750\n",
      "Epoch 25/50\n",
      "38/38 [==============================] - 1s 24ms/step - loss: 2.3643 - accuracy: 0.2292 - val_loss: 2.2230 - val_accuracy: 0.3000\n",
      "Epoch 26/50\n",
      "38/38 [==============================] - 1s 22ms/step - loss: 2.3282 - accuracy: 0.2450 - val_loss: 2.1958 - val_accuracy: 0.3117\n",
      "Epoch 27/50\n",
      "38/38 [==============================] - 1s 23ms/step - loss: 2.2996 - accuracy: 0.2733 - val_loss: 2.1686 - val_accuracy: 0.3200\n",
      "Epoch 28/50\n",
      "38/38 [==============================] - 1s 23ms/step - loss: 2.2828 - accuracy: 0.2633 - val_loss: 2.1414 - val_accuracy: 0.3300\n",
      "Epoch 29/50\n",
      "38/38 [==============================] - 1s 28ms/step - loss: 2.2644 - accuracy: 0.2725 - val_loss: 2.1149 - val_accuracy: 0.3467\n",
      "Epoch 30/50\n",
      "38/38 [==============================] - 1s 23ms/step - loss: 2.2344 - accuracy: 0.2867 - val_loss: 2.0885 - val_accuracy: 0.3533\n",
      "Epoch 31/50\n",
      "38/38 [==============================] - 1s 34ms/step - loss: 2.2152 - accuracy: 0.2900 - val_loss: 2.0629 - val_accuracy: 0.3667\n",
      "Epoch 32/50\n",
      "38/38 [==============================] - 1s 28ms/step - loss: 2.1912 - accuracy: 0.3000 - val_loss: 2.0387 - val_accuracy: 0.3800\n",
      "Epoch 33/50\n",
      "38/38 [==============================] - 1s 31ms/step - loss: 2.1531 - accuracy: 0.3150 - val_loss: 2.0155 - val_accuracy: 0.3933\n",
      "Epoch 34/50\n",
      "38/38 [==============================] - 1s 30ms/step - loss: 2.1180 - accuracy: 0.3158 - val_loss: 1.9920 - val_accuracy: 0.4133\n",
      "Epoch 35/50\n",
      "38/38 [==============================] - 1s 33ms/step - loss: 2.1151 - accuracy: 0.3308 - val_loss: 1.9684 - val_accuracy: 0.4217\n",
      "Epoch 36/50\n",
      "38/38 [==============================] - 1s 31ms/step - loss: 2.0795 - accuracy: 0.3375 - val_loss: 1.9458 - val_accuracy: 0.4317\n",
      "Epoch 37/50\n",
      "38/38 [==============================] - 1s 26ms/step - loss: 2.0656 - accuracy: 0.3383 - val_loss: 1.9238 - val_accuracy: 0.4417\n",
      "Epoch 38/50\n",
      "38/38 [==============================] - 1s 24ms/step - loss: 2.0260 - accuracy: 0.3683 - val_loss: 1.9013 - val_accuracy: 0.4500\n",
      "Epoch 39/50\n",
      "38/38 [==============================] - 1s 25ms/step - loss: 2.0085 - accuracy: 0.3742 - val_loss: 1.8796 - val_accuracy: 0.4617\n",
      "Epoch 40/50\n",
      "38/38 [==============================] - 1s 35ms/step - loss: 1.9929 - accuracy: 0.3867 - val_loss: 1.8598 - val_accuracy: 0.4733\n",
      "Epoch 41/50\n",
      "38/38 [==============================] - 1s 22ms/step - loss: 1.9894 - accuracy: 0.3917 - val_loss: 1.8387 - val_accuracy: 0.4800\n",
      "Epoch 42/50\n",
      "38/38 [==============================] - 1s 23ms/step - loss: 1.9506 - accuracy: 0.3775 - val_loss: 1.8185 - val_accuracy: 0.4867\n",
      "Epoch 43/50\n",
      "38/38 [==============================] - 1s 22ms/step - loss: 1.9356 - accuracy: 0.3958 - val_loss: 1.7988 - val_accuracy: 0.5000\n",
      "Epoch 44/50\n",
      "38/38 [==============================] - 1s 22ms/step - loss: 1.9206 - accuracy: 0.3975 - val_loss: 1.7795 - val_accuracy: 0.5050\n",
      "Epoch 45/50\n",
      "38/38 [==============================] - 1s 22ms/step - loss: 1.9002 - accuracy: 0.4117 - val_loss: 1.7610 - val_accuracy: 0.5133\n",
      "Epoch 46/50\n",
      "38/38 [==============================] - 1s 22ms/step - loss: 1.8954 - accuracy: 0.4133 - val_loss: 1.7427 - val_accuracy: 0.5217\n",
      "Epoch 47/50\n",
      "38/38 [==============================] - 1s 23ms/step - loss: 1.8403 - accuracy: 0.4392 - val_loss: 1.7254 - val_accuracy: 0.5300\n",
      "Epoch 48/50\n",
      "38/38 [==============================] - 1s 25ms/step - loss: 1.8480 - accuracy: 0.4433 - val_loss: 1.7075 - val_accuracy: 0.5383\n",
      "Epoch 49/50\n",
      "38/38 [==============================] - 1s 22ms/step - loss: 1.8437 - accuracy: 0.4258 - val_loss: 1.6892 - val_accuracy: 0.5400\n",
      "Epoch 50/50\n",
      "38/38 [==============================] - 1s 22ms/step - loss: 1.8196 - accuracy: 0.4467 - val_loss: 1.6718 - val_accuracy: 0.5450\n",
      "Epoch 1/50\n"
     ]
    },
    {
     "name": "stderr",
     "output_type": "stream",
     "text": [
      "2023-05-11 19:39:30.200594: I tensorflow/core/grappler/optimizers/custom_graph_optimizer_registry.cc:113] Plugin optimizer for device_type GPU is enabled.\n"
     ]
    },
    {
     "name": "stdout",
     "output_type": "stream",
     "text": [
      "38/38 [==============================] - ETA: 0s - loss: 3.1700 - accuracy: 0.0867"
     ]
    },
    {
     "name": "stderr",
     "output_type": "stream",
     "text": [
      "2023-05-11 19:39:32.604273: I tensorflow/core/grappler/optimizers/custom_graph_optimizer_registry.cc:113] Plugin optimizer for device_type GPU is enabled.\n"
     ]
    },
    {
     "name": "stdout",
     "output_type": "stream",
     "text": [
      "38/38 [==============================] - 3s 62ms/step - loss: 3.1700 - accuracy: 0.0867 - val_loss: 2.7806 - val_accuracy: 0.0733\n",
      "Epoch 2/50\n",
      "38/38 [==============================] - 1s 34ms/step - loss: 3.1041 - accuracy: 0.0950 - val_loss: 2.7707 - val_accuracy: 0.0683\n",
      "Epoch 3/50\n",
      "38/38 [==============================] - 1s 33ms/step - loss: 3.0697 - accuracy: 0.1025 - val_loss: 2.7627 - val_accuracy: 0.0833\n",
      "Epoch 4/50\n",
      "38/38 [==============================] - 1s 24ms/step - loss: 3.0269 - accuracy: 0.1183 - val_loss: 2.7562 - val_accuracy: 0.1017\n",
      "Epoch 5/50\n",
      "38/38 [==============================] - 1s 26ms/step - loss: 3.0185 - accuracy: 0.1150 - val_loss: 2.7483 - val_accuracy: 0.1133\n",
      "Epoch 6/50\n",
      "38/38 [==============================] - 1s 23ms/step - loss: 2.9569 - accuracy: 0.1183 - val_loss: 2.7358 - val_accuracy: 0.1200\n",
      "Epoch 7/50\n",
      "38/38 [==============================] - 1s 26ms/step - loss: 2.9435 - accuracy: 0.1333 - val_loss: 2.7172 - val_accuracy: 0.1217\n",
      "Epoch 8/50\n",
      "38/38 [==============================] - 1s 29ms/step - loss: 2.9126 - accuracy: 0.1225 - val_loss: 2.6926 - val_accuracy: 0.1317\n",
      "Epoch 9/50\n",
      "38/38 [==============================] - 1s 25ms/step - loss: 2.8771 - accuracy: 0.1317 - val_loss: 2.6674 - val_accuracy: 0.1517\n",
      "Epoch 10/50\n",
      "38/38 [==============================] - 1s 27ms/step - loss: 2.8445 - accuracy: 0.1542 - val_loss: 2.6423 - val_accuracy: 0.1717\n",
      "Epoch 11/50\n",
      "38/38 [==============================] - 1s 24ms/step - loss: 2.8148 - accuracy: 0.1567 - val_loss: 2.6181 - val_accuracy: 0.1833\n",
      "Epoch 12/50\n",
      "38/38 [==============================] - 1s 23ms/step - loss: 2.7865 - accuracy: 0.1567 - val_loss: 2.5937 - val_accuracy: 0.1917\n",
      "Epoch 13/50\n",
      "38/38 [==============================] - 1s 26ms/step - loss: 2.7357 - accuracy: 0.1600 - val_loss: 2.5736 - val_accuracy: 0.1917\n",
      "Epoch 14/50\n",
      "38/38 [==============================] - 1s 22ms/step - loss: 2.7102 - accuracy: 0.1700 - val_loss: 2.5540 - val_accuracy: 0.2017\n",
      "Epoch 15/50\n",
      "38/38 [==============================] - 1s 26ms/step - loss: 2.6655 - accuracy: 0.1892 - val_loss: 2.5340 - val_accuracy: 0.2017\n",
      "Epoch 16/50\n",
      "38/38 [==============================] - 1s 29ms/step - loss: 2.6713 - accuracy: 0.1950 - val_loss: 2.5155 - val_accuracy: 0.2217\n",
      "Epoch 17/50\n",
      "38/38 [==============================] - 1s 32ms/step - loss: 2.6170 - accuracy: 0.2050 - val_loss: 2.4968 - val_accuracy: 0.2300\n",
      "Epoch 18/50\n",
      "38/38 [==============================] - 1s 33ms/step - loss: 2.5940 - accuracy: 0.1900 - val_loss: 2.4766 - val_accuracy: 0.2350\n",
      "Epoch 19/50\n",
      "38/38 [==============================] - 1s 23ms/step - loss: 2.5592 - accuracy: 0.2142 - val_loss: 2.4554 - val_accuracy: 0.2450\n",
      "Epoch 20/50\n",
      "38/38 [==============================] - 1s 23ms/step - loss: 2.5496 - accuracy: 0.2233 - val_loss: 2.4328 - val_accuracy: 0.2550\n",
      "Epoch 21/50\n",
      "38/38 [==============================] - 1s 23ms/step - loss: 2.5127 - accuracy: 0.2250 - val_loss: 2.4087 - val_accuracy: 0.2633\n",
      "Epoch 22/50\n",
      "38/38 [==============================] - 1s 23ms/step - loss: 2.4846 - accuracy: 0.2325 - val_loss: 2.3840 - val_accuracy: 0.2750\n",
      "Epoch 23/50\n",
      "38/38 [==============================] - 1s 31ms/step - loss: 2.4244 - accuracy: 0.2425 - val_loss: 2.3589 - val_accuracy: 0.2817\n",
      "Epoch 24/50\n",
      "38/38 [==============================] - 1s 28ms/step - loss: 2.4186 - accuracy: 0.2383 - val_loss: 2.3330 - val_accuracy: 0.2867\n",
      "Epoch 25/50\n",
      "38/38 [==============================] - 1s 25ms/step - loss: 2.3936 - accuracy: 0.2475 - val_loss: 2.3070 - val_accuracy: 0.2933\n",
      "Epoch 26/50\n",
      "38/38 [==============================] - 1s 31ms/step - loss: 2.3638 - accuracy: 0.2492 - val_loss: 2.2817 - val_accuracy: 0.3033\n",
      "Epoch 27/50\n",
      "38/38 [==============================] - 1s 33ms/step - loss: 2.3591 - accuracy: 0.2675 - val_loss: 2.2558 - val_accuracy: 0.3100\n",
      "Epoch 28/50\n",
      "38/38 [==============================] - 1s 23ms/step - loss: 2.3086 - accuracy: 0.2858 - val_loss: 2.2302 - val_accuracy: 0.3150\n",
      "Epoch 29/50\n",
      "38/38 [==============================] - 1s 23ms/step - loss: 2.2881 - accuracy: 0.2842 - val_loss: 2.2042 - val_accuracy: 0.3250\n",
      "Epoch 30/50\n",
      "38/38 [==============================] - 1s 26ms/step - loss: 2.2772 - accuracy: 0.2733 - val_loss: 2.1794 - val_accuracy: 0.3367\n",
      "Epoch 31/50\n",
      "38/38 [==============================] - 1s 23ms/step - loss: 2.2510 - accuracy: 0.2775 - val_loss: 2.1550 - val_accuracy: 0.3417\n",
      "Epoch 32/50\n",
      "38/38 [==============================] - 1s 33ms/step - loss: 2.2212 - accuracy: 0.3042 - val_loss: 2.1305 - val_accuracy: 0.3467\n",
      "Epoch 33/50\n",
      "38/38 [==============================] - 1s 22ms/step - loss: 2.1919 - accuracy: 0.3000 - val_loss: 2.1055 - val_accuracy: 0.3567\n",
      "Epoch 34/50\n",
      "38/38 [==============================] - 1s 33ms/step - loss: 2.1716 - accuracy: 0.3175 - val_loss: 2.0820 - val_accuracy: 0.3683\n",
      "Epoch 35/50\n",
      "38/38 [==============================] - 1s 24ms/step - loss: 2.1550 - accuracy: 0.3250 - val_loss: 2.0594 - val_accuracy: 0.3717\n",
      "Epoch 36/50\n",
      "38/38 [==============================] - 1s 23ms/step - loss: 2.1138 - accuracy: 0.3525 - val_loss: 2.0371 - val_accuracy: 0.3817\n",
      "Epoch 37/50\n",
      "38/38 [==============================] - 1s 24ms/step - loss: 2.1084 - accuracy: 0.3375 - val_loss: 2.0139 - val_accuracy: 0.3883\n",
      "Epoch 38/50\n",
      "38/38 [==============================] - 1s 33ms/step - loss: 2.0930 - accuracy: 0.3492 - val_loss: 1.9916 - val_accuracy: 0.3900\n",
      "Epoch 39/50\n",
      "38/38 [==============================] - 1s 26ms/step - loss: 2.0562 - accuracy: 0.3650 - val_loss: 1.9707 - val_accuracy: 0.3900\n",
      "Epoch 40/50\n",
      "38/38 [==============================] - 1s 23ms/step - loss: 2.0378 - accuracy: 0.3742 - val_loss: 1.9493 - val_accuracy: 0.3933\n",
      "Epoch 41/50\n",
      "38/38 [==============================] - 1s 22ms/step - loss: 2.0317 - accuracy: 0.3708 - val_loss: 1.9280 - val_accuracy: 0.4033\n",
      "Epoch 42/50\n",
      "38/38 [==============================] - 1s 22ms/step - loss: 2.0015 - accuracy: 0.3775 - val_loss: 1.9071 - val_accuracy: 0.4117\n",
      "Epoch 43/50\n",
      "38/38 [==============================] - 1s 23ms/step - loss: 1.9711 - accuracy: 0.3967 - val_loss: 1.8874 - val_accuracy: 0.4133\n",
      "Epoch 44/50\n",
      "38/38 [==============================] - 1s 23ms/step - loss: 1.9679 - accuracy: 0.3858 - val_loss: 1.8670 - val_accuracy: 0.4233\n",
      "Epoch 45/50\n",
      "38/38 [==============================] - 1s 23ms/step - loss: 1.9450 - accuracy: 0.4050 - val_loss: 1.8473 - val_accuracy: 0.4250\n",
      "Epoch 46/50\n",
      "38/38 [==============================] - 1s 27ms/step - loss: 1.9237 - accuracy: 0.3942 - val_loss: 1.8282 - val_accuracy: 0.4300\n",
      "Epoch 47/50\n",
      "38/38 [==============================] - 1s 30ms/step - loss: 1.9113 - accuracy: 0.4100 - val_loss: 1.8094 - val_accuracy: 0.4400\n",
      "Epoch 48/50\n",
      "38/38 [==============================] - 1s 24ms/step - loss: 1.8857 - accuracy: 0.4092 - val_loss: 1.7901 - val_accuracy: 0.4450\n",
      "Epoch 49/50\n",
      "38/38 [==============================] - 1s 29ms/step - loss: 1.8721 - accuracy: 0.4358 - val_loss: 1.7711 - val_accuracy: 0.4500\n",
      "Epoch 50/50\n",
      "38/38 [==============================] - 1s 35ms/step - loss: 1.8450 - accuracy: 0.4383 - val_loss: 1.7538 - val_accuracy: 0.4517\n",
      "trials for model 19: 0.38722223540147144\n"
     ]
    }
   ],
   "source": [
    "\n",
    "central_trials = [] \n",
    "for i, item in enumerate(model_config):\n",
    "    model_name = item[\"model_type\"]\n",
    "    model_params = item[\"params\"]\n",
    "    trials = [] \n",
    "    for trail in range(3) : \n",
    "        tf.keras.backend.clear_session()\n",
    "        model_ub = CANDIDATE_MODELS[model_name](n_classes=n_classes, \n",
    "                                            input_shape=(32,32,3),\n",
    "                                            **model_params)\n",
    "        model_ub.compile(optimizer=tf.keras.optimizers.Adam(lr = 1e-6),\n",
    "                            loss = \"sparse_categorical_crossentropy\", \n",
    "                            metrics = [\"accuracy\"])\n",
    "\n",
    "        ub_history = model_ub.fit(total_private_data[\"X\"], total_private_data[\"y\"],\n",
    "                        batch_size = 32, epochs = 50, shuffle=True, verbose = True, \n",
    "                        validation_data = [private_test_data[\"X\"], private_test_data[\"y\"]],\n",
    "                        callbacks=[EarlyStopping(monitor=\"val_accuracy\", min_delta=0.001, patience=4, restore_best_weights=True)])\n",
    "        trials.append(ub_history.history[\"val_accuracy\"][-1])\n",
    "    avg_trial = np.mean(trials)\n",
    "    central_trials.append(avg_trial)\n",
    "    print(\"trials for model {0}: {1}\".format(i, avg_trial))\n"
   ]
  },
  {
   "cell_type": "code",
   "execution_count": 6,
   "metadata": {},
   "outputs": [
    {
     "name": "stdout",
     "output_type": "stream",
     "text": [
      "Epoch 1/50\n"
     ]
    },
    {
     "name": "stderr",
     "output_type": "stream",
     "text": [
      "2023-05-11 19:40:23.709969: I tensorflow/core/grappler/optimizers/custom_graph_optimizer_registry.cc:113] Plugin optimizer for device_type GPU is enabled.\n"
     ]
    },
    {
     "name": "stdout",
     "output_type": "stream",
     "text": [
      "2/2 [==============================] - ETA: 0s - loss: 3.2388 - accuracy: 0.0667"
     ]
    },
    {
     "name": "stderr",
     "output_type": "stream",
     "text": [
      "2023-05-11 19:40:24.690449: I tensorflow/core/grappler/optimizers/custom_graph_optimizer_registry.cc:113] Plugin optimizer for device_type GPU is enabled.\n"
     ]
    },
    {
     "name": "stdout",
     "output_type": "stream",
     "text": [
      "2/2 [==============================] - 2s 911ms/step - loss: 3.2388 - accuracy: 0.0667 - val_loss: 2.8040 - val_accuracy: 0.0450\n",
      "Epoch 2/50\n",
      "2/2 [==============================] - 0s 232ms/step - loss: 3.0775 - accuracy: 0.0333 - val_loss: 2.8053 - val_accuracy: 0.0417\n",
      "Epoch 3/50\n",
      "2/2 [==============================] - 0s 238ms/step - loss: 3.1514 - accuracy: 0.0667 - val_loss: 2.8065 - val_accuracy: 0.0350\n",
      "Epoch 4/50\n",
      "2/2 [==============================] - 0s 185ms/step - loss: 3.0655 - accuracy: 0.1000 - val_loss: 2.8075 - val_accuracy: 0.0300\n",
      "Epoch 5/50\n",
      "2/2 [==============================] - 0s 241ms/step - loss: 3.0670 - accuracy: 0.1167 - val_loss: 2.8083 - val_accuracy: 0.0267\n",
      "Epoch 1/50\n"
     ]
    },
    {
     "name": "stderr",
     "output_type": "stream",
     "text": [
      "2023-05-11 19:40:27.131010: I tensorflow/core/grappler/optimizers/custom_graph_optimizer_registry.cc:113] Plugin optimizer for device_type GPU is enabled.\n"
     ]
    },
    {
     "name": "stdout",
     "output_type": "stream",
     "text": [
      "2/2 [==============================] - ETA: 0s - loss: 3.4423 - accuracy: 0.0500"
     ]
    },
    {
     "name": "stderr",
     "output_type": "stream",
     "text": [
      "2023-05-11 19:40:27.833869: I tensorflow/core/grappler/optimizers/custom_graph_optimizer_registry.cc:113] Plugin optimizer for device_type GPU is enabled.\n"
     ]
    },
    {
     "name": "stdout",
     "output_type": "stream",
     "text": [
      "2/2 [==============================] - 2s 863ms/step - loss: 3.4423 - accuracy: 0.0500 - val_loss: 2.8152 - val_accuracy: 0.0300\n",
      "Epoch 2/50\n",
      "2/2 [==============================] - 0s 270ms/step - loss: 3.4704 - accuracy: 0.0167 - val_loss: 2.8157 - val_accuracy: 0.0267\n",
      "Epoch 3/50\n",
      "2/2 [==============================] - 0s 206ms/step - loss: 3.4213 - accuracy: 0.0167 - val_loss: 2.8163 - val_accuracy: 0.0167\n",
      "Epoch 4/50\n",
      "2/2 [==============================] - 0s 213ms/step - loss: 3.4630 - accuracy: 0.0167 - val_loss: 2.8167 - val_accuracy: 0.0167\n",
      "Epoch 5/50\n",
      "2/2 [==============================] - 0s 239ms/step - loss: 3.3865 - accuracy: 0.0500 - val_loss: 2.8170 - val_accuracy: 0.0100\n",
      "Epoch 1/50\n"
     ]
    },
    {
     "name": "stderr",
     "output_type": "stream",
     "text": [
      "2023-05-11 19:40:29.975060: I tensorflow/core/grappler/optimizers/custom_graph_optimizer_registry.cc:113] Plugin optimizer for device_type GPU is enabled.\n"
     ]
    },
    {
     "name": "stdout",
     "output_type": "stream",
     "text": [
      "2/2 [==============================] - ETA: 0s - loss: 3.4477 - accuracy: 0.0667"
     ]
    },
    {
     "name": "stderr",
     "output_type": "stream",
     "text": [
      "2023-05-11 19:40:30.628873: I tensorflow/core/grappler/optimizers/custom_graph_optimizer_registry.cc:113] Plugin optimizer for device_type GPU is enabled.\n"
     ]
    },
    {
     "name": "stdout",
     "output_type": "stream",
     "text": [
      "2/2 [==============================] - 1s 670ms/step - loss: 3.4477 - accuracy: 0.0667 - val_loss: 2.8090 - val_accuracy: 0.0683\n",
      "Epoch 2/50\n",
      "2/2 [==============================] - 0s 296ms/step - loss: 3.5232 - accuracy: 0.0500 - val_loss: 2.8092 - val_accuracy: 0.0750\n",
      "Epoch 3/50\n",
      "2/2 [==============================] - 0s 206ms/step - loss: 3.3402 - accuracy: 0.1000 - val_loss: 2.8093 - val_accuracy: 0.0767\n",
      "Epoch 4/50\n",
      "2/2 [==============================] - 0s 194ms/step - loss: 3.4061 - accuracy: 0.0833 - val_loss: 2.8089 - val_accuracy: 0.0800\n",
      "Epoch 5/50\n",
      "2/2 [==============================] - 0s 233ms/step - loss: 3.3808 - accuracy: 0.0667 - val_loss: 2.8082 - val_accuracy: 0.0850\n",
      "Epoch 6/50\n",
      "2/2 [==============================] - 0s 199ms/step - loss: 3.2515 - accuracy: 0.0500 - val_loss: 2.8073 - val_accuracy: 0.0900\n",
      "Epoch 7/50\n",
      "2/2 [==============================] - 0s 194ms/step - loss: 3.2398 - accuracy: 0.1000 - val_loss: 2.8063 - val_accuracy: 0.1017\n",
      "Epoch 8/50\n",
      "2/2 [==============================] - 0s 214ms/step - loss: 3.2615 - accuracy: 0.0833 - val_loss: 2.8052 - val_accuracy: 0.1050\n",
      "Epoch 9/50\n",
      "2/2 [==============================] - 0s 214ms/step - loss: 3.2465 - accuracy: 0.0667 - val_loss: 2.8041 - val_accuracy: 0.1150\n",
      "Epoch 10/50\n",
      "2/2 [==============================] - 0s 182ms/step - loss: 3.2237 - accuracy: 0.0167 - val_loss: 2.8028 - val_accuracy: 0.1150\n",
      "Epoch 11/50\n",
      "2/2 [==============================] - 0s 188ms/step - loss: 3.2711 - accuracy: 0.0333 - val_loss: 2.8015 - val_accuracy: 0.1133\n",
      "Epoch 12/50\n",
      "2/2 [==============================] - 0s 187ms/step - loss: 3.1859 - accuracy: 0.0500 - val_loss: 2.8001 - val_accuracy: 0.1167\n",
      "Epoch 13/50\n",
      "2/2 [==============================] - 0s 194ms/step - loss: 3.2407 - accuracy: 0.0333 - val_loss: 2.7985 - val_accuracy: 0.1233\n",
      "Epoch 14/50\n",
      "2/2 [==============================] - 0s 199ms/step - loss: 3.2597 - accuracy: 0.1000 - val_loss: 2.7968 - val_accuracy: 0.1333\n",
      "Epoch 15/50\n",
      "2/2 [==============================] - 0s 179ms/step - loss: 3.2804 - accuracy: 0.0667 - val_loss: 2.7951 - val_accuracy: 0.1283\n",
      "Epoch 16/50\n",
      "2/2 [==============================] - 0s 176ms/step - loss: 3.2726 - accuracy: 0.0833 - val_loss: 2.7932 - val_accuracy: 0.1317\n",
      "Epoch 17/50\n",
      "2/2 [==============================] - 0s 184ms/step - loss: 3.0809 - accuracy: 0.0333 - val_loss: 2.7913 - val_accuracy: 0.1367\n",
      "Epoch 18/50\n",
      "2/2 [==============================] - 0s 188ms/step - loss: 3.2489 - accuracy: 0.0500 - val_loss: 2.7893 - val_accuracy: 0.1400\n",
      "Epoch 19/50\n",
      "2/2 [==============================] - 0s 181ms/step - loss: 3.0560 - accuracy: 0.0833 - val_loss: 2.7872 - val_accuracy: 0.1433\n",
      "Epoch 20/50\n",
      "2/2 [==============================] - 0s 187ms/step - loss: 3.0727 - accuracy: 0.0667 - val_loss: 2.7850 - val_accuracy: 0.1450\n",
      "Epoch 21/50\n",
      "2/2 [==============================] - 0s 226ms/step - loss: 3.1295 - accuracy: 0.1000 - val_loss: 2.7827 - val_accuracy: 0.1500\n",
      "Epoch 22/50\n",
      "2/2 [==============================] - 0s 186ms/step - loss: 3.1832 - accuracy: 0.0667 - val_loss: 2.7804 - val_accuracy: 0.1533\n",
      "Epoch 23/50\n",
      "2/2 [==============================] - 0s 187ms/step - loss: 3.1351 - accuracy: 0.0833 - val_loss: 2.7780 - val_accuracy: 0.1583\n",
      "Epoch 24/50\n",
      "2/2 [==============================] - 0s 184ms/step - loss: 3.1467 - accuracy: 0.0667 - val_loss: 2.7755 - val_accuracy: 0.1600\n",
      "Epoch 25/50\n",
      "2/2 [==============================] - 0s 208ms/step - loss: 3.0587 - accuracy: 0.1167 - val_loss: 2.7730 - val_accuracy: 0.1617\n",
      "Epoch 26/50\n",
      "2/2 [==============================] - 0s 187ms/step - loss: 3.0217 - accuracy: 0.1000 - val_loss: 2.7704 - val_accuracy: 0.1650\n",
      "Epoch 27/50\n",
      "2/2 [==============================] - 0s 187ms/step - loss: 3.0699 - accuracy: 0.1000 - val_loss: 2.7677 - val_accuracy: 0.1667\n",
      "Epoch 28/50\n",
      "2/2 [==============================] - 0s 185ms/step - loss: 3.0904 - accuracy: 0.0667 - val_loss: 2.7650 - val_accuracy: 0.1700\n",
      "Epoch 29/50\n",
      "2/2 [==============================] - 0s 186ms/step - loss: 3.1680 - accuracy: 0.0833 - val_loss: 2.7622 - val_accuracy: 0.1717\n",
      "Epoch 30/50\n",
      "2/2 [==============================] - 0s 186ms/step - loss: 2.9750 - accuracy: 0.1333 - val_loss: 2.7594 - val_accuracy: 0.1750\n",
      "Epoch 31/50\n",
      "2/2 [==============================] - 0s 185ms/step - loss: 3.0499 - accuracy: 0.1167 - val_loss: 2.7565 - val_accuracy: 0.1767\n",
      "Epoch 32/50\n",
      "2/2 [==============================] - 0s 190ms/step - loss: 2.9500 - accuracy: 0.1500 - val_loss: 2.7536 - val_accuracy: 0.1783\n",
      "Epoch 33/50\n",
      "2/2 [==============================] - 0s 181ms/step - loss: 3.0668 - accuracy: 0.1167 - val_loss: 2.7507 - val_accuracy: 0.1783\n",
      "Epoch 34/50\n",
      "2/2 [==============================] - 0s 178ms/step - loss: 2.9099 - accuracy: 0.1000 - val_loss: 2.7476 - val_accuracy: 0.1767\n",
      "Epoch 35/50\n",
      "2/2 [==============================] - 0s 186ms/step - loss: 2.9532 - accuracy: 0.0833 - val_loss: 2.7446 - val_accuracy: 0.1850\n",
      "Epoch 36/50\n",
      "2/2 [==============================] - 0s 184ms/step - loss: 3.0095 - accuracy: 0.1500 - val_loss: 2.7415 - val_accuracy: 0.1867\n",
      "Epoch 37/50\n",
      "2/2 [==============================] - 0s 181ms/step - loss: 2.9536 - accuracy: 0.0833 - val_loss: 2.7383 - val_accuracy: 0.1867\n",
      "Epoch 38/50\n",
      "2/2 [==============================] - 0s 187ms/step - loss: 2.9722 - accuracy: 0.1167 - val_loss: 2.7351 - val_accuracy: 0.1900\n",
      "Epoch 39/50\n",
      "2/2 [==============================] - 0s 184ms/step - loss: 2.9406 - accuracy: 0.0833 - val_loss: 2.7319 - val_accuracy: 0.1883\n",
      "Epoch 40/50\n",
      "2/2 [==============================] - 0s 251ms/step - loss: 2.8262 - accuracy: 0.1500 - val_loss: 2.7286 - val_accuracy: 0.1867\n",
      "Epoch 41/50\n",
      "2/2 [==============================] - 0s 209ms/step - loss: 3.0200 - accuracy: 0.0667 - val_loss: 2.7252 - val_accuracy: 0.1867\n",
      "Epoch 42/50\n",
      "2/2 [==============================] - 0s 195ms/step - loss: 2.9342 - accuracy: 0.0833 - val_loss: 2.7219 - val_accuracy: 0.1900\n",
      "trials for model 0: 0.07555555490156014\n",
      "Epoch 1/50\n"
     ]
    },
    {
     "name": "stderr",
     "output_type": "stream",
     "text": [
      "2023-05-11 19:40:40.773020: I tensorflow/core/grappler/optimizers/custom_graph_optimizer_registry.cc:113] Plugin optimizer for device_type GPU is enabled.\n"
     ]
    },
    {
     "name": "stdout",
     "output_type": "stream",
     "text": [
      "2/2 [==============================] - ETA: 0s - loss: 3.4663 - accuracy: 0.0667"
     ]
    },
    {
     "name": "stderr",
     "output_type": "stream",
     "text": [
      "2023-05-11 19:40:41.656422: I tensorflow/core/grappler/optimizers/custom_graph_optimizer_registry.cc:113] Plugin optimizer for device_type GPU is enabled.\n"
     ]
    },
    {
     "name": "stdout",
     "output_type": "stream",
     "text": [
      "2/2 [==============================] - 2s 829ms/step - loss: 3.4663 - accuracy: 0.0667 - val_loss: 2.8120 - val_accuracy: 0.1183\n",
      "Epoch 2/50\n",
      "2/2 [==============================] - 0s 399ms/step - loss: 3.3451 - accuracy: 0.0833 - val_loss: 2.8102 - val_accuracy: 0.1067\n",
      "Epoch 3/50\n",
      "2/2 [==============================] - 0s 306ms/step - loss: 3.3732 - accuracy: 0.1000 - val_loss: 2.8082 - val_accuracy: 0.0967\n",
      "Epoch 4/50\n",
      "2/2 [==============================] - 0s 267ms/step - loss: 3.3190 - accuracy: 0.1167 - val_loss: 2.8063 - val_accuracy: 0.0867\n",
      "Epoch 5/50\n",
      "2/2 [==============================] - 0s 283ms/step - loss: 3.3113 - accuracy: 0.1000 - val_loss: 2.8044 - val_accuracy: 0.0867\n",
      "Epoch 1/50\n"
     ]
    },
    {
     "name": "stderr",
     "output_type": "stream",
     "text": [
      "2023-05-11 19:40:44.152777: I tensorflow/core/grappler/optimizers/custom_graph_optimizer_registry.cc:113] Plugin optimizer for device_type GPU is enabled.\n"
     ]
    },
    {
     "name": "stdout",
     "output_type": "stream",
     "text": [
      "2/2 [==============================] - ETA: 0s - loss: 3.6549 - accuracy: 0.0167    "
     ]
    },
    {
     "name": "stderr",
     "output_type": "stream",
     "text": [
      "2023-05-11 19:40:44.991788: I tensorflow/core/grappler/optimizers/custom_graph_optimizer_registry.cc:113] Plugin optimizer for device_type GPU is enabled.\n"
     ]
    },
    {
     "name": "stdout",
     "output_type": "stream",
     "text": [
      "2/2 [==============================] - 2s 1s/step - loss: 3.6549 - accuracy: 0.0167 - val_loss: 2.8161 - val_accuracy: 0.0267\n",
      "Epoch 2/50\n",
      "2/2 [==============================] - 0s 342ms/step - loss: 3.6620 - accuracy: 0.0167 - val_loss: 2.8130 - val_accuracy: 0.0267\n",
      "Epoch 3/50\n",
      "2/2 [==============================] - 0s 251ms/step - loss: 3.5419 - accuracy: 0.0167 - val_loss: 2.8102 - val_accuracy: 0.0233\n",
      "Epoch 4/50\n",
      "2/2 [==============================] - 0s 339ms/step - loss: 3.4755 - accuracy: 0.0000e+00 - val_loss: 2.8077 - val_accuracy: 0.0200\n",
      "Epoch 5/50\n",
      "2/2 [==============================] - 0s 268ms/step - loss: 3.5090 - accuracy: 0.0167 - val_loss: 2.8055 - val_accuracy: 0.0267\n",
      "Epoch 1/50\n"
     ]
    },
    {
     "name": "stderr",
     "output_type": "stream",
     "text": [
      "2023-05-11 19:40:48.418295: I tensorflow/core/grappler/optimizers/custom_graph_optimizer_registry.cc:113] Plugin optimizer for device_type GPU is enabled.\n"
     ]
    },
    {
     "name": "stdout",
     "output_type": "stream",
     "text": [
      "2/2 [==============================] - ETA: 0s - loss: 3.0071 - accuracy: 0.0833"
     ]
    },
    {
     "name": "stderr",
     "output_type": "stream",
     "text": [
      "2023-05-11 19:40:49.433425: I tensorflow/core/grappler/optimizers/custom_graph_optimizer_registry.cc:113] Plugin optimizer for device_type GPU is enabled.\n"
     ]
    },
    {
     "name": "stdout",
     "output_type": "stream",
     "text": [
      "2/2 [==============================] - 2s 985ms/step - loss: 3.0071 - accuracy: 0.0833 - val_loss: 2.8044 - val_accuracy: 0.0617\n",
      "Epoch 2/50\n",
      "2/2 [==============================] - 0s 340ms/step - loss: 2.8986 - accuracy: 0.1000 - val_loss: 2.8034 - val_accuracy: 0.0750\n",
      "Epoch 3/50\n",
      "2/2 [==============================] - 0s 319ms/step - loss: 2.9802 - accuracy: 0.0667 - val_loss: 2.8029 - val_accuracy: 0.0767\n",
      "Epoch 4/50\n",
      "2/2 [==============================] - 0s 321ms/step - loss: 2.9834 - accuracy: 0.0500 - val_loss: 2.8030 - val_accuracy: 0.0667\n",
      "Epoch 5/50\n",
      "2/2 [==============================] - 0s 231ms/step - loss: 2.9124 - accuracy: 0.0667 - val_loss: 2.8035 - val_accuracy: 0.0533\n",
      "Epoch 6/50\n",
      "2/2 [==============================] - 0s 225ms/step - loss: 2.8512 - accuracy: 0.0833 - val_loss: 2.8041 - val_accuracy: 0.0517\n",
      "Epoch 7/50\n",
      "2/2 [==============================] - 0s 256ms/step - loss: 2.8697 - accuracy: 0.0833 - val_loss: 2.8049 - val_accuracy: 0.0367\n",
      "trials for model 1: 0.05000000074505806\n",
      "Epoch 1/50\n"
     ]
    },
    {
     "name": "stderr",
     "output_type": "stream",
     "text": [
      "2023-05-11 19:40:52.744941: I tensorflow/core/grappler/optimizers/custom_graph_optimizer_registry.cc:113] Plugin optimizer for device_type GPU is enabled.\n"
     ]
    },
    {
     "name": "stdout",
     "output_type": "stream",
     "text": [
      "2/2 [==============================] - ETA: 0s - loss: 3.2367 - accuracy: 0.1167"
     ]
    },
    {
     "name": "stderr",
     "output_type": "stream",
     "text": [
      "2023-05-11 19:40:53.609659: I tensorflow/core/grappler/optimizers/custom_graph_optimizer_registry.cc:113] Plugin optimizer for device_type GPU is enabled.\n"
     ]
    },
    {
     "name": "stdout",
     "output_type": "stream",
     "text": [
      "2/2 [==============================] - 2s 992ms/step - loss: 3.2367 - accuracy: 0.1167 - val_loss: 2.8130 - val_accuracy: 0.0633\n",
      "Epoch 2/50\n",
      "2/2 [==============================] - 0s 397ms/step - loss: 3.1672 - accuracy: 0.1833 - val_loss: 2.8100 - val_accuracy: 0.0683\n",
      "Epoch 3/50\n",
      "2/2 [==============================] - 0s 285ms/step - loss: 3.2040 - accuracy: 0.1167 - val_loss: 2.8071 - val_accuracy: 0.0800\n",
      "Epoch 4/50\n",
      "2/2 [==============================] - 0s 321ms/step - loss: 3.2763 - accuracy: 0.0833 - val_loss: 2.8041 - val_accuracy: 0.0933\n",
      "Epoch 5/50\n",
      "2/2 [==============================] - 0s 269ms/step - loss: 3.1174 - accuracy: 0.1333 - val_loss: 2.8012 - val_accuracy: 0.0967\n",
      "Epoch 6/50\n",
      "2/2 [==============================] - 0s 261ms/step - loss: 3.0803 - accuracy: 0.1333 - val_loss: 2.7983 - val_accuracy: 0.0950\n",
      "Epoch 7/50\n",
      "2/2 [==============================] - 0s 329ms/step - loss: 3.0855 - accuracy: 0.1500 - val_loss: 2.7953 - val_accuracy: 0.0933\n",
      "Epoch 8/50\n",
      "2/2 [==============================] - 0s 224ms/step - loss: 3.0914 - accuracy: 0.0833 - val_loss: 2.7922 - val_accuracy: 0.0933\n",
      "Epoch 9/50\n",
      "2/2 [==============================] - 0s 243ms/step - loss: 3.0546 - accuracy: 0.1000 - val_loss: 2.7890 - val_accuracy: 0.0883\n",
      "Epoch 1/50\n"
     ]
    },
    {
     "name": "stderr",
     "output_type": "stream",
     "text": [
      "2023-05-11 19:40:57.789261: I tensorflow/core/grappler/optimizers/custom_graph_optimizer_registry.cc:113] Plugin optimizer for device_type GPU is enabled.\n"
     ]
    },
    {
     "name": "stdout",
     "output_type": "stream",
     "text": [
      "2/2 [==============================] - ETA: 0s - loss: 3.1214 - accuracy: 0.0500"
     ]
    },
    {
     "name": "stderr",
     "output_type": "stream",
     "text": [
      "2023-05-11 19:40:58.747139: I tensorflow/core/grappler/optimizers/custom_graph_optimizer_registry.cc:113] Plugin optimizer for device_type GPU is enabled.\n"
     ]
    },
    {
     "name": "stdout",
     "output_type": "stream",
     "text": [
      "2/2 [==============================] - 2s 812ms/step - loss: 3.1214 - accuracy: 0.0500 - val_loss: 2.7874 - val_accuracy: 0.1267\n",
      "Epoch 2/50\n",
      "2/2 [==============================] - 0s 406ms/step - loss: 3.0028 - accuracy: 0.0833 - val_loss: 2.7867 - val_accuracy: 0.1500\n",
      "Epoch 3/50\n",
      "2/2 [==============================] - 0s 289ms/step - loss: 2.9483 - accuracy: 0.0667 - val_loss: 2.7861 - val_accuracy: 0.1567\n",
      "Epoch 4/50\n",
      "2/2 [==============================] - 0s 261ms/step - loss: 2.9925 - accuracy: 0.0833 - val_loss: 2.7855 - val_accuracy: 0.1683\n",
      "Epoch 5/50\n",
      "2/2 [==============================] - 0s 298ms/step - loss: 2.8958 - accuracy: 0.1167 - val_loss: 2.7850 - val_accuracy: 0.1750\n",
      "Epoch 6/50\n",
      "2/2 [==============================] - 0s 272ms/step - loss: 2.9934 - accuracy: 0.0667 - val_loss: 2.7846 - val_accuracy: 0.1717\n",
      "Epoch 7/50\n",
      "2/2 [==============================] - 0s 275ms/step - loss: 2.8877 - accuracy: 0.0833 - val_loss: 2.7842 - val_accuracy: 0.1717\n",
      "Epoch 8/50\n",
      "2/2 [==============================] - 0s 229ms/step - loss: 2.9246 - accuracy: 0.0833 - val_loss: 2.7837 - val_accuracy: 0.1633\n",
      "Epoch 9/50\n",
      "2/2 [==============================] - 0s 233ms/step - loss: 2.8419 - accuracy: 0.1000 - val_loss: 2.7830 - val_accuracy: 0.1483\n",
      "Epoch 1/50\n"
     ]
    },
    {
     "name": "stderr",
     "output_type": "stream",
     "text": [
      "2023-05-11 19:41:02.553540: I tensorflow/core/grappler/optimizers/custom_graph_optimizer_registry.cc:113] Plugin optimizer for device_type GPU is enabled.\n"
     ]
    },
    {
     "name": "stdout",
     "output_type": "stream",
     "text": [
      "2/2 [==============================] - ETA: 0s - loss: 3.5712 - accuracy: 0.1500"
     ]
    },
    {
     "name": "stderr",
     "output_type": "stream",
     "text": [
      "2023-05-11 19:41:03.466236: I tensorflow/core/grappler/optimizers/custom_graph_optimizer_registry.cc:113] Plugin optimizer for device_type GPU is enabled.\n"
     ]
    },
    {
     "name": "stdout",
     "output_type": "stream",
     "text": [
      "2/2 [==============================] - 2s 1s/step - loss: 3.5712 - accuracy: 0.1500 - val_loss: 2.8103 - val_accuracy: 0.1100\n",
      "Epoch 2/50\n",
      "2/2 [==============================] - 0s 321ms/step - loss: 3.4441 - accuracy: 0.1167 - val_loss: 2.8087 - val_accuracy: 0.1333\n",
      "Epoch 3/50\n",
      "2/2 [==============================] - 0s 349ms/step - loss: 3.4213 - accuracy: 0.1833 - val_loss: 2.8071 - val_accuracy: 0.1500\n",
      "Epoch 4/50\n",
      "2/2 [==============================] - 0s 276ms/step - loss: 3.3728 - accuracy: 0.1833 - val_loss: 2.8056 - val_accuracy: 0.1567\n",
      "Epoch 5/50\n",
      "2/2 [==============================] - 0s 286ms/step - loss: 3.3519 - accuracy: 0.1667 - val_loss: 2.8042 - val_accuracy: 0.1700\n",
      "Epoch 6/50\n",
      "2/2 [==============================] - 0s 303ms/step - loss: 3.2765 - accuracy: 0.1500 - val_loss: 2.8030 - val_accuracy: 0.1817\n",
      "Epoch 7/50\n",
      "2/2 [==============================] - 0s 240ms/step - loss: 3.3190 - accuracy: 0.1333 - val_loss: 2.8017 - val_accuracy: 0.1933\n",
      "Epoch 8/50\n",
      "2/2 [==============================] - 0s 267ms/step - loss: 3.1797 - accuracy: 0.2167 - val_loss: 2.8004 - val_accuracy: 0.1983\n",
      "Epoch 9/50\n",
      "2/2 [==============================] - 0s 277ms/step - loss: 3.2074 - accuracy: 0.1500 - val_loss: 2.7992 - val_accuracy: 0.1983\n",
      "Epoch 10/50\n",
      "2/2 [==============================] - 0s 416ms/step - loss: 3.2638 - accuracy: 0.1833 - val_loss: 2.7979 - val_accuracy: 0.2000\n",
      "Epoch 11/50\n",
      "2/2 [==============================] - 0s 321ms/step - loss: 3.2213 - accuracy: 0.1833 - val_loss: 2.7965 - val_accuracy: 0.1983\n",
      "Epoch 12/50\n",
      "2/2 [==============================] - 0s 405ms/step - loss: 3.1141 - accuracy: 0.2167 - val_loss: 2.7950 - val_accuracy: 0.1900\n",
      "Epoch 13/50\n",
      "2/2 [==============================] - 0s 281ms/step - loss: 3.1548 - accuracy: 0.2167 - val_loss: 2.7933 - val_accuracy: 0.1933\n",
      "Epoch 14/50\n",
      "2/2 [==============================] - 0s 301ms/step - loss: 3.1446 - accuracy: 0.2333 - val_loss: 2.7915 - val_accuracy: 0.1867\n",
      "trials for model 2: 0.14111111561457315\n",
      "Epoch 1/50\n"
     ]
    },
    {
     "name": "stderr",
     "output_type": "stream",
     "text": [
      "2023-05-11 19:41:10.215283: I tensorflow/core/grappler/optimizers/custom_graph_optimizer_registry.cc:113] Plugin optimizer for device_type GPU is enabled.\n"
     ]
    },
    {
     "name": "stdout",
     "output_type": "stream",
     "text": [
      "2/2 [==============================] - ETA: 0s - loss: 3.4098 - accuracy: 0.1333"
     ]
    },
    {
     "name": "stderr",
     "output_type": "stream",
     "text": [
      "2023-05-11 19:41:11.019660: I tensorflow/core/grappler/optimizers/custom_graph_optimizer_registry.cc:113] Plugin optimizer for device_type GPU is enabled.\n"
     ]
    },
    {
     "name": "stdout",
     "output_type": "stream",
     "text": [
      "2/2 [==============================] - 2s 878ms/step - loss: 3.4098 - accuracy: 0.1333 - val_loss: 2.8319 - val_accuracy: 0.0700\n",
      "Epoch 2/50\n",
      "2/2 [==============================] - 0s 284ms/step - loss: 3.2586 - accuracy: 0.1167 - val_loss: 2.8298 - val_accuracy: 0.0767\n",
      "Epoch 3/50\n",
      "2/2 [==============================] - 0s 237ms/step - loss: 3.3258 - accuracy: 0.1667 - val_loss: 2.8280 - val_accuracy: 0.0817\n",
      "Epoch 4/50\n",
      "2/2 [==============================] - 0s 206ms/step - loss: 3.2607 - accuracy: 0.1333 - val_loss: 2.8264 - val_accuracy: 0.0817\n",
      "Epoch 5/50\n",
      "2/2 [==============================] - 0s 247ms/step - loss: 3.2360 - accuracy: 0.1333 - val_loss: 2.8249 - val_accuracy: 0.0800\n",
      "Epoch 6/50\n",
      "2/2 [==============================] - 0s 250ms/step - loss: 3.3635 - accuracy: 0.1000 - val_loss: 2.8235 - val_accuracy: 0.0833\n",
      "Epoch 7/50\n",
      "2/2 [==============================] - 0s 197ms/step - loss: 3.2990 - accuracy: 0.1167 - val_loss: 2.8222 - val_accuracy: 0.0833\n",
      "Epoch 8/50\n",
      "2/2 [==============================] - 0s 234ms/step - loss: 3.2340 - accuracy: 0.1500 - val_loss: 2.8211 - val_accuracy: 0.0850\n",
      "Epoch 9/50\n",
      "2/2 [==============================] - 0s 210ms/step - loss: 3.2463 - accuracy: 0.1833 - val_loss: 2.8200 - val_accuracy: 0.0850\n",
      "Epoch 10/50\n",
      "2/2 [==============================] - 0s 207ms/step - loss: 3.1889 - accuracy: 0.2000 - val_loss: 2.8190 - val_accuracy: 0.0717\n",
      "Epoch 11/50\n",
      "2/2 [==============================] - 0s 226ms/step - loss: 3.1338 - accuracy: 0.2167 - val_loss: 2.8181 - val_accuracy: 0.0700\n",
      "Epoch 12/50\n",
      "2/2 [==============================] - 0s 215ms/step - loss: 3.1282 - accuracy: 0.1500 - val_loss: 2.8172 - val_accuracy: 0.0750\n",
      "Epoch 1/50\n"
     ]
    },
    {
     "name": "stderr",
     "output_type": "stream",
     "text": [
      "2023-05-11 19:41:15.344826: I tensorflow/core/grappler/optimizers/custom_graph_optimizer_registry.cc:113] Plugin optimizer for device_type GPU is enabled.\n"
     ]
    },
    {
     "name": "stdout",
     "output_type": "stream",
     "text": [
      "2/2 [==============================] - ETA: 0s - loss: 3.3026 - accuracy: 0.0833"
     ]
    },
    {
     "name": "stderr",
     "output_type": "stream",
     "text": [
      "2023-05-11 19:41:16.137053: I tensorflow/core/grappler/optimizers/custom_graph_optimizer_registry.cc:113] Plugin optimizer for device_type GPU is enabled.\n"
     ]
    },
    {
     "name": "stdout",
     "output_type": "stream",
     "text": [
      "2/2 [==============================] - 2s 834ms/step - loss: 3.3026 - accuracy: 0.0833 - val_loss: 2.8228 - val_accuracy: 0.0233\n",
      "Epoch 2/50\n",
      "2/2 [==============================] - 0s 361ms/step - loss: 3.2279 - accuracy: 0.0833 - val_loss: 2.8190 - val_accuracy: 0.0317\n",
      "Epoch 3/50\n",
      "2/2 [==============================] - 0s 225ms/step - loss: 3.2964 - accuracy: 0.0833 - val_loss: 2.8152 - val_accuracy: 0.0367\n",
      "Epoch 4/50\n",
      "2/2 [==============================] - 0s 274ms/step - loss: 3.3214 - accuracy: 0.0667 - val_loss: 2.8115 - val_accuracy: 0.0433\n",
      "Epoch 5/50\n",
      "2/2 [==============================] - 0s 244ms/step - loss: 3.3267 - accuracy: 0.0833 - val_loss: 2.8079 - val_accuracy: 0.0483\n",
      "Epoch 6/50\n",
      "2/2 [==============================] - 0s 238ms/step - loss: 3.3597 - accuracy: 0.0667 - val_loss: 2.8043 - val_accuracy: 0.0567\n",
      "Epoch 7/50\n",
      "2/2 [==============================] - 0s 249ms/step - loss: 3.1989 - accuracy: 0.0500 - val_loss: 2.8009 - val_accuracy: 0.0600\n",
      "Epoch 8/50\n",
      "2/2 [==============================] - 0s 228ms/step - loss: 3.1963 - accuracy: 0.0500 - val_loss: 2.7977 - val_accuracy: 0.0667\n",
      "Epoch 9/50\n",
      "2/2 [==============================] - 0s 240ms/step - loss: 3.2579 - accuracy: 0.0833 - val_loss: 2.7944 - val_accuracy: 0.0667\n",
      "Epoch 10/50\n",
      "2/2 [==============================] - 0s 245ms/step - loss: 3.2300 - accuracy: 0.0333 - val_loss: 2.7911 - val_accuracy: 0.0717\n",
      "Epoch 11/50\n",
      "2/2 [==============================] - 0s 198ms/step - loss: 3.1654 - accuracy: 0.0500 - val_loss: 2.7879 - val_accuracy: 0.0817\n",
      "Epoch 12/50\n",
      "2/2 [==============================] - 0s 186ms/step - loss: 3.1867 - accuracy: 0.1000 - val_loss: 2.7847 - val_accuracy: 0.0817\n",
      "Epoch 13/50\n",
      "2/2 [==============================] - 0s 220ms/step - loss: 3.2647 - accuracy: 0.0833 - val_loss: 2.7816 - val_accuracy: 0.0800\n",
      "Epoch 14/50\n",
      "2/2 [==============================] - 0s 203ms/step - loss: 3.2420 - accuracy: 0.0500 - val_loss: 2.7785 - val_accuracy: 0.0883\n",
      "Epoch 15/50\n",
      "2/2 [==============================] - 0s 194ms/step - loss: 3.2372 - accuracy: 0.0667 - val_loss: 2.7754 - val_accuracy: 0.0900\n",
      "Epoch 16/50\n",
      "2/2 [==============================] - 0s 189ms/step - loss: 3.0723 - accuracy: 0.0667 - val_loss: 2.7722 - val_accuracy: 0.1017\n",
      "Epoch 17/50\n",
      "2/2 [==============================] - 0s 196ms/step - loss: 3.1857 - accuracy: 0.0667 - val_loss: 2.7691 - val_accuracy: 0.1083\n",
      "Epoch 18/50\n",
      "2/2 [==============================] - 0s 191ms/step - loss: 3.0904 - accuracy: 0.0667 - val_loss: 2.7659 - val_accuracy: 0.1100\n",
      "Epoch 19/50\n",
      "2/2 [==============================] - 0s 190ms/step - loss: 3.1490 - accuracy: 0.0667 - val_loss: 2.7627 - val_accuracy: 0.1133\n",
      "Epoch 20/50\n",
      "2/2 [==============================] - 0s 189ms/step - loss: 3.0933 - accuracy: 0.0500 - val_loss: 2.7595 - val_accuracy: 0.1250\n",
      "Epoch 21/50\n",
      "2/2 [==============================] - 0s 188ms/step - loss: 2.9625 - accuracy: 0.1000 - val_loss: 2.7563 - val_accuracy: 0.1333\n",
      "Epoch 22/50\n",
      "2/2 [==============================] - 0s 191ms/step - loss: 2.9452 - accuracy: 0.0833 - val_loss: 2.7531 - val_accuracy: 0.1450\n",
      "Epoch 23/50\n",
      "2/2 [==============================] - 0s 184ms/step - loss: 3.0235 - accuracy: 0.1000 - val_loss: 2.7498 - val_accuracy: 0.1450\n",
      "Epoch 24/50\n",
      "2/2 [==============================] - 0s 181ms/step - loss: 2.9623 - accuracy: 0.1333 - val_loss: 2.7465 - val_accuracy: 0.1417\n",
      "Epoch 25/50\n",
      "2/2 [==============================] - 0s 183ms/step - loss: 3.0453 - accuracy: 0.1167 - val_loss: 2.7432 - val_accuracy: 0.1433\n",
      "Epoch 26/50\n",
      "2/2 [==============================] - 0s 192ms/step - loss: 2.9960 - accuracy: 0.0667 - val_loss: 2.7397 - val_accuracy: 0.1433\n",
      "Epoch 1/50\n"
     ]
    },
    {
     "name": "stderr",
     "output_type": "stream",
     "text": [
      "2023-05-11 19:41:23.547383: I tensorflow/core/grappler/optimizers/custom_graph_optimizer_registry.cc:113] Plugin optimizer for device_type GPU is enabled.\n"
     ]
    },
    {
     "name": "stdout",
     "output_type": "stream",
     "text": [
      "2/2 [==============================] - ETA: 0s - loss: 2.9679 - accuracy: 0.0833"
     ]
    },
    {
     "name": "stderr",
     "output_type": "stream",
     "text": [
      "2023-05-11 19:41:24.356212: I tensorflow/core/grappler/optimizers/custom_graph_optimizer_registry.cc:113] Plugin optimizer for device_type GPU is enabled.\n"
     ]
    },
    {
     "name": "stdout",
     "output_type": "stream",
     "text": [
      "2/2 [==============================] - 2s 798ms/step - loss: 2.9679 - accuracy: 0.0833 - val_loss: 2.7898 - val_accuracy: 0.1367\n",
      "Epoch 2/50\n",
      "2/2 [==============================] - 0s 351ms/step - loss: 2.9392 - accuracy: 0.1167 - val_loss: 2.7898 - val_accuracy: 0.1400\n",
      "Epoch 3/50\n",
      "2/2 [==============================] - 0s 284ms/step - loss: 2.9346 - accuracy: 0.1333 - val_loss: 2.7897 - val_accuracy: 0.1433\n",
      "Epoch 4/50\n",
      "2/2 [==============================] - 0s 206ms/step - loss: 2.7887 - accuracy: 0.1167 - val_loss: 2.7895 - val_accuracy: 0.1383\n",
      "Epoch 5/50\n",
      "2/2 [==============================] - 0s 201ms/step - loss: 2.8660 - accuracy: 0.1000 - val_loss: 2.7893 - val_accuracy: 0.1367\n",
      "Epoch 6/50\n",
      "2/2 [==============================] - 0s 216ms/step - loss: 2.9740 - accuracy: 0.0333 - val_loss: 2.7892 - val_accuracy: 0.1300\n",
      "Epoch 7/50\n",
      "2/2 [==============================] - 0s 199ms/step - loss: 2.9021 - accuracy: 0.0500 - val_loss: 2.7890 - val_accuracy: 0.1233\n",
      "trials for model 3: 0.11388888955116272\n",
      "Epoch 1/50\n"
     ]
    },
    {
     "name": "stderr",
     "output_type": "stream",
     "text": [
      "2023-05-11 19:41:27.108966: I tensorflow/core/grappler/optimizers/custom_graph_optimizer_registry.cc:113] Plugin optimizer for device_type GPU is enabled.\n"
     ]
    },
    {
     "name": "stdout",
     "output_type": "stream",
     "text": [
      "2/2 [==============================] - ETA: 0s - loss: 3.3868 - accuracy: 0.0500"
     ]
    },
    {
     "name": "stderr",
     "output_type": "stream",
     "text": [
      "2023-05-11 19:41:27.890307: I tensorflow/core/grappler/optimizers/custom_graph_optimizer_registry.cc:113] Plugin optimizer for device_type GPU is enabled.\n"
     ]
    },
    {
     "name": "stdout",
     "output_type": "stream",
     "text": [
      "2/2 [==============================] - 2s 942ms/step - loss: 3.3868 - accuracy: 0.0500 - val_loss: 2.8228 - val_accuracy: 0.0517\n",
      "Epoch 2/50\n",
      "2/2 [==============================] - 0s 258ms/step - loss: 3.3033 - accuracy: 0.0333 - val_loss: 2.8211 - val_accuracy: 0.0517\n",
      "Epoch 3/50\n",
      "2/2 [==============================] - 0s 287ms/step - loss: 3.3272 - accuracy: 0.0500 - val_loss: 2.8193 - val_accuracy: 0.0500\n",
      "Epoch 4/50\n",
      "2/2 [==============================] - 0s 289ms/step - loss: 3.3335 - accuracy: 0.0167 - val_loss: 2.8177 - val_accuracy: 0.0533\n",
      "Epoch 5/50\n",
      "2/2 [==============================] - 0s 258ms/step - loss: 3.3685 - accuracy: 0.0333 - val_loss: 2.8160 - val_accuracy: 0.0500\n",
      "Epoch 6/50\n",
      "2/2 [==============================] - 0s 384ms/step - loss: 3.3032 - accuracy: 0.0667 - val_loss: 2.8142 - val_accuracy: 0.0533\n",
      "Epoch 7/50\n",
      "2/2 [==============================] - 0s 225ms/step - loss: 3.2862 - accuracy: 0.0667 - val_loss: 2.8125 - val_accuracy: 0.0600\n",
      "Epoch 8/50\n",
      "2/2 [==============================] - 0s 215ms/step - loss: 3.2053 - accuracy: 0.0333 - val_loss: 2.8108 - val_accuracy: 0.0683\n",
      "Epoch 9/50\n",
      "2/2 [==============================] - 0s 219ms/step - loss: 3.1316 - accuracy: 0.0500 - val_loss: 2.8092 - val_accuracy: 0.0717\n",
      "Epoch 10/50\n",
      "2/2 [==============================] - 0s 237ms/step - loss: 3.3162 - accuracy: 0.0667 - val_loss: 2.8077 - val_accuracy: 0.0683\n",
      "Epoch 11/50\n",
      "2/2 [==============================] - 0s 200ms/step - loss: 3.2011 - accuracy: 0.0333 - val_loss: 2.8062 - val_accuracy: 0.0683\n",
      "Epoch 12/50\n",
      "2/2 [==============================] - 0s 208ms/step - loss: 3.1718 - accuracy: 0.0667 - val_loss: 2.8048 - val_accuracy: 0.0667\n",
      "Epoch 13/50\n",
      "2/2 [==============================] - 0s 199ms/step - loss: 3.2171 - accuracy: 0.0833 - val_loss: 2.8034 - val_accuracy: 0.0700\n",
      "Epoch 1/50\n"
     ]
    },
    {
     "name": "stderr",
     "output_type": "stream",
     "text": [
      "2023-05-11 19:41:33.182656: I tensorflow/core/grappler/optimizers/custom_graph_optimizer_registry.cc:113] Plugin optimizer for device_type GPU is enabled.\n"
     ]
    },
    {
     "name": "stdout",
     "output_type": "stream",
     "text": [
      "2/2 [==============================] - ETA: 0s - loss: 3.2504 - accuracy: 0.0333"
     ]
    },
    {
     "name": "stderr",
     "output_type": "stream",
     "text": [
      "2023-05-11 19:41:34.238838: I tensorflow/core/grappler/optimizers/custom_graph_optimizer_registry.cc:113] Plugin optimizer for device_type GPU is enabled.\n"
     ]
    },
    {
     "name": "stdout",
     "output_type": "stream",
     "text": [
      "2/2 [==============================] - 2s 961ms/step - loss: 3.2504 - accuracy: 0.0333 - val_loss: 2.7921 - val_accuracy: 0.1483\n",
      "Epoch 2/50\n",
      "2/2 [==============================] - 0s 363ms/step - loss: 3.2852 - accuracy: 0.0333 - val_loss: 2.7894 - val_accuracy: 0.1533\n",
      "Epoch 3/50\n",
      "2/2 [==============================] - 0s 287ms/step - loss: 3.2522 - accuracy: 0.0333 - val_loss: 2.7867 - val_accuracy: 0.1567\n",
      "Epoch 4/50\n",
      "2/2 [==============================] - 0s 258ms/step - loss: 3.1923 - accuracy: 0.0333 - val_loss: 2.7841 - val_accuracy: 0.1583\n",
      "Epoch 5/50\n",
      "2/2 [==============================] - 0s 233ms/step - loss: 3.2178 - accuracy: 0.0667 - val_loss: 2.7816 - val_accuracy: 0.1600\n",
      "Epoch 6/50\n",
      "2/2 [==============================] - 0s 230ms/step - loss: 3.1369 - accuracy: 0.0500 - val_loss: 2.7791 - val_accuracy: 0.1600\n",
      "Epoch 7/50\n",
      "2/2 [==============================] - 0s 208ms/step - loss: 3.1804 - accuracy: 0.0500 - val_loss: 2.7765 - val_accuracy: 0.1550\n",
      "Epoch 8/50\n",
      "2/2 [==============================] - 0s 220ms/step - loss: 3.2585 - accuracy: 0.0500 - val_loss: 2.7738 - val_accuracy: 0.1533\n",
      "Epoch 9/50\n",
      "2/2 [==============================] - 0s 234ms/step - loss: 3.1160 - accuracy: 0.0167 - val_loss: 2.7711 - val_accuracy: 0.1600\n",
      "Epoch 1/50\n"
     ]
    },
    {
     "name": "stderr",
     "output_type": "stream",
     "text": [
      "2023-05-11 19:41:37.949113: I tensorflow/core/grappler/optimizers/custom_graph_optimizer_registry.cc:113] Plugin optimizer for device_type GPU is enabled.\n"
     ]
    },
    {
     "name": "stdout",
     "output_type": "stream",
     "text": [
      "2/2 [==============================] - ETA: 0s - loss: 2.9594 - accuracy: 0.1000"
     ]
    },
    {
     "name": "stderr",
     "output_type": "stream",
     "text": [
      "2023-05-11 19:41:39.281971: I tensorflow/core/grappler/optimizers/custom_graph_optimizer_registry.cc:113] Plugin optimizer for device_type GPU is enabled.\n"
     ]
    },
    {
     "name": "stdout",
     "output_type": "stream",
     "text": [
      "2/2 [==============================] - 2s 1s/step - loss: 2.9594 - accuracy: 0.1000 - val_loss: 2.7913 - val_accuracy: 0.1183\n",
      "Epoch 2/50\n",
      "2/2 [==============================] - 1s 347ms/step - loss: 2.9447 - accuracy: 0.0667 - val_loss: 2.7938 - val_accuracy: 0.1067\n",
      "Epoch 3/50\n",
      "2/2 [==============================] - 0s 232ms/step - loss: 2.8142 - accuracy: 0.0833 - val_loss: 2.7963 - val_accuracy: 0.0900\n",
      "Epoch 4/50\n",
      "2/2 [==============================] - 0s 211ms/step - loss: 2.7872 - accuracy: 0.1333 - val_loss: 2.7988 - val_accuracy: 0.0700\n",
      "Epoch 5/50\n",
      "2/2 [==============================] - 0s 210ms/step - loss: 2.8950 - accuracy: 0.1000 - val_loss: 2.8011 - val_accuracy: 0.0667\n",
      "trials for model 4: 0.09888888895511627\n",
      "Epoch 1/50\n"
     ]
    },
    {
     "name": "stderr",
     "output_type": "stream",
     "text": [
      "2023-05-11 19:41:42.214129: I tensorflow/core/grappler/optimizers/custom_graph_optimizer_registry.cc:113] Plugin optimizer for device_type GPU is enabled.\n"
     ]
    },
    {
     "name": "stdout",
     "output_type": "stream",
     "text": [
      "2/2 [==============================] - ETA: 0s - loss: 3.3775 - accuracy: 0.0167    "
     ]
    },
    {
     "name": "stderr",
     "output_type": "stream",
     "text": [
      "2023-05-11 19:41:44.832830: I tensorflow/core/grappler/optimizers/custom_graph_optimizer_registry.cc:113] Plugin optimizer for device_type GPU is enabled.\n"
     ]
    },
    {
     "name": "stdout",
     "output_type": "stream",
     "text": [
      "2/2 [==============================] - 4s 3s/step - loss: 3.3775 - accuracy: 0.0167 - val_loss: 2.8093 - val_accuracy: 0.0633\n",
      "Epoch 2/50\n",
      "2/2 [==============================] - 1s 357ms/step - loss: 3.4272 - accuracy: 0.0333 - val_loss: 2.8061 - val_accuracy: 0.0850\n",
      "Epoch 3/50\n",
      "2/2 [==============================] - 1s 414ms/step - loss: 3.3735 - accuracy: 0.0667 - val_loss: 2.8043 - val_accuracy: 0.0850\n",
      "Epoch 4/50\n",
      "2/2 [==============================] - 0s 338ms/step - loss: 3.4007 - accuracy: 0.0833 - val_loss: 2.8033 - val_accuracy: 0.0817\n",
      "Epoch 5/50\n",
      "2/2 [==============================] - 0s 279ms/step - loss: 3.2917 - accuracy: 0.0500 - val_loss: 2.8025 - val_accuracy: 0.0867\n",
      "Epoch 6/50\n",
      "2/2 [==============================] - 0s 301ms/step - loss: 3.3335 - accuracy: 0.0167 - val_loss: 2.8016 - val_accuracy: 0.0817\n",
      "Epoch 7/50\n",
      "2/2 [==============================] - 0s 246ms/step - loss: 3.4027 - accuracy: 0.0167 - val_loss: 2.8010 - val_accuracy: 0.0800\n",
      "Epoch 8/50\n",
      "2/2 [==============================] - 0s 260ms/step - loss: 3.3952 - accuracy: 0.0500 - val_loss: 2.8005 - val_accuracy: 0.0767\n",
      "Epoch 9/50\n",
      "2/2 [==============================] - 0s 368ms/step - loss: 3.3075 - accuracy: 0.0333 - val_loss: 2.8002 - val_accuracy: 0.0717\n",
      "Epoch 1/50\n"
     ]
    },
    {
     "name": "stderr",
     "output_type": "stream",
     "text": [
      "2023-05-11 19:41:49.875905: I tensorflow/core/grappler/optimizers/custom_graph_optimizer_registry.cc:113] Plugin optimizer for device_type GPU is enabled.\n"
     ]
    },
    {
     "name": "stdout",
     "output_type": "stream",
     "text": [
      "2/2 [==============================] - ETA: 0s - loss: 3.6730 - accuracy: 0.0500"
     ]
    },
    {
     "name": "stderr",
     "output_type": "stream",
     "text": [
      "2023-05-11 19:41:50.994459: I tensorflow/core/grappler/optimizers/custom_graph_optimizer_registry.cc:113] Plugin optimizer for device_type GPU is enabled.\n"
     ]
    },
    {
     "name": "stdout",
     "output_type": "stream",
     "text": [
      "2/2 [==============================] - 2s 1s/step - loss: 3.6730 - accuracy: 0.0500 - val_loss: 2.8183 - val_accuracy: 0.0017\n",
      "Epoch 2/50\n",
      "2/2 [==============================] - 0s 320ms/step - loss: 3.7524 - accuracy: 0.0167 - val_loss: 2.8182 - val_accuracy: 0.0000e+00\n",
      "Epoch 3/50\n",
      "2/2 [==============================] - 0s 276ms/step - loss: 3.6725 - accuracy: 0.0167 - val_loss: 2.8193 - val_accuracy: 0.0000e+00\n",
      "Epoch 4/50\n",
      "2/2 [==============================] - 0s 333ms/step - loss: 3.7049 - accuracy: 0.0333 - val_loss: 2.8210 - val_accuracy: 0.0000e+00\n",
      "Epoch 5/50\n",
      "2/2 [==============================] - 0s 270ms/step - loss: 3.7335 - accuracy: 0.0000e+00 - val_loss: 2.8227 - val_accuracy: 0.0000e+00\n",
      "Epoch 1/50\n"
     ]
    },
    {
     "name": "stderr",
     "output_type": "stream",
     "text": [
      "2023-05-11 19:41:54.368878: I tensorflow/core/grappler/optimizers/custom_graph_optimizer_registry.cc:113] Plugin optimizer for device_type GPU is enabled.\n"
     ]
    },
    {
     "name": "stdout",
     "output_type": "stream",
     "text": [
      "2/2 [==============================] - ETA: 0s - loss: 3.6456 - accuracy: 0.0833"
     ]
    },
    {
     "name": "stderr",
     "output_type": "stream",
     "text": [
      "2023-05-11 19:41:55.493979: I tensorflow/core/grappler/optimizers/custom_graph_optimizer_registry.cc:113] Plugin optimizer for device_type GPU is enabled.\n"
     ]
    },
    {
     "name": "stdout",
     "output_type": "stream",
     "text": [
      "2/2 [==============================] - 2s 1s/step - loss: 3.6456 - accuracy: 0.0833 - val_loss: 2.8124 - val_accuracy: 0.0367\n",
      "Epoch 2/50\n",
      "2/2 [==============================] - 1s 392ms/step - loss: 3.5541 - accuracy: 0.1167 - val_loss: 2.8115 - val_accuracy: 0.0317\n",
      "Epoch 3/50\n",
      "2/2 [==============================] - 0s 287ms/step - loss: 3.6162 - accuracy: 0.1167 - val_loss: 2.8109 - val_accuracy: 0.0433\n",
      "Epoch 4/50\n",
      "2/2 [==============================] - 1s 398ms/step - loss: 3.5650 - accuracy: 0.1167 - val_loss: 2.8102 - val_accuracy: 0.0633\n",
      "Epoch 5/50\n",
      "2/2 [==============================] - 0s 250ms/step - loss: 3.5158 - accuracy: 0.0833 - val_loss: 2.8093 - val_accuracy: 0.0817\n",
      "Epoch 6/50\n",
      "2/2 [==============================] - 0s 281ms/step - loss: 3.5404 - accuracy: 0.1000 - val_loss: 2.8084 - val_accuracy: 0.1017\n",
      "Epoch 7/50\n",
      "2/2 [==============================] - 0s 311ms/step - loss: 3.5996 - accuracy: 0.0833 - val_loss: 2.8075 - val_accuracy: 0.1300\n",
      "Epoch 8/50\n",
      "2/2 [==============================] - 0s 232ms/step - loss: 3.5656 - accuracy: 0.1000 - val_loss: 2.8065 - val_accuracy: 0.1367\n",
      "Epoch 9/50\n",
      "2/2 [==============================] - 0s 379ms/step - loss: 3.5281 - accuracy: 0.0833 - val_loss: 2.8057 - val_accuracy: 0.1400\n",
      "Epoch 10/50\n",
      "2/2 [==============================] - 0s 282ms/step - loss: 3.6434 - accuracy: 0.1167 - val_loss: 2.8050 - val_accuracy: 0.1433\n",
      "Epoch 11/50\n",
      "2/2 [==============================] - 0s 210ms/step - loss: 3.5594 - accuracy: 0.0833 - val_loss: 2.8044 - val_accuracy: 0.1433\n",
      "Epoch 12/50\n",
      "2/2 [==============================] - 0s 178ms/step - loss: 3.4247 - accuracy: 0.1000 - val_loss: 2.8038 - val_accuracy: 0.1433\n",
      "Epoch 13/50\n",
      "2/2 [==============================] - 0s 232ms/step - loss: 3.4786 - accuracy: 0.0833 - val_loss: 2.8032 - val_accuracy: 0.1450\n",
      "Epoch 14/50\n",
      "2/2 [==============================] - 0s 219ms/step - loss: 3.4044 - accuracy: 0.1000 - val_loss: 2.8027 - val_accuracy: 0.1450\n",
      "Epoch 15/50\n",
      "2/2 [==============================] - 0s 225ms/step - loss: 3.4092 - accuracy: 0.1167 - val_loss: 2.8023 - val_accuracy: 0.1433\n",
      "Epoch 16/50\n",
      "2/2 [==============================] - 0s 186ms/step - loss: 3.4285 - accuracy: 0.1000 - val_loss: 2.8019 - val_accuracy: 0.1433\n",
      "Epoch 17/50\n",
      "2/2 [==============================] - 0s 321ms/step - loss: 3.4410 - accuracy: 0.1000 - val_loss: 2.8016 - val_accuracy: 0.1433\n",
      "trials for model 5: 0.0716666653752327\n",
      "Epoch 1/50\n"
     ]
    },
    {
     "name": "stderr",
     "output_type": "stream",
     "text": [
      "2023-05-11 19:42:02.757012: I tensorflow/core/grappler/optimizers/custom_graph_optimizer_registry.cc:113] Plugin optimizer for device_type GPU is enabled.\n"
     ]
    },
    {
     "name": "stdout",
     "output_type": "stream",
     "text": [
      "2/2 [==============================] - ETA: 0s - loss: 2.8428 - accuracy: 0.1000"
     ]
    },
    {
     "name": "stderr",
     "output_type": "stream",
     "text": [
      "2023-05-11 19:42:04.188408: I tensorflow/core/grappler/optimizers/custom_graph_optimizer_registry.cc:113] Plugin optimizer for device_type GPU is enabled.\n"
     ]
    },
    {
     "name": "stdout",
     "output_type": "stream",
     "text": [
      "2/2 [==============================] - 3s 1s/step - loss: 2.8428 - accuracy: 0.1000 - val_loss: 2.7950 - val_accuracy: 0.1200\n",
      "Epoch 2/50\n",
      "2/2 [==============================] - 1s 456ms/step - loss: 2.8977 - accuracy: 0.1167 - val_loss: 2.7950 - val_accuracy: 0.1050\n",
      "Epoch 3/50\n",
      "2/2 [==============================] - 1s 452ms/step - loss: 2.8719 - accuracy: 0.1167 - val_loss: 2.7956 - val_accuracy: 0.1117\n",
      "Epoch 4/50\n",
      "2/2 [==============================] - 0s 344ms/step - loss: 2.8349 - accuracy: 0.1500 - val_loss: 2.7964 - val_accuracy: 0.1100\n",
      "Epoch 5/50\n",
      "2/2 [==============================] - 0s 291ms/step - loss: 2.7696 - accuracy: 0.1500 - val_loss: 2.7970 - val_accuracy: 0.0917\n",
      "Epoch 1/50\n"
     ]
    },
    {
     "name": "stderr",
     "output_type": "stream",
     "text": [
      "2023-05-11 19:42:08.095129: I tensorflow/core/grappler/optimizers/custom_graph_optimizer_registry.cc:113] Plugin optimizer for device_type GPU is enabled.\n"
     ]
    },
    {
     "name": "stdout",
     "output_type": "stream",
     "text": [
      "2/2 [==============================] - ETA: 0s - loss: 3.3954 - accuracy: 0.1000"
     ]
    },
    {
     "name": "stderr",
     "output_type": "stream",
     "text": [
      "2023-05-11 19:42:09.684186: I tensorflow/core/grappler/optimizers/custom_graph_optimizer_registry.cc:113] Plugin optimizer for device_type GPU is enabled.\n"
     ]
    },
    {
     "name": "stdout",
     "output_type": "stream",
     "text": [
      "2/2 [==============================] - 3s 1s/step - loss: 3.3954 - accuracy: 0.1000 - val_loss: 2.8099 - val_accuracy: 0.0783\n",
      "Epoch 2/50\n",
      "2/2 [==============================] - 1s 508ms/step - loss: 3.5213 - accuracy: 0.0333 - val_loss: 2.8088 - val_accuracy: 0.0900\n",
      "Epoch 3/50\n",
      "2/2 [==============================] - 0s 324ms/step - loss: 3.4083 - accuracy: 0.0833 - val_loss: 2.8079 - val_accuracy: 0.0850\n",
      "Epoch 4/50\n",
      "2/2 [==============================] - 0s 271ms/step - loss: 3.4585 - accuracy: 0.0333 - val_loss: 2.8067 - val_accuracy: 0.0783\n",
      "Epoch 5/50\n",
      "2/2 [==============================] - 0s 323ms/step - loss: 3.4165 - accuracy: 0.0500 - val_loss: 2.8053 - val_accuracy: 0.0700\n",
      "Epoch 6/50\n",
      "2/2 [==============================] - 1s 436ms/step - loss: 3.4513 - accuracy: 0.0333 - val_loss: 2.8036 - val_accuracy: 0.0717\n",
      "Epoch 1/50\n"
     ]
    },
    {
     "name": "stderr",
     "output_type": "stream",
     "text": [
      "2023-05-11 19:42:14.477440: I tensorflow/core/grappler/optimizers/custom_graph_optimizer_registry.cc:113] Plugin optimizer for device_type GPU is enabled.\n"
     ]
    },
    {
     "name": "stdout",
     "output_type": "stream",
     "text": [
      "2/2 [==============================] - ETA: 0s - loss: 3.3955 - accuracy: 0.0333"
     ]
    },
    {
     "name": "stderr",
     "output_type": "stream",
     "text": [
      "2023-05-11 19:42:16.265047: I tensorflow/core/grappler/optimizers/custom_graph_optimizer_registry.cc:113] Plugin optimizer for device_type GPU is enabled.\n"
     ]
    },
    {
     "name": "stdout",
     "output_type": "stream",
     "text": [
      "2/2 [==============================] - 4s 2s/step - loss: 3.3955 - accuracy: 0.0333 - val_loss: 2.8060 - val_accuracy: 0.0617\n",
      "Epoch 2/50\n",
      "2/2 [==============================] - 1s 765ms/step - loss: 3.3467 - accuracy: 0.0167 - val_loss: 2.8052 - val_accuracy: 0.0683\n",
      "Epoch 3/50\n",
      "2/2 [==============================] - 0s 297ms/step - loss: 3.3072 - accuracy: 0.0667 - val_loss: 2.8040 - val_accuracy: 0.0733\n",
      "Epoch 4/50\n",
      "2/2 [==============================] - 0s 353ms/step - loss: 3.2545 - accuracy: 0.0667 - val_loss: 2.8026 - val_accuracy: 0.0767\n",
      "Epoch 5/50\n",
      "2/2 [==============================] - 0s 317ms/step - loss: 3.4002 - accuracy: 0.0500 - val_loss: 2.8013 - val_accuracy: 0.0800\n",
      "Epoch 6/50\n",
      "2/2 [==============================] - 0s 231ms/step - loss: 3.2958 - accuracy: 0.0333 - val_loss: 2.8000 - val_accuracy: 0.0933\n",
      "Epoch 7/50\n",
      "2/2 [==============================] - 0s 254ms/step - loss: 3.3228 - accuracy: 0.0500 - val_loss: 2.7987 - val_accuracy: 0.1000\n",
      "Epoch 8/50\n",
      "2/2 [==============================] - 0s 220ms/step - loss: 3.3941 - accuracy: 0.0333 - val_loss: 2.7974 - val_accuracy: 0.1133\n",
      "Epoch 9/50\n",
      "2/2 [==============================] - 0s 221ms/step - loss: 3.3299 - accuracy: 0.0500 - val_loss: 2.7961 - val_accuracy: 0.1283\n",
      "Epoch 10/50\n",
      "2/2 [==============================] - 1s 371ms/step - loss: 3.3828 - accuracy: 0.0500 - val_loss: 2.7949 - val_accuracy: 0.1350\n",
      "Epoch 11/50\n",
      "2/2 [==============================] - 0s 293ms/step - loss: 3.3049 - accuracy: 0.0500 - val_loss: 2.7937 - val_accuracy: 0.1333\n",
      "Epoch 12/50\n",
      "2/2 [==============================] - 0s 209ms/step - loss: 3.3383 - accuracy: 0.0167 - val_loss: 2.7927 - val_accuracy: 0.1383\n",
      "Epoch 13/50\n",
      "2/2 [==============================] - 0s 284ms/step - loss: 3.2786 - accuracy: 0.0333 - val_loss: 2.7917 - val_accuracy: 0.1467\n",
      "Epoch 14/50\n",
      "2/2 [==============================] - 0s 281ms/step - loss: 3.2676 - accuracy: 0.0333 - val_loss: 2.7907 - val_accuracy: 0.1467\n",
      "Epoch 15/50\n",
      "2/2 [==============================] - 0s 222ms/step - loss: 3.2443 - accuracy: 0.0333 - val_loss: 2.7898 - val_accuracy: 0.1450\n",
      "Epoch 16/50\n",
      "2/2 [==============================] - 0s 223ms/step - loss: 3.2994 - accuracy: 0.0333 - val_loss: 2.7889 - val_accuracy: 0.1450\n",
      "Epoch 17/50\n",
      "2/2 [==============================] - 0s 267ms/step - loss: 3.2594 - accuracy: 0.0667 - val_loss: 2.7881 - val_accuracy: 0.1483\n",
      "Epoch 18/50\n",
      "2/2 [==============================] - 0s 218ms/step - loss: 3.2469 - accuracy: 0.0333 - val_loss: 2.7873 - val_accuracy: 0.1500\n",
      "Epoch 19/50\n",
      "2/2 [==============================] - 0s 213ms/step - loss: 3.2946 - accuracy: 0.0500 - val_loss: 2.7865 - val_accuracy: 0.1500\n",
      "Epoch 20/50\n",
      "2/2 [==============================] - 0s 220ms/step - loss: 3.3157 - accuracy: 0.0500 - val_loss: 2.7857 - val_accuracy: 0.1500\n",
      "Epoch 21/50\n",
      "2/2 [==============================] - 0s 221ms/step - loss: 3.3638 - accuracy: 0.0500 - val_loss: 2.7849 - val_accuracy: 0.1467\n",
      "Epoch 22/50\n",
      "2/2 [==============================] - 0s 202ms/step - loss: 3.2588 - accuracy: 0.0500 - val_loss: 2.7841 - val_accuracy: 0.1467\n",
      "trials for model 6: 0.10333333661158879\n",
      "Epoch 1/50\n"
     ]
    },
    {
     "name": "stderr",
     "output_type": "stream",
     "text": [
      "2023-05-11 19:42:25.359499: I tensorflow/core/grappler/optimizers/custom_graph_optimizer_registry.cc:113] Plugin optimizer for device_type GPU is enabled.\n"
     ]
    },
    {
     "name": "stdout",
     "output_type": "stream",
     "text": [
      "2/2 [==============================] - ETA: 0s - loss: 3.0634 - accuracy: 0.0167    "
     ]
    },
    {
     "name": "stderr",
     "output_type": "stream",
     "text": [
      "2023-05-11 19:42:26.727595: I tensorflow/core/grappler/optimizers/custom_graph_optimizer_registry.cc:113] Plugin optimizer for device_type GPU is enabled.\n"
     ]
    },
    {
     "name": "stdout",
     "output_type": "stream",
     "text": [
      "2/2 [==============================] - 3s 1s/step - loss: 3.0634 - accuracy: 0.0167 - val_loss: 2.8021 - val_accuracy: 0.0633\n",
      "Epoch 2/50\n",
      "2/2 [==============================] - 1s 382ms/step - loss: 3.0878 - accuracy: 0.0667 - val_loss: 2.8004 - val_accuracy: 0.1083\n",
      "Epoch 3/50\n",
      "2/2 [==============================] - 0s 384ms/step - loss: 3.1012 - accuracy: 0.0667 - val_loss: 2.7983 - val_accuracy: 0.1267\n",
      "Epoch 4/50\n",
      "2/2 [==============================] - 1s 348ms/step - loss: 3.1573 - accuracy: 0.1000 - val_loss: 2.7958 - val_accuracy: 0.1400\n",
      "Epoch 5/50\n",
      "2/2 [==============================] - 0s 230ms/step - loss: 3.1256 - accuracy: 0.0500 - val_loss: 2.7930 - val_accuracy: 0.1533\n",
      "Epoch 6/50\n",
      "2/2 [==============================] - 0s 235ms/step - loss: 3.1003 - accuracy: 0.0667 - val_loss: 2.7903 - val_accuracy: 0.1500\n",
      "Epoch 7/50\n",
      "2/2 [==============================] - 0s 346ms/step - loss: 3.1308 - accuracy: 0.0500 - val_loss: 2.7874 - val_accuracy: 0.1317\n",
      "Epoch 8/50\n",
      "2/2 [==============================] - 0s 171ms/step - loss: 3.0916 - accuracy: 0.0333 - val_loss: 2.7845 - val_accuracy: 0.1133\n",
      "Epoch 9/50\n",
      "2/2 [==============================] - 0s 165ms/step - loss: 3.0717 - accuracy: 0.0500 - val_loss: 2.7816 - val_accuracy: 0.1133\n",
      "Epoch 1/50\n"
     ]
    },
    {
     "name": "stderr",
     "output_type": "stream",
     "text": [
      "2023-05-11 19:42:31.439839: I tensorflow/core/grappler/optimizers/custom_graph_optimizer_registry.cc:113] Plugin optimizer for device_type GPU is enabled.\n"
     ]
    },
    {
     "name": "stdout",
     "output_type": "stream",
     "text": [
      "2/2 [==============================] - ETA: 0s - loss: 3.2993 - accuracy: 0.1500"
     ]
    },
    {
     "name": "stderr",
     "output_type": "stream",
     "text": [
      "2023-05-11 19:42:32.717868: I tensorflow/core/grappler/optimizers/custom_graph_optimizer_registry.cc:113] Plugin optimizer for device_type GPU is enabled.\n"
     ]
    },
    {
     "name": "stdout",
     "output_type": "stream",
     "text": [
      "2/2 [==============================] - 2s 1s/step - loss: 3.2993 - accuracy: 0.1500 - val_loss: 2.8044 - val_accuracy: 0.0333\n",
      "Epoch 2/50\n",
      "2/2 [==============================] - 0s 372ms/step - loss: 3.2087 - accuracy: 0.1500 - val_loss: 2.8024 - val_accuracy: 0.0783\n",
      "Epoch 3/50\n",
      "2/2 [==============================] - 0s 229ms/step - loss: 3.3535 - accuracy: 0.1167 - val_loss: 2.8010 - val_accuracy: 0.0850\n",
      "Epoch 4/50\n",
      "2/2 [==============================] - 0s 298ms/step - loss: 3.2208 - accuracy: 0.1167 - val_loss: 2.8003 - val_accuracy: 0.0783\n",
      "Epoch 5/50\n",
      "2/2 [==============================] - 0s 359ms/step - loss: 3.2911 - accuracy: 0.1167 - val_loss: 2.8003 - val_accuracy: 0.0800\n",
      "Epoch 6/50\n",
      "2/2 [==============================] - 0s 165ms/step - loss: 3.3364 - accuracy: 0.1333 - val_loss: 2.8008 - val_accuracy: 0.0767\n",
      "Epoch 7/50\n",
      "2/2 [==============================] - 0s 187ms/step - loss: 3.1783 - accuracy: 0.1500 - val_loss: 2.8019 - val_accuracy: 0.0633\n",
      "Epoch 1/50\n"
     ]
    },
    {
     "name": "stderr",
     "output_type": "stream",
     "text": [
      "2023-05-11 19:42:36.650103: I tensorflow/core/grappler/optimizers/custom_graph_optimizer_registry.cc:113] Plugin optimizer for device_type GPU is enabled.\n"
     ]
    },
    {
     "name": "stdout",
     "output_type": "stream",
     "text": [
      "2/2 [==============================] - ETA: 0s - loss: 3.3990 - accuracy: 0.0500"
     ]
    },
    {
     "name": "stderr",
     "output_type": "stream",
     "text": [
      "2023-05-11 19:42:38.043409: I tensorflow/core/grappler/optimizers/custom_graph_optimizer_registry.cc:113] Plugin optimizer for device_type GPU is enabled.\n"
     ]
    },
    {
     "name": "stdout",
     "output_type": "stream",
     "text": [
      "2/2 [==============================] - 3s 1s/step - loss: 3.3990 - accuracy: 0.0500 - val_loss: 2.7927 - val_accuracy: 0.1550\n",
      "Epoch 2/50\n",
      "2/2 [==============================] - 1s 387ms/step - loss: 3.1607 - accuracy: 0.0833 - val_loss: 2.7967 - val_accuracy: 0.1267\n",
      "Epoch 3/50\n",
      "2/2 [==============================] - 0s 311ms/step - loss: 3.1771 - accuracy: 0.0500 - val_loss: 2.8008 - val_accuracy: 0.0967\n",
      "Epoch 4/50\n",
      "2/2 [==============================] - 0s 277ms/step - loss: 3.2696 - accuracy: 0.0667 - val_loss: 2.8051 - val_accuracy: 0.0583\n",
      "Epoch 5/50\n",
      "2/2 [==============================] - 0s 316ms/step - loss: 3.1655 - accuracy: 0.0500 - val_loss: 2.8093 - val_accuracy: 0.0283\n",
      "trials for model 7: 0.06833333459993203\n",
      "Epoch 1/50\n"
     ]
    },
    {
     "name": "stderr",
     "output_type": "stream",
     "text": [
      "2023-05-11 19:42:41.382578: I tensorflow/core/grappler/optimizers/custom_graph_optimizer_registry.cc:113] Plugin optimizer for device_type GPU is enabled.\n"
     ]
    },
    {
     "name": "stdout",
     "output_type": "stream",
     "text": [
      "2/2 [==============================] - ETA: 0s - loss: 2.9720 - accuracy: 0.0333"
     ]
    },
    {
     "name": "stderr",
     "output_type": "stream",
     "text": [
      "2023-05-11 19:42:42.951725: I tensorflow/core/grappler/optimizers/custom_graph_optimizer_registry.cc:113] Plugin optimizer for device_type GPU is enabled.\n"
     ]
    },
    {
     "name": "stdout",
     "output_type": "stream",
     "text": [
      "2/2 [==============================] - 3s 1s/step - loss: 2.9720 - accuracy: 0.0333 - val_loss: 2.8029 - val_accuracy: 0.0217\n",
      "Epoch 2/50\n",
      "2/2 [==============================] - 1s 504ms/step - loss: 2.9741 - accuracy: 0.0333 - val_loss: 2.7988 - val_accuracy: 0.0517\n",
      "Epoch 3/50\n",
      "2/2 [==============================] - 0s 311ms/step - loss: 2.9651 - accuracy: 0.0500 - val_loss: 2.7956 - val_accuracy: 0.0800\n",
      "Epoch 4/50\n",
      "2/2 [==============================] - 0s 318ms/step - loss: 3.0076 - accuracy: 0.0833 - val_loss: 2.7928 - val_accuracy: 0.0933\n",
      "Epoch 5/50\n",
      "2/2 [==============================] - 0s 268ms/step - loss: 2.9243 - accuracy: 0.1000 - val_loss: 2.7904 - val_accuracy: 0.1233\n",
      "Epoch 6/50\n",
      "2/2 [==============================] - 0s 222ms/step - loss: 2.9442 - accuracy: 0.0833 - val_loss: 2.7883 - val_accuracy: 0.1367\n",
      "Epoch 7/50\n",
      "2/2 [==============================] - 0s 247ms/step - loss: 2.8972 - accuracy: 0.0500 - val_loss: 2.7866 - val_accuracy: 0.1383\n",
      "Epoch 8/50\n",
      "2/2 [==============================] - 0s 283ms/step - loss: 2.9209 - accuracy: 0.0500 - val_loss: 2.7852 - val_accuracy: 0.1433\n",
      "Epoch 9/50\n",
      "2/2 [==============================] - 0s 316ms/step - loss: 2.9348 - accuracy: 0.0667 - val_loss: 2.7839 - val_accuracy: 0.1383\n",
      "Epoch 10/50\n",
      "2/2 [==============================] - 0s 240ms/step - loss: 2.9538 - accuracy: 0.0667 - val_loss: 2.7827 - val_accuracy: 0.1400\n",
      "Epoch 11/50\n",
      "2/2 [==============================] - 0s 202ms/step - loss: 2.9148 - accuracy: 0.0333 - val_loss: 2.7815 - val_accuracy: 0.1317\n",
      "Epoch 12/50\n",
      "2/2 [==============================] - 0s 207ms/step - loss: 2.9021 - accuracy: 0.0500 - val_loss: 2.7802 - val_accuracy: 0.1250\n",
      "Epoch 1/50\n"
     ]
    },
    {
     "name": "stderr",
     "output_type": "stream",
     "text": [
      "2023-05-11 19:42:48.581412: I tensorflow/core/grappler/optimizers/custom_graph_optimizer_registry.cc:113] Plugin optimizer for device_type GPU is enabled.\n"
     ]
    },
    {
     "name": "stdout",
     "output_type": "stream",
     "text": [
      "2/2 [==============================] - ETA: 0s - loss: 3.1862 - accuracy: 0.0833"
     ]
    },
    {
     "name": "stderr",
     "output_type": "stream",
     "text": [
      "2023-05-11 19:42:50.317177: I tensorflow/core/grappler/optimizers/custom_graph_optimizer_registry.cc:113] Plugin optimizer for device_type GPU is enabled.\n"
     ]
    },
    {
     "name": "stdout",
     "output_type": "stream",
     "text": [
      "2/2 [==============================] - 3s 2s/step - loss: 3.1862 - accuracy: 0.0833 - val_loss: 2.8033 - val_accuracy: 0.0750\n",
      "Epoch 2/50\n",
      "2/2 [==============================] - 1s 414ms/step - loss: 3.2442 - accuracy: 0.0833 - val_loss: 2.8051 - val_accuracy: 0.0767\n",
      "Epoch 3/50\n",
      "2/2 [==============================] - 0s 281ms/step - loss: 3.2424 - accuracy: 0.0500 - val_loss: 2.8065 - val_accuracy: 0.0683\n",
      "Epoch 4/50\n",
      "2/2 [==============================] - 0s 273ms/step - loss: 3.3740 - accuracy: 0.1000 - val_loss: 2.8073 - val_accuracy: 0.0550\n",
      "Epoch 5/50\n",
      "2/2 [==============================] - 0s 295ms/step - loss: 3.2184 - accuracy: 0.0833 - val_loss: 2.8078 - val_accuracy: 0.0450\n",
      "Epoch 6/50\n",
      "2/2 [==============================] - 0s 212ms/step - loss: 3.2707 - accuracy: 0.0500 - val_loss: 2.8080 - val_accuracy: 0.0433\n",
      "Epoch 1/50\n"
     ]
    },
    {
     "name": "stderr",
     "output_type": "stream",
     "text": [
      "2023-05-11 19:42:54.029426: I tensorflow/core/grappler/optimizers/custom_graph_optimizer_registry.cc:113] Plugin optimizer for device_type GPU is enabled.\n"
     ]
    },
    {
     "name": "stdout",
     "output_type": "stream",
     "text": [
      "2/2 [==============================] - ETA: 0s - loss: 3.0460 - accuracy: 0.1167"
     ]
    },
    {
     "name": "stderr",
     "output_type": "stream",
     "text": [
      "2023-05-11 19:42:55.522703: I tensorflow/core/grappler/optimizers/custom_graph_optimizer_registry.cc:113] Plugin optimizer for device_type GPU is enabled.\n"
     ]
    },
    {
     "name": "stdout",
     "output_type": "stream",
     "text": [
      "2/2 [==============================] - 3s 1s/step - loss: 3.0460 - accuracy: 0.1167 - val_loss: 2.7971 - val_accuracy: 0.1750\n",
      "Epoch 2/50\n",
      "2/2 [==============================] - 1s 492ms/step - loss: 3.1110 - accuracy: 0.0833 - val_loss: 2.7951 - val_accuracy: 0.2200\n",
      "Epoch 3/50\n",
      "2/2 [==============================] - 1s 437ms/step - loss: 3.1309 - accuracy: 0.1167 - val_loss: 2.7935 - val_accuracy: 0.1900\n",
      "Epoch 4/50\n",
      "2/2 [==============================] - 0s 451ms/step - loss: 2.9767 - accuracy: 0.1667 - val_loss: 2.7924 - val_accuracy: 0.1833\n",
      "Epoch 5/50\n",
      "2/2 [==============================] - 0s 310ms/step - loss: 3.0950 - accuracy: 0.1833 - val_loss: 2.7911 - val_accuracy: 0.1733\n",
      "Epoch 6/50\n",
      "2/2 [==============================] - 0s 247ms/step - loss: 2.9074 - accuracy: 0.1833 - val_loss: 2.7895 - val_accuracy: 0.1650\n",
      "trials for model 8: 0.11111111318071683\n",
      "Epoch 1/50\n"
     ]
    },
    {
     "name": "stderr",
     "output_type": "stream",
     "text": [
      "2023-05-11 19:43:00.344403: I tensorflow/core/grappler/optimizers/custom_graph_optimizer_registry.cc:113] Plugin optimizer for device_type GPU is enabled.\n"
     ]
    },
    {
     "name": "stdout",
     "output_type": "stream",
     "text": [
      "2/2 [==============================] - ETA: 0s - loss: 3.8336 - accuracy: 0.0000e+00"
     ]
    },
    {
     "name": "stderr",
     "output_type": "stream",
     "text": [
      "2023-05-11 19:43:01.847865: I tensorflow/core/grappler/optimizers/custom_graph_optimizer_registry.cc:113] Plugin optimizer for device_type GPU is enabled.\n"
     ]
    },
    {
     "name": "stdout",
     "output_type": "stream",
     "text": [
      "2/2 [==============================] - 3s 1s/step - loss: 3.8336 - accuracy: 0.0000e+00 - val_loss: 2.8148 - val_accuracy: 0.0350\n",
      "Epoch 2/50\n",
      "2/2 [==============================] - 1s 473ms/step - loss: 3.7623 - accuracy: 0.0167 - val_loss: 2.8135 - val_accuracy: 0.0217\n",
      "Epoch 3/50\n",
      "2/2 [==============================] - 0s 270ms/step - loss: 3.7928 - accuracy: 0.0167 - val_loss: 2.8126 - val_accuracy: 0.0083\n",
      "Epoch 4/50\n",
      "2/2 [==============================] - 0s 221ms/step - loss: 3.8660 - accuracy: 0.0333 - val_loss: 2.8116 - val_accuracy: 0.0050\n",
      "Epoch 5/50\n",
      "2/2 [==============================] - 0s 200ms/step - loss: 3.7857 - accuracy: 0.0167 - val_loss: 2.8108 - val_accuracy: 0.0017\n",
      "Epoch 1/50\n"
     ]
    },
    {
     "name": "stderr",
     "output_type": "stream",
     "text": [
      "2023-05-11 19:43:05.315229: I tensorflow/core/grappler/optimizers/custom_graph_optimizer_registry.cc:113] Plugin optimizer for device_type GPU is enabled.\n"
     ]
    },
    {
     "name": "stdout",
     "output_type": "stream",
     "text": [
      "2/2 [==============================] - ETA: 0s - loss: 3.3932 - accuracy: 0.0333"
     ]
    },
    {
     "name": "stderr",
     "output_type": "stream",
     "text": [
      "2023-05-11 19:43:06.861665: I tensorflow/core/grappler/optimizers/custom_graph_optimizer_registry.cc:113] Plugin optimizer for device_type GPU is enabled.\n"
     ]
    },
    {
     "name": "stdout",
     "output_type": "stream",
     "text": [
      "2/2 [==============================] - 3s 1s/step - loss: 3.3932 - accuracy: 0.0333 - val_loss: 2.7995 - val_accuracy: 0.0650\n",
      "Epoch 2/50\n",
      "2/2 [==============================] - 1s 340ms/step - loss: 3.3782 - accuracy: 0.0500 - val_loss: 2.8014 - val_accuracy: 0.0583\n",
      "Epoch 3/50\n",
      "2/2 [==============================] - 0s 388ms/step - loss: 3.3593 - accuracy: 0.0333 - val_loss: 2.8031 - val_accuracy: 0.0550\n",
      "Epoch 4/50\n",
      "2/2 [==============================] - 0s 231ms/step - loss: 3.3224 - accuracy: 0.0333 - val_loss: 2.8046 - val_accuracy: 0.0450\n",
      "Epoch 5/50\n",
      "2/2 [==============================] - 0s 198ms/step - loss: 3.3498 - accuracy: 0.0500 - val_loss: 2.8058 - val_accuracy: 0.0500\n",
      "Epoch 1/50\n"
     ]
    },
    {
     "name": "stderr",
     "output_type": "stream",
     "text": [
      "2023-05-11 19:43:10.079144: I tensorflow/core/grappler/optimizers/custom_graph_optimizer_registry.cc:113] Plugin optimizer for device_type GPU is enabled.\n"
     ]
    },
    {
     "name": "stdout",
     "output_type": "stream",
     "text": [
      "2/2 [==============================] - ETA: 0s - loss: 3.7391 - accuracy: 0.0167"
     ]
    },
    {
     "name": "stderr",
     "output_type": "stream",
     "text": [
      "2023-05-11 19:43:11.603661: I tensorflow/core/grappler/optimizers/custom_graph_optimizer_registry.cc:113] Plugin optimizer for device_type GPU is enabled.\n"
     ]
    },
    {
     "name": "stdout",
     "output_type": "stream",
     "text": [
      "2/2 [==============================] - 3s 1s/step - loss: 3.7391 - accuracy: 0.0167 - val_loss: 2.8102 - val_accuracy: 0.0517\n",
      "Epoch 2/50\n",
      "2/2 [==============================] - 1s 390ms/step - loss: 3.7350 - accuracy: 0.0000e+00 - val_loss: 2.8107 - val_accuracy: 0.0500\n",
      "Epoch 3/50\n",
      "2/2 [==============================] - 1s 322ms/step - loss: 3.5709 - accuracy: 0.0167 - val_loss: 2.8119 - val_accuracy: 0.0317\n",
      "Epoch 4/50\n",
      "2/2 [==============================] - 0s 307ms/step - loss: 3.6492 - accuracy: 0.0500 - val_loss: 2.8135 - val_accuracy: 0.0283\n",
      "Epoch 5/50\n",
      "2/2 [==============================] - 1s 305ms/step - loss: 3.6365 - accuracy: 0.0667 - val_loss: 2.8153 - val_accuracy: 0.0250\n",
      "trials for model 9: 0.025555555941537023\n",
      "Epoch 1/50\n"
     ]
    },
    {
     "name": "stderr",
     "output_type": "stream",
     "text": [
      "2023-05-11 19:43:15.423962: I tensorflow/core/grappler/optimizers/custom_graph_optimizer_registry.cc:113] Plugin optimizer for device_type GPU is enabled.\n"
     ]
    },
    {
     "name": "stdout",
     "output_type": "stream",
     "text": [
      "2/2 [==============================] - ETA: 0s - loss: 3.2584 - accuracy: 0.1000"
     ]
    },
    {
     "name": "stderr",
     "output_type": "stream",
     "text": [
      "2023-05-11 19:43:17.057878: I tensorflow/core/grappler/optimizers/custom_graph_optimizer_registry.cc:113] Plugin optimizer for device_type GPU is enabled.\n"
     ]
    },
    {
     "name": "stdout",
     "output_type": "stream",
     "text": [
      "2/2 [==============================] - 3s 2s/step - loss: 3.2584 - accuracy: 0.1000 - val_loss: 2.7957 - val_accuracy: 0.1100\n",
      "Epoch 2/50\n",
      "2/2 [==============================] - 1s 773ms/step - loss: 3.2858 - accuracy: 0.1167 - val_loss: 2.7952 - val_accuracy: 0.1267\n",
      "Epoch 3/50\n",
      "2/2 [==============================] - 1s 1s/step - loss: 3.1527 - accuracy: 0.1167 - val_loss: 2.7940 - val_accuracy: 0.1583\n",
      "Epoch 4/50\n",
      "2/2 [==============================] - 1s 789ms/step - loss: 3.1394 - accuracy: 0.1167 - val_loss: 2.7925 - val_accuracy: 0.1650\n",
      "Epoch 5/50\n",
      "2/2 [==============================] - 1s 570ms/step - loss: 2.9905 - accuracy: 0.0833 - val_loss: 2.7904 - val_accuracy: 0.1850\n",
      "Epoch 6/50\n",
      "2/2 [==============================] - 1s 600ms/step - loss: 3.1138 - accuracy: 0.1000 - val_loss: 2.7880 - val_accuracy: 0.1933\n",
      "Epoch 7/50\n",
      "2/2 [==============================] - 1s 552ms/step - loss: 2.8997 - accuracy: 0.1500 - val_loss: 2.7852 - val_accuracy: 0.1917\n",
      "Epoch 8/50\n",
      "2/2 [==============================] - 1s 642ms/step - loss: 2.9064 - accuracy: 0.1167 - val_loss: 2.7820 - val_accuracy: 0.1967\n",
      "Epoch 9/50\n",
      "2/2 [==============================] - 1s 589ms/step - loss: 2.8126 - accuracy: 0.1667 - val_loss: 2.7786 - val_accuracy: 0.1950\n",
      "Epoch 10/50\n",
      "2/2 [==============================] - 1s 561ms/step - loss: 2.8526 - accuracy: 0.1500 - val_loss: 2.7750 - val_accuracy: 0.1917\n",
      "Epoch 11/50\n",
      "2/2 [==============================] - 1s 605ms/step - loss: 2.7838 - accuracy: 0.2167 - val_loss: 2.7712 - val_accuracy: 0.1950\n",
      "Epoch 12/50\n",
      "2/2 [==============================] - 1s 596ms/step - loss: 2.6846 - accuracy: 0.1833 - val_loss: 2.7671 - val_accuracy: 0.2067\n",
      "Epoch 13/50\n",
      "2/2 [==============================] - 1s 610ms/step - loss: 2.6030 - accuracy: 0.2000 - val_loss: 2.7628 - val_accuracy: 0.2117\n",
      "Epoch 14/50\n",
      "2/2 [==============================] - 1s 604ms/step - loss: 2.7211 - accuracy: 0.2167 - val_loss: 2.7583 - val_accuracy: 0.2067\n",
      "Epoch 15/50\n",
      "2/2 [==============================] - 1s 546ms/step - loss: 2.6110 - accuracy: 0.2167 - val_loss: 2.7535 - val_accuracy: 0.2100\n",
      "Epoch 16/50\n",
      "2/2 [==============================] - 1s 570ms/step - loss: 2.5726 - accuracy: 0.2000 - val_loss: 2.7486 - val_accuracy: 0.2150\n",
      "Epoch 17/50\n",
      "2/2 [==============================] - 1s 634ms/step - loss: 2.4685 - accuracy: 0.2500 - val_loss: 2.7434 - val_accuracy: 0.2200\n",
      "Epoch 18/50\n",
      "2/2 [==============================] - 1s 651ms/step - loss: 2.4928 - accuracy: 0.2000 - val_loss: 2.7382 - val_accuracy: 0.2250\n",
      "Epoch 19/50\n",
      "2/2 [==============================] - 1s 596ms/step - loss: 2.5256 - accuracy: 0.1333 - val_loss: 2.7327 - val_accuracy: 0.2300\n",
      "Epoch 20/50\n",
      "2/2 [==============================] - 1s 581ms/step - loss: 2.4115 - accuracy: 0.2167 - val_loss: 2.7271 - val_accuracy: 0.2317\n",
      "Epoch 21/50\n",
      "2/2 [==============================] - 1s 584ms/step - loss: 2.4141 - accuracy: 0.2500 - val_loss: 2.7213 - val_accuracy: 0.2333\n",
      "Epoch 22/50\n",
      "2/2 [==============================] - 1s 580ms/step - loss: 2.4552 - accuracy: 0.1833 - val_loss: 2.7153 - val_accuracy: 0.2350\n",
      "Epoch 23/50\n",
      "2/2 [==============================] - 1s 566ms/step - loss: 2.3512 - accuracy: 0.1833 - val_loss: 2.7092 - val_accuracy: 0.2400\n",
      "Epoch 24/50\n",
      "2/2 [==============================] - 1s 559ms/step - loss: 2.2396 - accuracy: 0.2500 - val_loss: 2.7030 - val_accuracy: 0.2400\n",
      "Epoch 25/50\n",
      "2/2 [==============================] - 1s 596ms/step - loss: 2.2646 - accuracy: 0.3167 - val_loss: 2.6967 - val_accuracy: 0.2467\n",
      "Epoch 26/50\n",
      "2/2 [==============================] - 1s 642ms/step - loss: 2.3088 - accuracy: 0.2167 - val_loss: 2.6902 - val_accuracy: 0.2483\n",
      "Epoch 27/50\n",
      "2/2 [==============================] - 1s 576ms/step - loss: 2.2877 - accuracy: 0.2167 - val_loss: 2.6837 - val_accuracy: 0.2517\n",
      "Epoch 28/50\n",
      "2/2 [==============================] - 1s 578ms/step - loss: 2.1783 - accuracy: 0.2333 - val_loss: 2.6771 - val_accuracy: 0.2517\n",
      "Epoch 29/50\n",
      "2/2 [==============================] - 1s 575ms/step - loss: 2.1676 - accuracy: 0.3167 - val_loss: 2.6703 - val_accuracy: 0.2567\n",
      "Epoch 30/50\n",
      "2/2 [==============================] - 1s 550ms/step - loss: 2.2168 - accuracy: 0.3167 - val_loss: 2.6636 - val_accuracy: 0.2567\n",
      "Epoch 31/50\n",
      "2/2 [==============================] - 1s 569ms/step - loss: 2.1502 - accuracy: 0.2667 - val_loss: 2.6567 - val_accuracy: 0.2600\n",
      "Epoch 32/50\n",
      "2/2 [==============================] - 1s 575ms/step - loss: 2.0843 - accuracy: 0.3167 - val_loss: 2.6497 - val_accuracy: 0.2650\n",
      "Epoch 33/50\n",
      "2/2 [==============================] - 1s 619ms/step - loss: 2.0152 - accuracy: 0.3167 - val_loss: 2.6427 - val_accuracy: 0.2667\n",
      "Epoch 34/50\n",
      "2/2 [==============================] - 1s 577ms/step - loss: 2.0665 - accuracy: 0.2833 - val_loss: 2.6355 - val_accuracy: 0.2633\n",
      "Epoch 35/50\n",
      "2/2 [==============================] - 1s 556ms/step - loss: 2.0121 - accuracy: 0.3333 - val_loss: 2.6284 - val_accuracy: 0.2633\n",
      "Epoch 36/50\n",
      "2/2 [==============================] - 1s 612ms/step - loss: 2.0097 - accuracy: 0.2667 - val_loss: 2.6211 - val_accuracy: 0.2717\n",
      "Epoch 37/50\n",
      "2/2 [==============================] - 1s 609ms/step - loss: 2.0447 - accuracy: 0.2833 - val_loss: 2.6138 - val_accuracy: 0.2733\n",
      "Epoch 38/50\n",
      "2/2 [==============================] - 1s 569ms/step - loss: 1.9832 - accuracy: 0.3167 - val_loss: 2.6065 - val_accuracy: 0.2783\n",
      "Epoch 39/50\n",
      "2/2 [==============================] - 1s 572ms/step - loss: 1.9017 - accuracy: 0.4000 - val_loss: 2.5991 - val_accuracy: 0.2867\n",
      "Epoch 40/50\n",
      "2/2 [==============================] - 1s 650ms/step - loss: 1.8795 - accuracy: 0.3667 - val_loss: 2.5917 - val_accuracy: 0.2867\n",
      "Epoch 41/50\n",
      "2/2 [==============================] - 1s 591ms/step - loss: 1.9014 - accuracy: 0.3500 - val_loss: 2.5843 - val_accuracy: 0.2833\n",
      "Epoch 42/50\n",
      "2/2 [==============================] - 1s 625ms/step - loss: 1.9167 - accuracy: 0.3167 - val_loss: 2.5768 - val_accuracy: 0.2833\n",
      "Epoch 43/50\n",
      "2/2 [==============================] - 1s 659ms/step - loss: 1.8001 - accuracy: 0.4333 - val_loss: 2.5692 - val_accuracy: 0.2833\n",
      "Epoch 1/50\n"
     ]
    },
    {
     "name": "stderr",
     "output_type": "stream",
     "text": [
      "2023-05-11 19:43:49.226606: I tensorflow/core/grappler/optimizers/custom_graph_optimizer_registry.cc:113] Plugin optimizer for device_type GPU is enabled.\n"
     ]
    },
    {
     "name": "stdout",
     "output_type": "stream",
     "text": [
      "2/2 [==============================] - ETA: 0s - loss: 3.5257 - accuracy: 0.0333    "
     ]
    },
    {
     "name": "stderr",
     "output_type": "stream",
     "text": [
      "2023-05-11 19:43:50.846519: I tensorflow/core/grappler/optimizers/custom_graph_optimizer_registry.cc:113] Plugin optimizer for device_type GPU is enabled.\n"
     ]
    },
    {
     "name": "stdout",
     "output_type": "stream",
     "text": [
      "2/2 [==============================] - 5s 3s/step - loss: 3.5257 - accuracy: 0.0333 - val_loss: 2.8161 - val_accuracy: 0.0083\n",
      "Epoch 2/50\n",
      "2/2 [==============================] - 1s 902ms/step - loss: 3.5275 - accuracy: 0.0000e+00 - val_loss: 2.8123 - val_accuracy: 0.0150\n",
      "Epoch 3/50\n",
      "2/2 [==============================] - 1s 656ms/step - loss: 3.4861 - accuracy: 0.0500 - val_loss: 2.8090 - val_accuracy: 0.0250\n",
      "Epoch 4/50\n",
      "2/2 [==============================] - 1s 597ms/step - loss: 3.4989 - accuracy: 0.0667 - val_loss: 2.8060 - val_accuracy: 0.0300\n",
      "Epoch 5/50\n",
      "2/2 [==============================] - 1s 670ms/step - loss: 3.4909 - accuracy: 0.0333 - val_loss: 2.8033 - val_accuracy: 0.0450\n",
      "Epoch 6/50\n",
      "2/2 [==============================] - 1s 1s/step - loss: 3.3744 - accuracy: 0.0667 - val_loss: 2.8005 - val_accuracy: 0.0500\n",
      "Epoch 7/50\n",
      "2/2 [==============================] - 2s 1s/step - loss: 3.2726 - accuracy: 0.0333 - val_loss: 2.7976 - val_accuracy: 0.0717\n",
      "Epoch 8/50\n",
      "2/2 [==============================] - 1s 658ms/step - loss: 3.1250 - accuracy: 0.0833 - val_loss: 2.7945 - val_accuracy: 0.0867\n",
      "Epoch 9/50\n",
      "2/2 [==============================] - 1s 580ms/step - loss: 3.1257 - accuracy: 0.0667 - val_loss: 2.7912 - val_accuracy: 0.1017\n",
      "Epoch 10/50\n",
      "2/2 [==============================] - 1s 609ms/step - loss: 3.1120 - accuracy: 0.0500 - val_loss: 2.7877 - val_accuracy: 0.1117\n",
      "Epoch 11/50\n",
      "2/2 [==============================] - 1s 613ms/step - loss: 3.0186 - accuracy: 0.0667 - val_loss: 2.7839 - val_accuracy: 0.1417\n",
      "Epoch 12/50\n",
      "2/2 [==============================] - 1s 588ms/step - loss: 3.0279 - accuracy: 0.0833 - val_loss: 2.7798 - val_accuracy: 0.1667\n",
      "Epoch 13/50\n",
      "2/2 [==============================] - 1s 684ms/step - loss: 2.9270 - accuracy: 0.0667 - val_loss: 2.7755 - val_accuracy: 0.1883\n",
      "Epoch 14/50\n",
      "2/2 [==============================] - 1s 574ms/step - loss: 2.8257 - accuracy: 0.1167 - val_loss: 2.7709 - val_accuracy: 0.2033\n",
      "Epoch 15/50\n",
      "2/2 [==============================] - 1s 649ms/step - loss: 2.8104 - accuracy: 0.0667 - val_loss: 2.7660 - val_accuracy: 0.2117\n",
      "Epoch 16/50\n",
      "2/2 [==============================] - 1s 665ms/step - loss: 2.8847 - accuracy: 0.1000 - val_loss: 2.7608 - val_accuracy: 0.2100\n",
      "Epoch 17/50\n",
      "2/2 [==============================] - 1s 818ms/step - loss: 2.7381 - accuracy: 0.0833 - val_loss: 2.7554 - val_accuracy: 0.2117\n",
      "Epoch 18/50\n",
      "2/2 [==============================] - 1s 659ms/step - loss: 2.6392 - accuracy: 0.1333 - val_loss: 2.7497 - val_accuracy: 0.2150\n",
      "Epoch 19/50\n",
      "2/2 [==============================] - 1s 609ms/step - loss: 2.7313 - accuracy: 0.1000 - val_loss: 2.7437 - val_accuracy: 0.2167\n",
      "Epoch 20/50\n",
      "2/2 [==============================] - 1s 616ms/step - loss: 2.6825 - accuracy: 0.1667 - val_loss: 2.7376 - val_accuracy: 0.2183\n",
      "Epoch 21/50\n",
      "2/2 [==============================] - 1s 555ms/step - loss: 2.5655 - accuracy: 0.2333 - val_loss: 2.7312 - val_accuracy: 0.2183\n",
      "Epoch 22/50\n",
      "2/2 [==============================] - 1s 557ms/step - loss: 2.5267 - accuracy: 0.1833 - val_loss: 2.7246 - val_accuracy: 0.2183\n",
      "Epoch 23/50\n",
      "2/2 [==============================] - 1s 554ms/step - loss: 2.6462 - accuracy: 0.1333 - val_loss: 2.7178 - val_accuracy: 0.2217\n",
      "Epoch 24/50\n",
      "2/2 [==============================] - 1s 557ms/step - loss: 2.5327 - accuracy: 0.1833 - val_loss: 2.7110 - val_accuracy: 0.2233\n",
      "Epoch 25/50\n",
      "2/2 [==============================] - 1s 562ms/step - loss: 2.4039 - accuracy: 0.1833 - val_loss: 2.7038 - val_accuracy: 0.2250\n",
      "Epoch 26/50\n",
      "2/2 [==============================] - 1s 690ms/step - loss: 2.4049 - accuracy: 0.2333 - val_loss: 2.6966 - val_accuracy: 0.2250\n",
      "Epoch 27/50\n",
      "2/2 [==============================] - 1s 756ms/step - loss: 2.3650 - accuracy: 0.2167 - val_loss: 2.6892 - val_accuracy: 0.2233\n",
      "Epoch 28/50\n",
      "2/2 [==============================] - 1s 606ms/step - loss: 2.3270 - accuracy: 0.2833 - val_loss: 2.6817 - val_accuracy: 0.2233\n",
      "Epoch 29/50\n",
      "2/2 [==============================] - 1s 747ms/step - loss: 2.2996 - accuracy: 0.2667 - val_loss: 2.6741 - val_accuracy: 0.2200\n",
      "Epoch 1/50\n"
     ]
    },
    {
     "name": "stderr",
     "output_type": "stream",
     "text": [
      "2023-05-11 19:44:17.132542: I tensorflow/core/grappler/optimizers/custom_graph_optimizer_registry.cc:113] Plugin optimizer for device_type GPU is enabled.\n"
     ]
    },
    {
     "name": "stdout",
     "output_type": "stream",
     "text": [
      "2/2 [==============================] - ETA: 0s - loss: 3.2489 - accuracy: 0.0833"
     ]
    },
    {
     "name": "stderr",
     "output_type": "stream",
     "text": [
      "2023-05-11 19:44:18.623982: I tensorflow/core/grappler/optimizers/custom_graph_optimizer_registry.cc:113] Plugin optimizer for device_type GPU is enabled.\n"
     ]
    },
    {
     "name": "stdout",
     "output_type": "stream",
     "text": [
      "2/2 [==============================] - 3s 2s/step - loss: 3.2489 - accuracy: 0.0833 - val_loss: 2.8100 - val_accuracy: 0.0317\n",
      "Epoch 2/50\n",
      "2/2 [==============================] - 1s 724ms/step - loss: 3.0862 - accuracy: 0.0333 - val_loss: 2.8079 - val_accuracy: 0.0300\n",
      "Epoch 3/50\n",
      "2/2 [==============================] - 1s 690ms/step - loss: 3.1094 - accuracy: 0.1000 - val_loss: 2.8054 - val_accuracy: 0.0383\n",
      "Epoch 4/50\n",
      "2/2 [==============================] - 1s 960ms/step - loss: 3.1120 - accuracy: 0.1000 - val_loss: 2.8029 - val_accuracy: 0.0550\n",
      "Epoch 5/50\n",
      "2/2 [==============================] - 1s 925ms/step - loss: 3.0734 - accuracy: 0.1000 - val_loss: 2.8005 - val_accuracy: 0.0600\n",
      "Epoch 6/50\n",
      "2/2 [==============================] - 1s 1s/step - loss: 2.9374 - accuracy: 0.0667 - val_loss: 2.7980 - val_accuracy: 0.0633\n",
      "Epoch 7/50\n",
      "2/2 [==============================] - 1s 720ms/step - loss: 2.8529 - accuracy: 0.1000 - val_loss: 2.7956 - val_accuracy: 0.0700\n",
      "Epoch 8/50\n",
      "2/2 [==============================] - 1s 1s/step - loss: 2.8814 - accuracy: 0.1500 - val_loss: 2.7930 - val_accuracy: 0.0717\n",
      "Epoch 9/50\n",
      "2/2 [==============================] - 1s 591ms/step - loss: 2.7728 - accuracy: 0.1000 - val_loss: 2.7901 - val_accuracy: 0.0850\n",
      "Epoch 10/50\n",
      "2/2 [==============================] - 1s 656ms/step - loss: 2.5483 - accuracy: 0.2500 - val_loss: 2.7868 - val_accuracy: 0.0950\n",
      "Epoch 11/50\n",
      "2/2 [==============================] - 1s 1s/step - loss: 2.6642 - accuracy: 0.1667 - val_loss: 2.7831 - val_accuracy: 0.1183\n",
      "Epoch 12/50\n",
      "2/2 [==============================] - 1s 986ms/step - loss: 2.5829 - accuracy: 0.1333 - val_loss: 2.7792 - val_accuracy: 0.1217\n",
      "Epoch 13/50\n",
      "2/2 [==============================] - 1s 775ms/step - loss: 2.5353 - accuracy: 0.2667 - val_loss: 2.7750 - val_accuracy: 0.1333\n",
      "Epoch 14/50\n",
      "2/2 [==============================] - 1s 642ms/step - loss: 2.6245 - accuracy: 0.2000 - val_loss: 2.7707 - val_accuracy: 0.1533\n",
      "Epoch 15/50\n",
      "2/2 [==============================] - 1s 709ms/step - loss: 2.5059 - accuracy: 0.2500 - val_loss: 2.7661 - val_accuracy: 0.1667\n",
      "Epoch 16/50\n",
      "2/2 [==============================] - 1s 721ms/step - loss: 2.4313 - accuracy: 0.2500 - val_loss: 2.7612 - val_accuracy: 0.1850\n",
      "Epoch 17/50\n",
      "2/2 [==============================] - 1s 650ms/step - loss: 2.4022 - accuracy: 0.1833 - val_loss: 2.7562 - val_accuracy: 0.1967\n",
      "Epoch 18/50\n",
      "2/2 [==============================] - 1s 735ms/step - loss: 2.4248 - accuracy: 0.2833 - val_loss: 2.7510 - val_accuracy: 0.2050\n",
      "Epoch 19/50\n",
      "2/2 [==============================] - 1s 584ms/step - loss: 2.2781 - accuracy: 0.3500 - val_loss: 2.7456 - val_accuracy: 0.1983\n",
      "Epoch 20/50\n",
      "2/2 [==============================] - 1s 1s/step - loss: 2.2590 - accuracy: 0.2833 - val_loss: 2.7400 - val_accuracy: 0.2083\n",
      "Epoch 21/50\n",
      "2/2 [==============================] - 1s 693ms/step - loss: 2.2580 - accuracy: 0.2667 - val_loss: 2.7341 - val_accuracy: 0.2017\n",
      "Epoch 22/50\n",
      "2/2 [==============================] - 1s 579ms/step - loss: 2.2102 - accuracy: 0.3000 - val_loss: 2.7281 - val_accuracy: 0.2133\n",
      "Epoch 23/50\n",
      "2/2 [==============================] - 1s 611ms/step - loss: 2.1959 - accuracy: 0.3833 - val_loss: 2.7219 - val_accuracy: 0.2117\n",
      "Epoch 24/50\n",
      "2/2 [==============================] - 1s 573ms/step - loss: 2.2198 - accuracy: 0.3000 - val_loss: 2.7156 - val_accuracy: 0.2133\n",
      "Epoch 25/50\n",
      "2/2 [==============================] - 1s 696ms/step - loss: 2.1332 - accuracy: 0.3167 - val_loss: 2.7091 - val_accuracy: 0.2183\n",
      "Epoch 26/50\n",
      "2/2 [==============================] - 1s 693ms/step - loss: 2.1037 - accuracy: 0.3000 - val_loss: 2.7024 - val_accuracy: 0.2200\n",
      "Epoch 27/50\n",
      "2/2 [==============================] - 1s 647ms/step - loss: 2.1130 - accuracy: 0.3000 - val_loss: 2.6957 - val_accuracy: 0.2200\n",
      "Epoch 28/50\n",
      "2/2 [==============================] - 1s 812ms/step - loss: 2.0253 - accuracy: 0.3333 - val_loss: 2.6888 - val_accuracy: 0.2217\n",
      "Epoch 29/50\n",
      "2/2 [==============================] - 1s 743ms/step - loss: 1.9725 - accuracy: 0.3000 - val_loss: 2.6818 - val_accuracy: 0.2200\n",
      "Epoch 30/50\n",
      "2/2 [==============================] - 1s 712ms/step - loss: 1.9863 - accuracy: 0.3167 - val_loss: 2.6747 - val_accuracy: 0.2167\n",
      "Epoch 31/50\n",
      "2/2 [==============================] - 1s 730ms/step - loss: 1.9322 - accuracy: 0.4000 - val_loss: 2.6675 - val_accuracy: 0.2133\n",
      "Epoch 32/50\n",
      "2/2 [==============================] - 1s 719ms/step - loss: 1.9213 - accuracy: 0.4167 - val_loss: 2.6602 - val_accuracy: 0.2133\n",
      "trials for model 10: 0.23888888955116272\n",
      "Epoch 1/50\n"
     ]
    },
    {
     "name": "stderr",
     "output_type": "stream",
     "text": [
      "2023-05-11 19:44:48.475524: I tensorflow/core/grappler/optimizers/custom_graph_optimizer_registry.cc:113] Plugin optimizer for device_type GPU is enabled.\n"
     ]
    },
    {
     "name": "stdout",
     "output_type": "stream",
     "text": [
      "2/2 [==============================] - ETA: 0s - loss: 3.1834 - accuracy: 0.0500"
     ]
    },
    {
     "name": "stderr",
     "output_type": "stream",
     "text": [
      "2023-05-11 19:44:49.780459: I tensorflow/core/grappler/optimizers/custom_graph_optimizer_registry.cc:113] Plugin optimizer for device_type GPU is enabled.\n"
     ]
    },
    {
     "name": "stdout",
     "output_type": "stream",
     "text": [
      "2/2 [==============================] - 3s 1s/step - loss: 3.1834 - accuracy: 0.0500 - val_loss: 2.7996 - val_accuracy: 0.0133\n",
      "Epoch 2/50\n",
      "2/2 [==============================] - 1s 422ms/step - loss: 3.2507 - accuracy: 0.0333 - val_loss: 2.7984 - val_accuracy: 0.0300\n",
      "Epoch 3/50\n",
      "2/2 [==============================] - 0s 347ms/step - loss: 3.1116 - accuracy: 0.0667 - val_loss: 2.7969 - val_accuracy: 0.0450\n",
      "Epoch 4/50\n",
      "2/2 [==============================] - 0s 376ms/step - loss: 3.1235 - accuracy: 0.1000 - val_loss: 2.7951 - val_accuracy: 0.0517\n",
      "Epoch 5/50\n",
      "2/2 [==============================] - 0s 255ms/step - loss: 3.1326 - accuracy: 0.0667 - val_loss: 2.7933 - val_accuracy: 0.0683\n",
      "Epoch 6/50\n",
      "2/2 [==============================] - 0s 324ms/step - loss: 3.0557 - accuracy: 0.1167 - val_loss: 2.7910 - val_accuracy: 0.0717\n",
      "Epoch 7/50\n",
      "2/2 [==============================] - 0s 274ms/step - loss: 2.9994 - accuracy: 0.1000 - val_loss: 2.7884 - val_accuracy: 0.0783\n",
      "Epoch 8/50\n",
      "2/2 [==============================] - 0s 320ms/step - loss: 3.0874 - accuracy: 0.0167 - val_loss: 2.7856 - val_accuracy: 0.0767\n",
      "Epoch 9/50\n",
      "2/2 [==============================] - 0s 253ms/step - loss: 3.0480 - accuracy: 0.0500 - val_loss: 2.7824 - val_accuracy: 0.0883\n",
      "Epoch 10/50\n",
      "2/2 [==============================] - 0s 236ms/step - loss: 2.9236 - accuracy: 0.1000 - val_loss: 2.7789 - val_accuracy: 0.1017\n",
      "Epoch 11/50\n",
      "2/2 [==============================] - 0s 274ms/step - loss: 3.1629 - accuracy: 0.0167 - val_loss: 2.7750 - val_accuracy: 0.1133\n",
      "Epoch 12/50\n",
      "2/2 [==============================] - 0s 241ms/step - loss: 2.9362 - accuracy: 0.1000 - val_loss: 2.7708 - val_accuracy: 0.1167\n",
      "Epoch 13/50\n",
      "2/2 [==============================] - 0s 257ms/step - loss: 2.8674 - accuracy: 0.0667 - val_loss: 2.7664 - val_accuracy: 0.1217\n",
      "Epoch 14/50\n",
      "2/2 [==============================] - 0s 341ms/step - loss: 2.8121 - accuracy: 0.0833 - val_loss: 2.7617 - val_accuracy: 0.1267\n",
      "Epoch 15/50\n",
      "2/2 [==============================] - 0s 267ms/step - loss: 2.8667 - accuracy: 0.1167 - val_loss: 2.7569 - val_accuracy: 0.1317\n",
      "Epoch 16/50\n",
      "2/2 [==============================] - 0s 285ms/step - loss: 2.8457 - accuracy: 0.0833 - val_loss: 2.7519 - val_accuracy: 0.1417\n",
      "Epoch 17/50\n",
      "2/2 [==============================] - 0s 287ms/step - loss: 2.8538 - accuracy: 0.0833 - val_loss: 2.7468 - val_accuracy: 0.1450\n",
      "Epoch 18/50\n",
      "2/2 [==============================] - 0s 423ms/step - loss: 2.7486 - accuracy: 0.1000 - val_loss: 2.7415 - val_accuracy: 0.1450\n",
      "Epoch 19/50\n",
      "2/2 [==============================] - 0s 284ms/step - loss: 2.7991 - accuracy: 0.1500 - val_loss: 2.7361 - val_accuracy: 0.1533\n",
      "Epoch 20/50\n",
      "2/2 [==============================] - 0s 242ms/step - loss: 2.7137 - accuracy: 0.1000 - val_loss: 2.7306 - val_accuracy: 0.1650\n",
      "Epoch 21/50\n",
      "2/2 [==============================] - 0s 237ms/step - loss: 2.7490 - accuracy: 0.0667 - val_loss: 2.7249 - val_accuracy: 0.1683\n",
      "Epoch 22/50\n",
      "2/2 [==============================] - 0s 228ms/step - loss: 2.5380 - accuracy: 0.1500 - val_loss: 2.7191 - val_accuracy: 0.1717\n",
      "Epoch 23/50\n",
      "2/2 [==============================] - 0s 227ms/step - loss: 2.6483 - accuracy: 0.1167 - val_loss: 2.7132 - val_accuracy: 0.1750\n",
      "Epoch 24/50\n",
      "2/2 [==============================] - 0s 243ms/step - loss: 2.6762 - accuracy: 0.1167 - val_loss: 2.7072 - val_accuracy: 0.1767\n",
      "Epoch 25/50\n",
      "2/2 [==============================] - 0s 336ms/step - loss: 2.6233 - accuracy: 0.1667 - val_loss: 2.7011 - val_accuracy: 0.1850\n",
      "Epoch 26/50\n",
      "2/2 [==============================] - 0s 263ms/step - loss: 2.5529 - accuracy: 0.1833 - val_loss: 2.6948 - val_accuracy: 0.1867\n",
      "Epoch 27/50\n",
      "2/2 [==============================] - 0s 439ms/step - loss: 2.5998 - accuracy: 0.1167 - val_loss: 2.6884 - val_accuracy: 0.1883\n",
      "Epoch 28/50\n",
      "2/2 [==============================] - 0s 256ms/step - loss: 2.6139 - accuracy: 0.1667 - val_loss: 2.6820 - val_accuracy: 0.1883\n",
      "Epoch 29/50\n",
      "2/2 [==============================] - 0s 307ms/step - loss: 2.5563 - accuracy: 0.1667 - val_loss: 2.6754 - val_accuracy: 0.1917\n",
      "Epoch 30/50\n",
      "2/2 [==============================] - 1s 461ms/step - loss: 2.5369 - accuracy: 0.1833 - val_loss: 2.6688 - val_accuracy: 0.1900\n",
      "Epoch 31/50\n",
      "2/2 [==============================] - 0s 276ms/step - loss: 2.4944 - accuracy: 0.1333 - val_loss: 2.6620 - val_accuracy: 0.1917\n",
      "Epoch 32/50\n",
      "2/2 [==============================] - 1s 331ms/step - loss: 2.4003 - accuracy: 0.2167 - val_loss: 2.6551 - val_accuracy: 0.1917\n",
      "Epoch 33/50\n",
      "2/2 [==============================] - 0s 231ms/step - loss: 2.4814 - accuracy: 0.2000 - val_loss: 2.6482 - val_accuracy: 0.1967\n",
      "Epoch 34/50\n",
      "2/2 [==============================] - 0s 295ms/step - loss: 2.3687 - accuracy: 0.2500 - val_loss: 2.6412 - val_accuracy: 0.1967\n",
      "Epoch 35/50\n",
      "2/2 [==============================] - 0s 271ms/step - loss: 2.4323 - accuracy: 0.1833 - val_loss: 2.6341 - val_accuracy: 0.1983\n",
      "Epoch 36/50\n",
      "2/2 [==============================] - 0s 378ms/step - loss: 2.3981 - accuracy: 0.1500 - val_loss: 2.6270 - val_accuracy: 0.1983\n",
      "Epoch 37/50\n",
      "2/2 [==============================] - 0s 310ms/step - loss: 2.2806 - accuracy: 0.2167 - val_loss: 2.6198 - val_accuracy: 0.1983\n",
      "Epoch 38/50\n",
      "2/2 [==============================] - 0s 298ms/step - loss: 2.2223 - accuracy: 0.2167 - val_loss: 2.6125 - val_accuracy: 0.1967\n",
      "Epoch 39/50\n",
      "2/2 [==============================] - 0s 337ms/step - loss: 2.3323 - accuracy: 0.1667 - val_loss: 2.6052 - val_accuracy: 0.1950\n",
      "Epoch 1/50\n"
     ]
    },
    {
     "name": "stderr",
     "output_type": "stream",
     "text": [
      "2023-05-11 19:45:05.098711: I tensorflow/core/grappler/optimizers/custom_graph_optimizer_registry.cc:113] Plugin optimizer for device_type GPU is enabled.\n"
     ]
    },
    {
     "name": "stdout",
     "output_type": "stream",
     "text": [
      "2/2 [==============================] - ETA: 0s - loss: 2.9727 - accuracy: 0.0500"
     ]
    },
    {
     "name": "stderr",
     "output_type": "stream",
     "text": [
      "2023-05-11 19:45:06.284018: I tensorflow/core/grappler/optimizers/custom_graph_optimizer_registry.cc:113] Plugin optimizer for device_type GPU is enabled.\n"
     ]
    },
    {
     "name": "stdout",
     "output_type": "stream",
     "text": [
      "2/2 [==============================] - 2s 1s/step - loss: 2.9727 - accuracy: 0.0500 - val_loss: 2.7850 - val_accuracy: 0.1283\n",
      "Epoch 2/50\n",
      "2/2 [==============================] - 1s 411ms/step - loss: 2.9811 - accuracy: 0.1000 - val_loss: 2.7854 - val_accuracy: 0.1483\n",
      "Epoch 3/50\n",
      "2/2 [==============================] - 1s 417ms/step - loss: 3.1247 - accuracy: 0.0333 - val_loss: 2.7857 - val_accuracy: 0.1517\n",
      "Epoch 4/50\n",
      "2/2 [==============================] - 0s 309ms/step - loss: 2.9927 - accuracy: 0.0500 - val_loss: 2.7857 - val_accuracy: 0.1500\n",
      "Epoch 5/50\n",
      "2/2 [==============================] - 0s 337ms/step - loss: 2.8880 - accuracy: 0.1167 - val_loss: 2.7853 - val_accuracy: 0.1350\n",
      "Epoch 6/50\n",
      "2/2 [==============================] - 1s 524ms/step - loss: 2.8878 - accuracy: 0.0667 - val_loss: 2.7845 - val_accuracy: 0.1250\n",
      "Epoch 7/50\n",
      "2/2 [==============================] - 1s 381ms/step - loss: 2.8925 - accuracy: 0.1167 - val_loss: 2.7833 - val_accuracy: 0.1200\n",
      "Epoch 1/50\n"
     ]
    },
    {
     "name": "stderr",
     "output_type": "stream",
     "text": [
      "2023-05-11 19:45:11.425575: I tensorflow/core/grappler/optimizers/custom_graph_optimizer_registry.cc:113] Plugin optimizer for device_type GPU is enabled.\n"
     ]
    },
    {
     "name": "stdout",
     "output_type": "stream",
     "text": [
      "2/2 [==============================] - ETA: 0s - loss: 2.9930 - accuracy: 0.0000e+00"
     ]
    },
    {
     "name": "stderr",
     "output_type": "stream",
     "text": [
      "2023-05-11 19:45:12.748463: I tensorflow/core/grappler/optimizers/custom_graph_optimizer_registry.cc:113] Plugin optimizer for device_type GPU is enabled.\n"
     ]
    },
    {
     "name": "stdout",
     "output_type": "stream",
     "text": [
      "2/2 [==============================] - 3s 1s/step - loss: 2.9930 - accuracy: 0.0000e+00 - val_loss: 2.8000 - val_accuracy: 0.0583\n",
      "Epoch 2/50\n",
      "2/2 [==============================] - 1s 553ms/step - loss: 3.0185 - accuracy: 0.1000 - val_loss: 2.7986 - val_accuracy: 0.0617\n",
      "Epoch 3/50\n",
      "2/2 [==============================] - 0s 324ms/step - loss: 2.9104 - accuracy: 0.1000 - val_loss: 2.7974 - val_accuracy: 0.0600\n",
      "Epoch 4/50\n",
      "2/2 [==============================] - 0s 338ms/step - loss: 2.9006 - accuracy: 0.0833 - val_loss: 2.7963 - val_accuracy: 0.0617\n",
      "Epoch 5/50\n",
      "2/2 [==============================] - 0s 301ms/step - loss: 2.8835 - accuracy: 0.0500 - val_loss: 2.7951 - val_accuracy: 0.0650\n",
      "Epoch 6/50\n",
      "2/2 [==============================] - 0s 356ms/step - loss: 2.9058 - accuracy: 0.0833 - val_loss: 2.7936 - val_accuracy: 0.0700\n",
      "Epoch 7/50\n",
      "2/2 [==============================] - 0s 276ms/step - loss: 2.8314 - accuracy: 0.2000 - val_loss: 2.7920 - val_accuracy: 0.0700\n",
      "Epoch 8/50\n",
      "2/2 [==============================] - 0s 274ms/step - loss: 2.7829 - accuracy: 0.1333 - val_loss: 2.7901 - val_accuracy: 0.0750\n",
      "Epoch 9/50\n",
      "2/2 [==============================] - 0s 220ms/step - loss: 2.7725 - accuracy: 0.0833 - val_loss: 2.7881 - val_accuracy: 0.0750\n",
      "Epoch 10/50\n",
      "2/2 [==============================] - 0s 305ms/step - loss: 2.7095 - accuracy: 0.1833 - val_loss: 2.7858 - val_accuracy: 0.0733\n",
      "Epoch 11/50\n",
      "2/2 [==============================] - 0s 270ms/step - loss: 2.7926 - accuracy: 0.1000 - val_loss: 2.7835 - val_accuracy: 0.0767\n",
      "Epoch 12/50\n",
      "2/2 [==============================] - 0s 377ms/step - loss: 2.7299 - accuracy: 0.1500 - val_loss: 2.7808 - val_accuracy: 0.0783\n",
      "Epoch 13/50\n",
      "2/2 [==============================] - 0s 300ms/step - loss: 2.7748 - accuracy: 0.0500 - val_loss: 2.7779 - val_accuracy: 0.0767\n",
      "Epoch 14/50\n",
      "2/2 [==============================] - 0s 228ms/step - loss: 2.7420 - accuracy: 0.1333 - val_loss: 2.7747 - val_accuracy: 0.0833\n",
      "Epoch 15/50\n",
      "2/2 [==============================] - 0s 224ms/step - loss: 2.8075 - accuracy: 0.1333 - val_loss: 2.7714 - val_accuracy: 0.0867\n",
      "Epoch 16/50\n",
      "2/2 [==============================] - 0s 217ms/step - loss: 2.5982 - accuracy: 0.1833 - val_loss: 2.7678 - val_accuracy: 0.0933\n",
      "Epoch 17/50\n",
      "2/2 [==============================] - 0s 221ms/step - loss: 2.6871 - accuracy: 0.1500 - val_loss: 2.7640 - val_accuracy: 0.0983\n",
      "Epoch 18/50\n",
      "2/2 [==============================] - 0s 199ms/step - loss: 2.5249 - accuracy: 0.1833 - val_loss: 2.7600 - val_accuracy: 0.1033\n",
      "Epoch 19/50\n",
      "2/2 [==============================] - 0s 256ms/step - loss: 2.5881 - accuracy: 0.1500 - val_loss: 2.7558 - val_accuracy: 0.1033\n",
      "Epoch 20/50\n",
      "2/2 [==============================] - 0s 203ms/step - loss: 2.6374 - accuracy: 0.1500 - val_loss: 2.7515 - val_accuracy: 0.1083\n",
      "Epoch 21/50\n",
      "2/2 [==============================] - 0s 298ms/step - loss: 2.6035 - accuracy: 0.1500 - val_loss: 2.7470 - val_accuracy: 0.1133\n",
      "Epoch 22/50\n",
      "2/2 [==============================] - 0s 237ms/step - loss: 2.5746 - accuracy: 0.1667 - val_loss: 2.7424 - val_accuracy: 0.1183\n",
      "Epoch 23/50\n",
      "2/2 [==============================] - 0s 268ms/step - loss: 2.5368 - accuracy: 0.1500 - val_loss: 2.7376 - val_accuracy: 0.1200\n",
      "Epoch 24/50\n",
      "2/2 [==============================] - 0s 218ms/step - loss: 2.4956 - accuracy: 0.1333 - val_loss: 2.7326 - val_accuracy: 0.1233\n",
      "Epoch 25/50\n",
      "2/2 [==============================] - 0s 350ms/step - loss: 2.4789 - accuracy: 0.1833 - val_loss: 2.7275 - val_accuracy: 0.1267\n",
      "Epoch 26/50\n",
      "2/2 [==============================] - 0s 227ms/step - loss: 2.3877 - accuracy: 0.1833 - val_loss: 2.7223 - val_accuracy: 0.1300\n",
      "Epoch 27/50\n",
      "2/2 [==============================] - 0s 222ms/step - loss: 2.4894 - accuracy: 0.2167 - val_loss: 2.7169 - val_accuracy: 0.1317\n",
      "Epoch 28/50\n",
      "2/2 [==============================] - 0s 216ms/step - loss: 2.4234 - accuracy: 0.1667 - val_loss: 2.7115 - val_accuracy: 0.1383\n",
      "Epoch 29/50\n",
      "2/2 [==============================] - 0s 324ms/step - loss: 2.3155 - accuracy: 0.2500 - val_loss: 2.7059 - val_accuracy: 0.1400\n",
      "Epoch 30/50\n",
      "2/2 [==============================] - 0s 224ms/step - loss: 2.3876 - accuracy: 0.1667 - val_loss: 2.7002 - val_accuracy: 0.1400\n",
      "Epoch 31/50\n",
      "2/2 [==============================] - 0s 230ms/step - loss: 2.3297 - accuracy: 0.2833 - val_loss: 2.6944 - val_accuracy: 0.1400\n",
      "Epoch 32/50\n",
      "2/2 [==============================] - 0s 230ms/step - loss: 2.3256 - accuracy: 0.2667 - val_loss: 2.6885 - val_accuracy: 0.1433\n",
      "Epoch 33/50\n",
      "2/2 [==============================] - 0s 245ms/step - loss: 2.3362 - accuracy: 0.1833 - val_loss: 2.6824 - val_accuracy: 0.1483\n",
      "Epoch 34/50\n",
      "2/2 [==============================] - 0s 268ms/step - loss: 2.4259 - accuracy: 0.2167 - val_loss: 2.6763 - val_accuracy: 0.1550\n",
      "Epoch 35/50\n",
      "2/2 [==============================] - 0s 269ms/step - loss: 2.2965 - accuracy: 0.1833 - val_loss: 2.6700 - val_accuracy: 0.1600\n",
      "Epoch 36/50\n",
      "2/2 [==============================] - 0s 221ms/step - loss: 2.2859 - accuracy: 0.2833 - val_loss: 2.6637 - val_accuracy: 0.1633\n",
      "Epoch 37/50\n",
      "2/2 [==============================] - 0s 268ms/step - loss: 2.1518 - accuracy: 0.2833 - val_loss: 2.6573 - val_accuracy: 0.1667\n",
      "Epoch 38/50\n",
      "2/2 [==============================] - 0s 272ms/step - loss: 2.1448 - accuracy: 0.3000 - val_loss: 2.6508 - val_accuracy: 0.1733\n",
      "Epoch 39/50\n",
      "2/2 [==============================] - 0s 245ms/step - loss: 2.3112 - accuracy: 0.2500 - val_loss: 2.6443 - val_accuracy: 0.1733\n",
      "Epoch 40/50\n",
      "2/2 [==============================] - 0s 229ms/step - loss: 2.1306 - accuracy: 0.3500 - val_loss: 2.6377 - val_accuracy: 0.1767\n",
      "Epoch 41/50\n",
      "2/2 [==============================] - 0s 222ms/step - loss: 2.1941 - accuracy: 0.2667 - val_loss: 2.6311 - val_accuracy: 0.1817\n",
      "Epoch 42/50\n",
      "2/2 [==============================] - 0s 228ms/step - loss: 2.1411 - accuracy: 0.3333 - val_loss: 2.6243 - val_accuracy: 0.1900\n",
      "Epoch 43/50\n",
      "2/2 [==============================] - 0s 227ms/step - loss: 2.0910 - accuracy: 0.3667 - val_loss: 2.6175 - val_accuracy: 0.1933\n",
      "Epoch 44/50\n",
      "2/2 [==============================] - 0s 224ms/step - loss: 2.2159 - accuracy: 0.3000 - val_loss: 2.6107 - val_accuracy: 0.2000\n",
      "Epoch 45/50\n",
      "2/2 [==============================] - 0s 214ms/step - loss: 2.0917 - accuracy: 0.3167 - val_loss: 2.6038 - val_accuracy: 0.2000\n",
      "Epoch 46/50\n",
      "2/2 [==============================] - 0s 254ms/step - loss: 2.1086 - accuracy: 0.2333 - val_loss: 2.5969 - val_accuracy: 0.2017\n",
      "Epoch 47/50\n",
      "2/2 [==============================] - 0s 247ms/step - loss: 2.0121 - accuracy: 0.3000 - val_loss: 2.5899 - val_accuracy: 0.2017\n",
      "Epoch 48/50\n",
      "2/2 [==============================] - 0s 332ms/step - loss: 2.0974 - accuracy: 0.3500 - val_loss: 2.5828 - val_accuracy: 0.2050\n",
      "Epoch 49/50\n",
      "2/2 [==============================] - 1s 232ms/step - loss: 2.0079 - accuracy: 0.3167 - val_loss: 2.5757 - val_accuracy: 0.2083\n",
      "Epoch 50/50\n",
      "2/2 [==============================] - 0s 290ms/step - loss: 2.0535 - accuracy: 0.3500 - val_loss: 2.5686 - val_accuracy: 0.2117\n",
      "trials for model 11: 0.17555556197961172\n",
      "Epoch 1/50\n"
     ]
    },
    {
     "name": "stderr",
     "output_type": "stream",
     "text": [
      "2023-05-11 19:45:30.067876: I tensorflow/core/grappler/optimizers/custom_graph_optimizer_registry.cc:113] Plugin optimizer for device_type GPU is enabled.\n"
     ]
    },
    {
     "name": "stdout",
     "output_type": "stream",
     "text": [
      "2/2 [==============================] - ETA: 0s - loss: 2.9758 - accuracy: 0.1000"
     ]
    },
    {
     "name": "stderr",
     "output_type": "stream",
     "text": [
      "2023-05-11 19:45:31.196066: I tensorflow/core/grappler/optimizers/custom_graph_optimizer_registry.cc:113] Plugin optimizer for device_type GPU is enabled.\n"
     ]
    },
    {
     "name": "stdout",
     "output_type": "stream",
     "text": [
      "2/2 [==============================] - 2s 1s/step - loss: 2.9758 - accuracy: 0.1000 - val_loss: 2.7916 - val_accuracy: 0.0800\n",
      "Epoch 2/50\n",
      "2/2 [==============================] - 1s 549ms/step - loss: 2.9678 - accuracy: 0.0167 - val_loss: 2.7912 - val_accuracy: 0.0867\n",
      "Epoch 3/50\n",
      "2/2 [==============================] - 1s 480ms/step - loss: 2.8909 - accuracy: 0.0500 - val_loss: 2.7907 - val_accuracy: 0.0917\n",
      "Epoch 4/50\n",
      "2/2 [==============================] - 1s 402ms/step - loss: 2.9341 - accuracy: 0.0500 - val_loss: 2.7898 - val_accuracy: 0.0917\n",
      "Epoch 5/50\n",
      "2/2 [==============================] - 1s 487ms/step - loss: 2.8350 - accuracy: 0.0667 - val_loss: 2.7884 - val_accuracy: 0.1000\n",
      "Epoch 6/50\n",
      "2/2 [==============================] - 0s 275ms/step - loss: 2.7864 - accuracy: 0.1167 - val_loss: 2.7866 - val_accuracy: 0.1000\n",
      "Epoch 7/50\n",
      "2/2 [==============================] - 0s 319ms/step - loss: 2.8140 - accuracy: 0.1167 - val_loss: 2.7843 - val_accuracy: 0.1000\n",
      "Epoch 8/50\n",
      "2/2 [==============================] - 0s 294ms/step - loss: 2.8523 - accuracy: 0.0833 - val_loss: 2.7818 - val_accuracy: 0.1033\n",
      "Epoch 9/50\n",
      "2/2 [==============================] - 0s 294ms/step - loss: 2.8375 - accuracy: 0.1333 - val_loss: 2.7788 - val_accuracy: 0.1100\n",
      "Epoch 10/50\n",
      "2/2 [==============================] - 1s 396ms/step - loss: 2.6924 - accuracy: 0.0833 - val_loss: 2.7755 - val_accuracy: 0.1167\n",
      "Epoch 11/50\n",
      "2/2 [==============================] - 0s 313ms/step - loss: 2.7612 - accuracy: 0.1333 - val_loss: 2.7720 - val_accuracy: 0.1217\n",
      "Epoch 12/50\n",
      "2/2 [==============================] - 0s 312ms/step - loss: 2.8015 - accuracy: 0.1000 - val_loss: 2.7682 - val_accuracy: 0.1250\n",
      "Epoch 13/50\n",
      "2/2 [==============================] - 0s 274ms/step - loss: 2.7893 - accuracy: 0.0500 - val_loss: 2.7642 - val_accuracy: 0.1200\n",
      "Epoch 14/50\n",
      "2/2 [==============================] - 0s 234ms/step - loss: 2.7448 - accuracy: 0.1000 - val_loss: 2.7599 - val_accuracy: 0.1217\n",
      "Epoch 15/50\n",
      "2/2 [==============================] - 0s 219ms/step - loss: 2.6312 - accuracy: 0.1333 - val_loss: 2.7553 - val_accuracy: 0.1250\n",
      "Epoch 16/50\n",
      "2/2 [==============================] - 0s 236ms/step - loss: 2.6327 - accuracy: 0.1333 - val_loss: 2.7505 - val_accuracy: 0.1317\n",
      "Epoch 17/50\n",
      "2/2 [==============================] - 0s 234ms/step - loss: 2.6339 - accuracy: 0.1000 - val_loss: 2.7455 - val_accuracy: 0.1367\n",
      "Epoch 18/50\n",
      "2/2 [==============================] - 0s 286ms/step - loss: 2.5844 - accuracy: 0.1333 - val_loss: 2.7404 - val_accuracy: 0.1383\n",
      "Epoch 19/50\n",
      "2/2 [==============================] - 0s 232ms/step - loss: 2.6061 - accuracy: 0.1167 - val_loss: 2.7351 - val_accuracy: 0.1417\n",
      "Epoch 20/50\n",
      "2/2 [==============================] - 0s 224ms/step - loss: 2.5610 - accuracy: 0.1500 - val_loss: 2.7296 - val_accuracy: 0.1417\n",
      "Epoch 21/50\n",
      "2/2 [==============================] - 0s 223ms/step - loss: 2.4630 - accuracy: 0.1833 - val_loss: 2.7240 - val_accuracy: 0.1417\n",
      "Epoch 22/50\n",
      "2/2 [==============================] - 0s 229ms/step - loss: 2.6498 - accuracy: 0.1000 - val_loss: 2.7182 - val_accuracy: 0.1450\n",
      "Epoch 23/50\n",
      "2/2 [==============================] - 0s 238ms/step - loss: 2.4595 - accuracy: 0.1833 - val_loss: 2.7123 - val_accuracy: 0.1483\n",
      "Epoch 24/50\n",
      "2/2 [==============================] - 0s 204ms/step - loss: 2.5841 - accuracy: 0.1500 - val_loss: 2.7064 - val_accuracy: 0.1450\n",
      "Epoch 25/50\n",
      "2/2 [==============================] - 0s 196ms/step - loss: 2.5492 - accuracy: 0.1000 - val_loss: 2.7003 - val_accuracy: 0.1467\n",
      "Epoch 26/50\n",
      "2/2 [==============================] - 0s 205ms/step - loss: 2.4506 - accuracy: 0.1833 - val_loss: 2.6942 - val_accuracy: 0.1483\n",
      "Epoch 27/50\n",
      "2/2 [==============================] - 0s 219ms/step - loss: 2.4810 - accuracy: 0.1167 - val_loss: 2.6879 - val_accuracy: 0.1483\n",
      "Epoch 1/50\n"
     ]
    },
    {
     "name": "stderr",
     "output_type": "stream",
     "text": [
      "2023-05-11 19:45:41.964039: I tensorflow/core/grappler/optimizers/custom_graph_optimizer_registry.cc:113] Plugin optimizer for device_type GPU is enabled.\n"
     ]
    },
    {
     "name": "stdout",
     "output_type": "stream",
     "text": [
      "2/2 [==============================] - ETA: 0s - loss: 3.2364 - accuracy: 0.1333"
     ]
    },
    {
     "name": "stderr",
     "output_type": "stream",
     "text": [
      "2023-05-11 19:45:43.341142: I tensorflow/core/grappler/optimizers/custom_graph_optimizer_registry.cc:113] Plugin optimizer for device_type GPU is enabled.\n"
     ]
    },
    {
     "name": "stdout",
     "output_type": "stream",
     "text": [
      "2/2 [==============================] - 3s 1s/step - loss: 3.2364 - accuracy: 0.1333 - val_loss: 2.8031 - val_accuracy: 0.1417\n",
      "Epoch 2/50\n",
      "2/2 [==============================] - 1s 384ms/step - loss: 3.2418 - accuracy: 0.1000 - val_loss: 2.8017 - val_accuracy: 0.1467\n",
      "Epoch 3/50\n",
      "2/2 [==============================] - 0s 357ms/step - loss: 3.1214 - accuracy: 0.0333 - val_loss: 2.8003 - val_accuracy: 0.1517\n",
      "Epoch 4/50\n",
      "2/2 [==============================] - 0s 331ms/step - loss: 3.0767 - accuracy: 0.1500 - val_loss: 2.7989 - val_accuracy: 0.1467\n",
      "Epoch 5/50\n",
      "2/2 [==============================] - 1s 428ms/step - loss: 3.1643 - accuracy: 0.1667 - val_loss: 2.7973 - val_accuracy: 0.1400\n",
      "Epoch 6/50\n",
      "2/2 [==============================] - 0s 344ms/step - loss: 2.9903 - accuracy: 0.2000 - val_loss: 2.7955 - val_accuracy: 0.1417\n",
      "Epoch 7/50\n",
      "2/2 [==============================] - 0s 273ms/step - loss: 2.9935 - accuracy: 0.1667 - val_loss: 2.7934 - val_accuracy: 0.1350\n",
      "Epoch 1/50\n"
     ]
    },
    {
     "name": "stderr",
     "output_type": "stream",
     "text": [
      "2023-05-11 19:45:47.871302: I tensorflow/core/grappler/optimizers/custom_graph_optimizer_registry.cc:113] Plugin optimizer for device_type GPU is enabled.\n"
     ]
    },
    {
     "name": "stdout",
     "output_type": "stream",
     "text": [
      "2/2 [==============================] - ETA: 0s - loss: 3.4397 - accuracy: 0.0167"
     ]
    },
    {
     "name": "stderr",
     "output_type": "stream",
     "text": [
      "2023-05-11 19:45:49.015584: I tensorflow/core/grappler/optimizers/custom_graph_optimizer_registry.cc:113] Plugin optimizer for device_type GPU is enabled.\n"
     ]
    },
    {
     "name": "stdout",
     "output_type": "stream",
     "text": [
      "2/2 [==============================] - 2s 1s/step - loss: 3.4397 - accuracy: 0.0167 - val_loss: 2.8081 - val_accuracy: 0.0717\n",
      "Epoch 2/50\n",
      "2/2 [==============================] - 1s 515ms/step - loss: 3.4620 - accuracy: 0.0500 - val_loss: 2.8089 - val_accuracy: 0.0617\n",
      "Epoch 3/50\n",
      "2/2 [==============================] - 0s 394ms/step - loss: 3.5374 - accuracy: 0.0333 - val_loss: 2.8100 - val_accuracy: 0.0517\n",
      "Epoch 4/50\n",
      "2/2 [==============================] - 0s 324ms/step - loss: 3.4592 - accuracy: 0.0667 - val_loss: 2.8114 - val_accuracy: 0.0467\n",
      "Epoch 5/50\n",
      "2/2 [==============================] - 0s 304ms/step - loss: 3.3416 - accuracy: 0.1000 - val_loss: 2.8129 - val_accuracy: 0.0433\n",
      "trials for model 12: 0.10888889307777087\n",
      "Epoch 1/50\n"
     ]
    },
    {
     "name": "stderr",
     "output_type": "stream",
     "text": [
      "2023-05-11 19:45:52.950524: I tensorflow/core/grappler/optimizers/custom_graph_optimizer_registry.cc:113] Plugin optimizer for device_type GPU is enabled.\n"
     ]
    },
    {
     "name": "stdout",
     "output_type": "stream",
     "text": [
      "2/2 [==============================] - ETA: 0s - loss: 3.3917 - accuracy: 0.0500"
     ]
    },
    {
     "name": "stderr",
     "output_type": "stream",
     "text": [
      "2023-05-11 19:45:54.356542: I tensorflow/core/grappler/optimizers/custom_graph_optimizer_registry.cc:113] Plugin optimizer for device_type GPU is enabled.\n"
     ]
    },
    {
     "name": "stdout",
     "output_type": "stream",
     "text": [
      "2/2 [==============================] - 4s 2s/step - loss: 3.3917 - accuracy: 0.0500 - val_loss: 2.7979 - val_accuracy: 0.0967\n",
      "Epoch 2/50\n",
      "2/2 [==============================] - 1s 377ms/step - loss: 3.2917 - accuracy: 0.1000 - val_loss: 2.7961 - val_accuracy: 0.0900\n",
      "Epoch 3/50\n",
      "2/2 [==============================] - 0s 254ms/step - loss: 3.3277 - accuracy: 0.0500 - val_loss: 2.7945 - val_accuracy: 0.1133\n",
      "Epoch 4/50\n",
      "2/2 [==============================] - 0s 347ms/step - loss: 3.2336 - accuracy: 0.0833 - val_loss: 2.7929 - val_accuracy: 0.1117\n",
      "Epoch 5/50\n",
      "2/2 [==============================] - 0s 201ms/step - loss: 3.3555 - accuracy: 0.0333 - val_loss: 2.7917 - val_accuracy: 0.1233\n",
      "Epoch 6/50\n",
      "2/2 [==============================] - 0s 314ms/step - loss: 3.2123 - accuracy: 0.0833 - val_loss: 2.7906 - val_accuracy: 0.1383\n",
      "Epoch 7/50\n",
      "2/2 [==============================] - 0s 231ms/step - loss: 3.2514 - accuracy: 0.0500 - val_loss: 2.7896 - val_accuracy: 0.1483\n",
      "Epoch 8/50\n",
      "2/2 [==============================] - 0s 197ms/step - loss: 3.2183 - accuracy: 0.0833 - val_loss: 2.7886 - val_accuracy: 0.1567\n",
      "Epoch 9/50\n",
      "2/2 [==============================] - 0s 225ms/step - loss: 3.1335 - accuracy: 0.1000 - val_loss: 2.7879 - val_accuracy: 0.1583\n",
      "Epoch 10/50\n",
      "2/2 [==============================] - 0s 227ms/step - loss: 3.1586 - accuracy: 0.1500 - val_loss: 2.7874 - val_accuracy: 0.1600\n",
      "Epoch 11/50\n",
      "2/2 [==============================] - 0s 221ms/step - loss: 3.2166 - accuracy: 0.1000 - val_loss: 2.7869 - val_accuracy: 0.1567\n",
      "Epoch 12/50\n",
      "2/2 [==============================] - 0s 186ms/step - loss: 3.1872 - accuracy: 0.1000 - val_loss: 2.7864 - val_accuracy: 0.1650\n",
      "Epoch 13/50\n",
      "2/2 [==============================] - 0s 182ms/step - loss: 3.1329 - accuracy: 0.1333 - val_loss: 2.7861 - val_accuracy: 0.1600\n",
      "Epoch 14/50\n",
      "2/2 [==============================] - 0s 286ms/step - loss: 3.0856 - accuracy: 0.1667 - val_loss: 2.7857 - val_accuracy: 0.1567\n",
      "Epoch 15/50\n",
      "2/2 [==============================] - 0s 190ms/step - loss: 3.1806 - accuracy: 0.1000 - val_loss: 2.7851 - val_accuracy: 0.1633\n",
      "Epoch 16/50\n",
      "2/2 [==============================] - 0s 227ms/step - loss: 3.1580 - accuracy: 0.0833 - val_loss: 2.7845 - val_accuracy: 0.1617\n",
      "Epoch 1/50\n"
     ]
    },
    {
     "name": "stderr",
     "output_type": "stream",
     "text": [
      "2023-05-11 19:46:01.159096: I tensorflow/core/grappler/optimizers/custom_graph_optimizer_registry.cc:113] Plugin optimizer for device_type GPU is enabled.\n"
     ]
    },
    {
     "name": "stdout",
     "output_type": "stream",
     "text": [
      "2/2 [==============================] - ETA: 0s - loss: 3.1527 - accuracy: 0.0833"
     ]
    },
    {
     "name": "stderr",
     "output_type": "stream",
     "text": [
      "2023-05-11 19:46:02.325699: I tensorflow/core/grappler/optimizers/custom_graph_optimizer_registry.cc:113] Plugin optimizer for device_type GPU is enabled.\n"
     ]
    },
    {
     "name": "stdout",
     "output_type": "stream",
     "text": [
      "2/2 [==============================] - 2s 1s/step - loss: 3.1527 - accuracy: 0.0833 - val_loss: 2.8041 - val_accuracy: 0.0583\n",
      "Epoch 2/50\n",
      "2/2 [==============================] - 0s 325ms/step - loss: 3.1781 - accuracy: 0.0667 - val_loss: 2.8035 - val_accuracy: 0.0650\n",
      "Epoch 3/50\n",
      "2/2 [==============================] - 0s 338ms/step - loss: 3.1834 - accuracy: 0.0833 - val_loss: 2.8029 - val_accuracy: 0.0667\n",
      "Epoch 4/50\n",
      "2/2 [==============================] - 0s 375ms/step - loss: 3.1078 - accuracy: 0.0833 - val_loss: 2.8022 - val_accuracy: 0.0567\n",
      "Epoch 5/50\n",
      "2/2 [==============================] - 0s 287ms/step - loss: 3.1475 - accuracy: 0.1000 - val_loss: 2.8015 - val_accuracy: 0.0533\n",
      "Epoch 6/50\n",
      "2/2 [==============================] - 0s 220ms/step - loss: 3.1496 - accuracy: 0.0833 - val_loss: 2.8007 - val_accuracy: 0.0483\n",
      "Epoch 7/50\n",
      "2/2 [==============================] - 0s 207ms/step - loss: 3.1850 - accuracy: 0.1333 - val_loss: 2.7998 - val_accuracy: 0.0467\n",
      "Epoch 1/50\n"
     ]
    },
    {
     "name": "stderr",
     "output_type": "stream",
     "text": [
      "2023-05-11 19:46:05.956954: I tensorflow/core/grappler/optimizers/custom_graph_optimizer_registry.cc:113] Plugin optimizer for device_type GPU is enabled.\n"
     ]
    },
    {
     "name": "stdout",
     "output_type": "stream",
     "text": [
      "2/2 [==============================] - ETA: 0s - loss: 3.4858 - accuracy: 0.0167"
     ]
    },
    {
     "name": "stderr",
     "output_type": "stream",
     "text": [
      "2023-05-11 19:46:07.041385: I tensorflow/core/grappler/optimizers/custom_graph_optimizer_registry.cc:113] Plugin optimizer for device_type GPU is enabled.\n"
     ]
    },
    {
     "name": "stdout",
     "output_type": "stream",
     "text": [
      "2/2 [==============================] - 2s 1s/step - loss: 3.4858 - accuracy: 0.0167 - val_loss: 2.8148 - val_accuracy: 0.0517\n",
      "Epoch 2/50\n",
      "2/2 [==============================] - 0s 314ms/step - loss: 3.4658 - accuracy: 0.0167 - val_loss: 2.8145 - val_accuracy: 0.0400\n",
      "Epoch 3/50\n",
      "2/2 [==============================] - 0s 284ms/step - loss: 3.3873 - accuracy: 0.0500 - val_loss: 2.8139 - val_accuracy: 0.0317\n",
      "Epoch 4/50\n",
      "2/2 [==============================] - 0s 293ms/step - loss: 3.4710 - accuracy: 0.0333 - val_loss: 2.8132 - val_accuracy: 0.0267\n",
      "Epoch 5/50\n",
      "2/2 [==============================] - 0s 228ms/step - loss: 3.4888 - accuracy: 0.0500 - val_loss: 2.8124 - val_accuracy: 0.0250\n",
      "trials for model 13: 0.07777778121332328\n",
      "Epoch 1/50\n"
     ]
    },
    {
     "name": "stderr",
     "output_type": "stream",
     "text": [
      "2023-05-11 19:46:09.827558: I tensorflow/core/grappler/optimizers/custom_graph_optimizer_registry.cc:113] Plugin optimizer for device_type GPU is enabled.\n"
     ]
    },
    {
     "name": "stdout",
     "output_type": "stream",
     "text": [
      "2/2 [==============================] - ETA: 0s - loss: 3.6056 - accuracy: 0.0333"
     ]
    },
    {
     "name": "stderr",
     "output_type": "stream",
     "text": [
      "2023-05-11 19:46:10.956945: I tensorflow/core/grappler/optimizers/custom_graph_optimizer_registry.cc:113] Plugin optimizer for device_type GPU is enabled.\n"
     ]
    },
    {
     "name": "stdout",
     "output_type": "stream",
     "text": [
      "2/2 [==============================] - 2s 1s/step - loss: 3.6056 - accuracy: 0.0333 - val_loss: 2.8470 - val_accuracy: 0.0250\n",
      "Epoch 2/50\n",
      "2/2 [==============================] - 0s 337ms/step - loss: 3.6543 - accuracy: 0.0333 - val_loss: 2.8441 - val_accuracy: 0.0283\n",
      "Epoch 3/50\n",
      "2/2 [==============================] - 0s 250ms/step - loss: 3.6059 - accuracy: 0.0333 - val_loss: 2.8412 - val_accuracy: 0.0283\n",
      "Epoch 4/50\n",
      "2/2 [==============================] - 0s 262ms/step - loss: 3.6142 - accuracy: 0.0333 - val_loss: 2.8383 - val_accuracy: 0.0283\n",
      "Epoch 5/50\n",
      "2/2 [==============================] - 0s 266ms/step - loss: 3.6147 - accuracy: 0.0333 - val_loss: 2.8354 - val_accuracy: 0.0267\n",
      "Epoch 6/50\n",
      "2/2 [==============================] - 0s 204ms/step - loss: 3.6118 - accuracy: 0.0500 - val_loss: 2.8324 - val_accuracy: 0.0250\n",
      "Epoch 1/50\n"
     ]
    },
    {
     "name": "stderr",
     "output_type": "stream",
     "text": [
      "2023-05-11 19:46:14.438077: I tensorflow/core/grappler/optimizers/custom_graph_optimizer_registry.cc:113] Plugin optimizer for device_type GPU is enabled.\n"
     ]
    },
    {
     "name": "stdout",
     "output_type": "stream",
     "text": [
      "2/2 [==============================] - ETA: 0s - loss: 3.4832 - accuracy: 0.0833"
     ]
    },
    {
     "name": "stderr",
     "output_type": "stream",
     "text": [
      "2023-05-11 19:46:15.541543: I tensorflow/core/grappler/optimizers/custom_graph_optimizer_registry.cc:113] Plugin optimizer for device_type GPU is enabled.\n"
     ]
    },
    {
     "name": "stdout",
     "output_type": "stream",
     "text": [
      "2/2 [==============================] - 2s 1s/step - loss: 3.4832 - accuracy: 0.0833 - val_loss: 2.8244 - val_accuracy: 0.0067\n",
      "Epoch 2/50\n",
      "2/2 [==============================] - 0s 347ms/step - loss: 3.3061 - accuracy: 0.0667 - val_loss: 2.8199 - val_accuracy: 0.0100\n",
      "Epoch 3/50\n",
      "2/2 [==============================] - 0s 200ms/step - loss: 3.3571 - accuracy: 0.0667 - val_loss: 2.8155 - val_accuracy: 0.0100\n",
      "Epoch 4/50\n",
      "2/2 [==============================] - 0s 294ms/step - loss: 3.3545 - accuracy: 0.0667 - val_loss: 2.8112 - val_accuracy: 0.0200\n",
      "Epoch 5/50\n",
      "2/2 [==============================] - 0s 328ms/step - loss: 3.3200 - accuracy: 0.0500 - val_loss: 2.8070 - val_accuracy: 0.0267\n",
      "Epoch 6/50\n",
      "2/2 [==============================] - 0s 217ms/step - loss: 3.4050 - accuracy: 0.0833 - val_loss: 2.8031 - val_accuracy: 0.0417\n",
      "Epoch 7/50\n",
      "2/2 [==============================] - 0s 236ms/step - loss: 3.3615 - accuracy: 0.0667 - val_loss: 2.7994 - val_accuracy: 0.0600\n",
      "Epoch 8/50\n",
      "2/2 [==============================] - 0s 214ms/step - loss: 3.3832 - accuracy: 0.0833 - val_loss: 2.7959 - val_accuracy: 0.0683\n",
      "Epoch 9/50\n",
      "2/2 [==============================] - 0s 189ms/step - loss: 3.3275 - accuracy: 0.0667 - val_loss: 2.7923 - val_accuracy: 0.0800\n",
      "Epoch 10/50\n",
      "2/2 [==============================] - 0s 210ms/step - loss: 3.3776 - accuracy: 0.0667 - val_loss: 2.7889 - val_accuracy: 0.1050\n",
      "Epoch 11/50\n",
      "2/2 [==============================] - 0s 203ms/step - loss: 3.2511 - accuracy: 0.0667 - val_loss: 2.7855 - val_accuracy: 0.1267\n",
      "Epoch 12/50\n",
      "2/2 [==============================] - 0s 316ms/step - loss: 3.2967 - accuracy: 0.1000 - val_loss: 2.7821 - val_accuracy: 0.1333\n",
      "Epoch 13/50\n",
      "2/2 [==============================] - 0s 200ms/step - loss: 3.2726 - accuracy: 0.1000 - val_loss: 2.7788 - val_accuracy: 0.1467\n",
      "Epoch 14/50\n",
      "2/2 [==============================] - 0s 185ms/step - loss: 3.3074 - accuracy: 0.0667 - val_loss: 2.7753 - val_accuracy: 0.1617\n",
      "Epoch 15/50\n",
      "2/2 [==============================] - 0s 179ms/step - loss: 3.2050 - accuracy: 0.1000 - val_loss: 2.7718 - val_accuracy: 0.1617\n",
      "Epoch 16/50\n",
      "2/2 [==============================] - 0s 251ms/step - loss: 3.1627 - accuracy: 0.1333 - val_loss: 2.7682 - val_accuracy: 0.1733\n",
      "Epoch 17/50\n",
      "2/2 [==============================] - 0s 207ms/step - loss: 3.2172 - accuracy: 0.1500 - val_loss: 2.7646 - val_accuracy: 0.1800\n",
      "Epoch 18/50\n",
      "2/2 [==============================] - 0s 257ms/step - loss: 3.2215 - accuracy: 0.1167 - val_loss: 2.7609 - val_accuracy: 0.1850\n",
      "Epoch 19/50\n",
      "2/2 [==============================] - 0s 192ms/step - loss: 3.1630 - accuracy: 0.1167 - val_loss: 2.7571 - val_accuracy: 0.1933\n",
      "Epoch 20/50\n",
      "2/2 [==============================] - 0s 191ms/step - loss: 3.1409 - accuracy: 0.0833 - val_loss: 2.7532 - val_accuracy: 0.1967\n",
      "Epoch 21/50\n",
      "2/2 [==============================] - 0s 181ms/step - loss: 3.1078 - accuracy: 0.1500 - val_loss: 2.7493 - val_accuracy: 0.1950\n",
      "Epoch 22/50\n",
      "2/2 [==============================] - 0s 185ms/step - loss: 3.1761 - accuracy: 0.1000 - val_loss: 2.7453 - val_accuracy: 0.1967\n",
      "Epoch 23/50\n",
      "2/2 [==============================] - 0s 179ms/step - loss: 3.0861 - accuracy: 0.1167 - val_loss: 2.7412 - val_accuracy: 0.1933\n",
      "Epoch 24/50\n",
      "2/2 [==============================] - 0s 188ms/step - loss: 3.1034 - accuracy: 0.1167 - val_loss: 2.7370 - val_accuracy: 0.1967\n",
      "Epoch 1/50\n"
     ]
    },
    {
     "name": "stderr",
     "output_type": "stream",
     "text": [
      "2023-05-11 19:46:23.145052: I tensorflow/core/grappler/optimizers/custom_graph_optimizer_registry.cc:113] Plugin optimizer for device_type GPU is enabled.\n"
     ]
    },
    {
     "name": "stdout",
     "output_type": "stream",
     "text": [
      "2/2 [==============================] - ETA: 0s - loss: 3.7279 - accuracy: 0.0000e+00"
     ]
    },
    {
     "name": "stderr",
     "output_type": "stream",
     "text": [
      "2023-05-11 19:46:24.246953: I tensorflow/core/grappler/optimizers/custom_graph_optimizer_registry.cc:113] Plugin optimizer for device_type GPU is enabled.\n"
     ]
    },
    {
     "name": "stdout",
     "output_type": "stream",
     "text": [
      "2/2 [==============================] - 2s 1s/step - loss: 3.7279 - accuracy: 0.0000e+00 - val_loss: 2.8307 - val_accuracy: 0.0400\n",
      "Epoch 2/50\n",
      "2/2 [==============================] - 0s 378ms/step - loss: 3.8277 - accuracy: 0.0000e+00 - val_loss: 2.8299 - val_accuracy: 0.0267\n",
      "Epoch 3/50\n",
      "2/2 [==============================] - 0s 301ms/step - loss: 3.7174 - accuracy: 0.0167 - val_loss: 2.8290 - val_accuracy: 0.0333\n",
      "Epoch 4/50\n",
      "2/2 [==============================] - 0s 249ms/step - loss: 3.7934 - accuracy: 0.0333 - val_loss: 2.8278 - val_accuracy: 0.0267\n",
      "Epoch 5/50\n",
      "2/2 [==============================] - 0s 264ms/step - loss: 3.8173 - accuracy: 0.0000e+00 - val_loss: 2.8264 - val_accuracy: 0.0200\n",
      "trials for model 14: 0.08055555758376916\n",
      "Epoch 1/50\n"
     ]
    },
    {
     "name": "stderr",
     "output_type": "stream",
     "text": [
      "2023-05-11 19:46:27.181176: I tensorflow/core/grappler/optimizers/custom_graph_optimizer_registry.cc:113] Plugin optimizer for device_type GPU is enabled.\n"
     ]
    },
    {
     "name": "stdout",
     "output_type": "stream",
     "text": [
      "2/2 [==============================] - ETA: 0s - loss: 3.4129 - accuracy: 0.0333"
     ]
    },
    {
     "name": "stderr",
     "output_type": "stream",
     "text": [
      "2023-05-11 19:46:28.642786: I tensorflow/core/grappler/optimizers/custom_graph_optimizer_registry.cc:113] Plugin optimizer for device_type GPU is enabled.\n"
     ]
    },
    {
     "name": "stdout",
     "output_type": "stream",
     "text": [
      "2/2 [==============================] - 3s 2s/step - loss: 3.4129 - accuracy: 0.0333 - val_loss: 2.8009 - val_accuracy: 0.0700\n",
      "Epoch 2/50\n",
      "2/2 [==============================] - 1s 551ms/step - loss: 3.4026 - accuracy: 0.0333 - val_loss: 2.8031 - val_accuracy: 0.0483\n",
      "Epoch 3/50\n",
      "2/2 [==============================] - 0s 298ms/step - loss: 3.4148 - accuracy: 0.0333 - val_loss: 2.8037 - val_accuracy: 0.0333\n",
      "Epoch 4/50\n",
      "2/2 [==============================] - 1s 318ms/step - loss: 3.4066 - accuracy: 0.0333 - val_loss: 2.8035 - val_accuracy: 0.0250\n",
      "Epoch 5/50\n",
      "2/2 [==============================] - 1s 507ms/step - loss: 3.3085 - accuracy: 0.0333 - val_loss: 2.8031 - val_accuracy: 0.0217\n",
      "Epoch 1/50\n"
     ]
    },
    {
     "name": "stderr",
     "output_type": "stream",
     "text": [
      "2023-05-11 19:46:32.881436: I tensorflow/core/grappler/optimizers/custom_graph_optimizer_registry.cc:113] Plugin optimizer for device_type GPU is enabled.\n"
     ]
    },
    {
     "name": "stdout",
     "output_type": "stream",
     "text": [
      "2/2 [==============================] - ETA: 0s - loss: 2.7945 - accuracy: 0.1333"
     ]
    },
    {
     "name": "stderr",
     "output_type": "stream",
     "text": [
      "2023-05-11 19:46:35.493040: I tensorflow/core/grappler/optimizers/custom_graph_optimizer_registry.cc:113] Plugin optimizer for device_type GPU is enabled.\n"
     ]
    },
    {
     "name": "stdout",
     "output_type": "stream",
     "text": [
      "2/2 [==============================] - 4s 2s/step - loss: 2.7945 - accuracy: 0.1333 - val_loss: 2.7969 - val_accuracy: 0.1283\n",
      "Epoch 2/50\n",
      "2/2 [==============================] - 1s 977ms/step - loss: 2.8493 - accuracy: 0.1333 - val_loss: 2.7961 - val_accuracy: 0.1900\n",
      "Epoch 3/50\n",
      "2/2 [==============================] - 1s 382ms/step - loss: 2.8120 - accuracy: 0.1500 - val_loss: 2.7947 - val_accuracy: 0.2117\n",
      "Epoch 4/50\n",
      "2/2 [==============================] - 1s 465ms/step - loss: 2.9462 - accuracy: 0.0667 - val_loss: 2.7925 - val_accuracy: 0.2150\n",
      "Epoch 5/50\n",
      "2/2 [==============================] - 0s 272ms/step - loss: 2.8521 - accuracy: 0.0833 - val_loss: 2.7900 - val_accuracy: 0.1983\n",
      "Epoch 6/50\n",
      "2/2 [==============================] - 0s 289ms/step - loss: 2.8664 - accuracy: 0.1000 - val_loss: 2.7872 - val_accuracy: 0.1950\n",
      "Epoch 7/50\n",
      "2/2 [==============================] - 0s 274ms/step - loss: 2.8994 - accuracy: 0.0333 - val_loss: 2.7845 - val_accuracy: 0.1917\n",
      "Epoch 8/50\n",
      "2/2 [==============================] - 0s 244ms/step - loss: 2.8337 - accuracy: 0.1000 - val_loss: 2.7816 - val_accuracy: 0.1867\n",
      "Epoch 1/50\n"
     ]
    },
    {
     "name": "stderr",
     "output_type": "stream",
     "text": [
      "2023-05-11 19:46:41.226323: I tensorflow/core/grappler/optimizers/custom_graph_optimizer_registry.cc:113] Plugin optimizer for device_type GPU is enabled.\n"
     ]
    },
    {
     "name": "stdout",
     "output_type": "stream",
     "text": [
      "2/2 [==============================] - ETA: 0s - loss: 2.9407 - accuracy: 0.1500"
     ]
    },
    {
     "name": "stderr",
     "output_type": "stream",
     "text": [
      "2023-05-11 19:46:42.665254: I tensorflow/core/grappler/optimizers/custom_graph_optimizer_registry.cc:113] Plugin optimizer for device_type GPU is enabled.\n"
     ]
    },
    {
     "name": "stdout",
     "output_type": "stream",
     "text": [
      "2/2 [==============================] - 3s 1s/step - loss: 2.9407 - accuracy: 0.1500 - val_loss: 2.7975 - val_accuracy: 0.1483\n",
      "Epoch 2/50\n",
      "2/2 [==============================] - 1s 477ms/step - loss: 3.1016 - accuracy: 0.1000 - val_loss: 2.7975 - val_accuracy: 0.1550\n",
      "Epoch 3/50\n",
      "2/2 [==============================] - 0s 355ms/step - loss: 3.0044 - accuracy: 0.1167 - val_loss: 2.7968 - val_accuracy: 0.1167\n",
      "Epoch 4/50\n",
      "2/2 [==============================] - 1s 370ms/step - loss: 2.9626 - accuracy: 0.1500 - val_loss: 2.7957 - val_accuracy: 0.0933\n",
      "Epoch 5/50\n",
      "2/2 [==============================] - 0s 306ms/step - loss: 2.9923 - accuracy: 0.1333 - val_loss: 2.7945 - val_accuracy: 0.0717\n",
      "Epoch 6/50\n",
      "2/2 [==============================] - 1s 577ms/step - loss: 2.8650 - accuracy: 0.1000 - val_loss: 2.7933 - val_accuracy: 0.0750\n",
      "trials for model 15: 0.09444444564481576\n",
      "Epoch 1/50\n"
     ]
    },
    {
     "name": "stderr",
     "output_type": "stream",
     "text": [
      "2023-05-11 19:46:47.395444: I tensorflow/core/grappler/optimizers/custom_graph_optimizer_registry.cc:113] Plugin optimizer for device_type GPU is enabled.\n"
     ]
    },
    {
     "name": "stdout",
     "output_type": "stream",
     "text": [
      "2/2 [==============================] - ETA: 0s - loss: 3.3127 - accuracy: 0.0500"
     ]
    },
    {
     "name": "stderr",
     "output_type": "stream",
     "text": [
      "2023-05-11 19:46:48.939303: I tensorflow/core/grappler/optimizers/custom_graph_optimizer_registry.cc:113] Plugin optimizer for device_type GPU is enabled.\n"
     ]
    },
    {
     "name": "stdout",
     "output_type": "stream",
     "text": [
      "2/2 [==============================] - 3s 1s/step - loss: 3.3127 - accuracy: 0.0500 - val_loss: 2.8009 - val_accuracy: 0.0900\n",
      "Epoch 2/50\n",
      "2/2 [==============================] - 1s 581ms/step - loss: 3.2268 - accuracy: 0.0667 - val_loss: 2.7996 - val_accuracy: 0.1033\n",
      "Epoch 3/50\n",
      "2/2 [==============================] - 1s 431ms/step - loss: 3.2600 - accuracy: 0.0333 - val_loss: 2.7982 - val_accuracy: 0.0783\n",
      "Epoch 4/50\n",
      "2/2 [==============================] - 0s 317ms/step - loss: 3.2543 - accuracy: 0.0500 - val_loss: 2.7969 - val_accuracy: 0.0767\n",
      "Epoch 5/50\n",
      "2/2 [==============================] - 0s 252ms/step - loss: 3.2178 - accuracy: 0.0333 - val_loss: 2.7957 - val_accuracy: 0.0700\n",
      "Epoch 6/50\n",
      "2/2 [==============================] - 0s 299ms/step - loss: 3.3132 - accuracy: 0.0667 - val_loss: 2.7945 - val_accuracy: 0.0617\n",
      "Epoch 1/50\n"
     ]
    },
    {
     "name": "stderr",
     "output_type": "stream",
     "text": [
      "2023-05-11 19:46:53.085799: I tensorflow/core/grappler/optimizers/custom_graph_optimizer_registry.cc:113] Plugin optimizer for device_type GPU is enabled.\n"
     ]
    },
    {
     "name": "stdout",
     "output_type": "stream",
     "text": [
      "2/2 [==============================] - ETA: 0s - loss: 3.1631 - accuracy: 0.0333"
     ]
    },
    {
     "name": "stderr",
     "output_type": "stream",
     "text": [
      "2023-05-11 19:46:54.547779: I tensorflow/core/grappler/optimizers/custom_graph_optimizer_registry.cc:113] Plugin optimizer for device_type GPU is enabled.\n"
     ]
    },
    {
     "name": "stdout",
     "output_type": "stream",
     "text": [
      "2/2 [==============================] - 3s 1s/step - loss: 3.1631 - accuracy: 0.0333 - val_loss: 2.7971 - val_accuracy: 0.1167\n",
      "Epoch 2/50\n",
      "2/2 [==============================] - 1s 530ms/step - loss: 3.1001 - accuracy: 0.1167 - val_loss: 2.7970 - val_accuracy: 0.1117\n",
      "Epoch 3/50\n",
      "2/2 [==============================] - 1s 410ms/step - loss: 3.0721 - accuracy: 0.1167 - val_loss: 2.7967 - val_accuracy: 0.1150\n",
      "Epoch 4/50\n",
      "2/2 [==============================] - 0s 374ms/step - loss: 3.1674 - accuracy: 0.0500 - val_loss: 2.7966 - val_accuracy: 0.1083\n",
      "Epoch 5/50\n",
      "2/2 [==============================] - 0s 298ms/step - loss: 3.1024 - accuracy: 0.1000 - val_loss: 2.7968 - val_accuracy: 0.0950\n",
      "Epoch 1/50\n"
     ]
    },
    {
     "name": "stderr",
     "output_type": "stream",
     "text": [
      "2023-05-11 19:46:58.769490: I tensorflow/core/grappler/optimizers/custom_graph_optimizer_registry.cc:113] Plugin optimizer for device_type GPU is enabled.\n"
     ]
    },
    {
     "name": "stdout",
     "output_type": "stream",
     "text": [
      "2/2 [==============================] - ETA: 0s - loss: 3.1222 - accuracy: 0.0833"
     ]
    },
    {
     "name": "stderr",
     "output_type": "stream",
     "text": [
      "2023-05-11 19:47:00.503504: I tensorflow/core/grappler/optimizers/custom_graph_optimizer_registry.cc:113] Plugin optimizer for device_type GPU is enabled.\n"
     ]
    },
    {
     "name": "stdout",
     "output_type": "stream",
     "text": [
      "2/2 [==============================] - 3s 2s/step - loss: 3.1222 - accuracy: 0.0833 - val_loss: 2.8080 - val_accuracy: 0.0367\n",
      "Epoch 2/50\n",
      "2/2 [==============================] - 1s 429ms/step - loss: 3.0421 - accuracy: 0.0333 - val_loss: 2.8057 - val_accuracy: 0.0267\n",
      "Epoch 3/50\n",
      "2/2 [==============================] - 1s 449ms/step - loss: 3.1040 - accuracy: 0.0500 - val_loss: 2.8033 - val_accuracy: 0.0200\n",
      "Epoch 4/50\n",
      "2/2 [==============================] - 0s 299ms/step - loss: 3.1122 - accuracy: 0.0833 - val_loss: 2.8009 - val_accuracy: 0.0150\n",
      "Epoch 5/50\n",
      "2/2 [==============================] - 0s 311ms/step - loss: 3.1004 - accuracy: 0.0833 - val_loss: 2.7984 - val_accuracy: 0.0150\n",
      "trials for model 16: 0.05722222228844961\n",
      "Epoch 1/50\n"
     ]
    },
    {
     "name": "stderr",
     "output_type": "stream",
     "text": [
      "2023-05-11 19:47:04.402107: I tensorflow/core/grappler/optimizers/custom_graph_optimizer_registry.cc:113] Plugin optimizer for device_type GPU is enabled.\n"
     ]
    },
    {
     "name": "stdout",
     "output_type": "stream",
     "text": [
      "2/2 [==============================] - ETA: 0s - loss: 3.2918 - accuracy: 0.0333"
     ]
    },
    {
     "name": "stderr",
     "output_type": "stream",
     "text": [
      "2023-05-11 19:47:06.156996: I tensorflow/core/grappler/optimizers/custom_graph_optimizer_registry.cc:113] Plugin optimizer for device_type GPU is enabled.\n"
     ]
    },
    {
     "name": "stdout",
     "output_type": "stream",
     "text": [
      "2/2 [==============================] - 3s 2s/step - loss: 3.2918 - accuracy: 0.0333 - val_loss: 2.8173 - val_accuracy: 0.0100\n",
      "Epoch 2/50\n",
      "2/2 [==============================] - 1s 1s/step - loss: 3.3148 - accuracy: 0.0500 - val_loss: 2.8154 - val_accuracy: 0.0117\n",
      "Epoch 3/50\n",
      "2/2 [==============================] - 1s 567ms/step - loss: 3.1568 - accuracy: 0.0833 - val_loss: 2.8140 - val_accuracy: 0.0083\n",
      "Epoch 4/50\n",
      "2/2 [==============================] - 1s 443ms/step - loss: 3.1379 - accuracy: 0.0500 - val_loss: 2.8134 - val_accuracy: 0.0067\n",
      "Epoch 5/50\n",
      "2/2 [==============================] - 0s 422ms/step - loss: 3.3540 - accuracy: 0.0500 - val_loss: 2.8133 - val_accuracy: 0.0083\n",
      "Epoch 6/50\n",
      "2/2 [==============================] - 1s 951ms/step - loss: 3.1391 - accuracy: 0.0500 - val_loss: 2.8136 - val_accuracy: 0.0033\n",
      "Epoch 1/50\n"
     ]
    },
    {
     "name": "stderr",
     "output_type": "stream",
     "text": [
      "2023-05-11 19:47:18.155462: I tensorflow/core/grappler/optimizers/custom_graph_optimizer_registry.cc:113] Plugin optimizer for device_type GPU is enabled.\n"
     ]
    },
    {
     "name": "stdout",
     "output_type": "stream",
     "text": [
      "2/2 [==============================] - ETA: 0s - loss: 3.5564 - accuracy: 0.0167    "
     ]
    },
    {
     "name": "stderr",
     "output_type": "stream",
     "text": [
      "2023-05-11 19:47:22.910233: I tensorflow/core/grappler/optimizers/custom_graph_optimizer_registry.cc:113] Plugin optimizer for device_type GPU is enabled.\n"
     ]
    },
    {
     "name": "stdout",
     "output_type": "stream",
     "text": [
      "2/2 [==============================] - 8s 5s/step - loss: 3.5564 - accuracy: 0.0167 - val_loss: 2.8098 - val_accuracy: 0.0233\n",
      "Epoch 2/50\n",
      "2/2 [==============================] - 2s 1s/step - loss: 3.6664 - accuracy: 0.0333 - val_loss: 2.8093 - val_accuracy: 0.0283\n",
      "Epoch 3/50\n",
      "2/2 [==============================] - 1s 608ms/step - loss: 3.5911 - accuracy: 0.0167 - val_loss: 2.8090 - val_accuracy: 0.0267\n",
      "Epoch 4/50\n",
      "2/2 [==============================] - 1s 578ms/step - loss: 3.5859 - accuracy: 0.0333 - val_loss: 2.8091 - val_accuracy: 0.0250\n",
      "Epoch 5/50\n",
      "2/2 [==============================] - 0s 285ms/step - loss: 3.5992 - accuracy: 0.0333 - val_loss: 2.8094 - val_accuracy: 0.0300\n",
      "Epoch 6/50\n",
      "2/2 [==============================] - 1s 398ms/step - loss: 3.6208 - accuracy: 0.0000e+00 - val_loss: 2.8096 - val_accuracy: 0.0383\n",
      "Epoch 7/50\n",
      "2/2 [==============================] - 1s 444ms/step - loss: 3.6033 - accuracy: 0.0000e+00 - val_loss: 2.8097 - val_accuracy: 0.0517\n",
      "Epoch 8/50\n",
      "2/2 [==============================] - 1s 361ms/step - loss: 3.4592 - accuracy: 0.0167 - val_loss: 2.8099 - val_accuracy: 0.0683\n",
      "Epoch 9/50\n",
      "2/2 [==============================] - 0s 299ms/step - loss: 3.6244 - accuracy: 0.0333 - val_loss: 2.8102 - val_accuracy: 0.0783\n",
      "Epoch 10/50\n",
      "2/2 [==============================] - 1s 410ms/step - loss: 3.6562 - accuracy: 0.0167 - val_loss: 2.8105 - val_accuracy: 0.0900\n",
      "Epoch 11/50\n",
      "2/2 [==============================] - 1s 1s/step - loss: 3.6313 - accuracy: 0.0167 - val_loss: 2.8109 - val_accuracy: 0.0983\n",
      "Epoch 12/50\n",
      "2/2 [==============================] - 0s 425ms/step - loss: 3.6256 - accuracy: 0.0333 - val_loss: 2.8113 - val_accuracy: 0.1000\n",
      "Epoch 13/50\n",
      "2/2 [==============================] - 0s 298ms/step - loss: 3.5454 - accuracy: 0.0500 - val_loss: 2.8117 - val_accuracy: 0.1067\n",
      "Epoch 14/50\n",
      "2/2 [==============================] - 0s 279ms/step - loss: 3.6031 - accuracy: 0.0333 - val_loss: 2.8121 - val_accuracy: 0.1233\n",
      "Epoch 15/50\n",
      "2/2 [==============================] - 0s 236ms/step - loss: 3.6175 - accuracy: 0.0000e+00 - val_loss: 2.8126 - val_accuracy: 0.1300\n",
      "Epoch 16/50\n",
      "2/2 [==============================] - 0s 292ms/step - loss: 3.6085 - accuracy: 0.0000e+00 - val_loss: 2.8130 - val_accuracy: 0.1283\n",
      "Epoch 17/50\n",
      "2/2 [==============================] - 1s 574ms/step - loss: 3.6177 - accuracy: 0.0167 - val_loss: 2.8135 - val_accuracy: 0.1300\n",
      "Epoch 18/50\n",
      "2/2 [==============================] - 0s 296ms/step - loss: 3.6388 - accuracy: 0.0167 - val_loss: 2.8140 - val_accuracy: 0.1333\n",
      "Epoch 19/50\n",
      "2/2 [==============================] - 0s 315ms/step - loss: 3.5869 - accuracy: 0.0500 - val_loss: 2.8144 - val_accuracy: 0.1317\n",
      "Epoch 20/50\n",
      "2/2 [==============================] - 1s 497ms/step - loss: 3.5986 - accuracy: 0.0167 - val_loss: 2.8149 - val_accuracy: 0.1367\n",
      "Epoch 21/50\n",
      "2/2 [==============================] - 0s 286ms/step - loss: 3.7331 - accuracy: 0.0333 - val_loss: 2.8154 - val_accuracy: 0.1383\n",
      "Epoch 22/50\n",
      "2/2 [==============================] - 0s 262ms/step - loss: 3.5498 - accuracy: 0.0167 - val_loss: 2.8158 - val_accuracy: 0.1433\n",
      "Epoch 23/50\n",
      "2/2 [==============================] - 0s 213ms/step - loss: 3.6256 - accuracy: 0.0333 - val_loss: 2.8163 - val_accuracy: 0.1500\n",
      "Epoch 24/50\n",
      "2/2 [==============================] - 0s 192ms/step - loss: 3.5621 - accuracy: 0.0000e+00 - val_loss: 2.8168 - val_accuracy: 0.1550\n",
      "Epoch 25/50\n",
      "2/2 [==============================] - 0s 187ms/step - loss: 3.6078 - accuracy: 0.0000e+00 - val_loss: 2.8173 - val_accuracy: 0.1550\n",
      "Epoch 26/50\n",
      "2/2 [==============================] - 0s 196ms/step - loss: 3.6092 - accuracy: 0.0000e+00 - val_loss: 2.8177 - val_accuracy: 0.1550\n",
      "Epoch 27/50\n",
      "2/2 [==============================] - 0s 184ms/step - loss: 3.5246 - accuracy: 0.0333 - val_loss: 2.8182 - val_accuracy: 0.1567\n",
      "Epoch 28/50\n",
      "2/2 [==============================] - 0s 179ms/step - loss: 3.6559 - accuracy: 0.0333 - val_loss: 2.8188 - val_accuracy: 0.1567\n",
      "Epoch 29/50\n",
      "2/2 [==============================] - 0s 167ms/step - loss: 3.6085 - accuracy: 0.0000e+00 - val_loss: 2.8193 - val_accuracy: 0.1567\n",
      "Epoch 30/50\n",
      "2/2 [==============================] - 0s 180ms/step - loss: 3.5426 - accuracy: 0.0333 - val_loss: 2.8199 - val_accuracy: 0.1583\n",
      "Epoch 31/50\n",
      "2/2 [==============================] - 1s 195ms/step - loss: 3.6000 - accuracy: 0.0333 - val_loss: 2.8204 - val_accuracy: 0.1617\n",
      "Epoch 32/50\n",
      "2/2 [==============================] - 1s 853ms/step - loss: 3.5707 - accuracy: 0.0333 - val_loss: 2.8209 - val_accuracy: 0.1633\n",
      "Epoch 33/50\n",
      "2/2 [==============================] - 0s 184ms/step - loss: 3.4746 - accuracy: 0.0333 - val_loss: 2.8215 - val_accuracy: 0.1650\n",
      "Epoch 34/50\n",
      "2/2 [==============================] - 0s 168ms/step - loss: 3.4843 - accuracy: 0.0333 - val_loss: 2.8221 - val_accuracy: 0.1650\n",
      "Epoch 35/50\n",
      "2/2 [==============================] - 0s 439ms/step - loss: 3.4404 - accuracy: 0.0500 - val_loss: 2.8226 - val_accuracy: 0.1700\n",
      "Epoch 36/50\n",
      "2/2 [==============================] - 0s 193ms/step - loss: 3.5857 - accuracy: 0.0167 - val_loss: 2.8231 - val_accuracy: 0.1683\n",
      "Epoch 37/50\n",
      "2/2 [==============================] - 0s 335ms/step - loss: 3.4745 - accuracy: 0.0167 - val_loss: 2.8237 - val_accuracy: 0.1700\n",
      "Epoch 38/50\n",
      "2/2 [==============================] - 0s 229ms/step - loss: 3.5218 - accuracy: 0.0667 - val_loss: 2.8243 - val_accuracy: 0.1700\n",
      "Epoch 39/50\n",
      "2/2 [==============================] - 0s 267ms/step - loss: 3.6076 - accuracy: 0.0500 - val_loss: 2.8249 - val_accuracy: 0.1683\n",
      "Epoch 1/50\n"
     ]
    },
    {
     "name": "stderr",
     "output_type": "stream",
     "text": [
      "2023-05-11 19:47:47.428925: I tensorflow/core/grappler/optimizers/custom_graph_optimizer_registry.cc:113] Plugin optimizer for device_type GPU is enabled.\n"
     ]
    },
    {
     "name": "stdout",
     "output_type": "stream",
     "text": [
      "2/2 [==============================] - ETA: 0s - loss: 3.1866 - accuracy: 0.0833"
     ]
    },
    {
     "name": "stderr",
     "output_type": "stream",
     "text": [
      "2023-05-11 19:47:52.903520: I tensorflow/core/grappler/optimizers/custom_graph_optimizer_registry.cc:113] Plugin optimizer for device_type GPU is enabled.\n"
     ]
    },
    {
     "name": "stdout",
     "output_type": "stream",
     "text": [
      "2/2 [==============================] - 8s 5s/step - loss: 3.1866 - accuracy: 0.0833 - val_loss: 2.8063 - val_accuracy: 0.0917\n",
      "Epoch 2/50\n",
      "2/2 [==============================] - 2s 954ms/step - loss: 3.1865 - accuracy: 0.0833 - val_loss: 2.8052 - val_accuracy: 0.0750\n",
      "Epoch 3/50\n",
      "2/2 [==============================] - 1s 716ms/step - loss: 3.2523 - accuracy: 0.1167 - val_loss: 2.8037 - val_accuracy: 0.0667\n",
      "Epoch 4/50\n",
      "2/2 [==============================] - 1s 778ms/step - loss: 3.2171 - accuracy: 0.1000 - val_loss: 2.8022 - val_accuracy: 0.0500\n",
      "Epoch 5/50\n",
      "2/2 [==============================] - 2s 2s/step - loss: 3.2392 - accuracy: 0.0833 - val_loss: 2.8005 - val_accuracy: 0.0400\n",
      "trials for model 17: 0.07055555641030271\n",
      "Epoch 1/50\n"
     ]
    },
    {
     "name": "stderr",
     "output_type": "stream",
     "text": [
      "2023-05-11 19:48:18.558184: I tensorflow/core/grappler/optimizers/custom_graph_optimizer_registry.cc:113] Plugin optimizer for device_type GPU is enabled.\n"
     ]
    },
    {
     "name": "stdout",
     "output_type": "stream",
     "text": [
      "2/2 [==============================] - ETA: 0s - loss: 3.2007 - accuracy: 0.0333 "
     ]
    },
    {
     "name": "stderr",
     "output_type": "stream",
     "text": [
      "2023-05-11 19:48:29.465994: I tensorflow/core/grappler/optimizers/custom_graph_optimizer_registry.cc:113] Plugin optimizer for device_type GPU is enabled.\n"
     ]
    },
    {
     "name": "stdout",
     "output_type": "stream",
     "text": [
      "2/2 [==============================] - 25s 4s/step - loss: 3.2007 - accuracy: 0.0333 - val_loss: 2.8022 - val_accuracy: 0.0650\n",
      "Epoch 2/50\n",
      "2/2 [==============================] - 2s 839ms/step - loss: 3.2466 - accuracy: 0.0667 - val_loss: 2.8047 - val_accuracy: 0.0333\n",
      "Epoch 3/50\n",
      "2/2 [==============================] - 1s 444ms/step - loss: 3.2722 - accuracy: 0.0833 - val_loss: 2.8082 - val_accuracy: 0.0217\n",
      "Epoch 4/50\n",
      "2/2 [==============================] - 1s 546ms/step - loss: 3.2292 - accuracy: 0.0833 - val_loss: 2.8121 - val_accuracy: 0.0100\n",
      "Epoch 5/50\n",
      "2/2 [==============================] - 1s 497ms/step - loss: 3.1628 - accuracy: 0.0667 - val_loss: 2.8163 - val_accuracy: 0.0083\n",
      "Epoch 1/50\n"
     ]
    },
    {
     "name": "stderr",
     "output_type": "stream",
     "text": [
      "2023-05-11 19:48:38.391754: I tensorflow/core/grappler/optimizers/custom_graph_optimizer_registry.cc:113] Plugin optimizer for device_type GPU is enabled.\n"
     ]
    },
    {
     "name": "stdout",
     "output_type": "stream",
     "text": [
      "2/2 [==============================] - ETA: 0s - loss: 3.3148 - accuracy: 0.1000"
     ]
    },
    {
     "name": "stderr",
     "output_type": "stream",
     "text": [
      "2023-05-11 19:48:42.605440: I tensorflow/core/grappler/optimizers/custom_graph_optimizer_registry.cc:113] Plugin optimizer for device_type GPU is enabled.\n"
     ]
    },
    {
     "name": "stdout",
     "output_type": "stream",
     "text": [
      "2/2 [==============================] - 7s 4s/step - loss: 3.3148 - accuracy: 0.1000 - val_loss: 2.8103 - val_accuracy: 0.1583\n",
      "Epoch 2/50\n",
      "2/2 [==============================] - 1s 796ms/step - loss: 3.3318 - accuracy: 0.0833 - val_loss: 2.8057 - val_accuracy: 0.1333\n",
      "Epoch 3/50\n",
      "2/2 [==============================] - 1s 674ms/step - loss: 3.3714 - accuracy: 0.1167 - val_loss: 2.8012 - val_accuracy: 0.1250\n",
      "Epoch 4/50\n",
      "2/2 [==============================] - 1s 684ms/step - loss: 3.4008 - accuracy: 0.1167 - val_loss: 2.7975 - val_accuracy: 0.1317\n",
      "Epoch 5/50\n",
      "2/2 [==============================] - 0s 335ms/step - loss: 3.3947 - accuracy: 0.0833 - val_loss: 2.7941 - val_accuracy: 0.1433\n",
      "Epoch 1/50\n"
     ]
    },
    {
     "name": "stderr",
     "output_type": "stream",
     "text": [
      "2023-05-11 19:48:50.644487: I tensorflow/core/grappler/optimizers/custom_graph_optimizer_registry.cc:113] Plugin optimizer for device_type GPU is enabled.\n"
     ]
    },
    {
     "name": "stdout",
     "output_type": "stream",
     "text": [
      "2/2 [==============================] - ETA: 0s - loss: 3.4655 - accuracy: 0.0333"
     ]
    },
    {
     "name": "stderr",
     "output_type": "stream",
     "text": [
      "2023-05-11 19:48:52.622670: I tensorflow/core/grappler/optimizers/custom_graph_optimizer_registry.cc:113] Plugin optimizer for device_type GPU is enabled.\n"
     ]
    },
    {
     "name": "stdout",
     "output_type": "stream",
     "text": [
      "2/2 [==============================] - 4s 2s/step - loss: 3.4655 - accuracy: 0.0333 - val_loss: 2.8113 - val_accuracy: 0.0717\n",
      "Epoch 2/50\n",
      "2/2 [==============================] - 1s 447ms/step - loss: 3.3749 - accuracy: 0.0500 - val_loss: 2.8094 - val_accuracy: 0.0750\n",
      "Epoch 3/50\n",
      "2/2 [==============================] - 1s 521ms/step - loss: 3.4145 - accuracy: 0.0833 - val_loss: 2.8078 - val_accuracy: 0.0650\n",
      "Epoch 4/50\n",
      "2/2 [==============================] - 1s 426ms/step - loss: 3.5151 - accuracy: 0.0833 - val_loss: 2.8062 - val_accuracy: 0.0483\n",
      "Epoch 5/50\n",
      "2/2 [==============================] - 1s 405ms/step - loss: 3.4115 - accuracy: 0.0500 - val_loss: 2.8048 - val_accuracy: 0.0250\n",
      "Epoch 6/50\n",
      "2/2 [==============================] - 1s 540ms/step - loss: 3.4823 - accuracy: 0.0500 - val_loss: 2.8036 - val_accuracy: 0.0200\n",
      "trials for model 18: 0.05722222135712703\n",
      "Epoch 1/50\n"
     ]
    },
    {
     "name": "stderr",
     "output_type": "stream",
     "text": [
      "2023-05-11 19:49:13.317019: I tensorflow/core/grappler/optimizers/custom_graph_optimizer_registry.cc:113] Plugin optimizer for device_type GPU is enabled.\n"
     ]
    },
    {
     "name": "stdout",
     "output_type": "stream",
     "text": [
      "2/2 [==============================] - ETA: 0s - loss: 3.3580 - accuracy: 0.0333 "
     ]
    },
    {
     "name": "stderr",
     "output_type": "stream",
     "text": [
      "2023-05-11 19:49:30.116270: I tensorflow/core/grappler/optimizers/custom_graph_optimizer_registry.cc:113] Plugin optimizer for device_type GPU is enabled.\n"
     ]
    },
    {
     "name": "stdout",
     "output_type": "stream",
     "text": [
      "2/2 [==============================] - 32s 9s/step - loss: 3.3580 - accuracy: 0.0333 - val_loss: 2.8051 - val_accuracy: 0.0217\n",
      "Epoch 2/50\n",
      "2/2 [==============================] - 3s 2s/step - loss: 3.2195 - accuracy: 0.0333 - val_loss: 2.8032 - val_accuracy: 0.0217\n",
      "Epoch 3/50\n",
      "2/2 [==============================] - 1s 500ms/step - loss: 3.4533 - accuracy: 0.0167 - val_loss: 2.8016 - val_accuracy: 0.0200\n",
      "Epoch 4/50\n",
      "2/2 [==============================] - 2s 2s/step - loss: 3.2272 - accuracy: 0.0667 - val_loss: 2.8000 - val_accuracy: 0.0217\n",
      "Epoch 5/50\n",
      "2/2 [==============================] - 1s 698ms/step - loss: 3.2517 - accuracy: 0.0500 - val_loss: 2.7983 - val_accuracy: 0.0300\n",
      "Epoch 6/50\n",
      "2/2 [==============================] - 0s 232ms/step - loss: 3.2714 - accuracy: 0.0833 - val_loss: 2.7967 - val_accuracy: 0.0317\n",
      "Epoch 7/50\n",
      "2/2 [==============================] - 1s 341ms/step - loss: 3.2761 - accuracy: 0.0333 - val_loss: 2.7951 - val_accuracy: 0.0367\n",
      "Epoch 8/50\n",
      "2/2 [==============================] - 0s 294ms/step - loss: 3.3401 - accuracy: 0.0167 - val_loss: 2.7933 - val_accuracy: 0.0417\n",
      "Epoch 9/50\n",
      "2/2 [==============================] - 0s 284ms/step - loss: 3.2630 - accuracy: 0.0500 - val_loss: 2.7916 - val_accuracy: 0.0417\n",
      "Epoch 10/50\n",
      "2/2 [==============================] - 1s 572ms/step - loss: 3.2110 - accuracy: 0.0667 - val_loss: 2.7898 - val_accuracy: 0.0417\n",
      "Epoch 11/50\n",
      "2/2 [==============================] - 1s 627ms/step - loss: 3.1798 - accuracy: 0.0500 - val_loss: 2.7880 - val_accuracy: 0.0400\n",
      "Epoch 12/50\n",
      "2/2 [==============================] - 1s 1s/step - loss: 3.3093 - accuracy: 0.0333 - val_loss: 2.7863 - val_accuracy: 0.0450\n",
      "Epoch 13/50\n",
      "2/2 [==============================] - 0s 432ms/step - loss: 3.3606 - accuracy: 0.0333 - val_loss: 2.7846 - val_accuracy: 0.0500\n",
      "Epoch 14/50\n",
      "2/2 [==============================] - 0s 281ms/step - loss: 3.3122 - accuracy: 0.0167 - val_loss: 2.7829 - val_accuracy: 0.0517\n",
      "Epoch 15/50\n",
      "2/2 [==============================] - 0s 192ms/step - loss: 3.1960 - accuracy: 0.0500 - val_loss: 2.7813 - val_accuracy: 0.0533\n",
      "Epoch 16/50\n",
      "2/2 [==============================] - 0s 189ms/step - loss: 3.2922 - accuracy: 0.0333 - val_loss: 2.7798 - val_accuracy: 0.0500\n",
      "Epoch 17/50\n",
      "2/2 [==============================] - 1s 483ms/step - loss: 3.3008 - accuracy: 0.0333 - val_loss: 2.7782 - val_accuracy: 0.0517\n",
      "Epoch 18/50\n",
      "2/2 [==============================] - 0s 370ms/step - loss: 3.2287 - accuracy: 0.0333 - val_loss: 2.7768 - val_accuracy: 0.0500\n",
      "Epoch 19/50\n",
      "2/2 [==============================] - 0s 370ms/step - loss: 3.1859 - accuracy: 0.0667 - val_loss: 2.7754 - val_accuracy: 0.0517\n",
      "Epoch 1/50\n"
     ]
    },
    {
     "name": "stderr",
     "output_type": "stream",
     "text": [
      "2023-05-11 19:49:52.981665: I tensorflow/core/grappler/optimizers/custom_graph_optimizer_registry.cc:113] Plugin optimizer for device_type GPU is enabled.\n"
     ]
    },
    {
     "name": "stdout",
     "output_type": "stream",
     "text": [
      "2/2 [==============================] - ETA: 0s - loss: 3.4455 - accuracy: 0.0167"
     ]
    },
    {
     "name": "stderr",
     "output_type": "stream",
     "text": [
      "2023-05-11 19:49:58.943956: I tensorflow/core/grappler/optimizers/custom_graph_optimizer_registry.cc:113] Plugin optimizer for device_type GPU is enabled.\n"
     ]
    },
    {
     "name": "stdout",
     "output_type": "stream",
     "text": [
      "2/2 [==============================] - 14s 11s/step - loss: 3.4455 - accuracy: 0.0167 - val_loss: 2.8098 - val_accuracy: 0.0017\n",
      "Epoch 2/50\n",
      "2/2 [==============================] - 3s 2s/step - loss: 3.5547 - accuracy: 0.0500 - val_loss: 2.8093 - val_accuracy: 0.0117\n",
      "Epoch 3/50\n",
      "2/2 [==============================] - 1s 693ms/step - loss: 3.4988 - accuracy: 0.0333 - val_loss: 2.8102 - val_accuracy: 0.0383\n",
      "Epoch 4/50\n",
      "2/2 [==============================] - 1s 298ms/step - loss: 3.4612 - accuracy: 0.0167 - val_loss: 2.8125 - val_accuracy: 0.0400\n",
      "Epoch 5/50\n",
      "2/2 [==============================] - 0s 286ms/step - loss: 3.4298 - accuracy: 0.0667 - val_loss: 2.8154 - val_accuracy: 0.0333\n",
      "Epoch 6/50\n",
      "2/2 [==============================] - 0s 213ms/step - loss: 3.4423 - accuracy: 0.0500 - val_loss: 2.8186 - val_accuracy: 0.0283\n",
      "Epoch 7/50\n",
      "2/2 [==============================] - 0s 268ms/step - loss: 3.5339 - accuracy: 0.0333 - val_loss: 2.8217 - val_accuracy: 0.0217\n",
      "Epoch 8/50\n",
      "2/2 [==============================] - 0s 193ms/step - loss: 3.4902 - accuracy: 0.0333 - val_loss: 2.8250 - val_accuracy: 0.0217\n",
      "Epoch 1/50\n"
     ]
    },
    {
     "name": "stderr",
     "output_type": "stream",
     "text": [
      "2023-05-11 19:50:14.431766: I tensorflow/core/grappler/optimizers/custom_graph_optimizer_registry.cc:113] Plugin optimizer for device_type GPU is enabled.\n"
     ]
    },
    {
     "name": "stdout",
     "output_type": "stream",
     "text": [
      "2/2 [==============================] - ETA: 0s - loss: 3.5327 - accuracy: 0.0500"
     ]
    },
    {
     "name": "stderr",
     "output_type": "stream",
     "text": [
      "2023-05-11 19:50:17.904748: I tensorflow/core/grappler/optimizers/custom_graph_optimizer_registry.cc:113] Plugin optimizer for device_type GPU is enabled.\n"
     ]
    },
    {
     "name": "stdout",
     "output_type": "stream",
     "text": [
      "2/2 [==============================] - 6s 4s/step - loss: 3.5327 - accuracy: 0.0500 - val_loss: 2.8028 - val_accuracy: 0.1217\n",
      "Epoch 2/50\n",
      "2/2 [==============================] - 2s 634ms/step - loss: 3.4960 - accuracy: 0.0333 - val_loss: 2.8024 - val_accuracy: 0.0917\n",
      "Epoch 3/50\n",
      "2/2 [==============================] - 1s 443ms/step - loss: 3.5073 - accuracy: 0.0167 - val_loss: 2.8009 - val_accuracy: 0.0800\n",
      "Epoch 4/50\n",
      "2/2 [==============================] - 0s 446ms/step - loss: 3.4362 - accuracy: 0.0667 - val_loss: 2.7987 - val_accuracy: 0.0733\n",
      "Epoch 5/50\n",
      "2/2 [==============================] - 0s 265ms/step - loss: 3.5371 - accuracy: 0.0167 - val_loss: 2.7964 - val_accuracy: 0.0833\n",
      "trials for model 19: 0.052222223952412605\n"
     ]
    }
   ],
   "source": [
    "\n",
    "local_trials = []\n",
    "for i, item in enumerate(model_config):\n",
    "    model_name = item[\"model_type\"]\n",
    "    model_params = item[\"params\"]\n",
    "    trials = [] \n",
    "    for trail in range(3) : \n",
    "        tf.keras.backend.clear_session()\n",
    "        model_l = CANDIDATE_MODELS[model_name](n_classes=n_classes, \n",
    "                                            input_shape=(32,32,3),\n",
    "                                            **model_params)\n",
    "        model_l.compile(optimizer=tf.keras.optimizers.Adam(lr = 1e-6),\n",
    "                            loss = \"sparse_categorical_crossentropy\", \n",
    "                            metrics = [\"accuracy\"])\n",
    "\n",
    "        ub_history = model_l.fit(private_data[i][\"X\"], private_data[i][\"y\"],\n",
    "                        batch_size = 32, epochs = 50, shuffle=True, verbose = True, \n",
    "                        validation_data = [private_test_data[\"X\"], private_test_data[\"y\"]],\n",
    "                        callbacks=[EarlyStopping(monitor=\"val_accuracy\", min_delta=0.001, patience=4, restore_best_weights=True)])\n",
    "        trials.append(ub_history.history[\"val_accuracy\"][-1])\n",
    "    avg_trial = np.mean(trials)\n",
    "    local_trials.append(avg_trial)\n",
    "    print(\"trials for model {0}: {1}\".format(i, avg_trial))\n",
    "\n"
   ]
  },
  {
   "cell_type": "code",
   "execution_count": 7,
   "metadata": {},
   "outputs": [
    {
     "data": {
      "text/plain": [
       "[0.07555555490156014,\n",
       " 0.05000000074505806,\n",
       " 0.14111111561457315,\n",
       " 0.11388888955116272,\n",
       " 0.09888888895511627,\n",
       " 0.0716666653752327,\n",
       " 0.10333333661158879,\n",
       " 0.06833333459993203,\n",
       " 0.11111111318071683,\n",
       " 0.025555555941537023,\n",
       " 0.23888888955116272,\n",
       " 0.17555556197961172,\n",
       " 0.10888889307777087,\n",
       " 0.07777778121332328,\n",
       " 0.08055555758376916,\n",
       " 0.09444444564481576,\n",
       " 0.05722222228844961,\n",
       " 0.07055555641030271,\n",
       " 0.05722222135712703,\n",
       " 0.052222223952412605]"
      ]
     },
     "execution_count": 7,
     "metadata": {},
     "output_type": "execute_result"
    }
   ],
   "source": [
    "local_trials"
   ]
  },
  {
   "cell_type": "code",
   "execution_count": 8,
   "metadata": {},
   "outputs": [
    {
     "data": {
      "text/plain": [
       "[0.67166668176651,\n",
       " 0.7333333492279053,\n",
       " 0.7361111243565878,\n",
       " 0.646666685740153,\n",
       " 0.6766666769981384,\n",
       " 0.4750000114242236,\n",
       " 0.22222223039716482,\n",
       " 0.44111111760139465,\n",
       " 0.02944444554547469,\n",
       " 0.21222222596406937,\n",
       " 0.7777778108914694,\n",
       " 0.7211111386617025,\n",
       " 0.7322222391764323,\n",
       " 0.6516667008399963,\n",
       " 0.6744444767634074,\n",
       " 0.2700000007947286,\n",
       " 0.43222224712371826,\n",
       " 0.2000000129143397,\n",
       " 0.4144444515307744,\n",
       " 0.38722223540147144]"
      ]
     },
     "execution_count": 8,
     "metadata": {},
     "output_type": "execute_result"
    }
   ],
   "source": [
    "central_trials"
   ]
  },
  {
   "attachments": {},
   "cell_type": "markdown",
   "metadata": {},
   "source": []
  }
 ],
 "metadata": {
  "kernelspec": {
   "display_name": "env_tf",
   "language": "python",
   "name": "python3"
  },
  "language_info": {
   "codemirror_mode": {
    "name": "ipython",
    "version": 3
   },
   "file_extension": ".py",
   "mimetype": "text/x-python",
   "name": "python",
   "nbconvert_exporter": "python",
   "pygments_lexer": "ipython3",
   "version": "3.9.12"
  },
  "orig_nbformat": 4
 },
 "nbformat": 4,
 "nbformat_minor": 2
}
