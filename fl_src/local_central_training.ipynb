{
 "cells": [
  {
   "cell_type": "code",
   "execution_count": 33,
   "metadata": {},
   "outputs": [],
   "source": [
    "import os\n",
    "import errno\n",
    "import argparse\n",
    "import sys\n",
    "import pickle\n",
    "\n",
    "import numpy as np\n",
    "import pandas as pd\n",
    "from tensorflow.keras.models import load_model\n",
    "\n",
    "from data_utils import load_CIFAR_data, generate_partial_data, generate_bal_private_data, load_FEMNIST_data, load_MNIST_data\n",
    "from FedMD import FedMD\n",
    "from Neural_Networks import train_models, cnn_2layer_fc_model, cnn_3layer_fc_model\n",
    "\n",
    "import numpy as np\n",
    "from tensorflow.keras.models import clone_model, load_model\n",
    "from tensorflow.keras.callbacks import EarlyStopping\n",
    "import tensorflow as tf\n",
    "\n",
    "from utility import * \n",
    "from data_utils import generate_alignment_data\n",
    "from Neural_Networks import remove_last_layer"
   ]
  },
  {
   "attachments": {},
   "cell_type": "markdown",
   "metadata": {},
   "source": [
    "## Functions and Configurations"
   ]
  },
  {
   "cell_type": "code",
   "execution_count": 25,
   "metadata": {},
   "outputs": [],
   "source": [
    "# CIFAR-10 config\n",
    "\n",
    "CANDIDATE_MODELS = {\"2_layer_CNN\": cnn_2layer_fc_model, \n",
    "                    \"3_layer_CNN\": cnn_3layer_fc_model} \n",
    "\n",
    "conf_file = os.path.abspath(\"conf/CIFAR_balance_conf.json\")\n",
    "\n",
    "with open(conf_file, \"r\") as f:\n",
    "    conf_dict = eval(f.read())\n",
    "    \n",
    "    #n_classes = conf_dict[\"n_classes\"]\n",
    "    model_config = conf_dict[\"models\"]\n",
    "    pre_train_params = conf_dict[\"pre_train_params\"]\n",
    "    model_saved_dir = conf_dict[\"model_saved_dir\"]\n",
    "    model_saved_names = conf_dict[\"model_saved_names\"]\n",
    "    is_early_stopping = conf_dict[\"early_stopping\"]\n",
    "    public_classes = conf_dict[\"public_classes\"]\n",
    "    private_classes = conf_dict[\"private_classes\"]\n",
    "    n_classes = len(public_classes) + len(private_classes)\n",
    "    \n",
    "    emnist_data_dir = conf_dict[\"EMNIST_dir\"]    \n",
    "    N_parties = conf_dict[\"N_parties\"]\n",
    "    N_samples_per_class = conf_dict[\"N_samples_per_class\"]\n",
    "    \n",
    "    N_rounds = conf_dict[\"N_rounds\"]\n",
    "    N_alignment = conf_dict[\"N_alignment\"]\n",
    "    N_private_training_round = conf_dict[\"N_private_training_round\"]\n",
    "    private_training_batchsize = conf_dict[\"private_training_batchsize\"]\n",
    "    N_logits_matching_round = conf_dict[\"N_logits_matching_round\"]\n",
    "    logits_matching_batchsize = conf_dict[\"logits_matching_batchsize\"]\n",
    "    aug = conf_dict[\"aug\"]\n",
    "    compress = conf_dict[\"compress\"]\n",
    "    \n",
    "    \n",
    "    result_save_dir = conf_dict[\"result_save_dir\"]\n",
    "\n",
    "del conf_dict, conf_file"
   ]
  },
  {
   "cell_type": "code",
   "execution_count": 27,
   "metadata": {},
   "outputs": [],
   "source": [
    "#FEMNIST conifg\n",
    "\n",
    "CANDIDATE_MODELS = {\"2_layer_CNN\": cnn_2layer_fc_model, \n",
    "                    \"3_layer_CNN\": cnn_3layer_fc_model} \n",
    "\n",
    "conf_file = os.path.abspath(\"conf/EMNIST_balance_conf.json\")\n",
    "with open(conf_file, \"r\") as f:\n",
    "    conf_dict = eval(f.read())\n",
    "    \n",
    "    #n_classes = conf_dict[\"n_classes\"]\n",
    "    model_config = conf_dict[\"models\"]\n",
    "    pre_train_params = conf_dict[\"pre_train_params\"]\n",
    "    model_saved_dir = conf_dict[\"model_saved_dir\"]\n",
    "    model_saved_names = conf_dict[\"model_saved_names\"]\n",
    "    is_early_stopping = conf_dict[\"early_stopping\"]\n",
    "    public_classes = conf_dict[\"public_classes\"]\n",
    "    private_classes = conf_dict[\"private_classes\"]\n",
    "    n_classes = len(public_classes) + len(private_classes)\n",
    "    \n",
    "    emnist_data_dir = conf_dict[\"EMNIST_dir\"]    \n",
    "    N_parties = conf_dict[\"N_parties\"]\n",
    "    N_samples_per_class = conf_dict[\"N_samples_per_class\"]\n",
    "    \n",
    "    N_rounds = conf_dict[\"N_rounds\"]\n",
    "    N_alignment = conf_dict[\"N_alignment\"]\n",
    "    N_private_training_round = conf_dict[\"N_private_training_round\"]\n",
    "    private_training_batchsize = conf_dict[\"private_training_batchsize\"]\n",
    "    N_logits_matching_round = conf_dict[\"N_logits_matching_round\"]\n",
    "    logits_matching_batchsize = conf_dict[\"logits_matching_batchsize\"]\n",
    "    \n",
    "    \n",
    "    result_save_dir = conf_dict[\"result_save_dir\"]"
   ]
  },
  {
   "cell_type": "code",
   "execution_count": 28,
   "metadata": {},
   "outputs": [
    {
     "data": {
      "text/plain": [
       "5"
      ]
     },
     "execution_count": 28,
     "metadata": {},
     "output_type": "execute_result"
    }
   ],
   "source": [
    "N_samples_per_class"
   ]
  },
  {
   "attachments": {},
   "cell_type": "markdown",
   "metadata": {},
   "source": [
    "## Play \n"
   ]
  },
  {
   "cell_type": "markdown",
   "metadata": {},
   "source": [
    "## Load CIFAR10 data"
   ]
  },
  {
   "cell_type": "code",
   "execution_count": 3,
   "metadata": {},
   "outputs": [
    {
     "name": "stdout",
     "output_type": "stream",
     "text": [
      "X_train shape : (50000, 32, 32, 3)\n",
      "X_test shape : (10000, 32, 32, 3)\n",
      "y_train shape : (50000,)\n",
      "y_test shape : (10000,)\n",
      "X_train shape : (50000, 32, 32, 3)\n",
      "X_test shape : (10000, 32, 32, 3)\n",
      "y_train shape : (50000,)\n",
      "y_test shape : (10000,)\n",
      "X shape : (3000, 32, 32, 3)\n",
      "y shape : (3000,)\n",
      "X shape : (600, 32, 32, 3)\n",
      "y shape : (600,)\n",
      "10    500\n",
      "15    500\n",
      "14    500\n",
      "12    500\n",
      "13    500\n",
      "11    500\n",
      "dtype: int64\n",
      "============================================================\n",
      "============================================================\n",
      "X shape : (600, 32, 32, 3)\n",
      "y shape : (600,)\n",
      "Metal device set to: Apple M1\n",
      "\n",
      "systemMemory: 8.00 GB\n",
      "maxCacheSize: 2.67 GB\n",
      "\n"
     ]
    },
    {
     "name": "stderr",
     "output_type": "stream",
     "text": [
      "2023-08-01 17:57:27.940421: I tensorflow/core/common_runtime/pluggable_device/pluggable_device_factory.cc:305] Could not identify NUMA node of platform GPU ID 0, defaulting to 0. Your kernel may not have been built with NUMA support.\n",
      "2023-08-01 17:57:27.942579: I tensorflow/core/common_runtime/pluggable_device/pluggable_device_factory.cc:271] Created TensorFlow device (/job:localhost/replica:0/task:0/device:GPU:0 with 0 MB memory) -> physical PluggableDevice (device: 0, name: METAL, pci bus id: <undefined>)\n",
      "/Users/gadmohamed/miniforge3/envs/env_tf/lib/python3.9/site-packages/keras/optimizer_v2/adam.py:105: UserWarning: The `lr` argument is deprecated, use `learning_rate` instead.\n",
      "  super(Adam, self).__init__(name, **kwargs)\n"
     ]
    },
    {
     "name": "stdout",
     "output_type": "stream",
     "text": [
      "model 0 : CNN_128_256\n",
      "model 1 : CNN_128_384\n",
      "model 2 : CNN_128_512\n",
      "model 3 : CNN_256_256\n",
      "model 4 : CNN_256_512\n",
      "model 5 : CNN_64_128_256\n",
      "model 6 : CNN_64_128_192\n",
      "model 7 : CNN_128_192_256\n",
      "model 8 : CNN_128_128_128\n",
      "model 9 : CNN_128_128_192\n",
      "model 10 : CNN_128_256\n",
      "model 11 : CNN_128_384\n",
      "model 12 : CNN_128_512\n",
      "model 13 : CNN_256_256\n",
      "model 14 : CNN_256_512\n",
      "model 15 : CNN_64_128_256\n",
      "model 16 : CNN_64_128_192\n",
      "model 17 : CNN_128_192_256\n",
      "model 18 : CNN_128_128_128\n",
      "model 19 : CNN_128_128_192\n"
     ]
    }
   ],
   "source": [
    "\n",
    "\n",
    "X_train_CIFAR10, y_train_CIFAR10, X_test_CIFAR10, y_test_CIFAR10 \\\n",
    "= load_CIFAR_data(data_type=\"CIFAR10\", \n",
    "                    standarized = True, verbose = True)\n",
    "\n",
    "public_dataset = {\"X\": X_train_CIFAR10, \"y\": y_train_CIFAR10}\n",
    "\n",
    "\n",
    "X_train_CIFAR100, y_train_CIFAR100, X_test_CIFAR100, y_test_CIFAR100 \\\n",
    "= load_CIFAR_data(data_type=\"CIFAR100\",\n",
    "                    standarized = True, verbose = True)\n",
    "\n",
    "# only use those CIFAR100 data whose y_labels belong to private_classes\n",
    "X_train_CIFAR100, y_train_CIFAR100 \\\n",
    "= generate_partial_data(X = X_train_CIFAR100, y= y_train_CIFAR100,\n",
    "                        class_in_use = private_classes, \n",
    "                        verbose = True)\n",
    "\n",
    "\n",
    "X_test_CIFAR100, y_test_CIFAR100 \\\n",
    "= generate_partial_data(X = X_test_CIFAR100, y= y_test_CIFAR100,\n",
    "                        class_in_use = private_classes, \n",
    "                        verbose = True)\n",
    "\n",
    "# relabel the selected CIFAR100 data for future convenience\n",
    "for index, cls_ in enumerate(private_classes):        \n",
    "    y_train_CIFAR100[y_train_CIFAR100 == cls_] = index + len(public_classes)\n",
    "    y_test_CIFAR100[y_test_CIFAR100 == cls_] = index + len(public_classes)\n",
    "del index, cls_\n",
    "\n",
    "print(pd.Series(y_train_CIFAR100).value_counts())\n",
    "mod_private_classes = np.arange(len(private_classes)) + len(public_classes)\n",
    "\n",
    "print(\"=\"*60)\n",
    "#generate private data\n",
    "private_data, total_private_data\\\n",
    "=generate_bal_private_data(X_train_CIFAR100, y_train_CIFAR100,      \n",
    "                            N_parties = N_parties,           \n",
    "                            classes_in_use = mod_private_classes, \n",
    "                            N_samples_per_class = N_samples_per_class, \n",
    "                            data_overlap = False)\n",
    "\n",
    "print(\"=\"*60)\n",
    "X_tmp, y_tmp = generate_partial_data(X = X_test_CIFAR100, y= y_test_CIFAR100,\n",
    "                                        class_in_use = mod_private_classes, \n",
    "                                        verbose = True)\n",
    "private_test_data = {\"X\": X_tmp, \"y\": y_tmp}\n",
    "del X_tmp, y_tmp\n",
    "\n",
    "parties = []\n",
    "if model_saved_dir is None:\n",
    "    for i, item in enumerate(model_config):\n",
    "        model_name = item[\"model_type\"]\n",
    "        model_params = item[\"params\"]\n",
    "        tmp = CANDIDATE_MODELS[model_name](n_classes=n_classes, \n",
    "                                            input_shape=(32,32,3),\n",
    "                                            **model_params)\n",
    "        print(\"model {0} : {1}\".format(i, model_saved_names[i]))\n",
    "        # print(tmp.summary())\n",
    "        parties.append(tmp)\n"
   ]
  },
  {
   "cell_type": "markdown",
   "metadata": {},
   "source": [
    "## Load FASHION MNIST dataset"
   ]
  },
  {
   "cell_type": "code",
   "execution_count": 29,
   "metadata": {},
   "outputs": [
    {
     "name": "stdout",
     "output_type": "stream",
     "text": [
      "MNIST dataset ... \n",
      "X_train shape : (60000, 28, 28)\n",
      "X_test shape : (10000, 28, 28)\n",
      "y_train shape : (60000,)\n",
      "y_test shape : (10000,)\n",
      "shape: (60000,)\n",
      "unique: [0 1 2 3 4 5 6 7 8 9]\n",
      "EMNIST-letter dataset ... \n",
      "X_train shape : (60000, 28, 28)\n",
      "X_test shape : (10000, 28, 28)\n",
      "y_train shape : (60000,)\n",
      "y_test shape : (10000,)\n",
      "y train femnist unique: [ 9 10 11 12 13 14 15 16 17 18]\n",
      "y test femnist unique: [ 9 10 11 12 13 14 15 16 17 18]\n",
      "private classes: [10, 11, 12, 13, 14, 15]\n",
      "X shape : (6000, 28, 28)\n",
      "y shape : (6000,)\n"
     ]
    },
    {
     "name": "stderr",
     "output_type": "stream",
     "text": [
      "/Users/gadmohamed/miniforge3/envs/env_tf/lib/python3.9/site-packages/keras/optimizer_v2/adam.py:105: UserWarning: The `lr` argument is deprecated, use `learning_rate` instead.\n",
      "  super(Adam, self).__init__(name, **kwargs)\n"
     ]
    },
    {
     "name": "stdout",
     "output_type": "stream",
     "text": [
      "model 0 : CNN_128_256\n",
      "model 1 : CNN_128_384\n",
      "model 2 : CNN_128_512\n",
      "model 3 : CNN_256_256\n",
      "model 4 : CNN_256_512\n",
      "model 5 : CNN_64_128_256\n",
      "model 6 : CNN_64_128_192\n",
      "model 7 : CNN_128_192_256\n",
      "model 8 : CNN_128_128_128\n",
      "model 9 : CNN_128_128_192\n"
     ]
    }
   ],
   "source": [
    "\n",
    "X_train_MNIST, y_train_MNIST, X_test_MNIST, y_test_MNIST \\\n",
    "= load_MNIST_data(standarized = True, verbose = True)\n",
    "\n",
    "public_dataset = {\"X\": X_train_MNIST, \"y\": y_train_MNIST}\n",
    "\n",
    "\n",
    "X_train_EMNIST, y_train_EMNIST, X_test_EMNIST, y_test_EMNIST \\\n",
    "= load_FEMNIST_data(standarized = True, verbose = True)\n",
    "\n",
    "y_train_EMNIST = y_train_EMNIST + len(public_classes)\n",
    "y_test_EMNIST = y_test_EMNIST + len(public_classes)\n",
    "\n",
    "print(\"y train femnist unique:\", np.unique(y_train_EMNIST))\n",
    "print(\"y test femnist unique:\", np.unique(y_test_EMNIST)) \n",
    "print(\"private classes:\", private_classes)\n",
    "\n",
    "#generate private data\n",
    "private_data, total_private_data \\\n",
    "= generate_bal_private_data(X_train_EMNIST, y_train_EMNIST, \n",
    "                            N_parties = N_parties,             \n",
    "                            classes_in_use = private_classes, \n",
    "                            N_samples_per_class = N_samples_per_class, \n",
    "                            data_overlap = False)\n",
    "\n",
    "X_tmp, y_tmp = generate_partial_data(X = X_test_EMNIST, y= y_test_EMNIST, \n",
    "                                        class_in_use = private_classes, verbose = True)\n",
    "private_test_data = {\"X\": X_tmp, \"y\": y_tmp}\n",
    "del X_tmp, y_tmp\n",
    "\n",
    "parties = []\n",
    "if model_saved_dir is None:\n",
    "    for i, item in enumerate(model_config):\n",
    "        model_name = item[\"model_type\"]\n",
    "        model_params = item[\"params\"]\n",
    "        tmp = CANDIDATE_MODELS[model_name](n_classes=n_classes, \n",
    "                                            input_shape=(28,28),\n",
    "                                            **model_params)\n",
    "        print(\"model {0} : {1}\".format(i, model_saved_names[i]))\n",
    "        # print(tmp.summary())\n",
    "        parties.append(tmp)\n",
    "        \n",
    "        del model_name, model_params, tmp\n",
    "    #END FOR LOOP\n",
    "#     pre_train_result = train_models(parties, \n",
    "#                                     X_train_MNIST, y_train_MNIST, \n",
    "#                                     X_test_MNIST, y_test_MNIST,\n",
    "#                                     save_dir = model_saved_dir, save_names = model_saved_names,\n",
    "#                                     early_stopping = is_early_stopping,\n",
    "#                                     **pre_train_params\n",
    "#                                    )\n",
    "else:\n",
    "    dpath = os.path.abspath(model_saved_dir)\n",
    "    model_names = os.listdir(dpath)\n",
    "    for name in model_names:\n",
    "        tmp = None\n",
    "        tmp = load_model(os.path.join(dpath ,name))\n",
    "        parties.append(tmp)\n"
   ]
  },
  {
   "cell_type": "code",
   "execution_count": null,
   "metadata": {},
   "outputs": [],
   "source": []
  },
  {
   "cell_type": "code",
   "execution_count": 39,
   "metadata": {},
   "outputs": [
    {
     "data": {
      "text/plain": [
       "(3136.0, 3960.832)"
      ]
     },
     "execution_count": 39,
     "metadata": {},
     "output_type": "execute_result"
    }
   ],
   "source": [
    "size_of(public_dataset['X'][:500]), size_of(parties[0])"
   ]
  },
  {
   "cell_type": "markdown",
   "metadata": {},
   "source": [
    "# Training"
   ]
  },
  {
   "cell_type": "code",
   "execution_count": 5,
   "metadata": {},
   "outputs": [
    {
     "name": "stdout",
     "output_type": "stream",
     "text": [
      "(30, 28, 28) (300, 28, 28) (300, 28, 28)\n"
     ]
    }
   ],
   "source": [
    "new_total_private_data = {}\n",
    "new_total_private_data['X'] = np.concatenate([p['X'] for p in private_data ], axis = 0)\n",
    "new_total_private_data['y'] = np.concatenate([p['y'] for p in private_data ], axis = 0)\n",
    "\n",
    "print(private_data[0]['X'].shape, total_private_data['X'].shape, new_total_private_data['X'].shape)"
   ]
  },
  {
   "cell_type": "code",
   "execution_count": 8,
   "metadata": {},
   "outputs": [
    {
     "name": "stderr",
     "output_type": "stream",
     "text": [
      "/Users/gadmohamed/miniforge3/envs/env_tf/lib/python3.9/site-packages/keras/optimizer_v2/adam.py:105: UserWarning: The `lr` argument is deprecated, use `learning_rate` instead.\n",
      "  super(Adam, self).__init__(name, **kwargs)\n",
      "2023-08-01 18:03:07.843204: I tensorflow/core/grappler/optimizers/custom_graph_optimizer_registry.cc:113] Plugin optimizer for device_type GPU is enabled.\n",
      "2023-08-01 18:03:08.660526: I tensorflow/core/grappler/optimizers/custom_graph_optimizer_registry.cc:113] Plugin optimizer for device_type GPU is enabled.\n"
     ]
    },
    {
     "name": "stdout",
     "output_type": "stream",
     "text": [
      "final accuracy: 0.5483333468437195\n"
     ]
    },
    {
     "name": "stderr",
     "output_type": "stream",
     "text": [
      "2023-08-01 18:04:12.302802: I tensorflow/core/grappler/optimizers/custom_graph_optimizer_registry.cc:113] Plugin optimizer for device_type GPU is enabled.\n",
      "2023-08-01 18:04:12.962582: I tensorflow/core/grappler/optimizers/custom_graph_optimizer_registry.cc:113] Plugin optimizer for device_type GPU is enabled.\n"
     ]
    },
    {
     "name": "stdout",
     "output_type": "stream",
     "text": [
      "final accuracy: 0.5421666502952576\n"
     ]
    },
    {
     "name": "stderr",
     "output_type": "stream",
     "text": [
      "2023-08-01 18:05:35.799007: I tensorflow/core/grappler/optimizers/custom_graph_optimizer_registry.cc:113] Plugin optimizer for device_type GPU is enabled.\n",
      "2023-08-01 18:05:36.519702: I tensorflow/core/grappler/optimizers/custom_graph_optimizer_registry.cc:113] Plugin optimizer for device_type GPU is enabled.\n"
     ]
    },
    {
     "name": "stdout",
     "output_type": "stream",
     "text": [
      "final accuracy: 0.6263333559036255\n"
     ]
    },
    {
     "name": "stderr",
     "output_type": "stream",
     "text": [
      "2023-08-01 18:06:46.088848: I tensorflow/core/grappler/optimizers/custom_graph_optimizer_registry.cc:113] Plugin optimizer for device_type GPU is enabled.\n",
      "2023-08-01 18:06:46.779286: I tensorflow/core/grappler/optimizers/custom_graph_optimizer_registry.cc:113] Plugin optimizer for device_type GPU is enabled.\n"
     ]
    },
    {
     "name": "stdout",
     "output_type": "stream",
     "text": [
      "final accuracy: 0.4596666693687439\n"
     ]
    },
    {
     "name": "stderr",
     "output_type": "stream",
     "text": [
      "2023-08-01 18:07:45.558394: I tensorflow/core/grappler/optimizers/custom_graph_optimizer_registry.cc:113] Plugin optimizer for device_type GPU is enabled.\n",
      "2023-08-01 18:07:46.145240: I tensorflow/core/grappler/optimizers/custom_graph_optimizer_registry.cc:113] Plugin optimizer for device_type GPU is enabled.\n"
     ]
    },
    {
     "name": "stdout",
     "output_type": "stream",
     "text": [
      "final accuracy: 0.5808333158493042\n"
     ]
    },
    {
     "name": "stderr",
     "output_type": "stream",
     "text": [
      "2023-08-01 18:08:54.509563: I tensorflow/core/grappler/optimizers/custom_graph_optimizer_registry.cc:113] Plugin optimizer for device_type GPU is enabled.\n",
      "2023-08-01 18:08:55.590074: I tensorflow/core/grappler/optimizers/custom_graph_optimizer_registry.cc:113] Plugin optimizer for device_type GPU is enabled.\n"
     ]
    },
    {
     "name": "stdout",
     "output_type": "stream",
     "text": [
      "final accuracy: 0.6393333077430725\n"
     ]
    },
    {
     "name": "stderr",
     "output_type": "stream",
     "text": [
      "2023-08-01 18:10:19.766894: I tensorflow/core/grappler/optimizers/custom_graph_optimizer_registry.cc:113] Plugin optimizer for device_type GPU is enabled.\n",
      "2023-08-01 18:10:20.532367: I tensorflow/core/grappler/optimizers/custom_graph_optimizer_registry.cc:113] Plugin optimizer for device_type GPU is enabled.\n"
     ]
    },
    {
     "name": "stdout",
     "output_type": "stream",
     "text": [
      "final accuracy: 0.6313333511352539\n"
     ]
    },
    {
     "name": "stderr",
     "output_type": "stream",
     "text": [
      "2023-08-01 18:11:23.822964: I tensorflow/core/grappler/optimizers/custom_graph_optimizer_registry.cc:113] Plugin optimizer for device_type GPU is enabled.\n",
      "2023-08-01 18:11:24.793714: I tensorflow/core/grappler/optimizers/custom_graph_optimizer_registry.cc:113] Plugin optimizer for device_type GPU is enabled.\n"
     ]
    },
    {
     "name": "stdout",
     "output_type": "stream",
     "text": [
      "final accuracy: 0.5663333535194397\n"
     ]
    },
    {
     "name": "stderr",
     "output_type": "stream",
     "text": [
      "2023-08-01 18:12:23.219436: I tensorflow/core/grappler/optimizers/custom_graph_optimizer_registry.cc:113] Plugin optimizer for device_type GPU is enabled.\n",
      "2023-08-01 18:12:23.865058: I tensorflow/core/grappler/optimizers/custom_graph_optimizer_registry.cc:113] Plugin optimizer for device_type GPU is enabled.\n"
     ]
    },
    {
     "name": "stdout",
     "output_type": "stream",
     "text": [
      "final accuracy: 0.5171666741371155\n"
     ]
    },
    {
     "name": "stderr",
     "output_type": "stream",
     "text": [
      "2023-08-01 18:13:35.049149: I tensorflow/core/grappler/optimizers/custom_graph_optimizer_registry.cc:113] Plugin optimizer for device_type GPU is enabled.\n",
      "2023-08-01 18:13:35.673221: I tensorflow/core/grappler/optimizers/custom_graph_optimizer_registry.cc:113] Plugin optimizer for device_type GPU is enabled.\n"
     ]
    },
    {
     "name": "stdout",
     "output_type": "stream",
     "text": [
      "final accuracy: 0.503333330154419\n"
     ]
    }
   ],
   "source": [
    "input_shape = private_data[0][\"X\"].shape[1:]\n",
    "[0.5483333468437195, 0.5421666502952576, 0.6263333559036255, 0.4596666693687439, 0.5808333158493042, 0.6393333077430725, 0.6313333511352539, 0.5663333535194397, 0.5171666741371155, 0.503333330154419]\n",
    "\n",
    "local_accuracies = [] \n",
    "for i in range(len(private_data)):\n",
    "\n",
    "    tf.keras.backend.clear_session()\n",
    "    item = model_config[0]\n",
    "    model_name = item[\"model_type\"]\n",
    "    model_params = item[\"params\"]\n",
    "    model_ub = CANDIDATE_MODELS[model_name](n_classes=n_classes, \n",
    "                                        input_shape=input_shape,\n",
    "                                        **model_params)\n",
    "    model_ub.compile(optimizer=tf.keras.optimizers.Adam(lr = 1e-3),\n",
    "                        loss = \"sparse_categorical_crossentropy\", \n",
    "                        metrics = [\"accuracy\"])\n",
    "    ub_history = model_ub.fit(private_data[i]['X'], private_data[i]['y'],\n",
    "                    batch_size = 30, epochs = 30, shuffle=True, verbose = False, \n",
    "                    validation_data = [private_test_data[\"X\"], private_test_data[\"y\"]],\n",
    "                    callbacks=[EarlyStopping(monitor=\"val_accuracy\", min_delta=0.001, patience=7, restore_best_weights=True)])\n",
    "\n",
    "    local_accuracies.append(ub_history.history[\"val_accuracy\"])\n",
    "    print(\"final accuracy:\", ub_history.history[\"val_accuracy\"][-1])\n"
   ]
  },
  {
   "cell_type": "code",
   "execution_count": 23,
   "metadata": {},
   "outputs": [
    {
     "name": "stdout",
     "output_type": "stream",
     "text": [
      "average: 0.5614833354949951\n"
     ]
    },
    {
     "data": {
      "image/png": "[encoded data removed]",
      "text/plain": [
       "<Figure size 576x360 with 1 Axes>"
      ]
     },
     "metadata": {
      "needs_background": "light"
     },
     "output_type": "display_data"
    }
   ],
   "source": [
    "import matplotlib.pyplot as plt\n",
    "\n",
    "# Data for the bar plot\n",
    "accuracies = [0.5483333468437195, 0.5421666502952576, 0.6263333559036255, 0.4596666693687439, 0.5808333158493042, 0.6393333077430725, 0.6313333511352539, 0.5663333535194397, 0.5171666741371155, 0.503333330154419]\n",
    "\n",
    "# Clients for the x-axis (assuming one accuracy value per client)\n",
    "clients = range(1, len(accuracies) + 1)\n",
    "\n",
    "# Create a figure and axes for the plot\n",
    "fig, ax = plt.subplots(figsize=(8, 5))\n",
    "\n",
    "# Plot the bar chart with custom colors, edgecolor, and width\n",
    "bars = ax.bar(clients, accuracies, color='steelblue', edgecolor='black', width=0.5, label = 'Local Accuracy')\n",
    "\n",
    "# Add values on top of the bars\n",
    "for bar in bars:\n",
    "    height = bar.get_height()\n",
    "    ax.annotate(f'{height:.3f}', xy=(bar.get_x() + bar.get_width() / 2, height), xytext=(0, 3),\n",
    "                textcoords=\"offset points\", ha='center', va='bottom', fontsize=10)\n",
    "\n",
    "# Set x and y axis labels and title\n",
    "ax.set_xlabel('Clients')\n",
    "ax.set_ylabel('Final Accuracy')\n",
    "ax.set_title('Accuracies of Clients\\' Local Training')\n",
    "\n",
    "# Add a horizontal line at accuracy 70 to mark it as the central accuracy\n",
    "ax.axhline(y=0.70, color='red', linestyle='--', label='Central Accuracy')\n",
    "\n",
    "# Add a horizontal line for the average accuracy local \n",
    "ax.axhline(y=sum(accuracies)/len(accuracies), color='green', linestyle='--', label='Average Local Accuracy')\n",
    "\n",
    "print(\"average:\", sum(accuracies)/len(accuracies))\n",
    "# Add a grid to the plot\n",
    "ax.grid(axis='y', linestyle='dotted')\n",
    "\n",
    "# Adjust the layout to avoid cutting off labels\n",
    "plt.tight_layout()\n",
    "\n",
    "# Add a legend with position right bottom\n",
    "plt.legend(loc='lower right')\n",
    "\n",
    "# Save the plot as a high-quality PDF\n",
    "plt.savefig('local_central.pdf', dpi=300)\n",
    "\n",
    "# Show the plot\n",
    "plt.show()\n"
   ]
  },
  {
   "cell_type": "code",
   "execution_count": 13,
   "metadata": {},
   "outputs": [
    {
     "name": "stdout",
     "output_type": "stream",
     "text": [
      "shpae of private data: (30, 28, 28)\n",
      "Epoch 1/40\n"
     ]
    },
    {
     "name": "stderr",
     "output_type": "stream",
     "text": [
      "2023-08-01 18:26:52.598060: I tensorflow/core/grappler/optimizers/custom_graph_optimizer_registry.cc:113] Plugin optimizer for device_type GPU is enabled.\n"
     ]
    },
    {
     "name": "stdout",
     "output_type": "stream",
     "text": [
      "10/10 [==============================] - ETA: 0s - loss: 45.3963 - accuracy: 0.4167"
     ]
    },
    {
     "name": "stderr",
     "output_type": "stream",
     "text": [
      "2023-08-01 18:26:54.329171: I tensorflow/core/grappler/optimizers/custom_graph_optimizer_registry.cc:113] Plugin optimizer for device_type GPU is enabled.\n"
     ]
    },
    {
     "name": "stdout",
     "output_type": "stream",
     "text": [
      "10/10 [==============================] - 8s 736ms/step - loss: 45.3963 - accuracy: 0.4167 - val_loss: 11.3624 - val_accuracy: 0.5538\n",
      "Epoch 2/40\n",
      "10/10 [==============================] - 6s 678ms/step - loss: 30.7086 - accuracy: 0.5933 - val_loss: 8.2338 - val_accuracy: 0.5517\n",
      "Epoch 3/40\n",
      "10/10 [==============================] - 6s 632ms/step - loss: 16.7139 - accuracy: 0.6833 - val_loss: 4.6102 - val_accuracy: 0.6097\n",
      "Epoch 4/40\n",
      "10/10 [==============================] - 6s 636ms/step - loss: 9.1421 - accuracy: 0.7967 - val_loss: 6.1529 - val_accuracy: 0.3782\n",
      "Epoch 5/40\n",
      "10/10 [==============================] - 6s 666ms/step - loss: 6.8224 - accuracy: 0.7900 - val_loss: 11.0969 - val_accuracy: 0.1817\n",
      "Epoch 6/40\n",
      "10/10 [==============================] - 8s 819ms/step - loss: 5.2864 - accuracy: 0.8167 - val_loss: 13.3177 - val_accuracy: 0.1917\n",
      "Epoch 7/40\n",
      "10/10 [==============================] - 7s 802ms/step - loss: 3.9537 - accuracy: 0.8433 - val_loss: 12.1165 - val_accuracy: 0.2738\n",
      "Epoch 8/40\n",
      "10/10 [==============================] - 6s 679ms/step - loss: 3.1430 - accuracy: 0.8467 - val_loss: 12.1265 - val_accuracy: 0.2665\n",
      "Epoch 9/40\n",
      "10/10 [==============================] - 6s 610ms/step - loss: 2.2007 - accuracy: 0.8900 - val_loss: 15.9472 - val_accuracy: 0.2225\n",
      "Epoch 10/40\n",
      "10/10 [==============================] - 7s 726ms/step - loss: 2.4205 - accuracy: 0.8933 - val_loss: 13.7360 - val_accuracy: 0.2235\n",
      "Epoch 11/40\n",
      "10/10 [==============================] - 9s 979ms/step - loss: 1.6610 - accuracy: 0.9167 - val_loss: 15.0433 - val_accuracy: 0.2735\n",
      "Epoch 12/40\n",
      "10/10 [==============================] - 9s 950ms/step - loss: 1.3578 - accuracy: 0.9333 - val_loss: 21.9001 - val_accuracy: 0.2393\n",
      "Epoch 13/40\n",
      "10/10 [==============================] - 10s 1s/step - loss: 1.7642 - accuracy: 0.9200 - val_loss: 14.8590 - val_accuracy: 0.3300\n",
      "Epoch 14/40\n",
      "10/10 [==============================] - 9s 954ms/step - loss: 2.2273 - accuracy: 0.8900 - val_loss: 22.8555 - val_accuracy: 0.2345\n",
      "Epoch 15/40\n",
      "10/10 [==============================] - 10s 1s/step - loss: 2.0365 - accuracy: 0.9167 - val_loss: 15.8049 - val_accuracy: 0.2697\n",
      "Epoch 16/40\n",
      "10/10 [==============================] - 11s 1s/step - loss: 1.7343 - accuracy: 0.9167 - val_loss: 19.5446 - val_accuracy: 0.2202\n",
      "Epoch 17/40\n",
      "10/10 [==============================] - 8s 914ms/step - loss: 1.0825 - accuracy: 0.9500 - val_loss: 13.4696 - val_accuracy: 0.2678\n",
      "Epoch 18/40\n",
      "10/10 [==============================] - 9s 1s/step - loss: 1.3474 - accuracy: 0.9333 - val_loss: 16.0312 - val_accuracy: 0.2537\n",
      "Epoch 19/40\n",
      "10/10 [==============================] - 8s 910ms/step - loss: 1.0976 - accuracy: 0.9567 - val_loss: 16.3059 - val_accuracy: 0.2298\n",
      "Epoch 20/40\n",
      "10/10 [==============================] - 11s 1s/step - loss: 1.0129 - accuracy: 0.9467 - val_loss: 15.5534 - val_accuracy: 0.2810\n",
      "Epoch 21/40\n",
      "10/10 [==============================] - 13s 1s/step - loss: 1.1569 - accuracy: 0.9600 - val_loss: 15.4449 - val_accuracy: 0.2665\n",
      "Epoch 22/40\n",
      "10/10 [==============================] - 11s 1s/step - loss: 1.1027 - accuracy: 0.9467 - val_loss: 11.9816 - val_accuracy: 0.3375\n",
      "Epoch 23/40\n",
      "10/10 [==============================] - 10s 1s/step - loss: 1.0206 - accuracy: 0.9500 - val_loss: 13.3261 - val_accuracy: 0.2912\n",
      "Epoch 24/40\n",
      "10/10 [==============================] - 10s 1s/step - loss: 1.0021 - accuracy: 0.9667 - val_loss: 13.4151 - val_accuracy: 0.2778\n",
      "Epoch 25/40\n",
      "10/10 [==============================] - 8s 829ms/step - loss: 0.7516 - accuracy: 0.9767 - val_loss: 12.0812 - val_accuracy: 0.3153\n",
      "Epoch 26/40\n",
      "10/10 [==============================] - 8s 858ms/step - loss: 0.6627 - accuracy: 0.9767 - val_loss: 11.8198 - val_accuracy: 0.3487\n",
      "Epoch 27/40\n",
      "10/10 [==============================] - 8s 857ms/step - loss: 0.6215 - accuracy: 0.9900 - val_loss: 8.1993 - val_accuracy: 0.4142\n",
      "Epoch 28/40\n",
      "10/10 [==============================] - 9s 937ms/step - loss: 0.6861 - accuracy: 0.9800 - val_loss: 7.8807 - val_accuracy: 0.4380\n",
      "Epoch 29/40\n",
      "10/10 [==============================] - 8s 890ms/step - loss: 0.5551 - accuracy: 0.9867 - val_loss: 8.2319 - val_accuracy: 0.4385\n",
      "Epoch 30/40\n",
      "10/10 [==============================] - 6s 681ms/step - loss: 0.5610 - accuracy: 0.9867 - val_loss: 6.5364 - val_accuracy: 0.4845\n",
      "Epoch 31/40\n",
      "10/10 [==============================] - 7s 790ms/step - loss: 0.5504 - accuracy: 0.9900 - val_loss: 5.7503 - val_accuracy: 0.5177\n",
      "Epoch 32/40\n",
      "10/10 [==============================] - 7s 795ms/step - loss: 0.5252 - accuracy: 0.9967 - val_loss: 4.8110 - val_accuracy: 0.5842\n",
      "Epoch 33/40\n",
      "10/10 [==============================] - 7s 739ms/step - loss: 0.5051 - accuracy: 0.9900 - val_loss: 5.0010 - val_accuracy: 0.5877\n",
      "Epoch 34/40\n",
      "10/10 [==============================] - 8s 836ms/step - loss: 0.4931 - accuracy: 0.9933 - val_loss: 4.9190 - val_accuracy: 0.5957\n",
      "Epoch 35/40\n",
      "10/10 [==============================] - 6s 612ms/step - loss: 0.4631 - accuracy: 0.9933 - val_loss: 4.3250 - val_accuracy: 0.6357\n",
      "Epoch 36/40\n",
      "10/10 [==============================] - 6s 603ms/step - loss: 0.5130 - accuracy: 0.9867 - val_loss: 4.4611 - val_accuracy: 0.6418\n",
      "Epoch 37/40\n",
      "10/10 [==============================] - 6s 627ms/step - loss: 0.4576 - accuracy: 0.9967 - val_loss: 3.7720 - val_accuracy: 0.6847\n",
      "Epoch 38/40\n",
      "10/10 [==============================] - 7s 714ms/step - loss: 0.4626 - accuracy: 0.9933 - val_loss: 3.3290 - val_accuracy: 0.7268\n",
      "Epoch 39/40\n",
      "10/10 [==============================] - 7s 778ms/step - loss: 0.4540 - accuracy: 0.9900 - val_loss: 3.4778 - val_accuracy: 0.7223\n",
      "Epoch 40/40\n",
      "10/10 [==============================] - 7s 744ms/step - loss: 0.4212 - accuracy: 0.9867 - val_loss: 3.6687 - val_accuracy: 0.7070\n",
      "final accuracy: 0.7070000171661377\n"
     ]
    }
   ],
   "source": [
    "    \n",
    "central_trials = [] \n",
    "for i in range(len(central_trials)) : \n",
    "    tf.keras.backend.clear_session()\n",
    "    input_shape = private_data[0][\"X\"].shape[1:]\n",
    "\n",
    "    cbs = [EarlyStopping(monitor=\"val_accuracy\", min_delta=0.001, patience=7, restore_best_weights=True)]\n",
    "    cbs = [] \n",
    "\n",
    "    item = model_config[0]\n",
    "    model_name = item[\"model_type\"]\n",
    "    model_params = item[\"params\"]\n",
    "    model_ub = CANDIDATE_MODELS[model_name](n_classes=n_classes, \n",
    "                                        input_shape=input_shape,\n",
    "                                        **model_params)\n",
    "    model_ub.compile(optimizer=tf.keras.optimizers.Adam(lr = 1e-3),\n",
    "                        loss = \"sparse_categorical_crossentropy\", \n",
    "                        metrics = [\"accuracy\"])\n",
    "    print(\"shpae of private data:\", private_data[0][\"X\"].shape)\n",
    "    ub_history = model_ub.fit(new_total_private_data['X'], new_total_private_data['y'],\n",
    "                    batch_size = 30, epochs = 40, shuffle=True, verbose = True, \n",
    "                    validation_data = [private_test_data[\"X\"], private_test_data[\"y\"]],\n",
    "                    callbacks=[cbs])\n",
    "\n",
    "    central_trials.append(ub_history.history[\"val_accuracy\"])\n",
    "    print(\"final accuracy:\", ub_history.history[\"val_accuracy\"][-1])\n"
   ]
  },
  {
   "cell_type": "code",
   "execution_count": null,
   "metadata": {},
   "outputs": [],
   "source": [
    "np.mean(local_trials), np.std(local_trials)"
   ]
  },
  {
   "cell_type": "code",
   "execution_count": null,
   "metadata": {},
   "outputs": [],
   "source": [
    "np.mean(central_trials), np.std(central_trials)"
   ]
  },
  {
   "attachments": {},
   "cell_type": "markdown",
   "metadata": {},
   "source": []
  }
 ],
 "metadata": {
  "kernelspec": {
   "display_name": "env_tf",
   "language": "python",
   "name": "python3"
  },
  "language_info": {
   "codemirror_mode": {
    "name": "ipython",
    "version": 3
   },
   "file_extension": ".py",
   "mimetype": "text/x-python",
   "name": "python",
   "nbconvert_exporter": "python",
   "pygments_lexer": "ipython3",
   "version": "3.9.12"
  },
  "orig_nbformat": 4
 },
 "nbformat": 4,
 "nbformat_minor": 2
}
