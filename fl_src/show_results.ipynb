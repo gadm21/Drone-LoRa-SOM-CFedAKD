{
 "cells": [
  {
   "cell_type": "code",
   "execution_count": 1,
   "metadata": {},
   "outputs": [],
   "source": [
    "import numpy as np \n",
    "import pickle\n",
    "import os"
   ]
  },
  {
   "cell_type": "code",
   "execution_count": 2,
   "metadata": {},
   "outputs": [],
   "source": [
    "\n",
    "\n",
    "def read_pickle(filepath):\n",
    "    # Open the pickle file in read-binary mode\n",
    "    with open(filepath, 'rb') as f:\n",
    "        # Load the object from the file using pickle.load()\n",
    "        data = pickle.load(f)\n",
    "    return data\n",
    "\n"
   ]
  },
  {
   "cell_type": "code",
   "execution_count": 4,
   "metadata": {},
   "outputs": [
    {
     "ename": "FileNotFoundError",
     "evalue": "[Errno 2] No such file or directory: 'result_CIFAR_balanced_5000/init_result.pkl'",
     "output_type": "error",
     "traceback": [
      "\u001b[0;31m---------------------------------------------------------------------------\u001b[0m",
      "\u001b[0;31mFileNotFoundError\u001b[0m                         Traceback (most recent call last)",
      "\u001b[1;32m/Users/gadmohamed/Desktop/live repos/cleaner-fedmd/show_results.ipynb Cell 3\u001b[0m in \u001b[0;36m<cell line: 7>\u001b[0;34m()\u001b[0m\n\u001b[1;32m      <a href='vscode-notebook-cell:/Users/gadmohamed/Desktop/live%20repos/cleaner-fedmd/show_results.ipynb#W2sZmlsZQ%3D%3D?line=3'>4</a>\u001b[0m fed_filepath \u001b[39m=\u001b[39m os\u001b[39m.\u001b[39mpath\u001b[39m.\u001b[39mjoin(results_dir, \u001b[39m\"\u001b[39m\u001b[39mcol_performance.pkl\u001b[39m\u001b[39m\"\u001b[39m)\n\u001b[1;32m      <a href='vscode-notebook-cell:/Users/gadmohamed/Desktop/live%20repos/cleaner-fedmd/show_results.ipynb#W2sZmlsZQ%3D%3D?line=4'>5</a>\u001b[0m central_filepath \u001b[39m=\u001b[39m os\u001b[39m.\u001b[39mpath\u001b[39m.\u001b[39mjoin(results_dir, \u001b[39m\"\u001b[39m\u001b[39mpooled_train_result.pkl\u001b[39m\u001b[39m\"\u001b[39m)\n\u001b[0;32m----> <a href='vscode-notebook-cell:/Users/gadmohamed/Desktop/live%20repos/cleaner-fedmd/show_results.ipynb#W2sZmlsZQ%3D%3D?line=6'>7</a>\u001b[0m local_data \u001b[39m=\u001b[39m read_pickle(local_filepath)\n\u001b[1;32m      <a href='vscode-notebook-cell:/Users/gadmohamed/Desktop/live%20repos/cleaner-fedmd/show_results.ipynb#W2sZmlsZQ%3D%3D?line=7'>8</a>\u001b[0m fed_data \u001b[39m=\u001b[39m read_pickle(fed_filepath)\n\u001b[1;32m      <a href='vscode-notebook-cell:/Users/gadmohamed/Desktop/live%20repos/cleaner-fedmd/show_results.ipynb#W2sZmlsZQ%3D%3D?line=8'>9</a>\u001b[0m central_data \u001b[39m=\u001b[39m read_pickle(central_filepath)\n",
      "\u001b[1;32m/Users/gadmohamed/Desktop/live repos/cleaner-fedmd/show_results.ipynb Cell 3\u001b[0m in \u001b[0;36mread_pickle\u001b[0;34m(filepath)\u001b[0m\n\u001b[1;32m      <a href='vscode-notebook-cell:/Users/gadmohamed/Desktop/live%20repos/cleaner-fedmd/show_results.ipynb#W2sZmlsZQ%3D%3D?line=0'>1</a>\u001b[0m \u001b[39mdef\u001b[39;00m \u001b[39mread_pickle\u001b[39m(filepath):\n\u001b[1;32m      <a href='vscode-notebook-cell:/Users/gadmohamed/Desktop/live%20repos/cleaner-fedmd/show_results.ipynb#W2sZmlsZQ%3D%3D?line=1'>2</a>\u001b[0m     \u001b[39m# Open the pickle file in read-binary mode\u001b[39;00m\n\u001b[0;32m----> <a href='vscode-notebook-cell:/Users/gadmohamed/Desktop/live%20repos/cleaner-fedmd/show_results.ipynb#W2sZmlsZQ%3D%3D?line=2'>3</a>\u001b[0m     \u001b[39mwith\u001b[39;00m \u001b[39mopen\u001b[39;49m(filepath, \u001b[39m'\u001b[39;49m\u001b[39mrb\u001b[39;49m\u001b[39m'\u001b[39;49m) \u001b[39mas\u001b[39;00m f:\n\u001b[1;32m      <a href='vscode-notebook-cell:/Users/gadmohamed/Desktop/live%20repos/cleaner-fedmd/show_results.ipynb#W2sZmlsZQ%3D%3D?line=3'>4</a>\u001b[0m         \u001b[39m# Load the object from the file using pickle.load()\u001b[39;00m\n\u001b[1;32m      <a href='vscode-notebook-cell:/Users/gadmohamed/Desktop/live%20repos/cleaner-fedmd/show_results.ipynb#W2sZmlsZQ%3D%3D?line=4'>5</a>\u001b[0m         data \u001b[39m=\u001b[39m pickle\u001b[39m.\u001b[39mload(f)\n\u001b[1;32m      <a href='vscode-notebook-cell:/Users/gadmohamed/Desktop/live%20repos/cleaner-fedmd/show_results.ipynb#W2sZmlsZQ%3D%3D?line=5'>6</a>\u001b[0m     \u001b[39mreturn\u001b[39;00m data\n",
      "\u001b[0;31mFileNotFoundError\u001b[0m: [Errno 2] No such file or directory: 'result_CIFAR_balanced_5000/init_result.pkl'"
     ]
    }
   ],
   "source": [
    "\n",
    "results_dir = \"result_CIFAR_balanced_5000/\"\n",
    "\n",
    "local_filepath = os.path.join(results_dir, \"init_result.pkl\")\n",
    "fed_filepath = os.path.join(results_dir, \"col_performance.pkl\")\n",
    "central_filepath = os.path.join(results_dir, \"pooled_train_result.pkl\")\n",
    "\n",
    "local_data = read_pickle(local_filepath)\n",
    "fed_data = read_pickle(fed_filepath)\n",
    "central_data = read_pickle(central_filepath)\n",
    "\n",
    "local_accs = [local_data[i]['val_acc'][-1] for i in range(len(local_data))]\n",
    "central_accs = [central_data[i]['val_acc'][-1] for i in range(len(central_data))]\n",
    "\n",
    "# print(local_data[0]['val_acc'])\n",
    "# print(central_data[0]['val_acc'])\n",
    "\n",
    "avg_Local_acc = np.mean(local_accs)\n",
    "avg_Central_acc = np.mean(central_accs)\n",
    "avg_FedMD_acc = np.mean([fed_data[i][-1] for i in range(len(fed_data))])\n",
    "print(\"AVG:: l:{0} c:{1} f:{2}\".format(avg_Local_acc, avg_Central_acc, avg_FedMD_acc))\n",
    "for i in range(len(local_accs)):\n",
    "    # print(\"local acc: {0}, central acc: {1}\".format(local_accs[i], central_accs[i]))\n",
    "    print(\"Local acc: {0}\".format(local_accs[i]))\n",
    "    print(\"Central acc: {0}\".format(central_accs[i]))\n",
    "    print(\"FedMD acc: {0}\".format(fed_data[i][-1]))\n",
    "    print() \n"
   ]
  },
  {
   "cell_type": "code",
   "execution_count": 16,
   "metadata": {},
   "outputs": [
    {
     "name": "stdout",
     "output_type": "stream",
     "text": [
      "average: 0.6585833333333333\n",
      "0.6633333333333333\n",
      "0.6466666666666666\n",
      "0.6166666666666667\n",
      "0.6583333333333333\n",
      "0.6533333333333333\n",
      "0.6583333333333333\n",
      "0.6766666666666666\n",
      "0.6916666666666667\n",
      "0.6633333333333333\n",
      "0.6783333333333333\n",
      "0.6566666666666666\n",
      "0.6383333333333333\n",
      "0.6716666666666666\n",
      "0.605\n",
      "0.6183333333333333\n",
      "0.685\n",
      "0.7016666666666667\n",
      "0.6416666666666667\n",
      "0.6433333333333333\n",
      "0.7033333333333334\n"
     ]
    }
   ],
   "source": [
    "\n",
    "results_dir = \"result_CIFAR_balanced_1000_aug_compress/\"\n",
    "\n",
    "\n",
    "fed_filepath = os.path.join(results_dir, \"col_performance.pkl\")\n",
    "fed_data = read_pickle(fed_filepath)\n",
    "print(\"average: {0}\".format(np.mean([fed_data[i][-1] for i in range(len(fed_data))])))\n",
    "for k, v  in fed_data.items():\n",
    "    print(fed_data[k][-1])\n",
    "# avg_FedMD_acc = np.mean([fed_data[i][-1] for i in range(len(fed_data))])\n",
    "# print(\"AVG:: f:{0}\".format(avg_FedMD_acc))\n",
    "# for i in range(len(local_accs)):\n",
    "#     # print(\"local acc: {0}, central acc: {1}\".format(local_accs[i], central_accs[i]))\n",
    "#     print(\"Local acc: {0}\".format(local_accs[i]))\n",
    "#     print(\"Central acc: {0}\".format(central_accs[i]))\n",
    "#     print(\"FedMD acc: {0}\".format(fed_data[i][-1]))\n",
    "#     print() \n"
   ]
  }
 ],
 "metadata": {
  "kernelspec": {
   "display_name": "env_tf",
   "language": "python",
   "name": "python3"
  },
  "language_info": {
   "codemirror_mode": {
    "name": "ipython",
    "version": 3
   },
   "file_extension": ".py",
   "mimetype": "text/x-python",
   "name": "python",
   "nbconvert_exporter": "python",
   "pygments_lexer": "ipython3",
   "version": "3.9.12"
  },
  "orig_nbformat": 4
 },
 "nbformat": 4,
 "nbformat_minor": 2
}
